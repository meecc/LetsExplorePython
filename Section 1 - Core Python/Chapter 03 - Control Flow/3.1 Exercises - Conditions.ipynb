{
 "cells": [
  {
   "cell_type": "markdown",
   "metadata": {},
   "source": [
    "# Exercises - Conditions\n",
    "\n",
    "Write a program to \n",
    "- perform a quiz of 10 questions and once its completed provide the results to the user\n",
    "\n",
    "- create a guess the number program. Program should ask for user's name in the beginning and then generate a number number between 10 and 100. It should then request user to guess the number, and check if the number guessed is same generated number, if yes then it should print \"Congratulation\" else should provide an indication is guessed number was higher or lower then the generated number \n",
    "\n",
    "- What would be printed from the following Python program section if \"Java\" was input by the user?\n",
    "```python\n",
    "  language=raw_input('Enter your favorite language:')\n",
    "  app=language.contains('thon')\n",
    "  if  app:\n",
    "      print 'Good, ' + str(language) + ' is a good languge'\n",
    "  else:\n",
    "      print 'Nice Choice'\n",
    "```\n",
    "- calculate if the user provided year is a leap year. \n",
    "\n",
    "- assign grades to students at the end of the year. The program must do the following:\n",
    "        Ask for a student number.\n",
    "        Ask for the student’s tutorial mark.\n",
    "        Ask for the student’s test mark.\n",
    "Calculate whether the student’s average so far is high enough for the student to be permitted to write the examination. If the average (mean) of the tutorial and test marks is lower than 40%, the student should automatically get an F grade, and the program should print the grade and exit without performing the following steps.\n",
    "\n",
    "    -- Ask for the student’s examination mark.\n",
    "    \n",
    "    -- Calculate the student’s final mark. The tutorial and test marks should count for 25% of the final mark each, and the final examination should count for the remaining 50%.\n",
    "    \n",
    "    -- Calculate and print the student’s grade, according to the following table:\n",
    "\n",
    "Weighted final score|Final grade \n",
    ":-------------------:|-----\n",
    "80 <= mark <= 100|A \n",
    "70 <= mark < 80|B\n",
    "60 <= mark < 70 | C\n",
    "50 <= mark < 60 | D\n",
    "mark < 50 | E\n",
    "        \n",
    "        \n",
    "- Rewrite the following fragment as an if-ladder (using elif statements):\n",
    "```python\n",
    "if temperature < 0:\n",
    "    print(\"Below freezing\")\n",
    "else:\n",
    "    if temperature < 10:\n",
    "        print(\"Very cold\")\n",
    "    else:\n",
    "        if temperature < 20:\n",
    "            print(Chilly)\n",
    "        else:\n",
    "            if temperature < 30:\n",
    "                print(\"Warm\")\n",
    "            else:\n",
    "                if temperature < 40:\n",
    "                    print(\"Hot\")\n",
    "                else:\n",
    "                    print(\"Too hot\")\n",
    "```"
   ]
  }
 ],
 "metadata": {
  "kernelspec": {
   "display_name": "Python 3",
   "language": "python",
   "name": "python3"
  },
  "language_info": {
   "codemirror_mode": {
    "name": "ipython",
    "version": 3
   },
   "file_extension": ".py",
   "mimetype": "text/x-python",
   "name": "python",
   "nbconvert_exporter": "python",
   "pygments_lexer": "ipython3",
   "version": "3.4.6"
  }
 },
 "nbformat": 4,
 "nbformat_minor": 1
}
