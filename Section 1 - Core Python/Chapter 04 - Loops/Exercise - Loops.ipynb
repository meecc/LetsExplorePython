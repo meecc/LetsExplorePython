{
 "cells": [
  {
   "cell_type": "markdown",
   "metadata": {},
   "source": [
    "# Exercise - Loops"
   ]
  },
  {
   "cell_type": "markdown",
   "metadata": {},
   "source": [
    "* Create a program to count by prime numbers. Ask the user to input a number, then print each prime number up to that number.\n",
    "* Instruct the user to pick an arbitrary number from 1 to 100 and proceed to guess it correctly within seven tries. After each guess, the user must tell whether their number is higher than, lower than, or equal to your guess.\n",
    "* Print all the characters in sentance \"The continue statement is used in a while or for loop\"\n",
    "* Write a program which will find all such numbers which are divisible by 7 but are not a multiple of 5, between 2000 and 3200 (both included). The numbers obtained should be printed in a comma-separated sequence on a single line.\n",
    "* When does while loop in the following code exit?\n",
    "```python\n",
    "x=input('Enter a passkeyid: ')\n",
    "while x != str(10):\n",
    "      print(x),\n",
    "      x=input('Enter a passkeyid: ')\n",
    "key=raw_input(\"Press key...\")\n",
    "```"
   ]
  },
  {
   "cell_type": "markdown",
   "metadata": {},
   "source": [
    "* What would be printed from the following Python code segments?\n",
    "\n",
    "    - ```python\n",
    "    for i in range(10,0,-3):\n",
    "          print(i)\n",
    "```\n",
    "\n",
    "    - ```python\n",
    "    for x in range(1, 6):\n",
    "        for y in range(1, x + 1):\n",
    "            print(x, y)\n",
    "```\n",
    "\n",
    "    - ```python\n",
    "    x=10\n",
    "    while x > 5:\n",
    "         print(x),\n",
    "         x-=1\n",
    "    ```"
   ]
  },
  {
   "cell_type": "code",
   "execution_count": null,
   "metadata": {},
   "outputs": [],
   "source": []
  }
 ],
 "metadata": {
  "kernelspec": {
   "display_name": "Python 3",
   "language": "python",
   "name": "python3"
  },
  "language_info": {
   "codemirror_mode": {
    "name": "ipython",
    "version": 3
   },
   "file_extension": ".py",
   "mimetype": "text/x-python",
   "name": "python",
   "nbconvert_exporter": "python",
   "pygments_lexer": "ipython3",
   "version": "3.4.6"
  }
 },
 "nbformat": 4,
 "nbformat_minor": 2
}
