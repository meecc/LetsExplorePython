{
 "cells": [
  {
   "cell_type": "markdown",
   "metadata": {},
   "source": [
    "# Functions"
   ]
  },
  {
   "cell_type": "markdown",
   "metadata": {},
   "source": [
    "Functions are blocks of code identified by a name, which can receive \"\"predetermined\"\" parameters or not ;).\n",
    "\n",
    "In Python, functions:\n",
    "\n",
    "+ return objects or not.\n",
    "+ can provide documentation using **Doc Strings**.\n",
    "+ Can have their properties changed (usually by decorators).\n",
    "+ Have their own namespace (local scope), and therefore may obscure definitions of global scope.\n",
    "+ Allows parameters to be passed by name. In this case, the parameters can be passed in any order.\n",
    "+ Allows optional parameters (with pre-defined *defaults* ), thus if no parameter are provided then,  pre-defined *default* will be used.\n",
    "\n",
    "**Syntax**:\n",
    "\n",
    "```python\n",
    "def func(parameter1, parameter2=default_value):\n",
    "    \"\"\"\n",
    "    Doc String\n",
    "    \"\"\"\n",
    "    <code block>\n",
    "    return value\n",
    "```"
   ]
  },
  {
   "cell_type": "markdown",
   "metadata": {},
   "source": [
    "> NOTE: The parameters with *default* value must be declared after the ones without *default* value."
   ]
  },
  {
   "cell_type": "code",
   "execution_count": 3,
   "metadata": {},
   "outputs": [
    {
     "name": "stdout",
     "output_type": "stream",
     "text": [
      "TEST TEST \n",
      "\n",
      "    caps returns double the value of the provided value\n",
      "    \n"
     ]
    }
   ],
   "source": [
    "def caps(val):\n",
    "    \"\"\"\n",
    "    caps returns double the value of the provided value\n",
    "    \"\"\"\n",
    "    return val*2\n",
    "\n",
    "a = caps(\"TEST \")\n",
    "print(a)\n",
    "print(caps.__doc__)"
   ]
  },
  {
   "cell_type": "markdown",
   "metadata": {},
   "source": [
    "In the above example, we have `caps` as function, which takes `val` as argument and returns `val * 2`. "
   ]
  },
  {
   "cell_type": "code",
   "execution_count": 6,
   "metadata": {},
   "outputs": [
    {
     "name": "stdout",
     "output_type": "stream",
     "text": [
      "2468\n"
     ]
    }
   ],
   "source": [
    "a = caps(1234)\n",
    "print(a)"
   ]
  },
  {
   "cell_type": "markdown",
   "metadata": {},
   "source": [
    "Functions can return any data type, next example returns a boolean value."
   ]
  },
  {
   "cell_type": "code",
   "execution_count": 5,
   "metadata": {},
   "outputs": [
    {
     "name": "stdout",
     "output_type": "stream",
     "text": [
      "True\n"
     ]
    }
   ],
   "source": [
    "def isValid(data):\n",
    "    if 10 in data:\n",
    "        return True\n",
    "    return False\n",
    "\n",
    "a = isValid([10, 200, 33, \"asf\"])\n",
    "print(a)"
   ]
  },
  {
   "cell_type": "code",
   "execution_count": 22,
   "metadata": {},
   "outputs": [
    {
     "name": "stdout",
     "output_type": "stream",
     "text": [
      "True\n"
     ]
    }
   ],
   "source": [
    "a = isValid((10,))\n",
    "print(a)"
   ]
  },
  {
   "cell_type": "code",
   "execution_count": 25,
   "metadata": {},
   "outputs": [
    {
     "data": {
      "text/plain": [
       "True"
      ]
     },
     "execution_count": 25,
     "metadata": {},
     "output_type": "execute_result"
    }
   ],
   "source": [
    "isValid((10,))"
   ]
  },
  {
   "cell_type": "code",
   "execution_count": 7,
   "metadata": {},
   "outputs": [
    {
     "name": "stdout",
     "output_type": "stream",
     "text": [
      "False\n"
     ]
    }
   ],
   "source": [
    "a = isValid((110,))\n",
    "print(a)"
   ]
  },
  {
   "cell_type": "code",
   "execution_count": 8,
   "metadata": {},
   "outputs": [
    {
     "name": "stdout",
     "output_type": "stream",
     "text": [
      "True\n"
     ]
    }
   ],
   "source": [
    "def isValid_new(data):\n",
    "    return 10 in data\n",
    "\n",
    "print(isValid_new([10, 200, 33, \"asf\"]))"
   ]
  },
  {
   "cell_type": "code",
   "execution_count": 9,
   "metadata": {},
   "outputs": [
    {
     "name": "stdout",
     "output_type": "stream",
     "text": [
      "False\n"
     ]
    }
   ],
   "source": [
    "a = isValid_new((110,))\n",
    "print(a)"
   ]
  },
  {
   "cell_type": "markdown",
   "metadata": {},
   "source": [
    "Example (factorial without recursion):"
   ]
  },
  {
   "cell_type": "code",
   "execution_count": 11,
   "metadata": {},
   "outputs": [
    {
     "name": "stdout",
     "output_type": "stream",
     "text": [
      "1 -> 1\n",
      "2 -> 2\n",
      "3 -> 6\n",
      "4 -> 24\n",
      "5 -> 120\n"
     ]
    }
   ],
   "source": [
    "def fatorial(n):#{\n",
    "    n = n if n > 1 else 1\n",
    "    j = 1\n",
    "    for i in range(1, n + 1):\n",
    "        j = j * i\n",
    "    return j\n",
    "    #}\n",
    "\n",
    "# Testing...\n",
    "for i in range(1, 6):\n",
    "    print (i, '->', fatorial(i))"
   ]
  },
  {
   "cell_type": "markdown",
   "metadata": {},
   "source": [
    "*Example (factorial with recursion)*:"
   ]
  },
  {
   "cell_type": "code",
   "execution_count": 12,
   "metadata": {},
   "outputs": [
    {
     "name": "stdout",
     "output_type": "stream",
     "text": [
      "120\n"
     ]
    }
   ],
   "source": [
    "def factorial(num):\n",
    "    \"\"\"Fatorial implemented with recursion.\"\"\"\n",
    "    if num <= 1:\n",
    "        return 1\n",
    "    else:\n",
    "        return(num * factorial(num - 1))\n",
    "\n",
    "# Testing factorial()\n",
    "print (factorial(5))\n",
    "\n",
    "# 5 * (4 * (3 * (2) * (1))"
   ]
  },
  {
   "cell_type": "markdown",
   "metadata": {},
   "source": [
    "Example (Fibonacci series with recursion):"
   ]
  },
  {
   "cell_type": "code",
   "execution_count": 13,
   "metadata": {},
   "outputs": [
    {
     "name": "stdout",
     "output_type": "stream",
     "text": [
      "1 => 1\n",
      "2 => 2\n",
      "3 => 3\n",
      "4 => 5\n",
      "5 => 8\n"
     ]
    }
   ],
   "source": [
    "def fib(n):\n",
    "    \"\"\"Fibonacci:\n",
    "    fib(n) = fib(n - 1) + fib(n - 2) se n > 1\n",
    "    fib(n) = 1 se n <= 1\n",
    "    \"\"\"\n",
    "    if n > 1:\n",
    "        return fib(n - 1) + fib(n - 2)\n",
    "    else:\n",
    "        return 1\n",
    "\n",
    "# Show Fibonacci from 1 to 5\n",
    "for i in [1, 2, 3, 4, 5]:\n",
    "    print (i, '=>', fib(i))"
   ]
  },
  {
   "cell_type": "markdown",
   "metadata": {},
   "source": [
    "Example (Fibonacci series without recursion):"
   ]
  },
  {
   "cell_type": "code",
   "execution_count": 14,
   "metadata": {},
   "outputs": [
    {
     "name": "stdout",
     "output_type": "stream",
     "text": [
      "1 => 1\n",
      "2 => 2\n",
      "3 => 3\n",
      "4 => 5\n",
      "5 => 8\n"
     ]
    }
   ],
   "source": [
    "def fib(n):    \n",
    "    # the first two values\n",
    "    l = [1, 1]\n",
    "    \n",
    "    # Calculating the others\n",
    "    for i in range(2, n + 1):\n",
    "        l.append(l[i -1] + l[i - 2])\n",
    "        \n",
    "    return l[n]\n",
    "\n",
    "# Show Fibonacci from 1 to 5\n",
    "for i in [1, 2, 3, 4, 5]:\n",
    "    print (i, '=>', fib(i))"
   ]
  },
  {
   "cell_type": "code",
   "execution_count": 15,
   "metadata": {},
   "outputs": [
    {
     "name": "stdout",
     "output_type": "stream",
     "text": [
      "1 2\n",
      "3\n",
      "2 1\n"
     ]
    },
    {
     "data": {
      "text/plain": [
       "3"
      ]
     },
     "execution_count": 15,
     "metadata": {},
     "output_type": "execute_result"
    }
   ],
   "source": [
    "def test(a, b):\n",
    "    print(a, b)\n",
    "    return a + b\n",
    "    \n",
    "print(test(1, 2))\n",
    "test(b=1, a=2)"
   ]
  },
  {
   "cell_type": "code",
   "execution_count": 18,
   "metadata": {},
   "outputs": [],
   "source": [
    "def test_abc(a, b, c):\n",
    "    print(a, b, c)\n",
    "    return a + b + c"
   ]
  },
  {
   "cell_type": "code",
   "execution_count": 19,
   "metadata": {},
   "outputs": [
    {
     "ename": "SyntaxError",
     "evalue": "non-keyword arg after keyword arg (<ipython-input-19-807f351864c5>, line 1)",
     "output_type": "error",
     "traceback": [
      "\u001b[0;36m  File \u001b[0;32m\"<ipython-input-19-807f351864c5>\"\u001b[0;36m, line \u001b[0;32m1\u001b[0m\n\u001b[0;31m    test_abc(b=1, a=2, 3)\u001b[0m\n\u001b[0m                      ^\u001b[0m\n\u001b[0;31mSyntaxError\u001b[0m\u001b[0;31m:\u001b[0m non-keyword arg after keyword arg\n"
     ]
    }
   ],
   "source": [
    "test_abc(b=1, a=2, 3)"
   ]
  },
  {
   "cell_type": "markdown",
   "metadata": {},
   "source": [
    "> **NOTE**: We cannot have non-keyword arguments after keyword arguments"
   ]
  },
  {
   "cell_type": "code",
   "execution_count": 21,
   "metadata": {},
   "outputs": [
    {
     "name": "stdout",
     "output_type": "stream",
     "text": [
      "2 2 3\n"
     ]
    },
    {
     "data": {
      "text/plain": [
       "7"
      ]
     },
     "execution_count": 21,
     "metadata": {},
     "output_type": "execute_result"
    }
   ],
   "source": [
    "test_abc(2, c=3, b=2)"
   ]
  },
  {
   "cell_type": "code",
   "execution_count": 23,
   "metadata": {},
   "outputs": [
    {
     "name": "stdout",
     "output_type": "stream",
     "text": [
      "2 2 3\n"
     ]
    },
    {
     "data": {
      "text/plain": [
       "7"
      ]
     },
     "execution_count": 23,
     "metadata": {},
     "output_type": "execute_result"
    }
   ],
   "source": [
    "test_abc(2, b=2, c=3)"
   ]
  },
  {
   "cell_type": "markdown",
   "metadata": {},
   "source": [
    "Functions can also not return anything like in the below example"
   ]
  },
  {
   "cell_type": "code",
   "execution_count": 24,
   "metadata": {},
   "outputs": [],
   "source": [
    "def test_new(a, b, c):\n",
    "    pass"
   ]
  },
  {
   "cell_type": "markdown",
   "metadata": {},
   "source": [
    "Functions can also return multiple values, usually in form of tuple."
   ]
  },
  {
   "cell_type": "code",
   "execution_count": 25,
   "metadata": {},
   "outputs": [
    {
     "name": "stdout",
     "output_type": "stream",
     "text": [
      "2 5\n",
      "4\n",
      "<class 'int'>\n",
      "25\n",
      "<class 'int'>\n"
     ]
    }
   ],
   "source": [
    "def test(a, b):\n",
    "    print(a, b)\n",
    "    return a*a, b*b\n",
    "\n",
    "x, a = test(2, 5)\n",
    "\n",
    "print(x)\n",
    "print(type(x))\n",
    "print(a)\n",
    "print(type(a))\n"
   ]
  },
  {
   "cell_type": "code",
   "execution_count": 27,
   "metadata": {},
   "outputs": [
    {
     "name": "stdout",
     "output_type": "stream",
     "text": [
      "2 5\n",
      "<class 'tuple'>\n"
     ]
    }
   ],
   "source": [
    "print(type(test(2, 5)))"
   ]
  },
  {
   "cell_type": "code",
   "execution_count": 32,
   "metadata": {},
   "outputs": [],
   "source": [
    "def test(a, b):\n",
    "    print(a, b)\n",
    "    return a*a, b*b, a*b"
   ]
  },
  {
   "cell_type": "code",
   "execution_count": 33,
   "metadata": {},
   "outputs": [
    {
     "name": "stdout",
     "output_type": "stream",
     "text": [
      "2 5\n",
      "(4, 25, 10)\n",
      "<class 'tuple'>\n"
     ]
    }
   ],
   "source": [
    "x = test(2 , 5)\n",
    "print(x)\n",
    "print(type(x))"
   ]
  },
  {
   "cell_type": "code",
   "execution_count": 34,
   "metadata": {},
   "outputs": [
    {
     "name": "stdout",
     "output_type": "stream",
     "text": [
      "2 5\n"
     ]
    },
    {
     "ename": "ValueError",
     "evalue": "need more than 3 values to unpack",
     "output_type": "error",
     "traceback": [
      "\u001b[0;31m---------------------------------------------------------------------------\u001b[0m",
      "\u001b[0;31mValueError\u001b[0m                                Traceback (most recent call last)",
      "\u001b[0;32m<ipython-input-34-6dc2863bf9f6>\u001b[0m in \u001b[0;36m<module>\u001b[0;34m()\u001b[0m\n\u001b[0;32m----> 1\u001b[0;31m \u001b[0mx\u001b[0m\u001b[0;34m,\u001b[0m \u001b[0ma\u001b[0m\u001b[0;34m,\u001b[0m \u001b[0mb\u001b[0m\u001b[0;34m,\u001b[0m \u001b[0md\u001b[0m \u001b[0;34m=\u001b[0m \u001b[0mtest\u001b[0m\u001b[0;34m(\u001b[0m\u001b[0;36m2\u001b[0m \u001b[0;34m,\u001b[0m \u001b[0;36m5\u001b[0m\u001b[0;34m)\u001b[0m\u001b[0;34m\u001b[0m\u001b[0m\n\u001b[0m\u001b[1;32m      2\u001b[0m \u001b[0mprint\u001b[0m\u001b[0;34m(\u001b[0m\u001b[0mx\u001b[0m\u001b[0;34m)\u001b[0m\u001b[0;34m\u001b[0m\u001b[0m\n\u001b[1;32m      3\u001b[0m \u001b[0mprint\u001b[0m\u001b[0;34m(\u001b[0m\u001b[0mtype\u001b[0m\u001b[0;34m(\u001b[0m\u001b[0mx\u001b[0m\u001b[0;34m)\u001b[0m\u001b[0;34m)\u001b[0m\u001b[0;34m\u001b[0m\u001b[0m\n\u001b[1;32m      4\u001b[0m \u001b[0mprint\u001b[0m\u001b[0;34m(\u001b[0m\u001b[0ma\u001b[0m\u001b[0;34m)\u001b[0m\u001b[0;34m\u001b[0m\u001b[0m\n\u001b[1;32m      5\u001b[0m \u001b[0mprint\u001b[0m\u001b[0;34m(\u001b[0m\u001b[0mtype\u001b[0m\u001b[0;34m(\u001b[0m\u001b[0ma\u001b[0m\u001b[0;34m)\u001b[0m\u001b[0;34m)\u001b[0m\u001b[0;34m\u001b[0m\u001b[0m\n",
      "\u001b[0;31mValueError\u001b[0m: need more than 3 values to unpack"
     ]
    }
   ],
   "source": []
  },
  {
   "cell_type": "code",
   "execution_count": 47,
   "metadata": {},
   "outputs": [
    {
     "name": "stdout",
     "output_type": "stream",
     "text": [
      "2 5\n",
      "(4, 25, 'asdf')\n",
      "<class 'tuple'>\n"
     ]
    }
   ],
   "source": [
    "def test(a, b):\n",
    "    print(a, b)\n",
    "    return a*a, b*b, \"asdf\"\n",
    "\n",
    "x = test(2 , 5)\n",
    "print(x)\n",
    "print(type(x))"
   ]
  },
  {
   "cell_type": "code",
   "execution_count": null,
   "metadata": {},
   "outputs": [],
   "source": []
  },
  {
   "cell_type": "code",
   "execution_count": 48,
   "metadata": {},
   "outputs": [
    {
     "name": "stdout",
     "output_type": "stream",
     "text": [
      "2 5\n",
      "(2, 5)\n",
      "10 1000\n",
      "(10, 1000)\n"
     ]
    }
   ],
   "source": [
    "def test(a=100, b=1000):\n",
    "    print(a, b)\n",
    "    return a, b\n",
    "\n",
    "x = test(2, 5)\n",
    "print(x)\n",
    "print(test(10))"
   ]
  },
  {
   "cell_type": "code",
   "execution_count": null,
   "metadata": {},
   "outputs": [],
   "source": []
  },
  {
   "cell_type": "code",
   "execution_count": 49,
   "metadata": {},
   "outputs": [
    {
     "name": "stdout",
     "output_type": "stream",
     "text": [
      "100 10\n",
      "(100, 10)\n",
      "101 1000\n",
      "(101, 1000)\n"
     ]
    }
   ],
   "source": [
    "def test(a=100, b=1000):\n",
    "    print(a, b)\n",
    "    return a, b\n",
    "\n",
    "print(test(b=10))\n",
    "print(test(101))"
   ]
  },
  {
   "cell_type": "code",
   "execution_count": 2,
   "metadata": {},
   "outputs": [
    {
     "name": "stdout",
     "output_type": "stream",
     "text": [
      "10 2 100 5\n",
      "(10, 2, 100, 5)\n",
      "1 2 3 4\n",
      "(1, 2, 3, 4)\n",
      "10 2 100 1000\n",
      "(10, 2, 100, 1000)\n"
     ]
    }
   ],
   "source": [
    "def test(d, c, a=100, b=1000):\n",
    "    print(d, c, a, b)\n",
    "    return d, c, a, b\n",
    "\n",
    "x = test(c=2, d=10, b=5)\n",
    "print(x)\n",
    "x = test(1, 2, 3, 4)\n",
    "print(x)\n",
    "print(test(10, 2))"
   ]
  },
  {
   "cell_type": "markdown",
   "metadata": {},
   "source": [
    "Example (RGB conversion):"
   ]
  },
  {
   "cell_type": "code",
   "execution_count": 5,
   "metadata": {},
   "outputs": [
    {
     "name": "stdout",
     "output_type": "stream",
     "text": [
      "#c8c8ff\n",
      "#ffc8c8\n",
      "(200, 200, 255)\n"
     ]
    }
   ],
   "source": [
    "def rgb_html(r=0, g=0, b=0):\n",
    "    \"\"\"Converts R, G, B to #RRGGBB\"\"\"\n",
    "\n",
    "    return '#%02x%02x%02x' % (r, g, b)\n",
    "\n",
    "def html_rgb(color='#000000'):\n",
    "    \"\"\"Converts #RRGGBB em R, G, B\"\"\"\n",
    "\n",
    "    if color.startswith('#'): color = color[1:]\n",
    "\n",
    "    r = int(color[:2], 16)\n",
    "    g = int(color[2:4], 16)\n",
    "    b = int(color[4:], 16)\n",
    "\n",
    "    return r, g, b # a sequence\n",
    "\n",
    "\n",
    "print (rgb_html(200, 200, 255))\n",
    "print (rgb_html(b=200, g=200, r=255)) # what's happened? \n",
    "print (html_rgb('#c8c8ff'))"
   ]
  },
  {
   "cell_type": "markdown",
   "metadata": {},
   "source": [
    "> **Note**: non-default argument's should always follow default argument"
   ]
  },
  {
   "cell_type": "code",
   "execution_count": 2,
   "metadata": {},
   "outputs": [
    {
     "ename": "SyntaxError",
     "evalue": "non-default argument follows default argument (<ipython-input-2-e01f44de5150>, line 1)",
     "output_type": "error",
     "traceback": [
      "\u001b[0;36m  File \u001b[0;32m\"<ipython-input-2-e01f44de5150>\"\u001b[0;36m, line \u001b[0;32m1\u001b[0m\n\u001b[0;31m    def test(d, a=100, c, b=1000):\u001b[0m\n\u001b[0m            ^\u001b[0m\n\u001b[0;31mSyntaxError\u001b[0m\u001b[0;31m:\u001b[0m non-default argument follows default argument\n"
     ]
    }
   ],
   "source": [
    "def test(d, a=100, c, b=1000):\n",
    "    print(d, c, a, b)\n",
    "    return d, c, a, b\n",
    "\n",
    "x = test(c=2, d=10, b=5)\n",
    "print(x)\n",
    "x = test(1, 2, 3, 4)\n",
    "print(x)\n",
    "print(test(10, 2))"
   ]
  },
  {
   "cell_type": "code",
   "execution_count": 4,
   "metadata": {},
   "outputs": [
    {
     "name": "stdout",
     "output_type": "stream",
     "text": [
      "10 2 100 5\n",
      "(10, 2, 100, 5)\n",
      "2 1 3 4\n",
      "(2, 1, 3, 4)\n",
      "2 10 100 1000\n",
      "(2, 10, 100, 1000)\n"
     ]
    }
   ],
   "source": [
    "def test(c, d, a=100, b=1000):\n",
    "    print(d, c, a, b)\n",
    "    return d, c, a, b\n",
    "\n",
    "x = test(c=2, d=10, b=5)\n",
    "print(x)\n",
    "x = test(1, 2, 3, 4)\n",
    "print(x)\n",
    "print(test(10, 2))"
   ]
  },
  {
   "cell_type": "markdown",
   "metadata": {},
   "source": [
    "> **Observations**:\n",
    "\n",
    "> + The  arguments with default value must come last, after the non-default arguments.\n",
    "> + The default value for a parameter is calculated when the function is defined.\n",
    "> + The arguments passed without an identifier are received by the function in the form of a list.\n",
    "> + The arguments passed to the function with an identifier are received in the form of a dictionary.\n",
    "> + The parameters passed to the function with an identifier should come at the end of the parameter list."
   ]
  },
  {
   "cell_type": "markdown",
   "metadata": {},
   "source": [
    "Example of how to get all parameters:"
   ]
  },
  {
   "cell_type": "code",
   "execution_count": 18,
   "metadata": {},
   "outputs": [
    {
     "name": "stdout",
     "output_type": "stream",
     "text": [
      "('weigh', 10)\n",
      "{'unit': 'k'}\n"
     ]
    }
   ],
   "source": [
    "# *args - arguments without name (list)\n",
    "# **kargs - arguments with name (ditcionary)\n",
    "\n",
    "def func(*args, **kargs):\n",
    "    print (args)\n",
    "    print (kargs)\n",
    "\n",
    "func('weigh', 10, unit='k')\n"
   ]
  },
  {
   "cell_type": "markdown",
   "metadata": {},
   "source": [
    "In the example, `kargs` will receive the named arguments and `args` will receive the others.\n",
    "\n",
    "The interpreter has some *builtin* functions defined, including `sorted()`, which orders sequences, and `cmp()`, which makes comparisons between two arguments and returns -1 if the first element is greater, 0 (zero) if they are equal, or 1 if the latter is higher. This function is used by the routine of ordering, a behavior that can be modified.\n",
    "\n",
    "Example:"
   ]
  },
  {
   "cell_type": "code",
   "execution_count": 21,
   "metadata": {},
   "outputs": [
    {
     "name": "stdout",
     "output_type": "stream",
     "text": [
      "('weigh', 10)\n",
      "{'val': {'age': 25, 'name': 'Mohan kumar Shah'}, 'unit': 'k'}\n"
     ]
    }
   ],
   "source": [
    "def func(*args, **kargs):\n",
    "    print (args)\n",
    "    print (kargs)\n",
    "a = {\n",
    "    \"name\": \"Mohan kumar Shah\",\n",
    "    \"age\": 24 + 1\n",
    "}\n",
    "func('weigh', 10, unit='k', val=a)"
   ]
  },
  {
   "cell_type": "code",
   "execution_count": 24,
   "metadata": {},
   "outputs": [
    {
     "name": "stdout",
     "output_type": "stream",
     "text": [
      "('weigh', 10, 'test')\n"
     ]
    }
   ],
   "source": [
    "def func(*args):\n",
    "    print(args)\n",
    "\n",
    "func('weigh', 10, \"test\")"
   ]
  },
  {
   "cell_type": "code",
   "execution_count": 25,
   "metadata": {},
   "outputs": [
    {
     "name": "stdout",
     "output_type": "stream",
     "text": [
      "('List:', [(4, 3), (5, 1), (7, 2), (9, 0)])\n"
     ]
    }
   ],
   "source": [
    "data = [(4, 3), (5, 1), (7, 2), (9, 0)]\n",
    "\n",
    "# Comparing by the last element\n",
    "def _cmp(x, y):\n",
    "    return cmp(x[-1], y[-1])\n",
    "\n",
    "print ('List:', data)"
   ]
  },
  {
   "cell_type": "markdown",
   "metadata": {},
   "source": [
    "Python also has a *builtin* function `eval()`, which evaluates code (source or object) and returns the value.\n",
    "\n",
    "Example:"
   ]
  },
  {
   "cell_type": "code",
   "execution_count": 1,
   "metadata": {},
   "outputs": [
    {
     "name": "stdout",
     "output_type": "stream",
     "text": [
      "9.3\n"
     ]
    }
   ],
   "source": [
    "print (eval('12. / 2 + 3.3'))"
   ]
  },
  {
   "cell_type": "code",
   "execution_count": 1,
   "metadata": {},
   "outputs": [
    {
     "name": "stdout",
     "output_type": "stream",
     "text": [
      "Janki Mohan Johri\n",
      "Mayank Johri\n"
     ]
    }
   ],
   "source": [
    "def listing(lst):\n",
    "    for l in lst:\n",
    "        print(l)\n",
    "       \n",
    "d = {\"Mayank Johri\":40, \"Janki Mohan Johri\":68}\n",
    "listing(d)"
   ]
  },
  {
   "cell_type": "code",
   "execution_count": 17,
   "metadata": {},
   "outputs": [
    {
     "name": "stdout",
     "output_type": "stream",
     "text": [
      "{'age': 24, 'name': 'Mohan'}\n",
      "{'age': 25, 'name': 'Mohan kumar Shah'}\n"
     ]
    }
   ],
   "source": [
    "d = {\n",
    "    \"name\": \"Mohan\",\n",
    "    \"age\": 24\n",
    "}\n",
    "\n",
    "a = {\n",
    "    \"name\": \"Mohan kumar Shah\",\n",
    "    \"age\": 24 + 1\n",
    "}\n",
    "\n",
    "def process_dict(d=a):\n",
    "    print(d)\n",
    "\n",
    "process_dict(d)\n",
    "process_dict()"
   ]
  }
 ],
 "metadata": {
  "kernelspec": {
   "display_name": "Python 3",
   "language": "python",
   "name": "python3"
  },
  "language_info": {
   "codemirror_mode": {
    "name": "ipython",
    "version": 3
   },
   "file_extension": ".py",
   "mimetype": "text/x-python",
   "name": "python",
   "nbconvert_exporter": "python",
   "pygments_lexer": "ipython3",
   "version": "3.4.6"
  }
 },
 "nbformat": 4,
 "nbformat_minor": 1
}
