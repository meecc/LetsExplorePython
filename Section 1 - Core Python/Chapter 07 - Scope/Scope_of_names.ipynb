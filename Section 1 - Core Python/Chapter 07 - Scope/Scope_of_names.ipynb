{
 "cells": [
  {
   "cell_type": "markdown",
   "metadata": {},
   "source": [
    "# Chapter 7: Scope of names\n",
    "_____________________________\n",
    "\n",
    "The scope of names (variables) are maintained by **_Namespaces_**, which are dictionaries containing the names of the objects (references) and the objects themselves.\n",
    "\n",
    "As we have seen that names are not pre-defined thus Python uses the code block of the assignment of a name to associate it with a particular namespace. In other words, the place where you assign a name in your source code determines its scope of visibility.\n",
    "\n",
    "Python uses `lexical` scoping, which means that variable scopes are determined entirely by their locations in the source code and not by function calls. "
   ]
  },
  {
   "cell_type": "markdown",
   "metadata": {},
   "source": [
    "Rules for names inside **Functions** are as follows \n",
    "\n",
    "* Names assigned inside a `def` can only be seen by the code within that `def` and cannot be referred from outside the function.\n",
    "* Names assigned inside a `def` do'nt clash with variables from outside the `def`. i.e. a name assigned outside a `def` is a completely different variable from a name assigned inside that `def`.\n",
    "* If a variable is assigned outside all `defs`, then it is global to the entire file and can be accessed with the help of `global` keyword inside the `def`.\n",
    "\n",
    "\n",
    "Normally, the names are defined in two dictionaries, which can be accessed through the functions `locals()` and `globals()`. These dictionaries are updated dynamically at <span class=\"note\" title=\"Although the dictionaries returned by locals() and globals() can be changed directly, this should be avoided because it can have undesirable effects.\">runtime</span>.\n",
    "\n",
    "![Namespaces](files/scope_1.png)\n",
    "\n",
    "Global variables can be overshadowed by local variables (because the local scope is consulted before the global scope). To avoid this, you must declare the variable as global in the local scope.\n",
    "\n",
    "example:"
   ]
  },
  {
   "cell_type": "code",
   "execution_count": 5,
   "metadata": {},
   "outputs": [
    {
     "name": "stdout",
     "output_type": "stream",
     "text": [
      "12\n",
      "10\n"
     ]
    }
   ],
   "source": [
    "a = 10\n",
    "\n",
    "def test():\n",
    "    a = 12 \n",
    "    print(a)\n",
    "\n",
    "test()\n",
    "print(a)"
   ]
  },
  {
   "cell_type": "code",
   "execution_count": 4,
   "metadata": {},
   "outputs": [
    {
     "name": "stdout",
     "output_type": "stream",
     "text": [
      "error: local variable 'a' referenced before assignment\n"
     ]
    }
   ],
   "source": [
    "a = 10\n",
    "\n",
    "def test():\n",
    "    print(a)\n",
    "    a = 12 \n",
    "try:\n",
    "    test()\n",
    "    print(a)\n",
    "except Exception as e:\n",
    "    print(\"error:\", e)"
   ]
  },
  {
   "cell_type": "code",
   "execution_count": 6,
   "metadata": {},
   "outputs": [
    {
     "name": "stdout",
     "output_type": "stream",
     "text": [
      "10\n",
      "10\n"
     ]
    }
   ],
   "source": [
    "a = 10\n",
    "\n",
    "def test():\n",
    "    \"\"\"\n",
    "    - Only for viewing value of Global Variable\n",
    "    - Cannot change the global variable\n",
    "    \"\"\"\n",
    "    print(a)\n",
    "\n",
    "test()\n",
    "print(a)"
   ]
  },
  {
   "cell_type": "code",
   "execution_count": 7,
   "metadata": {},
   "outputs": [
    {
     "name": "stdout",
     "output_type": "stream",
     "text": [
      "10\n",
      "10\n",
      "12\n",
      "139910599759424\n",
      "139910599759424\n",
      "12\n"
     ]
    }
   ],
   "source": [
    "a = 10\n",
    "\n",
    "def test():\n",
    "    \"\"\"\n",
    "    - When you need to update the value of Global variable\n",
    "    \"\"\"\n",
    "    global a\n",
    "    print(a)\n",
    "    a = 12\n",
    "    print(a)\n",
    "    print(id(a))\n",
    "#     print(locals())\n",
    "#     print(globals())\n",
    "\n",
    "print(a)\n",
    "test()\n",
    "print(id(a))\n",
    "print(a)"
   ]
  },
  {
   "cell_type": "code",
   "execution_count": 12,
   "metadata": {},
   "outputs": [
    {
     "name": "stdout",
     "output_type": "stream",
     "text": [
      "10\n",
      "10\n"
     ]
    }
   ],
   "source": []
  },
  {
   "cell_type": "code",
   "execution_count": 11,
   "metadata": {},
   "outputs": [
    {
     "name": "stdout",
     "output_type": "stream",
     "text": [
      "10\n",
      "12\n"
     ]
    }
   ],
   "source": [
    "def test():\n",
    "    \"\"\"\n",
    "    Updating the data\n",
    "    \"\"\"\n",
    "    global glb\n",
    "    print(glb)\n",
    "    glb = 12\n",
    "\n",
    "glb = 10    \n",
    "test()\n",
    "print(glb)"
   ]
  },
  {
   "cell_type": "code",
   "execution_count": 10,
   "metadata": {},
   "outputs": [
    {
     "name": "stdout",
     "output_type": "stream",
     "text": [
      "name 'glb' is not defined\n"
     ]
    }
   ],
   "source": [
    "def test():\n",
    "    \"\"\"\n",
    "    Updating the data\n",
    "    \"\"\"\n",
    "    global glb\n",
    "    print(glb)\n",
    "    glb = 12\n",
    "\n",
    "try:\n",
    "    test()\n",
    "    glb = 10\n",
    "    print(glb)\n",
    "except Exception as e:\n",
    "    print(e)"
   ]
  },
  {
   "cell_type": "code",
   "execution_count": 13,
   "metadata": {},
   "outputs": [
    {
     "name": "stdout",
     "output_type": "stream",
     "text": [
      "12\n",
      "12\n"
     ]
    }
   ],
   "source": [
    "def test():\n",
    "    \"\"\"\n",
    "    Updating the data\n",
    "    \"\"\"\n",
    "    global glb1\n",
    "    glb1 = 12\n",
    "    print(glb1)\n",
    "   \n",
    "test()\n",
    "print(glb1)"
   ]
  },
  {
   "cell_type": "code",
   "execution_count": 16,
   "metadata": {},
   "outputs": [
    {
     "name": "stdout",
     "output_type": "stream",
     "text": [
      "Chennai Riders\n",
      "Pune Rocks\n"
     ]
    }
   ],
   "source": [
    "a = 10\n",
    "\n",
    "def test():\n",
    "    global a\n",
    "    a = \"Chennai Riders\"\n",
    "    print(a)\n",
    "    a = \"Pune Rocks\"\n",
    "\n",
    "test()\n",
    "print(a)"
   ]
  },
  {
   "cell_type": "markdown",
   "metadata": {},
   "source": [
    "#### Wasted global usage"
   ]
  },
  {
   "cell_type": "code",
   "execution_count": 15,
   "metadata": {},
   "outputs": [
    {
     "name": "stdout",
     "output_type": "stream",
     "text": [
      "Pune Rocks\n",
      "{'a': 'Pune Rocks'}\n",
      "~~~~~~~~~~~~~~~~~~~~\n",
      "10\n"
     ]
    }
   ],
   "source": [
    "\n",
    "global a\n",
    "a = 10\n",
    "\n",
    "def test():\n",
    "    a = \"Pune Rocks\"\n",
    "    print(a)\n",
    "    print(locals())\n",
    "    print(\"~\"*20)\n",
    "#     print(globals())\n",
    "    \n",
    "test()\n",
    "print(a)"
   ]
  },
  {
   "cell_type": "code",
   "execution_count": 4,
   "metadata": {},
   "outputs": [
    {
     "name": "stdout",
     "output_type": "stream",
     "text": [
      "10\n",
      "{'a': 'Pune Rocks'}\n",
      "Pune Rocks\n",
      "27\n",
      "27\n"
     ]
    }
   ],
   "source": [
    "a = 10\n",
    "\n",
    "def test(a):\n",
    "    print(a)\n",
    "    a = \"Pune Rocks\"\n",
    "    print(locals())\n",
    "    return a\n",
    "    \n",
    "a= test(a)\n",
    "print(a)\n",
    "# print(locals())\n",
    "print(len(locals()))\n",
    "print(len(globals()))"
   ]
  },
  {
   "cell_type": "code",
   "execution_count": 17,
   "metadata": {},
   "outputs": [
    {
     "name": "stdout",
     "output_type": "stream",
     "text": [
      "21\n"
     ]
    }
   ],
   "source": [
    "def addlist(lists):\n",
    "    \"\"\"\n",
    "    Add lists of lists, recursively\n",
    "    the result is global\n",
    "    \"\"\"\n",
    "    global add\n",
    "    for item in lists:\n",
    "        if isinstance(item, list): # If item type is list\n",
    "            addlist(item)\n",
    "        else:\n",
    "            add += item # add = add + item\n",
    "\n",
    "add = 0\n",
    "addlist([[1, 2], [3, 4, 5], 6])\n",
    "\n",
    "print(add)"
   ]
  },
  {
   "cell_type": "code",
   "execution_count": 5,
   "metadata": {},
   "outputs": [
    {
     "name": "stdout",
     "output_type": "stream",
     "text": [
      "41\n"
     ]
    }
   ],
   "source": [
    "# add = 10\n",
    "\n",
    "def addlist(lists):\n",
    "    \"\"\"\n",
    "    Add lists of lists, recursively\n",
    "    the result is global\n",
    "    \"\"\"\n",
    "    global add2\n",
    "    \n",
    "    for item in lists:\n",
    "        if isinstance(item, list): # If item type is list\n",
    "            addlist(item)\n",
    "        else:\n",
    "            if 'add2' in globals():\n",
    "                add2 += item\n",
    "            else:\n",
    "                print(\"Creating add\")\n",
    "                add2 = item\n",
    "\n",
    "addlist([[1, 2], [3, 4, 5], 6])\n",
    "\n",
    "print(add2)"
   ]
  },
  {
   "cell_type": "markdown",
   "metadata": {},
   "source": [
    "Using global variables is not considered a good development practice, as they make the system harder to understand, so it is better to avoid their use. The same applies to overshadowing variables."
   ]
  },
  {
   "cell_type": "code",
   "execution_count": 20,
   "metadata": {},
   "outputs": [
    {
     "name": "stdout",
     "output_type": "stream",
     "text": [
      "local variable 'x' referenced before assignment\n",
      "11\n"
     ]
    }
   ],
   "source": [
    "add = 10\n",
    "\n",
    "def addlist(lists):\n",
    "    \"\"\"\n",
    "    Add lists of lists, recursively\n",
    "    the result is global\n",
    "    \"\"\"\n",
    "    global add\n",
    "    \n",
    "    for item in lists:\n",
    "        if isinstance(item, list): # If item type is list\n",
    "            addlist(item)\n",
    "            x = 100\n",
    "        else:\n",
    "            add += item\n",
    "            \n",
    "        print(x)\n",
    "\n",
    "try:\n",
    "    addlist([[1, 2], [3, 4, 5], 6])\n",
    "except Exception as e:\n",
    "    print(e)\n",
    "print(add)"
   ]
  },
  {
   "cell_type": "code",
   "execution_count": 21,
   "metadata": {},
   "outputs": [
    {
     "name": "stdout",
     "output_type": "stream",
     "text": [
      "0\n",
      "1\n"
     ]
    }
   ],
   "source": [
    "def outer():\n",
    "    a = 0\n",
    "    b = 1\n",
    "\n",
    "    def inner():\n",
    "        print(a)\n",
    "        print(b)\n",
    "\n",
    "    inner()\n",
    "    \n",
    "outer()"
   ]
  },
  {
   "cell_type": "markdown",
   "metadata": {},
   "source": [
    "**NOTE:** - A special quirk of Python is that – if no global statement is in effect – assignments to names always go into the innermost scope. Assignments do not copy data — they just bind names to objects."
   ]
  },
  {
   "cell_type": "code",
   "execution_count": 2,
   "metadata": {},
   "outputs": [
    {
     "name": "stdout",
     "output_type": "stream",
     "text": [
      "0\n",
      "local variable 'b' referenced before assignment\n"
     ]
    }
   ],
   "source": [
    "def outer():\n",
    "    a = 0\n",
    "    b = 1\n",
    "\n",
    "    def inner():\n",
    "        print(a)\n",
    "        print(b)\n",
    "        b = 4\n",
    "\n",
    "    inner()\n",
    "try:\n",
    "    outer()\n",
    "except Exception as e:\n",
    "    print(e)"
   ]
  },
  {
   "cell_type": "code",
   "execution_count": 5,
   "metadata": {},
   "outputs": [
    {
     "name": "stdout",
     "output_type": "stream",
     "text": [
      "outer:  0\n",
      "inner:  200\n",
      "base\n",
      "200\n",
      "10\n"
     ]
    }
   ],
   "source": [
    "def outer():\n",
    "    a = 0\n",
    "    print(\"outer: \", a)\n",
    "    \n",
    "    def inner():\n",
    "        global a\n",
    "        print(\"inner: \", a)\n",
    "        \n",
    "    inner()\n",
    "\n",
    "a = 200\n",
    "b = 10\n",
    "outer()\n",
    "print(\"base\")\n",
    "print(a)\n",
    "print(b)"
   ]
  },
  {
   "cell_type": "code",
   "execution_count": 16,
   "metadata": {},
   "outputs": [],
   "source": [
    "def power(x):\n",
    "    def inner(y):\n",
    "        return y ** x\n",
    "    return inner\n",
    "\n",
    "square = power(2)\n",
    "cube = power(3)"
   ]
  },
  {
   "cell_type": "code",
   "execution_count": 20,
   "metadata": {},
   "outputs": [
    {
     "name": "stdout",
     "output_type": "stream",
     "text": [
      "<function power.<locals>.inner at 0x7efeac4b3598>\n",
      "<function power.<locals>.inner at 0x7efeac4b3400>\n"
     ]
    }
   ],
   "source": [
    "print(square)\n",
    "print(cube)"
   ]
  },
  {
   "cell_type": "code",
   "execution_count": 18,
   "metadata": {},
   "outputs": [
    {
     "data": {
      "text/plain": [
       "100"
      ]
     },
     "execution_count": 18,
     "metadata": {},
     "output_type": "execute_result"
    }
   ],
   "source": [
    "square(10)"
   ]
  },
  {
   "cell_type": "code",
   "execution_count": 19,
   "metadata": {},
   "outputs": [
    {
     "data": {
      "text/plain": [
       "400"
      ]
     },
     "execution_count": 19,
     "metadata": {},
     "output_type": "execute_result"
    }
   ],
   "source": [
    "square(20)"
   ]
  },
  {
   "cell_type": "code",
   "execution_count": 21,
   "metadata": {},
   "outputs": [
    {
     "data": {
      "text/plain": [
       "27"
      ]
     },
     "execution_count": 21,
     "metadata": {},
     "output_type": "execute_result"
    }
   ],
   "source": [
    "cube(3)"
   ]
  },
  {
   "cell_type": "code",
   "execution_count": 22,
   "metadata": {},
   "outputs": [
    {
     "data": {
      "text/plain": [
       "400"
      ]
     },
     "execution_count": 22,
     "metadata": {},
     "output_type": "execute_result"
    }
   ],
   "source": [
    "power(2)(20)='[================================================]'"
   ]
  },
  {
   "cell_type": "code",
   "execution_count": 25,
   "metadata": {},
   "outputs": [
    {
     "name": "stdout",
     "output_type": "stream",
     "text": [
      "[1, 2, 3, 4, 5, 6, 7]\n",
      "[1, 2, 3, 4, 5, 6, 7]\n",
      "2231595557320\n",
      "2231595557320\n"
     ]
    }
   ],
   "source": [
    "def List_fun(l, a=[]):\n",
    "    \"\"\"function takes 2 parameters list having values and empty list.\"\"\"\n",
    "\n",
    "    for i in l:\n",
    "        #checking whether the values are list or not\n",
    "        if isinstance(i, list):\n",
    "            List_fun(i, a)\n",
    "        else:\n",
    "            a.append(i)\n",
    "    return a \n",
    "\n",
    "b=[]\n",
    "l2 = List_fun([[1,2],[3,[4,5]],6,7], b)\n",
    "print(l2)\n",
    "print(b)\n",
    "print(id(l2))\n",
    "print(id(b))"
   ]
  },
  {
   "cell_type": "code",
   "execution_count": 21,
   "metadata": {},
   "outputs": [
    {
     "name": "stdout",
     "output_type": "stream",
     "text": [
      "[1, 2, 3, 4, 5, 6, 7]\n"
     ]
    }
   ],
   "source": [
    "def List_fun(l, a=[]):\n",
    "    \"\"\"function takes 2 parameters list having values and empty list.\"\"\"\n",
    "    \n",
    "    for i in l:\n",
    "        #checking whether the values are list or not\n",
    "        if isinstance(i, list):\n",
    "            List_fun(i, a)\n",
    "        else:\n",
    "            a.append(i)\n",
    "\n",
    "\n",
    "b=[]\n",
    "List_fun([[1,2],[3,[4,5]],6,7], b)\n",
    "print(b)"
   ]
  },
  {
   "cell_type": "code",
   "execution_count": 28,
   "metadata": {},
   "outputs": [
    {
     "name": "stdout",
     "output_type": "stream",
     "text": [
      "1387491072\n",
      "10\n",
      "1387491072\n",
      "20\n",
      "1387491392\n",
      "10\n"
     ]
    }
   ],
   "source": [
    "def fun_numbers(a):\n",
    "    print(a)\n",
    "    print(id(a))\n",
    "    a += 10\n",
    "    print(a)\n",
    "    print(id(a))\n",
    "\n",
    "b = 10\n",
    "print(id(b))\n",
    "fun_numbers(b)\n",
    "print(b)"
   ]
  },
  {
   "cell_type": "code",
   "execution_count": 32,
   "metadata": {},
   "outputs": [
    {
     "name": "stdout",
     "output_type": "stream",
     "text": [
      "2231595541512\n",
      "[10]\n",
      "2231595541512\n",
      "[20]\n",
      "2231595557576\n",
      "[10]\n"
     ]
    }
   ],
   "source": [
    "def fun_numbers(a):\n",
    "    print(a)\n",
    "    print(id(a))\n",
    "    a = [20]\n",
    "    print(a)\n",
    "    print(id(a))\n",
    "\n",
    "b = [10]\n",
    "print(id(b))\n",
    "fun_numbers(b)\n",
    "print(b)"
   ]
  },
  {
   "cell_type": "code",
   "execution_count": 33,
   "metadata": {},
   "outputs": [
    {
     "name": "stdout",
     "output_type": "stream",
     "text": [
      "2231595560456\n",
      "[10]\n",
      "2231595560456\n",
      "[10, 20]\n",
      "2231595560456\n",
      "[10, 20]\n"
     ]
    }
   ],
   "source": [
    "def fun_numbers(a):\n",
    "    print(a)\n",
    "    print(id(a))\n",
    "    a.append(20)\n",
    "    print(a)\n",
    "    print(id(a))\n",
    "\n",
    "b = [10]\n",
    "print(id(b))\n",
    "fun_numbers(b)\n",
    "print(b)"
   ]
  },
  {
   "cell_type": "code",
   "execution_count": 34,
   "metadata": {},
   "outputs": [
    {
     "name": "stdout",
     "output_type": "stream",
     "text": [
      "[10]\n",
      "[10, 120]\n",
      "[10, 120]\n"
     ]
    }
   ],
   "source": [
    "def fun_numbers(a):\n",
    "    print(a)\n",
    "    a.append(120)\n",
    "    print(a)\n",
    "\n",
    "b = [10]\n",
    "fun_numbers(b)\n",
    "print(b)"
   ]
  },
  {
   "cell_type": "code",
   "execution_count": 35,
   "metadata": {},
   "outputs": [
    {
     "name": "stdout",
     "output_type": "stream",
     "text": [
      "70\n"
     ]
    }
   ],
   "source": [
    "def func():\n",
    "    a = 10\n",
    "    for d in [10,20,30]:\n",
    "        a = a+d\n",
    "    print(a)\n",
    "    \n",
    "func()"
   ]
  }
 ],
 "metadata": {
  "anaconda-cloud": {},
  "kernelspec": {
   "display_name": "Python 3",
   "language": "python",
   "name": "python3"
  },
  "language_info": {
   "codemirror_mode": {
    "name": "ipython",
    "version": 3
   },
   "file_extension": ".py",
   "mimetype": "text/x-python",
   "name": "python",
   "nbconvert_exporter": "python",
   "pygments_lexer": "ipython3",
   "version": "3.6.1"
  }
 },
 "nbformat": 4,
 "nbformat_minor": 1
}
