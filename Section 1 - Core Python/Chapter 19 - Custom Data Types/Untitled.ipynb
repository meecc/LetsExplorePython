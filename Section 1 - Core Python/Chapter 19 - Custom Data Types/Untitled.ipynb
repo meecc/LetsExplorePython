{
 "cells": [
  {
   "cell_type": "markdown",
   "metadata": {},
   "source": [
    "# Custom Datatypes"
   ]
  },
  {
   "cell_type": "code",
   "execution_count": 1,
   "metadata": {},
   "outputs": [],
   "source": [
    "## Custom Iterator"
   ]
  },
  {
   "cell_type": "code",
   "execution_count": 22,
   "metadata": {},
   "outputs": [],
   "source": [
    "class Counter():\n",
    "    def __init__(self, large=1, small=0):\n",
    "        self.large = large\n",
    "        self.small = small\n",
    "        self.num = small\n",
    "    \n",
    "    def __getitem__(self, key):\n",
    "        if self.num < self.large:\n",
    "            self.num +=1\n",
    "        else:\n",
    "            raise(IndexError)\n",
    "        return self.num\n",
    "        "
   ]
  },
  {
   "cell_type": "code",
   "execution_count": 24,
   "metadata": {},
   "outputs": [],
   "source": [
    "for i in Counter(2, 10):\n",
    "    print(i)"
   ]
  },
  {
   "cell_type": "code",
   "execution_count": 7,
   "metadata": {},
   "outputs": [],
   "source": [
    "# generator\n",
    "def uc_gen(text):\n",
    "    for char in text:\n",
    "        yield char.upper()\n",
    "\n",
    "# generator expression\n",
    "def uc_genexp(text):\n",
    "    return (char.upper() for char in text)\n",
    "\n",
    "# iterator protocol\n",
    "class uc_iter():\n",
    "    def __init__(self, text):\n",
    "        self.text = text\n",
    "        self.index = 0\n",
    "    def __iter__(self):\n",
    "        return self\n",
    "    def __next__(self):\n",
    "        try:\n",
    "            result = self.text[self.index].upper()\n",
    "        except IndexError:\n",
    "            raise StopIteration\n",
    "        self.index += 1\n",
    "        return result\n",
    "\n",
    "# getitem method\n",
    "class uc_getitem():\n",
    "    def __init__(self, text):\n",
    "        self.text = text\n",
    "    def __getitem__(self, index):\n",
    "        result = self.text[index].upper()\n",
    "        return result"
   ]
  },
  {
   "cell_type": "code",
   "execution_count": 11,
   "metadata": {},
   "outputs": [
    {
     "name": "stdout",
     "output_type": "stream",
     "text": [
      "ABCDE\n",
      "ABCDE\n",
      "ABCDE\n",
      "ABCDE\n"
     ]
    }
   ],
   "source": [
    "for iterator in uc_gen, uc_genexp, uc_iter, uc_getitem:\n",
    "    for ch in iterator('abcde'):\n",
    "        print (ch, end=\"\")\n",
    "    print(\"\")"
   ]
  },
  {
   "cell_type": "markdown",
   "metadata": {},
   "source": [
    "## References\n",
    "---"
   ]
  },
  {
   "cell_type": "markdown",
   "metadata": {},
   "source": [
    "- https://stackoverflow.com/questions/19151/build-a-basic-python-iterator"
   ]
  }
 ],
 "metadata": {
  "kernelspec": {
   "display_name": "Python 3",
   "language": "python",
   "name": "python3"
  },
  "language_info": {
   "codemirror_mode": {
    "name": "ipython",
    "version": 3
   },
   "file_extension": ".py",
   "mimetype": "text/x-python",
   "name": "python",
   "nbconvert_exporter": "python",
   "pygments_lexer": "ipython3",
   "version": "3.6.1"
  }
 },
 "nbformat": 4,
 "nbformat_minor": 2
}
