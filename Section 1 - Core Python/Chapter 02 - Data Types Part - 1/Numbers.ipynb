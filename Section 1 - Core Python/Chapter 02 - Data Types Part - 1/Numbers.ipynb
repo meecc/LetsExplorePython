{
 "cells": [
  {
   "cell_type": "markdown",
   "metadata": {},
   "source": [
    "## Numbers"
   ]
  },
  {
   "cell_type": "markdown",
   "metadata": {},
   "source": [
    "Python provide following *builtins* numeric data types:\n",
    "\n",
    "+ Integer (*int*): i = 26011950\n",
    "+ Floating Point real (*float*): f = 1.2345\n",
    "+ Complex (*complex*): c = 2 + 10j\n",
    "\n",
    "The builtin function `int()` can be used to convert other types to integer, including base changes.\n",
    "\n",
    "*Example*:"
   ]
  },
  {
   "cell_type": "code",
   "execution_count": 10,
   "metadata": {},
   "outputs": [
    {
     "name": "stdout",
     "output_type": "stream",
     "text": [
      "int(3.14) = 3\n",
      "int(3.64) = 3\n",
      "int(\"22\") = 22\n"
     ]
    }
   ],
   "source": [
    "# Converting real to integer\n",
    "print ('int(3.14) =', int(3.14))\n",
    "print ('int(3.64) =', int(3.64))\n",
    "print('int(\"22\") =', int(\"22\"))"
   ]
  },
  {
   "cell_type": "markdown",
   "metadata": {},
   "source": [
    "```PYTHON\n",
    "print('int(\"22.0\") !=', int(\"22.0\"))\n",
    "```\n",
    "\n",
    "```log\n",
    "---------------------------------------------------------------------------\n",
    "ValueError                                Traceback (most recent call last)\n",
    "<ipython-input-9-8e518d0771bb> in <module>()\n",
    "----> 1 print('int(\"22.0\") !=', int(\"22.0\"))\n",
    "\n",
    "ValueError: invalid literal for int() with base 10: '22.0'\n",
    "```     "
   ]
  },
  {
   "cell_type": "markdown",
   "metadata": {},
   "source": [
    "```python\n",
    "print(\"int(3+4j) =\", int(3 + 4j))\n",
    "```\n",
    "```log\n",
    "---------------------------------------------------------------------------\n",
    "TypeError                                 Traceback (most recent call last)\n",
    "<ipython-input-11-6fb3672eabe6> in <module>()\n",
    "----> 1 print(\"int(3+4j) =\", int(3 + 4j))\n",
    "\n",
    "TypeError: can't convert complex to int\n",
    "```\n"
   ]
  },
  {
   "cell_type": "code",
   "execution_count": 13,
   "metadata": {},
   "outputs": [
    {
     "name": "stdout",
     "output_type": "stream",
     "text": [
      "float(5) = 5.0\n"
     ]
    }
   ],
   "source": [
    "# Converting integer to real\n",
    "print ('float(5) =', float(5))"
   ]
  },
  {
   "cell_type": "code",
   "execution_count": 14,
   "metadata": {},
   "outputs": [
    {
     "name": "stdout",
     "output_type": "stream",
     "text": [
      "int(\"22.0\") == 22.0\n"
     ]
    }
   ],
   "source": [
    "print('int(\"22.0\") ==', float(\"22.0\"))"
   ]
  },
  {
   "cell_type": "code",
   "execution_count": 15,
   "metadata": {},
   "outputs": [
    {
     "name": "stdout",
     "output_type": "stream",
     "text": [
      "int(float(\"22.0\")) == 22\n"
     ]
    }
   ],
   "source": [
    "print('int(float(\"22.0\")) ==', int(float(\"22.0\")))"
   ]
  },
  {
   "cell_type": "code",
   "execution_count": 16,
   "metadata": {},
   "outputs": [
    {
     "name": "stdout",
     "output_type": "stream",
     "text": [
      "5.0 / 2 + 3 =  5.5\n"
     ]
    }
   ],
   "source": [
    "# Calculation between integer and real results in real\n",
    "print ('5.0 / 2 + 3 = ', 5 / 2 + 3)"
   ]
  },
  {
   "cell_type": "code",
   "execution_count": 17,
   "metadata": {},
   "outputs": [
    {
     "name": "stdout",
     "output_type": "stream",
     "text": [
      "3.5 2.5 6.0\n",
      "<class 'float'> <class 'float'> <class 'float'>\n",
      "3.5 2.5 6\n",
      "<class 'float'> 2.5 <class 'int'>\n"
     ]
    }
   ],
   "source": [
    "x = 3.5\n",
    "y = 2.5\n",
    "z = x + y\n",
    "print(x, y, z)\n",
    "print(type(x), type(y), type(z))\n",
    "z = int(z)\n",
    "print(x, y, z)\n",
    "print(type(x), y, type(z))"
   ]
  },
  {
   "cell_type": "code",
   "execution_count": 18,
   "metadata": {},
   "outputs": [
    {
     "name": "stdout",
     "output_type": "stream",
     "text": [
      "int('20', 8) = 16\n",
      "int('20', 16) = 32\n"
     ]
    }
   ],
   "source": [
    "# Integers in other base\n",
    "print (\"int('20', 8) =\", int('20', 8)) # base 8\n",
    "print (\"int('20', 16) =\", int('20', 16)) # base 16"
   ]
  },
  {
   "cell_type": "code",
   "execution_count": 19,
   "metadata": {},
   "outputs": [
    {
     "name": "stdout",
     "output_type": "stream",
     "text": [
      "c = (3+4j)\n",
      "Real Part: 3.0\n",
      "Imaginary Part: 4.0\n",
      "Conjugate: (3-4j)\n"
     ]
    }
   ],
   "source": [
    "# Operations with complex numbers\n",
    "c = 3 + 4j\n",
    "print ('c =', c)\n",
    "\n",
    "print ('Real Part:', c.real)\n",
    "print ('Imaginary Part:', c.imag)\n",
    "print ('Conjugate:', c.conjugate())"
   ]
  }
 ],
 "metadata": {
  "kernelspec": {
   "display_name": "Python 3",
   "language": "python",
   "name": "python3"
  },
  "language_info": {
   "codemirror_mode": {
    "name": "ipython",
    "version": 3
   },
   "file_extension": ".py",
   "mimetype": "text/x-python",
   "name": "python",
   "nbconvert_exporter": "python",
   "pygments_lexer": "ipython3",
   "version": "3.6.1"
  }
 },
 "nbformat": 4,
 "nbformat_minor": 2
}
