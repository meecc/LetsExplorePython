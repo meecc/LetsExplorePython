{
 "cells": [
  {
   "cell_type": "markdown",
   "metadata": {},
   "source": [
    "## String"
   ]
  },
  {
   "cell_type": "markdown",
   "metadata": {},
   "source": [
    "*Strings* are Python *builtins* datatype for handling text. They are **immutable** thus you can **not add, remove or updated** any character in the *string*. If you wish to perform these operations than you need to create a new *string* and assign the existing/new variable name to it. "
   ]
  },
  {
   "cell_type": "markdown",
   "metadata": {},
   "source": [
    "String is a sequence of `characters`. "
   ]
  },
  {
   "cell_type": "markdown",
   "metadata": {},
   "source": [
    "### `characters`"
   ]
  },
  {
   "cell_type": "code",
   "execution_count": null,
   "metadata": {},
   "outputs": [],
   "source": []
  },
  {
   "cell_type": "markdown",
   "metadata": {},
   "source": [
    "### Escape Characters "
   ]
  },
  {
   "cell_type": "markdown",
   "metadata": {},
   "source": [
    "an escape character is a character which invokes an alternative interpretation on subsequent characters in a character sequence. An escape character is a particular case of metacharacters."
   ]
  },
  {
   "cell_type": "markdown",
   "metadata": {},
   "source": [
    "##### Table: Escape Characters"
   ]
  },
  {
   "cell_type": "markdown",
   "metadata": {},
   "source": [
    "| Escape sequence  | Hex value in ASCII | Character represented                                                              |\n",
    "|------------------|--------------------|------------------------------------------------------------------------------------|\n",
    "| \\a               | 07                 | Alert (Beep, Bell) (added in C89)[1]                                               |\n",
    "| \\b               | 08                 | Backspace                                                                          |\n",
    "| \\f               | 0C                 | Formfeed                                                                           |\n",
    "| \\n               | 0A                 | Newline (Line Feed); see notes below                                               |\n",
    "| \\r               | 0D                 | Carriage Return                                                                    |\n",
    "| \\t               | 09                 | Horizontal Tab                                                                     |\n",
    "| \\v               | 0B                 | Vertical Tab                                                                       |\n",
    "| \\\\               | 5C                 | Backslash                                                                          |\n",
    "| \\'               | 27                 | Single quotation mark                                                              |\n",
    "| \\\"               | 22                 | Double quotation mark                                                              |\n",
    "| \\?               | 3F                 | Question mark (used to avoid trigraphs)                                            |\n",
    "| \\nnnnote 1       | any                | The byte whose numerical value is given by nnn interpreted as an octal number      |\n",
    "| \\xhh…            | any                | The byte whose numerical value is given by hh… interpreted as a hexadecimal number |\n",
    "| \\enote 2         | 1B                 | escape character (some character sets)                                             |\n",
    "| \\Uhhhhhhhhnote 3 | none               | Unicode code point where h is a hexadecimal digit                                  |\n",
    "| \\uhhhhnote 4     | none               | Unicode code point below 10000 hexadecimal                                         |"
   ]
  },
  {
   "cell_type": "markdown",
   "metadata": {},
   "source": [
    "### String Types"
   ]
  },
  {
   "cell_type": "markdown",
   "metadata": {},
   "source": [
    "Strings can be classified in 3 categories.\n",
    "- **Standard String**: Standard string is one which executed the escape characters\n",
    "- **Raw String**: Raw Strings on the other hand handle escape characters as normal characters and do not process them\n",
    "- **formatted string literal** or **f-string**: Is a string literal that is prefixed with `f` or `F`. These strings may contain _replacement fields_, which are expressions delimited by curly braces `{}`. While other string literals always have a constant value, formatted strings are really expressions evaluated at run time. _**{New in 3.6}**_"
   ]
  },
  {
   "cell_type": "markdown",
   "metadata": {},
   "source": [
    "String can be initialized using:\n",
    "\n",
    "+ With single or double quotes ('', \"\").\n",
    "+ On several consecutive lines, provided that it's between three single or double quotes (''' ''', \"\"\" \"\"\").\n",
    "+ Without expansion characters (example: `s = r '\\ n'`, where `s` will contain the characters `\\` and `n`).\n"
   ]
  },
  {
   "cell_type": "markdown",
   "metadata": {},
   "source": [
    "#### Standard String"
   ]
  },
  {
   "cell_type": "markdown",
   "metadata": {},
   "source": [
    "Standard string is one in which the escape characters are processed and executed. They are by default unicode strings. "
   ]
  },
  {
   "cell_type": "markdown",
   "metadata": {},
   "source": [
    "> Since Python 3, strings are by default unicode string."
   ]
  },
  {
   "cell_type": "code",
   "execution_count": 1,
   "metadata": {},
   "outputs": [
    {
     "name": "stdout",
     "output_type": "stream",
     "text": [
      "Chandu\tNalluri\n"
     ]
    }
   ],
   "source": [
    "#### Standard String Examples: \n",
    "friend = 'Chandu\\tNalluri' \n",
    "print(friend)"
   ]
  },
  {
   "cell_type": "code",
   "execution_count": 2,
   "metadata": {},
   "outputs": [
    {
     "name": "stdout",
     "output_type": "stream",
     "text": [
      "# Roshan Musheer:\n",
      "Excellent Manager and human being.\n"
     ]
    }
   ],
   "source": [
    "manager_details = \"# Roshan Musheer:\\nExcellent Manager and human being.\"\n",
    "print(manager_details)"
   ]
  },
  {
   "cell_type": "markdown",
   "metadata": {},
   "source": [
    "#### Raw String"
   ]
  },
  {
   "cell_type": "markdown",
   "metadata": {},
   "source": [
    "Raw Strings on the other hand handle escape characters as normal characters and do not process them"
   ]
  },
  {
   "cell_type": "markdown",
   "metadata": {},
   "source": [
    "+ Raw String: `a = r'Roshan\\tMusheer'` # Roshan\\tMusheer\n",
    "+ Unicode String: `u = u'Björk'`"
   ]
  },
  {
   "cell_type": "code",
   "execution_count": 7,
   "metadata": {
    "scrolled": false
   },
   "outputs": [
    {
     "name": "stdout",
     "output_type": "stream",
     "text": [
      "Roshan\\tMusheer\n"
     ]
    }
   ],
   "source": [
    "a = r'Roshan\\tMusheer'\n",
    "print(a)"
   ]
  },
  {
   "cell_type": "code",
   "execution_count": 1,
   "metadata": {
    "scrolled": true
   },
   "outputs": [
    {
     "name": "stdout",
     "output_type": "stream",
     "text": [
      "C:\n",
      "ew_data\technical_jargons\n",
      "C:\\new_data\\technical_jargons\n"
     ]
    }
   ],
   "source": [
    "path = \"C:\\new_data\\technical_jargons\"\n",
    "print(path)\n",
    "path = R\"C:\\new_data\\technical_jargons\"\n",
    "print(path)"
   ]
  },
  {
   "cell_type": "markdown",
   "metadata": {},
   "source": [
    "> NOTE: both r and R work the same way"
   ]
  },
  {
   "cell_type": "markdown",
   "metadata": {},
   "source": [
    "### `Formatted String Literal` or `F-String`"
   ]
  },
  {
   "cell_type": "markdown",
   "metadata": {},
   "source": [
    "`F-String` are prefixed with `f` or `F`. These strings may contain _replacement fields_, which are expressions delimited by curly braces `{}`. While other string literals always have a constant value, formatted strings are really expressions evaluated at run time. _**{New in 3.6}**_"
   ]
  },
  {
   "cell_type": "markdown",
   "metadata": {},
   "source": [
    "### String Operations:"
   ]
  },
  {
   "cell_type": "markdown",
   "metadata": {},
   "source": [
    "#### Creation / Assignation"
   ]
  },
  {
   "cell_type": "code",
   "execution_count": 16,
   "metadata": {},
   "outputs": [
    {
     "name": "stdout",
     "output_type": "stream",
     "text": [
      "140100897256984\n"
     ]
    }
   ],
   "source": [
    "s = 'Camel'\n",
    "print(id(s))"
   ]
  },
  {
   "cell_type": "code",
   "execution_count": 9,
   "metadata": {},
   "outputs": [
    {
     "name": "stdout",
     "output_type": "stream",
     "text": [
      "Roshan\tMusheer\n"
     ]
    }
   ],
   "source": [
    "a = 'Roshan\\tMusheer'\n",
    "print(a)"
   ]
  },
  {
   "cell_type": "markdown",
   "metadata": {},
   "source": [
    "#### Concatenation"
   ]
  },
  {
   "cell_type": "markdown",
   "metadata": {},
   "source": [
    "String concatenation is a process of joining two or more strings into a single string. As we have already discussed that string is an immutable datatype thus we have to create a new string for concatenation, what that means is the original strings will still remain the same and new one will be created using the texts from the originals. "
   ]
  },
  {
   "cell_type": "markdown",
   "metadata": {},
   "source": [
    "There are multiple ways in which we can achive the concatenation. The most common method of achiving the concatenation, is to use `+` operator. \n",
    "\n",
    "Lets take an example, where we have three string's and lets try to concatenate them using it."
   ]
  },
  {
   "cell_type": "code",
   "execution_count": 21,
   "metadata": {},
   "outputs": [
    {
     "name": "stdout",
     "output_type": "stream",
     "text": [
      "The Camel ran away !!!\n",
      "Camel\n",
      "The \n",
      " ran away !!!\n",
      "140100897622392\n",
      "140100897828624\n",
      "140100897256984\n",
      "140100897312688\n"
     ]
    }
   ],
   "source": [
    "st_the = \"The \"\n",
    "st_action = \" ran away !!!\"\n",
    "st = st_the + s + st_action\n",
    "print(st)\n",
    "print(s)\n",
    "print(st_the)\n",
    "print(st_action)\n",
    "print(id(st))\n",
    "\n",
    "print(id(st_the))\n",
    "print(id(s))\n",
    "print(id(st_action))"
   ]
  },
  {
   "cell_type": "code",
   "execution_count": 3,
   "metadata": {},
   "outputs": [
    {
     "name": "stdout",
     "output_type": "stream",
     "text": [
      "['__add__', '__class__', '__contains__', '__delattr__', '__dir__', '__doc__', '__eq__', '__format__', '__ge__', '__getattribute__', '__getitem__', '__getnewargs__', '__gt__', '__hash__', '__init__', '__iter__', '__le__', '__len__', '__lt__', '__mod__', '__mul__', '__ne__', '__new__', '__reduce__', '__reduce_ex__', '__repr__', '__rmod__', '__rmul__', '__setattr__', '__sizeof__', '__str__', '__subclasshook__', 'capitalize', 'casefold', 'center', 'count', 'encode', 'endswith', 'expandtabs', 'find', 'format', 'format_map', 'index', 'isalnum', 'isalpha', 'isdecimal', 'isdigit', 'isidentifier', 'islower', 'isnumeric', 'isprintable', 'isspace', 'istitle', 'isupper', 'join', 'ljust', 'lower', 'lstrip', 'maketrans', 'partition', 'replace', 'rfind', 'rindex', 'rjust', 'rpartition', 'rsplit', 'rstrip', 'split', 'splitlines', 'startswith', 'strip', 'swapcase', 'title', 'translate', 'upper', 'zfill']\n"
     ]
    }
   ],
   "source": [
    "print(dir(s))"
   ]
  },
  {
   "cell_type": "markdown",
   "metadata": {},
   "source": [
    "### Interpolation"
   ]
  },
  {
   "cell_type": "markdown",
   "metadata": {},
   "source": [
    "string interpolation (or variable interpolation, variable substitution, or variable expansion) is the process of evaluating a string literal containing one or more placeholders, yielding a result in which the placeholders are replaced with their corresponding values."
   ]
  },
  {
   "cell_type": "code",
   "execution_count": 22,
   "metadata": {},
   "outputs": [
    {
     "name": "stdout",
     "output_type": "stream",
     "text": [
      "Size of Camel => 5\n",
      "['__add__', '__class__', '__contains__', '__delattr__', '__dir__', '__doc__', '__eq__', '__format__', '__ge__', '__getattribute__', '__getitem__', '__getnewargs__', '__gt__', '__hash__', '__init__', '__iter__', '__le__', '__len__', '__lt__', '__mod__', '__mul__', '__ne__', '__new__', '__reduce__', '__reduce_ex__', '__repr__', '__rmod__', '__rmul__', '__setattr__', '__sizeof__', '__str__', '__subclasshook__', 'capitalize', 'casefold', 'center', 'count', 'encode', 'endswith', 'expandtabs', 'find', 'format', 'format_map', 'index', 'isalnum', 'isalpha', 'isdecimal', 'isdigit', 'isidentifier', 'islower', 'isnumeric', 'isprintable', 'isspace', 'istitle', 'isupper', 'join', 'ljust', 'lower', 'lstrip', 'maketrans', 'partition', 'replace', 'rfind', 'rindex', 'rjust', 'rpartition', 'rsplit', 'rstrip', 'split', 'splitlines', 'startswith', 'strip', 'swapcase', 'title', 'translate', 'upper', 'zfill']\n",
      "Size of Camel => 5\n",
      "5\n"
     ]
    }
   ],
   "source": [
    "print( 'Size of %s => %d' % (s, len(s)))\n",
    "print(dir(s))\n",
    "print( 'Size of %s => %d' % (s, s.__len__()))\n",
    "\n",
    "def size(strdata):\n",
    "    c = 0\n",
    "    for a in strdata:\n",
    "        c+=1\n",
    "    return c\n",
    "\n",
    "print(size(\"Anshu\"))"
   ]
  },
  {
   "cell_type": "markdown",
   "metadata": {},
   "source": [
    "#### %-formatting"
   ]
  },
  {
   "cell_type": "markdown",
   "metadata": {},
   "source": [
    "#### Str.format()"
   ]
  },
  {
   "cell_type": "markdown",
   "metadata": {},
   "source": [
    "#### Template Strings"
   ]
  },
  {
   "cell_type": "markdown",
   "metadata": {},
   "source": [
    "#### Literal String"
   ]
  },
  {
   "cell_type": "markdown",
   "metadata": {},
   "source": [
    "It is the new Interpolation method as it is implemented in `Python 3.6`. "
   ]
  },
  {
   "cell_type": "code",
   "execution_count": 3,
   "metadata": {},
   "outputs": [
    {
     "name": "stdout",
     "output_type": "stream",
     "text": [
      "Hello World! This is Python\n",
      "Hello Ravi! This is Python\n"
     ]
    }
   ],
   "source": [
    "name = 'World'\n",
    "program = 'Python'\n",
    "print(f'Hello {name}! This is {program}')\n",
    "name = 'Ravi'\n",
    "program = 'Python'\n",
    "print(f'Hello {name}! This is {program}')"
   ]
  },
  {
   "cell_type": "code",
   "execution_count": 5,
   "metadata": {},
   "outputs": [
    {
     "name": "stdout",
     "output_type": "stream",
     "text": [
      "M,u,r,t,h,y, ,\b.\n",
      "~~~~~~~~~~~~~~~~~~~~~~~~~~~~~~~~~~~~~~~~~~~~~~~~~~~~~~~~~~~~~~~~~~~~~~~~~~~~~~~\n"
     ]
    }
   ],
   "source": [
    "# String processed as a sequence\n",
    "s = \"Murthy \"\n",
    "for ch in s: print(ch , end=',') # This \n",
    "# print(help(print))\n",
    "print(\"\\b.\")\n",
    "print(\"~\"*79)"
   ]
  },
  {
   "cell_type": "code",
   "execution_count": 6,
   "metadata": {},
   "outputs": [
    {
     "name": "stdout",
     "output_type": "stream",
     "text": [
      "MURTHY \n",
      "murthy \n",
      "~~~~~~~~~~~~~~~~~~~~~~~~~~~~~~~~~~~~~~~~~~~~~~~~~~~~~~~~~~~~~~~~~~~~~~~~~~~~~~~\n",
      "Murthy Murthy Murthy \n"
     ]
    }
   ],
   "source": [
    "# Strings are objects\n",
    "if s.startswith('M'): print(s.upper())\n",
    "\n",
    "print(s.lower())\n",
    "print(\"~\"*79)\n",
    "\n",
    "# what will happen? \n",
    "print(3*s) \n",
    "\n",
    "# print(dir(s))"
   ]
  },
  {
   "cell_type": "code",
   "execution_count": 7,
   "metadata": {},
   "outputs": [
    {
     "name": "stdout",
     "output_type": "stream",
     "text": [
      "   Murthy 5\n",
      "Murthy 5\n"
     ]
    }
   ],
   "source": [
    "s = \"   Murthy \"\n",
    "age = 5\n",
    "print(s + str(age))\n",
    "print(s.strip(), age)\n",
    "# print(s + age)"
   ]
  },
  {
   "cell_type": "code",
   "execution_count": 17,
   "metadata": {},
   "outputs": [
    {
     "name": "stdout",
     "output_type": "stream",
     "text": [
      "20\n",
      "12\n",
      "    Mayank Johri\n",
      "Mayank Johri    \n"
     ]
    }
   ],
   "source": [
    "st = \"    Mayank Johri    \"\n",
    "print(len(st))\n",
    "s = st.strip()\n",
    "print(len(s))\n",
    "print(st.rstrip())\n",
    "print(st.lstrip())"
   ]
  },
  {
   "cell_type": "code",
   "execution_count": 13,
   "metadata": {},
   "outputs": [
    {
     "name": "stdout",
     "output_type": "stream",
     "text": [
      "mon,tues,wed\n",
      ",\n",
      ",\n",
      "O,n, ,L,e,a,v,e\n",
      "MOn LeaveoOn LeavehOn LeaveaOn LeavenOn Leave On LeaveSOn LeavehOn LeaveaOn Leaveh\n"
     ]
    }
   ],
   "source": [
    "m = \"Mohan Shah\"\n",
    "x = [\"mon\", \"tues\", \"wed\"]\n",
    "y = \",\"\n",
    "a = \"On Leave\"\n",
    "print(y.join(x)) # -> mon,tues,wed\n",
    "print(m.join(y)) \n",
    "print(a.join(y))\n",
    "print(y.join(a)) \n",
    "print(a.join(m)) "
   ]
  },
  {
   "cell_type": "markdown",
   "metadata": {},
   "source": [
    "> Create a string from a list of string items"
   ]
  },
  {
   "cell_type": "code",
   "execution_count": 14,
   "metadata": {},
   "outputs": [
    {
     "data": {
      "text/plain": [
       "'mon tues wed'"
      ]
     },
     "execution_count": 14,
     "metadata": {},
     "output_type": "execute_result"
    }
   ],
   "source": [
    "\" \".join(x)"
   ]
  },
  {
   "cell_type": "code",
   "execution_count": 15,
   "metadata": {},
   "outputs": [
    {
     "data": {
      "text/plain": [
       "'This book is good'"
      ]
     },
     "execution_count": 15,
     "metadata": {},
     "output_type": "execute_result"
    }
   ],
   "source": [
    "book_desc = [\"This\", \"book\", \"is good\"]\n",
    "\" \".join(book_desc)"
   ]
  },
  {
   "cell_type": "markdown",
   "metadata": {},
   "source": [
    "The operator `%` is used for string interpolation. The interpolation is more efficient in use of memory than the conventional concatenation.\n",
    "\n",
    "Symbols used in the interpolation:\n",
    "\n",
    "+ %s: *string*.\n",
    "+ %d: integer.\n",
    "+ %o: octal.\n",
    "+ %x: hexacimal.\n",
    "+ %f: real.\n",
    "+ %e: real exponential.\n",
    "+ %%: percent sign.\n",
    "\n",
    "Symbols can be used to display numbers in various formats.\n",
    "\n",
    "*Example*:"
   ]
  },
  {
   "cell_type": "code",
   "execution_count": 20,
   "metadata": {
    "scrolled": true
   },
   "outputs": [
    {
     "name": "stdout",
     "output_type": "stream",
     "text": [
      "Now is 06:30.\n",
      "Percent: 5.3%, Exponencial:3.14e-03\n",
      "Decimal: 10, Octal: 12, Hexadecimal: a\n"
     ]
    }
   ],
   "source": [
    "# Zeros left\n",
    "print ('Now is %02d:%02d.' % (6, 30))\n",
    "\n",
    "# Real (The number after the decimal point specifies how many decimal digits )\n",
    "print ('Percent: %.1f%%, Exponencial:%.2e' % (5.333, 0.00314))\n",
    "\n",
    "# Octal and hexadecimal\n",
    "print ('Decimal: %d, Octal: %o, Hexadecimal: %x' % (10, 10, 10))"
   ]
  },
  {
   "cell_type": "markdown",
   "metadata": {},
   "source": [
    "### format\n",
    "In addition to interpolation operator `%`, the string method and function `format()` is available.\n",
    "\n",
    "> The function `format()` can be used only to format one piece of data each time.\n",
    "\n",
    "*Examples*:"
   ]
  },
  {
   "cell_type": "code",
   "execution_count": 4,
   "metadata": {
    "scrolled": true
   },
   "outputs": [
    {
     "name": "stdout",
     "output_type": "stream",
     "text": [
      "Mayank is friend of Manish\n",
      "Mayank is reportee of Roshan Musheer\n"
     ]
    }
   ],
   "source": [
    "peoples = [('Mayank', 'friend', 'Manish'),\n",
    "('Mayank', 'reportee', 'Roshan Musheer')]\n",
    "\n",
    "# Parameters are identified by order\n",
    "msg = '{0} is {1} of {2}'\n",
    "\n",
    "for name, relationship, friend in peoples:\n",
    "    print(msg.format(name, relationship, friend))"
   ]
  },
  {
   "cell_type": "code",
   "execution_count": 10,
   "metadata": {},
   "outputs": [
    {
     "name": "stdout",
     "output_type": "stream",
     "text": [
      "Good Morning, it is 10:02\n",
      "{greeting}, it is {hour:02d}:{minute:02d}\n",
      "Pi = 3.142e+00\n",
      "Pi = 3.1e+00\n"
     ]
    }
   ],
   "source": [
    "# Parameters are identified by name\n",
    "msg = '{greeting}, it is {hour:02d}:{minute:02d}'\n",
    "\n",
    "print(msg.format(greeting='Good Morning', minute=2, hour=10))\n",
    "print(msg)\n",
    "# Builtin function format()\n",
    "print ('Pi =', format(3.14159, '.3e'))\n",
    "print ('Pi =', format(3.14159, '.1e'))"
   ]
  },
  {
   "cell_type": "markdown",
   "metadata": {},
   "source": [
    "#### >>> TODO !!!\n",
    "#### Explain the below examples"
   ]
  },
  {
   "cell_type": "code",
   "execution_count": 11,
   "metadata": {},
   "outputs": [
    {
     "data": {
      "text/plain": [
       "'सूर्य नमस्कार'"
      ]
     },
     "execution_count": 11,
     "metadata": {},
     "output_type": "execute_result"
    }
   ],
   "source": [
    "'{} {}'.format('सूर्य', 'नमस्कार')"
   ]
  },
  {
   "cell_type": "code",
   "execution_count": 41,
   "metadata": {},
   "outputs": [
    {
     "data": {
      "text/plain": [
       "'नमस्कार सूर्य'"
      ]
     },
     "execution_count": 41,
     "metadata": {},
     "output_type": "execute_result"
    }
   ],
   "source": [
    "'{1} {0}'.format('सूर्य', 'नमस्कार')"
   ]
  },
  {
   "cell_type": "code",
   "execution_count": 23,
   "metadata": {},
   "outputs": [
    {
     "name": "stdout",
     "output_type": "stream",
     "text": [
      "                 सूर्य नमस्कार\n",
      "30\n"
     ]
    }
   ],
   "source": [
    "s = '{:>30}'.format('सूर्य नमस्कार')\n",
    "print(s)\n",
    "print(len(s))"
   ]
  },
  {
   "cell_type": "code",
   "execution_count": 19,
   "metadata": {},
   "outputs": [
    {
     "name": "stdout",
     "output_type": "stream",
     "text": [
      "सूर्य नमस्कार\n",
      "13\n"
     ]
    }
   ],
   "source": [
    "s = '{:>2}'.format('सूर्य नमस्कार')\n",
    "print(s)\n",
    "print(len(s))"
   ]
  },
  {
   "cell_type": "code",
   "execution_count": 14,
   "metadata": {},
   "outputs": [
    {
     "data": {
      "text/plain": [
       "'सूर्य नमस्कार       '"
      ]
     },
     "execution_count": 14,
     "metadata": {},
     "output_type": "execute_result"
    }
   ],
   "source": [
    "'{:20}'.format('सूर्य नमस्कार')"
   ]
  },
  {
   "cell_type": "code",
   "execution_count": 49,
   "metadata": {},
   "outputs": [
    {
     "data": {
      "text/plain": [
       "'Bonjour'"
      ]
     },
     "execution_count": 49,
     "metadata": {},
     "output_type": "execute_result"
    }
   ],
   "source": [
    "'{:4}'.format('Bonjour')"
   ]
  },
  {
   "cell_type": "code",
   "execution_count": 28,
   "metadata": {},
   "outputs": [
    {
     "data": {
      "text/plain": [
       "'Ja^^^'"
      ]
     },
     "execution_count": 28,
     "metadata": {},
     "output_type": "execute_result"
    }
   ],
   "source": [
    "'{:^<5}'.format('Ja')"
   ]
  },
  {
   "cell_type": "code",
   "execution_count": 58,
   "metadata": {},
   "outputs": [
    {
     "data": {
      "text/plain": [
       "' こんにちは '"
      ]
     },
     "execution_count": 58,
     "metadata": {},
     "output_type": "execute_result"
    }
   ],
   "source": [
    "'{:^7}'.format('こんにちは')"
   ]
  },
  {
   "cell_type": "code",
   "execution_count": null,
   "metadata": {},
   "outputs": [],
   "source": []
  },
  {
   "cell_type": "code",
   "execution_count": 37,
   "metadata": {},
   "outputs": [
    {
     "data": {
      "text/plain": [
       "'Bonjo'"
      ]
     },
     "execution_count": 37,
     "metadata": {},
     "output_type": "execute_result"
    }
   ],
   "source": [
    "'{:.5}'.format('Bonjour')"
   ]
  },
  {
   "cell_type": "code",
   "execution_count": 38,
   "metadata": {},
   "outputs": [],
   "source": [
    "## ??????"
   ]
  },
  {
   "cell_type": "code",
   "execution_count": 36,
   "metadata": {},
   "outputs": [
    {
     "name": "stdout",
     "output_type": "stream",
     "text": [
      "10\n",
      "testd     \n"
     ]
    }
   ],
   "source": [
    "s = '{:10.5}'.format('testdd नमस्कार')\n",
    "print(len(s))\n",
    "print(s)"
   ]
  },
  {
   "cell_type": "code",
   "execution_count": null,
   "metadata": {},
   "outputs": [],
   "source": [
    "'{:10.5}'.format('Bonjour')"
   ]
  },
  {
   "cell_type": "code",
   "execution_count": 106,
   "metadata": {},
   "outputs": [
    {
     "data": {
      "text/plain": [
       "' Bonjour '"
      ]
     },
     "execution_count": 106,
     "metadata": {},
     "output_type": "execute_result"
    }
   ],
   "source": [
    "'{:{align}{width}}'.format('Bonjour', align='^', width='9')"
   ]
  },
  {
   "cell_type": "code",
   "execution_count": 107,
   "metadata": {},
   "outputs": [
    {
     "data": {
      "text/plain": [
       "'Bonj = 2.2200'"
      ]
     },
     "execution_count": 107,
     "metadata": {},
     "output_type": "execute_result"
    }
   ],
   "source": [
    "'{:.{prec}} = {:.{prec}f}'.format('Bonjour', 2.22, prec=4)"
   ]
  },
  {
   "cell_type": "code",
   "execution_count": 66,
   "metadata": {},
   "outputs": [
    {
     "data": {
      "text/plain": [
       "'1980'"
      ]
     },
     "execution_count": 66,
     "metadata": {},
     "output_type": "execute_result"
    }
   ],
   "source": [
    "'{:d}'.format(1980)"
   ]
  },
  {
   "cell_type": "code",
   "execution_count": 67,
   "metadata": {},
   "outputs": [
    {
     "data": {
      "text/plain": [
       "'3.141593'"
      ]
     },
     "execution_count": 67,
     "metadata": {},
     "output_type": "execute_result"
    }
   ],
   "source": [
    "'{:f}'.format(3.141592653589793)"
   ]
  },
  {
   "cell_type": "code",
   "execution_count": 40,
   "metadata": {},
   "outputs": [
    {
     "data": {
      "text/plain": [
       "'3.141593'"
      ]
     },
     "execution_count": 40,
     "metadata": {},
     "output_type": "execute_result"
    }
   ],
   "source": [
    "'{:2f}'.format(3.141592653589793)"
   ]
  },
  {
   "cell_type": "code",
   "execution_count": 77,
   "metadata": {},
   "outputs": [
    {
     "data": {
      "text/plain": [
       "'0119'"
      ]
     },
     "execution_count": 77,
     "metadata": {},
     "output_type": "execute_result"
    }
   ],
   "source": [
    "'{:04d}'.format(119)"
   ]
  },
  {
   "cell_type": "code",
   "execution_count": 68,
   "metadata": {},
   "outputs": [
    {
     "data": {
      "text/plain": [
       "'003.14'"
      ]
     },
     "execution_count": 68,
     "metadata": {},
     "output_type": "execute_result"
    }
   ],
   "source": [
    "'{:06.2f}'.format(3.141592653589793)"
   ]
  },
  {
   "cell_type": "code",
   "execution_count": 78,
   "metadata": {},
   "outputs": [
    {
     "data": {
      "text/plain": [
       "'+119'"
      ]
     },
     "execution_count": 78,
     "metadata": {},
     "output_type": "execute_result"
    }
   ],
   "source": [
    "'{:+d}'.format(119)"
   ]
  },
  {
   "cell_type": "code",
   "execution_count": 79,
   "metadata": {},
   "outputs": [
    {
     "data": {
      "text/plain": [
       "'-119'"
      ]
     },
     "execution_count": 79,
     "metadata": {},
     "output_type": "execute_result"
    }
   ],
   "source": [
    "'{:+d}'.format(-119)"
   ]
  },
  {
   "cell_type": "code",
   "execution_count": 86,
   "metadata": {},
   "outputs": [],
   "source": [
    "### Need to find for complex & boolean numbers\n",
    "## '{:+d+d}'.format(-3 + 2j)"
   ]
  },
  {
   "cell_type": "code",
   "execution_count": 89,
   "metadata": {},
   "outputs": [
    {
     "data": {
      "text/plain": [
       "'- 111'"
      ]
     },
     "execution_count": 89,
     "metadata": {},
     "output_type": "execute_result"
    }
   ],
   "source": [
    "'{:=5d}'.format((- 111))"
   ]
  },
  {
   "cell_type": "code",
   "execution_count": null,
   "metadata": {},
   "outputs": [],
   "source": []
  },
  {
   "cell_type": "code",
   "execution_count": 90,
   "metadata": {},
   "outputs": [
    {
     "data": {
      "text/plain": [
       "' 101'"
      ]
     },
     "execution_count": 90,
     "metadata": {},
     "output_type": "execute_result"
    }
   ],
   "source": [
    "'{: d}'.format(101)"
   ]
  },
  {
   "cell_type": "code",
   "execution_count": null,
   "metadata": {},
   "outputs": [],
   "source": []
  },
  {
   "cell_type": "code",
   "execution_count": 92,
   "metadata": {},
   "outputs": [
    {
     "data": {
      "text/plain": [
       "'Mayank Johri'"
      ]
     },
     "execution_count": 92,
     "metadata": {},
     "output_type": "execute_result"
    }
   ],
   "source": [
    "\n",
    "'{name} {surname}'.format(name='Mayank', surname='Johri')"
   ]
  },
  {
   "cell_type": "code",
   "execution_count": null,
   "metadata": {},
   "outputs": [],
   "source": []
  },
  {
   "cell_type": "code",
   "execution_count": 95,
   "metadata": {},
   "outputs": [
    {
     "data": {
      "text/plain": [
       "'Mayank Johri'"
      ]
     },
     "execution_count": 95,
     "metadata": {},
     "output_type": "execute_result"
    }
   ],
   "source": [
    "user = dict(name='Mayank', surname='Johri')\n",
    "'{u[name]} {u[surname]}'.format(u=user)"
   ]
  },
  {
   "cell_type": "code",
   "execution_count": null,
   "metadata": {},
   "outputs": [],
   "source": []
  },
  {
   "cell_type": "code",
   "execution_count": 97,
   "metadata": {},
   "outputs": [
    {
     "data": {
      "text/plain": [
       "'2 7'"
      ]
     },
     "execution_count": 97,
     "metadata": {},
     "output_type": "execute_result"
    }
   ],
   "source": [
    "lst = list(range(10))\n",
    "'{l[2]} {l[7]}'.format(l=lst)"
   ]
  },
  {
   "cell_type": "code",
   "execution_count": null,
   "metadata": {},
   "outputs": [],
   "source": []
  },
  {
   "cell_type": "code",
   "execution_count": 100,
   "metadata": {},
   "outputs": [
    {
     "data": {
      "text/plain": [
       "'2017-12-23 14:15'"
      ]
     },
     "execution_count": 100,
     "metadata": {},
     "output_type": "execute_result"
    }
   ],
   "source": [
    "from datetime import datetime\n",
    "'{:%Y-%m-%d %H:%M}'.format(datetime(2017, 12, 23, 14, 15))"
   ]
  },
  {
   "cell_type": "code",
   "execution_count": null,
   "metadata": {},
   "outputs": [],
   "source": []
  },
  {
   "cell_type": "code",
   "execution_count": null,
   "metadata": {},
   "outputs": [],
   "source": []
  },
  {
   "cell_type": "code",
   "execution_count": null,
   "metadata": {},
   "outputs": [],
   "source": []
  },
  {
   "cell_type": "code",
   "execution_count": 31,
   "metadata": {},
   "outputs": [],
   "source": [
    "class Yoga(object):\n",
    "\n",
    "    def __repr__(self):\n",
    "        return 'सूर्य नमस्कार'\n"
   ]
  },
  {
   "cell_type": "code",
   "execution_count": 35,
   "metadata": {},
   "outputs": [
    {
     "data": {
      "text/plain": [
       "'सूर्य नमस्कार <-> \\\\u0938\\\\u0942\\\\u0930\\\\u094d\\\\u092f \\\\u0928\\\\u092e\\\\u0938\\\\u094d\\\\u0915\\\\u093e\\\\u0930'"
      ]
     },
     "execution_count": 35,
     "metadata": {},
     "output_type": "execute_result"
    }
   ],
   "source": [
    "'{0!r} <-> {0!a}'.format(Yoga())"
   ]
  },
  {
   "cell_type": "code",
   "execution_count": null,
   "metadata": {},
   "outputs": [],
   "source": []
  },
  {
   "cell_type": "code",
   "execution_count": null,
   "metadata": {},
   "outputs": [],
   "source": []
  },
  {
   "cell_type": "markdown",
   "metadata": {},
   "source": [
    "### `str` in-build module\n",
    "\n",
    "Strings implement all of the common sequence operations, along with the additional methods described below."
   ]
  },
  {
   "cell_type": "code",
   "execution_count": 42,
   "metadata": {
    "scrolled": true
   },
   "outputs": [
    {
     "name": "stdout",
     "output_type": "stream",
     "text": [
      "Maya deploy, version: 0.0.3 \n",
      "                maya Deploy, version: 0.0.3                 \n",
      "****************maya Deploy, version: 0.0.3 ****************\n",
      "maya Deploy, version: 0.0.3 \n",
      "2\n",
      "2\n",
      "False\n",
      "False\n",
      "True\n",
      "-1\n",
      "6\n"
     ]
    }
   ],
   "source": [
    "myStr = \"maya Deploy, version: 0.0.3 \"\n",
    "\n",
    "print(myStr.capitalize())\n",
    "print(myStr.center(60))\n",
    "print(myStr.center(60, \"*\"))\n",
    "print(myStr.center(10, \"*\"))\n",
    "\n",
    "print(myStr.count('a'))\n",
    "print(myStr.count('e'))\n",
    "\n",
    "print(myStr.endswith('all'))\n",
    "\n",
    "print(myStr.endswith('.0.3'))\n",
    "print(myStr.endswith('.0.3 '))\n",
    "\n",
    "print(myStr.find(\"g\"))\n",
    "print(myStr.find(\"e\"))"
   ]
  },
  {
   "cell_type": "markdown",
   "metadata": {},
   "source": [
    "> **Note**: The find() method should be used only if you need to know the position of sub. To check if sub is a substring or not, use the in operator:"
   ]
  },
  {
   "cell_type": "markdown",
   "metadata": {},
   "source": [
    "checking: substring in main_string : returns true or false"
   ]
  },
  {
   "cell_type": "code",
   "execution_count": 45,
   "metadata": {},
   "outputs": [
    {
     "name": "stdout",
     "output_type": "stream",
     "text": [
      "True\n"
     ]
    }
   ],
   "source": [
    "print(\"ma\" in myStr)"
   ]
  },
  {
   "cell_type": "code",
   "execution_count": 46,
   "metadata": {},
   "outputs": [
    {
     "name": "stdout",
     "output_type": "stream",
     "text": [
      "False\n"
     ]
    }
   ],
   "source": [
    "print(\"M\" in myStr)"
   ]
  },
  {
   "cell_type": "code",
   "execution_count": 60,
   "metadata": {},
   "outputs": [
    {
     "name": "stdout",
     "output_type": "stream",
     "text": [
      "True\n",
      "False\n"
     ]
    }
   ],
   "source": [
    "c = \"one\"\n",
    "print(c.isalpha())\n",
    "c = \"1\"\n",
    "print(c.isalpha())"
   ]
  },
  {
   "cell_type": "code",
   "execution_count": 20,
   "metadata": {},
   "outputs": [],
   "source": [
    "superscripts = \"\\u00B2\"\n",
    "five = \"\\u0A6B\"\n",
    "five_punjabi = \"੫\"\n",
    "ten_hindi = \"१०\"\n",
    "num_one = \"1\"\n",
    "one = \"one\"\n",
    "fractions = \"\\u00BC\""
   ]
  },
  {
   "cell_type": "code",
   "execution_count": 15,
   "metadata": {},
   "outputs": [
    {
     "name": "stdout",
     "output_type": "stream",
     "text": [
      "²\n",
      "੫\n",
      "੫\n",
      "१०\n",
      "1\n",
      "one\n",
      "¼\n"
     ]
    }
   ],
   "source": [
    "print(superscripts)\n",
    "print(five)\n",
    "print(five_punjabi)\n",
    "print(ten_hindi)\n",
    "print(num_one)\n",
    "print(one)\n",
    "print(fractions)"
   ]
  },
  {
   "cell_type": "markdown",
   "metadata": {},
   "source": [
    "#### `isdecimal`"
   ]
  },
  {
   "cell_type": "code",
   "execution_count": 17,
   "metadata": {},
   "outputs": [
    {
     "name": "stdout",
     "output_type": "stream",
     "text": [
      "False\n",
      "True\n",
      "True\n",
      "True\n",
      "True\n",
      "False\n",
      "False\n"
     ]
    }
   ],
   "source": [
    "print(superscripts.isdecimal())\n",
    "print(five.isdecimal())\n",
    "print(five_punjabi.isdecimal())\n",
    "print(ten_hindi.isdecimal())\n",
    "print(num_one.isdecimal())\n",
    "print(one.isdecimal())\n",
    "print(fractions.isdecimal())"
   ]
  },
  {
   "cell_type": "code",
   "execution_count": 12,
   "metadata": {},
   "outputs": [
    {
     "name": "stdout",
     "output_type": "stream",
     "text": [
      "10 -> True\n",
      "False\n"
     ]
    }
   ],
   "source": [
    "print(\"10 ->\", \"10\".isdecimal())\n",
    "print(\"10.001\".isdecimal())"
   ]
  },
  {
   "cell_type": "code",
   "execution_count": 13,
   "metadata": {},
   "outputs": [
    {
     "name": "stdout",
     "output_type": "stream",
     "text": [
      "False\n"
     ]
    }
   ],
   "source": [
    "str = u\"this 2009\";  \n",
    "print(str.isdecimal())"
   ]
  },
  {
   "cell_type": "code",
   "execution_count": null,
   "metadata": {},
   "outputs": [],
   "source": []
  },
  {
   "cell_type": "markdown",
   "metadata": {},
   "source": [
    "#### `isdigit`"
   ]
  },
  {
   "cell_type": "code",
   "execution_count": 23,
   "metadata": {},
   "outputs": [
    {
     "name": "stdout",
     "output_type": "stream",
     "text": [
      "True\n",
      "True\n",
      "True\n",
      "True\n",
      "True\n",
      "False\n",
      "False\n"
     ]
    }
   ],
   "source": [
    "# str.isdigit() (Decimals, Subscripts, Superscripts)\n",
    "print(superscripts.isdigit())\n",
    "print(five.isdigit())\n",
    "print(five_punjabi.isdigit())\n",
    "print(ten_hindi.isdigit())\n",
    "print(num_one.isdigit())\n",
    "print(one.isdigit())\n",
    "print(fractions.isdigit())"
   ]
  },
  {
   "cell_type": "code",
   "execution_count": 24,
   "metadata": {},
   "outputs": [
    {
     "name": "stdout",
     "output_type": "stream",
     "text": [
      "True\n",
      "False\n",
      "False\n"
     ]
    }
   ],
   "source": [
    "print(\"10\".isdigit())\n",
    "str = u\"this 2009\";  \n",
    "print(str.isdigit())\n",
    "\n",
    "str = u\"23443.434\";\n",
    "print(str.isdigit())"
   ]
  },
  {
   "cell_type": "markdown",
   "metadata": {},
   "source": [
    "#### `str.isnumeric`"
   ]
  },
  {
   "cell_type": "markdown",
   "metadata": {},
   "source": [
    "- Digits, \n",
    "- Fractions, \n",
    "- Subscripts, \n",
    "- Superscripts"
   ]
  },
  {
   "cell_type": "code",
   "execution_count": 26,
   "metadata": {},
   "outputs": [
    {
     "name": "stdout",
     "output_type": "stream",
     "text": [
      "True\n",
      "True\n",
      "True\n",
      "True\n",
      "True\n",
      "False\n",
      "True\n"
     ]
    }
   ],
   "source": [
    "print(superscripts.isnumeric())\n",
    "print(five.isnumeric())\n",
    "print(five_punjabi.isnumeric())\n",
    "print(ten_hindi.isnumeric())\n",
    "print(num_one.isnumeric())\n",
    "print(one.isnumeric())\n",
    "print(fractions.isnumeric())"
   ]
  },
  {
   "cell_type": "code",
   "execution_count": null,
   "metadata": {},
   "outputs": [],
   "source": []
  },
  {
   "cell_type": "code",
   "execution_count": 36,
   "metadata": {},
   "outputs": [
    {
     "name": "stdout",
     "output_type": "stream",
     "text": [
      "True\n",
      "True\n",
      "True\n",
      "True\n",
      "True\n",
      "True\n",
      "True\n",
      "False\n",
      "True\n",
      "True\n",
      "True\n"
     ]
    }
   ],
   "source": [
    "print(superscripts.isalnum())\n",
    "print(five.isalnum())\n",
    "print(five_punjabi.isalnum())\n",
    "print(ten_hindi.isalnum())\n",
    "print(num_one.isalnum())\n",
    "print(one.isalnum())\n",
    "print(fractions.isalnum())\n",
    "ten_One = \"10 One\"\n",
    "print(ten_One.isalnum())\n",
    "tenOne = \"10One\"\n",
    "print(tenOne.isalnum())\n",
    "print(\"one\".isalnum())\n",
    "print(\"thirteen\".isalnum())"
   ]
  },
  {
   "cell_type": "code",
   "execution_count": null,
   "metadata": {},
   "outputs": [],
   "source": []
  },
  {
   "cell_type": "markdown",
   "metadata": {},
   "source": [
    "### case-insensitive string comparison"
   ]
  },
  {
   "cell_type": "markdown",
   "metadata": {},
   "source": [
    "##### for ASCII strings"
   ]
  },
  {
   "cell_type": "code",
   "execution_count": 39,
   "metadata": {},
   "outputs": [
    {
     "name": "stdout",
     "output_type": "stream",
     "text": [
      "The strings are the same (case insensitive)\n"
     ]
    }
   ],
   "source": [
    "string1 = 'Hello'\n",
    "string2 = 'hello'\n",
    "\n",
    "if string1.lower() == string2.lower():\n",
    "    print(\"The strings are the same (case insensitive)\")\n",
    "else:\n",
    "    print(\"The strings are not the same (case insensitive)\")"
   ]
  },
  {
   "cell_type": "markdown",
   "metadata": {},
   "source": [
    "##### for unicode strings"
   ]
  },
  {
   "cell_type": "code",
   "execution_count": 49,
   "metadata": {},
   "outputs": [
    {
     "name": "stdout",
     "output_type": "stream",
     "text": [
      "The strings are the same (case insensitive)\n"
     ]
    }
   ],
   "source": [
    "str_lower = \"Σίσυφος\"\n",
    "str_upper = \"ΣΊΣΥΦΟΣ\"\n",
    "\n",
    "if str_upper.lower() == str_lower.lower():\n",
    "    print(\"The strings are the same (case insensitive)\")\n",
    "else:\n",
    "    print(\"The strings are not the same (case insensitive)\")"
   ]
  },
  {
   "cell_type": "markdown",
   "metadata": {},
   "source": [
    "but fails in some cases"
   ]
  },
  {
   "cell_type": "code",
   "execution_count": 54,
   "metadata": {},
   "outputs": [
    {
     "name": "stdout",
     "output_type": "stream",
     "text": [
      "The strings are not the same (case insensitive)\n"
     ]
    }
   ],
   "source": [
    "str_lower = \"ß\"\n",
    "str_upper = \"SS\"\n",
    "\n",
    "if str_upper.lower() == str_lower.lower():\n",
    "    print(\"The strings are the same (case insensitive)\")\n",
    "else:\n",
    "    print(\"The strings are not the same (case insensitive)\")"
   ]
  },
  {
   "cell_type": "markdown",
   "metadata": {},
   "source": [
    "So the best bet is using `casefold`. Lets replace `lower` to `casefold` in the above example "
   ]
  },
  {
   "cell_type": "code",
   "execution_count": 1,
   "metadata": {},
   "outputs": [
    {
     "name": "stdout",
     "output_type": "stream",
     "text": [
      "The strings are the same (case insensitive)\n"
     ]
    }
   ],
   "source": [
    "str_lower = \"ß\"\n",
    "str_upper = \"SS\"\n",
    "\n",
    "if str_upper.casefold() == str_lower.casefold():\n",
    "    print(\"The strings are the same (case insensitive)\")\n",
    "else:\n",
    "    print(\"The strings are not the same (case insensitive)\")"
   ]
  },
  {
   "cell_type": "code",
   "execution_count": 14,
   "metadata": {},
   "outputs": [
    {
     "name": "stdout",
     "output_type": "stream",
     "text": [
      "b'\\xd7\\x94\\xd7\\x95\\xd7\\x90 \\xd7\\x90\\xd7\\x95\\xd7\\xa1\\xd7\\xa3 \\xd7\\x90\\xd7\\xaa\\xd7\\x9b\\xd7\\x9d \\xd7\\x9e\\xd7\\x97\\xd7\\xa8 \\xd7\\x91\\xd7\\xa9\\xd7\\x9c\\xd7\\x95\\xd7\\xa9 \\xd7\\x95\\xd7\\x97\\xd7\\xa6\\xd7\\x99.'\n",
      "b'\\xd7\\x94\\xd7\\x95\\xd7\\x90 \\xd7\\x90\\xd7\\x95\\xd7\\xa1\\xd7\\xa3 \\xd7\\x90\\xd7\\xaa\\xd7\\x9b\\xd7\\x9d \\xd7\\x9e\\xd7\\x97\\xd7\\xa8 \\xd7\\x91\\xd7\\xa9\\xd7\\x9c\\xd7\\x95\\xd7\\xa9 \\xd7\\x95\\xd7\\x97\\xd7\\xa6\\xd7\\x99.'\n"
     ]
    }
   ],
   "source": [
    "s = u'הוא אוסף אתכם מחר בשלוש וחצי.'\n",
    "len(s) #29\n",
    "byt = bytes(s, encoding=\"utf8\")\n",
    "len(byt)\n",
    "print(byt)"
   ]
  },
  {
   "cell_type": "code",
   "execution_count": null,
   "metadata": {},
   "outputs": [],
   "source": []
  },
  {
   "cell_type": "markdown",
   "metadata": {},
   "source": [
    "### String Module\n",
    "-----\n",
    "\n",
    "Various functions for dealing with text are implemented in the module *string*."
   ]
  },
  {
   "cell_type": "code",
   "execution_count": 35,
   "metadata": {},
   "outputs": [
    {
     "name": "stdout",
     "output_type": "stream",
     "text": [
      "['Formatter', 'Template', '_ChainMap', '_TemplateMetaclass', '__all__', '__builtins__', '__cached__', '__doc__', '__file__', '__loader__', '__name__', '__package__', '__spec__', '_re', '_string', 'ascii_letters', 'ascii_lowercase', 'ascii_uppercase', 'capwords', 'digits', 'hexdigits', 'octdigits', 'printable', 'punctuation', 'whitespace']\n"
     ]
    }
   ],
   "source": [
    "import string\n",
    "\n",
    "# the alphabet\n",
    "print(dir(string))"
   ]
  },
  {
   "cell_type": "code",
   "execution_count": 86,
   "metadata": {},
   "outputs": [
    {
     "name": "stdout",
     "output_type": "stream",
     "text": [
      "abcdefghijklmnopqrstuvwxyzABCDEFGHIJKLMNOPQRSTUVWXYZ\n"
     ]
    }
   ],
   "source": [
    "a = string.ascii_letters\n",
    "print(a)"
   ]
  },
  {
   "cell_type": "code",
   "execution_count": 83,
   "metadata": {},
   "outputs": [
    {
     "name": "stdout",
     "output_type": "stream",
     "text": [
      "bcdefghijklmnopqrstuvwxyzABCDEFGHIJKLMNOPQRSTUVWXYZa\n"
     ]
    }
   ],
   "source": [
    "# Shifting left the alphabet\n",
    "b = a[1:] + a[0]\n",
    "print(b)"
   ]
  },
  {
   "cell_type": "code",
   "execution_count": 84,
   "metadata": {},
   "outputs": [
    {
     "name": "stdout",
     "output_type": "stream",
     "text": [
      "str(object='') -> str\n",
      "str(bytes_or_buffer[, encoding[, errors]]) -> str\n",
      "\n",
      "Create a new string object from the given object. If encoding or\n",
      "errors is specified, then the object must expose a data buffer\n",
      "that will be decoded using the given encoding and error handler.\n",
      "Otherwise, returns the result of object.__str__() (if defined)\n",
      "or repr(object).\n",
      "encoding defaults to sys.getdefaultencoding().\n",
      "errors defaults to 'strict'.\n"
     ]
    }
   ],
   "source": [
    "print(b.__doc__)"
   ]
  },
  {
   "cell_type": "code",
   "execution_count": 34,
   "metadata": {},
   "outputs": [
    {
     "ename": "NameError",
     "evalue": "name 'string' is not defined",
     "output_type": "error",
     "traceback": [
      "\u001b[0;31m---------------------------------------------------------------------------\u001b[0m",
      "\u001b[0;31mNameError\u001b[0m                                 Traceback (most recent call last)",
      "\u001b[0;32m<ipython-input-34-835cbfaaef6b>\u001b[0m in \u001b[0;36m<module>\u001b[0;34m()\u001b[0m\n\u001b[0;32m----> 1\u001b[0;31m \u001b[0mprint\u001b[0m\u001b[0;34m(\u001b[0m\u001b[0mstring\u001b[0m\u001b[0;34m.\u001b[0m\u001b[0mdigits\u001b[0m\u001b[0;34m)\u001b[0m\u001b[0;34m\u001b[0m\u001b[0m\n\u001b[0m\u001b[1;32m      2\u001b[0m \u001b[0mprint\u001b[0m\u001b[0;34m(\u001b[0m\u001b[0mstring\u001b[0m\u001b[0;34m.\u001b[0m\u001b[0mhexdigits\u001b[0m\u001b[0;34m)\u001b[0m\u001b[0;34m\u001b[0m\u001b[0m\n\u001b[1;32m      3\u001b[0m \u001b[0mprint\u001b[0m\u001b[0;34m(\u001b[0m\u001b[0mhelp\u001b[0m\u001b[0;34m(\u001b[0m\u001b[0mstring\u001b[0m\u001b[0;34m.\u001b[0m\u001b[0mprintable\u001b[0m\u001b[0;34m)\u001b[0m\u001b[0;34m)\u001b[0m\u001b[0;34m\u001b[0m\u001b[0m\n",
      "\u001b[0;31mNameError\u001b[0m: name 'string' is not defined"
     ]
    }
   ],
   "source": [
    "print(string.digits)\n",
    "print(string.hexdigits)\n",
    "print(help(string.printable))"
   ]
  },
  {
   "cell_type": "code",
   "execution_count": null,
   "metadata": {},
   "outputs": [],
   "source": []
  },
  {
   "cell_type": "markdown",
   "metadata": {},
   "source": [
    "#### Template\n",
    "\n",
    "The module also implements a type called *Template*, which is a model *string* that can be filled through a dictionary. Identifiers are initialized by a dollar sign ($) and may be surrounded by curly braces, to avoid confusion.\n",
    "\n",
    "Example:"
   ]
  },
  {
   "cell_type": "code",
   "execution_count": 91,
   "metadata": {},
   "outputs": [
    {
     "name": "stdout",
     "output_type": "stream",
     "text": [
      "Dated: April 3, 2002\n",
      "Lack of electricity occurred in April 3, 2002 $EOM $what.\n"
     ]
    }
   ],
   "source": [
    "import string\n",
    "\n",
    "# Creates a template string\n",
    "st = string.Template('Dated: $when\\n$warning occurred in $when $$$what $$what.')\n",
    "\n",
    "# Fills the model with a dictionary\n",
    "s = st.substitute({'warning': 'Lack of electricity',\n",
    "    'when': 'April 3, 2002',\n",
    "    'what': 'EOM'})\n",
    "\n",
    "# Shows:\n",
    "# Lack of electricity occurred in April 3, 2002\n",
    "print(s)"
   ]
  },
  {
   "cell_type": "code",
   "execution_count": 1,
   "metadata": {},
   "outputs": [
    {
     "name": "stdout",
     "output_type": "stream",
     "text": [
      "b'H\\xfcsker D\\xfc' => <class 'bytes'>\n",
      "'Hüsker Dü' => <class 'str'>\n"
     ]
    }
   ],
   "source": [
    "# Unicode String \n",
    "u = u'Hüsker Dü'\n",
    "# Convert to str\n",
    "s = u.encode('latin1')\n",
    "print (s, '=>', type(s))\n",
    "\n",
    "# String str\n",
    "s = 'Hüsker Dü'\n",
    "# u = s.decode('latin1')\n",
    "\n",
    "print (repr(u), '=>', type(u))"
   ]
  },
  {
   "cell_type": "markdown",
   "metadata": {},
   "source": [
    "To use both methods, it is necessary to pass as an argument the compliant coding. The most used are \"latin1\" \"utf8\"."
   ]
  },
  {
   "cell_type": "markdown",
   "metadata": {},
   "source": [
    "### References"
   ]
  },
  {
   "cell_type": "markdown",
   "metadata": {},
   "source": [
    "- https://en.wikipedia.org/wiki/Escape_character\n",
    "- https://en.wikipedia.org/wiki/Escape_sequences_in_C"
   ]
  }
 ],
 "metadata": {
  "kernelspec": {
   "display_name": "Python 3",
   "language": "python",
   "name": "python3"
  },
  "language_info": {
   "codemirror_mode": {
    "name": "ipython",
    "version": 3
   },
   "file_extension": ".py",
   "mimetype": "text/x-python",
   "name": "python",
   "nbconvert_exporter": "python",
   "pygments_lexer": "ipython3",
   "version": "3.6.1"
  }
 },
 "nbformat": 4,
 "nbformat_minor": 2
}
