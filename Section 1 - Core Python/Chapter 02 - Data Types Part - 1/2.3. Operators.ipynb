{
 "cells": [
  {
   "cell_type": "markdown",
   "metadata": {},
   "source": [
    "## Operators\n",
    "----"
   ]
  },
  {
   "cell_type": "markdown",
   "metadata": {},
   "source": [
    "We are now going to explore **_Operators_**. They are single or bi character symbols represent a specific type of operation, say addition, multiplication or comparision. \n",
    "\n",
    "Python provides many types of **operators**. We will explore them based on their functionality namely. \n",
    "\n",
    "- Assignment Operators\n",
    "- Arithmetic Operators\n",
    "- Relational Operators\n",
    "- Logical/Boolean Operators\n",
    "- Bitwise Operators"
   ]
  },
  {
   "cell_type": "markdown",
   "metadata": {},
   "source": [
    "### Arithmetic Operators"
   ]
  },
  {
   "cell_type": "markdown",
   "metadata": {},
   "source": [
    "Python supports all most common maths operations as shown in the below table"
   ]
  },
  {
   "cell_type": "markdown",
   "metadata": {},
   "source": [
    "| Syntax \t| Math \t| Operation Name \t|\n",
    "|--------------\t|-------------------------------------------\t|------------------------------------------------------------------\t|\n",
    "| `a + b` \t| a + b \t| addition \t|\n",
    "| `a - b` \t| a - b \t| subtraction \t|\n",
    "| `a * b` \t|  a \\* b   | multiplication \t|\n",
    "| `a / b`\t|  a \\div b  | division (see note below) \t|\n",
    "| `a // b` \t|  a//b \t| floor division (e.g. 5//2=2) \t|\n",
    "| `a % b` \t|  a % b \t| modulo \t| \n",
    "| `-a` \t| -a | negation \t| \n",
    "| abs(a)| <code>&#124; a &#124;</code>\t| absolute value \t|\n",
    "| a**b \t| a**b \t| exponent \t|\n",
    "| math.sqrt(a) \t|  sqrt a  \t| square root \t|\n",
    "\n",
    "> **<center>Note</center>**\n",
    "> In order to use `math.sqrt()` function, you must explicitly load the math module by adding ```import math``` at the top of your file, where all the other modules import's are defined."
   ]
  },
  {
   "cell_type": "markdown",
   "metadata": {},
   "source": [
    "We will explore the below operators with various primary data types  "
   ]
  },
  {
   "cell_type": "markdown",
   "metadata": {},
   "source": [
    "#### Numeric Vs Numeric"
   ]
  },
  {
   "cell_type": "markdown",
   "metadata": {},
   "source": [
    "Following mathemetical operations are supported in python between numeric data"
   ]
  },
  {
   "cell_type": "code",
   "execution_count": 17,
   "metadata": {},
   "outputs": [
    {
     "name": "stdout",
     "output_type": "stream",
     "text": [
      "a = 10 , b = 22\n",
      "~~~~~~~~~~~~~~~~~\n",
      "a + b:\t 32\n",
      "a - b:\t -12\n",
      "a * b:\t 220\n",
      "a / b:\t 0.45454545454545453\n",
      "a//b:\t 0\n",
      "a % b:\t 10\n",
      "-a:\t -10\n",
      "a < b:\t True\n",
      "a > b:\t False\n",
      "a <= b:\t True\n",
      "a >= b:\t False\n",
      "abs(a):\t 10\n",
      "sqrt(a): 3.1622776601683795\n"
     ]
    }
   ],
   "source": [
    "a = 10\n",
    "b = 22\n",
    "print(\"a =\", a, \", b =\", b)\n",
    "print(\"~~~~~~~~~~~~~~~~~\")\n",
    "print(\"a + b:\\t\", a + b)\n",
    "print(\"a - b:\\t\", a - b)\n",
    "print(\"a * b:\\t\", a * b)\n",
    "print(\"a / b:\\t\", a / b)\n",
    "print(\"a//b:\\t\", a//b)\n",
    "print(\"a % b:\\t\", a % b)\n",
    "print(\"-a:\\t\", -a)\n",
    "print(\"a < b:\\t\", a < b)\n",
    "print(\"a > b:\\t\", a > b)\n",
    "print(\"a <= b:\\t\", a <= b)\n",
    "print(\"a >= b:\\t\", a >= b)\n",
    "print(\"abs(a):\\t\", abs(a))\n",
    "import math\n",
    "print(\"sqrt(a):\", math.sqrt(a))"
   ]
  },
  {
   "cell_type": "markdown",
   "metadata": {},
   "source": [
    "#### Numeric Vs String"
   ]
  },
  {
   "cell_type": "code",
   "execution_count": 26,
   "metadata": {},
   "outputs": [
    {
     "name": "stdout",
     "output_type": "stream",
     "text": [
      "a = 10 , b = 22\n",
      "~~~~~~~~~~~~~~~~~\n",
      "a * b:\t 10101010101010101010101010101010101010101010\n"
     ]
    }
   ],
   "source": [
    "a = \"10\"\n",
    "b = 22\n",
    "print(\"a =\", a, \", b =\", b)\n",
    "print(\"~~~~~~~~~~~~~~~~~\")\n",
    "# print(\"a + b:\\t\", a + b)\n",
    "# print(\"a - b:\\t\", a - b)\n",
    "print(\"a * b:\\t\", a * b)\n",
    "# print(\"a / b:\\t\", a / b)\n",
    "# print(\"a//b:\\t\", a//b)\n",
    "# print(\"a % b:\\t\", a % b)\n",
    "# print(\"-a:\\t\", -a)\n",
    "# print(\"a < b:\\t\", a < b)\n",
    "# print(\"a > b:\\t\", a > b)\n",
    "# print(\"a <= b:\\t\", a <= b)\n",
    "# print(\"a >= b:\\t\", a >= b)\n",
    "# print(\"abs(a):\\t\", abs(a))\n",
    "# import math\n",
    "# print(\"sqrt(a):\", math.sqrt(a))"
   ]
  },
  {
   "cell_type": "markdown",
   "metadata": {},
   "source": [
    "As shown above only **\"*\"** multiplication is possible between string & real numeric value"
   ]
  },
  {
   "cell_type": "markdown",
   "metadata": {},
   "source": [
    "#### Complex Vs String"
   ]
  },
  {
   "cell_type": "code",
   "execution_count": 31,
   "metadata": {},
   "outputs": [
    {
     "name": "stdout",
     "output_type": "stream",
     "text": [
      "a = 10 , b = (22+4j)\n",
      "~~~~~~~~~~~~~~~~~\n",
      "can't multiply sequence by non-int of type 'complex'\n"
     ]
    }
   ],
   "source": [
    "a = \"10\"\n",
    "b = 22 + 4j\n",
    "print(\"a =\", a, \", b =\", b)\n",
    "print(\"~~~~~~~~~~~~~~~~~\")\n",
    "try:\n",
    "    print(\"a * b:\\t\", a * b)\n",
    "except Exception as e:\n",
    "    print(e)"
   ]
  },
  {
   "cell_type": "markdown",
   "metadata": {},
   "source": [
    "#### Complex Vs Numeric"
   ]
  },
  {
   "cell_type": "code",
   "execution_count": 9,
   "metadata": {},
   "outputs": [
    {
     "name": "stdout",
     "output_type": "stream",
     "text": [
      "a = (10+4j) , b = 10\n",
      "~~~~~~~~~~~~~~~~~\n",
      "a + b:\t (20+4j)\n",
      "a - b:\t 4j\n",
      "a * b:\t (100+40j)\n",
      "a / b:\t (1+0.4j)\n",
      "-a:\t (-10-4j)\n",
      "abs(a):\t 10.770329614269007\n"
     ]
    }
   ],
   "source": [
    "a = 10 + 4j\n",
    "b = 10\n",
    "print(\"a =\", a, \", b =\", b)\n",
    "print(\"~~~~~~~~~~~~~~~~~\")\n",
    "print(\"a + b:\\t\", a + b)\n",
    "print(\"a - b:\\t\", a - b)\n",
    "print(\"a * b:\\t\", a * b)\n",
    "print(\"a / b:\\t\", a / b)\n",
    "# print(\"a//b:\\t\", a//b)\n",
    "# print(\"a % b:\\t\", a % b)\n",
    "print(\"-a:\\t\", -a)\n",
    "# print(\"a < b:\\t\", a < b)\n",
    "# print(\"a > b:\\t\", a > b)\n",
    "# print(\"a <= b:\\t\", a <= b)\n",
    "# print(\"a >= b:\\t\", a >= b)\n",
    "print(\"abs(a):\\t\", abs(a))\n",
    "import math\n",
    "# print(\"sqrt(a):\", math.sqrt(a))"
   ]
  },
  {
   "cell_type": "markdown",
   "metadata": {},
   "source": [
    "Thus we can see that following operations are not possible with complex data type  floor (//), mod (%), compare (<, >, >=, <=)."
   ]
  },
  {
   "cell_type": "markdown",
   "metadata": {},
   "source": [
    "### Assignment Operators"
   ]
  },
  {
   "cell_type": "markdown",
   "metadata": {},
   "source": [
    "| Syntax \t| Math \t| Operation Name |\n",
    "|--------------\t|-------------------------------------------|------------------------------------------------------------------\t|\n",
    "| `+=` \t| a + b \t| addition \t|\n",
    "| `-=` \t| a - b \t| subtraction \t|\n",
    "| `*=` \t|  a \\* b   | multiplication \t|\n",
    "| `/=`\t|  a \\div b  | division (see note below) \t|\n",
    "| `//=` \t|  a//b \t| floor division (e.g. 5//2=2) \t|\n",
    "| `%=` \t|  a % b \t| modulo \t| "
   ]
  },
  {
   "cell_type": "markdown",
   "metadata": {},
   "source": [
    "#### Numeric"
   ]
  },
  {
   "cell_type": "markdown",
   "metadata": {},
   "source": [
    "##### Int"
   ]
  },
  {
   "cell_type": "code",
   "execution_count": 46,
   "metadata": {},
   "outputs": [
    {
     "name": "stdout",
     "output_type": "stream",
     "text": [
      "c = 10\n",
      "c = 5.0\n",
      "c = 50.0\n",
      "c = 5.0\n",
      "c = 9765625.0\n",
      "c = 976562.0\n",
      "c = 2.0\n"
     ]
    }
   ],
   "source": [
    "a = 10\n",
    "c = 0 \n",
    "c += a\n",
    "print(\"c =\", c)\n",
    "c -= a/2\n",
    "print(\"c =\", c)\n",
    "c *= a\n",
    "print(\"c =\", c)\n",
    "c /= a\n",
    "print(\"c =\", c)\n",
    "c **= a\n",
    "print(\"c =\", c)\n",
    "c //= a\n",
    "print(\"c =\", c)\n",
    "c %= a\n",
    "print(\"c =\", c)"
   ]
  },
  {
   "cell_type": "markdown",
   "metadata": {},
   "source": [
    "#### Real Number"
   ]
  },
  {
   "cell_type": "code",
   "execution_count": 44,
   "metadata": {},
   "outputs": [
    {
     "name": "stdout",
     "output_type": "stream",
     "text": [
      "c = 10.2\n",
      "c = 5.1\n",
      "c = 52.019999999999996\n",
      "c = 5.1\n",
      "c = 16489815.489690851\n",
      "c = 1616648.0\n",
      "c = 9.200000000112617\n"
     ]
    }
   ],
   "source": [
    "\n",
    "a = 10.20\n",
    "c = 0 \n",
    "c += a\n",
    "print(\"c =\", c)\n",
    "c -= a/2\n",
    "print(\"c =\", c)\n",
    "c *= a\n",
    "print(\"c =\", c)\n",
    "c /= a\n",
    "print(\"c =\", c)\n",
    "c **= a\n",
    "print(\"c =\", c)\n",
    "c //= a\n",
    "print(\"c =\", c)\n",
    "c %= a\n",
    "print(\"c =\", c)"
   ]
  },
  {
   "cell_type": "markdown",
   "metadata": {},
   "source": [
    "#### Complex Number"
   ]
  },
  {
   "cell_type": "code",
   "execution_count": 50,
   "metadata": {},
   "outputs": [
    {
     "name": "stdout",
     "output_type": "stream",
     "text": [
      "c = (10+20j)\n",
      "c = (5+10j)\n",
      "c = (-150+200j)\n",
      "c = (5+10j)\n",
      "c = (-6.966954518433685+2.4303120039373587j)\n"
     ]
    }
   ],
   "source": [
    "\n",
    "a = 10 + 20j\n",
    "c = 0 \n",
    "c += a\n",
    "print(\"c =\", c)\n",
    "c -= a/2\n",
    "print(\"c =\", c)\n",
    "c *= a\n",
    "print(\"c =\", c)\n",
    "c /= a\n",
    "print(\"c =\", c)\n",
    "c **= a\n",
    "print(\"c =\", c)\n",
    "# c //= a\n",
    "# print(\"c =\", c)\n",
    "# c %= a\n",
    "# print(\"c =\", c)"
   ]
  },
  {
   "cell_type": "markdown",
   "metadata": {},
   "source": [
    "#### Boolean Number"
   ]
  },
  {
   "cell_type": "code",
   "execution_count": 51,
   "metadata": {},
   "outputs": [
    {
     "name": "stdout",
     "output_type": "stream",
     "text": [
      "c = 1\n",
      "c = 0.5\n",
      "c = 0.5\n",
      "c = 0.5\n",
      "c = 0.5\n",
      "c = 0.0\n",
      "c = 0.0\n"
     ]
    }
   ],
   "source": [
    "a = True\n",
    "c = 0 \n",
    "c += a\n",
    "print(\"c =\", c)\n",
    "c -= a/2\n",
    "print(\"c =\", c)\n",
    "c *= a\n",
    "print(\"c =\", c)\n",
    "c /= a\n",
    "print(\"c =\", c)\n",
    "c **= a\n",
    "print(\"c =\", c)\n",
    "c //= a\n",
    "print(\"c =\", c)\n",
    "c %= a\n",
    "print(\"c =\", c)"
   ]
  },
  {
   "cell_type": "code",
   "execution_count": 55,
   "metadata": {},
   "outputs": [
    {
     "name": "stdout",
     "output_type": "stream",
     "text": [
      "c = 0\n",
      "c = 0.0\n",
      "c = 0.0\n",
      "c = 1.0\n"
     ]
    }
   ],
   "source": [
    "a = False\n",
    "c = 0 \n",
    "c += a\n",
    "print(\"c =\", c)\n",
    "c -= a/2\n",
    "print(\"c =\", c)\n",
    "c *= a\n",
    "print(\"c =\", c)\n",
    "# c /= a\n",
    "# print(\"c =\", c)\n",
    "c **= a\n",
    "print(\"c =\", c)\n",
    "# c //= a\n",
    "# print(\"c =\", c)\n",
    "# c %= a\n",
    "# print(\"c =\", c)"
   ]
  },
  {
   "cell_type": "markdown",
   "metadata": {},
   "source": [
    "### Relational Operators"
   ]
  },
  {
   "cell_type": "code",
   "execution_count": null,
   "metadata": {},
   "outputs": [],
   "source": [
    "There are following relational operators supported by Python language"
   ]
  },
  {
   "cell_type": "markdown",
   "metadata": {},
   "source": [
    "| Syntax \t| Math \t | Operation Name \t    |\n",
    "|----------\t|--------|----------------------|\n",
    "| <         | a < b  | Less- than           | \n",
    "| >         | a > b  | Greater- than        |\n",
    "| <=        | a <= b | Less- than- equal    |\n",
    "| >=        | a >= b | Greater- than- equal |\n",
    "| ==        | a == b | Equal to             | \n",
    "| !=        | a != b | not equal to         |"
   ]
  },
  {
   "cell_type": "markdown",
   "metadata": {},
   "source": [
    "#### Numeric Vs Numeric"
   ]
  },
  {
   "cell_type": "code",
   "execution_count": 28,
   "metadata": {},
   "outputs": [
    {
     "name": "stdout",
     "output_type": "stream",
     "text": [
      "True\n",
      "False\n",
      "True\n",
      "False\n",
      "False\n",
      "True\n"
     ]
    }
   ],
   "source": [
    "a = 10\n",
    "b = 21.22\n",
    "\n",
    "print(a < b)\n",
    "print(a > b)\n",
    "print(a <= b)\n",
    "print(a >= b)\n",
    "print(a == b)\n",
    "print(a != b)"
   ]
  },
  {
   "cell_type": "markdown",
   "metadata": {},
   "source": [
    "#### Numeric Vs String"
   ]
  },
  {
   "cell_type": "code",
   "execution_count": 16,
   "metadata": {},
   "outputs": [
    {
     "name": "stdout",
     "output_type": "stream",
     "text": [
      "False\n",
      "True\n"
     ]
    }
   ],
   "source": [
    "a = 10\n",
    "b = \"Mayank Shrivastava\"\n",
    "\n",
    "# print(a < b)\n",
    "# print(a > b)\n",
    "# print(a <= b)\n",
    "# print(a >= b)\n",
    "print(a == b)\n",
    "print(a != b)"
   ]
  },
  {
   "cell_type": "markdown",
   "metadata": {},
   "source": [
    "#### Numeric Vs Complex "
   ]
  },
  {
   "cell_type": "code",
   "execution_count": 13,
   "metadata": {},
   "outputs": [
    {
     "name": "stdout",
     "output_type": "stream",
     "text": [
      "False\n",
      "True\n"
     ]
    }
   ],
   "source": [
    "a = 10\n",
    "b = 10 + 21j\n",
    "\n",
    "# print(a < b)\n",
    "# print(a > b)\n",
    "# print(a <= b)\n",
    "# print(a >= b)\n",
    "print(a == b)\n",
    "print(a != b)"
   ]
  },
  {
   "cell_type": "markdown",
   "metadata": {},
   "source": [
    "#### Complex Vs Complex"
   ]
  },
  {
   "cell_type": "code",
   "execution_count": 11,
   "metadata": {},
   "outputs": [
    {
     "name": "stdout",
     "output_type": "stream",
     "text": [
      "False\n",
      "True\n"
     ]
    }
   ],
   "source": [
    "a = 10 + 20j\n",
    "b = 10 + 21j\n",
    "\n",
    "# print(a < b)\n",
    "# print(a > b)\n",
    "# print(a <= b)\n",
    "# print(a >= b)\n",
    "print(a == b)\n",
    "print(a != b)"
   ]
  },
  {
   "cell_type": "markdown",
   "metadata": {},
   "source": [
    "#### Complex Vs String"
   ]
  },
  {
   "cell_type": "code",
   "execution_count": 8,
   "metadata": {},
   "outputs": [
    {
     "name": "stdout",
     "output_type": "stream",
     "text": [
      "False\n",
      "True\n"
     ]
    }
   ],
   "source": [
    "a = 10 + 20j\n",
    "b = \"Rishi Rai\"\n",
    "\n",
    "# print(a < b)\n",
    "# print(a > b)\n",
    "# print(a <= b)\n",
    "# print(a >= b)\n",
    "print(a == b)\n",
    "print(a != b)"
   ]
  },
  {
   "cell_type": "markdown",
   "metadata": {},
   "source": [
    "#### String  Vs String"
   ]
  },
  {
   "cell_type": "code",
   "execution_count": 19,
   "metadata": {},
   "outputs": [
    {
     "name": "stdout",
     "output_type": "stream",
     "text": [
      "True\n",
      "False\n",
      "True\n",
      "False\n",
      "False\n",
      "True\n"
     ]
    }
   ],
   "source": [
    "a = \"Manish Nandle\"\n",
    "b = \"Saurabh Dubey\"\n",
    "\n",
    "print(a < b)\n",
    "print(a > b)\n",
    "print(a <= b)\n",
    "print(a >= b)\n",
    "print(a == b)\n",
    "print(a != b)"
   ]
  },
  {
   "cell_type": "markdown",
   "metadata": {},
   "source": [
    "### Logical/Boolean Operators"
   ]
  },
  {
   "cell_type": "code",
   "execution_count": null,
   "metadata": {},
   "outputs": [],
   "source": []
  },
  {
   "cell_type": "markdown",
   "metadata": {},
   "source": [
    "| Syntax \t| example        | Operation Name  | Meaning                                                   |\n",
    "|----------\t|----------------|---------------- |-----------------------------------------------------------|\n",
    "| `and`     | `a and b`      | Logical AND     | returns true if and only if both expressions are true     |\n",
    "| `or`      | `a or b`       | Logical OR      | returns true if and only if even an expressions are true  |\n",
    "| `not`     | `not(a and b)` | Logical NOT     | returns reverse of the expression                         |\n",
    "| `is`      | `a is b`       | Logical IS      | returns true both references are same object else false   |\n",
    "| `in`      | `in`           | Logical IN      | returns true if first is found in second else false       |"
   ]
  },
  {
   "cell_type": "markdown",
   "metadata": {},
   "source": [
    "**Example:**"
   ]
  },
  {
   "cell_type": "code",
   "execution_count": 1,
   "metadata": {},
   "outputs": [
    {
     "name": "stdout",
     "output_type": "stream",
     "text": [
      "0\n",
      "3\n",
      "3\n",
      "2\n",
      "True\n",
      "False\n",
      "True\n",
      "False\n"
     ]
    }
   ],
   "source": [
    "print (0 and 3) # Shows 0\n",
    "print (2 and 3 )# Shows 3\n",
    "\n",
    "print (0 or 3) # Shows 3\n",
    "print (2 or 3) # Shows 2\n",
    "\n",
    "print (not 0) # Shows True\n",
    "print (not 2) # Shows False\n",
    "print (2 in (2, 3)) # Shows True\n",
    "print (2 is 3) # Shows False"
   ]
  },
  {
   "cell_type": "code",
   "execution_count": null,
   "metadata": {},
   "outputs": [],
   "source": []
  },
  {
   "cell_type": "markdown",
   "metadata": {},
   "source": [
    "Besides boolean operators, there are the functions `all()`, which returns true when all of the items in the sequence passed as parameters are true, and `any()`, which returns true if any item is true."
   ]
  },
  {
   "cell_type": "markdown",
   "metadata": {},
   "source": [
    "### Bitwise Operators"
   ]
  },
  {
   "cell_type": "markdown",
   "metadata": {},
   "source": [
    "+ Left Shift (<<)\n",
    "+ Right Shift (>>)\n",
    "+ And (&)\n",
    "+ Or (|)\n",
    "+ Exclusive Or (^)\n",
    "+ Inversion (~)"
   ]
  },
  {
   "cell_type": "code",
   "execution_count": null,
   "metadata": {},
   "outputs": [],
   "source": [
    "a = \"Sunil Kumar Bhele\""
   ]
  },
  {
   "cell_type": "code",
   "execution_count": 36,
   "metadata": {},
   "outputs": [],
   "source": [
    "x = 10 #-> 1010 \n",
    "y = 11 #-> 1011"
   ]
  },
  {
   "cell_type": "markdown",
   "metadata": {},
   "source": [
    "\n",
    "```\n",
    "1011\n",
    "\"\"\"\n",
    "OR\n",
    "0 0 | 0 \n",
    "0 1 | 1\n",
    "1 0 | 1\n",
    "1 1 | 1\n",
    "AND\n",
    "0 0 | 0\n",
    "0 1 | 0\n",
    "1 0 | 0\n",
    "1 1 | 1\n",
    "\"\"\"\n",
    "```"
   ]
  },
  {
   "cell_type": "code",
   "execution_count": 25,
   "metadata": {},
   "outputs": [
    {
     "name": "stdout",
     "output_type": "stream",
     "text": [
      "x << 2 =  40\n",
      "x = 10\n",
      "x >> 2 =  2\n",
      "x &y  =  10\n",
      "x | y  =  11\n",
      "x^y =  1\n",
      "x = 10\n",
      "~x =  -11\n",
      "~y =  -12\n"
     ]
    }
   ],
   "source": [
    "x = 10 #-> 1010 \n",
    "y = 11 #-> 1011\n",
    "\n",
    "print(\"x << 2 = \", x<<2)\n",
    "print(\"x =\", x)\n",
    "print(\"x >> 2 = \", x>>2)\n",
    "print(\"x &y  = \", x&y)\n",
    "print(\"x | y  = \", x|y)\n",
    "print(\"x^y = \", x^y)\n",
    "print(\"x =\", x)\n",
    "print(\"~x = \", ~x)\n",
    "print(\"~y = \", ~y)"
   ]
  },
  {
   "cell_type": "markdown",
   "metadata": {},
   "source": [
    "## Order of Operations\n",
    "---"
   ]
  },
  {
   "cell_type": "markdown",
   "metadata": {},
   "source": [
    "Python uses the standard order of operations as taught in Algebra and Geometry classes. That, mathematical expressions are evaluated in the following order (memorized by many as PEMDAS or BODMAS {Brackets, Orders or pOwers, Division, Multiplication, Addition, Subtraction}) .\n",
    "\n",
    "(Note that operations which share a table row are performed from left to right. That is, a division to the left of a multiplication, with no parentheses between them, is performed before the multiplication simply because it is to the left.)\n",
    "\n",
    "\n",
    "| Name \t| Syntax \t| Description \t| PEMDAS Mnemonic \t|\n",
    "|----------------------------\t|----------\t|----------------------------------------------------------------------------------------------------------------------------------------\t|-----------------\t|\n",
    "| Parentheses \t| ( ... ) \t| Before operating on anything else, Python must evaluate all parentheticals starting at the innermost level. (This includes functions.) \t| Please \t|\n",
    "| Exponents \t| \\** \t| As an exponent is simply short multiplication or division, it should be evaluated before them. \t| Excuse \t|\n",
    "| Multiplication and Division \t| * / // % \t| Again, multiplication is rapid addition and must, therefore, happen first. \t| My Dear \t|\n",
    "| Addition and Subtraction \t| + - \t| They should happen independent to one another and finally operated among eachother \t| Aunt Sally \t|"
   ]
  },
  {
   "cell_type": "markdown",
   "metadata": {},
   "source": [
    "| operators                | descriptions                           |\n",
    "|--------------------------|----------------------------------------|\n",
    "| (), [], {}, ‘’           | tuple, list, dictionnary, string       |\n",
    "| x.attr, x[], x[i:j], f() | attribute, index, slide, function call |\n",
    "| +x, -x, ~x               | unary negation, bitwise invert         |\n",
    "| **                       | exponent                               |\n",
    "| *, /, %                  | multiplication, division, modulo       |\n",
    "| +, -                     | addition, substraction                 |\n",
    "| <<, >>                   | bitwise shifts                         |\n",
    "| &                        | bitwise and                            |\n",
    "| ^                        | bitwise xor                            |\n",
    "|                          | bitwise or                             |\n",
    "| <, <=, >=, >             | comparison operators                   |\n",
    "| ==, !=, is, is not, in,  | comparison operators (continue)        |\n",
    "| not in                   | comparison operators (continue)        |\n",
    "| not                      | boolean NOT                            |\n",
    "| and                      | boolean AND                            |\n",
    "| or                       | boolean OR                             |\n",
    "| lambda                   | lamnda expression                      |"
   ]
  },
  {
   "cell_type": "markdown",
   "metadata": {},
   "source": [
    "## Formatting output\n",
    "---\n",
    "### round()\n"
   ]
  },
  {
   "cell_type": "code",
   "execution_count": 21,
   "metadata": {},
   "outputs": [
    {
     "name": "stdout",
     "output_type": "stream",
     "text": [
      "3.14\n"
     ]
    }
   ],
   "source": [
    "print (round(3.14159265, 2))"
   ]
  },
  {
   "cell_type": "markdown",
   "metadata": {},
   "source": [
    "During the operations, numbers are converted appropriately (eg. `(1.5 + 4j) + 3` gives `4.5 + 4j`).\n",
    "\n",
    "Besides operators, there are also some *builtin* features to handle numeric types: `abs()`, which returns the absolute value of the number, `oct()`, which converts to octal, `hex()`, which converts for hexadecimal, `pow()`, which raises a number by another and `round()`, which returns a real number with the specified rounding."
   ]
  },
  {
   "cell_type": "markdown",
   "metadata": {},
   "source": [
    "### Review"
   ]
  },
  {
   "cell_type": "markdown",
   "metadata": {},
   "source": [
    "#### what is the output of the followings:"
   ]
  },
  {
   "cell_type": "markdown",
   "metadata": {},
   "source": [
    "- \n",
    "```python\n",
    "print(0.1 + 0.11 == 0.12)\n",
    "```"
   ]
  },
  {
   "cell_type": "markdown",
   "metadata": {},
   "source": [
    "**Ans:** False"
   ]
  },
  {
   "cell_type": "markdown",
   "metadata": {},
   "source": [
    "- \n",
    "```python\n",
    "print(0.11 + 0.2 == 0.31)\n",
    "```"
   ]
  },
  {
   "cell_type": "markdown",
   "metadata": {},
   "source": [
    "**Ans: ** True"
   ]
  },
  {
   "cell_type": "markdown",
   "metadata": {},
   "source": [
    "- \n",
    "```python\n",
    "print(~1011)\n",
    "```"
   ]
  },
  {
   "cell_type": "markdown",
   "metadata": {},
   "source": [
    "**Ans: ** -1012"
   ]
  },
  {
   "cell_type": "markdown",
   "metadata": {},
   "source": [
    "- \n",
    "```python\n",
    "b = 0x1000\n",
    "a = 10\n",
    "a = b\n",
    "print(a, b)\n",
    "```"
   ]
  },
  {
   "cell_type": "markdown",
   "metadata": {},
   "source": [
    "**Ans: ** 4096 4096"
   ]
  },
  {
   "cell_type": "markdown",
   "metadata": {},
   "source": [
    "- \n",
    "```python\n",
    "5 + 2 // 4\n",
    "```"
   ]
  },
  {
   "cell_type": "markdown",
   "metadata": {},
   "source": [
    "**Ans: ** 5"
   ]
  },
  {
   "cell_type": "markdown",
   "metadata": {},
   "source": [
    "- \n",
    "```python\n",
    "(5 + 2)%(1 + 4/2)\n",
    "```"
   ]
  },
  {
   "cell_type": "markdown",
   "metadata": {},
   "source": [
    "**Ans: ** 1.0"
   ]
  },
  {
   "cell_type": "markdown",
   "metadata": {},
   "source": [
    "- \n",
    "```python\n",
    "5 + 2%4\n",
    "```"
   ]
  },
  {
   "cell_type": "markdown",
   "metadata": {},
   "source": [
    "**Ans: ** 7"
   ]
  },
  {
   "cell_type": "markdown",
   "metadata": {},
   "source": [
    "- \n",
    "```python\n",
    "5 + 2*4\n",
    "```"
   ]
  },
  {
   "cell_type": "markdown",
   "metadata": {},
   "source": [
    "**Ans: ** 13"
   ]
  },
  {
   "cell_type": "markdown",
   "metadata": {},
   "source": [
    "- \n",
    "```python\n",
    "5 % 2*4 // 2\n",
    "```"
   ]
  },
  {
   "cell_type": "markdown",
   "metadata": {},
   "source": [
    "**Ans: ** 2"
   ]
  },
  {
   "cell_type": "markdown",
   "metadata": {},
   "source": [
    "- \n",
    "```python\n",
    "int(5.55 % 2+3/3)\n",
    "```"
   ]
  },
  {
   "cell_type": "markdown",
   "metadata": {},
   "source": [
    "**Ans: ** 2"
   ]
  },
  {
   "cell_type": "markdown",
   "metadata": {},
   "source": [
    "- \n",
    "```python\n",
    "round(5.55 % 2+3/3)\n",
    "```"
   ]
  },
  {
   "cell_type": "markdown",
   "metadata": {},
   "source": [
    "**Ans: ** 3"
   ]
  },
  {
   "cell_type": "markdown",
   "metadata": {},
   "source": [
    "- \n",
    "```python\n",
    "~~~~15\n",
    "```"
   ]
  },
  {
   "cell_type": "markdown",
   "metadata": {},
   "source": [
    "**Ans: ** 15"
   ]
  },
  {
   "cell_type": "markdown",
   "metadata": {},
   "source": [
    "- \n",
    "```python\n",
    "2**(3**2)\n",
    "```"
   ]
  },
  {
   "cell_type": "markdown",
   "metadata": {},
   "source": [
    "**Ans:** 512"
   ]
  },
  {
   "cell_type": "markdown",
   "metadata": {},
   "source": [
    "- \n",
    "```python\n",
    "(2**3)**2\n",
    "``` "
   ]
  },
  {
   "cell_type": "markdown",
   "metadata": {},
   "source": [
    "**Ans:** 64"
   ]
  },
  {
   "cell_type": "markdown",
   "metadata": {},
   "source": [
    "- \n",
    "```python\n",
    "2**3**2\n",
    "```"
   ]
  },
  {
   "cell_type": "markdown",
   "metadata": {},
   "source": [
    "**Ans: ** 512"
   ]
  },
  {
   "cell_type": "markdown",
   "metadata": {},
   "source": [
    "- \n",
    "```python\n",
    "a = 1\n",
    "a, b = a+1, a+1\n",
    "print(a)\n",
    "print(b)\n",
    "```"
   ]
  },
  {
   "cell_type": "markdown",
   "metadata": {},
   "source": [
    "**Ans: **\n",
    "```\n",
    "2\n",
    "2\n",
    "```"
   ]
  },
  {
   "cell_type": "markdown",
   "metadata": {},
   "source": [
    "- \n",
    "```python\n",
    "i + = 1\n",
    "```"
   ]
  },
  {
   "cell_type": "markdown",
   "metadata": {},
   "source": [
    "**Ans: ** SyntaxError: invalid syntax"
   ]
  },
  {
   "cell_type": "markdown",
   "metadata": {},
   "source": [
    "## Reference, Recommendation, Remarks & Thanks \n",
    "\n",
    "- https://en.wikibooks.org/wiki/Python_Programming/Operators"
   ]
  }
 ],
 "metadata": {
  "anaconda-cloud": {},
  "kernelspec": {
   "display_name": "Python 3",
   "language": "python",
   "name": "python3"
  },
  "language_info": {
   "codemirror_mode": {
    "name": "ipython",
    "version": 3
   },
   "file_extension": ".py",
   "mimetype": "text/x-python",
   "name": "python",
   "nbconvert_exporter": "python",
   "pygments_lexer": "ipython3",
   "version": "3.6.1"
  }
 },
 "nbformat": 4,
 "nbformat_minor": 1
}
