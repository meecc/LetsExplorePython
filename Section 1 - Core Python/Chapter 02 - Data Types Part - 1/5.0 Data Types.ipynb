{
 "cells": [
  {
   "cell_type": "markdown",
   "metadata": {},
   "source": [
    "# Data Types\n",
    "-----"
   ]
  },
  {
   "cell_type": "markdown",
   "metadata": {},
   "source": [
    "Python provides following data types\n",
    "\n",
    "1. Basic Data Types:\n",
    "    - Numbers (integer, real, complex, boolean ... )\n",
    "    - Strings\n",
    "\n",
    "2. Complex data types such as collections:\n",
    "    - List\n",
    "    - Tuple\n",
    "    - Dictionary\n",
    "\n",
    "Just like Java data types in python are also of two types:\n",
    "- **Mutable**: Which allows the content of the variable to be changed, example: list, dictionary. (mostly complex datatype)\n",
    "- **Immutable**: Which do not allow the contents of variables to be changed, examples: string, integer etc (mostly basic datatype)\n",
    "\n",
    "The data types which we are doing to discuss in this chapter are part of default implementation, so they are part of default python and no module is needed to be imported."
   ]
  }
 ],
 "metadata": {
  "anaconda-cloud": {},
  "kernelspec": {
   "display_name": "Python 3",
   "language": "python",
   "name": "python3"
  },
  "language_info": {
   "codemirror_mode": {
    "name": "ipython",
    "version": 3
   },
   "file_extension": ".py",
   "mimetype": "text/x-python",
   "name": "python",
   "nbconvert_exporter": "python",
   "pygments_lexer": "ipython3",
   "version": "3.6.1"
  }
 },
 "nbformat": 4,
 "nbformat_minor": 1
}
