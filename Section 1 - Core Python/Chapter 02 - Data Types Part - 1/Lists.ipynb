{
 "cells": [
  {
   "cell_type": "markdown",
   "metadata": {},
   "source": [
    "## Lists"
   ]
  },
  {
   "cell_type": "markdown",
   "metadata": {},
   "source": [
    "Lists are **collections** of **heterogeneous objects**, which can be of any type, including other lists.\n",
    "\n",
    "Lists in the Python are mutable and can be changed at any time. Lists can be sliced ​​in the same way as *strings*, but as the lists are mutable, it is possible to make assignments to the list items.\n",
    "\n",
    "**Syntax**:\n",
    "\n",
    "```python\n",
    "list = [a, b, ..., z]\n",
    "```\n",
    "\n",
    "Common operations with lists:"
   ]
  },
  {
   "cell_type": "code",
   "execution_count": 15,
   "metadata": {},
   "outputs": [
    {
     "name": "stdout",
     "output_type": "stream",
     "text": [
      "Apple <class 'str'>\n",
      "Mango <class 'str'>\n",
      "Grapes <class 'str'>\n",
      "Jackfruit <class 'str'>\n",
      "Apple <class 'str'>\n",
      "Banana <class 'str'>\n",
      "Grapes <class 'str'>\n",
      "[1, 'Orange'] <class 'list'>\n",
      "******************************\n",
      "['Apple', 'Mango', 'Grapes', 'Water Melon', 'Jackfruit', 'Apple', 'Banana', 'Grapes', [1, 'Orange']]\n"
     ]
    }
   ],
   "source": [
    "fruits = ['Apple', 'Mango', 'Grapes', 'Jackfruit', \n",
    "          'Apple', 'Banana', 'Grapes', [1, \"Orange\"]]\n",
    "\n",
    "# processing the entire list\n",
    "for fruit in fruits:\n",
    "     print(fruit, type(fruit))\n",
    "\n",
    "#\n",
    "print(\"*\"*30)\n",
    "\n",
    "\n",
    "fruits.insert(3, \"Water Melon\")\n",
    "print(fruits)"
   ]
  },
  {
   "cell_type": "code",
   "execution_count": 10,
   "metadata": {},
   "outputs": [
    {
     "name": "stdout",
     "output_type": "stream",
     "text": [
      "140478987775624\n",
      "140478987775624\n"
     ]
    }
   ],
   "source": [
    "# !! Gotcha's \n",
    "fr = fruits\n",
    "print(id(fr))\n",
    "print(id(fruits))"
   ]
  },
  {
   "cell_type": "code",
   "execution_count": 12,
   "metadata": {},
   "outputs": [
    {
     "name": "stdout",
     "output_type": "stream",
     "text": [
      "140478987045448\n",
      "140478987775624\n",
      "140478986941976\n",
      "140478986941976\n"
     ]
    }
   ],
   "source": [
    "ft1 = list(fruits)\n",
    "print(id(ft1))\n",
    "print(id(fruits))\n",
    "print(id(ft1[2]))\n",
    "print(id(fruits[2]))"
   ]
  },
  {
   "cell_type": "code",
   "execution_count": 13,
   "metadata": {},
   "outputs": [
    {
     "name": "stdout",
     "output_type": "stream",
     "text": [
      "140478986909000\n",
      "140478987775624\n",
      "140478986941976\n",
      "140478986941976\n"
     ]
    }
   ],
   "source": [
    "ft1 = fruits[:]\n",
    "print(id(ft1))\n",
    "print(id(fruits))\n",
    "print(id(ft1[2]))\n",
    "print(id(fruits[2]))"
   ]
  },
  {
   "cell_type": "code",
   "execution_count": null,
   "metadata": {},
   "outputs": [],
   "source": []
  },
  {
   "cell_type": "code",
   "execution_count": 24,
   "metadata": {},
   "outputs": [
    {
     "name": "stdout",
     "output_type": "stream",
     "text": [
      "[['kiwi', 'Apple', 'Camel'], 'Apple', 'Mango', 'Grapes', 'Water Melon', 'Jackfruit', 'Apple', 'Banana', 'Grapes', [1, 'Orange'], 'Camel', ['kiwi', 'Apple', 'Camel'], 'Camel', ['kiwi', 'Apple', 'Camel'], 'kiwi', 'Apple', 'Camel', 'Camel', 'Camel', 'Camel', 'Camel', 'Camel']\n",
      "[['kiwi', 'Apple', 'Camel'], 'Apple', 'Mango', 'Grapes', 'Water Melon', 'Jackfruit', 'Apple', 'Banana', 'Grapes', [1, 'Orange'], 'Camel', ['kiwi', 'Apple', 'Camel'], 'Camel', ['kiwi', 'Apple', 'Camel'], 'kiwi', 'Apple', 'Camel', 'Camel', 'Camel', 'Camel', 'Camel', 'Camel', ['kiwi', 'Apple', 'Camel']]\n"
     ]
    }
   ],
   "source": [
    "fruits.append('Camel')\n",
    "print(fruits)\n",
    "fruits.append(['kiwi', 'Apple', 'Camel'])\n",
    "print(fruits)"
   ]
  },
  {
   "cell_type": "code",
   "execution_count": 18,
   "metadata": {},
   "outputs": [
    {
     "name": "stdout",
     "output_type": "stream",
     "text": [
      "['Apple', 'Mango', 'Grapes', 'Water Melon', 'Jackfruit', 'Apple', 'Banana', 'Grapes', [1, 'Orange'], 'Camel', ['kiwi', 'Apple', 'Camel'], 'Camel', ['kiwi', 'Apple', 'Camel'], 'kiwi', 'Apple', 'Camel']\n"
     ]
    }
   ],
   "source": [
    "fruits.extend(['kiwi', 'Apple', 'Camel'])\n",
    "print(fruits)"
   ]
  },
  {
   "cell_type": "markdown",
   "metadata": {},
   "source": [
    "> NOTE: Only one level of extending happens, apple and camel are still in sub-list"
   ]
  },
  {
   "cell_type": "code",
   "execution_count": 14,
   "metadata": {},
   "outputs": [
    {
     "name": "stdout",
     "output_type": "stream",
     "text": [
      "['kiwi', 'Apple', 'Mango', 'Grapes', 'Jackfruit', 'Apple', 'Banana', 'Grapes', [1, 'Orange'], 'Camel', 'Camel', ['kiwi', 'Apple', 'Camel'], 'Camel', ['kiwi', 'Apple', 'Camel'], 'Camel', ['kiwi', 'Apple', 'Camel'], 'kiwi', 'Apple', 'Camel', 'kiwi', 'Apple', 'Camel', 'kiwi', ['Apple', 'Camel']]\n"
     ]
    }
   ],
   "source": [
    "fruits.extend(['kiwi', ['Apple', 'Camel']])\n",
    "print(fruits)"
   ]
  },
  {
   "cell_type": "markdown",
   "metadata": {},
   "source": [
    "## Removing"
   ]
  },
  {
   "cell_type": "code",
   "execution_count": 4,
   "metadata": {},
   "outputs": [
    {
     "name": "stdout",
     "output_type": "stream",
     "text": [
      "['kiwi', 'Apple', 'Mango', 'Grapes', 'Jackfruit', 'Apple', 'Banana', [1, 'Orange'], 'Camel']\n"
     ]
    }
   ],
   "source": [
    "## Removing the second instance of Grapes\n",
    "x = 0\n",
    "y = 0\n",
    "for fruit in fruits:\n",
    "    if x == 1 and fruit == 'Grapes':\n",
    "#          del (fruits[y])\n",
    "        fruits.pop(y)\n",
    "    elif fruit == 'Grapes':\n",
    "        x = 1\n",
    "    y +=1\n",
    "    \n",
    "print(fruits)   "
   ]
  },
  {
   "cell_type": "code",
   "execution_count": null,
   "metadata": {},
   "outputs": [],
   "source": [
    "fruits.remove('Grapes')"
   ]
  },
  {
   "cell_type": "markdown",
   "metadata": {},
   "source": [
    "## Appending"
   ]
  },
  {
   "cell_type": "code",
   "execution_count": 10,
   "metadata": {},
   "outputs": [
    {
     "name": "stdout",
     "output_type": "stream",
     "text": [
      "['kiwi', 'Apple', 'Mango', 'Jackfruit', 'Apple', 'Banana', [1, 'Orange'], 'Camel']\n"
     ]
    }
   ],
   "source": [
    "print(fruits)\n",
    "fruits.append(\"Grapes\")"
   ]
  },
  {
   "cell_type": "markdown",
   "metadata": {},
   "source": [
    "## Ordering "
   ]
  },
  {
   "cell_type": "code",
   "execution_count": 32,
   "metadata": {},
   "outputs": [
    {
     "name": "stdout",
     "output_type": "stream",
     "text": [
      "['Apple', 'Camel', 'kiwi']\n"
     ]
    }
   ],
   "source": [
    "# These will work on only homogeneous list and will fail for heterogeneous\n",
    "try:\n",
    "    fruits.sort()\n",
    "    print(fruits)\n",
    "except Exception as e:\n",
    "    print(e)"
   ]
  },
  {
   "cell_type": "code",
   "execution_count": 36,
   "metadata": {},
   "outputs": [
    {
     "name": "stdout",
     "output_type": "stream",
     "text": [
      "Help on method_descriptor:\n",
      "\n",
      "sort(...)\n",
      "    L.sort(key=None, reverse=False) -> None -- stable sort *IN PLACE*\n",
      "\n"
     ]
    }
   ],
   "source": [
    "help(list.sort)"
   ]
  },
  {
   "cell_type": "markdown",
   "metadata": {},
   "source": [
    "## Inverting"
   ]
  },
  {
   "cell_type": "code",
   "execution_count": 31,
   "metadata": {},
   "outputs": [
    {
     "name": "stdout",
     "output_type": "stream",
     "text": [
      "['Camel', 'Apple', 'kiwi']\n"
     ]
    }
   ],
   "source": [
    "fruits.reverse()\n",
    "print(fruits)"
   ]
  },
  {
   "cell_type": "code",
   "execution_count": 29,
   "metadata": {},
   "outputs": [
    {
     "name": "stdout",
     "output_type": "stream",
     "text": [
      "['Camel', 'Apple', 'kiwi']\n"
     ]
    }
   ],
   "source": [
    "fruits = ['kiwi', 'Apple', 'Camel']\n",
    "print(fruits[::-1])"
   ]
  },
  {
   "cell_type": "code",
   "execution_count": 37,
   "metadata": {},
   "outputs": [
    {
     "name": "stdout",
     "output_type": "stream",
     "text": [
      "1 => Apple\n",
      "2 => Mango\n",
      "3 => Grapes\n",
      "4 => Jackfruit\n",
      "5 => Apple\n",
      "6 => Banana\n",
      "7 => Grapes\n"
     ]
    }
   ],
   "source": [
    "# # # prints with number order\n",
    "fruits = ['Apple', 'Mango', 'Grapes', 'Jackfruit', \n",
    "          'Apple', 'Banana', 'Grapes']\n",
    "for i, prog in enumerate(fruits):\n",
    "    print( i + 1, '=>', prog)"
   ]
  },
  {
   "cell_type": "markdown",
   "metadata": {},
   "source": [
    "The function `enumerate()` returns a tuple of two elements in each iteration: a sequence number and an item from the corresponding sequence.\n",
    "\n",
    "The list has a `pop()` method that helps the implementation of queues and stacks:"
   ]
  },
  {
   "cell_type": "code",
   "execution_count": 21,
   "metadata": {},
   "outputs": [
    {
     "name": "stdout",
     "output_type": "stream",
     "text": [
      "0 A\n",
      "1 B\n",
      "2 C\n"
     ]
    }
   ],
   "source": [
    "my_list = ['A', 'B', 'C']\n",
    "for a, b in enumerate(my_list):\n",
    "    print(a, b)"
   ]
  },
  {
   "cell_type": "code",
   "execution_count": 25,
   "metadata": {},
   "outputs": [
    {
     "name": "stdout",
     "output_type": "stream",
     "text": [
      "list: ['A', 'B', 'C']\n",
      "Left A , remain 2 ['B', 'C']\n",
      "Left B , remain 1 ['C']\n",
      "Left C , remain 0 []\n",
      "list: ['G', 'D', 'E', 'F']\n",
      "Left F , remain 3 ['G', 'D', 'E']\n",
      "Left E , remain 2 ['G', 'D']\n",
      "Left D , remain 1 ['G']\n",
      "Left G , remain 0 []\n"
     ]
    }
   ],
   "source": [
    "my_list = ['A', 'B', 'C']\n",
    "print ('list:', my_list)\n",
    "\n",
    "# # The empty list is evaluated as false\n",
    "while my_list:\n",
    "    # In queues, the first item is the first to go out\n",
    "    # pop(0) removes and returns the first item \n",
    "    print ('Left', my_list.pop(0), ', remain', len(my_list), my_list)\n",
    "\n",
    "my_list.append(\"G\")\n",
    "# # More items on the list\n",
    "my_list += ['D', 'E', 'F']\n",
    "print ('list:', my_list)\n",
    "\n",
    "while my_list:\n",
    "    # On stacks, the first item is the last to go out\n",
    "    # pop() removes and retorns the last item\n",
    "    print ('Left', my_list.pop(), ', remain', len(my_list), my_list)"
   ]
  },
  {
   "cell_type": "code",
   "execution_count": 39,
   "metadata": {
    "scrolled": true
   },
   "outputs": [
    {
     "name": "stdout",
     "output_type": "stream",
     "text": [
      "['D', 'E', 'F', 'G', 'H']\n",
      "['__add__', '__class__', '__contains__', '__delattr__', '__delitem__', '__dir__', '__doc__', '__eq__', '__format__', '__ge__', '__getattribute__', '__getitem__', '__gt__', '__hash__', '__iadd__', '__imul__', '__init__', '__iter__', '__le__', '__len__', '__lt__', '__mul__', '__ne__', '__new__', '__reduce__', '__reduce_ex__', '__repr__', '__reversed__', '__rmul__', '__setattr__', '__setitem__', '__sizeof__', '__str__', '__subclasshook__', 'append', 'clear', 'copy', 'count', 'extend', 'index', 'insert', 'pop', 'remove', 'reverse', 'sort']\n",
      "********\n",
      "['__add__', '__class__', '__contains__', '__delattr__', '__dir__', '__doc__', '__eq__', '__format__', '__ge__', '__getattribute__', '__getitem__', '__getnewargs__', '__gt__', '__hash__', '__init__', '__iter__', '__le__', '__len__', '__lt__', '__mul__', '__ne__', '__new__', '__reduce__', '__reduce_ex__', '__repr__', '__rmul__', '__setattr__', '__sizeof__', '__str__', '__subclasshook__', 'count', 'index']\n"
     ]
    }
   ],
   "source": [
    "l = ['D', 'E', 'F', \"G\", \"H\"]\n",
    "print(l)\n",
    "k = ('D', \"E\", \"G\", \"H\")\n",
    "print(dir(l))\n",
    "print(\"*\"*8)\n",
    "print(dir(k))\n"
   ]
  },
  {
   "cell_type": "markdown",
   "metadata": {},
   "source": [
    "The sort (*sort*) and reversal (*reverse*) operations are performed in the list and do not create new lists.\n",
    "\n",
    "Tuples\n",
    "------\n",
    "Similar to lists, but immutable: it's not possible to append, delete or make assignments to the items.\n",
    "\n",
    "Syntax:\n",
    "\n",
    "    my_tuple = (a, b, ..., z)\n",
    "\n",
    "The parentheses are optional.\n",
    "\n",
    "Feature: a tuple with only one element is represented as:\n",
    "\n",
    "t1 = (1,)\n",
    "\n",
    "The tuple elements can be referenced the same way as the elements of a list:\n",
    "\n",
    "    first_element = tuple[0]\n",
    "\n",
    "Lists can be converted into tuples:\n",
    "\n",
    "    my_tuple = tuple(my_list)\n",
    "\n",
    "And tuples can be converted into lists:\n",
    "\n",
    "    my_list = list(my_tuple)\n",
    "\n",
    "While tuple can contain mutable elements, these elements can not undergo assignment, as this would change the reference to the object.\n",
    "\n",
    "Example :"
   ]
  },
  {
   "cell_type": "code",
   "execution_count": 40,
   "metadata": {},
   "outputs": [
    {
     "name": "stdout",
     "output_type": "stream",
     "text": [
      "([1, 2], 4)\n"
     ]
    }
   ],
   "source": [
    "t = ([1, 2], 4)\n",
    "print(t)"
   ]
  },
  {
   "cell_type": "code",
   "execution_count": 41,
   "metadata": {},
   "outputs": [
    {
     "name": "stdout",
     "output_type": "stream",
     "text": [
      " :: Error :: \n",
      "'tuple' object does not support item assignment\n"
     ]
    }
   ],
   "source": [
    "print(\" :: Error :: \")\n",
    "try:\n",
    "    t[0] = 3\n",
    "    print(t)\n",
    "except Exception as e:\n",
    "    print(e)"
   ]
  },
  {
   "cell_type": "code",
   "execution_count": 42,
   "metadata": {},
   "outputs": [
    {
     "name": "stdout",
     "output_type": "stream",
     "text": [
      " :: Error :: \n",
      "'tuple' object does not support item assignment\n"
     ]
    }
   ],
   "source": [
    "\n",
    "print(\" :: Error :: \")\n",
    "try:\n",
    "    t[0] = [1, 2, 3]\n",
    "    print(t)\n",
    "except Exception as e:\n",
    "    print(e)"
   ]
  },
  {
   "cell_type": "code",
   "execution_count": 43,
   "metadata": {},
   "outputs": [
    {
     "name": "stdout",
     "output_type": "stream",
     "text": [
      "([1, 2, 3], 4)\n"
     ]
    }
   ],
   "source": [
    "t[0].append(3)\n",
    "print(t)"
   ]
  },
  {
   "cell_type": "code",
   "execution_count": 36,
   "metadata": {},
   "outputs": [
    {
     "name": "stdout",
     "output_type": "stream",
     "text": [
      "([[1, 2, 3], 2, 3], 4)\n"
     ]
    }
   ],
   "source": [
    "t[0][0] = [1, 2, 3]\n",
    "print(t)"
   ]
  },
  {
   "cell_type": "code",
   "execution_count": 8,
   "metadata": {},
   "outputs": [
    {
     "name": "stdout",
     "output_type": "stream",
     "text": [
      "1\n",
      "2\n",
      "3\n",
      "4\n",
      "5\n"
     ]
    }
   ],
   "source": [
    "ta = (1, 2, 3, 4, 5)\n",
    "\n",
    "for a in ta:\n",
    "    print (a)"
   ]
  },
  {
   "cell_type": "code",
   "execution_count": 9,
   "metadata": {},
   "outputs": [
    {
     "name": "stdout",
     "output_type": "stream",
     "text": [
      "1\n",
      "2\n",
      "3\n",
      "4\n",
      "5\n"
     ]
    }
   ],
   "source": [
    "ta1 = [1, 2, 3, 4, 5]\n",
    "for a in ta1:\n",
    "    print(a)"
   ]
  },
  {
   "cell_type": "markdown",
   "metadata": {},
   "source": [
    "**NOTE**: Tuples are more efficient than conventional lists, as they consume less computing resources (memory) because they are simpler structures the same way *immutable* strings are in relation to *mutable* strings."
   ]
  },
  {
   "cell_type": "markdown",
   "metadata": {},
   "source": [
    "### Lists Versus Tuples\n",
    "\n",
    "Tuples are used to collect an immutable ordered list of elements. This means that to a tuple (**limitation**):\n",
    "\n",
    "- elements can't be added, thus There’s no append() or extend() method for tuples,\n",
    "- elements can't be removed, thus Tuples have no remove() or pop() method,\n",
    "\n",
    "So, if we have a constant set of values and only we will iterate through it than use a tuple instead of a list as It is faster & safer than working with lists, as the tuples contain “write-protect” data."
   ]
  }
 ],
 "metadata": {
  "kernelspec": {
   "display_name": "Python 3",
   "language": "python",
   "name": "python3"
  },
  "language_info": {
   "codemirror_mode": {
    "name": "ipython",
    "version": 3
   },
   "file_extension": ".py",
   "mimetype": "text/x-python",
   "name": "python",
   "nbconvert_exporter": "python",
   "pygments_lexer": "ipython3",
   "version": "3.6.1"
  }
 },
 "nbformat": 4,
 "nbformat_minor": 2
}
