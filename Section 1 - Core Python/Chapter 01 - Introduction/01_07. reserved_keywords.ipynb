{
 "cells": [
  {
   "cell_type": "markdown",
   "metadata": {},
   "source": [
    "# Reserved keywords"
   ]
  },
  {
   "cell_type": "markdown",
   "metadata": {},
   "source": [
    "Python have few reserved keywords, which **cannot** be used as variable names and have specific function or meaing. What that means is that one cannot use a reserved keywords as variable name as shown below. "
   ]
  },
  {
   "cell_type": "markdown",
   "metadata": {},
   "source": [
    "```python\n",
    "is = 10\n",
    "```"
   ]
  },
  {
   "cell_type": "markdown",
   "metadata": {},
   "source": [
    "```\n",
    "File \"<ipython-input-6-cc34fec5d1d4>\", line 1\n",
    "    is = 10\n",
    "     ^\n",
    "SyntaxError: invalid syntax\n",
    "```"
   ]
  },
  {
   "cell_type": "markdown",
   "metadata": {},
   "source": [
    "> **NOTE**: Trying to use one will always result in `SyntaxError` as shown above."
   ]
  },
  {
   "cell_type": "markdown",
   "metadata": {},
   "source": [
    "List of reserved keywords is as follows. We will be covering most of them in later sections, thus are not covering them here and instead just listing them. "
   ]
  },
  {
   "cell_type": "markdown",
   "metadata": {},
   "source": [
    "| | | | | |\n",
    "|--------|----------|---------|----------|--------|\n",
    "| and      | as    | assert   | break | class |\n",
    "| continue | def   | del      | elif  | else  |\n",
    "| except   | False | finally  | for   | from  |\n",
    "| global   | if    | import   | in    | is    |\n",
    "| lambda   | None  | nonlocal | not   | or    |\n",
    "| pass     | raise | return   | True  | try   |\n",
    "| while    | with  | yield    |       |       |"
   ]
  }
 ],
 "metadata": {
  "kernelspec": {
   "display_name": "Python 3",
   "language": "python",
   "name": "python3"
  },
  "language_info": {
   "codemirror_mode": {
    "name": "ipython",
    "version": 3
   },
   "file_extension": ".py",
   "mimetype": "text/x-python",
   "name": "python",
   "nbconvert_exporter": "python",
   "pygments_lexer": "ipython3",
   "version": "3.6.1"
  }
 },
 "nbformat": 4,
 "nbformat_minor": 2
}
