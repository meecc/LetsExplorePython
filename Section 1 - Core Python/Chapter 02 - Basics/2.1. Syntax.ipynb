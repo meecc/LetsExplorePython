{
 "cells": [
  {
   "cell_type": "markdown",
   "metadata": {},
   "source": [
    "# Syntax and Style Guidlines\n",
    "---"
   ]
  },
  {
   "cell_type": "markdown",
   "metadata": {},
   "source": [
    "> **code is read much more often than it is written** -- Guido's key insights"
   ]
  },
  {
   "cell_type": "markdown",
   "metadata": {},
   "source": [
    "One of the main features of Python is properly formatted code, as not properly formatted will **always** result in invalid code. Removing the need for block markers, such as curly brackets '{}' which are so commonly used in most of the languages such as C/C++ & Java, instead of spaces/ tab, results in properly formatted code\n",
    "\n",
    "In this section, we will be discussing major points of language syntax such as comments, blocks multi-line code and introduction to PEP 8."
   ]
  },
  {
   "cell_type": "markdown",
   "metadata": {},
   "source": [
    "## Blocks\n",
    "------"
   ]
  },
  {
   "cell_type": "markdown",
   "metadata": {},
   "source": [
    "In python, indentations are used to define the code blocks instead of using curly brackets \"{\". Indentations can be in the form of either space(s) or tab(s).\n",
    "\n",
    "> **NOTE**: Indentations consistency should be maintained throughout the project and avoid mixing tabs and spaces. The official recommendation coding style (http://www.python.org/dev/peps/pep-0008/) is to use four spaces for indentation and this convention is widely accepted by developers.\n",
    "\n",
    "The line before the block always ends with a colon (:) and is a control structure of the language or a statement of a new structure (a function, a class for example).\n",
    "\n",
    "![Program structure](files\\blocks.png)"
   ]
  },
  {
   "cell_type": "markdown",
   "metadata": {},
   "source": [
    "## Code layout "
   ]
  },
  {
   "cell_type": "markdown",
   "metadata": {},
   "source": [
    "### Lines and Indentation"
   ]
  },
  {
   "cell_type": "markdown",
   "metadata": {},
   "source": [
    "Python doesn't use braces '{}', as most programming languages use, to mark blocks of code for classes, function definitions and flow controls. Blocks of code are denoted by grouped indentation, which is rigidly enforced.\n",
    "\n",
    "The code block should be marked by the same number of spaces in the indentation, such as if four spaces or a tab is used, then it should be consistent for the entire project.\n",
    "\n",
    "*Example*:"
   ]
  },
  {
   "cell_type": "code",
   "execution_count": 1,
   "metadata": {},
   "outputs": [
    {
     "name": "stdout",
     "output_type": "stream",
     "text": [
      "Welcome\n"
     ]
    }
   ],
   "source": [
    "if True:\n",
    "    print(\"Welcome\")\n",
    "else:\n",
    "    print(\"Sayonara\")"
   ]
  },
  {
   "cell_type": "code",
   "execution_count": 2,
   "metadata": {},
   "outputs": [
    {
     "name": "stdout",
     "output_type": "stream",
     "text": [
      "Guten Morgen!\n"
     ]
    }
   ],
   "source": [
    "if True:\n",
    "            print(\"Guten Morgen!\")\n",
    "else:\n",
    "            print(\"Gute Nacht!\")"
   ]
  },
  {
   "cell_type": "markdown",
   "metadata": {},
   "source": [
    "In the example given above, we have uniform four&eight spaces respectively and in both examples, the code worked without any issue. You will also note that in the second example the code is not very readable and the first example it's readable. So, please choose count of spaces which suits your need."
   ]
  },
  {
   "cell_type": "markdown",
   "metadata": {},
   "source": [
    "> **!!! NOTE !!!**:\n",
    "\n",
    "> One can choose any number of spaces from 1 - inifinity but have to stick to them, most commonly used spaces are 2 or 4."
   ]
  },
  {
   "cell_type": "markdown",
   "metadata": {},
   "source": [
    "Execution of below block of code will result in `error` as the indentation level is not uniform. In line `5` we have few extra spaces without any cause, hence the code will fail to execute."
   ]
  },
  {
   "cell_type": "code",
   "execution_count": 3,
   "metadata": {},
   "outputs": [
    {
     "ename": "IndentationError",
     "evalue": "unexpected indent (<ipython-input-3-155005a566f3>, line 5)",
     "output_type": "error",
     "traceback": [
      "\u001b[1;36m  File \u001b[1;32m\"<ipython-input-3-155005a566f3>\"\u001b[1;36m, line \u001b[1;32m5\u001b[0m\n\u001b[1;33m    print(\"False\")\u001b[0m\n\u001b[1;37m    ^\u001b[0m\n\u001b[1;31mIndentationError\u001b[0m\u001b[1;31m:\u001b[0m unexpected indent\n"
     ]
    }
   ],
   "source": [
    "if (True):  \n",
    "    print(\"True\") \n",
    "else:  \n",
    "    print(\"Test\")\n",
    "       print(\"False\")"
   ]
  },
  {
   "cell_type": "markdown",
   "metadata": {},
   "source": [
    "Lets fix the above issue, by setting the indentation and execute the code again"
   ]
  },
  {
   "cell_type": "code",
   "execution_count": 4,
   "metadata": {},
   "outputs": [
    {
     "name": "stdout",
     "output_type": "stream",
     "text": [
      "Answer\n",
      "True\n"
     ]
    }
   ],
   "source": [
    "if True:\n",
    "    print(\"Answer\")\n",
    "    print(\"True\")\n",
    "else:\n",
    "    print(\"Question\")\n",
    "    print(\"False\")"
   ]
  },
  {
   "cell_type": "markdown",
   "metadata": {},
   "source": [
    "For those C/C++/Java developers who are not initially comfortable without `{` can also use `#{ #}` pair, as shown in the example below, to denote the starting block and ending blocks."
   ]
  },
  {
   "cell_type": "code",
   "execution_count": 3,
   "metadata": {},
   "outputs": [
    {
     "name": "stdout",
     "output_type": "stream",
     "text": [
      "Answer\n",
      "True\n"
     ]
    }
   ],
   "source": [
    "if True: #{\n",
    "    print(\"Answer\")\n",
    "    print(\"True\")\n",
    "#}\n",
    "else: #{\n",
    "    print(\"Question\")\n",
    "    print(\"False\")\n",
    "#}"
   ]
  },
  {
   "cell_type": "markdown",
   "metadata": {},
   "source": [
    "## Comments"
   ]
  },
  {
   "cell_type": "markdown",
   "metadata": {},
   "source": [
    "The character `#` marks the beginning of a comment. Any text after the `#` will be ignored until the end of the line, with the exception of functional comments.\n",
    "\n",
    "Functional comments are used to:\n",
    "\n",
    "+ change the encoding of the source file of the program by adding a comment with the text `# - * - coding:  <encoding> - # -` at the beginning of the file, in which `<encoding> ` is the file encoding (usually latin1 or utf-8). Changing encoding is required to support characters that are not part of the English language, in the source code of the program.\n",
    "+ define the interpreter that will be used to run the program on UNIX systems, through a comment starting with `#!` at the beginning of the file, which indicates the path to the interpreter (usually the comment line will be something like ` #!/usr/bin/env python` )."
   ]
  },
  {
   "cell_type": "markdown",
   "metadata": {
    "collapsed": true
   },
   "source": [
    "## Block Comments"
   ]
  },
  {
   "cell_type": "markdown",
   "metadata": {},
   "source": [
    "Block comments generally apply to some (or all) code that follows them, and are indented to the same level as that code. Each line of a block comment starts with a # and a single space (unless it is indented text inside the comment).\n",
    "\n",
    "Paragraphs inside a block comment are separated by a line containing a single # .\n",
    "\n",
    "```python\n",
    "# Date: \n",
    "# Time:\n",
    "# Author:\n",
    "# Method Name:\n",
    "# Description: \n",
    "```"
   ]
  },
  {
   "cell_type": "markdown",
   "metadata": {},
   "source": [
    "## Inline Comments"
   ]
  },
  {
   "cell_type": "markdown",
   "metadata": {},
   "source": [
    "An inline comment is a comment statement on the same line as a code statement and they are usually separated by at least two spaces from the statement and should start with a `#` and a single space.\n",
    "\n",
    "Inline comments are unnecessary and in fact distracting if they state the obvious. Don't do this:\n",
    "\n",
    "```python\n",
    "x = x + 1                 # Increment x\n",
    "```\n",
    "But sometimes, it is useful as shown below:\n",
    "```python\n",
    "x = x + 1                 # Compensate for border\n",
    "```"
   ]
  },
  {
   "cell_type": "markdown",
   "metadata": {},
   "source": [
    "## Tips for Comments\n",
    "---------\n",
    "- Comments that contradict the code are worse than no comments. Always make a priority of keeping the comments up-to-date when the code changes!\n",
    "- Comments should be complete sentences. If a comment is a phrase or sentence, its first word should be capitalized, unless it is an identifier that begins with a lower case letter (never alter the case of identifiers!).\n",
    "- If a comment is short, the period at the end can be omitted. Block comments generally consist of one or more paragraphs built out of complete sentences, and each sentence should end in a period.\n",
    "- You should use two spaces after a sentence-ending period.\n",
    "- When writing English, follow Strunk and White.\n",
    "- Python coders from non-English speaking countries: please write your comments in English, unless you are 120% sure that the code will never be read by people who don't speak your language."
   ]
  },
  {
   "cell_type": "code",
   "execution_count": 5,
   "metadata": {},
   "outputs": [
    {
     "name": "stdout",
     "output_type": "stream",
     "text": [
      "21\n",
      "\n",
      "This is a multi line \n",
      "\n",
      "String\n",
      "\"With me\"\n",
      "'\n",
      "'\n",
      "\n"
     ]
    }
   ],
   "source": [
    "#!/usr/bin/env python\n",
    "\n",
    "# A code line that shows the result of 7 times 3\n",
    "# A CODE LINE THAT SHOW THE RESULT OF 7 TIMES 3 (BAD Comments)\n",
    "\n",
    "print (7 * 3) # This is also a comment\n",
    "\"\"\"\n",
    "This is a multi\n",
    "line comment / String\n",
    "\"\"\"\n",
    "st = '''\n",
    "This is a multi line \n",
    "\n",
    "String\n",
    "\"With me\"\n",
    "'\n",
    "'\n",
    "'''\n",
    "print(st)"
   ]
  },
  {
   "cell_type": "markdown",
   "metadata": {},
   "source": [
    "### Indentation"
   ]
  },
  {
   "cell_type": "markdown",
   "metadata": {},
   "source": [
    "\n",
    "* Use 4 spaces per indentation level \n",
    "* If your code has continuation lines, then they should align wrapped elements either vertically using Python''s implicit line joining inside parentheses, brackets and braces, or using a **hanging indent**. \n",
    "* When using a hanging indent the following should be considered; there should be no arguments on the first line and further indentation should be used to clearly distinguish itself as a continuation line. "
   ]
  },
  {
   "cell_type": "code",
   "execution_count": 1,
   "metadata": {},
   "outputs": [
    {
     "name": "stdout",
     "output_type": "stream",
     "text": [
      "var_one\n",
      "var_one\n"
     ]
    }
   ],
   "source": [
    "# More indentation included to distinguish this from the rest.\n",
    "def long_function_name(\n",
    "        var_one, var_two, var_three,\n",
    "        var_four):\n",
    "    print(var_one)\n",
    "    \n",
    "# Aligned with opening delimiter.\n",
    "foo = long_function_name(\"var_one\", \"var_two\",\n",
    "                         \"var_three\", \"var_four\")\n",
    "\n",
    "\n",
    "# Hanging indents should add a level.\n",
    "foo = long_function_name(\n",
    "    \"var_one\", \"var_two\",\n",
    "    \"var_three\", \"var_four\")"
   ]
  },
  {
   "cell_type": "markdown",
   "metadata": {},
   "source": [
    "## Tabs or Spaces?"
   ]
  },
  {
   "cell_type": "markdown",
   "metadata": {},
   "source": [
    "> **\"\"\"\" Spaces are the preferred indentation method \"\"\"\"**\n",
    "\n",
    "Tabs should be used solely to remain consistent with code that is already indented with tabs.\n",
    "\n",
    "> Python 3 disallows mixing the use of tabs and spaces for indentation."
   ]
  },
  {
   "cell_type": "markdown",
   "metadata": {},
   "source": [
    "### Maximum Line Length\n",
    "-----\n",
    "\n",
    "* Limit all lines to a maximum of 79 characters.\n",
    "\n",
    "* For flowing long blocks of text with fewer structural restrictions (docstrings or comments), the line length should be limited to 72 characters.\n",
    "\n",
    "* Limiting the required editor window width makes it possible to have several files open side-by-side, and works well when using code review tools that present the two versions in adjacent columns.\n",
    "\n",
    "* The default wrapping in most tools disrupts the visual structure of the code, making it more difficult to understand. The limits are chosen to avoid wrapping in editors with the window width set to 80, even if the tool places a marker glyph in the final column when wrapping lines. Some web based tools may not offer dynamic line wrapping at all.\n",
    "\n",
    "* Some teams strongly prefer a longer line length. For code maintained exclusively or primarily by a team that can reach agreement on this issue, it is okay to increase the nominal line length from 80 to 100 characters (effectively increasing the maximum length to 99 characters), provided that comments and docstrings are still wrapped at 72 characters.\n",
    "\n",
    "* The Python standard library is conservative and requires limiting lines to 79 characters (and docstrings/comments to 72).\n",
    "\n",
    "* The preferred way of wrapping long lines is by using Python's implied line continuation inside parentheses, brackets and braces. Long lines can be broken over multiple lines by wrapping expressions in parentheses. These should be used in preference to using a backslash for line continuation.\n",
    "\n",
    "* Backslashes may still be appropriate at times. For example, long, multiple with -statements cannot use implicit continuation, so backslashes are acceptable:"
   ]
  },
  {
   "cell_type": "code",
   "execution_count": null,
   "metadata": {
    "collapsed": true
   },
   "outputs": [],
   "source": [
    "with open('/path/to/some/file/you/want/to/read') as file_1, \\\n",
    "     open('/path/to/some/file/being/written', 'w') as file_2:\n",
    "    file_2.write(file_1.read())"
   ]
  },
  {
   "cell_type": "markdown",
   "metadata": {},
   "source": [
    "## Multiline code\n",
    "---\n",
    "\n",
    "In Python, multi-line code is supported by using the backslash character (`\\`) at the end of the line or parentheses, brackets or braces in expressions that use such characters.\n",
    "\n",
    "Examples of broken lines:"
   ]
  },
  {
   "cell_type": "code",
   "execution_count": 10,
   "metadata": {},
   "outputs": [
    {
     "name": "stdout",
     "output_type": "stream",
     "text": [
      "23.5 ['a', 'b', 'c', 'd', 'e'] range(1, 11)\n"
     ]
    }
   ],
   "source": [
    "# A line broken by backslash\n",
    "a = 7 * 3 + \\\n",
    "5 / 2\n",
    "\n",
    "\n",
    "# A list (broken by comma)\n",
    "b = ['a', 'b', 'c', \n",
    "'d', 'e']\n",
    "\n",
    "# A function call (broken by comma)\n",
    "c = range(1,\n",
    "        11)\n",
    "\n",
    "# Prints everything\n",
    "print(a, b, c)"
   ]
  },
  {
   "cell_type": "code",
   "execution_count": 14,
   "metadata": {},
   "outputs": [
    {
     "name": "stdout",
     "output_type": "stream",
     "text": [
      "234 / 3 = 78.0\n",
      "654 / 3 = 218.0\n",
      "378 / 3 = 126.0\n",
      "798 / 3 = 266.0\n"
     ]
    }
   ],
   "source": [
    "# For i on the list 234, 654, 378, 798:\n",
    "for i in [234, 654, 378, 798]:\n",
    "    # If the remainder dividing by 3 is equal to zero:\n",
    "    if i % 3 == 0: #{\n",
    "       # Prints...\n",
    "        print (i, '/ 3 =', i / 3)\n",
    "    #}"
   ]
  },
  {
   "cell_type": "markdown",
   "metadata": {},
   "source": [
    "The operator `%` computes the modulus (remainder of division)."
   ]
  },
  {
   "cell_type": "markdown",
   "metadata": {},
   "source": [
    "The closing brace/bracket/parenthesis on multi-line constructs may either line up under the first non-whitespace character of the last line of list, as in:"
   ]
  },
  {
   "cell_type": "code",
   "execution_count": 4,
   "metadata": {},
   "outputs": [
    {
     "name": "stdout",
     "output_type": "stream",
     "text": [
      "a b c d e f\n"
     ]
    }
   ],
   "source": [
    "def func(x,y,z,m,n,r):\n",
    "    print(x,y,z,m,n,r)\n",
    "\n",
    "my_list = [\n",
    "    1, 2, 3,\n",
    "    4, 5, 6\n",
    "    ]\n",
    "result = func(\n",
    "    'a', 'b', 'c',\n",
    "    'd', 'e', 'f'\n",
    "    )"
   ]
  },
  {
   "cell_type": "markdown",
   "metadata": {},
   "source": [
    "or it may be lined up under the first character of the line that starts the multi-line construct, as in:"
   ]
  },
  {
   "cell_type": "code",
   "execution_count": 9,
   "metadata": {},
   "outputs": [],
   "source": [
    "def some_function_that_takes_arguments(a1,a2,a3,a4,a5,a6):\n",
    "    pass\n",
    "\n",
    "my_list = [\n",
    "    1, 2, 3,\n",
    "    4, 5, 6,\n",
    "]\n",
    "result = some_function_that_takes_arguments(\n",
    "    'a', 'b', 'c',\n",
    "    'd', 'e', 'f'\n",
    ")"
   ]
  },
  {
   "cell_type": "markdown",
   "metadata": {},
   "source": [
    "### line break before or after a binary operator\n",
    "------\n",
    "\n",
    "Donald Knuth explains the traditional rule in his Computers and Typesetting series: \"Although formulas within a paragraph always break after binary operations and relations, displayed formulas always break before binary operations\".\n",
    "\n",
    "Following the tradition from mathematics usually results in more readable code:"
   ]
  },
  {
   "cell_type": "code",
   "execution_count": null,
   "metadata": {},
   "outputs": [],
   "source": [
    "# Yes: easy to match operators with operands\n",
    "income = (gross_wages\n",
    "          + taxable_interest\n",
    "          + (dividends - qualified_dividends)\n",
    "          - ira_deduction\n",
    "          - student_loan_interest)"
   ]
  },
  {
   "cell_type": "code",
   "execution_count": null,
   "metadata": {},
   "outputs": [],
   "source": [
    "# No: Not easy to match operators with operands\n",
    "income = (gross_wages +\n",
    "          taxable_interest +\n",
    "          (dividends - qualified_dividends) -\n",
    "          ira_deduction -\n",
    "          student_loan_interest)"
   ]
  },
  {
   "cell_type": "markdown",
   "metadata": {},
   "source": [
    "In Python code, it is permissible to break before or after a binary operator, as long as the convention is consistent locally. \n",
    "\n",
    "> *For new code Knuth's style is suggested*. "
   ]
  },
  {
   "cell_type": "markdown",
   "metadata": {},
   "source": [
    "### Blank Lines\n",
    "-----\n",
    "\n",
    "* Surround top-level function and class definitions with **two blank lines**.\n",
    "* Method definitions inside a class are surrounded by a **single blank line**.\n",
    "* Extra blank lines may be used (sparingly) to separate groups of related functions. Blank lines may be omitted between a bunch of related one-liners (e.g. a set of dummy implementations).\n",
    "* Use blank lines in functions, sparingly, to indicate logical sections.\n",
    "* Python accepts the control-L (i.e. ^L) form feed character as whitespace; Many tools treat these characters as page separators, so you may use them to separate pages of related sections of your file. Note, some editors and web-based code viewers may not recognize control-L as a form feed and will show another glyph in its place.\n"
   ]
  },
  {
   "cell_type": "markdown",
   "metadata": {},
   "source": [
    " ### Imports\n",
    "----\n",
    "\n",
    "Imports should usually be on separate lines, e.g.:"
   ]
  },
  {
   "cell_type": "code",
   "execution_count": 6,
   "metadata": {},
   "outputs": [],
   "source": [
    "# Yes: \n",
    "import os\n",
    "import sys\n",
    "\n",
    "# No:  \n",
    "import sys, os\n",
    "\n",
    "# It's okay to say this though:\n",
    "from subprocess import Popen, PIPE\n",
    "\n",
    "#from abc import Popen\n",
    "\n",
    "from subprocess import * # BIG NO"
   ]
  },
  {
   "cell_type": "code",
   "execution_count": 9,
   "metadata": {},
   "outputs": [],
   "source": [
    "from os import * # -> xyz\n",
    "from sys import * # -> xyz"
   ]
  },
  {
   "cell_type": "code",
   "execution_count": null,
   "metadata": {},
   "outputs": [],
   "source": [
    "# from os import xyz as os_xyz\n",
    "# from sys import xyz as sys_xyz "
   ]
  },
  {
   "cell_type": "markdown",
   "metadata": {
    "collapsed": true
   },
   "source": [
    "Imports should be grouped in the following order:\n",
    "\n",
    "* standard library imports\n",
    "* related third party imports\n",
    "* local application/library specific imports\n",
    "\n",
    "blank line between each group of imports is advised."
   ]
  },
  {
   "cell_type": "markdown",
   "metadata": {},
   "source": [
    "# References\n",
    "- PEP 8: Style Guide for Python Code https://www.python.org/dev/peps/pep-0008/ \n"
   ]
  }
 ],
 "metadata": {
  "kernelspec": {
   "display_name": "Python 3",
   "language": "python",
   "name": "python3"
  },
  "language_info": {
   "codemirror_mode": {
    "name": "ipython",
    "version": 3
   },
   "file_extension": ".py",
   "mimetype": "text/x-python",
   "name": "python",
   "nbconvert_exporter": "python",
   "pygments_lexer": "ipython3",
   "version": "3.6.4"
  }
 },
 "nbformat": 4,
 "nbformat_minor": 1
}
