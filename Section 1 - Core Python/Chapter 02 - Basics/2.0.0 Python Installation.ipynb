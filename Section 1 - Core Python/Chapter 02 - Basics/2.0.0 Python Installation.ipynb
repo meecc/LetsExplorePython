{
 "cells": [
  {
   "cell_type": "markdown",
   "metadata": {},
   "source": [
    "# Python Installation\n",
    "\n",
    "----\n",
    "In this section we will discuss about various ways python can be installed. "
   ]
  },
  {
   "cell_type": "markdown",
   "metadata": {},
   "source": [
    "## Selecting Python Distributions"
   ]
  },
  {
   "cell_type": "markdown",
   "metadata": {},
   "source": [
    "Before we install python we need to explore the reasons due to which we need to install python. The reason for doing that is if we know exactly for what reason we are installing/learning python then it will be easy to select the appropriate python distribution. \n",
    "\n",
    "Lets discuss the most common reasons for which we might wish to learn python, you might have altogether new reason. if so please  inform me and I will add it here. \n",
    "1. Part of curriculum in school/collage \n",
    "2. System programming\n",
    "3. Web development\n",
    "4. Desktop application development\n",
    "5. Machine Learning\n",
    "6. Automation\n",
    "\n",
    "If one wishes to have most of the packages preinstalled then can select any distribution from the below list except from python.org."
   ]
  },
  {
   "cell_type": "markdown",
   "metadata": {},
   "source": [
    "Based on the above requirement you might wish to select appropriate python distribution for the listed distribution below. "
   ]
  },
  {
   "cell_type": "markdown",
   "metadata": {},
   "source": [
    "1. [Python.org](https://www.python.org/downloads/)\n",
    "2. [Anaconda](https://www.continuum.io/downloads)\n",
    "3. [Activestate](http://www.activestate.com/activepython/downloads)\n",
    "4. [python(x,y)](http://python-xy.github.io/)\n",
    "5. [WinPython](https://winpython.github.io/)\n",
    "6. [SciPy](https://www.scipy.org/)\n",
    "7. [Enthought Canopy](https://store.enthought.com/downloads/)"
   ]
  },
  {
   "cell_type": "markdown",
   "metadata": {},
   "source": [
    "Usually I prefer to install python from python.org and later add required modules using `pip` command."
   ]
  },
  {
   "cell_type": "markdown",
   "metadata": {},
   "source": [
    "Currently we are not covering alternative python implementations such as \n",
    "- PyPy (Python on Python)\n",
    "- IronPy (.Net framework)\n",
    "- Jython (JVM) etc"
   ]
  },
  {
   "cell_type": "markdown",
   "metadata": {},
   "source": [
    "## Python Environment Variables\n",
    "----- \n",
    "\n",
    "If python is installed from source then the following env variables will not be populated and can be updated manually. \n",
    "\n",
    "* **PYTHONPATH**: It has a role similar to PATH. This variable tells the Python interpreter where to locate the module files imported into a program. It should include the Python source library directory and the directories containing Python source code. PYTHONPATH is sometimes preset by the Python installer.\n",
    "* **PYTHONSTARTUP**: It contains the path of an initialization file containing Python source code. It is executed every time you start the interpreter. It is named as .pythonrc.py in Unix and it contains commands that load utilities or modify PYTHONPATH.\n",
    "* **PYTHONCASEOK**: It is used in Windows to instruct Python to find the first case-insensitive match in an import statement. Set this variable to any value to activate it.\n",
    "* **PYTHONHOME**: It is an alternative module search path. It is usually embedded in the PYTHONSTARTUP or PYTHONPATH directories to make switching module libraries easy."
   ]
  }
 ],
 "metadata": {
  "kernelspec": {
   "display_name": "Python 3",
   "language": "python",
   "name": "python3"
  },
  "language_info": {
   "codemirror_mode": {
    "name": "ipython",
    "version": 3
   },
   "file_extension": ".py",
   "mimetype": "text/x-python",
   "name": "python",
   "nbconvert_exporter": "python",
   "pygments_lexer": "ipython3",
   "version": "3.6.4"
  }
 },
 "nbformat": 4,
 "nbformat_minor": 2
}
