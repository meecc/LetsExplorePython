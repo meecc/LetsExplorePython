{
 "cells": [
  {
   "cell_type": "markdown",
   "metadata": {},
   "source": [
    "## Python Identifiers aka Variables\n",
    "---"
   ]
  },
  {
   "cell_type": "markdown",
   "metadata": {},
   "source": [
    "In Python, variable names are kind of tags/pointers to the memory location which hosts the data. We can also think of it as a labeled container that can store a **single value**. That single value can be of practically any data type."
   ]
  },
  {
   "cell_type": "markdown",
   "metadata": {},
   "source": [
    "### Storing Values in Variables:"
   ]
  },
  {
   "cell_type": "markdown",
   "metadata": {},
   "source": [
    "In Python, the declaration & assignation of value to the variable are done at the same time, i.e. as soon as we assign a value to a non-existing or existing variable, the required memory location is assigned to it and proper data is populated in it."
   ]
  },
  {
   "cell_type": "markdown",
   "metadata": {},
   "source": [
    "> **NOTE**: Storing Values in Python is one of the most important concepts and should be understood with great care. "
   ]
  },
  {
   "cell_type": "code",
   "execution_count": 4,
   "metadata": {},
   "outputs": [
    {
     "name": "stdout",
     "output_type": "stream",
     "text": [
      "MAY\n"
     ]
    }
   ],
   "source": [
    "current_month = \"MAY\"\n",
    "print(current_month)"
   ]
  },
  {
   "cell_type": "markdown",
   "metadata": {},
   "source": [
    "In the above example, `current_month` is the variable name and \"MAY\" is the value associated with it. Operation performed in the first line is called `assignment` and such statements are called `assignment statements`. Lets discuss them in details."
   ]
  },
  {
   "cell_type": "markdown",
   "metadata": {},
   "source": [
    "#### Assignment Statements\n",
    "You’ll store values in variables with an assignment statement. An assignment statement consists of a variable name, an equal sign (called the assignment operator), and the value to be stored. If you enter the assignment statement current_month = \"MAY\", then a variable named `current_month` will be pointing to a memory location which has the string value \"MAY\" stored in it.\n",
    "\n",
    "> In Python, we do not need to declare variable explicitly. They are declared automatically when any value is assigned. The assignment is done using the equal (`=`) operator as shown in the below example:"
   ]
  },
  {
   "cell_type": "code",
   "execution_count": 2,
   "metadata": {
    "collapsed": true
   },
   "outputs": [],
   "source": [
    "current_month = \"MAY\" # A comment.\n",
    "date = 10"
   ]
  },
  {
   "cell_type": "markdown",
   "metadata": {},
   "source": [
    "The pictorial representation of variables from above example.\n",
    "<img src=\"files/variables.png\">"
   ]
  },
  {
   "cell_type": "markdown",
   "metadata": {},
   "source": [
    "Now lets perform some actions on the variable `current_month` and observe the changes happening on it. "
   ]
  },
  {
   "cell_type": "markdown",
   "metadata": {},
   "source": [
    "In the example shown below, we will reassign a new value `JUNE` to the variable `current_month` and observe the effects of it. \n",
    "\n",
    "Image below shows the process of re-assignation. You will note that a new memory is assigned to the variable instead of using the existing one."
   ]
  },
  {
   "cell_type": "code",
   "execution_count": 1,
   "metadata": {},
   "outputs": [],
   "source": [
    "current_month = \"JUNE\""
   ]
  },
  {
   "cell_type": "markdown",
   "metadata": {},
   "source": [
    "![Variable after reassination](files/variable_2.png \"Variable after reassination\")"
   ]
  },
  {
   "cell_type": "markdown",
   "metadata": {},
   "source": [
    "`current_month` was initially pointing to memory location containing value `MAY` and after reassination, it was pointing to a **new** memory location containing value `JUNE` and if no other referencing the previous value, then automatically Python GC will clean it at some future time."
   ]
  },
  {
   "cell_type": "code",
   "execution_count": 10,
   "metadata": {},
   "outputs": [
    {
     "name": "stdout",
     "output_type": "stream",
     "text": [
      "2105604930448\n"
     ]
    }
   ],
   "source": [
    "current_month = \"JUNE\"\n",
    "print(id(current_month))"
   ]
  },
  {
   "cell_type": "code",
   "execution_count": 11,
   "metadata": {},
   "outputs": [
    {
     "name": "stdout",
     "output_type": "stream",
     "text": [
      "2105604930448\n"
     ]
    }
   ],
   "source": [
    "next_month = \"JUNE\"\n",
    "print(id(next_month))"
   ]
  },
  {
   "cell_type": "code",
   "execution_count": 7,
   "metadata": {},
   "outputs": [
    {
     "name": "stdout",
     "output_type": "stream",
     "text": [
      "2105602331288\n"
     ]
    }
   ],
   "source": [
    "next_month = \"June\"\n",
    "print(id(next_month))"
   ]
  },
  {
   "cell_type": "markdown",
   "metadata": {},
   "source": [
    "> **Note:** That value of MAY has not updated but a new memory was allocated for value `JUNE` and varialbe now points to it."
   ]
  },
  {
   "cell_type": "markdown",
   "metadata": {},
   "source": [
    " Later in the chapter, we will show the above senario with more examples."
   ]
  },
  {
   "cell_type": "markdown",
   "metadata": {},
   "source": [
    "### How to find the reference count of a value"
   ]
  },
  {
   "cell_type": "code",
   "execution_count": 12,
   "metadata": {},
   "outputs": [
    {
     "name": "stdout",
     "output_type": "stream",
     "text": [
      "3\n"
     ]
    }
   ],
   "source": [
    "########## Reference count ###################\n",
    "# NOTE: Please test the below code by saving \n",
    "#       it as a file and executing it instead\n",
    "#       of running it here.\n",
    "#############################################\n",
    "import sys\n",
    "\n",
    "new_var = 10101010101000\n",
    "print(sys.getrefcount(new_var))"
   ]
  },
  {
   "cell_type": "markdown",
   "metadata": {},
   "source": [
    "> **NOTE**:\n",
    "\n",
    "> The value of refcount will almost always be more than you think. It is done internally by python to optimize the code. I will be adding more details about it in \"Section 2 -> Chapter: GC & Cleanup\""
   ]
  },
  {
   "cell_type": "markdown",
   "metadata": {},
   "source": [
    "### Multiple Assignment:\n",
    "In multiple assignment, multiple variables are assigned values in a single line. There are two ways multiple assignment can be done in python. In first format all the variables point to the same value and in next all variables point to individual values. "
   ]
  },
  {
   "cell_type": "markdown",
   "metadata": {},
   "source": [
    "#### 1. Assigning single value to multiple variables:"
   ]
  },
  {
   "cell_type": "code",
   "execution_count": 14,
   "metadata": {},
   "outputs": [
    {
     "name": "stdout",
     "output_type": "stream",
     "text": [
      "1000 1000 1000\n"
     ]
    }
   ],
   "source": [
    "x=y=z=1000  \n",
    "print(x, y, z)"
   ]
  },
  {
   "cell_type": "markdown",
   "metadata": {},
   "source": [
    "In the above example, all x, y and z are pointing to same memory location which contains 1000, which we are able to identify by checking the `id` of the variables. They are pointing to the same memory location, thus value of `id` for all three are same. "
   ]
  },
  {
   "cell_type": "code",
   "execution_count": 15,
   "metadata": {},
   "outputs": [
    {
     "name": "stdout",
     "output_type": "stream",
     "text": [
      "2105605017776\n",
      "2105605017776\n",
      "2105605017776\n"
     ]
    }
   ],
   "source": [
    "print(id(x))\n",
    "print(id(y))\n",
    "print(id(z))"
   ]
  },
  {
   "cell_type": "markdown",
   "metadata": {},
   "source": [
    "Now, lets change value of one varialbe and again check respective `id`es."
   ]
  },
  {
   "cell_type": "code",
   "execution_count": 16,
   "metadata": {},
   "outputs": [
    {
     "name": "stdout",
     "output_type": "stream",
     "text": [
      "200\n",
      "1000\n",
      "1000\n",
      "1828423360\n",
      "2105605017776\n",
      "2105605017776\n"
     ]
    }
   ],
   "source": [
    "x = 200\n",
    "print(x)  \n",
    "print(y) \n",
    "print(z)  \n",
    "print(id(x))\n",
    "print(id(y))\n",
    "print(id(z))"
   ]
  },
  {
   "cell_type": "markdown",
   "metadata": {},
   "source": [
    "Now, lets test something else. Can different data types impact the behavior of python memory optimization. We will first test it with integer, string and then with list.  "
   ]
  },
  {
   "cell_type": "code",
   "execution_count": 25,
   "metadata": {},
   "outputs": [
    {
     "name": "stdout",
     "output_type": "stream",
     "text": [
      "1000\n",
      "1000\n",
      "1000\n",
      "140382013287568\n",
      "140382013287408\n",
      "140382013287696\n"
     ]
    }
   ],
   "source": [
    "### INTEGER \n",
    "x=1000\n",
    "y=1000\n",
    "z=1000  \n",
    "print(x)  \n",
    "print(y) \n",
    "print(z)  \n",
    "print(id(x))\n",
    "print(id(y))\n",
    "print(id(z))"
   ]
  },
  {
   "cell_type": "code",
   "execution_count": 17,
   "metadata": {},
   "outputs": [
    {
     "name": "stdout",
     "output_type": "stream",
     "text": [
      "1000\n",
      "1000\n",
      "1000\n",
      "2105604997952\n",
      "2105605018032\n",
      "2105604997952\n"
     ]
    }
   ],
   "source": [
    "### String\n",
    "x=\"1000\"\n",
    "y=1000\n",
    "z=\"1000\"  \n",
    "print(x)  \n",
    "print(y) \n",
    "print(z)  \n",
    "print(id(x))\n",
    "print(id(y))\n",
    "print(id(z))"
   ]
  },
  {
   "cell_type": "markdown",
   "metadata": {},
   "source": [
    "check the id of both x and z, they are same but y is not same."
   ]
  },
  {
   "cell_type": "code",
   "execution_count": 18,
   "metadata": {},
   "outputs": [
    {
     "name": "stdout",
     "output_type": "stream",
     "text": [
      "['1000']\n",
      "[1000]\n",
      "['1000']\n",
      "[1000]\n",
      "2105604985416\n",
      "2105604872904\n",
      "2105604985288\n",
      "2105604947592\n"
     ]
    }
   ],
   "source": [
    "### list\n",
    "x = [\"1000\"]\n",
    "y = [1000]\n",
    "z = [\"1000\"]  \n",
    "a = [1000]\n",
    "print(x)  \n",
    "print(y) \n",
    "print(z)  \n",
    "print(a)  \n",
    "print(id(x))\n",
    "print(id(y))\n",
    "print(id(z))\n",
    "print(id(a))"
   ]
  },
  {
   "cell_type": "markdown",
   "metadata": {},
   "source": [
    "#### 2. Assigning multiple values to multiple variables:"
   ]
  },
  {
   "cell_type": "code",
   "execution_count": 9,
   "metadata": {},
   "outputs": [
    {
     "name": "stdout",
     "output_type": "stream",
     "text": [
      "10\n",
      "20\n",
      "30\n",
      "1386049280\n",
      "1386049600\n",
      "1386049920\n"
     ]
    }
   ],
   "source": [
    "x, y, z = 10, 20, 30\n",
    "print(x)  \n",
    "print(y) \n",
    "print(z)  \n",
    "print(id(x))\n",
    "print(id(y))\n",
    "print(id(z))"
   ]
  },
  {
   "cell_type": "code",
   "execution_count": 10,
   "metadata": {},
   "outputs": [
    {
     "name": "stdout",
     "output_type": "stream",
     "text": [
      "10\n",
      "120\n",
      "10\n",
      "1386049280\n",
      "1386052800\n",
      "1386049280\n"
     ]
    }
   ],
   "source": [
    "x, y, z = 10, 120, 10\n",
    "print(x)  \n",
    "print(y) \n",
    "print(z)  \n",
    "print(id(x))\n",
    "print(id(y))\n",
    "print(id(z))"
   ]
  },
  {
   "cell_type": "markdown",
   "metadata": {},
   "source": [
    "### Variable Names & Naming Conventions\n",
    "\n",
    "There are a couple of naming conventions in use in Python:\n",
    "- lower_with_underscores: Uses only lower case letters and connects multiple words with underscores.\n",
    "- UPPER_WITH_UNDERSCORES: Uses only upper case letters and connects multiple words with underscores.\n",
    "- CapitalWords: Capitalize the beginning of each letter in a word; no underscores. With these conventions in mind, here are the naming conventions in use.\n",
    "\n",
    "* Variable Names: lower_with_underscores\n",
    "* Constants: UPPER_WITH_UNDERSCORES\n",
    "* Function Names: lower_with_underscores\n",
    "* Function Parameters: lower_with_underscores\n",
    "* Class Names: CapitalWords\n",
    "* Method Names: lower_with_underscores\n",
    "* Method Parameters and Variables: lower_with_underscores\n",
    "* Always use `self` as the first parameter to a method\n",
    "* To indicate privacy, precede name with a single underscore."
   ]
  },
  {
   "cell_type": "code",
   "execution_count": 21,
   "metadata": {},
   "outputs": [],
   "source": [
    "pm_name = \"Narendra Modi\"\n",
    "prime_minister = \"Narendra Modi\"\n",
    "cong_p_name = \"Rahul Gandhi\"\n",
    "corrent_name_of_cong_president = \"Rahul Gandhi\"\n",
    "cong_president = \"Rahul Gandhi\"\n",
    "cname = \"RG\""
   ]
  },
  {
   "cell_type": "markdown",
   "metadata": {},
   "source": [
    "Options can be used to override the default regular expression associated to each type. The table below lists the types, their associated options, and their default regular expressions."
   ]
  },
  {
   "cell_type": "markdown",
   "metadata": {},
   "source": [
    "|        Type       |         Default Expression        |\n",
    "|:-----------------:|:-----------------------------------------:|\n",
    "|      Argument     | [a-z\\_][a-z0-9\\_]                    |\n",
    "|     Attribute     | [a-z\\_][a-z0-9\\_]                    |\n",
    "|       Class       | [A-Z\\_][a-zA-Z0-9]                       |\n",
    "|      Constant     | (([A-Z\\_][A-Z0-9\\_]            |\n",
    "|      Function     | [a-z\\_][a-z0-9\\_]                    |\n",
    "|       Method      | [a-z\\_][a-z0-9\\_]                    |\n",
    "|       Module      | (([a-z\\_][a-z0-9\\_]), ([A-Z][a-zA-Z0-9])) |\n",
    "|      Variable     | [a-z\\_][a-z0-9\\_]                    |\n",
    "| Variable, inline1 | [A-Za-z\\_][A-Za-z0-9\\_]                   |"
   ]
  },
  {
   "cell_type": "markdown",
   "metadata": {},
   "source": [
    "Please find the invalid variables name from the below list"
   ]
  },
  {
   "cell_type": "code",
   "execution_count": null,
   "metadata": {},
   "outputs": [],
   "source": [
    "this_is_my_number \n",
    "THIS_IS_MY_NUMBER  \n",
    "ThisIsMyNumber\n",
    "this_is_number \n",
    "anotherVarible\n",
    "This1\n",
    "this1home\n",
    "1This\n",
    "__sd__\n",
    "_sd"
   ]
  },
  {
   "cell_type": "markdown",
   "metadata": {},
   "source": [
    "### Good Variable Name\n",
    "\n",
    "- Choose meaningful name instead of short name. roll_no is better than rn.\n",
    "- Maintain the length of a variable name. Roll_no_of_a_student is too long?\n",
    "- Be consistent; roll_no or RollNo\n",
    "- Begin a variable name with an underscore(_) character for a special case.\n"
   ]
  },
  {
   "cell_type": "markdown",
   "metadata": {},
   "source": [
    "## Exercises"
   ]
  },
  {
   "cell_type": "markdown",
   "metadata": {},
   "source": [
    "Q 1. Find the valid and in-valid variable names from the followings:\n",
    "\n",
    "* balance\n",
    "* current-balance \n",
    "* current balance \n",
    "* current_balance \n",
    "* 4account \n",
    "* _spam \n",
    "* 42 \n",
    "* SPAM \n",
    "* total_$um \n",
    "* account4 \n",
    "* 'hello'  "
   ]
  },
  {
   "cell_type": "markdown",
   "metadata": {},
   "source": [
    "Q 2. **Multiple Choice Questions & Answers**\n",
    "\n",
    "- Is Python case sensitive when dealing with identifiers?\n",
    "a) yes\n",
    "b) no\n",
    "c) machine dependent\n",
    "d) none of the mentioned\n",
    "\n",
    "- What is the maximum possible length of an identifier?\n",
    "a) 31 characters\n",
    "b) 63 characters\n",
    "c) 79 characters\n",
    "d) none of the mentioned\n",
    "\n",
    "-  What does local variable names beginning with an underscore mean?\n",
    "a) they are used to indicate a private variables of a class\n",
    "b) they confuse the interpreter\n",
    "c) they are used to indicate global variables\n",
    "d) None of the \n",
    "\n",
    "- Which of the following is true for variable names in Python?\n",
    "a) unlimited length\n",
    "b) Only `_` and `$` special characters allowed in variable name\n",
    "c) private members should have leading & trailing underscores\n",
    "d) None of the above"
   ]
  },
  {
   "cell_type": "code",
   "execution_count": null,
   "metadata": {},
   "outputs": [],
   "source": [
    "_ is used \n",
    "* To use as ‘Internationalization(i18n)’ or ‘Localization(l10n)’ functions."
   ]
  },
  {
   "cell_type": "markdown",
   "metadata": {},
   "source": [
    "Q 3: **Good Code / Bad Code**: Find if the code in question will run or not ( with error message)\n",
    "\n",
    "- \n",
    "```python\n",
    "test1 = 101\n",
    "test2 = \"Arya Sharma\"\n",
    "test3 = test1 + test2\n",
    "```\n"
   ]
  }
 ],
 "metadata": {
  "anaconda-cloud": {},
  "kernelspec": {
   "display_name": "Python 3",
   "language": "python",
   "name": "python3"
  },
  "language_info": {
   "codemirror_mode": {
    "name": "ipython",
    "version": 3
   },
   "file_extension": ".py",
   "mimetype": "text/x-python",
   "name": "python",
   "nbconvert_exporter": "python",
   "pygments_lexer": "ipython3",
   "version": "3.4.6"
  }
 },
 "nbformat": 4,
 "nbformat_minor": 1
}
