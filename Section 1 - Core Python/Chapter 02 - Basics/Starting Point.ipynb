{
 "cells": [
  {
   "cell_type": "markdown",
   "metadata": {},
   "source": [
    "# Starting Point\n",
    "------------"
   ]
  },
  {
   "cell_type": "markdown",
   "metadata": {},
   "source": [
    "In this section we will cover few items, without which out training can't continue. We will be covering only briefly those topics, as they will be covered in details later.\n",
    "\n",
    "Lets start out discussion with few **Built-in Functions**."
   ]
  },
  {
   "cell_type": "markdown",
   "metadata": {},
   "source": [
    "## Basic functions"
   ]
  },
  {
   "cell_type": "markdown",
   "metadata": {},
   "source": [
    "* `print`: Print function provides a method to display data on the standard output, which is in most default cases is the console. It inserts spaces between expressions that are received as parameters, and a newline character at the end, unless requested otherwise."
   ]
  },
  {
   "cell_type": "code",
   "execution_count": 4,
   "metadata": {},
   "outputs": [
    {
     "name": "stdout",
     "output_type": "stream",
     "text": [
      "!!! स्वागतम् !!!\n",
      "!!! Welcome !!!\n",
      "!!! Willkommen !!!\n"
     ]
    }
   ],
   "source": [
    "print(\"!!! स्वागतम् !!!\")\n",
    "print(\"!!! Welcome !!!\")\n",
    "print(\"!!! Willkommen !!!\")"
   ]
  },
  {
   "cell_type": "code",
   "execution_count": 5,
   "metadata": {},
   "outputs": [
    {
     "name": "stdout",
     "output_type": "stream",
     "text": [
      "Hello , What are you doing\n"
     ]
    }
   ],
   "source": [
    "print(\"Hello\", \",\", \"What are you doing\")"
   ]
  },
  {
   "cell_type": "markdown",
   "metadata": {},
   "source": [
    "* `pass`: This function does nothing and acts only as a placeholder for the implementation in future."
   ]
  },
  {
   "cell_type": "code",
   "execution_count": 6,
   "metadata": {},
   "outputs": [],
   "source": [
    "pass"
   ]
  },
  {
   "cell_type": "markdown",
   "metadata": {},
   "source": [
    "* `id`: Return the “identity” of an object. This is an integer (or long integer) which is guaranteed to be unique and constant for this object during its lifetime. Two objects with non-overlapping lifetimes may have the same id() value.\n",
    "\n",
    "> **NOTE**: CPython implementation detail: This is the address of the object in memory."
   ]
  },
  {
   "cell_type": "markdown",
   "metadata": {},
   "source": [
    "* `input`: If the prompt argument is present, it is written to standard output without a trailing newline. The function then reads a line from input, converts it to a string (stripping a trailing newline), and returns that. When EOF is read, EOFError is raised"
   ]
  },
  {
   "cell_type": "code",
   "execution_count": 7,
   "metadata": {},
   "outputs": [
    {
     "name": "stdout",
     "output_type": "stream",
     "text": [
      "!!! Welcome to funzone!!!,\n",
      "Please enter your name: MJ\n",
      "Hello MJ , how are you doing?\n"
     ]
    }
   ],
   "source": [
    "name = input(\"!!! Welcome to funzone!!!,\\nPlease enter your name: \")\n",
    "print(\"Hello\", name, \", how are you doing?\" )"
   ]
  }
 ],
 "metadata": {
  "kernelspec": {
   "display_name": "Python 3",
   "language": "python",
   "name": "python3"
  },
  "language_info": {
   "codemirror_mode": {
    "name": "ipython",
    "version": 3
   },
   "file_extension": ".py",
   "mimetype": "text/x-python",
   "name": "python",
   "nbconvert_exporter": "python",
   "pygments_lexer": "ipython3",
   "version": "3.4.6"
  }
 },
 "nbformat": 4,
 "nbformat_minor": 2
}
