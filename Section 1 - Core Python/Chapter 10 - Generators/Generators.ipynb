{
 "cells": [
  {
   "cell_type": "markdown",
   "metadata": {
    "nbpresent": {
     "id": "7c5caee9-7d2c-42bd-9a83-ee44531bb576"
    },
    "slideshow": {
     "slide_type": "slide"
    }
   },
   "source": [
    "# Generators"
   ]
  },
  {
   "cell_type": "markdown",
   "metadata": {},
   "source": [
    "----\n",
    "\n",
    "The functions generally follow the conventional process flow, return values ​​and quit. Generators work similarly, but remember the state of the processing between calls, staying in memory and returning the next item expected when activated.\n",
    "\n",
    "The generators have several advantages over conventional functions:\n",
    "\n",
    "+ *Lazy Evaluation*: generators are only processed when it is really needed, saving processing resources. \n",
    "+ They reduce the need to create lists.\n",
    "+ They allow to work with unlimited sequences of elements.\n",
    "\n",
    "Generators are usually called through a *for* loop. The  syntax is similar to the traditional function, just the *yield* instruction substitutes *return*. In each new iteraction, *yield* returns the next value.\n",
    "\n",
    "Example:"
   ]
  },
  {
   "cell_type": "code",
   "execution_count": 5,
   "metadata": {
    "code_folding": [],
    "nbpresent": {
     "id": "c6ca2aad-4102-43c4-bda5-a060474c8001"
    },
    "slideshow": {
     "slide_type": "fragment"
    }
   },
   "outputs": [
    {
     "name": "stdout",
     "output_type": "stream",
     "text": [
      "dada\n",
      "dada\n",
      "dada\n",
      "dada\n",
      "dada\n",
      "dada\n",
      "(0, 2, 4, 6, 8, 10)\n",
      "~^~^~^~^~^~^~^~^~^~^~^~^~^~^~^~^~^~^~^~^\n",
      ">  0\n",
      "dada\n",
      ">  2\n",
      "dada\n",
      ">  4\n",
      "dada\n",
      ">  6\n",
      "dada\n",
      ">  8\n",
      "dada\n",
      ">  10\n",
      "dada\n"
     ]
    }
   ],
   "source": [
    "def gen_pares():\n",
    "    \"\"\"\n",
    "    Generates even numbers from 0 to 20\n",
    "    \"\"\"\n",
    "    i = 0\n",
    "\n",
    "    while i <= 10:\n",
    "        yield i\n",
    "        print(\"dada\")\n",
    "        i += 2\n",
    "\n",
    "\n",
    "print(tuple(gen_pares()))\n",
    "print(\"~^\"*20)\n",
    "# Shows each number and goes to the next\n",
    "for n in gen_pares():\n",
    "    print (\"> \", n)"
   ]
  },
  {
   "cell_type": "code",
   "execution_count": 7,
   "metadata": {},
   "outputs": [
    {
     "name": "stdout",
     "output_type": "stream",
     "text": [
      ">  0\n",
      "dada\n",
      ">  2\n"
     ]
    }
   ],
   "source": [
    "def gen_pares():\n",
    "    \"\"\"\n",
    "    \"\"\"\n",
    "    i = 0\n",
    "    yield i\n",
    "    print(\"dada\")\n",
    "    i += 2\n",
    "    yield i\n",
    "\n",
    "# Shows each number and goes to the next\n",
    "for n in gen_pares():\n",
    "    print (\"> \", n) "
   ]
  },
  {
   "cell_type": "code",
   "execution_count": 6,
   "metadata": {},
   "outputs": [
    {
     "name": "stdout",
     "output_type": "stream",
     "text": [
      "dada\n"
     ]
    }
   ],
   "source": [
    "a = list(gen_pares())\n",
    "print(a)"
   ]
  },
  {
   "cell_type": "markdown",
   "metadata": {
    "nbpresent": {
     "id": "9f09a586-4e4a-4ac0-b7ff-8c65fb8f57fc"
    }
   },
   "source": [
    "Another example:"
   ]
  },
  {
   "cell_type": "code",
   "execution_count": 12,
   "metadata": {
    "nbpresent": {
     "id": "5ba80ed2-5c02-4ae6-bb42-4f18e38820bf"
    }
   },
   "outputs": [
    {
     "name": "stdout",
     "output_type": "stream",
     "text": [
      "/home/mayank/code/mj/raas/test/bb7567d7-8611-4416-a569-09b1d7972970-testsuite.xml\n",
      "/home/mayank/code/mj/raas/test/templates/login.html\n"
     ]
    }
   ],
   "source": [
    "import os\n",
    "\n",
    "# Finds files recursively\n",
    "def find(path='.'):\n",
    "    for item in os.listdir(path):\n",
    "        fn = os.path.normpath(os.path.join(path, item))\n",
    "\n",
    "        if os.path.isdir(fn):\n",
    "            for f in find(fn):\n",
    "                yield f\n",
    "        else:\n",
    "            yield fn\n",
    "\n",
    "# At each interaction, the generator yeld a new file name\n",
    "for fn in find(r\"/home/mayank/code/mj/raas/test/\"):\n",
    "    print (fn)"
   ]
  },
  {
   "cell_type": "code",
   "execution_count": 15,
   "metadata": {
    "nbpresent": {
     "id": "234cc323-a367-44d3-831b-861b0c1c72ca"
    }
   },
   "outputs": [
    {
     "name": "stdout",
     "output_type": "stream",
     "text": [
      "1\n",
      "1\n",
      "2\n",
      "3\n",
      "5\n",
      "8\n",
      "13\n",
      "...Done...\n"
     ]
    }
   ],
   "source": [
    "from time import sleep\n",
    "import sys\n",
    "\n",
    "def fib():\n",
    "    a, b = 0, 1\n",
    "    while True:\n",
    "        sleep(1)\n",
    "        yield b\n",
    "        d = a + b\n",
    "        if d > 20:\n",
    "            break\n",
    "        a, b = b, d \n",
    "\n",
    "\n",
    "iter = fib()\n",
    "\n",
    "try:\n",
    "    for i in iter:\n",
    "        print( i),\n",
    "#         time.sleep(1)\n",
    "        sys.stdout.flush()\n",
    "    print(\"...Done...\")\n",
    "except KeyboardInterrupt: \n",
    "   print( \"Calculation stopped\")"
   ]
  }
 ],
 "metadata": {
  "anaconda-cloud": {},
  "celltoolbar": "Slideshow",
  "kernelspec": {
   "display_name": "Python 3",
   "language": "python",
   "name": "python3"
  },
  "language_info": {
   "codemirror_mode": {
    "name": "ipython",
    "version": 3
   },
   "file_extension": ".py",
   "mimetype": "text/x-python",
   "name": "python",
   "nbconvert_exporter": "python",
   "pygments_lexer": "ipython3",
   "version": "3.6.1"
  },
  "nbpresent": {
   "slides": {
    "0f14d72c-61b2-43d4-8e85-f5f714b5bd5b": {
     "id": "0f14d72c-61b2-43d4-8e85-f5f714b5bd5b",
     "prev": null,
     "regions": {
      "28f15ac9-2995-4951-8814-85de9e7aeb57": {
       "attrs": {
        "height": 0.8,
        "width": 0.8,
        "x": 0.1,
        "y": 0.1
       },
       "content": {
        "cell": "7c5caee9-7d2c-42bd-9a83-ee44531bb576",
        "part": "whole"
       },
       "id": "28f15ac9-2995-4951-8814-85de9e7aeb57"
      }
     }
    },
    "495868e6-6aef-448e-84e7-f74dd4d67e78": {
     "id": "495868e6-6aef-448e-84e7-f74dd4d67e78",
     "prev": "e02a8ceb-d07f-4a1c-a907-4571d2cb6366",
     "regions": {
      "3705d750-6336-4606-8965-203e348ea4a5": {
       "attrs": {
        "height": 0.8,
        "width": 0.8,
        "x": 0.1,
        "y": 0.1
       },
       "content": {
        "cell": "5ba80ed2-5c02-4ae6-bb42-4f18e38820bf",
        "part": "whole"
       },
       "id": "3705d750-6336-4606-8965-203e348ea4a5"
      }
     }
    },
    "4c41d27b-0553-4aa6-8bfd-373be7c22a46": {
     "id": "4c41d27b-0553-4aa6-8bfd-373be7c22a46",
     "prev": "495868e6-6aef-448e-84e7-f74dd4d67e78",
     "regions": {}
    },
    "8030de7a-a87f-45ea-85aa-b889ec6d0361": {
     "id": "8030de7a-a87f-45ea-85aa-b889ec6d0361",
     "prev": "0f14d72c-61b2-43d4-8e85-f5f714b5bd5b",
     "regions": {
      "1e0d23c4-b279-4d64-ba7e-802f59127e19": {
       "attrs": {
        "height": 0.8,
        "width": 0.8,
        "x": 0.1,
        "y": 0.1
       },
       "content": {
        "cell": "c6ca2aad-4102-43c4-bda5-a060474c8001",
        "part": "whole"
       },
       "id": "1e0d23c4-b279-4d64-ba7e-802f59127e19"
      }
     }
    },
    "b2bee408-eb0c-4c69-a5e0-9e1e4765b46f": {
     "id": "b2bee408-eb0c-4c69-a5e0-9e1e4765b46f",
     "prev": "4c41d27b-0553-4aa6-8bfd-373be7c22a46",
     "regions": {
      "3dbeb2aa-02e6-41fa-b7b8-eb1d1a111b6d": {
       "attrs": {
        "height": 0.8,
        "width": 0.8,
        "x": 0.1,
        "y": 0.1
       },
       "content": {
        "cell": "234cc323-a367-44d3-831b-861b0c1c72ca",
        "part": "whole"
       },
       "id": "3dbeb2aa-02e6-41fa-b7b8-eb1d1a111b6d"
      }
     }
    },
    "e02a8ceb-d07f-4a1c-a907-4571d2cb6366": {
     "id": "e02a8ceb-d07f-4a1c-a907-4571d2cb6366",
     "prev": "8030de7a-a87f-45ea-85aa-b889ec6d0361",
     "regions": {
      "43cbe341-4f3d-45d5-8311-d68b20d48fac": {
       "attrs": {
        "height": 0.8,
        "width": 0.8,
        "x": 0.1,
        "y": 0.1
       },
       "content": {
        "cell": "9f09a586-4e4a-4ac0-b7ff-8c65fb8f57fc",
        "part": "whole"
       },
       "id": "43cbe341-4f3d-45d5-8311-d68b20d48fac"
      }
     }
    }
   },
   "themes": {}
  }
 },
 "nbformat": 4,
 "nbformat_minor": 1
}
