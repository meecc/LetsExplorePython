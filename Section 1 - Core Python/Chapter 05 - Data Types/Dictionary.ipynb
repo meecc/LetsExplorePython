{
 "cells": [
  {
   "cell_type": "markdown",
   "metadata": {},
   "source": [
    "## Dictionary"
   ]
  },
  {
   "cell_type": "markdown",
   "metadata": {},
   "source": [
    "A dictionary is a list of associations composed by a unique key and corresponding structures. Dictionaries are mutable, like lists.\n",
    "\n",
    "The key must be an immutable type, usually strings, but can also be tuples or numeric types. On the other hand the items of dictionaries can be either mutable or immutable. The Python dictionary provides no guarantee that the keys are ordered.\n",
    "\n",
    "Syntax:\n",
    "```python\n",
    "dictionary = {'a': a, 'b': b, ..., 'z': z}\n",
    "```\n",
    "Structure:\n",
    "\n",
    "![Structure of a dictionary](files/Dictionary.png)"
   ]
  },
  {
   "cell_type": "markdown",
   "metadata": {},
   "source": [
    "Example of a dictionary:\n",
    "\n",
    "```python\n",
    "dic = {'name': 'Dabar', 'band': 'Honey'}\n",
    "```\n",
    "Acessing elements:\n",
    "\n",
    "```python\n",
    "print dic['name']\n",
    "```\n",
    "Adding elements:\n",
    "```python\n",
    "dic['key_1'] = '120'\n",
    "```\n",
    "Removing one elemento from a dictionary:\n",
    "```python\n",
    "del dic['key_1']\n",
    "```\n",
    "\n",
    "Getting the items, keys and values:\n",
    "```python\n",
    "items = dic.items()\n",
    "keys = dic.keys()\n",
    "values = dic.values()\n",
    "```\n",
    "\n",
    "**Examples with dictionaries**:"
   ]
  },
  {
   "cell_type": "code",
   "execution_count": 2,
   "metadata": {},
   "outputs": [
    {
     "name": "stdout",
     "output_type": "stream",
     "text": [
      "{'name': 'Dabar New', 'band': 'Honey'}\n"
     ]
    }
   ],
   "source": [
    "dic = {'name': 'Dabar', 'name': 'Dabar New', 'band': 'Honey'}\n",
    "print(dic)"
   ]
  },
  {
   "cell_type": "code",
   "execution_count": 4,
   "metadata": {},
   "outputs": [
    {
     "name": "stdout",
     "output_type": "stream",
     "text": [
      "dict_items([('name', 'Dabar New'), ('band', 'Honey')])\n"
     ]
    }
   ],
   "source": [
    "print(dic.items())"
   ]
  },
  {
   "cell_type": "code",
   "execution_count": 9,
   "metadata": {},
   "outputs": [
    {
     "name": "stdout",
     "output_type": "stream",
     "text": [
      "Yes :=> ['Close To The Edge', 'Fragile']\n",
      "Genesis :=> ['Foxtrot', 'The Nursery Crime']\n",
      "ELP :=> ['Brain Salad Surgery']\n",
      "King Crimson :=> ['Red', 'Discipline']\n"
     ]
    }
   ],
   "source": [
    "# Progs and their albums\n",
    "progs = {'Yes': ['Close To The Edge', 'Fragile'],\n",
    "    'Genesis': ['Foxtrot', 'The Nursery Crime'],\n",
    "    'ELP': ['Brain Salad Surgery']}\n",
    "\n",
    "# More progs\n",
    "progs['King Crimson'] = ['Red', 'Discipline']\n",
    "\n",
    "# items() returns a list of \n",
    "# tuples with key and value \n",
    "for singer, album  in progs.items():\n",
    "    print(singer, \":=>\", album)"
   ]
  },
  {
   "cell_type": "code",
   "execution_count": 13,
   "metadata": {},
   "outputs": [
    {
     "name": "stdout",
     "output_type": "stream",
     "text": [
      "['Close To The Edge', 'Fragile']\n",
      "['Foxtrot', 'The Nursery Crime']\n",
      "['Brain Salad Surgery']\n",
      "['Red', 'Discipline']\n"
     ]
    }
   ],
   "source": [
    "for albums in progs.values():\n",
    "    print(albums)"
   ]
  },
  {
   "cell_type": "code",
   "execution_count": 14,
   "metadata": {},
   "outputs": [
    {
     "name": "stdout",
     "output_type": "stream",
     "text": [
      "Yes => ['Close To The Edge', 'Fragile']\n",
      "Genesis => ['Foxtrot', 'The Nursery Crime']\n",
      "ELP => ['Brain Salad Surgery']\n",
      "King Crimson => ['Red', 'Discipline']\n"
     ]
    }
   ],
   "source": [
    "for prog in progs:\n",
    "    print(prog, \"=>\", progs[prog])"
   ]
  },
  {
   "cell_type": "code",
   "execution_count": 15,
   "metadata": {},
   "outputs": [
    {
     "name": "stdout",
     "output_type": "stream",
     "text": [
      "{'Yes': ['Close To The Edge', 'Fragile'], 'Genesis': ['Foxtrot', 'The Nursery Crime'], 'King Crimson': ['Red', 'Discipline']}\n"
     ]
    }
   ],
   "source": [
    "# If there is 'ELP', removes\n",
    "if 'ELP' in progs:\n",
    "    del progs['ELP']\n",
    "    \n",
    "print(progs)"
   ]
  },
  {
   "cell_type": "code",
   "execution_count": 17,
   "metadata": {},
   "outputs": [
    {
     "name": "stdout",
     "output_type": "stream",
     "text": [
      "{'school': 'DMS', 'students_details': {1001: {'name': 'Mayank', 'age': 41}, 1002: {'name': 'Vishal', 'age': 42}, 1003: {'name': 'Rajeev Chaturvedi', 'age': 41}}}\n"
     ]
    }
   ],
   "source": [
    "multid = {'school': 'DMS',\n",
    "          'students_details': {\n",
    "              1001: {\n",
    "               \"name\": \"Mayank\",\n",
    "                  \"age\": 41\n",
    "              },\n",
    "              1002: {\n",
    "                \"name\" : \"Vishal\",\n",
    "                \"age\": 42\n",
    "              },\n",
    "              1003: {\n",
    "                  \"name\": \"Rajeev Chaturvedi\",\n",
    "                  \"age\": 41\n",
    "              }\n",
    "          }\n",
    "        }\n",
    "print(multid)"
   ]
  },
  {
   "cell_type": "code",
   "execution_count": 18,
   "metadata": {},
   "outputs": [
    {
     "name": "stdout",
     "output_type": "stream",
     "text": [
      "{'school': 'DMS', 'students_details': {'students': ['Mayank', 'Vishal', 'Rajeev']}}\n"
     ]
    }
   ],
   "source": [
    "multid = {'school': 'DMS',\n",
    "          'students_details': {\n",
    "              \"students\": \n",
    "                  [\n",
    "                      \"Mayank\",\n",
    "                      \"Vishal\",\n",
    "                      \"Rajeev\"\n",
    "                  ]\n",
    "          }}\n",
    "print(multid)"
   ]
  },
  {
   "cell_type": "code",
   "execution_count": 8,
   "metadata": {},
   "outputs": [
    {
     "name": "stdout",
     "output_type": "stream",
     "text": [
      "{'test': 'TESt value', 'meme': 'wewe'}\n",
      "test\n",
      "meme\n"
     ]
    }
   ],
   "source": [
    "dupli = {\n",
    "    \"meme\" : \"mjmj\",\n",
    "    \"test\" : \"TESt value\",\n",
    "    \"meme\" : \"wewe\"\n",
    "}\n",
    "\n",
    "print(dupli)\n",
    "for k in dupli:\n",
    "    print(k)"
   ]
  },
  {
   "cell_type": "code",
   "execution_count": 22,
   "metadata": {
    "scrolled": false
   },
   "outputs": [
    {
     "name": "stdout",
     "output_type": "stream",
     "text": [
      "{(5, 4): 6, (3, 7): 3, (1, 0): 9, (4, 6): 5, (2, 9): 4}\n",
      "Complete matrix size: 72\n",
      "Sparse matrix size: 5\n"
     ]
    }
   ],
   "source": [
    "# Matrix in form of string\n",
    "matrix = '''0 0 0 0 0 0 0 0 0 0 0 0\n",
    "9 0 0 0 0 0 0 0 0 0 0 0\n",
    "0 0 0 0 0 0 0 0 0 4 0 0\n",
    "0 0 0 0 0 0 0 3 0 0 0 0\n",
    "0 0 0 0 0 0 5 0 0 0 0 0\n",
    "0 0 0 0 6 0 0 0 0 0 0 0'''\n",
    "\n",
    "mat = {}\n",
    "\n",
    "# split the matrix in lines\n",
    "for row, line in enumerate(matrix.splitlines()):\n",
    "\n",
    "    # Splits the line int cols\n",
    "    for col, column in enumerate(line.split()):\n",
    "\n",
    "        column = int(column)\n",
    "        # Places the column in the result,\n",
    "        # if it is differente from zero\n",
    "        if column:\n",
    "            mat[row, col] = column\n",
    "\n",
    "print (mat)\n",
    "# The counting starts with zero\n",
    "print ('Complete matrix size:', (row + 1) * (col + 1))\n",
    "print ('Sparse matrix size:', len(mat))"
   ]
  },
  {
   "cell_type": "markdown",
   "metadata": {},
   "source": [
    "> **NOTE**: One can create dictionary using the following methods as well"
   ]
  },
  {
   "cell_type": "code",
   "execution_count": null,
   "metadata": {},
   "outputs": [],
   "source": [
    "names = dict(mayank=\"johri\", ashwini=\"johri\", Rahul=\"Johri\")\n",
    "print(names)"
   ]
  },
  {
   "cell_type": "code",
   "execution_count": 29,
   "metadata": {},
   "outputs": [
    {
     "name": "stdout",
     "output_type": "stream",
     "text": [
      "{'ashwini': 'johri', 'mayank': 'johri', 'Rahul': 'Johri'}\n"
     ]
    }
   ],
   "source": [
    "names = dict([(\"mayank\",\"johri\"), (\"ashwini\", \"johri\"), (\"Rahul\",\"Johri\")])\n",
    "print(names)"
   ]
  },
  {
   "cell_type": "markdown",
   "metadata": {},
   "source": [
    "Lets check below two examples and see what is happening"
   ]
  },
  {
   "cell_type": "code",
   "execution_count": 16,
   "metadata": {},
   "outputs": [
    {
     "name": "stdout",
     "output_type": "stream",
     "text": [
      "{10.1: 'TEST', 10.5: 'really testing', 20: 'Testing completed', 10: 'test'}\n"
     ]
    }
   ],
   "source": [
    "d = dict()\n",
    "d[10.1] = \"TEST\"\n",
    "d[10] = \"test\"  \n",
    "d[10.5] = \"really testing\"\n",
    "d[20] = \"Testing completed\"\n",
    "print(d)"
   ]
  },
  {
   "cell_type": "code",
   "execution_count": 27,
   "metadata": {},
   "outputs": [
    {
     "name": "stdout",
     "output_type": "stream",
     "text": [
      "{10.0: 'test', 20: 'Testing completed', 10.5: 'really testing'}\n"
     ]
    }
   ],
   "source": [
    "d = dict()\n",
    "d[10.0] = \"TEST\"\n",
    "d[10] = \"test\"  \n",
    "d[10.5] = \"really testing\"\n",
    "d[20] = \"Testing completed\"\n",
    "print(d)"
   ]
  },
  {
   "cell_type": "markdown",
   "metadata": {},
   "source": [
    "> **NOTE**: Dictionaries are implemented with a hash table and hash of 10.0 and 10 are same, thus  10.0 and 10 keys of dict are same and only one key/value pair is shown for them. Please check the url for details.   \n",
    "> - https://stackoverflow.com/questions/32209155/why-can-a-floating-point-dictionary-key-overwrite-an-integer-key-with-the-same-v/32211042#32211042"
   ]
  },
  {
   "cell_type": "code",
   "execution_count": 31,
   "metadata": {},
   "outputs": [
    {
     "data": {
      "text/plain": [
       "True"
      ]
     },
     "execution_count": 31,
     "metadata": {},
     "output_type": "execute_result"
    }
   ],
   "source": [
    "hash(10.0) == hash(10)"
   ]
  }
 ],
 "metadata": {
  "kernelspec": {
   "display_name": "Python 3",
   "language": "python",
   "name": "python3"
  },
  "language_info": {
   "codemirror_mode": {
    "name": "ipython",
    "version": 3
   },
   "file_extension": ".py",
   "mimetype": "text/x-python",
   "name": "python",
   "nbconvert_exporter": "python",
   "pygments_lexer": "ipython3",
   "version": "3.4.6"
  }
 },
 "nbformat": 4,
 "nbformat_minor": 2
}
