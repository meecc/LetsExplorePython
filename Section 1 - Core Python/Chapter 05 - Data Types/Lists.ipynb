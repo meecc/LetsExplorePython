{
 "cells": [
  {
   "cell_type": "markdown",
   "metadata": {},
   "source": [
    "## Lists"
   ]
  },
  {
   "cell_type": "markdown",
   "metadata": {},
   "source": [
    "Lists are **collections** of **heterogeneous objects**, which can be of any type, including other lists.\n",
    "\n",
    "Lists in the Python are mutable and can be changed at any time. Lists can be sliced ​​in the same way as *strings*, but as the lists are mutable, it is possible to make assignments to the list items.\n",
    "\n",
    "**Syntax**:\n",
    "\n",
    "```python\n",
    "list = [a, b, ..., z]\n",
    "```\n",
    "\n",
    "Common operations with lists:"
   ]
  },
  {
   "cell_type": "code",
   "execution_count": 22,
   "metadata": {},
   "outputs": [
    {
     "name": "stdout",
     "output_type": "stream",
     "text": [
      "Apple, Mango, Grapes, Jackfruit, Apple, Banana, Grapes, [1, 'Orange'], ******************************\n",
      "['kiwi', 'Apple', 'Mango', 'Grapes', 'Jackfruit', 'Apple', 'Banana', 'Grapes', [1, 'Orange']]\n"
     ]
    }
   ],
   "source": [
    "fruits = ['Apple', 'Mango', 'Grapes', 'Jackfruit', \n",
    "          'Apple', 'Banana', 'Grapes', [1, \"Orange\"]]\n",
    "\n",
    "# processing the entire list\n",
    "for fruit in fruits:\n",
    "     print(fruit,  end=\", \")\n",
    "\n",
    "#\n",
    "print(\"*\"*30)\n",
    "\n",
    "\n",
    "fruits.insert(0, \"kiwi\")\n",
    "print( fruits)\n",
    "# help(fruits.insert)\n",
    "# Including"
   ]
  },
  {
   "cell_type": "code",
   "execution_count": 29,
   "metadata": {},
   "outputs": [
    {
     "name": "stdout",
     "output_type": "stream",
     "text": [
      "1807712333064\n",
      "1807711820552\n"
     ]
    }
   ],
   "source": [
    "ft1 = list(fruits)\n",
    "print(id(ft1))\n",
    "print(id(fruits))"
   ]
  },
  {
   "cell_type": "code",
   "execution_count": 30,
   "metadata": {},
   "outputs": [
    {
     "name": "stdout",
     "output_type": "stream",
     "text": [
      "1807712333128\n",
      "1807711820552\n"
     ]
    }
   ],
   "source": [
    "ft1 = fruits[:]\n",
    "print(id(ft1))\n",
    "print(id(fruits))"
   ]
  },
  {
   "cell_type": "code",
   "execution_count": 28,
   "metadata": {},
   "outputs": [
    {
     "name": "stdout",
     "output_type": "stream",
     "text": [
      "1807711820552\n",
      "1807711820552\n"
     ]
    }
   ],
   "source": [
    "ft2 = fruits\n",
    "print(id(ft2))\n",
    "print(id(fruits))"
   ]
  },
  {
   "cell_type": "code",
   "execution_count": 10,
   "metadata": {},
   "outputs": [
    {
     "name": "stdout",
     "output_type": "stream",
     "text": [
      "['kiwi', 'Apple', 'Mango', 'Grapes', 'Jackfruit', 'Apple', 'Banana', 'Grapes', [1, 'Orange'], 'Camel', 'Camel', ['kiwi', 'Apple', 'Camel'], 'Camel', ['kiwi', 'Apple', 'Camel'], 'Camel']\n",
      "['kiwi', 'Apple', 'Mango', 'Grapes', 'Jackfruit', 'Apple', 'Banana', 'Grapes', [1, 'Orange'], 'Camel', 'Camel', ['kiwi', 'Apple', 'Camel'], 'Camel', ['kiwi', 'Apple', 'Camel'], 'Camel', ['kiwi', 'Apple', 'Camel']]\n"
     ]
    }
   ],
   "source": [
    "fruits.append('Camel')\n",
    "print(fruits)\n",
    "fruits.append(['kiwi', 'Apple', 'Camel'])\n",
    "print(fruits)"
   ]
  },
  {
   "cell_type": "code",
   "execution_count": 15,
   "metadata": {},
   "outputs": [
    {
     "name": "stdout",
     "output_type": "stream",
     "text": [
      "['kiwi', 'Apple', 'Mango', 'Grapes', 'Jackfruit', 'Apple', 'Banana', 'Grapes', [1, 'Orange'], 'Camel', 'Camel', ['kiwi', 'Apple', 'Camel'], 'Camel', ['kiwi', 'Apple', 'Camel'], 'Camel', ['kiwi', 'Apple', 'Camel'], 'kiwi', 'Apple', 'Camel', 'kiwi', 'Apple', 'Camel', 'kiwi', ['Apple', 'Camel'], 'kiwi', 'Apple', 'Camel']\n"
     ]
    }
   ],
   "source": [
    "fruits.extend(['kiwi', 'Apple', 'Camel'])\n",
    "print(fruits)"
   ]
  },
  {
   "cell_type": "markdown",
   "metadata": {},
   "source": [
    "> NOTE: Only one level of extending happens, apple and camel are still in sub-list"
   ]
  },
  {
   "cell_type": "code",
   "execution_count": 14,
   "metadata": {},
   "outputs": [
    {
     "name": "stdout",
     "output_type": "stream",
     "text": [
      "['kiwi', 'Apple', 'Mango', 'Grapes', 'Jackfruit', 'Apple', 'Banana', 'Grapes', [1, 'Orange'], 'Camel', 'Camel', ['kiwi', 'Apple', 'Camel'], 'Camel', ['kiwi', 'Apple', 'Camel'], 'Camel', ['kiwi', 'Apple', 'Camel'], 'kiwi', 'Apple', 'Camel', 'kiwi', 'Apple', 'Camel', 'kiwi', ['Apple', 'Camel']]\n"
     ]
    }
   ],
   "source": [
    "fruits.extend(['kiwi', ['Apple', 'Camel']])\n",
    "print(fruits)"
   ]
  },
  {
   "cell_type": "markdown",
   "metadata": {},
   "source": [
    "## Removing"
   ]
  },
  {
   "cell_type": "code",
   "execution_count": 4,
   "metadata": {},
   "outputs": [
    {
     "name": "stdout",
     "output_type": "stream",
     "text": [
      "['kiwi', 'Apple', 'Mango', 'Grapes', 'Jackfruit', 'Apple', 'Banana', [1, 'Orange'], 'Camel']\n"
     ]
    }
   ],
   "source": [
    "## Removing the second instance of Grapes\n",
    "x = 0\n",
    "y = 0\n",
    "for fruit in fruits:\n",
    "    if x == 1 and fruit == 'Grapes':\n",
    "#          del (fruits[y])\n",
    "        fruits.pop(y)\n",
    "    elif fruit == 'Grapes':\n",
    "        x = 1\n",
    "    y +=1\n",
    "    \n",
    "print(fruits)   "
   ]
  },
  {
   "cell_type": "code",
   "execution_count": null,
   "metadata": {},
   "outputs": [],
   "source": [
    "fruits.remove('Grapes')"
   ]
  },
  {
   "cell_type": "markdown",
   "metadata": {},
   "source": [
    "## Appending"
   ]
  },
  {
   "cell_type": "code",
   "execution_count": 10,
   "metadata": {},
   "outputs": [
    {
     "name": "stdout",
     "output_type": "stream",
     "text": [
      "['kiwi', 'Apple', 'Mango', 'Jackfruit', 'Apple', 'Banana', [1, 'Orange'], 'Camel']\n"
     ]
    }
   ],
   "source": [
    "print(fruits)\n",
    "fruits.append(\"Grapes\")"
   ]
  },
  {
   "cell_type": "markdown",
   "metadata": {},
   "source": [
    "## Ordering "
   ]
  },
  {
   "cell_type": "code",
   "execution_count": 12,
   "metadata": {},
   "outputs": [
    {
     "ename": "TypeError",
     "evalue": "unorderable types: list() < str()",
     "output_type": "error",
     "traceback": [
      "\u001b[0;31m---------------------------------------------------------------------------\u001b[0m",
      "\u001b[0;31mTypeError\u001b[0m                                 Traceback (most recent call last)",
      "\u001b[0;32m<ipython-input-12-a40e7897b208>\u001b[0m in \u001b[0;36m<module>\u001b[0;34m()\u001b[0m\n\u001b[1;32m      1\u001b[0m \u001b[0;31m# These will work on only homogeneous list and will fail for heterogeneous\u001b[0m\u001b[0;34m\u001b[0m\u001b[0;34m\u001b[0m\u001b[0m\n\u001b[0;32m----> 2\u001b[0;31m \u001b[0mfruits\u001b[0m\u001b[0;34m.\u001b[0m\u001b[0msort\u001b[0m\u001b[0;34m(\u001b[0m\u001b[0;34m)\u001b[0m\u001b[0;34m\u001b[0m\u001b[0m\n\u001b[0m\u001b[1;32m      3\u001b[0m \u001b[0mprint\u001b[0m\u001b[0;34m(\u001b[0m\u001b[0mfruits\u001b[0m\u001b[0;34m)\u001b[0m\u001b[0;34m\u001b[0m\u001b[0m\n",
      "\u001b[0;31mTypeError\u001b[0m: unorderable types: list() < str()"
     ]
    }
   ],
   "source": [
    "# These will work on only homogeneous list and will fail for heterogeneous\n",
    "fruits.sort()\n",
    "print(fruits)"
   ]
  },
  {
   "cell_type": "markdown",
   "metadata": {},
   "source": [
    "## Inverting"
   ]
  },
  {
   "cell_type": "code",
   "execution_count": 14,
   "metadata": {},
   "outputs": [
    {
     "name": "stdout",
     "output_type": "stream",
     "text": [
      "['Apple', 'Apple', 'Banana', 'Jackfruit', 'Mango', 'kiwi', [1, 'Orange'], 'Camel', 'Grapes']\n"
     ]
    }
   ],
   "source": [
    "fruits.reverse()\n",
    "print(fruits)"
   ]
  },
  {
   "cell_type": "code",
   "execution_count": null,
   "metadata": {},
   "outputs": [],
   "source": []
  },
  {
   "cell_type": "code",
   "execution_count": 20,
   "metadata": {},
   "outputs": [
    {
     "name": "stdout",
     "output_type": "stream",
     "text": [
      "1 => Apple\n",
      "2 => Mango\n",
      "3 => Grapes\n",
      "4 => Jackfruit\n",
      "5 => Apple\n",
      "6 => Banana\n",
      "7 => Grapes\n"
     ]
    }
   ],
   "source": [
    "# # # prints with number order\n",
    "fruits = ['Apple', 'Mango', 'Grapes', 'Jackfruit', \n",
    "          'Apple', 'Banana', 'Grapes']\n",
    "for i, prog in enumerate(fruits):\n",
    "    print( i + 1, '=>', prog)"
   ]
  },
  {
   "cell_type": "markdown",
   "metadata": {},
   "source": [
    "The function `enumerate()` returns a tuple of two elements in each iteration: a sequence number and an item from the corresponding sequence.\n",
    "\n",
    "The list has a `pop()` method that helps the implementation of queues and stacks:"
   ]
  },
  {
   "cell_type": "code",
   "execution_count": 21,
   "metadata": {},
   "outputs": [
    {
     "name": "stdout",
     "output_type": "stream",
     "text": [
      "0 A\n",
      "1 B\n",
      "2 C\n"
     ]
    }
   ],
   "source": [
    "my_list = ['A', 'B', 'C']\n",
    "for a, b in enumerate(my_list):\n",
    "    print(a, b)"
   ]
  },
  {
   "cell_type": "code",
   "execution_count": 25,
   "metadata": {},
   "outputs": [
    {
     "name": "stdout",
     "output_type": "stream",
     "text": [
      "list: ['A', 'B', 'C']\n",
      "Left A , remain 2 ['B', 'C']\n",
      "Left B , remain 1 ['C']\n",
      "Left C , remain 0 []\n",
      "list: ['G', 'D', 'E', 'F']\n",
      "Left F , remain 3 ['G', 'D', 'E']\n",
      "Left E , remain 2 ['G', 'D']\n",
      "Left D , remain 1 ['G']\n",
      "Left G , remain 0 []\n"
     ]
    }
   ],
   "source": [
    "my_list = ['A', 'B', 'C']\n",
    "print ('list:', my_list)\n",
    "\n",
    "# # The empty list is evaluated as false\n",
    "while my_list:\n",
    "    # In queues, the first item is the first to go out\n",
    "    # pop(0) removes and returns the first item \n",
    "    print ('Left', my_list.pop(0), ', remain', len(my_list), my_list)\n",
    "\n",
    "my_list.append(\"G\")\n",
    "# # More items on the list\n",
    "my_list += ['D', 'E', 'F']\n",
    "print ('list:', my_list)\n",
    "\n",
    "while my_list:\n",
    "    # On stacks, the first item is the last to go out\n",
    "    # pop() removes and retorns the last item\n",
    "    print ('Left', my_list.pop(), ', remain', len(my_list), my_list)"
   ]
  },
  {
   "cell_type": "code",
   "execution_count": 39,
   "metadata": {
    "scrolled": true
   },
   "outputs": [
    {
     "name": "stdout",
     "output_type": "stream",
     "text": [
      "['D', 'E', 'F', 'G', 'H']\n",
      "['__add__', '__class__', '__contains__', '__delattr__', '__delitem__', '__dir__', '__doc__', '__eq__', '__format__', '__ge__', '__getattribute__', '__getitem__', '__gt__', '__hash__', '__iadd__', '__imul__', '__init__', '__iter__', '__le__', '__len__', '__lt__', '__mul__', '__ne__', '__new__', '__reduce__', '__reduce_ex__', '__repr__', '__reversed__', '__rmul__', '__setattr__', '__setitem__', '__sizeof__', '__str__', '__subclasshook__', 'append', 'clear', 'copy', 'count', 'extend', 'index', 'insert', 'pop', 'remove', 'reverse', 'sort']\n",
      "********\n",
      "['__add__', '__class__', '__contains__', '__delattr__', '__dir__', '__doc__', '__eq__', '__format__', '__ge__', '__getattribute__', '__getitem__', '__getnewargs__', '__gt__', '__hash__', '__init__', '__iter__', '__le__', '__len__', '__lt__', '__mul__', '__ne__', '__new__', '__reduce__', '__reduce_ex__', '__repr__', '__rmul__', '__setattr__', '__sizeof__', '__str__', '__subclasshook__', 'count', 'index']\n"
     ]
    }
   ],
   "source": [
    "l = ['D', 'E', 'F', \"G\", \"H\"]\n",
    "print(l)\n",
    "k = ('D', \"E\", \"G\", \"H\")\n",
    "print(dir(l))\n",
    "print(\"*\"*8)\n",
    "print(dir(k))\n"
   ]
  },
  {
   "cell_type": "markdown",
   "metadata": {},
   "source": [
    "The sort (*sort*) and reversal (*reverse*) operations are performed in the list and do not create new lists.\n",
    "\n",
    "Tuples\n",
    "------\n",
    "Similar to lists, but immutable: it's not possible to append, delete or make assignments to the items.\n",
    "\n",
    "Syntax:\n",
    "\n",
    "    my_tuple = (a, b, ..., z)\n",
    "\n",
    "The parentheses are optional.\n",
    "\n",
    "Feature: a tuple with only one element is represented as:\n",
    "\n",
    "t1 = (1,)\n",
    "\n",
    "The tuple elements can be referenced the same way as the elements of a list:\n",
    "\n",
    "    first_element = tuple[0]\n",
    "\n",
    "Lists can be converted into tuples:\n",
    "\n",
    "    my_tuple = tuple(my_list)\n",
    "\n",
    "And tuples can be converted into lists:\n",
    "\n",
    "    my_list = list(my_tuple)\n",
    "\n",
    "While tuple can contain mutable elements, these elements can not undergo assignment, as this would change the reference to the object.\n",
    "\n",
    "Example (using the interactive mode):"
   ]
  },
  {
   "cell_type": "code",
   "execution_count": 31,
   "metadata": {},
   "outputs": [
    {
     "name": "stdout",
     "output_type": "stream",
     "text": [
      "([1, 2], 4)\n"
     ]
    }
   ],
   "source": [
    "t = ([1, 2], 4)\n",
    "print(t)"
   ]
  },
  {
   "cell_type": "code",
   "execution_count": 33,
   "metadata": {},
   "outputs": [
    {
     "name": "stdout",
     "output_type": "stream",
     "text": [
      " :: Error :: \n"
     ]
    },
    {
     "ename": "TypeError",
     "evalue": "'tuple' object does not support item assignment",
     "output_type": "error",
     "traceback": [
      "\u001b[1;31m---------------------------------------------------------------------------\u001b[0m",
      "\u001b[1;31mTypeError\u001b[0m                                 Traceback (most recent call last)",
      "\u001b[1;32m<ipython-input-33-001db6e2f049>\u001b[0m in \u001b[0;36m<module>\u001b[1;34m()\u001b[0m\n\u001b[0;32m      1\u001b[0m \u001b[0mprint\u001b[0m\u001b[1;33m(\u001b[0m\u001b[1;34m\" :: Error :: \"\u001b[0m\u001b[1;33m)\u001b[0m\u001b[1;33m\u001b[0m\u001b[0m\n\u001b[0;32m      2\u001b[0m \u001b[1;33m\u001b[0m\u001b[0m\n\u001b[1;32m----> 3\u001b[1;33m \u001b[0mt\u001b[0m\u001b[1;33m[\u001b[0m\u001b[1;36m0\u001b[0m\u001b[1;33m]\u001b[0m \u001b[1;33m=\u001b[0m \u001b[1;36m3\u001b[0m\u001b[1;33m\u001b[0m\u001b[0m\n\u001b[0m\u001b[0;32m      4\u001b[0m \u001b[0mprint\u001b[0m\u001b[1;33m(\u001b[0m\u001b[0mt\u001b[0m\u001b[1;33m)\u001b[0m\u001b[1;33m\u001b[0m\u001b[0m\n",
      "\u001b[1;31mTypeError\u001b[0m: 'tuple' object does not support item assignment"
     ]
    }
   ],
   "source": [
    "print(\" :: Error :: \")\n",
    "\n",
    "t[0] = 3\n",
    "print(t)"
   ]
  },
  {
   "cell_type": "code",
   "execution_count": 34,
   "metadata": {},
   "outputs": [
    {
     "ename": "TypeError",
     "evalue": "'tuple' object does not support item assignment",
     "output_type": "error",
     "traceback": [
      "\u001b[1;31m---------------------------------------------------------------------------\u001b[0m",
      "\u001b[1;31mTypeError\u001b[0m                                 Traceback (most recent call last)",
      "\u001b[1;32m<ipython-input-34-1160520bcf2f>\u001b[0m in \u001b[0;36m<module>\u001b[1;34m()\u001b[0m\n\u001b[1;32m----> 1\u001b[1;33m \u001b[0mt\u001b[0m\u001b[1;33m[\u001b[0m\u001b[1;36m0\u001b[0m\u001b[1;33m]\u001b[0m \u001b[1;33m=\u001b[0m \u001b[1;33m[\u001b[0m\u001b[1;36m1\u001b[0m\u001b[1;33m,\u001b[0m \u001b[1;36m2\u001b[0m\u001b[1;33m,\u001b[0m \u001b[1;36m3\u001b[0m\u001b[1;33m]\u001b[0m\u001b[1;33m\u001b[0m\u001b[0m\n\u001b[0m\u001b[0;32m      2\u001b[0m \u001b[0mprint\u001b[0m\u001b[1;33m(\u001b[0m\u001b[0mt\u001b[0m\u001b[1;33m)\u001b[0m\u001b[1;33m\u001b[0m\u001b[0m\n",
      "\u001b[1;31mTypeError\u001b[0m: 'tuple' object does not support item assignment"
     ]
    }
   ],
   "source": [
    "t[0] = [1, 2, 3]\n",
    "print(t)"
   ]
  },
  {
   "cell_type": "code",
   "execution_count": 35,
   "metadata": {},
   "outputs": [
    {
     "name": "stdout",
     "output_type": "stream",
     "text": [
      "([1, 2, 3], 4)\n"
     ]
    }
   ],
   "source": [
    "t[0].append(3)\n",
    "print(t)"
   ]
  },
  {
   "cell_type": "code",
   "execution_count": 36,
   "metadata": {},
   "outputs": [
    {
     "name": "stdout",
     "output_type": "stream",
     "text": [
      "([[1, 2, 3], 2, 3], 4)\n"
     ]
    }
   ],
   "source": [
    "t[0][0] = [1, 2, 3]\n",
    "print(t)"
   ]
  },
  {
   "cell_type": "code",
   "execution_count": 8,
   "metadata": {},
   "outputs": [
    {
     "name": "stdout",
     "output_type": "stream",
     "text": [
      "1\n",
      "2\n",
      "3\n",
      "4\n",
      "5\n"
     ]
    }
   ],
   "source": [
    "ta = (1, 2, 3, 4, 5)\n",
    "\n",
    "for a in ta:\n",
    "    print (a)"
   ]
  },
  {
   "cell_type": "code",
   "execution_count": 9,
   "metadata": {},
   "outputs": [
    {
     "name": "stdout",
     "output_type": "stream",
     "text": [
      "1\n",
      "2\n",
      "3\n",
      "4\n",
      "5\n"
     ]
    }
   ],
   "source": [
    "ta1 = [1, 2, 3, 4, 5]\n",
    "for a in ta1:\n",
    "    print(a)"
   ]
  },
  {
   "cell_type": "markdown",
   "metadata": {},
   "source": [
    "**NOTE**: Tuples are more efficient than conventional lists, as they consume less computing resources (memory) because they are simpler structures the same way *immutable* strings are in relation to *mutable* strings."
   ]
  },
  {
   "cell_type": "markdown",
   "metadata": {},
   "source": [
    "### Lists Versus Tuples\n",
    "\n",
    "Tuples are used to collect an immutable ordered list of elements. This means that to a tuple (**limitation**):\n",
    "\n",
    "- elements can't be added, thus There’s no append() or extend() method for tuples,\n",
    "- elements can't be removed, thus Tuples have no remove() or pop() method,\n",
    "\n",
    "So, if we have a constant set of values and only we will iterate through it than use a tuple instead of a list as It is faster & safer than working with lists, as the tuples contain “write-protect” data."
   ]
  }
 ],
 "metadata": {
  "kernelspec": {
   "display_name": "Python 3",
   "language": "python",
   "name": "python3"
  },
  "language_info": {
   "codemirror_mode": {
    "name": "ipython",
    "version": 3
   },
   "file_extension": ".py",
   "mimetype": "text/x-python",
   "name": "python",
   "nbconvert_exporter": "python",
   "pygments_lexer": "ipython3",
   "version": "3.6.4"
  }
 },
 "nbformat": 4,
 "nbformat_minor": 2
}
