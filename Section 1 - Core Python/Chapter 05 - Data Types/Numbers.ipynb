{
 "cells": [
  {
   "cell_type": "markdown",
   "metadata": {},
   "source": [
    "## Numbers"
   ]
  },
  {
   "cell_type": "markdown",
   "metadata": {},
   "source": [
    "Python provide following *builtins* numeric data types:\n",
    "\n",
    "+ Integer (*int*): i = 26011950\n",
    "+ Floating Point real (*float*): f = 1.2345\n",
    "+ Complex (*complex*): c = 2 + 10j\n",
    "\n",
    "The builtin function `int()` can be used to convert other types to integer, including base changes.\n",
    "\n",
    "*Example*:"
   ]
  },
  {
   "cell_type": "code",
   "execution_count": 9,
   "metadata": {},
   "outputs": [
    {
     "name": "stdout",
     "output_type": "stream",
     "text": [
      "int(3.14) = 3\n",
      "int(3.64) = 3\n",
      "int(\"22\") = 22\n"
     ]
    }
   ],
   "source": [
    "# Converting real to integer\n",
    "print ('int(3.14) =', int(3.14))\n",
    "print ('int(3.64) =', int(3.64))\n",
    "print('int(\"22\") =', int(\"22\"))"
   ]
  },
  {
   "cell_type": "code",
   "execution_count": 10,
   "metadata": {},
   "outputs": [
    {
     "ename": "ValueError",
     "evalue": "invalid literal for int() with base 10: '22.0'",
     "output_type": "error",
     "traceback": [
      "\u001b[1;31m---------------------------------------------------------------------------\u001b[0m",
      "\u001b[1;31mValueError\u001b[0m                                Traceback (most recent call last)",
      "\u001b[1;32m<ipython-input-10-8e518d0771bb>\u001b[0m in \u001b[0;36m<module>\u001b[1;34m()\u001b[0m\n\u001b[1;32m----> 1\u001b[1;33m \u001b[0mprint\u001b[0m\u001b[1;33m(\u001b[0m\u001b[1;34m'int(\"22.0\") !='\u001b[0m\u001b[1;33m,\u001b[0m \u001b[0mint\u001b[0m\u001b[1;33m(\u001b[0m\u001b[1;34m\"22.0\"\u001b[0m\u001b[1;33m)\u001b[0m\u001b[1;33m)\u001b[0m\u001b[1;33m\u001b[0m\u001b[0m\n\u001b[0m",
      "\u001b[1;31mValueError\u001b[0m: invalid literal for int() with base 10: '22.0'"
     ]
    }
   ],
   "source": [
    "print('int(\"22.0\") !=', int(\"22.0\"))"
   ]
  },
  {
   "cell_type": "code",
   "execution_count": 11,
   "metadata": {},
   "outputs": [
    {
     "ename": "TypeError",
     "evalue": "can't convert complex to int",
     "output_type": "error",
     "traceback": [
      "\u001b[1;31m---------------------------------------------------------------------------\u001b[0m",
      "\u001b[1;31mTypeError\u001b[0m                                 Traceback (most recent call last)",
      "\u001b[1;32m<ipython-input-11-3f03ef5bdda1>\u001b[0m in \u001b[0;36m<module>\u001b[1;34m()\u001b[0m\n\u001b[1;32m----> 1\u001b[1;33m \u001b[0mprint\u001b[0m\u001b[1;33m(\u001b[0m\u001b[1;34m\"int(3+4j) =\"\u001b[0m\u001b[1;33m,\u001b[0m \u001b[0mint\u001b[0m\u001b[1;33m(\u001b[0m\u001b[1;36m3\u001b[0m\u001b[1;33m+\u001b[0m\u001b[1;36m4j\u001b[0m\u001b[1;33m)\u001b[0m\u001b[1;33m)\u001b[0m\u001b[1;33m\u001b[0m\u001b[0m\n\u001b[0m",
      "\u001b[1;31mTypeError\u001b[0m: can't convert complex to int"
     ]
    }
   ],
   "source": [
    "print(\"int(3+4j) =\", int(3+4j))"
   ]
  },
  {
   "cell_type": "code",
   "execution_count": 13,
   "metadata": {},
   "outputs": [
    {
     "name": "stdout",
     "output_type": "stream",
     "text": [
      "float(5) = 5.0\n"
     ]
    }
   ],
   "source": [
    "# Converting integer to real\n",
    "print ('float(5) =', float(5))"
   ]
  },
  {
   "cell_type": "code",
   "execution_count": 15,
   "metadata": {},
   "outputs": [
    {
     "name": "stdout",
     "output_type": "stream",
     "text": [
      "int(\"22.0\") == 22.0\n"
     ]
    }
   ],
   "source": [
    "print('int(\"22.0\") ==', float(\"22.0\"))"
   ]
  },
  {
   "cell_type": "code",
   "execution_count": 17,
   "metadata": {},
   "outputs": [
    {
     "name": "stdout",
     "output_type": "stream",
     "text": [
      "int(float(\"22.0\")) == 22\n"
     ]
    }
   ],
   "source": [
    "print('int(float(\"22.0\")) ==', int(float(\"22.0\")))"
   ]
  },
  {
   "cell_type": "code",
   "execution_count": 12,
   "metadata": {},
   "outputs": [
    {
     "name": "stdout",
     "output_type": "stream",
     "text": [
      "5.0 / 2 + 3 =  5.5\n"
     ]
    }
   ],
   "source": [
    "# Calculation between integer and real results in real\n",
    "print ('5.0 / 2 + 3 = ', 5 / 2 + 3)"
   ]
  },
  {
   "cell_type": "code",
   "execution_count": 18,
   "metadata": {},
   "outputs": [
    {
     "name": "stdout",
     "output_type": "stream",
     "text": [
      "3.5 2.5 6.0\n",
      "<class 'float'> <class 'float'> <class 'float'>\n",
      "3.5 2.5 6\n",
      "<class 'float'> 2.5 <class 'int'>\n"
     ]
    }
   ],
   "source": [
    "x = 3.5\n",
    "y = 2.5\n",
    "z = x + y\n",
    "print(x, y, z)\n",
    "print(type(x), type(y), type(z))\n",
    "z = int(z)\n",
    "print(x, y, z)\n",
    "print(type(x), y, type(z))"
   ]
  },
  {
   "cell_type": "code",
   "execution_count": 9,
   "metadata": {},
   "outputs": [
    {
     "name": "stdout",
     "output_type": "stream",
     "text": [
      "int('20', 8) = 16\n",
      "int('20', 16) = 32\n"
     ]
    }
   ],
   "source": [
    "# Integers in other base\n",
    "print (\"int('20', 8) =\", int('20', 8)) # base 8\n",
    "print (\"int('20', 16) =\", int('20', 16)) # base 16"
   ]
  },
  {
   "cell_type": "code",
   "execution_count": null,
   "metadata": {},
   "outputs": [],
   "source": []
  },
  {
   "cell_type": "code",
   "execution_count": 11,
   "metadata": {},
   "outputs": [
    {
     "name": "stdout",
     "output_type": "stream",
     "text": [
      "c = (3+4j)\n",
      "Real Part: 3.0\n",
      "Imaginary Part: 4.0\n",
      "Conjugate: (3-4j)\n"
     ]
    }
   ],
   "source": [
    "# Operations with complex numbers\n",
    "c = 3 + 4j\n",
    "print ('c =', c)\n",
    "\n",
    "print ('Real Part:', c.real)\n",
    "print ('Imaginary Part:', c.imag)\n",
    "print ('Conjugate:', c.conjugate())"
   ]
  },
  {
   "cell_type": "markdown",
   "metadata": {},
   "source": [
    "> NOTE: The real numbers can also be represented in scientific notation, for example: 1.2e22."
   ]
  },
  {
   "cell_type": "markdown",
   "metadata": {},
   "source": [
    "### Arithmetic Operations:"
   ]
  },
  {
   "cell_type": "markdown",
   "metadata": {},
   "source": [
    "Python has a number of defined operators for handling numbers through arithmetic calculations, logic operations (that test whether a condition is true or false) or bitwise processing (where the numbers are processed in binary form)."
   ]
  },
  {
   "cell_type": "markdown",
   "metadata": {},
   "source": [
    "#### Logical Operations:"
   ]
  },
  {
   "cell_type": "markdown",
   "metadata": {},
   "source": [
    "+ Less than (<)\n",
    "+ Greater than (>)\n",
    "+ Less than or equal to (<=)\n",
    "+ Greater than or equal to (>=)\n",
    "+ Equal to (==)\n",
    "+ Not equal to (!=)"
   ]
  },
  {
   "cell_type": "markdown",
   "metadata": {},
   "source": [
    "##### Less than (<)"
   ]
  },
  {
   "cell_type": "code",
   "execution_count": 33,
   "metadata": {},
   "outputs": [
    {
     "name": "stdout",
     "output_type": "stream",
     "text": [
      "Y wins\n"
     ]
    }
   ],
   "source": [
    "x = 22\n",
    "y = 4\n",
    "if(x < y):\n",
    "    print(\"X wins\")\n",
    "else:\n",
    "    print(\"Y wins\")"
   ]
  },
  {
   "cell_type": "code",
   "execution_count": 34,
   "metadata": {},
   "outputs": [
    {
     "name": "stdout",
     "output_type": "stream",
     "text": [
      "X wins\n"
     ]
    }
   ],
   "source": [
    "x = 2\n",
    "y = 4\n",
    "if(x < y):\n",
    "    print(\"X wins\")\n",
    "else:\n",
    "    print(\"Y wins\")"
   ]
  },
  {
   "cell_type": "markdown",
   "metadata": {},
   "source": [
    "##### Greater than (>)"
   ]
  },
  {
   "cell_type": "code",
   "execution_count": 32,
   "metadata": {},
   "outputs": [
    {
     "name": "stdout",
     "output_type": "stream",
     "text": [
      "Y wins\n"
     ]
    }
   ],
   "source": [
    "x = 2\n",
    "y = 4\n",
    "if(x > y):\n",
    "    print(\"X wins\")\n",
    "else:\n",
    "    print(\"Y wins\")"
   ]
  },
  {
   "cell_type": "code",
   "execution_count": 31,
   "metadata": {},
   "outputs": [
    {
     "name": "stdout",
     "output_type": "stream",
     "text": [
      "X wins\n"
     ]
    }
   ],
   "source": [
    "x = 14\n",
    "y = 4\n",
    "if(x > y):\n",
    "    print(\"X wins\")\n",
    "else:\n",
    "    print(\"Y wins\")"
   ]
  },
  {
   "cell_type": "markdown",
   "metadata": {},
   "source": [
    "##### Less than or equal to (<=)"
   ]
  },
  {
   "cell_type": "code",
   "execution_count": null,
   "metadata": {},
   "outputs": [],
   "source": [
    "x = 2\n",
    "y = 4\n",
    "if(x <= y):\n",
    "    print(\"X wins\")\n",
    "else:\n",
    "    print(\"Y wins\")"
   ]
  },
  {
   "cell_type": "code",
   "execution_count": null,
   "metadata": {},
   "outputs": [],
   "source": [
    "x = 2\n",
    "y = 4\n",
    "if(x <= y):\n",
    "    print(\"X wins\")\n",
    "else:\n",
    "    print(\"Y wins\")"
   ]
  },
  {
   "cell_type": "code",
   "execution_count": null,
   "metadata": {},
   "outputs": [],
   "source": [
    "x = 21\n",
    "y = 4\n",
    "if(x <= y):\n",
    "    print(\"X wins\")\n",
    "else:\n",
    "    print(\"Y wins\")"
   ]
  },
  {
   "cell_type": "code",
   "execution_count": null,
   "metadata": {},
   "outputs": [],
   "source": [
    "x = 4\n",
    "y = 4\n",
    "if(x <= y):\n",
    "    print(\"X wins\")\n",
    "else:\n",
    "    print(\"Y wins\")"
   ]
  },
  {
   "cell_type": "markdown",
   "metadata": {},
   "source": [
    "##### greater_than_or_equal_to"
   ]
  },
  {
   "cell_type": "code",
   "execution_count": null,
   "metadata": {},
   "outputs": [],
   "source": [
    "x = 8\n",
    "y = 4\n",
    "if(x >= y):\n",
    "    print(\"X wins\")\n",
    "else:\n",
    "    print(\"Y wins\")"
   ]
  },
  {
   "cell_type": "code",
   "execution_count": null,
   "metadata": {},
   "outputs": [],
   "source": [
    "x = 4\n",
    "y = 14\n",
    "if(x <= y):\n",
    "    print(\"X wins\")\n",
    "else:\n",
    "    print(\"Y wins\")"
   ]
  },
  {
   "cell_type": "code",
   "execution_count": null,
   "metadata": {},
   "outputs": [],
   "source": [
    "x = 4\n",
    "y = 4\n",
    "if(x <= y):\n",
    "    print(\"X wins\")\n",
    "else:\n",
    "    print(\"Y wins\")"
   ]
  },
  {
   "cell_type": "markdown",
   "metadata": {},
   "source": [
    "##### Equal To"
   ]
  },
  {
   "cell_type": "code",
   "execution_count": 17,
   "metadata": {},
   "outputs": [
    {
     "name": "stdout",
     "output_type": "stream",
     "text": [
      "X & Y are equal\n"
     ]
    }
   ],
   "source": [
    "x = 4\n",
    "y = 4\n",
    "if(x == y):\n",
    "    print(\"X & Y are equal\")\n",
    "else:\n",
    "    print(\"X & Y are different\")"
   ]
  },
  {
   "cell_type": "code",
   "execution_count": 19,
   "metadata": {},
   "outputs": [
    {
     "name": "stdout",
     "output_type": "stream",
     "text": [
      "X & Y are different\n"
     ]
    }
   ],
   "source": [
    "x = 41\n",
    "y = 4\n",
    "if(x == y):\n",
    "    print(\"X & Y are equal\")\n",
    "else:\n",
    "    print(\"X & Y are different\")"
   ]
  },
  {
   "cell_type": "code",
   "execution_count": 21,
   "metadata": {},
   "outputs": [
    {
     "name": "stdout",
     "output_type": "stream",
     "text": [
      "X & Y are different\n"
     ]
    }
   ],
   "source": [
    "x = 2+1j\n",
    "y = 3+1j\n",
    "if(x == y):\n",
    "    print(\"X & Y are equal\")\n",
    "else:\n",
    "    print(\"X & Y are different\")"
   ]
  },
  {
   "cell_type": "code",
   "execution_count": 22,
   "metadata": {},
   "outputs": [
    {
     "name": "stdout",
     "output_type": "stream",
     "text": [
      "X & Y are equal\n"
     ]
    }
   ],
   "source": [
    "x = 21+1j\n",
    "y = 21+1j\n",
    "if(x == y):\n",
    "    print(\"X & Y are equal\")\n",
    "else:\n",
    "    print(\"X & Y are different\")"
   ]
  },
  {
   "cell_type": "code",
   "execution_count": 22,
   "metadata": {
    "scrolled": true
   },
   "outputs": [
    {
     "name": "stdout",
     "output_type": "stream",
     "text": [
      "X & Y are equal\n"
     ]
    }
   ],
   "source": [
    "x = 21+1j\n",
    "y = 21+1j\n",
    "if(x == y):\n",
    "    print(\"X & Y are equal\")\n",
    "else:\n",
    "    print(\"X & Y are different\")"
   ]
  },
  {
   "cell_type": "markdown",
   "metadata": {},
   "source": [
    "##### Not Equal To"
   ]
  },
  {
   "cell_type": "code",
   "execution_count": 23,
   "metadata": {},
   "outputs": [
    {
     "name": "stdout",
     "output_type": "stream",
     "text": [
      "X & Y are equal\n"
     ]
    }
   ],
   "source": [
    "x = 4\n",
    "y = 4\n",
    "if(x != y):\n",
    "    print(\"X & Y are different\")\n",
    "else:\n",
    "    print(\"X & Y are equal\")"
   ]
  },
  {
   "cell_type": "code",
   "execution_count": 24,
   "metadata": {},
   "outputs": [
    {
     "name": "stdout",
     "output_type": "stream",
     "text": [
      "X & Y are different\n"
     ]
    }
   ],
   "source": [
    "x = 41\n",
    "y = 4\n",
    "if(x != y):\n",
    "    print(\"X & Y are different\")\n",
    "else:\n",
    "    print(\"X & Y are equal\")"
   ]
  },
  {
   "cell_type": "code",
   "execution_count": 25,
   "metadata": {},
   "outputs": [
    {
     "name": "stdout",
     "output_type": "stream",
     "text": [
      "X & Y are different\n"
     ]
    }
   ],
   "source": [
    "x = 2+1j\n",
    "y = 3+1j\n",
    "if(x != y):\n",
    "    print(\"X & Y are different\")\n",
    "else:\n",
    "    print(\"X & Y are equal\")"
   ]
  },
  {
   "cell_type": "code",
   "execution_count": 26,
   "metadata": {},
   "outputs": [
    {
     "name": "stdout",
     "output_type": "stream",
     "text": [
      "X & Y are equal\n"
     ]
    }
   ],
   "source": [
    "x = 21+1j\n",
    "y = 21+1j\n",
    "if(x != y):\n",
    "    print(\"X & Y are different\")\n",
    "else:\n",
    "    print(\"X & Y are equal\")"
   ]
  },
  {
   "cell_type": "markdown",
   "metadata": {},
   "source": [
    "#### Bitwise Operations:"
   ]
  },
  {
   "cell_type": "markdown",
   "metadata": {},
   "source": [
    "+ Left Shift (<<)\n",
    "+ Right Shift (>>)\n",
    "+ And (&)\n",
    "+ Or (|)\n",
    "+ Exclusive Or (^)\n",
    "+ Inversion (~)\n",
    "\n",
    "During the operations, numbers are converted appropriately (eg. `(1.5+4j) + 3` gives `4.5+4j`).\n",
    "\n",
    "Besides operators, there are also some *builtin* features to handle numeric types: `abs()`, which returns the absolute value of the number, `oct()`, which converts to octal, `hex()`, which converts for hexadecimal, `pow()`, which raises a number by another and `round()`, which returns a real number with the specified rounding.\n",
    "\n"
   ]
  },
  {
   "cell_type": "code",
   "execution_count": 36,
   "metadata": {},
   "outputs": [],
   "source": [
    "x = 10 #-> 1010 \n",
    "y = 11 #-> 1011"
   ]
  },
  {
   "cell_type": "markdown",
   "metadata": {},
   "source": [
    "\n",
    "```\n",
    "1011\n",
    "\"\"\"\n",
    "OR\n",
    "0 0 | 0 \n",
    "0 1 | 1\n",
    "1 0 | 1\n",
    "1 1 | 1\n",
    "AND\n",
    "0 0 | 0\n",
    "0 1 | 0\n",
    "1 0 | 0\n",
    "1 1 | 1\n",
    "\"\"\"\n",
    "```"
   ]
  },
  {
   "cell_type": "code",
   "execution_count": 37,
   "metadata": {},
   "outputs": [
    {
     "name": "stdout",
     "output_type": "stream",
     "text": [
      "x<<2 =  40\n",
      "x = 10\n",
      "x>>2 =  2\n",
      "x&y =  10\n",
      "x|y =  11\n",
      "x^y =  1\n",
      "x = 10\n",
      "~x =  -11\n",
      "~y =  -12\n"
     ]
    }
   ],
   "source": [
    "print(\"x<<2 = \", x<<2)\n",
    "print(\"x =\", x)\n",
    "print(\"x>>2 = \", x>>2)\n",
    "print(\"x&y = \", x&y)\n",
    "print(\"x|y = \", x|y)\n",
    "print(\"x^y = \", x^y)\n",
    "print(\"x =\", x)\n",
    "print(\"~x = \", ~x)\n",
    "print(\"~y = \", ~y)"
   ]
  },
  {
   "cell_type": "code",
   "execution_count": null,
   "metadata": {},
   "outputs": [],
   "source": [
    "\n",
    "\n"
   ]
  },
  {
   "cell_type": "code",
   "execution_count": null,
   "metadata": {},
   "outputs": [],
   "source": []
  },
  {
   "cell_type": "code",
   "execution_count": null,
   "metadata": {},
   "outputs": [],
   "source": []
  }
 ],
 "metadata": {
  "kernelspec": {
   "display_name": "Python 3",
   "language": "python",
   "name": "python3"
  },
  "language_info": {
   "codemirror_mode": {
    "name": "ipython",
    "version": 3
   },
   "file_extension": ".py",
   "mimetype": "text/x-python",
   "name": "python",
   "nbconvert_exporter": "python",
   "pygments_lexer": "ipython3",
   "version": "3.6.4"
  }
 },
 "nbformat": 4,
 "nbformat_minor": 2
}
