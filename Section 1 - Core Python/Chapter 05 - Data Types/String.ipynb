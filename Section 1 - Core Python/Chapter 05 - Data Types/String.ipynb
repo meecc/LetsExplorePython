{
 "cells": [
  {
   "cell_type": "markdown",
   "metadata": {},
   "source": [
    "## String"
   ]
  },
  {
   "cell_type": "markdown",
   "metadata": {},
   "source": [
    "\n",
    "\n",
    "*Strings* are Python *builtins* datatype for handling text. They are **immutable** thus you can **not add, remove or change** any character in a *string*. To perform these operations, Python needs to create a new *string*.\n",
    "\n",
    "> Since Python 3, strings are by default unicode string.\n",
    "\n",
    "Types:\n",
    "\n",
    "+ Standard String: `s = 'Chandu\\tNalluri'` # Chandu   Nalluri\n",
    "+ Raw String: `a = r'Roshan\\tMusheer'` # Roshan\\tMusheer\n",
    "+ Unicode String: `u = u'Björk'`\n",
    "\n",
    "> The standard *string* can be converted to *unicode* by using the function `unicode()`.\n",
    "\n",
    "String can be initialized using:\n",
    "\n",
    "+ With single or double quotes ('', \"\").\n",
    "+ On several consecutive lines, provided that it's between three single or double quotes (''' ''', \"\"\" \"\"\").\n",
    "+ Without expansion characters (example: `s = r '\\ n'`, where `s` will contain the characters `\\` and `n`).\n",
    "\n"
   ]
  },
  {
   "cell_type": "code",
   "execution_count": 7,
   "metadata": {
    "scrolled": false
   },
   "outputs": [
    {
     "name": "stdout",
     "output_type": "stream",
     "text": [
      "Roshan\\tMusheer\n"
     ]
    }
   ],
   "source": [
    "a = r'Roshan\\tMusheer'\n",
    "print(a)"
   ]
  },
  {
   "cell_type": "code",
   "execution_count": 8,
   "metadata": {
    "scrolled": true
   },
   "outputs": [
    {
     "name": "stdout",
     "output_type": "stream",
     "text": [
      "C:\n",
      "ew_data\technical_jargons\n",
      "C:\\new_data\\technical_jargons\n"
     ]
    }
   ],
   "source": [
    "path = \"C:\\new_data\\technical_jargons\"\n",
    "print(path)\n",
    "path = R\"C:\\new_data\\technical_jargons\"\n",
    "print(path)"
   ]
  },
  {
   "cell_type": "code",
   "execution_count": 9,
   "metadata": {},
   "outputs": [
    {
     "name": "stdout",
     "output_type": "stream",
     "text": [
      "Roshan\tMusheer\n"
     ]
    }
   ],
   "source": [
    "a = 'Roshan\\tMusheer'\n",
    "print(a)"
   ]
  },
  {
   "cell_type": "markdown",
   "metadata": {},
   "source": [
    "### String Operations:"
   ]
  },
  {
   "cell_type": "code",
   "execution_count": 4,
   "metadata": {},
   "outputs": [
    {
     "name": "stdout",
     "output_type": "stream",
     "text": [
      "The Camel ran away!\n",
      "The The Camel ran away! ran away!\n",
      "139651602524888\n",
      "139651602147488\n"
     ]
    }
   ],
   "source": [
    "s = 'Camel'\n",
    "s = 'The ' + s + ' ran away!'\n",
    "# Concatenation\n",
    "print(s)\n",
    "st = 'The ' + s + ' ran away!'\n",
    "print(st)\n",
    "print(id(st))\n",
    "print(id(s))\n"
   ]
  },
  {
   "cell_type": "code",
   "execution_count": 21,
   "metadata": {},
   "outputs": [
    {
     "name": "stdout",
     "output_type": "stream",
     "text": [
      "Size of Camel => 5\n",
      "['__add__', '__class__', '__contains__', '__delattr__', '__dir__', '__doc__', '__eq__', '__format__', '__ge__', '__getattribute__', '__getitem__', '__getnewargs__', '__gt__', '__hash__', '__init__', '__init_subclass__', '__iter__', '__le__', '__len__', '__lt__', '__mod__', '__mul__', '__ne__', '__new__', '__reduce__', '__reduce_ex__', '__repr__', '__rmod__', '__rmul__', '__setattr__', '__sizeof__', '__str__', '__subclasshook__', 'capitalize', 'casefold', 'center', 'count', 'encode', 'endswith', 'expandtabs', 'find', 'format', 'format_map', 'index', 'isalnum', 'isalpha', 'isdecimal', 'isdigit', 'isidentifier', 'islower', 'isnumeric', 'isprintable', 'isspace', 'istitle', 'isupper', 'join', 'ljust', 'lower', 'lstrip', 'maketrans', 'partition', 'replace', 'rfind', 'rindex', 'rjust', 'rpartition', 'rsplit', 'rstrip', 'split', 'splitlines', 'startswith', 'strip', 'swapcase', 'title', 'translate', 'upper', 'zfill']\n",
      "Size of Camel => 5\n",
      "5\n"
     ]
    }
   ],
   "source": [
    "# Interpolation\n",
    "\"\"\"\n",
    "string interpolation (or variable interpolation, variable substitution, \n",
    "or variable expansion) is the process of evaluating a string literal \n",
    "containing one or more placeholders, yielding a result in which the \n",
    "placeholders are replaced with their corresponding values.\n",
    "\"\"\"\n",
    "print( 'Size of %s => %d' % (s, len(s)))\n",
    "print(dir(s))\n",
    "print( 'Size of %s => %d' % (s, s.__len__()))\n",
    "\n",
    "def size(strdata):\n",
    "    c = 0\n",
    "    for a in strdata:\n",
    "        c+=1\n",
    "    return c\n",
    "\n",
    "print(size(\"Anshu\"))"
   ]
  },
  {
   "cell_type": "code",
   "execution_count": 14,
   "metadata": {},
   "outputs": [
    {
     "name": "stdout",
     "output_type": "stream",
     "text": [
      "M,u,r,t,h,y, ,\b.\n",
      "~~~~~~~~~~~~~~~~~~~~~~~~~~~~~~~~~~~~~~~~~~~~~~~~~~~~~~~~~~~~~~~~~~~~~~~~~~~~~~~\n"
     ]
    }
   ],
   "source": [
    "# String processed as a sequence\n",
    "s = \"Murthy \"\n",
    "for ch in s: print(ch , end=',') # This \n",
    "# print(help(print))\n",
    "print(\"\\b.\")\n",
    "print(\"~\"*79)"
   ]
  },
  {
   "cell_type": "code",
   "execution_count": 11,
   "metadata": {},
   "outputs": [
    {
     "name": "stdout",
     "output_type": "stream",
     "text": [
      "   murthy \n",
      "~~~~~~~~~~~~~~~~~~~~~~~~~~~~~~~~~~~~~~~~~~~~~~~~~~~~~~~~~~~~~~~~~~~~~~~~~~~~~~~\n",
      "   Murthy    Murthy    Murthy \n"
     ]
    }
   ],
   "source": [
    "# Strings are objects\n",
    "if s.startswith('M'): print(s.upper())\n",
    "\n",
    "print(s.lower())\n",
    "print(\"~\"*79)\n",
    "\n",
    "# what will happen? \n",
    "print(3*s) \n",
    "\n",
    "# print(dir(s))"
   ]
  },
  {
   "cell_type": "code",
   "execution_count": 12,
   "metadata": {},
   "outputs": [
    {
     "name": "stdout",
     "output_type": "stream",
     "text": [
      "   Murthy5\n",
      "Murthy 5\n"
     ]
    },
    {
     "ename": "TypeError",
     "evalue": "must be str, not int",
     "output_type": "error",
     "traceback": [
      "\u001b[0;31m---------------------------------------------------------------------------\u001b[0m",
      "\u001b[0;31mTypeError\u001b[0m                                 Traceback (most recent call last)",
      "\u001b[0;32m<ipython-input-12-d14538833000>\u001b[0m in \u001b[0;36m<module>\u001b[0;34m()\u001b[0m\n\u001b[1;32m      3\u001b[0m \u001b[0mprint\u001b[0m\u001b[0;34m(\u001b[0m\u001b[0ms\u001b[0m \u001b[0;34m+\u001b[0m \u001b[0mstr\u001b[0m\u001b[0;34m(\u001b[0m\u001b[0mage\u001b[0m\u001b[0;34m)\u001b[0m\u001b[0;34m)\u001b[0m\u001b[0;34m\u001b[0m\u001b[0m\n\u001b[1;32m      4\u001b[0m \u001b[0mprint\u001b[0m\u001b[0;34m(\u001b[0m\u001b[0ms\u001b[0m\u001b[0;34m.\u001b[0m\u001b[0mstrip\u001b[0m\u001b[0;34m(\u001b[0m\u001b[0;34m)\u001b[0m\u001b[0;34m,\u001b[0m \u001b[0mage\u001b[0m\u001b[0;34m)\u001b[0m\u001b[0;34m\u001b[0m\u001b[0m\n\u001b[0;32m----> 5\u001b[0;31m \u001b[0mprint\u001b[0m\u001b[0;34m(\u001b[0m\u001b[0ms\u001b[0m \u001b[0;34m+\u001b[0m \u001b[0mage\u001b[0m\u001b[0;34m)\u001b[0m\u001b[0;34m\u001b[0m\u001b[0m\n\u001b[0m",
      "\u001b[0;31mTypeError\u001b[0m: must be str, not int"
     ]
    }
   ],
   "source": [
    "s = \"   Murthy \"\n",
    "age = 5\n",
    "print(s + str(age))\n",
    "print(s.strip(), age)\n",
    "# print(s + age)"
   ]
  },
  {
   "cell_type": "code",
   "execution_count": 17,
   "metadata": {},
   "outputs": [
    {
     "name": "stdout",
     "output_type": "stream",
     "text": [
      "20\n",
      "12\n",
      "    Mayank Johri\n",
      "Mayank Johri    \n"
     ]
    }
   ],
   "source": [
    "st = \"    Mayank Johri    \"\n",
    "print(len(st))\n",
    "s = st.strip()\n",
    "print(len(s))\n",
    "print(st.rstrip())\n",
    "print(st.lstrip())"
   ]
  },
  {
   "cell_type": "code",
   "execution_count": 16,
   "metadata": {},
   "outputs": [
    {
     "name": "stdout",
     "output_type": "stream",
     "text": [
      "mon,tues,wed\n",
      ",\n",
      ",\n",
      "O,n, ,L,e,a,v,e\n",
      "MOn LeaveoOn LeavehOn LeaveaOn LeavenOn Leave On LeaveSOn LeavehOn LeaveaOn Leaveh\n"
     ]
    }
   ],
   "source": [
    "m = \"Mohan Shah\"\n",
    "x = [\"mon\", \"tues\", \"wed\"]\n",
    "y = \",\"\n",
    "a = \"On Leave\"\n",
    "print(y.join(x)) # -> mon,tues,wed\n",
    "print(m.join(y)) \n",
    "print(a.join(y))\n",
    "print(y.join(a)) \n",
    "print(a.join(m)) "
   ]
  },
  {
   "cell_type": "markdown",
   "metadata": {},
   "source": [
    "The operator `%` is used for string interpolation. The interpolation is more efficient in use of memory than the conventional concatenation.\n",
    "\n",
    "Symbols used in the interpolation:\n",
    "\n",
    "+ %s: *string*.\n",
    "+ %d: integer.\n",
    "+ %o: octal.\n",
    "+ %x: hexacimal.\n",
    "+ %f: real.\n",
    "+ %e: real exponential.\n",
    "+ %%: percent sign.\n",
    "\n",
    "Symbols can be used to display numbers in various formats.\n",
    "\n",
    "*Example*:"
   ]
  },
  {
   "cell_type": "code",
   "execution_count": 20,
   "metadata": {
    "scrolled": true
   },
   "outputs": [
    {
     "name": "stdout",
     "output_type": "stream",
     "text": [
      "Now is 06:30.\n",
      "Percent: 5.3%, Exponencial:3.14e-03\n",
      "Decimal: 10, Octal: 12, Hexadecimal: a\n"
     ]
    }
   ],
   "source": [
    "# Zeros left\n",
    "print ('Now is %02d:%02d.' % (6, 30))\n",
    "\n",
    "# Real (The number after the decimal point specifies how many decimal digits )\n",
    "print ('Percent: %.1f%%, Exponencial:%.2e' % (5.333, 0.00314))\n",
    "\n",
    "# Octal and hexadecimal\n",
    "print ('Decimal: %d, Octal: %o, Hexadecimal: %x' % (10, 10, 10))"
   ]
  },
  {
   "cell_type": "markdown",
   "metadata": {},
   "source": [
    "### format\n",
    "In addition to interpolation operator `%`, the string method and function `format()` is available.\n",
    "\n",
    "> The function `format()` can be used only to format one piece of data each time.\n",
    "\n",
    "*Examples*:"
   ]
  },
  {
   "cell_type": "code",
   "execution_count": 21,
   "metadata": {
    "scrolled": true
   },
   "outputs": [
    {
     "name": "stdout",
     "output_type": "stream",
     "text": [
      "Mayank is friend of Manish\n",
      "Mayank is reportee of Roshan Musheer\n",
      "Good Morning, it is 09:30\n",
      "{greeting}, it is {hour:02d}:{minute:02d}\n",
      "Pi = 3.142e+00\n",
      "Pi = 3.1e+00\n"
     ]
    }
   ],
   "source": [
    "peoples = [('Mayank', 'friend', 'Manish'),\n",
    "('Mayank', 'reportee', 'Roshan Musheer')]\n",
    "\n",
    "# Parameters are identified by order\n",
    "msg = '{0} is {1} of {2}'\n",
    "\n",
    "for name, function, friend in peoples:\n",
    "    print(msg.format(name, function, friend))\n",
    "\n",
    "# Parameters are identified by name\n",
    "msg = '{greeting}, it is {hour:02d}:{minute:02d}'\n",
    "\n",
    "print(msg.format(greeting='Good Morning', hour=9, minute=30))\n",
    "print(msg)\n",
    "# Builtin function format()\n",
    "print ('Pi =', format(3.14159, '.3e'))\n",
    "print ('Pi =', format(3.14159, '.1e'))"
   ]
  },
  {
   "cell_type": "markdown",
   "metadata": {},
   "source": [
    "### `str` in-build module\n",
    "\n",
    "Strings implement all of the common sequence operations, along with the additional methods described below."
   ]
  },
  {
   "cell_type": "code",
   "execution_count": 3,
   "metadata": {
    "scrolled": true
   },
   "outputs": [
    {
     "name": "stdout",
     "output_type": "stream",
     "text": [
      "Maya deploy, version: 0.0.3 \n",
      "                maya Deploy, version: 0.0.3                 \n",
      "****************maya Deploy, version: 0.0.3 ****************\n",
      "maya Deploy, version: 0.0.3 \n",
      "2\n",
      "2\n",
      "False\n",
      "False\n",
      "True\n",
      "-1\n",
      "6\n"
     ]
    }
   ],
   "source": [
    "myStr = \"maya Deploy, version: 0.0.3 \"\n",
    "\n",
    "print(myStr.capitalize())\n",
    "print(myStr.center(60))\n",
    "print(myStr.center(60, \"*\"))\n",
    "print(myStr.center(10, \"*\"))\n",
    "\n",
    "print(myStr.count('a'))\n",
    "print(myStr.count('e'))\n",
    "\n",
    "print(myStr.endswith('all'))\n",
    "\n",
    "print(myStr.endswith('.0.3'))\n",
    "print(myStr.endswith('.0.3 '))\n",
    "\n",
    "print(myStr.find(\"g\"))\n",
    "print(myStr.find(\"e\"))"
   ]
  },
  {
   "cell_type": "markdown",
   "metadata": {},
   "source": [
    "> **Note**: The find() method should be used only if you need to know the position of sub. To check if sub is a substring or not, use the in operator:"
   ]
  },
  {
   "cell_type": "markdown",
   "metadata": {},
   "source": [
    "checking: substring in main_string : returns true or false"
   ]
  },
  {
   "cell_type": "code",
   "execution_count": 6,
   "metadata": {},
   "outputs": [
    {
     "name": "stdout",
     "output_type": "stream",
     "text": [
      "True\n"
     ]
    }
   ],
   "source": [
    "print(\"m\" in myStr)"
   ]
  },
  {
   "cell_type": "code",
   "execution_count": 5,
   "metadata": {},
   "outputs": [
    {
     "name": "stdout",
     "output_type": "stream",
     "text": [
      "False\n"
     ]
    }
   ],
   "source": [
    "print(\"M\" in myStr)"
   ]
  },
  {
   "cell_type": "code",
   "execution_count": 34,
   "metadata": {},
   "outputs": [
    {
     "name": "stdout",
     "output_type": "stream",
     "text": [
      "True\n",
      "False\n"
     ]
    }
   ],
   "source": [
    "c = \"one\"\n",
    "print(c.isalpha())\n",
    "c = \"1\"\n",
    "print(c.isalpha())"
   ]
  },
  {
   "cell_type": "code",
   "execution_count": 39,
   "metadata": {},
   "outputs": [
    {
     "name": "stdout",
     "output_type": "stream",
     "text": [
      "੫\n",
      "True\n",
      "True\n",
      "10 -> True\n",
      "False\n",
      "False\n",
      "True\n",
      "False\n"
     ]
    }
   ],
   "source": [
    "superscripts = \"\\u00B2\"\n",
    "five = \"\\u0A6B\"\n",
    "#str.isdecimal() (Only Decimal Numbers)\n",
    "print(five)\n",
    "print(c.isdecimal())\n",
    "print(five.isdecimal())\n",
    "print(\"10 ->\", \"10\".isdecimal())\n",
    "print(\"10.001\".isdecimal())\n",
    "\n",
    "str = u\"this 2009\";  \n",
    "print(str.isdecimal())\n",
    "\n",
    "str = u\"23443434\";\n",
    "print(str.isdecimal())\n",
    "print(fractions.isdecimal())"
   ]
  },
  {
   "cell_type": "code",
   "execution_count": 42,
   "metadata": {},
   "outputs": [
    {
     "name": "stdout",
     "output_type": "stream",
     "text": [
      "¼\n",
      "True\n",
      "False\n",
      "True\n",
      "True\n",
      "False\n",
      "False\n"
     ]
    }
   ],
   "source": [
    "# str.isdigit() (Decimals, Subscripts, Superscripts)\n",
    "fractions = \"\\u00BC\"\n",
    "print(fractions)\n",
    "print(c.isdigit())\n",
    "print(fractions.isdigit())\n",
    "print(five.isdigit())\n",
    "\n",
    "print(\"10\".isdigit())\n",
    "str = u\"this 2009\";  \n",
    "print(str.isdigit())\n",
    "\n",
    "str = u\"23443.434\";\n",
    "print(str.isdigit())"
   ]
  },
  {
   "cell_type": "code",
   "execution_count": 29,
   "metadata": {},
   "outputs": [
    {
     "name": "stdout",
     "output_type": "stream",
     "text": [
      "²\n",
      "True\n",
      "False\n",
      "²²\n",
      "¼¼\n"
     ]
    }
   ],
   "source": [
    "print(superscripts)\n",
    "print(superscripts.isdigit())\n",
    "print(superscripts.isdecimal()) \n",
    "print(superscripts+superscripts)\n",
    "print(fractions+fractions)"
   ]
  },
  {
   "cell_type": "code",
   "execution_count": 30,
   "metadata": {},
   "outputs": [
    {
     "name": "stdout",
     "output_type": "stream",
     "text": [
      "¼\n",
      "True\n",
      "True\n"
     ]
    }
   ],
   "source": [
    "# str.isnumeric() (Digits, Fractions, Subscripts, Superscripts, Roman Numerals, Currency Numerators)\n",
    "print(fractions)\n",
    "print(fractions.isnumeric())\n",
    "print(five.isnumeric())"
   ]
  },
  {
   "cell_type": "code",
   "execution_count": null,
   "metadata": {
    "collapsed": true
   },
   "outputs": [],
   "source": []
  },
  {
   "cell_type": "code",
   "execution_count": 31,
   "metadata": {},
   "outputs": [
    {
     "name": "stdout",
     "output_type": "stream",
     "text": [
      "False\n",
      "True\n",
      "True\n"
     ]
    }
   ],
   "source": [
    "print(myStr.isalnum())\n",
    "print(\"one\".isalnum())\n",
    "print(\"thirteen\".isalnum())"
   ]
  },
  {
   "cell_type": "markdown",
   "metadata": {},
   "source": [
    "### String Module\n",
    "-----\n",
    "\n",
    "Various functions for dealing with text are implemented in the module *string*."
   ]
  },
  {
   "cell_type": "code",
   "execution_count": 14,
   "metadata": {},
   "outputs": [
    {
     "name": "stdout",
     "output_type": "stream",
     "text": [
      "['ChainMap', 'Formatter', 'Template', '_TemplateMetaclass', '__builtins__', '__cached__', '__doc__', '__file__', '__loader__', '__name__', '__package__', '__spec__', '_re', '_string', 'ascii_letters', 'ascii_lowercase', 'ascii_uppercase', 'capwords', 'digits', 'hexdigits', 'octdigits', 'printable', 'punctuation', 'whitespace']\n",
      "abcdefghijklmnopqrstuvwxyzABCDEFGHIJKLMNOPQRSTUVWXYZ\n",
      "bcdefghijklmnopqrstuvwxyzABCDEFGHIJKLMNOPQRSTUVWXYZa\n",
      "str(object='') -> str\n",
      "str(bytes_or_buffer[, encoding[, errors]]) -> str\n",
      "\n",
      "Create a new string object from the given object. If encoding or\n",
      "errors is specified, then the object must expose a data buffer\n",
      "that will be decoded using the given encoding and error handler.\n",
      "Otherwise, returns the result of object.__str__() (if defined)\n",
      "or repr(object).\n",
      "encoding defaults to sys.getdefaultencoding().\n",
      "errors defaults to 'strict'.\n",
      "0123456789\n",
      "0123456789abcdefABCDEF\n",
      "no Python documentation found for '0123456789abcdefghijklmnopqrstuvwxyzABCDEFGHIJKLMNOPQRSTUVWXYZ!\"#$%&\\'()*+,-./:;<=>?@[\\\\]^_`{|}~'\n",
      "\n",
      "None\n"
     ]
    }
   ],
   "source": [
    "import string\n",
    "\n",
    "# the alphabet\n",
    "print(dir(string))\n",
    "a = string.ascii_letters\n",
    "print(a)\n",
    "# Shifting left the alphabet\n",
    "b = a[1:] + a[0]\n",
    "print(b)\n",
    "print(b.__doc__)\n",
    "print(string.digits)\n",
    "print(string.hexdigits)\n",
    "print(help(string.printable))"
   ]
  },
  {
   "cell_type": "markdown",
   "metadata": {},
   "source": [
    "#### Template\n",
    "\n",
    "The module also implements a type called *Template*, which is a model *string* that can be filled through a dictionary. Identifiers are initialized by a dollar sign ($) and may be surrounded by curly braces, to avoid confusion.\n",
    "\n",
    "Example:"
   ]
  },
  {
   "cell_type": "code",
   "execution_count": 3,
   "metadata": {},
   "outputs": [
    {
     "name": "stdout",
     "output_type": "stream",
     "text": [
      "Lack of electricity occurred in April 3, 2002 $what\n"
     ]
    }
   ],
   "source": [
    "import string\n",
    "\n",
    "# Creates a template string\n",
    "st = string.Template('$warning occurred in $when $$what')\n",
    "\n",
    "# Fills the model with a dictionary\n",
    "s = st.substitute({'warning': 'Lack of electricity',\n",
    "    'when': 'April 3, 2002'})\n",
    "\n",
    "# Shows:\n",
    "# Lack of electricity occurred in April 3, 2002\n",
    "print(s)"
   ]
  },
  {
   "cell_type": "code",
   "execution_count": 34,
   "metadata": {},
   "outputs": [
    {
     "name": "stdout",
     "output_type": "stream",
     "text": [
      "b'H\\xfcsker D\\xfc' => <class 'bytes'>\n",
      "'Hüsker Dü' => <class 'str'>\n"
     ]
    }
   ],
   "source": [
    "# Unicode String \n",
    "u = u'Hüsker Dü'\n",
    "# Convert to str\n",
    "s = u.encode('latin1')\n",
    "print (s, '=>', type(s))\n",
    "\n",
    "# String str\n",
    "s = 'Hüsker Dü'\n",
    "# u = s.decode('latin1')\n",
    "\n",
    "print (repr(u), '=>', type(u))"
   ]
  },
  {
   "cell_type": "markdown",
   "metadata": {},
   "source": [
    "To use both methods, it is necessary to pass as an argument the compliant coding. The most used are \"latin1\" \"utf8\"."
   ]
  }
 ],
 "metadata": {
  "kernelspec": {
   "display_name": "Python 3",
   "language": "python",
   "name": "python3"
  },
  "language_info": {
   "codemirror_mode": {
    "name": "ipython",
    "version": 3
   },
   "file_extension": ".py",
   "mimetype": "text/x-python",
   "name": "python",
   "nbconvert_exporter": "python",
   "pygments_lexer": "ipython3",
   "version": "3.4.6"
  }
 },
 "nbformat": 4,
 "nbformat_minor": 2
}
