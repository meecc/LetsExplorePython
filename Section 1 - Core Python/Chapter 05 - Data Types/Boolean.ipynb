{
 "cells": [
  {
   "cell_type": "markdown",
   "metadata": {},
   "source": [
    "## Boolean"
   ]
  },
  {
   "cell_type": "markdown",
   "metadata": {},
   "source": [
    "### True, False and Null"
   ]
  },
  {
   "cell_type": "markdown",
   "metadata": {},
   "source": [
    "In Python, the boolean type (*bool*) is special integer type (*int*) which can have only one of two values, i.e. *True* (value equal to 1) or *False* (value equal to 0).\n",
    "\n",
    "The following values are considered false:\n",
    "\n",
    "+ `False`.\n",
    "+ `None` (null).\n",
    "+ `0` (zero).\n",
    "+ `''` (empty string).\n",
    "+ `[]` (empty list).\n",
    "+ `()` (empty tuple).\n",
    "+ `{}` (emtpy dicionary).\n",
    "+ Other structures with size equal zero.\n",
    "\n",
    "All other objects out of that list are considered true.\n",
    "\n",
    "The object *None*, which is of type *NoneType*, in Python represents the null and is evaluated as false by the interpreter.\n",
    "\n",
    "Boolean Operators\n",
    "--------------------\n",
    "With logical operators it is possible to build more complex conditions to control conditional jumps and loops.\n",
    "\n",
    "Boolean operators in Python are: *and*, *or* , *not* , *is* , *in*.\n",
    "\n",
    "+ `and`: returns a true value if and only if it receives two expressions that are true.\n",
    "+ `or` : returns a false value if and only if it receives two expressions that are false.\n",
    "+ `not` : returns false if it receives a true expression and vice versa.\n",
    "+ `is`: returns true if it receives two references to the same object false otherwise.\n",
    "+ `in` : returns true if you receive an item and a list and the item occur one or more times in the list false otherwise.\n",
    "\n",
    "The calculation of the resulting operation *and* is as follows: if the first expression is true, the result will be the second expression, otherwise it will be the first. \n",
    "\n",
    "As for the operator *or* if the first expression is false, the result will be the second expression, otherwise it will be the first. For other operators, the return will be of type bool (True or False).\n",
    "\n",
    "Examples:"
   ]
  },
  {
   "cell_type": "code",
   "execution_count": 44,
   "metadata": {
    "scrolled": true
   },
   "outputs": [
    {
     "name": "stdout",
     "output_type": "stream",
     "text": [
      "0\n",
      "3\n",
      "3\n",
      "2\n",
      "True\n",
      "False\n",
      "True\n",
      "False\n"
     ]
    }
   ],
   "source": [
    "print (0 and 3) # Shows 0\n",
    "print (2 and 3 )# Shows 3\n",
    "\n",
    "print (0 or 3) # Shows 3\n",
    "print (2 or 3) # Shows 2\n",
    "\n",
    "print (not 0) # Shows True\n",
    "print (not 2) # Shows False\n",
    "print (2 in (2, 3)) # Shows True\n",
    "print (2 is 3) # Shows False"
   ]
  },
  {
   "cell_type": "markdown",
   "metadata": {},
   "source": [
    "Besides boolean operators, there are the functions `all()`, which returns true when all of the items in the sequence passed as parameters are true, and `any()`, which returns true if any item is true."
   ]
  },
  {
   "cell_type": "code",
   "execution_count": null,
   "metadata": {},
   "outputs": [],
   "source": []
  }
 ],
 "metadata": {
  "kernelspec": {
   "display_name": "Python 3",
   "language": "python",
   "name": "python3"
  },
  "language_info": {
   "codemirror_mode": {
    "name": "ipython",
    "version": 3
   },
   "file_extension": ".py",
   "mimetype": "text/x-python",
   "name": "python",
   "nbconvert_exporter": "python",
   "pygments_lexer": "ipython3",
   "version": "3.4.6"
  }
 },
 "nbformat": 4,
 "nbformat_minor": 2
}
