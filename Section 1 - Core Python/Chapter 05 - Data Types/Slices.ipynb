{
 "cells": [
  {
   "cell_type": "markdown",
   "metadata": {},
   "source": [
    "## Slices"
   ]
  },
  {
   "cell_type": "markdown",
   "metadata": {},
   "source": [
    "*Slices* of *strings* can be obtained by adding indexes between brackets after a  *string* or any other iterable object.\n",
    "\n",
    "![Slicing strings](files/String_slicing_1.png)"
   ]
  },
  {
   "cell_type": "markdown",
   "metadata": {},
   "source": [
    "### Python indexes:\n",
    "-------\n",
    "\n",
    "+ Start with zero.\n",
    "+ Count from the end if they are negative.\n",
    "+ Can be defined as sections, in the form `[start: end + 1: step]`. If not set the start, it will be considered as zero. If not set end + 1, it will be considered the size of the object. The step (between characters), if not set, is 1.\n",
    "\n",
    "> **!!! TIP !!!**: \n",
    "It is possible to invert *strings* by using a negative step:"
   ]
  },
  {
   "cell_type": "code",
   "execution_count": 3,
   "metadata": {},
   "outputs": [
    {
     "name": "stdout",
     "output_type": "stream",
     "text": [
      "Ma\n",
      "Ma\n",
      "ani\n",
      "ani\n"
     ]
    }
   ],
   "source": [
    "p = \"Manish\"\n",
    "print(p[0:2]) \n",
    "print(p[:2])\n",
    "print(p[1:4])\n",
    "print(p[-5:-2])"
   ]
  },
  {
   "cell_type": "code",
   "execution_count": 4,
   "metadata": {},
   "outputs": [
    {
     "name": "stdout",
     "output_type": "stream",
     "text": [
      "hsinaM\n"
     ]
    }
   ],
   "source": [
    "print (p[::-1])"
   ]
  },
  {
   "cell_type": "code",
   "execution_count": null,
   "metadata": {},
   "outputs": [],
   "source": [
    "\n",
    "print(\"implemented\"[::-2])\n",
    "print(\"implemented\"[-5::-2])\n",
    "print(\"implemented\"[:-7:-2])\n",
    "print(\"implemented\"[::2])\n",
    "print(\"implemented\"[1::2])\n",
    "print(\"implemented\"[1:4:2]) "
   ]
  },
  {
   "cell_type": "code",
   "execution_count": 12,
   "metadata": {
    "scrolled": false
   },
   "outputs": [
    {
     "name": "stdout",
     "output_type": "stream",
     "text": [
      "ello\n",
      "o\n",
      "l\n",
      "el\n",
      "ol\n",
      "o\n"
     ]
    }
   ],
   "source": [
    "str1=\"hello\"\n",
    "print(str1[1:])\n",
    "print(str1[-1:])\n",
    "print(str1[-2:4])\n",
    "print(str1[-4:-2])\n",
    "print(str1[-1:2:-1])\n",
    "print(str1[4])\n",
    "# a b c d   "
   ]
  },
  {
   "cell_type": "markdown",
   "metadata": {},
   "source": [
    "> ?1 -> starts from i(**m**) and ends"
   ]
  },
  {
   "cell_type": "code",
   "execution_count": 11,
   "metadata": {
    "scrolled": false
   },
   "outputs": [
    {
     "name": "stdout",
     "output_type": "stream",
     "text": [
      "139791751322304\n",
      "Mayank Johri\n",
      "id(x) 139791526564528\n",
      "x[0:] 139791526564528\n",
      "139791526658864\n",
      "139791526658928\n",
      "Mayank Johri\n",
      "ayank Johri\n",
      "y\n",
      "God knows\n",
      "139791526566640\n",
      "139791731810800\n",
      "139791729111088\n",
      "139791732421216\n",
      "G\n",
      "o\n",
      "d\n"
     ]
    }
   ],
   "source": [
    "x = 10\n",
    "print(id(x))\n",
    "x = \"Mayank Johri\"\n",
    "print(x)\n",
    "print(\"id(x)\",id(x))\n",
    "print(\"x[0:]\", id(x[0:]))\n",
    "print(id(x[1:]))\n",
    "print(id(x[2:]))\n",
    "print(x[0:])\n",
    "print(x[1:])\n",
    "print(x[2])\n",
    "\n",
    "x = \"God knows\"\n",
    "print(x)\n",
    "print(id(x))\n",
    "print(id(x[0]))\n",
    "print(id(x[1]))\n",
    "print(id(x[2]))\n",
    "print(x[0])\n",
    "print(x[1])\n",
    "print(x[2])"
   ]
  }
 ],
 "metadata": {
  "kernelspec": {
   "display_name": "Python 3",
   "language": "python",
   "name": "python3"
  },
  "language_info": {
   "codemirror_mode": {
    "name": "ipython",
    "version": 3
   },
   "file_extension": ".py",
   "mimetype": "text/x-python",
   "name": "python",
   "nbconvert_exporter": "python",
   "pygments_lexer": "ipython3",
   "version": "3.6.4"
  }
 },
 "nbformat": 4,
 "nbformat_minor": 2
}
