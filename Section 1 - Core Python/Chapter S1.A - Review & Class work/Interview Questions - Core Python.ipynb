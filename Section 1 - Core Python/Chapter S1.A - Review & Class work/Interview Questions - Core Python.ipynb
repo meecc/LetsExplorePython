{
 "cells": [
  {
   "cell_type": "markdown",
   "metadata": {},
   "source": [
    "# Interview Questions - Core Python"
   ]
  },
  {
   "cell_type": "markdown",
   "metadata": {},
   "source": [
    "I have only recently started collecting the `Interview Questions for Core Python`. I will keep on adding more interview questions. \n",
    "\n",
    "I am also planning to pen a seperate ebook with details questions and solutions of them under the name of `FAQ's: Core Python`. It will be similar to one which I created for MSI Package & Repackaging (FAQ's:MSI Packaging & Repackaging\")."
   ]
  },
  {
   "cell_type": "markdown",
   "metadata": {},
   "source": [
    "## Basics "
   ]
  },
  {
   "cell_type": "markdown",
   "metadata": {},
   "source": [
    "- How to define Python code blocks\n",
    "- What are the key features of Python?\n",
    "- Please explain the `Python` execution flow\n",
    "- Explain how Python does Compile-time and Run-time code checking\n",
    "- What is the difference between .py and .pyc files\n",
    "- What are the tools that help to find bugs or perform static analysis\n",
    "- Is python a case sensitive language"
   ]
  },
  {
   "cell_type": "markdown",
   "metadata": {},
   "source": [
    "## Variables"
   ]
  },
  {
   "cell_type": "markdown",
   "metadata": {},
   "source": [
    "- Which of the following variable names are invalid and which are inappropriate\n",
    "    - `_val`\n",
    "    - `__val`\n",
    "    - `_1val`\n",
    "    - `1_val`\n",
    "    - `val1`\n",
    "    - `val1_`\n",
    "    - `if`\n",
    "    - `val_1`\n",
    "    - `val 1`\n",
    "    - `x-y-z`\n",
    "    - `xyx_Z`\n",
    "    - `XYZ`\n",
    "    - `_`\n",
    "    - `abc`\n",
    "    - `in`"
   ]
  },
  {
   "cell_type": "markdown",
   "metadata": {},
   "source": [
    "- Why `local` variable names should not begin with an underscore discouraged"
   ]
  },
  {
   "cell_type": "code",
   "execution_count": null,
   "metadata": {},
   "outputs": [],
   "source": []
  },
  {
   "cell_type": "markdown",
   "metadata": {},
   "source": [
    "- what is the use of `_` variable"
   ]
  },
  {
   "cell_type": "markdown",
   "metadata": {},
   "source": [
    "## Introspection"
   ]
  },
  {
   "cell_type": "markdown",
   "metadata": {},
   "source": [
    "- What is the usage of help() and dir() function in Python"
   ]
  },
  {
   "cell_type": "markdown",
   "metadata": {},
   "source": [
    "## Data Type"
   ]
  },
  {
   "cell_type": "markdown",
   "metadata": {},
   "source": [
    "- List **built-in** type provided by python\n",
    "- What is the maximum possible length of an identifier\n",
    "- Why are local variable names beginning with an underscore discouraged\n",
    "- How many kinds of sequences are supported by Python 3.x\n",
    "- What is the use of enumerate() in Python\n",
    "- What data type function `id` returns "
   ]
  },
  {
   "cell_type": "code",
   "execution_count": null,
   "metadata": {},
   "outputs": [],
   "source": []
  },
  {
   "cell_type": "markdown",
   "metadata": {},
   "source": [
    "### Numeric"
   ]
  },
  {
   "cell_type": "markdown",
   "metadata": {},
   "source": [
    "- What is the type of `inf`"
   ]
  },
  {
   "cell_type": "markdown",
   "metadata": {},
   "source": [
    "- What is the output of the followings  (using Python 3.x)\n",
    "    \n",
    "    - ```python\n",
    "    float(‘nan’)\n",
    "    ```\n",
    "    - ```python\n",
    "    print(round(2.5) - round(-10.5))\n",
    "    ```\n",
    "    - ```python\n",
    "    print(round(0.50000000000001))\n",
    "    ```\n",
    "    - ```python\n",
    "    print(0.3/(0.1 + 0.2))\n",
    "    ```\n",
    "    "
   ]
  },
  {
   "cell_type": "markdown",
   "metadata": {},
   "source": [
    "- What is the output of the followings (using Python 2)\n",
    "    \n",
    "    - ```python\n",
    "    float(‘nan’)\n",
    "    ```\n",
    "    - ```python\n",
    "    print(round(2.5) - round(-10.5))\n",
    "    ```\n",
    "    - ```python\n",
    "    print(round(0.50000000000001))\n",
    "    ```"
   ]
  },
  {
   "cell_type": "markdown",
   "metadata": {},
   "source": [
    "### String"
   ]
  },
  {
   "cell_type": "markdown",
   "metadata": {},
   "source": [
    "- convert a number to a string\n",
    "- What is docstring in Python\n",
    "- How to capitalizes first letter of string\n",
    "- How to make string an uppercase string\n",
    "- How to change the string to lowercase string\n",
    "- How to check in a string that all characters are digit\n",
    "- How to check in a string that all characters are in lowercase\n",
    "- How all to get the length of the string\n",
    "- How to check is a substring is part of the string\n",
    "- Remove all the leading and trailing whitespace in a string\n",
    "- remove all the leading whitespace in a string\n",
    "- remove all the trailing whitespace in a string\n",
    "- Replace all the leading and trailing whitespace in a string with char `~`"
   ]
  },
  {
   "cell_type": "markdown",
   "metadata": {},
   "source": [
    "- Create a banner with filling leading and trailing space with char `*`"
   ]
  },
  {
   "cell_type": "markdown",
   "metadata": {},
   "source": [
    "- Find the number of times a text is present in a string"
   ]
  },
  {
   "cell_type": "markdown",
   "metadata": {},
   "source": [
    "- What is the output of the followings\n",
    "    - ```python \n",
    "    ['Roshan Musheer'] * 4\n",
    "    ```\n",
    "    - ```python \n",
    "    print(\"Hello, What are you doing', \\\"This is good\")\n",
    "    ```\n",
    "    - ```python \n",
    "    print('Hello, What are you doing\\', \\\"This is good\\\"')\n",
    "    ```\n",
    "    - ```python \n",
    "    a = \" \"\n",
    "    b = \"Rama\"\n",
    "    \"Sri\".join(a).join(b)\n",
    "    ```\n",
    "    - ```python \n",
    "    a = \" \"\n",
    "    b = \"Rama\"\n",
    "    \"Sri\".join(b).join(a)\n",
    "    ```\n",
    "    - ```python \n",
    "    a = \"Sri\"\n",
    "    b = \"Rama\"\n",
    "    b.join(a).join(\" \")\n",
    "    ```\n",
    "    - ```python \n",
    "    a = \"Sri\"\n",
    "    b = \"Rama\"\n",
    "    b.join(\" \").join(a)\n",
    "    ```\n",
    "    - ```python\n",
    "    name = \"Rigveda\"\n",
    "    name[3]=\"V\"\n",
    "    ```"
   ]
  },
  {
   "cell_type": "code",
   "execution_count": null,
   "metadata": {},
   "outputs": [],
   "source": []
  },
  {
   "cell_type": "markdown",
   "metadata": {},
   "source": [
    "### List"
   ]
  },
  {
   "cell_type": "markdown",
   "metadata": {},
   "source": [
    "- What is the difference between `list` and `tuple`\n",
    "- Remove duplicates from a `list`\n",
    "- How to reverse a `list`\n",
    "- How to sort a `list`\n",
    "- Are `del` and `remove` methods of `list` same\n",
    "- How to get the max valued item of a list\n",
    "- How to get the min valued item of a list\n",
    "- Differentiate between append() and extend() methods in list.\n",
    "- Insert an element at the given index in the list\n",
    "- Join and sort two existing lists\n",
    "- Obtain the index of an element in the list"
   ]
  },
  {
   "cell_type": "markdown",
   "metadata": {},
   "source": [
    "- How to get the unique values from a list"
   ]
  },
  {
   "cell_type": "code",
   "execution_count": 23,
   "metadata": {},
   "outputs": [
    {
     "name": "stdout",
     "output_type": "stream",
     "text": [
      "[1, 2, 3, 4, 34, 44, 55]\n"
     ]
    }
   ],
   "source": [
    "lst = [1, 2, 3, 44, 4, 2, 44, 55, 2, 34]\n",
    "print(list(set(lst)))"
   ]
  },
  {
   "cell_type": "markdown",
   "metadata": {},
   "source": [
    "- Find the number of times a value is present in a list"
   ]
  },
  {
   "cell_type": "code",
   "execution_count": 25,
   "metadata": {},
   "outputs": [
    {
     "data": {
      "text/plain": [
       "3"
      ]
     },
     "execution_count": 25,
     "metadata": {},
     "output_type": "execute_result"
    }
   ],
   "source": [
    "lst = [1, 2, 3, 44, 4, 2, 44, 55, 2, 34]\n",
    "lst.count(2)"
   ]
  },
  {
   "cell_type": "markdown",
   "metadata": {},
   "source": [
    "- Find the unique words from the provided string "
   ]
  },
  {
   "cell_type": "markdown",
   "metadata": {},
   "source": [
    "- Split given text using multiple Delimiters"
   ]
  },
  {
   "cell_type": "code",
   "execution_count": 26,
   "metadata": {},
   "outputs": [
    {
     "name": "stdout",
     "output_type": "stream",
     "text": [
      "['', 'Arjuna', 'Lord', 'O', 'Supreme', 'The', 'a', 'all', 'and', 'are', 'as', 'directing', 'energy.', 'entities', \"everyone's\", 'heart', 'in', 'is', 'living', 'machine', 'made', 'material', 'of', 'on', 'seated', 'situated', 'the', 'wanderings', 'who']\n"
     ]
    }
   ],
   "source": [
    "# not using `re` as it has not be taught.\n",
    "gita_txt = \"\"\"The Supreme Lord is situated in everyone's heart, O Arjuna, \n",
    "                and is directing the wanderings of all living entities, \n",
    "                who are seated as on a machine, made of the material energy.\"\"\"\n",
    "\n",
    "sorted_txt = sorted(set(gita_txt.replace(',',' ').replace('\\t',' ').replace('\\n',' ').split(\" \")))\n",
    "print(sorted_txt)"
   ]
  },
  {
   "cell_type": "code",
   "execution_count": 27,
   "metadata": {},
   "outputs": [
    {
     "name": "stdout",
     "output_type": "stream",
     "text": [
      "['Arjuna', 'Lord', 'O', 'Supreme', 'The', 'a', 'all', 'and', 'are', 'as', 'directing', 'energy.', 'entities', \"everyone's\", 'heart', 'in', 'is', 'living', 'machine', 'made', 'material', 'of', 'on', 'seated', 'situated', 'the', 'wanderings', 'who']\n"
     ]
    }
   ],
   "source": [
    "# Check the `''` in the previous solution, we need to remove it. \n",
    "gita_txt = \"\"\"The Supreme Lord is situated in everyone's heart, O Arjuna, \n",
    "                and is directing the wanderings of all living entities, \n",
    "                who are seated as on a machine, made of the material energy.\"\"\"\n",
    "\n",
    "sorted_txt = sorted(set(gita_txt.replace(\",\", ' ').replace('\\n',' ').split(\" \")))\n",
    "sorted_txt.remove(\"\")\n",
    "print(sorted_txt)"
   ]
  },
  {
   "cell_type": "code",
   "execution_count": 41,
   "metadata": {},
   "outputs": [
    {
     "name": "stdout",
     "output_type": "stream",
     "text": [
      "['Arjuna', 'Lord', 'O', 'Supreme', 'The', 'a', 'all', 'and', 'are', 'as', 'directing', 'energy.', 'entities', \"everyone's\", 'heart', 'in', 'is', 'living', 'machine', 'made', 'material', 'of', 'on', 'seated', 'situated', 'the', 'wanderings', 'who']\n"
     ]
    }
   ],
   "source": [
    "# using re module\n",
    "# https://stackoverflow.com/questions/1059559/split-strings-with-multiple-delimiters\n",
    "\n",
    "import re\n",
    "\n",
    "s_list = sorted(set(re.split(\"[, \\-!?:\\n]+\", gita_txt)))\n",
    "print(s_list)"
   ]
  },
  {
   "cell_type": "markdown",
   "metadata": {},
   "source": [
    "- What is the output of the followings\n",
    "    - \n",
    "    ```python\n",
    "    def listing(num, lst=[]):\n",
    "        lst.append(num)\n",
    "        return True\n",
    "    \n",
    "    l = [1, 2, 3]\n",
    "    b = listing(10, l)\n",
    "    print(b, l)\n",
    "    ```\n",
    "    - \n",
    "    ```python\n",
    "    def listing(num, lst):\n",
    "        lst.append(num)\n",
    "        return True\n",
    "    \n",
    "    l = [1, 2, 3]\n",
    "    b = listing(10, l)\n",
    "    print(b, l)\n",
    "    ```\n",
    "    - \n",
    "    ```python\n",
    "    def listing(num, lst=[]):\n",
    "        lst.append(num)\n",
    "        return True\n",
    "    \n",
    "    l = [1, 2, 3]\n",
    "    b = listing([10], l)\n",
    "    print(b, l)\n",
    "    ```\n",
    "    - \n",
    "    ```python\n",
    "    def listing(num, lst=[]):\n",
    "        lst.append(num)\n",
    "        return True\n",
    "    \n",
    "    l = [1, 2, 3]\n",
    "    b = listing([10], l)\n",
    "    print(b, l)\n",
    "    ```\n",
    "    - \n",
    "    ```python\n",
    "    101 in [101, 102, 103]\n",
    "    ```\n",
    "    - \n",
    "    ```python\n",
    "    104 in [101, 102, 103]\n",
    "    ```\n",
    "    - ```python\n",
    "    l = [\"Mango\", 'is', 'a', 'fruit']\n",
    "    \" \".join(l)\n",
    "    ```"
   ]
  },
  {
   "cell_type": "markdown",
   "metadata": {},
   "source": [
    "### Dictionary"
   ]
  },
  {
   "cell_type": "markdown",
   "metadata": {},
   "source": [
    "- What is dictionary\n",
    "- How to get all the keys from the dictionary\n",
    "- How to get all the values from the dictionary\n",
    "- How to get both key & value from the `dictionary` as `tuple` of `list`"
   ]
  },
  {
   "cell_type": "markdown",
   "metadata": {},
   "source": [
    "- List all methods to dictionary be initialized using lists"
   ]
  },
  {
   "cell_type": "markdown",
   "metadata": {},
   "source": [
    "- Create a dictionary using two list"
   ]
  },
  {
   "cell_type": "markdown",
   "metadata": {},
   "source": [
    "- Create a dictionary from a list with key as position in list "
   ]
  },
  {
   "cell_type": "markdown",
   "metadata": {},
   "source": [
    "- Create a dictionary from a text file which contains unique words as keys and its occurrence as value"
   ]
  },
  {
   "cell_type": "code",
   "execution_count": 28,
   "metadata": {},
   "outputs": [
    {
     "name": "stdout",
     "output_type": "stream",
     "text": [
      "{'kingdom': 0, 'increaser': 0, 'knowledge.': 0, 'become': 0, 'with': 0, 'that': 0, 'sun,': 0, 'attainment': 0, 'good': 0, 'teachings),': 0, 'men': 0, 'dealirg': 0, 'O': 0, 'noble': 0, 'all': 0, 'such': 0, 'they': 0, 'saw,': 0, 'endowed': 0, 'association,': 0, 'who': 0, 'by': 0, 'teachers': 0, 'preachers)': 0, 'near.': 0, 'nourisher,': 0, 'like': 0, 'instructor': 0, 'preachers!': 0, 'objects': 0, 'firm': 0, 'not': 0, 'others': 0, 'spread': 0, 'span': 0, 'and': 0, 'policy': 0, 'the': 0, '(teachers': 0, 'State,': 0, 'wealth': 0, 'a': 0, 'decayinghaving': 0, 'It': 0, 'simile': 0, 'person': 0, 'summit': 0, '!': 0, 'of': 0, 'approach': 0, 'increase': 0, 'happiness.': 0, 'your': 0, 'uphold': 0, 'kingdom,': 0, 'day': 0, 'always': 0, 'make': 0, 'knowledge': 0, 'earth': 0, 'whose': 0, 'every': 0, 'life,': 0, 'or': 0, 'life': 0, 'sun': 0, 'desirable': 0, '(establish)': 0, 'enjoy': 0, 'illustration': 0, 'enlightened': 0, 'advancement': 0, 'which': 0, 'virtues': 0, 'heart': 0, 'reached': 0, 'illuminator': 0, 'people': 0, 'urges': 0, '(by': 0, 'knowledge,': 0, 'far': 0, 'illuminate': 0, 'ever': 0, 'you': 0, 'have': 0, 'is': 0, 'in': 0, 'upon': 0, 'man': 0, 'those': 0, 'preachers,': 0, 'becomes': 0, 'association': 0}\n",
      "********************\n",
      "{'kingdom': 1, 'increaser': 1, 'knowledge.': 1, 'become': 1, 'with': 2, 'that': 1, 'sun,': 1, 'attainment': 1, 'good': 1, 'teachings),': 1, 'men': 2, 'dealirg': 1, 'O': 3, 'noble': 1, 'all': 2, 'such': 1, 'they': 1, 'saw,': 1, 'endowed': 1, 'association,': 1, 'who': 3, 'by': 3, 'teachers': 2, 'preachers)': 1, 'near.': 1, 'nourisher,': 1, 'like': 3, 'instructor': 1, 'preachers!': 1, 'objects': 1, 'firm': 2, 'not': 1, 'others': 1, 'spread': 1, 'span': 1, 'and': 13, 'policy': 1, 'the': 12, '(teachers': 1, 'State,': 1, 'wealth': 3, 'a': 3, 'decayinghaving': 1, 'It': 1, 'simile': 1, 'person': 1, 'summit': 1, '!': 1, 'of': 9, 'approach': 1, 'increase': 1, 'happiness.': 2, 'your': 1, 'uphold': 3, 'kingdom,': 1, 'day': 1, 'always': 1, 'make': 1, 'knowledge': 2, 'earth': 1, 'whose': 2, 'every': 1, 'life,': 1, 'or': 3, 'life': 1, 'sun': 1, 'desirable': 1, '(establish)': 1, 'enjoy': 1, 'illustration': 1, 'enlightened': 1, 'advancement': 1, 'which': 1, 'virtues': 1, 'heart': 1, 'reached': 1, 'illuminator': 1, 'people': 1, 'urges': 1, '(by': 1, 'knowledge,': 1, 'far': 1, 'illuminate': 1, 'ever': 1, 'you': 3, 'have': 1, 'is': 4, 'in': 1, 'upon': 1, 'man': 2, 'those': 3, 'preachers,': 1, 'becomes': 1, 'association': 2}\n"
     ]
    }
   ],
   "source": [
    "# using open command to read the text file and store the value in `v_txt` variable\n",
    "v_txt = \"\"\"O nourisher, and enlightened person the policy which urges upon others the attainment of knowledge and\n",
    "wealth is like a saw, that uphold the heart of people like you and spread good virtues far and near.\n",
    "\n",
    "O teachers and preachers! you uphold kingdom or wealth every day (by your noble teachings), by the simile of illustration of the sun, you make firm the summit or the\n",
    "advancement of the State, by whose association a man who is illuminator or instructor of all objects becomes firm and not decayinghaving\n",
    "reached the earth and desirable knowledge, is increaser of the life, those who approach such a man and those (teachers and\n",
    "preachers) ever enjoy happiness.\n",
    "\n",
    "O men ! always have association with those teachers and preachers, who illuminate the dealirg of knowledge like the sun and increase kingdom, wealth and span of life and uphold\n",
    "(establish) all in happiness. It is they by whose association, men become endowed with knowledge.\n",
    "\"\"\"\n",
    "\n",
    "words = v_txt.split()\n",
    "\n",
    "# Lets create the dictionary with words, all the values has been defaulted to 0\n",
    "v_dict = {}.fromkeys(words,0)\n",
    "\n",
    "print(v_dict)\n",
    "print(\"*\"*20)\n",
    "for w in words:\n",
    "    v_dict[w] += 1\n",
    "print(v_dict)"
   ]
  },
  {
   "cell_type": "markdown",
   "metadata": {},
   "source": [
    "- How to traverse a dictionary with sorted keys."
   ]
  },
  {
   "cell_type": "code",
   "execution_count": 31,
   "metadata": {},
   "outputs": [
    {
     "name": "stdout",
     "output_type": "stream",
     "text": [
      "1\n",
      "12\n",
      "a\n",
      "b\n",
      "d\n"
     ]
    }
   ],
   "source": [
    "my_dict = {\"a\" : 4, \"b\": 10, \"12\": 3, \"d\": 33, \"1\": 22}\n",
    "for a in sorted(my_dict):\n",
    "    print(a)"
   ]
  },
  {
   "cell_type": "markdown",
   "metadata": {},
   "source": [
    "### Slicing"
   ]
  },
  {
   "cell_type": "markdown",
   "metadata": {},
   "source": [
    "- What are negative indexes and why are they used\n",
    "- Describe indexing and slicing in details\n"
   ]
  },
  {
   "cell_type": "markdown",
   "metadata": {},
   "source": [
    "- What is the output of the following print statements\n",
    "    - ```python \n",
    "    p = \"Manish\"\n",
    "    print(p[0:2]) \n",
    "    print(p[:2])\n",
    "    print(p[1:4])\n",
    "    print(p[-5:-2])\n",
    "    print (p[::-1])\n",
    "    print(\"implemented\"[::-2])\n",
    "    print(\"implemented\"[-5::-2])\n",
    "    print(\"implemented\"[:-7:-2])\n",
    "    print(\"implemented\"[::2])\n",
    "    print(\"implemented\"[1::2])\n",
    "    print(\"implemented\"[1:4:2]) \n",
    "    ```\n",
    "    - ```python\n",
    "    x = \"Mayank Johri\"\n",
    "    print(x)\n",
    "    print(\"id(x)\",id(x))\n",
    "    print(\"x[0:]\", id(x[0:]))\n",
    "    print(id(x[1:]))\n",
    "    print(id(x[2:]))\n",
    "    print(x[0:])\n",
    "    print(x[1:])\n",
    "    print(x[2])\n",
    "    ```"
   ]
  },
  {
   "cell_type": "markdown",
   "metadata": {},
   "source": [
    "## Control Statements "
   ]
  },
  {
   "cell_type": "markdown",
   "metadata": {},
   "source": [
    "- What is the use of `continue` and `break`\n",
    "- When will the else part of `while-else` be executed"
   ]
  },
  {
   "cell_type": "markdown",
   "metadata": {},
   "source": [
    "### if"
   ]
  },
  {
   "cell_type": "markdown",
   "metadata": {},
   "source": [
    "- what is the output of the follows\n",
    "    - ```python\n",
    "    name = \"Sunil Kumar Bhele\"\n",
    "    lst = [\"Sunil Kumar Bhele\", \"Rajeev\", \"Sachin\", \"Dhoke\"]\n",
    "    result = \"DMS Alumni\"  if name in lst else \"Not\"\n",
    "    print(result)\n",
    "    ```\n",
    "    - ```python\n",
    "    name = \"Sunil Kumar Bhele\"\n",
    "    lst = [\"Sunil Kumar Bhele\", \"Rajeev\", \"Sachin\", \"Dhoke\"]\n",
    "    if name in lst: print(\"DMS Alumni\")\n",
    "    ```    "
   ]
  },
  {
   "cell_type": "code",
   "execution_count": 38,
   "metadata": {},
   "outputs": [
    {
     "name": "stdout",
     "output_type": "stream",
     "text": [
      "DMS Alumni\n"
     ]
    }
   ],
   "source": []
  },
  {
   "cell_type": "markdown",
   "metadata": {},
   "source": [
    "## Scope "
   ]
  },
  {
   "cell_type": "markdown",
   "metadata": {},
   "source": [
    "- What is the difference between local and global namespaces\n",
    "- Name the main types of namespaces in Python\n",
    "- How to set value to a global variable\n",
    "- How we are read the value of a global varialbe without using `global` keyword"
   ]
  },
  {
   "cell_type": "markdown",
   "metadata": {},
   "source": [
    "## Functions "
   ]
  },
  {
   "cell_type": "markdown",
   "metadata": {},
   "source": [
    "- What does this mean: \\*args, \\*\\*kwargs? And why would we use it\n",
    "- Explain about Python's parameter passing mechanism\n",
    "- What is lambda in Python\n",
    "- what are local and global variables in Python"
   ]
  },
  {
   "cell_type": "markdown",
   "metadata": {},
   "source": [
    "- what is the output of the follows:\n",
    "\n",
    "    - ```python\n",
    "    def test():\n",
    "        pass\n",
    "    d = test()\n",
    "    print(d)\n",
    "    ```\n",
    "    - ```python\n",
    "    def test():\n",
    "        return \"TEST\", \"Testing\", True\n",
    "    print(test())\n",
    "    ```\n",
    "    - ```python\n",
    "    def test(txt, t):\n",
    "        return (txt + '1') * t\n",
    "    print(test(\"TEST\", 2))\n",
    "    ```"
   ]
  },
  {
   "cell_type": "markdown",
   "metadata": {},
   "source": [
    "## OOPs"
   ]
  },
  {
   "cell_type": "markdown",
   "metadata": {},
   "source": [
    "- What is a Class\n",
    "- Explain the characteristics of Objects\n",
    "- Define a protected member in a class\n",
    "- Explain overload constructors or methods\n",
    "- Explain Inheritance in Python\n",
    "- How instance variables are different from class variables\n",
    "- Which methods of Python are used to determine the type of instance and inheritance\n",
    "- In a class, what `__ init__` function is used for\n",
    "- How to compare two objects of the same class"
   ]
  },
  {
   "cell_type": "markdown",
   "metadata": {},
   "source": [
    "## Modules"
   ]
  },
  {
   "cell_type": "markdown",
   "metadata": {},
   "source": [
    "- What is a Python module\n",
    "- What is namespace in Python\n",
    "- What is module and package in Python\n",
    "- Can modules be imported twice in a single program\n",
    "- Name the four main types of namespaces in Python\n",
    "- What is __init__.py used for\n",
    "- How can `Global` variables be shared across modules"
   ]
  },
  {
   "cell_type": "markdown",
   "metadata": {},
   "source": [
    "## Decorators"
   ]
  },
  {
   "cell_type": "markdown",
   "metadata": {},
   "source": [
    "- Explain Python decorators"
   ]
  },
  {
   "cell_type": "markdown",
   "metadata": {},
   "source": [
    "## Generators and iterators"
   ]
  },
  {
   "cell_type": "markdown",
   "metadata": {},
   "source": [
    "- What are iterators\n",
    "- What are generators"
   ]
  },
  {
   "cell_type": "markdown",
   "metadata": {},
   "source": [
    "## Exception Handling "
   ]
  },
  {
   "cell_type": "markdown",
   "metadata": {},
   "source": [
    "- What are Exception Handling? How do you achieve it in Python?\n",
    "- Explain different ways to raise exceptions\n",
    "- Explain try: except: raise, and finally\n",
    "- When will the else part of `try-except-else` be executed"
   ]
  },
  {
   "cell_type": "markdown",
   "metadata": {},
   "source": [
    "## Standard library"
   ]
  },
  {
   "cell_type": "markdown",
   "metadata": {},
   "source": [
    "- What is the difference between deep and shallow copy\n",
    "- How can you generate random numbers in Python\n",
    "- What kind of random items can be generated in Python\n",
    "- Name the File-related modules in Python\n",
    "- How to check the file existence and its extension\n",
    "- Explain how to redirect the output of a python script from standout(ie., monitor) on to a file\n",
    "- How to display the contents of text file in reverse order\n",
    "- How can you copy an object in Python"
   ]
  },
  {
   "cell_type": "markdown",
   "metadata": {},
   "source": [
    "- How is memory managed in Python"
   ]
  },
  {
   "cell_type": "markdown",
   "metadata": {},
   "source": [
    "- Explain the use of `with` statement"
   ]
  },
  {
   "cell_type": "markdown",
   "metadata": {},
   "source": [
    "## Operators"
   ]
  },
  {
   "cell_type": "markdown",
   "metadata": {},
   "source": [
    "- How can the ternary operators be used in python"
   ]
  },
  {
   "cell_type": "markdown",
   "metadata": {},
   "source": [
    "- what is the output of the followings:\n",
    "    - ```python\n",
    "    print(0.1 + 0.11 == 0.12)\n",
    "    ```\n",
    "    - ```python\n",
    "    print(0.11 + 0.2 == 0.31)\n",
    "    ```\n",
    "    - ```python\n",
    "    print(~1011)\n",
    "    ```\n",
    "    - ```python\n",
    "    a = 10\n",
    "    a = b\n",
    "    ```\n",
    "    - ```python\n",
    "    5 + 2 //4\n",
    "    ```\n",
    "    - ```python\n",
    "    5 + 2%4\n",
    "    ```\n",
    "    - ```python\n",
    "    5 + 2%4\n",
    "    ```\n",
    "    - ```python\n",
    "    5 + 2*4\n",
    "    ```\n",
    "    - ```python\n",
    "    5 % 2*4 // 2\n",
    "    ```\n",
    "    - ```python\n",
    "    int(5.55 % 2+3/3)\n",
    "    ```\n",
    "    - ```python\n",
    "    round(5.55 % 2+3/3)\n",
    "    ```"
   ]
  },
  {
   "cell_type": "markdown",
   "metadata": {},
   "source": [
    "## Exceptions"
   ]
  },
  {
   "cell_type": "markdown",
   "metadata": {},
   "source": [
    "- Describe the exception handling in python\n",
    "- Write an example with all the following keywords `try: except: raise, finally`."
   ]
  },
  {
   "cell_type": "code",
   "execution_count": null,
   "metadata": {},
   "outputs": [],
   "source": []
  }
 ],
 "metadata": {
  "kernelspec": {
   "display_name": "Python 3",
   "language": "python",
   "name": "python3"
  },
  "language_info": {
   "codemirror_mode": {
    "name": "ipython",
    "version": 3
   },
   "file_extension": ".py",
   "mimetype": "text/x-python",
   "name": "python",
   "nbconvert_exporter": "python",
   "pygments_lexer": "ipython3",
   "version": "3.4.6"
  }
 },
 "nbformat": 4,
 "nbformat_minor": 2
}
