{
 "cells": [
  {
   "cell_type": "markdown",
   "metadata": {},
   "source": [
    "# Interview Questions - Core Python"
   ]
  },
  {
   "cell_type": "markdown",
   "metadata": {},
   "source": [
    "## Basics "
   ]
  },
  {
   "cell_type": "markdown",
   "metadata": {},
   "source": [
    "- How to define Python code blocks\n",
    "- What are the key features of Python?\n",
    "- Explain how Python does Compile-time and Run-time code checking\n",
    "- What is the difference between .py and .pyc files\n",
    "- What are the tools that help to find bugs or perform static analysis\n",
    "- Is python a case sensitive language"
   ]
  },
  {
   "cell_type": "markdown",
   "metadata": {},
   "source": [
    "## Introspection"
   ]
  },
  {
   "cell_type": "markdown",
   "metadata": {},
   "source": [
    "- What is the usage of help() and dir() function in Python"
   ]
  },
  {
   "cell_type": "markdown",
   "metadata": {},
   "source": [
    "## Data Type "
   ]
  },
  {
   "cell_type": "markdown",
   "metadata": {},
   "source": [
    "- List **built-in** type provided by python\n",
    "- What is the maximum possible length of an identifier\n",
    "- Why are local variable names beginning with an underscore discouraged\n",
    "- convert a number to a string\n",
    "- What is docstring in Python\n",
    "- How to capitalizes first letter of string\n",
    "- How to make string an uppercase string\n",
    "- How to change the string to lowercase string\n",
    "- How to check in a string that all characters are digit\n",
    "- How to check in a string that all characters are in lowercase\n",
    "- How all to get the length of the string\n",
    "- How to check is a substring is part of the string\n",
    "- What is the difference between `list` and `tuple`\n",
    "- Remove duplicates from a `list`\n",
    "- How to reverse a `list`\n",
    "- How to sort a `list`\n",
    "- Are `del` and `remove` methods of `list` same\n",
    "- What is the output of `['Roshan Musheer'] * 4`\n",
    "- What is the output of `101` in `[101, 102, 103]`\n",
    "- How to get the max valued item of a list\n",
    "- How to get the min valued item of a list\n",
    "- Differentiate between append() and extend() methods in list.\n",
    "- What is dictionary\n",
    "- How to get all the keys from the dictionary\n",
    "- How to get all the values from the dictionary\n",
    "- How to get both key &  value from the dictionary as tuple\n",
    "- What are negative indexes and why are they used\n",
    "- What is the use of enumerate() in Python\n",
    "- How many kinds of sequences are supported by Python 3.x"
   ]
  },
  {
   "cell_type": "markdown",
   "metadata": {},
   "source": [
    "## Control Statements "
   ]
  },
  {
   "cell_type": "markdown",
   "metadata": {},
   "source": [
    "- What is the use of `continue` and `break`\n",
    "- When will the else part of `while-else` be executed"
   ]
  },
  {
   "cell_type": "markdown",
   "metadata": {},
   "source": [
    "## Functions "
   ]
  },
  {
   "cell_type": "markdown",
   "metadata": {},
   "source": [
    "- What does this mean: \\*args, \\*\\*kwargs? And why would we use it\n",
    "- Explain about Python's parameter passing mechanism\n",
    "- What is lambda in Python\n",
    "- what are local and global variables in Python"
   ]
  },
  {
   "cell_type": "markdown",
   "metadata": {},
   "source": [
    "## OOPs"
   ]
  },
  {
   "cell_type": "markdown",
   "metadata": {},
   "source": [
    "- What is a Class\n",
    "- Explain the characteristics of Objects\n",
    "- Define a protected member in a class\n",
    "- Explain overload constructors or methods\n",
    "- Explain Inheritance in Python\n",
    "- How instance variables are different from class variables\n",
    "- Which methods of Python are used to determine the type of instance and inheritance"
   ]
  },
  {
   "cell_type": "markdown",
   "metadata": {},
   "source": [
    "## Modules"
   ]
  },
  {
   "cell_type": "markdown",
   "metadata": {},
   "source": [
    "- What is a Python module\n",
    "- What is namespace in Python\n",
    "- What is module and package in Python\n",
    "- Can modules be imported twice in a single program\n",
    "- Name the four main types of namespaces in Python\n",
    "- What is __init__.py used for"
   ]
  },
  {
   "cell_type": "markdown",
   "metadata": {},
   "source": [
    "## Decorators"
   ]
  },
  {
   "cell_type": "markdown",
   "metadata": {},
   "source": [
    "- Explain Python decorators"
   ]
  },
  {
   "cell_type": "markdown",
   "metadata": {},
   "source": [
    "## Generators and iterators"
   ]
  },
  {
   "cell_type": "markdown",
   "metadata": {},
   "source": [
    "- What are iterators\n",
    "- What are generators"
   ]
  },
  {
   "cell_type": "markdown",
   "metadata": {},
   "source": [
    "## Exception Handling "
   ]
  },
  {
   "cell_type": "markdown",
   "metadata": {},
   "source": [
    "- What are Exception Handling? How do you achieve it in Python?\n",
    "- Explain different ways to raise exceptions\n",
    "- Explain try: except: raise, and finally\n",
    "- When will the else part of `try-except-else` be executed"
   ]
  },
  {
   "cell_type": "markdown",
   "metadata": {},
   "source": [
    "## Standard library"
   ]
  },
  {
   "cell_type": "markdown",
   "metadata": {},
   "source": [
    "- What is the difference between deep and shallow copy\n",
    "- How can you generate random numbers in Python\n",
    "- What kind of random items can be generated in Python\n",
    "- Name the File-related modules in Python\n",
    "- How to check the file existence and its extension\n",
    "- Explain how to redirect the output of a python script from standout(ie., monitor) on to a file\n",
    "- How to display the contents of text file in reverse order\n",
    "- How can you copy an object in Python"
   ]
  },
  {
   "cell_type": "markdown",
   "metadata": {},
   "source": [
    "- How is memory managed in Python"
   ]
  },
  {
   "cell_type": "markdown",
   "metadata": {},
   "source": [
    "- Explain the use of `with` statement"
   ]
  },
  {
   "cell_type": "markdown",
   "metadata": {},
   "source": [
    "## Operators"
   ]
  },
  {
   "cell_type": "markdown",
   "metadata": {},
   "source": [
    "- How can the ternary operators be used in python"
   ]
  }
 ],
 "metadata": {
  "kernelspec": {
   "display_name": "Python 3",
   "language": "python",
   "name": "python3"
  },
  "language_info": {
   "codemirror_mode": {
    "name": "ipython",
    "version": 3
   },
   "file_extension": ".py",
   "mimetype": "text/x-python",
   "name": "python",
   "nbconvert_exporter": "python",
   "pygments_lexer": "ipython3",
   "version": "3.4.6"
  }
 },
 "nbformat": 4,
 "nbformat_minor": 2
}
