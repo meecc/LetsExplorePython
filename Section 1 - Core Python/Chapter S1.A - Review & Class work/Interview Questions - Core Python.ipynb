{
 "cells": [
  {
   "cell_type": "markdown",
   "metadata": {},
   "source": [
    "# Interview Questions - Core Python"
   ]
  },
  {
   "cell_type": "markdown",
   "metadata": {},
   "source": [
    "## Basics "
   ]
  },
  {
   "cell_type": "markdown",
   "metadata": {},
   "source": [
    "- How to define Python code blocks\n",
    "- What are the key features of Python?\n",
    "- Please explain the `Python` execution flow\n",
    "- Explain how Python does Compile-time and Run-time code checking\n",
    "- What is the difference between .py and .pyc files\n",
    "- What are the tools that help to find bugs or perform static analysis\n",
    "- Is python a case sensitive language"
   ]
  },
  {
   "cell_type": "markdown",
   "metadata": {},
   "source": [
    "## Introspection"
   ]
  },
  {
   "cell_type": "markdown",
   "metadata": {},
   "source": [
    "- What is the usage of help() and dir() function in Python"
   ]
  },
  {
   "cell_type": "markdown",
   "metadata": {},
   "source": [
    "## Data Type"
   ]
  },
  {
   "cell_type": "markdown",
   "metadata": {},
   "source": [
    "- List **built-in** type provided by python\n",
    "- What is the maximum possible length of an identifier\n",
    "- Why are local variable names beginning with an underscore discouraged\n",
    "- How many kinds of sequences are supported by Python 3.x\n",
    "- What is the use of enumerate() in Python"
   ]
  },
  {
   "cell_type": "markdown",
   "metadata": {},
   "source": [
    "### String"
   ]
  },
  {
   "cell_type": "markdown",
   "metadata": {},
   "source": [
    "- convert a number to a string\n",
    "- What is docstring in Python\n",
    "- How to capitalizes first letter of string\n",
    "- How to make string an uppercase string\n",
    "- How to change the string to lowercase string\n",
    "- How to check in a string that all characters are digit\n",
    "- How to check in a string that all characters are in lowercase\n",
    "- How all to get the length of the string\n",
    "- How to check is a substring is part of the string\n"
   ]
  },
  {
   "cell_type": "markdown",
   "metadata": {},
   "source": [
    "- What is the output of the followings\n",
    "    - \n",
    "    ```python \n",
    "    ['Roshan Musheer'] * 4\n",
    "    ```"
   ]
  },
  {
   "cell_type": "markdown",
   "metadata": {},
   "source": [
    "### List"
   ]
  },
  {
   "cell_type": "markdown",
   "metadata": {},
   "source": [
    "- What is the difference between `list` and `tuple`\n",
    "- Remove duplicates from a `list`\n",
    "- How to reverse a `list`\n",
    "- How to sort a `list`\n",
    "- Are `del` and `remove` methods of `list` same\n",
    "- What is the output of `101` in `[101, 102, 103]`\n",
    "- How to get the max valued item of a list\n",
    "- How to get the min valued item of a list\n",
    "- Differentiate between append() and extend() methods in list.\n",
    "- Join and sort two existing lists"
   ]
  },
  {
   "cell_type": "markdown",
   "metadata": {},
   "source": [
    "- What is the output of the followings\n",
    "    - \n",
    "    ```python\n",
    "    def listing(num, lst=[]):\n",
    "        lst.append(num)\n",
    "        return True\n",
    "    \n",
    "    l = [1, 2, 3]\n",
    "    b = listing(10, l)\n",
    "    print(b, l)\n",
    "    ```\n",
    "    - \n",
    "    ```python\n",
    "    def listing(num, lst):\n",
    "        lst.append(num)\n",
    "        return True\n",
    "    \n",
    "    l = [1, 2, 3]\n",
    "    b = listing(10, l)\n",
    "    print(b, l)\n",
    "    ```\n",
    "    - \n",
    "    ```python\n",
    "    def listing(num, lst=[]):\n",
    "        lst.append(num)\n",
    "        return True\n",
    "    \n",
    "    l = [1, 2, 3]\n",
    "    b = listing([10], l)\n",
    "    print(b, l)\n",
    "    ```\n",
    "    - \n",
    "    ```python\n",
    "    def listing(num, lst=[]):\n",
    "        lst.append(num)\n",
    "        return True\n",
    "    \n",
    "    l = [1, 2, 3]\n",
    "    b = listing([10], l)\n",
    "    print(b, l)\n",
    "    ```"
   ]
  },
  {
   "cell_type": "markdown",
   "metadata": {},
   "source": [
    "### Dictionary"
   ]
  },
  {
   "cell_type": "markdown",
   "metadata": {},
   "source": [
    "- What is dictionary\n",
    "- How to get all the keys from the dictionary\n",
    "- How to get all the values from the dictionary\n",
    "- How to get both key & value from the `dictionary` as `tuple` of `list`"
   ]
  },
  {
   "cell_type": "markdown",
   "metadata": {},
   "source": [
    "- List all methods through a list dictionary be initialized"
   ]
  },
  {
   "cell_type": "markdown",
   "metadata": {},
   "source": [
    "- Create a dictionary two list"
   ]
  },
  {
   "cell_type": "markdown",
   "metadata": {},
   "source": [
    "- Create a dictionary from a list with key as position in list "
   ]
  },
  {
   "cell_type": "markdown",
   "metadata": {},
   "source": [
    "- Create a dictionary from a text file which contains unique words as keys and its occurrence as value"
   ]
  },
  {
   "cell_type": "code",
   "execution_count": 12,
   "metadata": {},
   "outputs": [
    {
     "name": "stdout",
     "output_type": "stream",
     "text": [
      "{'by': 0, 'dealirg': 0, 'It': 0, 'wealth': 0, 'reached': 0, 'not': 0, 'life': 0, 'uphold': 0, 'virtues': 0, 'they': 0, 'illuminator': 0, 'with': 0, 'simile': 0, 'preachers)': 0, 'spread': 0, 'teachers': 0, 'preachers,': 0, 'in': 0, 'have': 0, 'every': 0, '(by': 0, 'upon': 0, 'advancement': 0, 'increaser': 0, 'earth': 0, 'you': 0, 'knowledge,': 0, 'preachers!': 0, 'enjoy': 0, 'kingdom': 0, 'all': 0, 'is': 0, 'enlightened': 0, 'desirable': 0, '(teachers': 0, 'saw,': 0, 'good': 0, '!': 0, 'State,': 0, 'approach': 0, 'of': 0, 'such': 0, 'knowledge.': 0, 'urges': 0, 'near.': 0, 'instructor': 0, 'nourisher,': 0, 'the': 0, 'decayinghaving': 0, 'becomes': 0, 'attainment': 0, 'day': 0, 'others': 0, 'association,': 0, 'endowed': 0, 'illustration': 0, 'noble': 0, 'kingdom,': 0, 'policy': 0, 'sun': 0, 'make': 0, 'who': 0, 'teachings),': 0, 'objects': 0, 'O': 0, 'that': 0, 'life,': 0, 'person': 0, 'like': 0, 'illuminate': 0, 'man': 0, 'summit': 0, 'whose': 0, 'far': 0, 'men': 0, 'happiness.': 0, 'your': 0, 'people': 0, 'those': 0, 'and': 0, 'which': 0, 'association': 0, 'a': 0, 'ever': 0, '(establish)': 0, 'increase': 0, 'become': 0, 'knowledge': 0, 'heart': 0, 'sun,': 0, 'or': 0, 'always': 0, 'firm': 0, 'span': 0}\n",
      "********************\n",
      "{'by': 3, 'dealirg': 1, 'It': 1, 'wealth': 3, 'reached': 1, 'not': 1, 'life': 1, 'uphold': 3, 'virtues': 1, 'they': 1, 'illuminator': 1, 'with': 2, 'simile': 1, 'preachers)': 1, 'spread': 1, 'teachers': 2, 'preachers,': 1, 'in': 1, 'have': 1, 'every': 1, '(by': 1, 'upon': 1, 'advancement': 1, 'increaser': 1, 'earth': 1, 'you': 3, 'knowledge,': 1, 'preachers!': 1, 'enjoy': 1, 'kingdom': 1, 'all': 2, 'is': 4, 'enlightened': 1, 'desirable': 1, '(teachers': 1, 'saw,': 1, 'good': 1, '!': 1, 'State,': 1, 'approach': 1, 'of': 9, 'such': 1, 'knowledge.': 1, 'urges': 1, 'near.': 1, 'instructor': 1, 'nourisher,': 1, 'the': 12, 'decayinghaving': 1, 'becomes': 1, 'attainment': 1, 'day': 1, 'others': 1, 'association,': 1, 'endowed': 1, 'illustration': 1, 'noble': 1, 'kingdom,': 1, 'policy': 1, 'sun': 1, 'make': 1, 'who': 3, 'teachings),': 1, 'objects': 1, 'O': 3, 'that': 1, 'life,': 1, 'person': 1, 'like': 3, 'illuminate': 1, 'man': 2, 'summit': 1, 'whose': 2, 'far': 1, 'men': 2, 'happiness.': 2, 'your': 1, 'people': 1, 'those': 3, 'and': 13, 'which': 1, 'association': 2, 'a': 3, 'ever': 1, '(establish)': 1, 'increase': 1, 'become': 1, 'knowledge': 2, 'heart': 1, 'sun,': 1, 'or': 3, 'always': 1, 'firm': 2, 'span': 1}\n"
     ]
    }
   ],
   "source": [
    "# using open command to read the text file and store the value in `v_txt` variable\n",
    "v_txt = \"\"\"O nourisher, and enlightened person the policy which urges upon others the attainment of knowledge and\n",
    "wealth is like a saw, that uphold the heart of people like you and spread good virtues far and near.\n",
    "\n",
    "O teachers and preachers! you uphold kingdom or wealth every day (by your noble teachings), by the simile of illustration of the sun, you make firm the summit or the\n",
    "advancement of the State, by whose association a man who is illuminator or instructor of all objects becomes firm and not decayinghaving\n",
    "reached the earth and desirable knowledge, is increaser of the life, those who approach such a man and those (teachers and\n",
    "preachers) ever enjoy happiness.\n",
    "\n",
    "O men ! always have association with those teachers and preachers, who illuminate the dealirg of knowledge like the sun and increase kingdom, wealth and span of life and uphold\n",
    "(establish) all in happiness. It is they by whose association, men become endowed with knowledge.\n",
    "\"\"\"\n",
    "\n",
    "words = v_txt.split()\n",
    "\n",
    "# Lets create the dictionary with words, all the values has been defaulted to 0\n",
    "v_dict = {}.fromkeys(words,0)\n",
    "\n",
    "print(v_dict)\n",
    "print(\"*\"*20)\n",
    "for w in words:\n",
    "    v_dict[w] += 1\n",
    "print(v_dict)"
   ]
  },
  {
   "cell_type": "markdown",
   "metadata": {},
   "source": [
    "- How to traverse a dictionary with sorted keys."
   ]
  },
  {
   "cell_type": "code",
   "execution_count": null,
   "metadata": {},
   "outputs": [],
   "source": []
  },
  {
   "cell_type": "markdown",
   "metadata": {},
   "source": [
    "### Slicing"
   ]
  },
  {
   "cell_type": "markdown",
   "metadata": {},
   "source": [
    "- What are negative indexes and why are they used"
   ]
  },
  {
   "cell_type": "markdown",
   "metadata": {},
   "source": [
    "## Control Statements "
   ]
  },
  {
   "cell_type": "markdown",
   "metadata": {},
   "source": [
    "- What is the use of `continue` and `break`\n",
    "- When will the else part of `while-else` be executed"
   ]
  },
  {
   "cell_type": "markdown",
   "metadata": {},
   "source": [
    "## Scope "
   ]
  },
  {
   "cell_type": "markdown",
   "metadata": {},
   "source": [
    "- What is the difference between local and global namespaces\n",
    "- Name the main types of namespaces in Python"
   ]
  },
  {
   "cell_type": "markdown",
   "metadata": {},
   "source": [
    "## Functions "
   ]
  },
  {
   "cell_type": "markdown",
   "metadata": {},
   "source": [
    "- What does this mean: \\*args, \\*\\*kwargs? And why would we use it\n",
    "- Explain about Python's parameter passing mechanism\n",
    "- What is lambda in Python\n",
    "- what are local and global variables in Python"
   ]
  },
  {
   "cell_type": "markdown",
   "metadata": {},
   "source": [
    "## OOPs"
   ]
  },
  {
   "cell_type": "markdown",
   "metadata": {},
   "source": [
    "- What is a Class\n",
    "- Explain the characteristics of Objects\n",
    "- Define a protected member in a class\n",
    "- Explain overload constructors or methods\n",
    "- Explain Inheritance in Python\n",
    "- How instance variables are different from class variables\n",
    "- Which methods of Python are used to determine the type of instance and inheritance\n",
    "- In a class, what `__ init__` function is used for"
   ]
  },
  {
   "cell_type": "markdown",
   "metadata": {},
   "source": [
    "## Modules"
   ]
  },
  {
   "cell_type": "markdown",
   "metadata": {},
   "source": [
    "- What is a Python module\n",
    "- What is namespace in Python\n",
    "- What is module and package in Python\n",
    "- Can modules be imported twice in a single program\n",
    "- Name the four main types of namespaces in Python\n",
    "- What is __init__.py used for\n",
    "- How can `Global` variables be shared across modules"
   ]
  },
  {
   "cell_type": "markdown",
   "metadata": {},
   "source": [
    "## Decorators"
   ]
  },
  {
   "cell_type": "markdown",
   "metadata": {},
   "source": [
    "- Explain Python decorators"
   ]
  },
  {
   "cell_type": "markdown",
   "metadata": {},
   "source": [
    "## Generators and iterators"
   ]
  },
  {
   "cell_type": "markdown",
   "metadata": {},
   "source": [
    "- What are iterators\n",
    "- What are generators"
   ]
  },
  {
   "cell_type": "markdown",
   "metadata": {},
   "source": [
    "## Exception Handling "
   ]
  },
  {
   "cell_type": "markdown",
   "metadata": {},
   "source": [
    "- What are Exception Handling? How do you achieve it in Python?\n",
    "- Explain different ways to raise exceptions\n",
    "- Explain try: except: raise, and finally\n",
    "- When will the else part of `try-except-else` be executed"
   ]
  },
  {
   "cell_type": "markdown",
   "metadata": {},
   "source": [
    "## Standard library"
   ]
  },
  {
   "cell_type": "markdown",
   "metadata": {},
   "source": [
    "- What is the difference between deep and shallow copy\n",
    "- How can you generate random numbers in Python\n",
    "- What kind of random items can be generated in Python\n",
    "- Name the File-related modules in Python\n",
    "- How to check the file existence and its extension\n",
    "- Explain how to redirect the output of a python script from standout(ie., monitor) on to a file\n",
    "- How to display the contents of text file in reverse order\n",
    "- How can you copy an object in Python"
   ]
  },
  {
   "cell_type": "markdown",
   "metadata": {},
   "source": [
    "- How is memory managed in Python"
   ]
  },
  {
   "cell_type": "markdown",
   "metadata": {},
   "source": [
    "- Explain the use of `with` statement"
   ]
  },
  {
   "cell_type": "markdown",
   "metadata": {},
   "source": [
    "## Operators"
   ]
  },
  {
   "cell_type": "markdown",
   "metadata": {},
   "source": [
    "- How can the ternary operators be used in python"
   ]
  }
 ],
 "metadata": {
  "kernelspec": {
   "display_name": "Python 3",
   "language": "python",
   "name": "python3"
  },
  "language_info": {
   "codemirror_mode": {
    "name": "ipython",
    "version": 3
   },
   "file_extension": ".py",
   "mimetype": "text/x-python",
   "name": "python",
   "nbconvert_exporter": "python",
   "pygments_lexer": "ipython3",
   "version": "3.4.6"
  }
 },
 "nbformat": 4,
 "nbformat_minor": 2
}
