{
 "cells": [
  {
   "cell_type": "markdown",
   "metadata": {},
   "source": [
    "# Chapter 0 - Who & Why\n",
    "---"
   ]
  },
  {
   "cell_type": "markdown",
   "metadata": {},
   "source": [
    "This tutorial is created for the sole purpose for provide a base document for my training programs. I am releasing it on the net in hope of people find it useful. \n",
    "\n"
   ]
  },
  {
   "cell_type": "markdown",
   "metadata": {},
   "source": [
    "## Who \n",
    "---\n"
   ]
  },
  {
   "cell_type": "markdown",
   "metadata": {},
   "source": [
    "I am Mayank Johri. I am a among many things, primarily a student and opensource developer.\n",
    "\n",
    "Few of my opensource projects can be found at \n",
    "\n",
    "- https://sourceforge.net/projects/softgridhelper/\n",
    "- https://github.com/mayankjohri "
   ]
  },
  {
   "cell_type": "markdown",
   "metadata": {},
   "source": [
    "### My history with Python"
   ]
  },
  {
   "cell_type": "markdown",
   "metadata": {},
   "source": [
    "Till 2005, VB.NET & C were my primary programming languages. In early 2005, due to certain personal reasons, I started searching for my next primary language. My requirements for it were as stated below\n",
    "\n",
    "- Opensource language (so I don't have to pay, no licensing issues, no change in language without some workaround for issues)\n",
    "- Easy to learn (Never had too much time)\n",
    "- can be compiled to exe\n",
    "- GUI programming should be possible (wx)\n",
    "- Relatively decent execution speed\n",
    "- Decent support and usage\n",
    "\n",
    "After about six months, and trying almost most the programming languages from (https://en.wikipedia.org/wiki/List_of_programming_languages), I found that python language suite most of my requirements and thus it became my first choice of programming language."
   ]
  }
 ],
 "metadata": {
  "kernelspec": {
   "display_name": "Python 3",
   "language": "python",
   "name": "python3"
  },
  "language_info": {
   "codemirror_mode": {
    "name": "ipython",
    "version": 3
   },
   "file_extension": ".py",
   "mimetype": "text/x-python",
   "name": "python",
   "nbconvert_exporter": "python",
   "pygments_lexer": "ipython3",
   "version": "3.6.1"
  }
 },
 "nbformat": 4,
 "nbformat_minor": 2
}
