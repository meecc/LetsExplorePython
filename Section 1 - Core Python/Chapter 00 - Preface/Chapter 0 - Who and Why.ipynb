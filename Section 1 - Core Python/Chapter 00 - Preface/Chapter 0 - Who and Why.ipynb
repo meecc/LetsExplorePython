{
 "cells": [
  {
   "cell_type": "markdown",
   "metadata": {},
   "source": [
    "# Chapter 0 - Who & Why\n",
    "---"
   ]
  },
  {
   "cell_type": "markdown",
   "metadata": {},
   "source": [
    "This tutorial is created for the sole purpose for provide a base document for my training programs. I am releasing it on the net in hope of people find it useful. \n",
    "\n",
    "## Who \n",
    "---\n",
    "\n",
    "I am Mayank Johri. I am a among many things, primarily a student and opensource developer.\n",
    "\n",
    "### My history with Python\n",
    "----\n",
    "In 2005, after my loss with VB.NET, I started searching for my next primary language. My requirements were simple\n",
    "\n",
    "- Opensource language (so I don't have to pay)\n",
    "- Easy to learn (Never had too much time)\n",
    "- can be compiled to exe\n",
    "- provide GUI (wx)\n",
    "\n",
    "After about six months, I found that python language suite most of my requirements and it has been my language of choice ever since."
   ]
  }
 ],
 "metadata": {
  "kernelspec": {
   "display_name": "Python 3",
   "language": "python",
   "name": "python3"
  },
  "language_info": {
   "codemirror_mode": {
    "name": "ipython",
    "version": 3
   },
   "file_extension": ".py",
   "mimetype": "text/x-python",
   "name": "python",
   "nbconvert_exporter": "python",
   "pygments_lexer": "ipython3",
   "version": "3.4.6"
  }
 },
 "nbformat": 4,
 "nbformat_minor": 2
}
