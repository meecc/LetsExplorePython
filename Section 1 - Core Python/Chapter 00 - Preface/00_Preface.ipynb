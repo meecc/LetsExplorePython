{
 "cells": [
  {
   "cell_type": "markdown",
   "metadata": {},
   "source": [
    "# Preface\n",
    "---"
   ]
  },
  {
   "cell_type": "markdown",
   "metadata": {},
   "source": [
    "This book has been created as part of reference material for learning Python languages.\n",
    "\n",
    "The entire training material has been divided into three sections\n",
    "\n",
    "* Core Python\n",
    "* Advance Python &\n",
    "* Machine Learning\n",
    "\n",
    "This ebook will try to covers core python. This section is specifically designed for everyone who wish to work/learn Python language."
   ]
  },
  {
   "cell_type": "markdown",
   "metadata": {},
   "source": [
    "## Reference"
   ]
  },
  {
   "cell_type": "markdown",
   "metadata": {},
   "source": [
    "These books on python are collection of materials which I use when conducting Python training and also materials from my Web site that are intended for self-instruction.\n",
    "\n",
    "Most of the material has been collected from internet. Primary source of the information in the book has been from the followings.\n",
    "\n",
    "1. My Understanding of Python\n",
    "\n",
    "2. Python Manual docs.python.org\n",
    "\n",
    "3. [https://github.com/ricardoduarte/python-for-developers](https://github.com/ricardoduarte/python-for-developers)\n",
    "\n",
    "4. [http://www.davekuhlman.org/python\\_book\\_01.pdf](http://www.davekuhlman.org/python_book_01.pdf)\n",
    "\n",
    "5. Wikipedia\n",
    "\n",
    "6. Wiki-books, etc\n",
    "\n",
    "\n",
    "\n"
   ]
  }
 ],
 "metadata": {
  "kernelspec": {
   "display_name": "Python 3",
   "language": "python",
   "name": "python3"
  },
  "language_info": {
   "codemirror_mode": {
    "name": "ipython",
    "version": 3
   },
   "file_extension": ".py",
   "mimetype": "text/x-python",
   "name": "python",
   "nbconvert_exporter": "python",
   "pygments_lexer": "ipython3",
   "version": "3.4.6"
  }
 },
 "nbformat": 4,
 "nbformat_minor": 2
}
