{
 "cells": [
  {
   "cell_type": "markdown",
   "metadata": {},
   "source": [
    "> Its already discussed while learning classes and OOP's, hence skipping"
   ]
  },
  {
   "cell_type": "code",
   "execution_count": 2,
   "metadata": {},
   "outputs": [],
   "source": [
    "class Pen():\n",
    "    def __init__(self, size, name):\n",
    "        self.name = name\n",
    "        self.size = size\n",
    "    \n",
    "    def set_name(self, name):\n",
    "        self.name = name"
   ]
  },
  {
   "cell_type": "code",
   "execution_count": 3,
   "metadata": {},
   "outputs": [],
   "source": [
    "class BallPen(Pen):\n",
    "    def __init__(self, size, name, color):\n",
    "        self.color = color\n",
    "        super().__init__(size, name)\n",
    "    \n",
    "    def set_color(self, color):\n",
    "        self.color = color"
   ]
  },
  {
   "cell_type": "code",
   "execution_count": 4,
   "metadata": {},
   "outputs": [],
   "source": [
    "class InkPen(Pen):\n",
    "    def __init__(self, size, name, cart_type):\n",
    "        self.cart = cart_type\n",
    "        super().__init__(size, name)"
   ]
  },
  {
   "cell_type": "code",
   "execution_count": 8,
   "metadata": {},
   "outputs": [
    {
     "name": "stdout",
     "output_type": "stream",
     "text": [
      "Renolds\n",
      "cello\n",
      "['__class__', '__delattr__', '__dict__', '__dir__', '__doc__', '__eq__', '__format__', '__ge__', '__getattribute__', '__gt__', '__hash__', '__init__', '__init_subclass__', '__le__', '__lt__', '__module__', '__ne__', '__new__', '__reduce__', '__reduce_ex__', '__repr__', '__setattr__', '__sizeof__', '__str__', '__subclasshook__', '__weakref__', 'color', 'name', 'set_color', 'set_name', 'size']\n",
      "{'color': 'Green', 'name': 'cello', 'size': 10}\n"
     ]
    }
   ],
   "source": [
    "pb = BallPen(10, \"Renolds\", \"Green\")\n",
    "print(pb.name)\n",
    "pb.set_name(\"cello\")\n",
    "print(pb.name)\n",
    "print(dir(pb))\n",
    "print(pb.__dict__)\n"
   ]
  },
  {
   "cell_type": "code",
   "execution_count": 21,
   "metadata": {},
   "outputs": [],
   "source": [
    "class grand_parent:\n",
    "    def __init__(self, middle_name):\n",
    "        self.__middle_name = middle_name\n",
    "        \n",
    "    def middle_name(self, middle_name):\n",
    "        self.__middle_name = middle_name\n",
    "        return self.__middle_name"
   ]
  },
  {
   "cell_type": "code",
   "execution_count": 22,
   "metadata": {},
   "outputs": [],
   "source": [
    "class parent(grand_parent):\n",
    "    def __init__(self, middle_name, surname):\n",
    "        self.__surname = surname\n",
    "        super().__init__(middle_name)\n",
    "    \n",
    "    def middle_name(self):\n",
    "        return self.middle_name"
   ]
  },
  {
   "cell_type": "code",
   "execution_count": 23,
   "metadata": {},
   "outputs": [],
   "source": [
    "class student(parent):\n",
    "    def __init__(self, name, middle_name, surname):\n",
    "        self.name = name\n",
    "        super().__init__(middle_name, surname)"
   ]
  },
  {
   "cell_type": "code",
   "execution_count": 24,
   "metadata": {},
   "outputs": [],
   "source": [
    "mohan = student(\"Venkat\", \"kumar\", \"Mohan\")"
   ]
  },
  {
   "cell_type": "code",
   "execution_count": 25,
   "metadata": {},
   "outputs": [
    {
     "name": "stdout",
     "output_type": "stream",
     "text": [
      "<bound method parent.middle_name of <__main__.student object at 0x000002413971CBA8>>\n"
     ]
    }
   ],
   "source": [
    "print(mohan.middle_name)"
   ]
  },
  {
   "cell_type": "code",
   "execution_count": 26,
   "metadata": {},
   "outputs": [
    {
     "ename": "TypeError",
     "evalue": "middle_name() takes 1 positional argument but 2 were given",
     "output_type": "error",
     "traceback": [
      "\u001b[1;31m---------------------------------------------------------------------------\u001b[0m",
      "\u001b[1;31mTypeError\u001b[0m                                 Traceback (most recent call last)",
      "\u001b[1;32m<ipython-input-26-e9c69e945a76>\u001b[0m in \u001b[0;36m<module>\u001b[1;34m()\u001b[0m\n\u001b[1;32m----> 1\u001b[1;33m \u001b[0mprint\u001b[0m\u001b[1;33m(\u001b[0m\u001b[0mmohan\u001b[0m\u001b[1;33m.\u001b[0m\u001b[0mmiddle_name\u001b[0m\u001b[1;33m(\u001b[0m\u001b[1;34m\"KUMAR\"\u001b[0m\u001b[1;33m)\u001b[0m\u001b[1;33m)\u001b[0m\u001b[1;33m\u001b[0m\u001b[0m\n\u001b[0m",
      "\u001b[1;31mTypeError\u001b[0m: middle_name() takes 1 positional argument but 2 were given"
     ]
    }
   ],
   "source": [
    "print(mohan.middle_name(\"KUMAR\"))"
   ]
  },
  {
   "cell_type": "code",
   "execution_count": 22,
   "metadata": {
    "collapsed": true
   },
   "outputs": [],
   "source": [
    "# NOTE: python 2 has issues with Super , get it also documented here"
   ]
  }
 ],
 "metadata": {
  "kernelspec": {
   "display_name": "Python 3",
   "language": "python",
   "name": "python3"
  },
  "language_info": {
   "codemirror_mode": {
    "name": "ipython",
    "version": 3
   },
   "file_extension": ".py",
   "mimetype": "text/x-python",
   "name": "python",
   "nbconvert_exporter": "python",
   "pygments_lexer": "ipython3",
   "version": "3.6.4"
  }
 },
 "nbformat": 4,
 "nbformat_minor": 1
}
