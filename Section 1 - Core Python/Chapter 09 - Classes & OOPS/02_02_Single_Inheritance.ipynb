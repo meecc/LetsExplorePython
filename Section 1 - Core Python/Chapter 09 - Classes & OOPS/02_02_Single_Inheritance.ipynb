{
 "cells": [
  {
   "cell_type": "markdown",
   "metadata": {},
   "source": [
    "## Single Inheritance"
   ]
  },
  {
   "cell_type": "markdown",
   "metadata": {},
   "source": [
    "In single inheritance, any client class inherits from only one parent class. Lets look at the below example which contains `Pen` as parent and `BallPen` & `InkPen` as clildren of it. "
   ]
  },
  {
   "cell_type": "code",
   "execution_count": 6,
   "metadata": {},
   "outputs": [],
   "source": [
    "class Pen():\n",
    "    def __init__(self, size, name):\n",
    "        self.name = name\n",
    "        self.size = size\n",
    "    \n",
    "    def set_name(self, name):\n",
    "        self.name = name\n",
    "\n",
    "\n",
    "class BallPen(Pen):\n",
    "    def __init__(self, size, name, color):\n",
    "        self.color = color\n",
    "        super().__init__(size, name)\n",
    "    \n",
    "    def set_color(self, color):\n",
    "        self.color = color\n",
    "\n",
    "\n",
    "class InkPen(Pen):\n",
    "    def __init__(self, size, name, cart_type):\n",
    "        self.cart = cart_type\n",
    "        super().__init__(size, name)"
   ]
  },
  {
   "cell_type": "markdown",
   "metadata": {},
   "source": [
    "`BallPen` & `InkPen` both are initializing the parent class using `super().__init(size, name)` function. Now lets create few objects of both,"
   ]
  },
  {
   "cell_type": "code",
   "execution_count": 9,
   "metadata": {},
   "outputs": [
    {
     "name": "stdout",
     "output_type": "stream",
     "text": [
      "Renolds\n",
      "cello\n",
      "{'color': 'Green', 'name': 'cello', 'size': 10}\n"
     ]
    }
   ],
   "source": [
    "pb = BallPen(10, \"Renolds\", \"Green\")\n",
    "print(pb.name)\n",
    "pb.set_name(\"cello\")\n",
    "print(pb.name)\n",
    "print(pb.__dict__)"
   ]
  },
  {
   "cell_type": "code",
   "execution_count": 22,
   "metadata": {},
   "outputs": [],
   "source": [
    "class grand_parent:\n",
    "    def __init__(self, middle_name):\n",
    "        print(\"grand_parent init\")\n",
    "        self.__middle_name = middle_name\n",
    "        \n",
    "    def middle_name(self, middle_name):\n",
    "        self.__middle_name = middle_name\n",
    "        return self.__middle_name"
   ]
  },
  {
   "cell_type": "markdown",
   "metadata": {},
   "source": [
    "Lets create a `parent` class which inherits `grand_parent` class, note we have used `super().__init_(middle_name)` to set middle name using parents function `middle_name`. "
   ]
  },
  {
   "cell_type": "code",
   "execution_count": 23,
   "metadata": {},
   "outputs": [],
   "source": [
    "class parent(grand_parent):\n",
    "    def __init__(self, middle_name, surname):\n",
    "        print(\"parent init\")\n",
    "        self.__surname = surname\n",
    "        super().__init__(middle_name)\n",
    "    \n",
    "    def middle_name(self):\n",
    "        return self.middle_name"
   ]
  },
  {
   "cell_type": "markdown",
   "metadata": {},
   "source": [
    "Now lets create the `student` which inherits `parent` class. Check its init also. "
   ]
  },
  {
   "cell_type": "code",
   "execution_count": 24,
   "metadata": {},
   "outputs": [],
   "source": [
    "class student(parent):\n",
    "    def __init__(self, name, middle_name, surname):\n",
    "        print(\"student init\")\n",
    "        self.name = name\n",
    "        super().__init__(middle_name, surname)"
   ]
  },
  {
   "cell_type": "code",
   "execution_count": 26,
   "metadata": {},
   "outputs": [
    {
     "name": "stdout",
     "output_type": "stream",
     "text": [
      "student init\n",
      "parent init\n",
      "grand_parent init\n"
     ]
    }
   ],
   "source": [
    "mohan = student(\"Venkat\", \"kumar\", \"Mohan\")"
   ]
  },
  {
   "cell_type": "markdown",
   "metadata": {},
   "source": [
    "Check the order of `init`'s being called. "
   ]
  },
  {
   "cell_type": "code",
   "execution_count": 16,
   "metadata": {},
   "outputs": [
    {
     "name": "stdout",
     "output_type": "stream",
     "text": [
      "<bound method parent.middle_name of <__main__.student object at 0x7f9df848b160>>\n"
     ]
    }
   ],
   "source": [
    "print(mohan.middle_name)"
   ]
  },
  {
   "cell_type": "code",
   "execution_count": 28,
   "metadata": {},
   "outputs": [
    {
     "name": "stdout",
     "output_type": "stream",
     "text": [
      "KUMAR\n"
     ]
    }
   ],
   "source": [
    "mohan.middle_name = \"KUMAR\"\n",
    "print(mohan.middle_name)"
   ]
  },
  {
   "cell_type": "markdown",
   "metadata": {},
   "source": [
    "Now lets create the same classes without init functions, and see what happens"
   ]
  },
  {
   "cell_type": "code",
   "execution_count": 44,
   "metadata": {},
   "outputs": [],
   "source": [
    "class grand_parent:\n",
    "    def __init__(self, middle_name):\n",
    "        print(\"grand_parent init\")\n",
    "        self.__middle_name = middle_name\n",
    "        \n",
    "    def middle_name(self, middle_name):\n",
    "        self.__middle_name = middle_name\n",
    "        return self.__middle_name\n",
    "\n",
    "class parent(grand_parent):\n",
    "    def __init__(self, middle_name, surname):\n",
    "        print(\"parent init\")\n",
    "        self.__surname = surname\n",
    "    \n",
    "    def middle_name(self):\n",
    "        return self.__middle_name\n",
    "    \n",
    "    \n",
    "class student(parent):\n",
    "    def __init__(self, name, middle_name, surname):\n",
    "        print(\"student init\")\n",
    "        self.name = name"
   ]
  },
  {
   "cell_type": "code",
   "execution_count": 45,
   "metadata": {},
   "outputs": [
    {
     "name": "stdout",
     "output_type": "stream",
     "text": [
      "student init\n"
     ]
    }
   ],
   "source": [
    "mohan = student(\"Venkat\", \"kumar\", \"Mohan\")"
   ]
  },
  {
   "cell_type": "code",
   "execution_count": 48,
   "metadata": {},
   "outputs": [
    {
     "name": "stdout",
     "output_type": "stream",
     "text": [
      "'student' object has no attribute '_parent__middle_name'\n"
     ]
    }
   ],
   "source": [
    "try:\n",
    "    print(mohan.middle_name())\n",
    "except Exception as e:\n",
    "    print(e)"
   ]
  },
  {
   "cell_type": "markdown",
   "metadata": {},
   "source": [
    "We got the error because, init of none of the parent's were called, and only students init was called. "
   ]
  },
  {
   "cell_type": "code",
   "execution_count": 22,
   "metadata": {
    "collapsed": true
   },
   "outputs": [],
   "source": [
    "# NOTE: python 2 has issues with Super , get it also documented here"
   ]
  }
 ],
 "metadata": {
  "kernelspec": {
   "display_name": "Python 3",
   "language": "python",
   "name": "python3"
  },
  "language_info": {
   "codemirror_mode": {
    "name": "ipython",
    "version": 3
   },
   "file_extension": ".py",
   "mimetype": "text/x-python",
   "name": "python",
   "nbconvert_exporter": "python",
   "pygments_lexer": "ipython3",
   "version": "3.6.1"
  }
 },
 "nbformat": 4,
 "nbformat_minor": 1
}
