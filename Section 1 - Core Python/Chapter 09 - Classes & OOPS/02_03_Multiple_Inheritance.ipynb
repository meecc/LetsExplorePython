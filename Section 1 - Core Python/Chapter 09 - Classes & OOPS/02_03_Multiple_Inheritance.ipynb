{
 "cells": [
  {
   "cell_type": "markdown",
   "metadata": {},
   "source": [
    "# Multiple Inheritance\n",
    "---"
   ]
  },
  {
   "cell_type": "markdown",
   "metadata": {},
   "source": [
    "In multiple inheritance, a `class` can be derived from more than one `base classes`. The syntax for multiple inheritance is similar to single inheritance except we list all the base classes in sequence instead of one base class in single inheritance."
   ]
  },
  {
   "cell_type": "markdown",
   "metadata": {},
   "source": [
    "```python\n",
    "class ChildClass(<base_class_1>, <base_class_2>, ...):\n",
    "    .... Child Class code \n",
    "```"
   ]
  },
  {
   "cell_type": "markdown",
   "metadata": {},
   "source": [
    "Lets create few classes and expore the features of Multiple Inheritance."
   ]
  },
  {
   "cell_type": "code",
   "execution_count": 24,
   "metadata": {},
   "outputs": [],
   "source": [
    "class Base1:\n",
    "    pass\n",
    "\n",
    "class Base2:\n",
    "    pass\n",
    "\n",
    "class MultiDerived(Base1, Base2):\n",
    "    pass"
   ]
  },
  {
   "cell_type": "markdown",
   "metadata": {},
   "source": [
    "Lets create the class `MultiDerived` child class using `Base1` & `Base2`. "
   ]
  },
  {
   "cell_type": "code",
   "execution_count": 25,
   "metadata": {},
   "outputs": [
    {
     "name": "stdout",
     "output_type": "stream",
     "text": [
      "<__main__.MultiDerived object at 0x7f2d682089e8>\n"
     ]
    }
   ],
   "source": [
    "md = MultiDerived()\n",
    "print(md)"
   ]
  },
  {
   "cell_type": "markdown",
   "metadata": {},
   "source": [
    "The above object is a blank object with contains no custom defined attributes. Lets explore it in more details. "
   ]
  },
  {
   "cell_type": "code",
   "execution_count": 26,
   "metadata": {},
   "outputs": [
    {
     "name": "stdout",
     "output_type": "stream",
     "text": [
      "P-1 init\n",
      "********************\n",
      "P_2 init\n"
     ]
    }
   ],
   "source": [
    "class P1():\n",
    "    def __init__(self):\n",
    "        print(\"P-1 init\")\n",
    "\n",
    "class P2():\n",
    "    def __init__(self):\n",
    "        print(\"P_2 init\")\n",
    "\n",
    "class C1(P1, P2):\n",
    "    pass\n",
    "\n",
    "class C2(P2, P1):\n",
    "    pass\n",
    "\n",
    "c1 = C1()\n",
    "print(\"*\"*20)\n",
    "c2 = C2()"
   ]
  },
  {
   "cell_type": "markdown",
   "metadata": {},
   "source": [
    "In the above example, we have created two child classes `C1` and `C2` with `P1`, `P2` and `P2`, `P1` as parents respectively. You will note that when we created child `c1` of class `C1`, as `C1` do not have any `__init__` function, Python searched it on parent classes, and executed & returned after finding its first definition, which it found in `P1` class, thus it did not ran the `__init__` of `P2`. Similarly `c2` ran the `__init__` of `P2` class. We will explain the algo which is used to find the required functions on parents later in the chapter. "
   ]
  },
  {
   "cell_type": "markdown",
   "metadata": {},
   "source": [
    "Lets create a child class `TechLead` which is derived from `Lead` and `Tech` classes. "
   ]
  },
  {
   "cell_type": "code",
   "execution_count": 2,
   "metadata": {},
   "outputs": [
    {
     "name": "stdout",
     "output_type": "stream",
     "text": [
      "<__main__.TechLead object at 0x7ff15019c908>\n",
      "{'_reportee_count': 2, '_tech_name': 'Java'}\n"
     ]
    }
   ],
   "source": [
    "class Tech(object):\n",
    "    def __init__(self, tech):\n",
    "        self._tech_name = tech\n",
    "        \n",
    "    @property\n",
    "    def tech_name(self):\n",
    "        return self._tech_name\n",
    "    \n",
    "    @tech_name.setter\n",
    "    def tech_name(self, name):\n",
    "        self._tech_name = name\n",
    "        \n",
    "class Lead(object):\n",
    "    def __init__(self, reportee_count):\n",
    "        self._reportee_count = reportee_count\n",
    "    \n",
    "    @property\n",
    "    def reportee(self):\n",
    "        return self._reportee_count\n",
    "    \n",
    "    @reportee.setter\n",
    "    def reportee(self, count):\n",
    "        self._reportee_count = count\n",
    "        \n",
    "\n",
    "class TechLead(Tech, Lead):\n",
    "    def __init__(self, tech, count):\n",
    "        Lead.__init__(self, count)\n",
    "        Tech.__init__(self, tech)\n",
    "        \n",
    "\n",
    "vivek = TechLead(\"Java\", 2)\n",
    "print(vivek)\n",
    "print(vivek.__dict__)"
   ]
  },
  {
   "cell_type": "markdown",
   "metadata": {},
   "source": [
    "Lets try the same using super function"
   ]
  },
  {
   "cell_type": "code",
   "execution_count": 5,
   "metadata": {},
   "outputs": [
    {
     "name": "stdout",
     "output_type": "stream",
     "text": [
      "Inside TechLead\n",
      "Inside Tech\n",
      "Inside Lead\n",
      "<__main__.TechLead object at 0x7ff150196b70>\n",
      "{'_name': 'Abhishek Kumar', '_tech_name': 'macOS', '_reportee_count': 10}\n"
     ]
    }
   ],
   "source": [
    "class Tech(object):\n",
    "    def __init__(self, tech, **kwds):\n",
    "        print(\"Inside Tech\")\n",
    "        self._tech_name = tech\n",
    "        super().__init__(**kwds)\n",
    "        \n",
    "    @property\n",
    "    def tech_name(self):\n",
    "        return self._tech_name\n",
    "    \n",
    "    @tech_name.setter\n",
    "    def tech_name(self, name):\n",
    "        self._tech_name = name\n",
    "        \n",
    "class Lead(object):\n",
    "    def __init__(self, count_reportee, **kwds):\n",
    "        print(\"Inside Lead\")\n",
    "        self._reportee_count = count_reportee\n",
    "        super().__init__(**kwds)\n",
    "    \n",
    "    @property\n",
    "    def reportee(self):\n",
    "        return self._reportee_count\n",
    "    \n",
    "    @reportee.setter\n",
    "    def reportee(self, count):\n",
    "        self._reportee_count = count\n",
    "        \n",
    "\n",
    "class TechLead(Tech, Lead):\n",
    "    def __init__(self, name, **kwds):\n",
    "        print(\"Inside TechLead\")\n",
    "        self._name = name\n",
    "        super().__init__(**kwds)\n",
    "\n",
    "\n",
    "abhi = TechLead(name=\"Abhishek Kumar\", tech=\"macOS\", count_reportee= 10)\n",
    "print(abhi)\n",
    "print(abhi.__dict__)"
   ]
  },
  {
   "cell_type": "code",
   "execution_count": 9,
   "metadata": {},
   "outputs": [
    {
     "name": "stdout",
     "output_type": "stream",
     "text": [
      "Inside TechLead\n",
      "Inside Tech\n",
      "<__main__.TechLead object at 0x7ff1501a4ba8>\n",
      "{'_name': 'Abhishek Kumar', '_tech_name': 'macOS'}\n"
     ]
    }
   ],
   "source": [
    "class Tech(object):\n",
    "    def __init__(self, tech, **kwds):\n",
    "        print(\"Inside Tech\")\n",
    "        self._tech_name = tech\n",
    "#         super().__init__(**kwds)\n",
    "        \n",
    "    @property\n",
    "    def tech_name(self):\n",
    "        return self._tech_name\n",
    "    \n",
    "    @tech_name.setter\n",
    "    def tech_name(self, name):\n",
    "        self._tech_name = name\n",
    "        \n",
    "class Lead(object):\n",
    "    def __init__(self, count_reportee, **kwds):\n",
    "        print(\"Inside Lead\")\n",
    "        self._reportee_count = count_reportee\n",
    "        super().__init__(**kwds)\n",
    "    \n",
    "    @property\n",
    "    def reportee(self):\n",
    "        return self._reportee_count\n",
    "    \n",
    "    @reportee.setter\n",
    "    def reportee(self, count):\n",
    "        self._reportee_count = count\n",
    "        \n",
    "\n",
    "class TechLead(Tech, Lead\n",
    "              \n",
    "              \n",
    "              \n",
    "              ):\n",
    "    def __init__(self, name, **kwds):\n",
    "        print(\"Inside TechLead\")\n",
    "        self._name = name\n",
    "        super().__init__(**kwds)\n",
    "\n",
    "\n",
    "abhi = TechLead(name=\"Abhishek Kumar\", count_reportee= 10, tech=\"macOS\")\n",
    "print(abhi)\n",
    "print(abhi.__dict__)"
   ]
  },
  {
   "cell_type": "markdown",
   "metadata": {},
   "source": [
    "Few things of importance you will find are as follows\n",
    "- By adding `super().__init__(**kwds)` in all the parents `__init__` functions, and adding `super().__init__(**kwds)` in child `__init__` function, we can make sure that init of every parent is called automatically. \n",
    "\n",
    "- We can use similar to `def __init__(self, count_reportee, **kwds)` as `__init__` function signature, where `count_reportee` is the needed parameter for that class."
   ]
  },
  {
   "cell_type": "code",
   "execution_count": 3,
   "metadata": {},
   "outputs": [
    {
     "name": "stdout",
     "output_type": "stream",
     "text": [
      "Please check the result of test()\n",
      "in Base1 -> test\n",
      "in Base2 -> test\n",
      "in Base1 -> test\n",
      "**********\n",
      "in Base2 -> test\n",
      "in Base2 -> test\n",
      "in Base2 -> test\n"
     ]
    }
   ],
   "source": [
    "class Base1:\n",
    "    def test(self):\n",
    "        print(\"in Base1 -> test\")\n",
    "\n",
    "class Base2:\n",
    "    def test(self):\n",
    "        print(\"in Base2 -> test\")\n",
    "\n",
    "class MultiDerived(Base1, Base2):\n",
    "    def test2(self):\n",
    "        super().test()\n",
    "        Base2.test(Base2)\n",
    "\n",
    "class MultiDerived2(Base2, Base1):\n",
    "    def test2(self):\n",
    "        super().test()\n",
    "        Base2.test(Base2)\n",
    "\n",
    "print(\"Please check the result of test()\")\n",
    "\n",
    "\n",
    "md = MultiDerived()\n",
    "md.test2()\n",
    "md.test()\n",
    "print(\"*\"*10)\n",
    "md2 = MultiDerived2()\n",
    "md2.test2()\n",
    "md2.test()"
   ]
  },
  {
   "cell_type": "markdown",
   "metadata": {},
   "source": [
    "Note in the above example, when we created `c1` an object of `C1` and as `C1` class do not have initializing function `__init__` thus Python searched its parent   "
   ]
  },
  {
   "cell_type": "markdown",
   "metadata": {},
   "source": [
    "## Multilevel Inheritance\n",
    "---\n",
    "we can inherit to from a derived class also. This is called as multilevel inheritance. Multilevel inheritance can be of any depth in Python. An example with corresponding visualization is given below."
   ]
  },
  {
   "cell_type": "code",
   "execution_count": null,
   "metadata": {
    "collapsed": true
   },
   "outputs": [],
   "source": [
    "class Base:\n",
    "    pass\n",
    "\n",
    "class Derived1(Base):\n",
    "    pass\n",
    "\n",
    "class Derived2(Derived1):\n",
    "    pass"
   ]
  },
  {
   "cell_type": "markdown",
   "metadata": {},
   "source": [
    "In the multiple inheritance scenario, any specified attribute is searched first in the current class. If not found, the search continues into parent classes in depth-first, left-right fashion without searching same class twice"
   ]
  },
  {
   "cell_type": "code",
   "execution_count": 32,
   "metadata": {},
   "outputs": [
    {
     "name": "stdout",
     "output_type": "stream",
     "text": [
      "In Derived1 test\n",
      "In Base test\n",
      "in Derived2 test2\n",
      "In Base test: test_alone\n",
      "In Base test\n"
     ]
    }
   ],
   "source": [
    "class Base:\n",
    "    def test(self):\n",
    "        print(\"In Base test\")\n",
    "    \n",
    "    def test_alone(self):\n",
    "        print(\"In Base test: test_alone\")\n",
    "\n",
    "class Derived1(Base):\n",
    "    def test(self):\n",
    "        print(\"In Derived1 test\")\n",
    "        super().test()\n",
    "\n",
    "    def test_alone(self, val):\n",
    "        print(\"In Derived1 test: test_alone \", val)\n",
    "\n",
    "    def test_alone(self):\n",
    "        print(\"In Base test: test_alone\")\n",
    "\n",
    "class Derived2(Derived1):\n",
    "    def test2(self):\n",
    "        print(\"in Derived2 test2\")\n",
    "        \n",
    "obj = Derived2()\n",
    "obj.test()\n",
    "obj.test2()\n",
    "obj.test_alone()\n",
    "Base.test(Base)"
   ]
  },
  {
   "cell_type": "code",
   "execution_count": 9,
   "metadata": {},
   "outputs": [
    {
     "name": "stdout",
     "output_type": "stream",
     "text": [
      "In Derived1 test\n",
      "In Base test\n",
      "test_base\n",
      "In Derived1 test: test_alone  test\n",
      "In Derived1 test\n",
      "In Base test\n",
      "test_base\n",
      "In Base test\n"
     ]
    }
   ],
   "source": [
    "class Base:\n",
    "    def test(self):\n",
    "        print(\"In Base test\")\n",
    "    \n",
    "    def test_base(self):\n",
    "        print(\"test_base\")\n",
    "\n",
    "    def test_alone(self):\n",
    "        print(\"In Base test: test_alone\")\n",
    "\n",
    "class Derived1(Base):\n",
    "    def test(self):\n",
    "        print(\"In Derived1 test\")\n",
    "        super().test()\n",
    "        self.test_base()\n",
    "    \n",
    "    def test_alone(self, val):\n",
    "        print(\"In Derived1 test: test_alone \", val)\n",
    "        self.test()\n",
    "\n",
    "        \n",
    "obj = Derived1()\n",
    "obj.test()\n",
    "obj.test_alone(\"test\")\n",
    "Base.test(Base)"
   ]
  },
  {
   "cell_type": "code",
   "execution_count": 11,
   "metadata": {},
   "outputs": [
    {
     "name": "stdout",
     "output_type": "stream",
     "text": [
      "In Derived1 test\n",
      "In Base test\n",
      "test_base\n",
      "In Derived1 test: test_alone  test\n",
      "In Derived1 test\n",
      "In Base test\n",
      "test_base\n",
      "In Base test\n"
     ]
    }
   ],
   "source": [
    "class Base:\n",
    "    def test(self):\n",
    "        print(\"In Base test\")\n",
    "    \n",
    "    def test_base(self):\n",
    "        print(\"test_base\")\n",
    "\n",
    "    def test_alone(self):\n",
    "        print(\"In Base test: test_alone\")\n",
    "\n",
    "class Derived1(Base):\n",
    "    def test(self):\n",
    "        print(\"In Derived1 test\")\n",
    "        super().test()\n",
    "        Base.test_base(Base)\n",
    "    \n",
    "    def test_alone(self, val):\n",
    "        print(\"In Derived1 test: test_alone \", val)\n",
    "        self.test()\n",
    "\n",
    "        \n",
    "obj = Derived1()\n",
    "obj.test()\n",
    "obj.test_alone(\"test\")\n",
    "Base.test(Base)"
   ]
  },
  {
   "cell_type": "code",
   "execution_count": 6,
   "metadata": {},
   "outputs": [
    {
     "name": "stdout",
     "output_type": "stream",
     "text": [
      "In Derived1 test\n",
      "In Base test\n",
      "in Derived2 test2\n",
      "In Base test: test_alone\n",
      "In Base test\n"
     ]
    }
   ],
   "source": [
    "class Base:\n",
    "    def test(self):\n",
    "        print(\"In Base test\")\n",
    "        \n",
    "    def test_alone(self):\n",
    "        print(\"In Base test: test_alone\")\n",
    "\n",
    "class Derived1(Base):\n",
    "    def test(self):\n",
    "        print(\"In Derived1 test\")\n",
    "        super().test()\n",
    "\n",
    "    def test_alone(self, val):\n",
    "        print(\"In Derived1 test: test_alone \", val)\n",
    "\n",
    "    def test_alone(self):\n",
    "        print(\"In Base test: test_alone\")\n",
    "\n",
    "class Derived2(Derived1):\n",
    "    def test2(self):\n",
    "        print(\"in Derived2 test2\")\n",
    "        \n",
    "obj = Derived2()\n",
    "obj.test()\n",
    "obj.test2()\n",
    "obj.test_alone()\n",
    "Base.test(Base)"
   ]
  },
  {
   "cell_type": "code",
   "execution_count": 3,
   "metadata": {},
   "outputs": [
    {
     "name": "stdout",
     "output_type": "stream",
     "text": [
      "In Base test\n"
     ]
    }
   ],
   "source": [
    "class Base():\n",
    "    def test1(self):\n",
    "        print(\"In Base test\")\n",
    "\n",
    "class Derived1(Base):\n",
    "    def test(self):\n",
    "        print(\"In Derived1 test\")\n",
    "\n",
    "class Derived3(Derived1):\n",
    "    pass\n",
    "\n",
    "d = Derived3()\n",
    "d.test()\n",
    "d.test1()"
   ]
  },
  {
   "cell_type": "code",
   "execution_count": 27,
   "metadata": {},
   "outputs": [
    {
     "name": "stdout",
     "output_type": "stream",
     "text": [
      "In Derived1 test, Golu\n"
     ]
    }
   ],
   "source": [
    "class Base():\n",
    "    def test(self):\n",
    "        print(\"In Base test\")\n",
    "\n",
    "class Derived1(Base):\n",
    "    def test(self):\n",
    "        print(\"In Derived1 test\", end=\", \")\n",
    "        return \"Golu\"\n",
    "\n",
    "class Derived3(Derived1):\n",
    "    pass\n",
    "\n",
    "d = Derived3()\n",
    "print(d.test())"
   ]
  },
  {
   "cell_type": "code",
   "execution_count": 39,
   "metadata": {},
   "outputs": [
    {
     "name": "stdout",
     "output_type": "stream",
     "text": [
      "In Derived1 test\n",
      "In Derived1 test\n"
     ]
    }
   ],
   "source": [
    "#### Explicitly calling function\n",
    "\n",
    "class Base:\n",
    "    def test(self):\n",
    "        print(\"In Base test\")\n",
    "\n",
    "class Derived1(Base):\n",
    "    def test(self):\n",
    "        print(\"In Derived1 test\")\n",
    "\n",
    "class Derived2(Derived1):\n",
    "    pass\n",
    "\n",
    "obj = Derived2\n",
    "obj.test(obj)\n",
    "\n",
    "Derived2.test(Derived2)"
   ]
  },
  {
   "cell_type": "code",
   "execution_count": 41,
   "metadata": {},
   "outputs": [
    {
     "name": "stdout",
     "output_type": "stream",
     "text": [
      "In Derived1 test\n",
      "<class 'type'>\n",
      "In Derived1 test\n",
      "<class 'type'>\n"
     ]
    }
   ],
   "source": [
    "#### Explicitly calling function\n",
    "\n",
    "class Base:\n",
    "    def test(self):\n",
    "        print(\"In Base test\")\n",
    "\n",
    "class Derived1(Base):\n",
    "    def test(self):\n",
    "        print(\"In Derived1 test\")\n",
    "        print(type(self))\n",
    "\n",
    "class Derived2(Derived1):\n",
    "    pass\n",
    "\n",
    "obj = Derived2\n",
    "obj.test(obj)\n",
    "\n",
    "Derived2.test(Derived2)"
   ]
  },
  {
   "cell_type": "code",
   "execution_count": 61,
   "metadata": {},
   "outputs": [
    {
     "name": "stdout",
     "output_type": "stream",
     "text": [
      "In Derived1 test\n",
      "<class '__main__.Derived2'>\n",
      "In Derived1 test\n",
      "<class 'type'>\n"
     ]
    }
   ],
   "source": [
    "#### Explicitly calling function\n",
    "\n",
    "class Base:\n",
    "    def test(self):\n",
    "        print(\"In Base test\")\n",
    "\n",
    "class Derived1(Base):\n",
    "    def test(self):\n",
    "        print(\"In Derived1 test\")\n",
    "        print(type(self))\n",
    "\n",
    "class Derived2(Derived1):\n",
    "    pass\n",
    "\n",
    "\n",
    "obj = Derived2()\n",
    "obj.test()\n",
    "\n",
    "Derived2.test(Derived2)"
   ]
  },
  {
   "cell_type": "code",
   "execution_count": 2,
   "metadata": {},
   "outputs": [],
   "source": [
    "## TODO : Need to find a way to call init of both the parents "
   ]
  },
  {
   "cell_type": "code",
   "execution_count": null,
   "metadata": {},
   "outputs": [],
   "source": []
  },
  {
   "cell_type": "code",
   "execution_count": 3,
   "metadata": {},
   "outputs": [
    {
     "name": "stdout",
     "output_type": "stream",
     "text": [
      "class 1\n",
      "class 3\n"
     ]
    }
   ],
   "source": [
    "class CL1(object):\n",
    "    def __init__(self):\n",
    "#         super(CL1, self).__init__()\n",
    "        print (\"class 1\")\n",
    "\n",
    "\n",
    "class CL2(object):\n",
    "    def __init__(self):\n",
    "#         super(CL2, self).__init__()\n",
    "        print (\"class 2\")\n",
    "\n",
    "\n",
    "class CL3(CL1, CL2):\n",
    "    def __init__(self):\n",
    "        super(CL3, self).__init__()\n",
    "        print (\"class 3\")\n",
    "\n",
    "\n",
    "instance = CL3()"
   ]
  },
  {
   "cell_type": "markdown",
   "metadata": {},
   "source": [
    "### consistent method resolution"
   ]
  },
  {
   "cell_type": "markdown",
   "metadata": {},
   "source": [
    "CMR is explained by Guido at [http://python-history.blogspot.com/2010/06/method-resolution-order.html](http://python-history.blogspot.com/2010/06/method-resolution-order.html). \n",
    "\n",
    "We will try to summerize it here."
   ]
  },
  {
   "cell_type": "code",
   "execution_count": 15,
   "metadata": {},
   "outputs": [],
   "source": [
    "class A:\n",
    "    def whereiam(self):\n",
    "        print(\"I am in A\")\n",
    "\n",
    "\n",
    "class B:\n",
    "    def whoiam(self):\n",
    "        print(\"I am a method\")\n",
    "\n",
    "class C(A, B):\n",
    "    pass"
   ]
  },
  {
   "cell_type": "code",
   "execution_count": 19,
   "metadata": {},
   "outputs": [
    {
     "name": "stdout",
     "output_type": "stream",
     "text": [
      "['__class__', '__delattr__', '__dict__', '__dir__', '__doc__', '__eq__', '__format__', '__ge__', '__getattribute__', '__gt__', '__hash__', '__init__', '__init_subclass__', '__le__', '__lt__', '__module__', '__ne__', '__new__', '__reduce__', '__reduce_ex__', '__repr__', '__setattr__', '__sizeof__', '__str__', '__subclasshook__', '__weakref__', 'whereiam', 'whoiam']\n",
      "I am a method\n"
     ]
    }
   ],
   "source": [
    "c = C()\n",
    "print(dir(c))\n",
    "c.whoiam()"
   ]
  },
  {
   "cell_type": "code",
   "execution_count": 21,
   "metadata": {},
   "outputs": [],
   "source": [
    "class A:\n",
    "    def whoiam(self):\n",
    "        print(\"I am in A\")\n",
    "\n",
    "\n",
    "class B:\n",
    "    def whoiam(self):\n",
    "        print(\"I am a method\")\n",
    "\n",
    "class C(A, B):\n",
    "    pass"
   ]
  },
  {
   "cell_type": "code",
   "execution_count": 22,
   "metadata": {},
   "outputs": [
    {
     "name": "stdout",
     "output_type": "stream",
     "text": [
      "['__class__', '__delattr__', '__dict__', '__dir__', '__doc__', '__eq__', '__format__', '__ge__', '__getattribute__', '__gt__', '__hash__', '__init__', '__init_subclass__', '__le__', '__lt__', '__module__', '__ne__', '__new__', '__reduce__', '__reduce_ex__', '__repr__', '__setattr__', '__sizeof__', '__str__', '__subclasshook__', '__weakref__', 'whoiam']\n",
      "I am in A\n"
     ]
    }
   ],
   "source": [
    "c = C()\n",
    "print(dir(c))\n",
    "c.whoiam()"
   ]
  },
  {
   "cell_type": "code",
   "execution_count": 26,
   "metadata": {},
   "outputs": [],
   "source": [
    "class A:\n",
    "    def whereiam(self):\n",
    "        print(\"I am in A\")\n",
    "\n",
    "class B(A):\n",
    "    def whereiam(self):\n",
    "        print(\"I am in B\")\n",
    "\n",
    "class C(A):\n",
    "    def whereiam(self):\n",
    "        print(\"I am in C\")\n",
    "\n",
    "class D(B, C):\n",
    "    def whereiam(self):\n",
    "        print(\"I am in D\")"
   ]
  },
  {
   "cell_type": "code",
   "execution_count": 27,
   "metadata": {},
   "outputs": [
    {
     "name": "stdout",
     "output_type": "stream",
     "text": [
      "I am in B\n"
     ]
    }
   ],
   "source": [
    "d = D()\n",
    "d.whereiam()"
   ]
  },
  {
   "cell_type": "code",
   "execution_count": 28,
   "metadata": {},
   "outputs": [],
   "source": [
    "class A:\n",
    "    def whereiam(self):\n",
    "        print(\"I am in A\")\n",
    "\n",
    "class B(A):\n",
    "    def whereiam(self):\n",
    "        print(\"I am in B\")\n",
    "\n",
    "class C(A):\n",
    "    def whereiam(self):\n",
    "        print(\"I am in C\")\n",
    "\n",
    "class D(B, C):\n",
    "    pass"
   ]
  },
  {
   "cell_type": "code",
   "execution_count": 29,
   "metadata": {},
   "outputs": [
    {
     "name": "stdout",
     "output_type": "stream",
     "text": [
      "I am in B\n"
     ]
    }
   ],
   "source": [
    "d = D()\n",
    "d.whereiam()"
   ]
  },
  {
   "cell_type": "code",
   "execution_count": 30,
   "metadata": {},
   "outputs": [],
   "source": [
    "class A:\n",
    "    def whereiam(self):\n",
    "        print(\"I am in A\")\n",
    "\n",
    "class B(A):\n",
    "    pass\n",
    "\n",
    "class C(A):\n",
    "    def whereiam(self):\n",
    "        print(\"I am in C\")\n",
    "\n",
    "class D(B, C):\n",
    "    pass"
   ]
  },
  {
   "cell_type": "code",
   "execution_count": 31,
   "metadata": {},
   "outputs": [
    {
     "name": "stdout",
     "output_type": "stream",
     "text": [
      "I am in C\n"
     ]
    }
   ],
   "source": [
    "d = D()\n",
    "d.whereiam()"
   ]
  },
  {
   "cell_type": "code",
   "execution_count": 47,
   "metadata": {},
   "outputs": [],
   "source": [
    "class A:\n",
    "    def whereiam(self):\n",
    "        print(\"I am in A\")\n",
    "\n",
    "class D:\n",
    "    def whereiam(self):\n",
    "        print(\"I am in D\")\n",
    "\n",
    "class B(A):\n",
    "    pass\n",
    "\n",
    "class C(D):\n",
    "    pass\n",
    "\n",
    "class E(B, C):\n",
    "    pass"
   ]
  },
  {
   "cell_type": "code",
   "execution_count": 48,
   "metadata": {},
   "outputs": [
    {
     "name": "stdout",
     "output_type": "stream",
     "text": [
      "I am in A\n"
     ]
    }
   ],
   "source": [
    "e = E()\n",
    "e.whereiam()"
   ]
  },
  {
   "cell_type": "code",
   "execution_count": null,
   "metadata": {},
   "outputs": [],
   "source": []
  },
  {
   "cell_type": "markdown",
   "metadata": {},
   "source": [
    "### C3 Linearization Algorithm"
   ]
  },
  {
   "cell_type": "markdown",
   "metadata": {},
   "source": [
    "C3 super-class linearization follow the following rules:\n",
    "\n",
    "- Children precede their parents\n",
    "- If a class inherits from multiple classes, they are kept in the order specified in the tuple of the base class.\n",
    "- Consistent extended precedence graph, which in short means how base class is extended from the super class. Inheritance graph determines the structure of method resolution order.\n",
    "- Preserving local precedence ordering, i.e., visiting the super class only after the method of the local classes are visited.\n",
    "- Monotonicity"
   ]
  },
  {
   "cell_type": "markdown",
   "metadata": {},
   "source": []
  },
  {
   "cell_type": "code",
   "execution_count": 35,
   "metadata": {},
   "outputs": [],
   "source": [
    "class Type(type):\n",
    "    def __repr__(cls):\n",
    "        return cls.__name__\n",
    "\n",
    "class O(object, metaclass=Type): pass\n",
    "\n",
    "\n",
    "class A(O): pass\n",
    "\n",
    "class B(O): pass\n",
    "\n",
    "class C(O): pass\n",
    "\n",
    "class D(O): pass\n",
    "\n",
    "class E(O): pass\n",
    "\n",
    "class K1(A, B, C): pass\n",
    "\n",
    "class K2(D, B, E): pass\n",
    "\n",
    "class K3(D, A): pass\n",
    "\n",
    "class Z(K1, K2, K3): pass"
   ]
  },
  {
   "cell_type": "code",
   "execution_count": 36,
   "metadata": {},
   "outputs": [
    {
     "data": {
      "text/plain": [
       "[Z, K1, K2, K3, D, A, B, C, E, O, object]"
      ]
     },
     "execution_count": 36,
     "metadata": {},
     "output_type": "execute_result"
    }
   ],
   "source": [
    "Z.mro()"
   ]
  },
  {
   "cell_type": "markdown",
   "metadata": {},
   "source": [
    "**Problem**"
   ]
  },
  {
   "cell_type": "markdown",
   "metadata": {},
   "source": [
    "```python\n",
    "class First(object):\n",
    "    def __init__(self):\n",
    "        print(\"first\")\n",
    "\n",
    "class Second(First):\n",
    "    def __init__(self):\n",
    "        print(\"second\")\n",
    "\n",
    "class Third(First, Second):\n",
    "    def __init__(self):\n",
    "        print(\"third\")\n",
    "```"
   ]
  },
  {
   "cell_type": "markdown",
   "metadata": {},
   "source": [
    "```python\n",
    "---------------------------------------------------------------------------\n",
    "TypeError                                 Traceback (most recent call last)\n",
    "<ipython-input-37-a1afb9897f3d> in <module>()\n",
    "      7         print(\"second\")\n",
    "      8 \n",
    "----> 9 class Third(First, Second):\n",
    "     10     def __init__(self):\n",
    "     11         print(\"third\")\n",
    "\n",
    "TypeError: Cannot create a consistent method resolution\n",
    "order (MRO) for bases First, Second\n",
    "\n",
    "```"
   ]
  },
  {
   "cell_type": "code",
   "execution_count": null,
   "metadata": {},
   "outputs": [],
   "source": []
  },
  {
   "cell_type": "markdown",
   "metadata": {},
   "source": [
    "- Solution"
   ]
  },
  {
   "cell_type": "code",
   "execution_count": 2,
   "metadata": {},
   "outputs": [],
   "source": [
    "class First(object):\n",
    "    def __init__(self):\n",
    "        print(\"first\")\n",
    "\n",
    "class Second(First):\n",
    "    def __init__(self):\n",
    "        print(\"second\")\n",
    "\n",
    "class Third(Second):\n",
    "    def __init__(self):\n",
    "        print(\"third\")"
   ]
  },
  {
   "cell_type": "code",
   "execution_count": 4,
   "metadata": {},
   "outputs": [
    {
     "data": {
      "text/plain": [
       "[__main__.Third, __main__.Second, __main__.First, object]"
      ]
     },
     "execution_count": 4,
     "metadata": {},
     "output_type": "execute_result"
    }
   ],
   "source": [
    "Third.mro()"
   ]
  },
  {
   "cell_type": "code",
   "execution_count": null,
   "metadata": {},
   "outputs": [],
   "source": []
  },
  {
   "cell_type": "code",
   "execution_count": 5,
   "metadata": {},
   "outputs": [],
   "source": [
    "class O(object): pass\n",
    "\n",
    "class A(O): pass\n",
    "\n",
    "class B(O): pass\n",
    "\n",
    "class C(O): pass\n",
    "\n",
    "class D(O): pass\n",
    "\n",
    "class E(O): pass\n",
    "\n",
    "class K1(A, B, C): pass\n",
    "\n",
    "class K2(D, B, E): pass\n",
    "\n",
    "class K3(D, A): pass\n",
    "\n",
    "class Z(K1, K2, K3): pass"
   ]
  },
  {
   "cell_type": "code",
   "execution_count": 1,
   "metadata": {},
   "outputs": [
    {
     "ename": "NameError",
     "evalue": "name 'Z' is not defined",
     "output_type": "error",
     "traceback": [
      "\u001b[0;31m---------------------------------------------------------------------------\u001b[0m",
      "\u001b[0;31mNameError\u001b[0m                                 Traceback (most recent call last)",
      "\u001b[0;32m<ipython-input-1-1cc706900a70>\u001b[0m in \u001b[0;36m<module>\u001b[0;34m()\u001b[0m\n\u001b[0;32m----> 1\u001b[0;31m \u001b[0mprint\u001b[0m\u001b[0;34m(\u001b[0m\u001b[0mZ\u001b[0m\u001b[0;34m.\u001b[0m\u001b[0mmro\u001b[0m\u001b[0;34m(\u001b[0m\u001b[0;34m)\u001b[0m\u001b[0;34m)\u001b[0m\u001b[0;34m\u001b[0m\u001b[0m\n\u001b[0m",
      "\u001b[0;31mNameError\u001b[0m: name 'Z' is not defined"
     ]
    }
   ],
   "source": [
    "print(Z.mro())"
   ]
  },
  {
   "cell_type": "markdown",
   "metadata": {},
   "source": [
    "## Finding subclasses "
   ]
  },
  {
   "cell_type": "code",
   "execution_count": 3,
   "metadata": {},
   "outputs": [],
   "source": [
    "class O(object): pass\n",
    "\n",
    "class A(O): pass\n",
    "\n",
    "class B(O): pass\n",
    "\n",
    "class C(O): pass\n",
    "\n",
    "class D(O): pass\n",
    "\n",
    "class E(O): pass\n",
    "\n",
    "class K1(A, B, C): pass\n",
    "\n",
    "class K2(D, B, E): pass\n"
   ]
  },
  {
   "cell_type": "code",
   "execution_count": 6,
   "metadata": {},
   "outputs": [
    {
     "data": {
      "text/plain": [
       "[__main__.A, __main__.B, __main__.C, __main__.D, __main__.E]"
      ]
     },
     "execution_count": 6,
     "metadata": {},
     "output_type": "execute_result"
    }
   ],
   "source": [
    "O.__subclasses__()"
   ]
  },
  {
   "cell_type": "markdown",
   "metadata": {},
   "source": [
    "thus, we can create the following code the get the `sub-classes` name"
   ]
  },
  {
   "cell_type": "code",
   "execution_count": 14,
   "metadata": {},
   "outputs": [
    {
     "name": "stdout",
     "output_type": "stream",
     "text": [
      "['A', 'B', 'C', 'D', 'E']\n"
     ]
    }
   ],
   "source": [
    "print([cls.__name__ for cls in O.__subclasses__()])"
   ]
  },
  {
   "cell_type": "markdown",
   "metadata": {},
   "source": [
    "Lets create a small function based on the above code sample"
   ]
  },
  {
   "cell_type": "code",
   "execution_count": 13,
   "metadata": {},
   "outputs": [
    {
     "data": {
      "text/plain": [
       "{__main__.A,\n",
       " __main__.B,\n",
       " __main__.C,\n",
       " __main__.D,\n",
       " __main__.E,\n",
       " __main__.K1,\n",
       " __main__.K2}"
      ]
     },
     "execution_count": 13,
     "metadata": {},
     "output_type": "execute_result"
    }
   ],
   "source": [
    "def get_subclasses(cls):\n",
    "    lst = []\n",
    "    for a in cls.__subclasses__():\n",
    "        lst.append(a)\n",
    "        lst.extend(get_subclasses(a))\n",
    "    return set(lst)\n",
    "        \n",
    "get_subclasses(O)"
   ]
  },
  {
   "cell_type": "code",
   "execution_count": null,
   "metadata": {},
   "outputs": [],
   "source": []
  },
  {
   "cell_type": "code",
   "execution_count": null,
   "metadata": {},
   "outputs": [],
   "source": []
  },
  {
   "cell_type": "code",
   "execution_count": null,
   "metadata": {},
   "outputs": [],
   "source": []
  },
  {
   "cell_type": "markdown",
   "metadata": {},
   "source": [
    "## References"
   ]
  },
  {
   "cell_type": "markdown",
   "metadata": {},
   "source": [
    "- https://en.wikipedia.org/wiki/C3_linearization"
   ]
  }
 ],
 "metadata": {
  "kernelspec": {
   "display_name": "Python 3",
   "language": "python",
   "name": "python3"
  },
  "language_info": {
   "codemirror_mode": {
    "name": "ipython",
    "version": 3
   },
   "file_extension": ".py",
   "mimetype": "text/x-python",
   "name": "python",
   "nbconvert_exporter": "python",
   "pygments_lexer": "ipython3",
   "version": "3.6.1"
  }
 },
 "nbformat": 4,
 "nbformat_minor": 1
}
