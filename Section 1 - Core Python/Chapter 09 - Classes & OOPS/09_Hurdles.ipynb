{
 "cells": [
  {
   "cell_type": "markdown",
   "metadata": {},
   "source": [
    "**Hurdle 1: What will the output of the following program.**"
   ]
  },
  {
   "cell_type": "code",
   "execution_count": 1,
   "metadata": {},
   "outputs": [
    {
     "name": "stdout",
     "output_type": "stream",
     "text": [
      "('A', 'B')\n",
      "('A', 'B')\n"
     ]
    }
   ],
   "source": [
    "class A:\n",
    "    def f(self):\n",
    "        return self.g()\n",
    "\n",
    "    def g(self):\n",
    "        return 'A'\n",
    "\n",
    "class B(A):\n",
    "    def g(self):\n",
    "        return 'B'\n",
    "\n",
    "a = A()\n",
    "b = B()\n",
    "print (a.f(), b.f())\n",
    "print (a.g(), b.g())"
   ]
  },
  {
   "cell_type": "code",
   "execution_count": 2,
   "metadata": {},
   "outputs": [
    {
     "name": "stdout",
     "output_type": "stream",
     "text": [
      "<class '__main__.NewCircle'>\n"
     ]
    }
   ],
   "source": [
    "class Circle(object):\n",
    "    color = \"red\"\n",
    "\n",
    "class NewCircle(Circle):\n",
    "    color = \"blue\"\n",
    "    \n",
    "nc = NewCircle\n",
    "print(nc)"
   ]
  },
  {
   "cell_type": "code",
   "execution_count": 3,
   "metadata": {},
   "outputs": [
    {
     "name": "stdout",
     "output_type": "stream",
     "text": [
      "blue\n"
     ]
    }
   ],
   "source": [
    "print(nc.color)"
   ]
  },
  {
   "cell_type": "code",
   "execution_count": 4,
   "metadata": {},
   "outputs": [
    {
     "name": "stdout",
     "output_type": "stream",
     "text": [
      "51\n"
     ]
    }
   ],
   "source": [
    "class Person:\n",
    "    def __init__(self, id):\n",
    "        self.id = id\n",
    " \n",
    "sam = Person(100)\n",
    " \n",
    "sam.__dict__['age'] = 49\n",
    "print (sam.age + len(sam.__dict__))"
   ]
  },
  {
   "cell_type": "code",
   "execution_count": 2,
   "metadata": {},
   "outputs": [
    {
     "name": "stdout",
     "output_type": "stream",
     "text": [
      "i from A is 90\n"
     ]
    }
   ],
   "source": [
    "class A:\n",
    "    def __init__(self):\n",
    "        self.calc_i(30)\n",
    "        print(\"i from A is\", self.i)\n",
    " \n",
    "    def calc_i(self, i):\n",
    "        self.i = 2 * i;\n",
    " \n",
    "class B(A):\n",
    "    def __init__(self):\n",
    "        super().__init__()\n",
    "        \n",
    "    def calc_i(self, i):\n",
    "        self.i = 3 * i;\n",
    " \n",
    "b = B()"
   ]
  },
  {
   "cell_type": "code",
   "execution_count": null,
   "metadata": {
    "collapsed": true
   },
   "outputs": [],
   "source": []
  },
  {
   "cell_type": "code",
   "execution_count": null,
   "metadata": {
    "collapsed": true
   },
   "outputs": [],
   "source": []
  }
 ],
 "metadata": {
  "kernelspec": {
   "display_name": "Python 3",
   "language": "python",
   "name": "python3"
  },
  "language_info": {
   "codemirror_mode": {
    "name": "ipython",
    "version": 3
   },
   "file_extension": ".py",
   "mimetype": "text/x-python",
   "name": "python",
   "nbconvert_exporter": "python",
   "pygments_lexer": "ipython3",
   "version": "3.6.1"
  }
 },
 "nbformat": 4,
 "nbformat_minor": 2
}
