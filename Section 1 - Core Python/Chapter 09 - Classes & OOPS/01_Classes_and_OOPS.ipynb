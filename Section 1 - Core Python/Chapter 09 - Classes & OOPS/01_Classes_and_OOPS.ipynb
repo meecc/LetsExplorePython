{
 "cells": [
  {
   "cell_type": "markdown",
   "metadata": {},
   "source": [
    "# Modules, Classes, and Objects & OOPS\n",
    "----"
   ]
  },
  {
   "cell_type": "markdown",
   "metadata": {},
   "source": [
    "Python is something called an “object- oriented programming language.” What this means is\n",
    "there’s a construct in Python called a class that lets you structure your software in a particular\n",
    "way. Using classes, you can add consistency to your programs so that they can be used in a cleaner\n",
    "way, or at least that’s the theory.\n",
    "\n",
    "Classes and objects are the two main aspects of object oriented programming. A class creates a new type where objects are instances of the class. An analogy is that you can have variables of type i n t which translates to saying that variables that store integers are variables which are instances (objects) of the int class."
   ]
  },
  {
   "cell_type": "markdown",
   "metadata": {},
   "source": [
    "Objects can store data using ordinary variables that belong to the object. Variables that\n",
    "belong to an object or class are referred to as fields. Objects can also have functionality by\n",
    "using functions that belong to a class. Such functions are called methods of the class. This\n",
    "terminology is important because it helps us to differentiate between functions and\n",
    "variables which are independent and those which belong to a class or object. Collectively,\n",
    "the fields and methods can be referred to as the attributes of that class.\n",
    "\n",
    "Fields are of two types - they can belong to each instance/object of the class or they can\n",
    "belong to the class itself. They are called instance variables and class variables\n",
    "respectively.\n",
    "\n",
    "A class is created using the ***`class`*** keyword. The fields and methods of the class are listed\n",
    "in an indented block."
   ]
  },
  {
   "cell_type": "markdown",
   "metadata": {},
   "source": [
    "## The self"
   ]
  },
  {
   "cell_type": "markdown",
   "metadata": {},
   "source": [
    "Class methods have only one specific difference from ordinary functions - they must have an extra first name that has to be added to the beginning of the parameter list, but you do not give a value for this parameter when you call the method, Python will provide it. This particular variable refers to the object itself, and by convention, it is given the name ***`self`***."
   ]
  },
  {
   "cell_type": "markdown",
   "metadata": {},
   "source": [
    "## Classes"
   ]
  },
  {
   "cell_type": "markdown",
   "metadata": {},
   "source": [
    "A class is merely a container for static data members or function declarations, called a class's attributes. Classes provide something which can be considered a blueprint for creating \"real\" objects, called class instances. Functions which are part of classes are called ***`methods`***.\n",
    "\n",
    "The simplest class possible is shown in the following example."
   ]
  },
  {
   "cell_type": "code",
   "execution_count": 4,
   "metadata": {},
   "outputs": [],
   "source": [
    "# Declare a Class\n",
    "class Class_Name(object):\n",
    "    pass\n",
    "\n",
    "class Class_Name_slow():\n",
    "    pass\n",
    "\n",
    "class Class_Name_for_lazy:\n",
    "    pass\n"
   ]
  },
  {
   "cell_type": "markdown",
   "metadata": {},
   "source": [
    "```python\n",
    "class Class_Name(base_classes_if_any):\n",
    "    \"\"\"optional documentation string\"\"\"\n",
    "\n",
    "    static_member_declarations = 1\n",
    "    \n",
    "    def method_declarations(self):\n",
    "        \"\"\"\n",
    "        documentation\n",
    "        \"\"\"\n",
    "        pass\n",
    "```"
   ]
  },
  {
   "cell_type": "code",
   "execution_count": 6,
   "metadata": {},
   "outputs": [
    {
     "name": "stdout",
     "output_type": "stream",
     "text": [
      "<class '__main__.First'>\n",
      "<class 'type'>\n",
      "<class 'type'>\n"
     ]
    }
   ],
   "source": [
    "# first.py\n",
    "\n",
    "class First:\n",
    "    pass\n",
    "\n",
    "fr = First()\n",
    "print (type(fr))\n",
    "print (type(First))\n",
    "print(type(int))"
   ]
  },
  {
   "cell_type": "code",
   "execution_count": 7,
   "metadata": {},
   "outputs": [
    {
     "name": "stdout",
     "output_type": "stream",
     "text": [
      "<class '__main__.First'>\n",
      "<class 'type'>\n",
      "<class 'type'>\n"
     ]
    }
   ],
   "source": [
    "# first.py\n",
    "\n",
    "class First(object):\n",
    "    pass\n",
    "\n",
    "fr = First()\n",
    "print (type(fr))\n",
    "print (type(First))\n",
    "print(type(int))"
   ]
  },
  {
   "cell_type": "code",
   "execution_count": 8,
   "metadata": {},
   "outputs": [
    {
     "name": "stdout",
     "output_type": "stream",
     "text": [
      "'Second' object has no attribute 'fullname'\n"
     ]
    }
   ],
   "source": [
    "# first.py\n",
    "# Class with it's methods  \n",
    "\n",
    "class Second:\n",
    "    def set_name(self, name):\n",
    "        self.fullname = name\n",
    "        \n",
    "    def get_name(self):\n",
    "        return self.fullname\n",
    "\n",
    "try:\n",
    "    sec = Second()\n",
    "    print(sec.get_name())\n",
    "except Exception as e:\n",
    "    print(e)"
   ]
  },
  {
   "cell_type": "code",
   "execution_count": 9,
   "metadata": {},
   "outputs": [
    {
     "name": "stdout",
     "output_type": "stream",
     "text": [
      "140352966397344\n",
      "140352966397344\n",
      "Manish Gupta\n"
     ]
    }
   ],
   "source": [
    "# first.py\n",
    "\n",
    "class Second:\n",
    "    def set_name(self, name):\n",
    "        print(id(self))\n",
    "        self.fullname = name\n",
    "        \n",
    "    def get_name(self):\n",
    "        return self.fullname\n",
    "\n",
    "sec = Second()\n",
    "print(id(sec))\n",
    "sec.set_name(\"Manish Gupta\")\n",
    "print(sec.get_name())"
   ]
  },
  {
   "cell_type": "markdown",
   "metadata": {},
   "source": [
    "> **NOTE**: both `Second` and `sec` are same object as their id's are same"
   ]
  },
  {
   "cell_type": "code",
   "execution_count": 1,
   "metadata": {},
   "outputs": [
    {
     "name": "stdout",
     "output_type": "stream",
     "text": [
      "Vishal Saxena\n"
     ]
    }
   ],
   "source": [
    "class Second:\n",
    "    def __init__(self, name = \"\"):\n",
    "        self.fullname = name\n",
    "        \n",
    "    def set_name(self, name):\n",
    "        print(id(self))\n",
    "        self.fullname = name\n",
    "        \n",
    "    def get_name(self):\n",
    "        return self.fullname\n",
    "\n",
    "sec = Second(\"Vishal Saxena\")\n",
    "print(sec.get_name())"
   ]
  },
  {
   "cell_type": "code",
   "execution_count": 44,
   "metadata": {},
   "outputs": [
    {
     "name": "stdout",
     "output_type": "stream",
     "text": [
      "Arya\n",
      "35\n"
     ]
    }
   ],
   "source": [
    "# first.py\n",
    "\n",
    "class Second:\n",
    "    def __init__(self, name, age=35):\n",
    "        self.name(name)\n",
    "        self.age = age\n",
    "        \n",
    "    def name(self, new_name):\n",
    "        self.fullname = new_name\n",
    "        \n",
    "    def get_name(self):\n",
    "        return self.fullname\n",
    "\n",
    "sec = Second(\"Arya\")\n",
    "print(sec.get_name())\n",
    "print(sec.age)"
   ]
  },
  {
   "cell_type": "code",
   "execution_count": 11,
   "metadata": {},
   "outputs": [
    {
     "name": "stdout",
     "output_type": "stream",
     "text": [
      "Rajneekanth\n",
      "55\n",
      "['__class__', '__delattr__', '__dict__', '__dir__', '__doc__', '__eq__', '__format__', '__ge__', '__getattribute__', '__gt__', '__hash__', '__init__', '__init_subclass__', '__le__', '__lt__', '__module__', '__ne__', '__new__', '__reduce__', '__reduce_ex__', '__repr__', '__setattr__', '__sizeof__', '__str__', '__subclasshook__', '__weakref__', 'age', 'get_name', 'name']\n"
     ]
    },
    {
     "data": {
      "text/plain": [
       "['__call__',\n",
       " '__class__',\n",
       " '__delattr__',\n",
       " '__dir__',\n",
       " '__doc__',\n",
       " '__eq__',\n",
       " '__format__',\n",
       " '__ge__',\n",
       " '__getattribute__',\n",
       " '__gt__',\n",
       " '__hash__',\n",
       " '__init__',\n",
       " '__init_subclass__',\n",
       " '__le__',\n",
       " '__lt__',\n",
       " '__module__',\n",
       " '__name__',\n",
       " '__ne__',\n",
       " '__new__',\n",
       " '__qualname__',\n",
       " '__reduce__',\n",
       " '__reduce_ex__',\n",
       " '__repr__',\n",
       " '__self__',\n",
       " '__setattr__',\n",
       " '__sizeof__',\n",
       " '__str__',\n",
       " '__subclasshook__',\n",
       " '__text_signature__']"
      ]
     },
     "execution_count": 11,
     "metadata": {},
     "output_type": "execute_result"
    }
   ],
   "source": [
    "class Second:\n",
    "    def __init__(self, name, age=55):\n",
    "        self.name(name)\n",
    "        self.age = age\n",
    "        \n",
    "    def name(self, name):\n",
    "        self.name = name\n",
    "        \n",
    "    def get_name(self):\n",
    "        return self.name\n",
    "\n",
    "sec = Second(\"Rajneekanth\")\n",
    "print(sec.get_name())\n",
    "print(sec.age)\n",
    "print(dir(sec))\n",
    "dir(sec.__dir__)"
   ]
  },
  {
   "cell_type": "code",
   "execution_count": 18,
   "metadata": {},
   "outputs": [
    {
     "name": "stdout",
     "output_type": "stream",
     "text": [
      "['__class__', '__delattr__', '__dict__', '__dir__', '__doc__', '__eq__', '__format__', '__ge__', '__getattribute__', '__gt__', '__hash__', '__init__', '__init_subclass__', '__le__', '__lt__', '__module__', '__ne__', '__new__', '__reduce__', '__reduce_ex__', '__repr__', '__setattr__', '__sizeof__', '__str__', '__subclasshook__', '__weakref__', 'age', 'fullname', 'get_name', 'name']\n",
      "Mayank Johri\n",
      "140097808551344\n",
      "140097808551344\n"
     ]
    }
   ],
   "source": [
    "# first.py\n",
    "\n",
    "class Second:\n",
    "    fullname = \"Mayank Johri\"\n",
    "    age = 33\n",
    "        \n",
    "    def name(self, name):\n",
    "        self.fullname = name\n",
    "        \n",
    "    def get_name(self):\n",
    "        return self.fullname\n",
    "\n",
    "sec = Second()\n",
    "print(dir(sec))\n",
    "print(sec.get_name())\n",
    "print(id(sec.fullname))\n",
    "sec2 = Second()\n",
    "print(id(sec2.fullname))"
   ]
  },
  {
   "cell_type": "code",
   "execution_count": 20,
   "metadata": {},
   "outputs": [],
   "source": [
    "# first.py\n",
    "\n",
    "class Second:\n",
    "    fullname = \"Ram Setu\"\n",
    "    age = 33\n",
    "        \n",
    "    def name(self, name):\n",
    "        self.fullname = name\n",
    "        \n",
    "    def get_name(self):\n",
    "        return self.fullname"
   ]
  },
  {
   "cell_type": "code",
   "execution_count": 21,
   "metadata": {},
   "outputs": [],
   "source": [
    "rs_1 = Second()\n",
    "rs_2 = Second()"
   ]
  },
  {
   "cell_type": "code",
   "execution_count": 25,
   "metadata": {},
   "outputs": [
    {
     "name": "stdout",
     "output_type": "stream",
     "text": [
      "True\n",
      "True\n"
     ]
    }
   ],
   "source": [
    "print(rs_1.fullname == rs_2.fullname)\n",
    "print(id(rs_1.fullname) == id(rs_2.fullname))"
   ]
  },
  {
   "cell_type": "code",
   "execution_count": 26,
   "metadata": {},
   "outputs": [],
   "source": [
    "rs_1.name(\"ram setu\")"
   ]
  },
  {
   "cell_type": "code",
   "execution_count": 27,
   "metadata": {},
   "outputs": [
    {
     "name": "stdout",
     "output_type": "stream",
     "text": [
      "False\n",
      "False\n"
     ]
    }
   ],
   "source": [
    "print(rs_1.fullname == rs_2.fullname)\n",
    "print(id(rs_1.fullname) == id(rs_2.fullname))"
   ]
  },
  {
   "cell_type": "code",
   "execution_count": 40,
   "metadata": {},
   "outputs": [
    {
     "name": "stdout",
     "output_type": "stream",
     "text": [
      "['Mayank', 'Johri', 'ram setu']  -  ['Mayank', 'Johri', 'ram setu']\n"
     ]
    }
   ],
   "source": [
    "print(rs_1.fullname, \" - \", rs_2.fullname)"
   ]
  },
  {
   "cell_type": "markdown",
   "metadata": {},
   "source": [
    "- The magic of `mutables`"
   ]
  },
  {
   "cell_type": "code",
   "execution_count": 34,
   "metadata": {},
   "outputs": [],
   "source": [
    "class Bridge:\n",
    "    fullname = [\"Mayank\", \"Johri\"]\n",
    "    age = 33\n",
    "        \n",
    "    def name(self, name):\n",
    "        self.fullname.append(name)\n",
    "        \n",
    "    def get_name(self):\n",
    "        return self.fullname"
   ]
  },
  {
   "cell_type": "code",
   "execution_count": 35,
   "metadata": {},
   "outputs": [],
   "source": [
    "rs_1 = Bridge()\n",
    "rs_2 = Bridge()"
   ]
  },
  {
   "cell_type": "code",
   "execution_count": 36,
   "metadata": {},
   "outputs": [
    {
     "name": "stdout",
     "output_type": "stream",
     "text": [
      "True\n",
      "True\n"
     ]
    }
   ],
   "source": [
    "print(rs_1.fullname == rs_2.fullname)\n",
    "print(id(rs_1.fullname) == id(rs_2.fullname))"
   ]
  },
  {
   "cell_type": "code",
   "execution_count": 37,
   "metadata": {},
   "outputs": [],
   "source": [
    "rs_1.name(\"ram setu\")"
   ]
  },
  {
   "cell_type": "code",
   "execution_count": 38,
   "metadata": {},
   "outputs": [
    {
     "name": "stdout",
     "output_type": "stream",
     "text": [
      "True\n",
      "True\n"
     ]
    }
   ],
   "source": [
    "print(rs_1.fullname == rs_2.fullname)\n",
    "print(id(rs_1.fullname) == id(rs_2.fullname))"
   ]
  },
  {
   "cell_type": "code",
   "execution_count": 39,
   "metadata": {},
   "outputs": [
    {
     "name": "stdout",
     "output_type": "stream",
     "text": [
      "['Mayank', 'Johri', 'ram setu']  -  ['Mayank', 'Johri', 'ram setu']\n"
     ]
    }
   ],
   "source": [
    "print(rs_1.fullname, \" - \", rs_2.fullname)"
   ]
  },
  {
   "cell_type": "code",
   "execution_count": null,
   "metadata": {},
   "outputs": [],
   "source": []
  },
  {
   "cell_type": "code",
   "execution_count": 37,
   "metadata": {},
   "outputs": [
    {
     "name": "stdout",
     "output_type": "stream",
     "text": [
      "Your name is:  Arya\n",
      "My name is:  <class '__main__.FooClass'>\n",
      "Your name is:  John Doe\n",
      "My name is:  <class '__main__.FooClass'>\n"
     ]
    }
   ],
   "source": [
    "# Example\n",
    "class FooClass:\n",
    "    \"\"\"my very first class: FooClass\"\"\"\n",
    "    __version = 0.11 # class (data) attribute\n",
    "    ver = 0.1\n",
    "    \n",
    "    def __init__(self, nm='John Doe'):\n",
    "        'constructor'\n",
    "        self.name = nm # class instance (data) attribute\n",
    "    \n",
    "    def showName(self):\n",
    "        'display instance attribute and class name'\n",
    "        print ('Your name is: ', self.name)\n",
    "        print( 'My name is: ', self.__class__ )# full class name\n",
    "\n",
    "    def showVersion(self):\n",
    "        'display class(static) attribute'\n",
    "        print( self.__version )# references FooClass.version\n",
    "    \n",
    "    def showVer(self):\n",
    "        'display class(static) attribute'\n",
    "        print( self.ver )# references FooClass.version \n",
    "    \n",
    "    def setVersion(self, ver):\n",
    "        'display class(static) attribute'\n",
    "        self.__version = ver\n",
    "        print( self.__version )# references FooClass.version  \n",
    "\n",
    "        \n",
    "# Create Class Instances\n",
    "foo = FooClass()\n",
    "arya = FooClass(\"Arya\")\n",
    "arya.showName()\n",
    "# Calling class methods\n",
    "foo.showName()"
   ]
  },
  {
   "cell_type": "code",
   "execution_count": 38,
   "metadata": {},
   "outputs": [
    {
     "name": "stdout",
     "output_type": "stream",
     "text": [
      "0.1\n",
      "0.1\n"
     ]
    }
   ],
   "source": [
    "# print(foo.showName())\n",
    "foo.showVer()\n",
    "arya.showVer()"
   ]
  },
  {
   "cell_type": "code",
   "execution_count": 39,
   "metadata": {},
   "outputs": [
    {
     "name": "stdout",
     "output_type": "stream",
     "text": [
      "139688258419928\n",
      "139688258419928\n"
     ]
    }
   ],
   "source": [
    "print(id(foo.ver))\n",
    "print(id(arya.ver))"
   ]
  },
  {
   "cell_type": "code",
   "execution_count": 40,
   "metadata": {},
   "outputs": [
    {
     "name": "stdout",
     "output_type": "stream",
     "text": [
      "0.1\n",
      "10\n"
     ]
    }
   ],
   "source": [
    "print(foo.ver)\n",
    "foo.setVersion(10)  # __version\n",
    "foo.ver = 2020202   # ver"
   ]
  },
  {
   "cell_type": "code",
   "execution_count": 41,
   "metadata": {},
   "outputs": [
    {
     "name": "stdout",
     "output_type": "stream",
     "text": [
      "2020202\n",
      "0.1\n"
     ]
    }
   ],
   "source": [
    "foo.showVer()\n",
    "arya.showVer()"
   ]
  },
  {
   "cell_type": "code",
   "execution_count": 42,
   "metadata": {},
   "outputs": [
    {
     "data": {
      "text/plain": [
       "'John Doe'"
      ]
     },
     "execution_count": 42,
     "metadata": {},
     "output_type": "execute_result"
    }
   ],
   "source": [
    "foo.name"
   ]
  },
  {
   "cell_type": "code",
   "execution_count": 29,
   "metadata": {},
   "outputs": [
    {
     "data": {
      "text/plain": [
       "'Anamika Johri'"
      ]
     },
     "execution_count": 29,
     "metadata": {},
     "output_type": "execute_result"
    }
   ],
   "source": [
    "foo.name = \"Anamika Johri\"\n",
    "foo.name"
   ]
  },
  {
   "cell_type": "code",
   "execution_count": 30,
   "metadata": {},
   "outputs": [
    {
     "name": "stdout",
     "output_type": "stream",
     "text": [
      "2020202\n",
      "2020202\n",
      "--------------------\n",
      "0.1\n",
      "None\n"
     ]
    }
   ],
   "source": [
    "foo.showVer()\n",
    "print(foo.ver)\n",
    "print(\"-\"*20)\n",
    "print(arya.showVer())\n",
    "\n",
    "# print(FooClass.__version)"
   ]
  },
  {
   "cell_type": "code",
   "execution_count": 43,
   "metadata": {},
   "outputs": [
    {
     "name": "stdout",
     "output_type": "stream",
     "text": [
      "'FooClass' object has no attribute '__version'\n"
     ]
    }
   ],
   "source": [
    "try:\n",
    "    print(foo.__version)\n",
    "except Exception as e:\n",
    "    print(e)"
   ]
  },
  {
   "cell_type": "code",
   "execution_count": 8,
   "metadata": {},
   "outputs": [
    {
     "name": "stdout",
     "output_type": "stream",
     "text": [
      "Created a class instance for:  John Doe\n",
      "Created a class instance for:  Arya Doe\n",
      "Created a class instance for:  John Gupta\n",
      "Your name is:  Arya Doe\n",
      "My name is:  <class '__main__.User'>\n",
      "None\n"
     ]
    }
   ],
   "source": [
    "# Example\n",
    "class User:\n",
    "    \"\"\"my very first class: FooClass\"\"\"\n",
    "    __version = 0.11 # class (data) attribute\n",
    "    ver = 0.1\n",
    "    \n",
    "    def __init__(self, firstname='John', surname=\"Doe\"):\n",
    "        'constructor'\n",
    "        self.name = firstname + \" \" + surname \n",
    "        print ('Created a class instance for: ', self.name)\n",
    "    \n",
    "    def showName(self):\n",
    "        'display instance attribute and class name'\n",
    "        print ('Your name is: ', self.name)\n",
    "        print( 'My name is: ', self.__class__ )# full class name\n",
    "\n",
    "    def showVersion(self):\n",
    "        'display class(static) attribute'\n",
    "        print( self.__version )# references FooClass.version\n",
    "    \n",
    "    def showVer(self):\n",
    "        'display class(static) attribute'\n",
    "        print( self.ver )# references FooClass.version \n",
    "    \n",
    "    def setVersion(self, ver):\n",
    "        'display class(static) attribute'\n",
    "        self.__version = ver\n",
    "        print( self.__version )# references FooClass.version  \n",
    "\n",
    "# Create Class Instances\n",
    "user = User()\n",
    "arya = User(\"Arya\")\n",
    "gupta = User(surname=\"Gupta\")\n",
    "print(arya.showName())"
   ]
  },
  {
   "cell_type": "code",
   "execution_count": 49,
   "metadata": {},
   "outputs": [],
   "source": [
    "# Example\n",
    "class User:\n",
    "    \"\"\"my very first class: FooClass\"\"\"\n",
    "    __version = 0.11 # class (data) attribute\n",
    "    ver = 0.1\n",
    "    \n",
    "    def __init__(self, firstname, surname):\n",
    "        'constructor'\n",
    "        self.name = firstname + \" \" + surname \n",
    "        print ('Created a class instance for: ', self.name)\n",
    "    \n",
    "    # full class name\n",
    "    def showName(self):\n",
    "        'display instance attribute and class name'\n",
    "        print ('Your name is: ', self.name)\n",
    "        print( 'My name is: ', self.__class__ )\n",
    "\n",
    "    def showVersion(self):\n",
    "        'display class(static) attribute'\n",
    "        print( self.__version )# references FooClass.version\n",
    "    \n",
    "    def showVer(self):\n",
    "        'display class(static) attribute'\n",
    "        print( self.ver )# references FooClass.version \n",
    "    \n",
    "    def setVersion(self, ver):\n",
    "        'display class(static) attribute'\n",
    "        self.__version = ver\n",
    "        print( self.__version )# references FooClass.version  \n"
   ]
  },
  {
   "cell_type": "code",
   "execution_count": 51,
   "metadata": {},
   "outputs": [
    {
     "name": "stdout",
     "output_type": "stream",
     "text": [
      "__init__() missing 2 required positional arguments: 'firstname' and 'surname'\n"
     ]
    }
   ],
   "source": [
    "# Create Class Instances\n",
    "try:\n",
    "    user = User()\n",
    "    arya = User(\"Arya\")\n",
    "    gupta = User(surname=\"Gupta\")\n",
    "    gupta = User(surname=\"Gupta\", firstname=\"Manish\")\n",
    "    arya.showName()\n",
    "except Exception as e:\n",
    "    print(e)"
   ]
  },
  {
   "cell_type": "markdown",
   "metadata": {},
   "source": [
    "So, we can't have any object creation with lesser than two parameters. Lets comment out the first three object creation code and try again"
   ]
  },
  {
   "cell_type": "code",
   "execution_count": 52,
   "metadata": {},
   "outputs": [
    {
     "name": "stdout",
     "output_type": "stream",
     "text": [
      "Created a class instance for:  Manish Gupta\n",
      "Your name is:  Arya\n",
      "My name is:  <class '__main__.FooClass'>\n"
     ]
    }
   ],
   "source": [
    "# Create Class Instances\n",
    "try:\n",
    "#     user = User()\n",
    "#     arya = User(\"Arya\")\n",
    "#     gupta = User(surname=\"Gupta\")\n",
    "    gupta = User(surname=\"Gupta\", firstname=\"Manish\")\n",
    "    arya.showName()\n",
    "except Exception as e:\n",
    "    print(e)"
   ]
  },
  {
   "cell_type": "code",
   "execution_count": 14,
   "metadata": {},
   "outputs": [],
   "source": [
    "class PrivateVariables():\n",
    "    __version = 1.0\n",
    "    _vers = 11.0\n",
    "    ver = 10.0\n",
    "    \n",
    "    def show_version(self):\n",
    "        return(self.__version)\n",
    "    \n",
    "    def show_vers(self):\n",
    "        print(self._vers)"
   ]
  },
  {
   "cell_type": "code",
   "execution_count": 15,
   "metadata": {},
   "outputs": [
    {
     "name": "stdout",
     "output_type": "stream",
     "text": [
      "10.0\n",
      "11.0\n",
      "111\n",
      "1000\n",
      "1.0\n"
     ]
    }
   ],
   "source": [
    "pv = PrivateVariables()\n",
    "print(pv.ver)\n",
    "print(pv._vers)\n",
    "# print(pv.__version)\n",
    "\n",
    "pv.ver = 111\n",
    "print(pv.ver)\n",
    "pv._vers = 1000\n",
    "print(pv._vers)   # Convension only \n",
    "print(pv.show_version())"
   ]
  },
  {
   "cell_type": "code",
   "execution_count": 17,
   "metadata": {},
   "outputs": [
    {
     "name": "stdout",
     "output_type": "stream",
     "text": [
      "['_PrivateVariables__version', '__class__', '__delattr__', '__dict__', '__dir__', '__doc__', '__eq__', '__format__', '__ge__', '__getattribute__', '__gt__', '__hash__', '__init__', '__init_subclass__', '__le__', '__lt__', '__module__', '__ne__', '__new__', '__reduce__', '__reduce_ex__', '__repr__', '__setattr__', '__sizeof__', '__str__', '__subclasshook__', '__weakref__', '_vers', 'show_vers', 'show_version', 'ver']\n"
     ]
    }
   ],
   "source": [
    "print(dir(pv))"
   ]
  },
  {
   "cell_type": "code",
   "execution_count": 21,
   "metadata": {},
   "outputs": [
    {
     "name": "stdout",
     "output_type": "stream",
     "text": [
      "{'ver': 111, '_vers': 1000}\n"
     ]
    }
   ],
   "source": [
    "print(pv.__dict__)"
   ]
  },
  {
   "cell_type": "code",
   "execution_count": 32,
   "metadata": {},
   "outputs": [
    {
     "name": "stdout",
     "output_type": "stream",
     "text": [
      "default value\n"
     ]
    }
   ],
   "source": [
    "print(pv.__dict__.get('__version', \"default value\"))"
   ]
  },
  {
   "cell_type": "code",
   "execution_count": 33,
   "metadata": {},
   "outputs": [
    {
     "name": "stdout",
     "output_type": "stream",
     "text": [
      "111\n"
     ]
    }
   ],
   "source": [
    "print(pv.__dict__.get('ver'))"
   ]
  },
  {
   "cell_type": "code",
   "execution_count": 35,
   "metadata": {},
   "outputs": [
    {
     "name": "stdout",
     "output_type": "stream",
     "text": [
      "1010\n"
     ]
    }
   ],
   "source": [
    "pv.__dict__['ver'] = 1010\n",
    "print(pv.__dict__.get('ver'))"
   ]
  },
  {
   "cell_type": "code",
   "execution_count": 39,
   "metadata": {
    "scrolled": true
   },
   "outputs": [
    {
     "name": "stdout",
     "output_type": "stream",
     "text": [
      "'PrivateVariables' object has no attribute '__version'\n"
     ]
    }
   ],
   "source": [
    "try:\n",
    "    print(pv.__version)\n",
    "except Exception as e:\n",
    "    print(e)"
   ]
  },
  {
   "cell_type": "markdown",
   "metadata": {
    "collapsed": true
   },
   "source": [
    "### static / class variables "
   ]
  },
  {
   "cell_type": "markdown",
   "metadata": {},
   "source": [
    "** Reference:** \n",
    "[https://stackoverflow.com/questions/68645/are-static-class-variables-possible](https://stackoverflow.com/questions/68645/are-static-class-variables-possible)."
   ]
  },
  {
   "cell_type": "markdown",
   "metadata": {},
   "source": [
    "`Static variables` are variables **declared inside the class definition**, and not inside a _method_ are **class** or **static** variables.\n",
    "\n",
    "But before you go all, _Yahooooo..._ about understanding of `static variables`. Please note that the implementation of static variables in python are different from Java/C++, they are unique in many ways. \n",
    "\n",
    "Lets understand them a little using the following code"
   ]
  },
  {
   "cell_type": "code",
   "execution_count": 18,
   "metadata": {},
   "outputs": [],
   "source": [
    "class Static_Test(object):\n",
    "    val = \"Rajeev Chaturvedi\""
   ]
  },
  {
   "cell_type": "code",
   "execution_count": 19,
   "metadata": {},
   "outputs": [],
   "source": [
    "s = Static_Test()"
   ]
  },
  {
   "cell_type": "code",
   "execution_count": 20,
   "metadata": {},
   "outputs": [
    {
     "name": "stdout",
     "output_type": "stream",
     "text": [
      "Rajeev Chaturvedi \b, 140463287387960\n",
      "Rajeev Chaturvedi \b, 140463287387960\n"
     ]
    }
   ],
   "source": [
    "print(s.val,\"\\b,\", id(s.val))\n",
    "print(Static_Test.val, \"\\b,\", id(Static_Test.val))"
   ]
  },
  {
   "cell_type": "markdown",
   "metadata": {},
   "source": [
    "So far so good, val & id of val from both the `instance` and `class` _seems_ to be same, thus they are pointing to same memory location which contains the value.\n",
    "Now lets try to update it in class"
   ]
  },
  {
   "cell_type": "code",
   "execution_count": 22,
   "metadata": {},
   "outputs": [],
   "source": [
    "Static_Test.val = \"राजीव चतुर्वेदी\""
   ]
  },
  {
   "cell_type": "code",
   "execution_count": 25,
   "metadata": {},
   "outputs": [
    {
     "name": "stdout",
     "output_type": "stream",
     "text": [
      "राजीव चतुर्वेदी \b, 140463287335304\n",
      "राजीव चतुर्वेदी \b, 140463287335304\n",
      "राजीव चतुर्वेदी \b, 140463287335304\n"
     ]
    }
   ],
   "source": [
    "print(s.val,\"\\b,\", id(s.val))\n",
    "print(Static_Test.val, \"\\b,\", id(Static_Test.val))\n",
    "s_new = Static_Test()\n",
    "print(s_new.val,\"\\b,\", id(s.val))"
   ]
  },
  {
   "cell_type": "markdown",
   "metadata": {},
   "source": [
    "So, if we update values at class level, than they are getting reflected in all the instances as well. Now lets try to update its value in an instance and check its effect"
   ]
  },
  {
   "cell_type": "code",
   "execution_count": 27,
   "metadata": {},
   "outputs": [
    {
     "name": "stdout",
     "output_type": "stream",
     "text": [
      "Sachin \b, 140463287695320\n",
      "राजीव चतुर्वेदी \b, 140463287335304\n",
      "राजीव चतुर्वेदी \b, 140463287695320\n"
     ]
    }
   ],
   "source": [
    "s.val = \"Sachin\"\n",
    "print(s.val,\"\\b,\", id(s.val))\n",
    "print(Static_Test.val, \"\\b,\", id(Static_Test.val))\n",
    "s_new = Static_Test()\n",
    "print(s_new.val,\"\\b,\", id(s.val))"
   ]
  },
  {
   "cell_type": "markdown",
   "metadata": {},
   "source": [
    "Once, instance value has been changed then it remain changed and cannot be reverted by changing `class` variable value as shown in the below code"
   ]
  },
  {
   "cell_type": "code",
   "execution_count": 29,
   "metadata": {},
   "outputs": [
    {
     "name": "stdout",
     "output_type": "stream",
     "text": [
      "Sachin \b, 140463287695320\n",
      "Sachin Shah \b, 140463287378800\n",
      "Sachin Shah \b, 140463287695320\n"
     ]
    }
   ],
   "source": [
    "Static_Test.val = \"Sachin Shah\"\n",
    "print(s.val,\"\\b,\", id(s.val))\n",
    "print(Static_Test.val, \"\\b,\", id(Static_Test.val))\n",
    "s_new = Static_Test()\n",
    "print(s_new.val,\"\\b,\", id(s.val))"
   ]
  },
  {
   "cell_type": "markdown",
   "metadata": {},
   "source": [
    "### Static and Class Methods"
   ]
  },
  {
   "cell_type": "markdown",
   "metadata": {},
   "source": [
    "Python provides decorators `@classmethod` & `@staticmethod` "
   ]
  },
  {
   "cell_type": "markdown",
   "metadata": {},
   "source": [
    "#### `@staticmethod`"
   ]
  },
  {
   "cell_type": "markdown",
   "metadata": {},
   "source": [
    "A `static` method does not receive an implicit first argument (`self` or `cls`). To declare a `static` method decorator `staticmethod` is used as shown in the below example"
   ]
  },
  {
   "cell_type": "code",
   "execution_count": 2,
   "metadata": {},
   "outputs": [
    {
     "name": "stdout",
     "output_type": "stream",
     "text": [
      "name 'PI' is not defined\n",
      "0\n"
     ]
    }
   ],
   "source": [
    "class Circle(object):\n",
    "    PI = 3.14\n",
    "    @staticmethod\n",
    "    def area_circle(radius):\n",
    "        area = 0\n",
    "        try:\n",
    "            area = PI * radius * radius\n",
    "        except Exception as e:\n",
    "            print(e)\n",
    "        return area\n",
    "\n",
    "c = Circle()\n",
    "print(c.area_circle(10))"
   ]
  },
  {
   "cell_type": "markdown",
   "metadata": {},
   "source": [
    "As shown in the above example, static methods do not have access to any class or instance attributes. We tried to access class attribute `PI` and received error message that variable not defined.\n",
    "\n",
    "Static methods for all intent and purpose act as normal function, but are called from within an `object` or `class`."
   ]
  },
  {
   "cell_type": "markdown",
   "metadata": {},
   "source": [
    "Static methods similar to class methods are bound to a `class` instead of its object, thus do not require a class instance creation and thus are not dependent on the state of the object.\n",
    "\n",
    "Still there are few noticible differences between a static method and a class method, few of them are as follows:\n",
    "\n",
    "- Static method are isolated from its class/object and have access only to the parameters passed to it.\n",
    "- Class method works with the class since its parameter is always the class itself."
   ]
  },
  {
   "cell_type": "markdown",
   "metadata": {},
   "source": [
    "#### When do you use static method"
   ]
  },
  {
   "cell_type": "markdown",
   "metadata": {},
   "source": [
    "So, if they do not have access to the class, then why are they created. We will try to understand the logic of why they should be created."
   ]
  },
  {
   "cell_type": "markdown",
   "metadata": {},
   "source": [
    "#####  Grouping utility function to a class"
   ]
  },
  {
   "cell_type": "code",
   "execution_count": null,
   "metadata": {},
   "outputs": [],
   "source": [
    "Many times, we have to "
   ]
  },
  {
   "cell_type": "code",
   "execution_count": null,
   "metadata": {},
   "outputs": [],
   "source": []
  },
  {
   "cell_type": "markdown",
   "metadata": {},
   "source": [
    "##### Having a single implementation"
   ]
  },
  {
   "cell_type": "code",
   "execution_count": null,
   "metadata": {},
   "outputs": [],
   "source": []
  },
  {
   "cell_type": "markdown",
   "metadata": {},
   "source": [
    "## Magic Methods"
   ]
  },
  {
   "cell_type": "markdown",
   "metadata": {},
   "source": [
    "### `__str__`"
   ]
  },
  {
   "cell_type": "code",
   "execution_count": null,
   "metadata": {},
   "outputs": [],
   "source": []
  },
  {
   "cell_type": "markdown",
   "metadata": {},
   "source": [
    "### `__str__` vs `__repr__`"
   ]
  },
  {
   "cell_type": "code",
   "execution_count": null,
   "metadata": {},
   "outputs": [],
   "source": []
  },
  {
   "cell_type": "markdown",
   "metadata": {},
   "source": [
    "### `__class__`"
   ]
  },
  {
   "cell_type": "code",
   "execution_count": null,
   "metadata": {},
   "outputs": [],
   "source": []
  },
  {
   "cell_type": "markdown",
   "metadata": {},
   "source": [
    "### `__name__`"
   ]
  },
  {
   "cell_type": "code",
   "execution_count": null,
   "metadata": {},
   "outputs": [],
   "source": []
  },
  {
   "cell_type": "markdown",
   "metadata": {},
   "source": [
    "### `__getattribute__`"
   ]
  },
  {
   "cell_type": "code",
   "execution_count": null,
   "metadata": {},
   "outputs": [],
   "source": []
  },
  {
   "cell_type": "markdown",
   "metadata": {},
   "source": [
    "### `__dict__`"
   ]
  },
  {
   "cell_type": "code",
   "execution_count": null,
   "metadata": {},
   "outputs": [],
   "source": []
  },
  {
   "cell_type": "markdown",
   "metadata": {},
   "source": [
    "### `__call__`"
   ]
  },
  {
   "cell_type": "code",
   "execution_count": null,
   "metadata": {},
   "outputs": [],
   "source": []
  },
  {
   "cell_type": "code",
   "execution_count": null,
   "metadata": {},
   "outputs": [],
   "source": []
  },
  {
   "cell_type": "code",
   "execution_count": null,
   "metadata": {},
   "outputs": [],
   "source": []
  },
  {
   "cell_type": "code",
   "execution_count": null,
   "metadata": {},
   "outputs": [],
   "source": []
  },
  {
   "cell_type": "code",
   "execution_count": null,
   "metadata": {},
   "outputs": [],
   "source": []
  },
  {
   "cell_type": "markdown",
   "metadata": {},
   "source": [
    "## attributes\n",
    "In Python, attribute is everything, contained inside an object. In Python there is no real distinction between plain data and functions, being both objects.\n",
    "\n",
    "The following example represents a book with a title and an author. It also provides a `get_entry()` method which returns a string representation of the book."
   ]
  },
  {
   "cell_type": "code",
   "execution_count": 43,
   "metadata": {},
   "outputs": [],
   "source": [
    "class Book:\n",
    "    def __init__(self, title, author):\n",
    "        self.title = title\n",
    "        self.author = author\n",
    "\n",
    "    def get_entry(self):\n",
    "        return f\"{self.title} by {self.author}\""
   ]
  },
  {
   "cell_type": "markdown",
   "metadata": {},
   "source": [
    "Every instance of this class will contain three attributes, namely `title, author`, and `get_entry`, in addition to the standard attributes provided by the object ancestor."
   ]
  },
  {
   "cell_type": "code",
   "execution_count": 44,
   "metadata": {},
   "outputs": [],
   "source": [
    "b = Book(title=\"Akme\", author=\"Mayank\")"
   ]
  },
  {
   "cell_type": "code",
   "execution_count": 45,
   "metadata": {},
   "outputs": [
    {
     "name": "stdout",
     "output_type": "stream",
     "text": [
      "['__class__', '__delattr__', '__dict__', '__dir__', '__doc__', '__eq__', '__format__', '__ge__', '__getattribute__', '__gt__', '__hash__', '__init__', '__init_subclass__', '__le__', '__lt__', '__module__', '__ne__', '__new__', '__reduce__', '__reduce_ex__', '__repr__', '__setattr__', '__sizeof__', '__str__', '__subclasshook__', '__weakref__', 'author', 'get_entry', 'title']\n"
     ]
    }
   ],
   "source": [
    "print(dir(b))"
   ]
  },
  {
   "cell_type": "code",
   "execution_count": 46,
   "metadata": {},
   "outputs": [
    {
     "name": "stdout",
     "output_type": "stream",
     "text": [
      "Akme\n",
      "Lets Go\n",
      "Lets Go by Mayank\n"
     ]
    }
   ],
   "source": [
    "print(b.title)\n",
    "b.title = \"Lets Go\"\n",
    "print(b.title)\n",
    "print(b.get_entry())"
   ]
  },
  {
   "cell_type": "code",
   "execution_count": 4,
   "metadata": {},
   "outputs": [
    {
     "name": "stdout",
     "output_type": "stream",
     "text": [
      "<bound method Book.get_entry of <__main__.Book object at 0x0000013DDBEB6DA0>>\n",
      "Lets Go by Mayank\n",
      "<class 'dict'>\n",
      "{'title': 'Lets Go', 'author': 'Mayank'}\n"
     ]
    }
   ],
   "source": [
    "data = b.get_entry\n",
    "print(data)\n",
    "print(data())\n",
    "print(type(b.__dict__))\n",
    "print(b.__dict__)\n",
    "#print(b.nonExistAttribute())"
   ]
  },
  {
   "cell_type": "code",
   "execution_count": 5,
   "metadata": {},
   "outputs": [
    {
     "name": "stdout",
     "output_type": "stream",
     "text": [
      "Lets Go by Mayank\n"
     ]
    }
   ],
   "source": [
    "def testtest(func):\n",
    "    print(func())\n",
    "\n",
    "testtest(data)"
   ]
  },
  {
   "cell_type": "markdown",
   "metadata": {},
   "source": [
    "Instead of using the normal statements to access attributes, you can use the following functions −\n",
    "\n",
    "`getattr`\n",
    ": to access the attribute of the object\n",
    "\n",
    "The `getattr(obj, name[, default]) `\n",
    ": to access the attribute of object.\n",
    "    \n",
    "The `hasattr(obj,name) `\n",
    ": to check if an attribute exists or not.\n",
    "\n",
    "The `setattr(obj,name,value) `\n",
    "    : to set an attribute. If attribute does not exist, then it would be created.\n",
    "\n",
    "The `delattr(obj, name)`\n",
    "    : to delete an attribute."
   ]
  },
  {
   "cell_type": "markdown",
   "metadata": {},
   "source": [
    "## Properties\n",
    "Sometimes you want to have an attribute whose value comes from other attributes or, in general, which value shall be computed at the moment. The standard way to deal with this situation is to create a method, called getter, just like I did with get_entry().\n",
    "\n",
    "In Python you can \"mask\" the method, aliasing it with a data attribute, which in this case is called __***`property`***__."
   ]
  },
  {
   "cell_type": "code",
   "execution_count": 23,
   "metadata": {},
   "outputs": [
    {
     "name": "stdout",
     "output_type": "stream",
     "text": [
      "Pawn of Prophecy by David Eddings\n"
     ]
    }
   ],
   "source": [
    "class Book(object):\n",
    "    def __init__(self, title, author):\n",
    "        self.title = title\n",
    "        self.author = author\n",
    "\n",
    "    def get_entry(self):\n",
    "        return \"{0} by {1}\".format(self.title, self.author)\n",
    "\n",
    "    entry = property(get_entry)\n",
    "\n",
    "b = Book(title=\"Pawn of Prophecy\", author=\"David Eddings\")\n",
    "print(b.entry)"
   ]
  },
  {
   "cell_type": "markdown",
   "metadata": {},
   "source": [
    "Properties allow to specify also a write method (a setter), that is automatically called when you try to change the value of the property itself."
   ]
  },
  {
   "cell_type": "markdown",
   "metadata": {
    "collapsed": true
   },
   "source": [
    "> NOTE: \n",
    "\n",
    ">    Don't Worry to much about properties, we have entire chapter dedicated for it. "
   ]
  },
  {
   "cell_type": "code",
   "execution_count": 11,
   "metadata": {},
   "outputs": [
    {
     "name": "stdout",
     "output_type": "stream",
     "text": [
      "Users full name is: Roshan Musheer\n",
      "Users full name is: Shaeel Parez\n"
     ]
    }
   ],
   "source": [
    "class User():\n",
    "    def __init__(self, name):\n",
    "        self.name = name\n",
    "    \n",
    "    def getname(self):\n",
    "        return \"User's full name is: {0}\".format(self.name) \n",
    "    \n",
    "    def setname(self, name):\n",
    "        self.name = name\n",
    "        \n",
    "    fullname = property(getname, setname)\n",
    "    \n",
    "user = User(\"Roshan Musheer\")\n",
    "print(user.fullname)\n",
    "user.fullname = \"Shaeel Parez\"\n",
    "print(user.fullname)\n",
    "# print(x)\n",
    "# print(p.name)"
   ]
  },
  {
   "cell_type": "code",
   "execution_count": null,
   "metadata": {
    "collapsed": true
   },
   "outputs": [],
   "source": []
  },
  {
   "cell_type": "code",
   "execution_count": 16,
   "metadata": {},
   "outputs": [
    {
     "name": "stdout",
     "output_type": "stream",
     "text": [
      "Mayank\n"
     ]
    }
   ],
   "source": [
    "class TestSetter():\n",
    "    def setter(self, name):\n",
    "        self.name = name\n",
    "    myname = property(fset=setter)\n",
    "    \n",
    "ts = TestSetter()\n",
    "\n",
    "ts.myname = \"Mayank\"\n",
    "print(ts.name)"
   ]
  },
  {
   "cell_type": "code",
   "execution_count": 28,
   "metadata": {},
   "outputs": [
    {
     "name": "stdout",
     "output_type": "stream",
     "text": [
      "5\n"
     ]
    }
   ],
   "source": [
    "class A:\n",
    "    def get_x(self, neg=False):\n",
    "        return -5 if neg else 5\n",
    "    x = property(get_x)\n",
    "    \n",
    "a = A()\n",
    "print(a.x)"
   ]
  },
  {
   "cell_type": "code",
   "execution_count": 30,
   "metadata": {},
   "outputs": [],
   "source": [
    "class Book(object):\n",
    "    def __init__(self, title, author):\n",
    "        self.__title = title\n",
    "        self.__author = author\n",
    "\n",
    "    def __get_entry(self):\n",
    "#         print(\"_get_entry\")\n",
    "        return \"{0} by {1}\".format(self.__title, self.__author)\n",
    "\n",
    "    def __set_entry(self, value):\n",
    "        if \" by \" not in value:\n",
    "            raise ValueError(\"Entries shall be formatted as '<title> by <author>'\")\n",
    "        self.__title, self.__author = value.split(\" by \")\n",
    "    \n",
    "    entry = property(__get_entry, __set_entry)\n",
    "\n",
    "    def __getattr__(self, attr):\n",
    "        print(\"Sorry attribure do not exist\")\n",
    "        return None"
   ]
  },
  {
   "cell_type": "code",
   "execution_count": 31,
   "metadata": {},
   "outputs": [
    {
     "name": "stdout",
     "output_type": "stream",
     "text": [
      "Step in C by Mayank Johri\n",
      "********************\n",
      "Lets learn C by Mayank Johri\n",
      "********************\n",
      "********************\n",
      "Explore Go by Mayank Johri\n",
      "Sorry attribure do not exist\n"
     ]
    }
   ],
   "source": [
    "b = Book(title=\"Step in C\", author=\"Mayank Johri\")\n",
    "print(b.entry)\n",
    "b.entry = \"Lets learn C by Mayank Johri\"\n",
    "print(\"*\"*20)\n",
    "print(b.entry)\n",
    "print(\"*\"*20)\n",
    "b.entry = \"Explore Go by Mayank Johri\"\n",
    "print(\"*\"*20)\n",
    "print(b.entry)\n",
    "b.nonExistAttribute"
   ]
  },
  {
   "cell_type": "markdown",
   "metadata": {},
   "source": [
    "## `__new__`"
   ]
  },
  {
   "cell_type": "markdown",
   "metadata": {},
   "source": [
    "`__new__` is called for new Class type, "
   ]
  },
  {
   "cell_type": "markdown",
   "metadata": {},
   "source": [
    "### Overriding the __new__ method"
   ]
  },
  {
   "cell_type": "markdown",
   "metadata": {},
   "source": [
    "As per \"https://www.python.org/download/releases/2.2/descrintro/#__new__\"\n",
    "\n",
    "Here are some rules for `__new__`:\n",
    "\n",
    "- `__new__` is a static method. When defining it, you don't need to (but may!) use the phrase \"`__new__` = staticmethod(`__new__`)\", because this is implied by its name (it is special-cased by the class constructor).\n",
    "- **The first argument to `__new__` must be a class**; the remaining arguments are the arguments as seen by the constructor call.\n",
    "- A `__new__` method that overrides a base class's `__new__` method may call that base class's `__new__` method. The first argument to the base class's `__new__` method call should be the class argument to the overriding `__new__` method, not the base class; if you were to pass in the base class, you would get an instance of the base class.\n",
    "- Unless you want to play games like those described in the next two bullets, a `__new__` method must call its base class's `__new__` method; that's the only way to create an instance of your object. The subclass `__new__` can do two things to affect the resulting object: pass different arguments to the base class `__new__`, and modify the resulting object after it's been created (for example to initialize essential instance variables).\n",
    "- `__new__` must return an object. There's nothing that requires that it return a new object that is an instance of its class argument, although that is the convention. If you return an existing object, the constructor call will still call its `__init__` method. If you return an object of a different class, its `__init__` method will be called. If you forget to return something, Python will unhelpfully return None, and your caller will probably be very confused.\n",
    "- For immutable classes, your `__new__` may return a cached reference to an existing object with the same value; this is what the int, str and tuple types do for small values. This is one of the reasons why their `__init__` does nothing: cached objects would be re-initialized over and over. (The other reason is that there's nothing left for `__init__` to initialize: `__new__` returns a fully initialized object.)\n",
    "- If you subclass a built-in immutable type and want to add some mutable state (maybe you add a default conversion to a string type), it's best to initialize the mutable state in the `__init__` method and leave `__new__` alone.\n",
    "- If you want to change the constructor's signature, you often have to override both `__new__` and `__init__` to accept the new signature. However, most built-in types ignore the arguments to the method they don't use; in particular, the immutable types (int, long, float, complex, str, unicode, and tuple) have a dummy `__init__`, while the mutable types (dict, list, file, and also super, classmethod, staticmethod, and property) have a dummy `__new__`. The built-in type 'object' has a dummy `__new__` and a dummy `__init__` (which the others inherit). The built-in type 'type' is special in many respects; see the section on metaclasses.\n",
    "- (This has nothing to do to `__new__`, but is handy to know anyway.) If you subclass a built-in type, extra space is automatically added to the instances to accomodate __dict__ and __weakrefs__. (The __dict__ is not initialized until you use it though, so you shouldn't worry about the space occupied by an empty dictionary for each instance you create.) If you don't need this extra space, you can add the phrase \"``__slots__` = []`\" to your class. (See above for more about `__slots__`.)\n",
    "- Factoid: `__new__` is a static method, not a class method. I initially thought it would have to be a class method, and that's why I added the classmethod primitive. Unfortunately, with class methods, upcalls don't work right in this case, so I had to make it a static method with an explicit class as its first argument. Ironically, there are now no known uses for class methods in the Python distribution (other than in the test suite). I might even get rid of classmethod in a future release if no good use for it can be found!\n"
   ]
  },
  {
   "cell_type": "markdown",
   "metadata": {
    "collapsed": true
   },
   "source": [
    "### What is the difference between `__new__` and `__init__`"
   ]
  },
  {
   "cell_type": "markdown",
   "metadata": {},
   "source": [
    "Use `__new__` when you need to control the creation of a new instance. Use `__init__` when you need to control initialization of a new instance.\n",
    "\n",
    "`__new__` is the first step of instance creation. It's called first, and is responsible for returning a new instance of your class. In contrast, `__init__` doesn't return anything; it's only responsible for initializing the instance after it's been created.\n",
    "\n",
    "In general, you shouldn't need to override `__new__` unless you're subclassing an immutable type like str, int, unicode or tuple.\n",
    "\n",
    "From: http://mail.python.org/pipermail/tutor/2008-April/061426.html"
   ]
  },
  {
   "cell_type": "code",
   "execution_count": 1,
   "metadata": {},
   "outputs": [
    {
     "name": "stdout",
     "output_type": "stream",
     "text": [
      "in new\n"
     ]
    }
   ],
   "source": [
    "class MyTest:\n",
    "    def __new__(self):\n",
    "        print(\"in new\")\n",
    "        \n",
    "    def __init__(self):\n",
    "        print(\"in init\")\n",
    "\n",
    "mnt = MyTest()"
   ]
  },
  {
   "cell_type": "code",
   "execution_count": 2,
   "metadata": {},
   "outputs": [
    {
     "name": "stdout",
     "output_type": "stream",
     "text": [
      "in new Hari Hari\n"
     ]
    }
   ],
   "source": [
    "class MyNewTest:\n",
    "    def __new__(self):\n",
    "        print(\"in new\")\n",
    "\n",
    "    def __new__(self, name):\n",
    "        print(\"in new\", name)\n",
    "        \n",
    "    def __init__(self, name):\n",
    "        print(\"in init\", name)\n",
    "\n",
    "mnt = MyNewTest(\"Hari Hari\")"
   ]
  },
  {
   "cell_type": "markdown",
   "metadata": {},
   "source": [
    "Lets look at another example, we have removed the `__new__` method from the above class and created an object."
   ]
  },
  {
   "cell_type": "code",
   "execution_count": 53,
   "metadata": {},
   "outputs": [
    {
     "name": "stdout",
     "output_type": "stream",
     "text": [
      "in init Hari Hari\n"
     ]
    }
   ],
   "source": [
    "class MyNewTest:        \n",
    "    def __init__(self, name):\n",
    "        print(\"in init\", name)\n",
    "\n",
    "mnt = MyNewTest(\"Hari Hari\")"
   ]
  },
  {
   "cell_type": "markdown",
   "metadata": {},
   "source": [
    "Now lets check where its goog idea to use `__init__` and where `__new__`. \n",
    "\n",
    "One thumb rule is try to avoid using `__new__` and let python handle it because almost all the things you wish to do in constructor can be done in `__init__`. Still if you wish to do so, below examples will show you how to do it currectly."
   ]
  },
  {
   "cell_type": "markdown",
   "metadata": {},
   "source": [
    "In the first example, we have `__init__` function and are using it. "
   ]
  },
  {
   "cell_type": "code",
   "execution_count": 3,
   "metadata": {},
   "outputs": [
    {
     "name": "stdout",
     "output_type": "stream",
     "text": [
      "in init Hari Hari\n",
      "Hari Hari\n"
     ]
    }
   ],
   "source": [
    "class MyNewTest:        \n",
    "    def __init__(self, name):\n",
    "        print(\"in init\", name)\n",
    "        self.name = name\n",
    "        \n",
    "    def print_name(self):\n",
    "        print(self.name)\n",
    "\n",
    "\n",
    "mnt = MyNewTest(\"Hari Hari\")\n",
    "mnt.print_name()"
   ]
  },
  {
   "cell_type": "markdown",
   "metadata": {},
   "source": [
    "We saw, that everything was working without any issue. Now lets try to replace `__init__` with `__new__`. "
   ]
  },
  {
   "cell_type": "code",
   "execution_count": 4,
   "metadata": {},
   "outputs": [
    {
     "name": "stdout",
     "output_type": "stream",
     "text": [
      "in init Hari Hari\n",
      "'NoneType' object has no attribute 'print_name'\n"
     ]
    }
   ],
   "source": [
    "# -----------------#\n",
    "# Very Bad Example #\n",
    "# -----------------#\n",
    "class MyNewTest:        \n",
    "    def __new__(cls, name):\n",
    "        print(\"in init\", name)\n",
    "        cls.name = name\n",
    "        \n",
    "    def print_name(self):\n",
    "        print(self.name)\n",
    "\n",
    "try:\n",
    "    mnt = MyNewTest(\"Hari Hari\")\n",
    "    mnt.print_name()\n",
    "except Exception as e:\n",
    "    print(e)"
   ]
  },
  {
   "cell_type": "markdown",
   "metadata": {},
   "source": [
    "Now, since we have not returned any thing in `__new__` thus `mnt` is null. We must have `__new__` which returns the object itself. Now to over come this issue, we need to return an instance of our `class`. We can do that using `instance = super(<class>, cls).__new__(cls)` as shown in the below example "
   ]
  },
  {
   "cell_type": "code",
   "execution_count": 4,
   "metadata": {},
   "outputs": [
    {
     "name": "stdout",
     "output_type": "stream",
     "text": [
      "in __new__:\n",
      "\t!!! Hari Om Hari Om !!!\n",
      "print_name:\n",
      "\t!!! Hari Om Hari Om !!!\n",
      "in __new__:\n",
      "\t!!! Ram Ram !!!\n",
      "print_name:\n",
      "\t!!! Ram Ram !!!\n",
      "print_name:\n",
      "\t!!! Hari Om Hari Om !!!\n"
     ]
    }
   ],
   "source": [
    "class MyNewTest(object):        \n",
    "    def __new__(cls, name):\n",
    "        print(\"in __new__:\\n\\t{0}\".format(name))\n",
    "        instance = super(MyNewTest, cls).__new__(cls)\n",
    "        instance.name = name\n",
    "        return instance\n",
    "    \n",
    "    def print_name(self):\n",
    "        print(\"print_name:\\n\\t{0}\".format(self.name))\n",
    "        \n",
    "mnt = MyNewTest(\"!!! Hari Om Hari Om !!!\")\n",
    "mnt.print_name()\n",
    "ram_ram = MyNewTest(\"!!! Ram Ram !!!\")\n",
    "ram_ram.print_name()\n",
    "mnt.print_name()"
   ]
  },
  {
   "cell_type": "markdown",
   "metadata": {},
   "source": [
    "or, we can create the class using the following code, `instance =  object.__new__(cls)`. As object is parent, we are directly calling it instead of using `super`."
   ]
  },
  {
   "cell_type": "code",
   "execution_count": 5,
   "metadata": {},
   "outputs": [
    {
     "name": "stdout",
     "output_type": "stream",
     "text": [
      "in __new__ Hari Hari\n",
      "exiting __new__ Hari Hari\n",
      "in __init__ Hari Hari\n",
      "Hari Hari\n",
      "in __new__ Ram Ram\n",
      "exiting __new__ Ram Ram\n",
      "in __init__ Ram Ram\n",
      "<__main__.MyNewTest object at 0x7fa10077be48>\n"
     ]
    }
   ],
   "source": [
    "class MyNewTest(object):        \n",
    "    def __new__(cls, name):\n",
    "        print(\"in __new__\", name)\n",
    "        instance =  object.__new__(cls)\n",
    "        instance.name = name\n",
    "        print(\"exiting __new__\", name)\n",
    "        return instance\n",
    "    \n",
    "    # __init__ is redundent in this example. \n",
    "    def __init__(self, name):    \n",
    "        print(\"in __init__\", name)\n",
    "    \n",
    "    def print_name(self):\n",
    "        print(self.name)\n",
    "        \n",
    "mnt = MyNewTest(\"Hari Hari\")\n",
    "mnt.print_name()\n",
    "ram_ram = MyNewTest(\"Ram Ram\")\n",
    "print(ram_ram)"
   ]
  },
  {
   "cell_type": "markdown",
   "metadata": {},
   "source": [
    "both `super(MyNewTest, cls).__new__(cls)` and `object.__new__(cls)` produce the desired instance as shown in the above examples."
   ]
  },
  {
   "cell_type": "markdown",
   "metadata": {},
   "source": [
    "If we were to return anything other than `instance` of object, then `__init__` function will never be called as shown in the below example."
   ]
  },
  {
   "cell_type": "code",
   "execution_count": 3,
   "metadata": {},
   "outputs": [
    {
     "name": "stdout",
     "output_type": "stream",
     "text": [
      "in __new__ 22\n",
      "0.5588 <class 'float'>\n",
      "'float' object has no attribute 'print_dist'\n"
     ]
    }
   ],
   "source": [
    "class Distance(float):        \n",
    "    def __new__(cls, dist):\n",
    "        print(\"in __new__\", dist)\n",
    "        return dist*0.0254\n",
    "    \n",
    "    # __init__ is redundent in this example, \n",
    "    # as it will never be called. \n",
    "    def __init__(self, dist):    \n",
    "        print(\"in __init__\", dist)\n",
    "    \n",
    "    def print_dist(self):\n",
    "        print(self.__name__)\n",
    "        \n",
    "try:\n",
    "    mnt = Distance(22)\n",
    "    print(mnt, type(mnt))\n",
    "    mnt.print_dist()\n",
    "except Exception as e:\n",
    "    print(e)"
   ]
  },
  {
   "cell_type": "code",
   "execution_count": 12,
   "metadata": {},
   "outputs": [
    {
     "name": "stdout",
     "output_type": "stream",
     "text": [
      "in __new__ 22\n",
      "<class '__main__.Distance'>\n",
      "in __init__ 22\n",
      "0.0 <class '__main__.Distance'>\n",
      "0.5588\n"
     ]
    }
   ],
   "source": [
    "class Distance(float):        \n",
    "    def __new__(cls, dist):\n",
    "        print(\"in __new__\", dist)\n",
    "        instance =  super(Distance, cls).__new__(cls)\n",
    "        print(type(instance))\n",
    "        instance.val = dist*0.0254\n",
    "        return instance\n",
    "    \n",
    "    def __init__(self, dist):    \n",
    "        print(\"in __init__\", dist)\n",
    "    \n",
    "    def print_dist(self):\n",
    "        print(self.val)\n",
    "        \n",
    "\n",
    "if __name__ == \"__main__\":\n",
    "    try:\n",
    "        mnt = Distance(22)\n",
    "        print(mnt, type(mnt))\n",
    "        mnt.print_dist()\n",
    "    except Exception as e:\n",
    "        print(e)"
   ]
  },
  {
   "cell_type": "markdown",
   "metadata": {},
   "source": [
    "### Where can we use `__new__`"
   ]
  },
  {
   "cell_type": "markdown",
   "metadata": {},
   "source": [
    "#### Creating singleton class  "
   ]
  },
  {
   "cell_type": "markdown",
   "metadata": {},
   "source": [
    "In singleton pattern, we create one instance of the class and all subsequent objects of that class points to the first instance.\n",
    "\n",
    "Lets try to create a singleton class using `__new__` constructor.  "
   ]
  },
  {
   "cell_type": "code",
   "execution_count": 36,
   "metadata": {},
   "outputs": [
    {
     "name": "stdout",
     "output_type": "stream",
     "text": [
      "True\n",
      "True\n",
      "Ohm\n",
      "Ohm\n"
     ]
    }
   ],
   "source": [
    "class Godlike(object):\n",
    "    \n",
    "    def __new__(cls, name):\n",
    "        it = cls.__dict__.get(\"__it__\")\n",
    "        if it is not None:\n",
    "            return it\n",
    "        cls.__it__ = it = object.__new__(cls)\n",
    "        it.init(name)\n",
    "        return it\n",
    "    \n",
    "    def init(self, name):\n",
    "        self.name = name\n",
    "    \n",
    "    def print_name(self):\n",
    "        print(self.name)\n",
    "        \n",
    "        \n",
    "ohm = Godlike(\"Ohm\")\n",
    "ram = Godlike(\"ram\")\n",
    "hari = Godlike(\"hari\")\n",
    "\n",
    "print(ohm is ram)\n",
    "print(ohm is hari)\n",
    "ohm.print_name()\n",
    "ram.print_name()"
   ]
  },
  {
   "cell_type": "markdown",
   "metadata": {},
   "source": [
    "Note, in the above example all three objects are pointing to same object `ohm` meaning all three objects are same. \n",
    "\n",
    "Now, we might have situations where we need to raise exception, if creation of more than one instance is attempted. We can achieve it by raising an exception as shown in below example."
   ]
  },
  {
   "cell_type": "code",
   "execution_count": 38,
   "metadata": {},
   "outputs": [
    {
     "name": "stdout",
     "output_type": "stream",
     "text": [
      "Creating Anshu Mam as Primary School headmistress.\n",
      "Creating Rahim Sir as Primary School headmaster.\n",
      "Count not create new instance for value Rahim Khan\n"
     ]
    }
   ],
   "source": [
    "class SingletonError(Exception):\n",
    "    pass\n",
    "\n",
    "class HeadMaster(object):\n",
    "    \n",
    "    def __new__(cls, name):\n",
    "        it = cls.__dict__.get(\"__it__\")\n",
    "        if it is not None:\n",
    "            raise SingletonError(f\"Count not create new instance for value {name}\")\n",
    "            \n",
    "        cls.__it__ = it = object.__new__(cls)\n",
    "        it.__init__(name)\n",
    "        return it\n",
    "    \n",
    "    def __init__(self, name):        \n",
    "        self.name = name\n",
    "    \n",
    "    def print_name(self):\n",
    "        print(self.name)\n",
    "        \n",
    "\n",
    "try:\n",
    "    print(\"Creating Anshu Mam as Primary School headmistress.\")\n",
    "    anshu_mam = HeadMaster(\"Anshu Shrivastava\")\n",
    "    print(\"Creating Rahim Sir as Primary School headmaster.\")\n",
    "    rahim_sir = HeadMaster(\"Rahim Khan\")\n",
    "except Exception as e:\n",
    "    print(e)"
   ]
  },
  {
   "cell_type": "markdown",
   "metadata": {},
   "source": [
    "#### Regulating number of object creation"
   ]
  },
  {
   "cell_type": "markdown",
   "metadata": {},
   "source": [
    "we are going to tweak previous example and convert it to have a finite number of objects created for the class"
   ]
  },
  {
   "cell_type": "code",
   "execution_count": 1,
   "metadata": {},
   "outputs": [
    {
     "name": "stdout",
     "output_type": "stream",
     "text": [
      "Creation Limit 2 reached\n"
     ]
    }
   ],
   "source": [
    "class HeadMaster(object):\n",
    "    _instances = []  # Keep track of instance reference\n",
    "    limit = 2\n",
    "\n",
    "    def __new__(cls, *args, **kwargs):\n",
    "        if len(cls._instances) >= cls.limit:\n",
    "            raise RuntimeError(\"Creation Limit %s reached\" % cls.limit)\n",
    "        instance = object.__init__(cls)\n",
    "        cls._instances.append(instance)\n",
    "        return instance\n",
    "\n",
    "    def __del__(self):\n",
    "        self._instance.remove(self)\n",
    "\n",
    "try:\n",
    "    li1 = HeadMaster()\n",
    "    li2 = HeadMaster()\n",
    "    li3 = HeadMaster()\n",
    "    li4 = HeadMaster()\n",
    "except Exception as e:\n",
    "    print(e)"
   ]
  },
  {
   "cell_type": "markdown",
   "metadata": {},
   "source": [
    "#### Customize instance object"
   ]
  },
  {
   "cell_type": "markdown",
   "metadata": {},
   "source": [
    "We can customize instance object using `__new__`"
   ]
  },
  {
   "cell_type": "markdown",
   "metadata": {},
   "source": [
    "#### Customize Returned Object"
   ]
  },
  {
   "cell_type": "markdown",
   "metadata": {},
   "source": [
    "As shown above, we can also return custom objects instead of instance of requested class as shown in one of the previous example."
   ]
  }
 ],
 "metadata": {
  "anaconda-cloud": {},
  "kernelspec": {
   "display_name": "Python 3",
   "language": "python",
   "name": "python3"
  },
  "language_info": {
   "codemirror_mode": {
    "name": "ipython",
    "version": 3
   },
   "file_extension": ".py",
   "mimetype": "text/x-python",
   "name": "python",
   "nbconvert_exporter": "python",
   "pygments_lexer": "ipython3",
   "version": "3.6.1"
  }
 },
 "nbformat": 4,
 "nbformat_minor": 1
}
