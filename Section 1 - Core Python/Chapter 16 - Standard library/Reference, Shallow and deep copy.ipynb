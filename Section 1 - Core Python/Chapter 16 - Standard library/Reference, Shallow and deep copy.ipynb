{
 "cells": [
  {
   "cell_type": "markdown",
   "metadata": {},
   "source": [
    "## <span style=\"color:Green\">copy</span>: Shallow and deep copy operations"
   ]
  },
  {
   "cell_type": "markdown",
   "metadata": {},
   "source": [
    "-----\n",
    "In most of the programming languages assignment statement `=` equates to copy and thus are never in need of any other operator for creating a copy of an existing object. \n",
    "\n",
    "Lets start with exploring the assignment statement in python."
   ]
  },
  {
   "cell_type": "markdown",
   "metadata": {},
   "source": [
    "### Assignment ( = )"
   ]
  },
  {
   "cell_type": "markdown",
   "metadata": {},
   "source": [
    "-----\n",
    "\n",
    "**Assignments in Python do not copy objects, instead they create bindings between a target and the object**."
   ]
  },
  {
   "cell_type": "code",
   "execution_count": 17,
   "metadata": {
    "collapsed": false,
    "format": "row"
   },
   "outputs": [
    {
     "name": "stdout",
     "output_type": "stream",
     "text": [
      "1722792688 1722792688\n"
     ]
    }
   ],
   "source": [
    "x = 10\n",
    "y = x\n",
    "print(id(x), id(y))"
   ]
  },
  {
   "cell_type": "code",
   "execution_count": 20,
   "metadata": {
    "collapsed": false
   },
   "outputs": [
    {
     "name": "stdout",
     "output_type": "stream",
     "text": [
      "[10, 3] [10, 3]\n",
      "[10, 'This is a test message'] [10, 'This is a test message']\n"
     ]
    }
   ],
   "source": [
    "x = [10, 3]\n",
    "y = x\n",
    "print(x , y)\n",
    "x[1] = \"This is a test message\"\n",
    "print(x, y)"
   ]
  },
  {
   "cell_type": "code",
   "execution_count": null,
   "metadata": {
    "collapsed": true
   },
   "outputs": [],
   "source": []
  },
  {
   "cell_type": "code",
   "execution_count": 21,
   "metadata": {
    "collapsed": false
   },
   "outputs": [
    {
     "name": "stdout",
     "output_type": "stream",
     "text": [
      "1722792688\n",
      "1722792720 1722792720\n"
     ]
    }
   ],
   "source": [
    "x = 10\n",
    "print(id(x))\n",
    "x +=1\n",
    "y = x \n",
    "print(id(x), id(y))"
   ]
  },
  {
   "cell_type": "code",
   "execution_count": 22,
   "metadata": {
    "collapsed": false
   },
   "outputs": [
    {
     "name": "stdout",
     "output_type": "stream",
     "text": [
      "1722792688\n",
      "2216063056280 1722792688\n",
      "10 d\n"
     ]
    }
   ],
   "source": [
    "x = 10\n",
    "print(id(x))\n",
    "y = x \n",
    "x = \"d\"\n",
    "print(id(x), id(y))\n",
    "print(y, x)"
   ]
  },
  {
   "cell_type": "code",
   "execution_count": null,
   "metadata": {
    "collapsed": true
   },
   "outputs": [],
   "source": []
  },
  {
   "cell_type": "code",
   "execution_count": 23,
   "metadata": {
    "collapsed": false
   },
   "outputs": [
    {
     "name": "stdout",
     "output_type": "stream",
     "text": [
      "2216073178616 2216103588952\n",
      "10 101\n"
     ]
    }
   ],
   "source": [
    "x = \"10\"\n",
    "y = x + \"1\"\n",
    "print(id(x), id(y))\n",
    "print(x , y)"
   ]
  },
  {
   "cell_type": "code",
   "execution_count": 11,
   "metadata": {
    "collapsed": false
   },
   "outputs": [
    {
     "name": "stdout",
     "output_type": "stream",
     "text": [
      "1719909104 1719909104\n",
      "1719912336 1719909104\n"
     ]
    }
   ],
   "source": [
    "x = 10\n",
    "y = x\n",
    "print(id(x), id(y))\n",
    "x = 111\n",
    "print(id(x), id(y))"
   ]
  },
  {
   "cell_type": "code",
   "execution_count": 12,
   "metadata": {
    "collapsed": false
   },
   "outputs": [
    {
     "name": "stdout",
     "output_type": "stream",
     "text": [
      "2160435348616 2160435348616\n",
      "[10, 20, 100] [10, 20, 100]\n"
     ]
    }
   ],
   "source": [
    "x = [10, 20, 30]\n",
    "y = x\n",
    "print(id(x), id(y))\n",
    "x[2] = 100\n",
    "print(x, y)"
   ]
  },
  {
   "cell_type": "markdown",
   "metadata": {},
   "source": [
    "In the above example, x and y variables are pointing to same memory location and are two names to the same memory object, thus change in one will result in updating another value as long as they are not assigned to another memory location.\n",
    "With that in mind lets explore the new example"
   ]
  },
  {
   "cell_type": "code",
   "execution_count": 1,
   "metadata": {
    "collapsed": false
   },
   "outputs": [
    {
     "name": "stdout",
     "output_type": "stream",
     "text": [
      "2793410766024 2793410766024\n",
      "100 [10, 20, 30]\n",
      "1722795568 2793410766024\n"
     ]
    }
   ],
   "source": [
    "x = [10, 20, 30]\n",
    "y = x\n",
    "print(id(x), id(y))\n",
    "x = 100\n",
    "print(x, y)\n",
    "print(id(x), id(y))"
   ]
  },
  {
   "cell_type": "code",
   "execution_count": 24,
   "metadata": {
    "collapsed": false
   },
   "outputs": [
    {
     "name": "stdout",
     "output_type": "stream",
     "text": [
      "['a', 'b', 'c', 'd'] [['a', 'b', 'c', 'd'], ['a', 'b', 'c', 'd']]\n",
      "['a', 'b', 'dd', 'd'] [['a', 'b', 'dd', 'd'], ['a', 'b', 'dd', 'd']]\n"
     ]
    }
   ],
   "source": [
    "x = ['a','b','c','d']\n",
    "lst = [x, x]\n",
    "print(x, lst)\n",
    "x[2] = 'dd'\n",
    "print(x, lst)"
   ]
  },
  {
   "cell_type": "markdown",
   "metadata": {},
   "source": [
    "#### Copy with the Slice Operator"
   ]
  },
  {
   "cell_type": "markdown",
   "metadata": {},
   "source": [
    "Copying using slice can help us upto a certain level as shown in the below example"
   ]
  },
  {
   "cell_type": "code",
   "execution_count": 16,
   "metadata": {
    "collapsed": false
   },
   "outputs": [
    {
     "name": "stdout",
     "output_type": "stream",
     "text": [
      "['a', 'b', 'c', 'd'] ['a', 'b']\n",
      "2216103555336 2216103506376\n",
      "2216064182512 2216064182512\n",
      "['a', '33', 'c', 'd'] ['a', 'b']\n",
      "2216103555336 2216103506376\n",
      "2216103484864 2216064182512\n"
     ]
    }
   ],
   "source": [
    "x = ['a','b','c','d']\n",
    "y = x[:2]\n",
    "print(x, y)\n",
    "# Good :)\n",
    "print(id(x), id(y))\n",
    "# but :(\n",
    "print(id(x[1]), id(y[1]))\n",
    "# thus \n",
    "x[1] = \"33\"\n",
    "print(x, y)\n",
    "# Good :)\n",
    "print(id(x), id(y))\n",
    "# but :(\n",
    "print(id(x[1]), id(y[1]))"
   ]
  },
  {
   "cell_type": "markdown",
   "metadata": {},
   "source": [
    "but may will fail, if we have heterogeneous data-types in the list as shown in below examples"
   ]
  },
  {
   "cell_type": "code",
   "execution_count": 15,
   "metadata": {
    "collapsed": false
   },
   "outputs": [
    {
     "name": "stdout",
     "output_type": "stream",
     "text": [
      "[['a1', 'b1', 'c1'], 'a', 'b', 'c', 'd'] [['a1', 'b1', 'c1'], 'a', 'b', 'c', 'd']\n",
      "2160435277128 2160433650568\n",
      "2160435274504 2160435274504\n",
      "[['a1', '33', 'c1'], 'a', 'b', 'c', 'd'] [['a1', '33', 'c1'], 'a', 'b', 'c', 'd']\n",
      "2160435277128 2160433650568\n",
      "2162514259840 2162514259840\n"
     ]
    }
   ],
   "source": [
    "x = [[\"a1\", \"b1\", \"c1\"],'a','b','c','d']\n",
    "y = x[:]\n",
    "print(x, y)\n",
    "# Good :)\n",
    "print(id(x), id(y))\n",
    "# but :(\n",
    "print(id(x[0]), id(y[0]))\n",
    "# thus \n",
    "x[0][1] = \"33\"\n",
    "print(x, y)\n",
    "# Good :)\n",
    "print(id(x), id(y))\n",
    "# but :(\n",
    "print(id(x[1]), id(y[1]))"
   ]
  },
  {
   "cell_type": "markdown",
   "metadata": {},
   "source": [
    "Now we now know that in Python **Assignment statements do not _copy objects_, instead they create bindings between a target and an object** and can't be used to create a copy of the existing object. "
   ]
  },
  {
   "cell_type": "markdown",
   "metadata": {},
   "source": [
    "Few More Examples for better understanding"
   ]
  },
  {
   "cell_type": "code",
   "execution_count": 16,
   "metadata": {
    "collapsed": false
   },
   "outputs": [
    {
     "name": "stdout",
     "output_type": "stream",
     "text": [
      "[1, 2, 3]\n",
      "2\n",
      "3\n",
      "4\n",
      "[1, 2, 3]\n"
     ]
    }
   ],
   "source": [
    "\n",
    "magic_list = [1,2,3]\n",
    "print (magic_list)  \n",
    "for i in magic_list:\n",
    "    i = i+1\n",
    "    print (i)\n",
    "print (magic_list) "
   ]
  },
  {
   "cell_type": "code",
   "execution_count": 17,
   "metadata": {
    "collapsed": false
   },
   "outputs": [
    {
     "name": "stdout",
     "output_type": "stream",
     "text": [
      "['1', '2', '3']\n",
      "11\n",
      "21\n",
      "31\n",
      "['1', '2', '3']\n"
     ]
    }
   ],
   "source": [
    "magic_list = [\"1\",\"2\",\"3\"]\n",
    "print (magic_list)  \n",
    "for i in magic_list:\n",
    "    i = i+str(1)\n",
    "    print (i)\n",
    "print (magic_list) "
   ]
  },
  {
   "cell_type": "code",
   "execution_count": 18,
   "metadata": {
    "collapsed": false
   },
   "outputs": [
    {
     "name": "stdout",
     "output_type": "stream",
     "text": [
      "2160435324680\n",
      "2160435324680\n",
      "['a', 'b', ['ab', 'ba']]\n",
      "['a', 'b', ['ab', 'ba']]\n",
      "['a', 'b', ['ab', 'new']]\n",
      "['a', 'b', ['ab', 'new']]\n",
      "['new1', 'b', ['ab', 'new']]\n",
      "['new1', 'b', ['ab', 'new']]\n",
      "as\n",
      "['new1', 'b', ['ab', 'new']]\n",
      "2160398547856\n",
      "2160435324680\n"
     ]
    }
   ],
   "source": [
    "lst1 = ['a','b',['ab','ba']]\n",
    "print(id(lst1))\n",
    "lst2 = lst1\n",
    "print(id(lst2))\n",
    "print(lst1)\n",
    "print(lst2)\n",
    "lst1[2][1] = \"new\"\n",
    "print(lst1)\n",
    "print(lst2)\n",
    "lst1[0] = \"new1\"\n",
    "print(lst1)\n",
    "print(lst2)\n",
    "lst1 = \"as\"\n",
    "print(lst1)\n",
    "print(lst2)\n",
    "\n",
    "print(id(lst1))\n",
    "print(id(lst2))"
   ]
  },
  {
   "cell_type": "code",
   "execution_count": 19,
   "metadata": {
    "collapsed": false
   },
   "outputs": [
    {
     "name": "stdout",
     "output_type": "stream",
     "text": [
      "10\n",
      "10\n",
      "1719909104\n",
      "1719909104\n",
      "1719909136\n",
      "1719909104\n"
     ]
    }
   ],
   "source": [
    "x = 10\n",
    "y = x\n",
    "print(x)\n",
    "print(y)\n",
    "print(id(x))\n",
    "print(id(y))\n",
    "x = 11\n",
    "print(id(x))\n",
    "print(id(y))"
   ]
  },
  {
   "cell_type": "markdown",
   "metadata": {},
   "source": [
    "<img src=\"files/shallowcopy1.png\" width=300>\n",
    "\n",
    "<img src=\"files/shallowcopy2.png\" width=300>\n",
    "\n",
    "<img src=\"files/shallowcopy3.png\" width=470>"
   ]
  },
  {
   "cell_type": "markdown",
   "metadata": {},
   "source": [
    "For collections which are mutable or contain mutable items, copy is sometimes needed so one can change one copy without changing the other. \n",
    "Fortunately we have This module provides generic shallow and deep copy operations called **`copy`**. \n",
    "It provides two functions, one for **shallow copy** and another for **deep copy**. "
   ]
  },
  {
   "cell_type": "markdown",
   "metadata": {},
   "source": [
    "### Shallow Copy - copy.copy(x)"
   ]
  },
  {
   "cell_type": "markdown",
   "metadata": {},
   "source": [
    "**`Shallow copy` duplicates minimal possible**\n",
    "\n",
    "`Shallow copy` of a collection is a copy of the collection structure, but not the elements. After shallow copy, both original and copied collection, share the individual elements.\n",
    "\n",
    "Lets examine the below example for details"
   ]
  },
  {
   "cell_type": "code",
   "execution_count": 20,
   "metadata": {
    "collapsed": false
   },
   "outputs": [
    {
     "name": "stdout",
     "output_type": "stream",
     "text": [
      "l  : [<__main__.MyClass object at 0x000001F703FB93C8>]\n",
      "dup: [<__main__.MyClass object at 0x000001F703FB93C8>]\n",
      "dup is l: False\n",
      "dup == l: True\n",
      "dup[0] is l[0]: True\n",
      "dup[0] == l[0]: True\n"
     ]
    }
   ],
   "source": [
    "import copy\n",
    "\n",
    "class MyClass:\n",
    "    def __init__(self, name): # contructor\n",
    "        self.name = name\n",
    "        \n",
    "    def __cmp__(self, other):\n",
    "        return cmp(self.name, other.name)\n",
    "\n",
    "a = MyClass('a')\n",
    "l = [ a ]\n",
    "dup = copy.copy(l)\n",
    "\n",
    "print ('l  :', l)\n",
    "print ('dup:', dup)\n",
    "print ('dup is l:', (dup is l))\n",
    "print ('dup == l:', (dup == l))\n",
    "print ('dup[0] is l[0]:', (dup[0] is l[0]))\n",
    "print ('dup[0] == l[0]:', (dup[0] == l[0]))"
   ]
  },
  {
   "cell_type": "markdown",
   "metadata": {},
   "source": [
    "Deep Copy - copy.deepcopy(x)"
   ]
  },
  {
   "cell_type": "markdown",
   "metadata": {},
   "source": [
    "Return a deep copy of x."
   ]
  },
  {
   "cell_type": "code",
   "execution_count": 21,
   "metadata": {
    "collapsed": false
   },
   "outputs": [
    {
     "name": "stdout",
     "output_type": "stream",
     "text": [
      "l  : [<__main__.MyClass object at 0x000001F703FB93C8>]\n",
      "dup: [<__main__.MyClass object at 0x000001F703FCE400>]\n",
      "dup is l: False\n",
      "dup == l: False\n",
      "dup[0] is l[0]: False\n",
      "dup[0] == l[0]: False\n"
     ]
    }
   ],
   "source": [
    "dup = copy.deepcopy(l)\n",
    "print ('l  :', l)\n",
    "print ('dup:', dup)\n",
    "print ('dup is l:', (dup is l))\n",
    "print ('dup == l:', (dup == l))\n",
    "print ('dup[0] is l[0]:', (dup[0] is l[0]))\n",
    "print ('dup[0] == l[0]:', (dup[0] == l[0]))"
   ]
  },
  {
   "cell_type": "code",
   "execution_count": 22,
   "metadata": {
    "collapsed": false
   },
   "outputs": [
    {
     "name": "stdout",
     "output_type": "stream",
     "text": [
      "2160434886472\n",
      "2160432920712\n",
      "2162514258160\n",
      "2162514258160\n",
      "b\n"
     ]
    }
   ],
   "source": [
    "# shallow copy \n",
    "import copy\n",
    "\n",
    "lst1 = ['a','b',['ab','ba']]\n",
    "lst2 = copy.copy(lst1)\n",
    "\n",
    "# print(id(lst1))\n",
    "# print(id(lst2))\n",
    "# print(lst1)\n",
    "# print(lst2)\n",
    "# lst1[2][1] = \"new\"\n",
    "# print(lst1)\n",
    "# print(lst2)\n",
    "# lst1[0] = \"new1\"\n",
    "# print(lst1)\n",
    "# print(lst2)\n",
    "# lst1 = \"as\"\n",
    "# print(lst1)\n",
    "# print(lst2)\n",
    "\n",
    "print(id(lst1))\n",
    "print(id(lst2))\n",
    "print(id(lst1[1]))\n",
    "print(id(lst2[1]))\n",
    "print(lst1[1])"
   ]
  },
  {
   "cell_type": "code",
   "execution_count": 23,
   "metadata": {
    "collapsed": false
   },
   "outputs": [
    {
     "name": "stdout",
     "output_type": "stream",
     "text": [
      "2160433545928\n",
      "2160435348616\n",
      "['a', 'b', ['ab', 'ba']]\n",
      "['a', 'b', ['ab', 'ba']]\n",
      "['a', 'b', ['ab', 'new']]\n",
      "['a', 'b', ['ab', 'ba']]\n",
      "['new1', 'b', ['ab', 'new']]\n",
      "['a', 'b', ['ab', 'ba']]\n",
      "as\n",
      "['a', 'b', ['ab', 'ba']]\n"
     ]
    }
   ],
   "source": [
    "# shallow copy \n",
    "import copy\n",
    "\n",
    "lst1 = ['a','b',['ab','ba']]\n",
    "lst2 = copy.deepcopy(lst1)\n",
    "\n",
    "print(id(lst1))\n",
    "print(id(lst2))\n",
    "print(lst1)\n",
    "print(lst2)\n",
    "lst1[2][1] = \"new\"\n",
    "print(lst1)\n",
    "print(lst2)\n",
    "lst1[0] = \"new1\"\n",
    "print(lst1)\n",
    "print(lst2)\n",
    "lst1 = \"as\"\n",
    "print(lst1)\n",
    "print(lst2)\n",
    "\n",
    "# # print(id(lst3))\n",
    "# print(id(lst4))\n",
    "# print(id(lst3[1]))\n",
    "# print(id(lst4[1]))\n",
    "# print(lst3[1])"
   ]
  },
  {
   "cell_type": "code",
   "execution_count": 24,
   "metadata": {
    "collapsed": false
   },
   "outputs": [
    {
     "name": "stdout",
     "output_type": "stream",
     "text": [
      "Original team\n",
      "Lisa\n",
      "Trained as Graphic Designer\n",
      "Aged 21\n",
      "Graham\n",
      "Trained as Support Manager\n",
      "Aged 51\n",
      "Charlie\n",
      "Trained as Unknown\n",
      "Aged 9\n",
      "\n",
      "Team after changes\n",
      "Lisa\n",
      "Trained as Graphic Designer\n",
      "Aged 21\n",
      "Graham\n",
      "Trained as Support Manager\n",
      "Aged 53\n",
      "Charlotte\n",
      "Trained as Cat's home entertainer\n",
      "Aged 10\n",
      "\n",
      "Deep copy - no changes from original\n",
      "Lisa\n",
      "Trained as Graphic Designer\n",
      "Aged 21\n",
      "Graham\n",
      "Trained as Support Manager\n",
      "Aged 51\n",
      "Charlie\n",
      "Trained as Unknown\n",
      "Aged 9\n",
      "\n",
      "Shallow copy - some changes\n",
      "Lisa\n",
      "Trained as Graphic Designer\n",
      "Aged 21\n",
      "Graham\n",
      "Trained as Support Manager\n",
      "Aged 53\n",
      "Charlie\n",
      "Trained as Unknown\n",
      "Aged 9\n",
      "\n",
      "Normal copy (alias) - all changes shown\n",
      "Lisa\n",
      "Trained as Graphic Designer\n",
      "Aged 21\n",
      "Graham\n",
      "Trained as Support Manager\n",
      "Aged 53\n",
      "Charlotte\n",
      "Trained as Cat's home entertainer\n",
      "Aged 10\n",
      "\n"
     ]
    }
   ],
   "source": [
    "from copy import deepcopy\n",
    "\n",
    "class person:\n",
    "   def __init__ (this, name, background, age):\n",
    "      this.name=name\n",
    "      this.background=background\n",
    "      this.age=age\n",
    "   def setage (this,age):\n",
    "      this.age = age\n",
    "   def __str__(this):\n",
    "      retst = this.name + \"\\nTrained as \"\n",
    "      retst += this.background + \"\\nAged \"\n",
    "      retst += str(this.age) + \"\\n\"\n",
    "      return retst\n",
    "def tlist(source,demo):\n",
    "   tl = demo + \"\\n\"\n",
    "   for pers in source:\n",
    "      tl += str(pers)\n",
    "   return tl\n",
    "\n",
    "team = []\n",
    "team.append(person(\"Lisa\",\"Graphic Designer\",21))\n",
    "team.append(person(\"Graham\",\"Support Manager\",51))\n",
    "team.append(person(\"Charlie\",\"Unknown\",9))\n",
    "\n",
    "# firstyear is a clone of all levels of team - a full copy.\n",
    "# Changes to team will NOT effect firstyear\n",
    "firstyear = deepcopy(team)\n",
    "\n",
    "# secondyear is a copy of all the team member references but\n",
    "# not of the individual data for each team member. Changes to\n",
    "# team will NOT effect secondyear, but changes to attributes\n",
    "# of members within the team will.\n",
    "secondyear = team[:]\n",
    "\n",
    "# thirdyear is an alternative name for team, so any changes\n",
    "# to team will also be changes to thirdyear.\n",
    "thirdyear = team\n",
    "\n",
    "print (tlist(team,\"Original team\"))\n",
    "team[2] = person(\"Charlotte\",\"Cat's home entertainer\",10)\n",
    "team[1].setage(53)\n",
    "print (tlist(team,\"Team after changes\"))\n",
    "\n",
    "print (tlist(firstyear,\"Deep copy - no changes from original\"))\n",
    "print (tlist(secondyear,\"Shallow copy - some changes\"))\n",
    "print (tlist(thirdyear,\"Normal copy (alias) - all changes shown\"))"
   ]
  },
  {
   "cell_type": "code",
   "execution_count": null,
   "metadata": {
    "collapsed": true
   },
   "outputs": [],
   "source": []
  },
  {
   "cell_type": "markdown",
   "metadata": {},
   "source": [
    "### Difference between shallow and deep copying"
   ]
  },
  {
   "cell_type": "markdown",
   "metadata": {},
   "source": [
    "The difference between shallow and deep copying is only relevant for compound objects (objects that contain other objects, like lists or class instances):\n",
    "\n",
    "    A shallow copy constructs a new compound object and then (to the extent possible) inserts references into it to the objects found in the original.\n",
    "    A deep copy constructs a new compound object and then, recursively, inserts copies into it of the objects found in the original.\n",
    "\n",
    "Two problems often exist with deep copy operations that don't exist with shallow copy operations:\n",
    "\n",
    "    Recursive objects (compound objects that, directly or indirectly, contain a reference to themselves) may cause a recursive loop.\n",
    "    Because deep copy copies everything it may copy too much, such as data which is intended to be shared between copies.\n",
    "\n",
    "The deepcopy() function avoids these problems by:\n",
    "\n",
    "    keeping a 'memo' dictionary of objects already copied during the current copying pass; and\n",
    "    letting user-defined classes override the copying operation or the set of components copied."
   ]
  },
  {
   "cell_type": "markdown",
   "metadata": {},
   "source": [
    "### Controlling Copy Behavior"
   ]
  },
  {
   "cell_type": "markdown",
   "metadata": {},
   "source": [
    "It is possible to control how copies are made using the __copy__ and __deepcopy__ hooks.\n",
    "\n",
    "    __copy__() is called without any arguments and should return a shallow copy of the object.\n",
    "    __deepcopy__() is called with a memo dictionary, and should return a deep copy of the object. Any member attributes that need to be deep-copied should be passed to copy.deepcopy(), along with the memo dictionary, to control for recursion (see below).\n",
    "\n",
    "This example illustrates how the methods are called:"
   ]
  },
  {
   "cell_type": "code",
   "execution_count": 26,
   "metadata": {
    "collapsed": false
   },
   "outputs": [
    {
     "name": "stdout",
     "output_type": "stream",
     "text": [
      "__copy__()\n",
      "__deepcopy__({})\n",
      "Wall time: 0 ns\n"
     ]
    }
   ],
   "source": [
    "\n",
    "import copy\n",
    "\n",
    "class MyClass:\n",
    "    def __init__(self, name):\n",
    "        self.name = name\n",
    "    def __cmp__(self, other):\n",
    "        return cmp(self.name, other.name)\n",
    "    def __copy__(self):\n",
    "        print ('__copy__()')\n",
    "        return MyClass(self.name)\n",
    "    def __deepcopy__(self, memo):\n",
    "        print ('__deepcopy__(%s)' % str(memo))\n",
    "        return MyClass(copy.deepcopy(self.name, memo))\n",
    "\n",
    "a = MyClass('a')\n",
    "\n",
    "sc = copy.copy(a)\n",
    "dc = copy.deepcopy(a)"
   ]
  },
  {
   "cell_type": "markdown",
   "metadata": {},
   "source": [
    "## References\n",
    "\n",
    "* http://www.python-course.eu/deep_copy.php\n",
    "* http://www.shahmoradi.org/ECL2017S/lecture/5-python-variables-assignments\n",
    "* https://medium.com/broken-window/many-names-one-memory-address-122f78734cb6"
   ]
  }
 ],
 "metadata": {
  "kernelspec": {
   "display_name": "Python 3",
   "language": "python",
   "name": "python3"
  },
  "language_info": {
   "codemirror_mode": {
    "name": "ipython",
    "version": 3
   },
   "file_extension": ".py",
   "mimetype": "text/x-python",
   "name": "python",
   "nbconvert_exporter": "python",
   "pygments_lexer": "ipython3",
   "version": "3.6.0"
  }
 },
 "nbformat": 4,
 "nbformat_minor": 2
}
