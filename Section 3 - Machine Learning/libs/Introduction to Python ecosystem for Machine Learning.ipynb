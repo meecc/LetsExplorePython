{
 "cells": [
  {
   "cell_type": "markdown",
   "metadata": {},
   "source": [
    "# Introduction to Python ecosystem for Machine Learning"
   ]
  },
  {
   "cell_type": "markdown",
   "metadata": {},
   "source": [
    "## Core numeric libraries\n",
    "- Numpy: numerical computing with powerful numerical arrays objects, and routines to manipulate them. http://www.numpy.org/\n",
    "- Scipy : high-level numerical routines. Optimization, regression, interpolation, etc\n",
    "- Matplotlib : 2-D visualization, “publication-ready” plots http://matplotlib.org/"
   ]
  },
  {
   "cell_type": "markdown",
   "metadata": {},
   "source": [
    "## Advanced interactive environments\n",
    "Ability to do interactive programming in python is a big plus when working on problems of machine leanring as we need to be able to execute the part of code multiple times while tring to deduce the algorithms. \n",
    "Python has IPython and its derived Jupyter Shell's. \n",
    "\n",
    "- IPython, an advanced Python console http://ipython.org/, \n",
    "- Jupyter, notebooks in the browser http://jupyter.org/\n"
   ]
  },
  {
   "cell_type": "markdown",
   "metadata": {},
   "source": [
    "## Domain-specific packages\n",
    "- scikit-learn for machine learning\n",
    "- scikit-image for image processing\n",
    "- Mayavi for 3-D visualization\n",
    "- sympy for symbolic computing\n",
    "- pandas, statsmodels, seaborn for statistics"
   ]
  },
  {
   "cell_type": "code",
   "execution_count": null,
   "metadata": {},
   "outputs": [],
   "source": []
  },
  {
   "cell_type": "code",
   "execution_count": null,
   "metadata": {},
   "outputs": [],
   "source": []
  }
 ],
 "metadata": {
  "kernelspec": {
   "display_name": "Python 3",
   "language": "python",
   "name": "python3"
  },
  "language_info": {
   "codemirror_mode": {
    "name": "ipython",
    "version": 3
   },
   "file_extension": ".py",
   "mimetype": "text/x-python",
   "name": "python",
   "nbconvert_exporter": "python",
   "pygments_lexer": "ipython3",
   "version": "3.6.3"
  }
 },
 "nbformat": 4,
 "nbformat_minor": 2
}
