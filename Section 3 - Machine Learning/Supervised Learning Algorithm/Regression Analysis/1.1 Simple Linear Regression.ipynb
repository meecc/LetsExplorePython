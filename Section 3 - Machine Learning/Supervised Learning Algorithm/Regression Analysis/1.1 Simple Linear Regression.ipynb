{
 "cells": [
  {
   "cell_type": "markdown",
   "metadata": {},
   "source": [
    "# simple linear regression"
   ]
  },
  {
   "cell_type": "markdown",
   "metadata": {},
   "source": [
    "In simple linear regression, we assume that we have one to one linear relationship between two properties based on some formula. thus if you know predict value of property Y with respect to value of property X.\n",
    "The examples of such relationships are \n",
    "- Cost vs quantity\n",
    "- Cost vs quality\n",
    "- fuel vs distance\n",
    "\n",
    "lets take an example of serivce charge of home delivery service of local shop. In it as the distance grows the cost grows and we are going to predict the service charge using ML. "
   ]
  },
  {
   "cell_type": "code",
   "execution_count": 4,
   "metadata": {},
   "outputs": [],
   "source": [
    "%matplotlib inline\n",
    "\n",
    "import numpy as np\n",
    "import pandas as pd\n",
    "import scipy.stats as stats\n",
    "import matplotlib.pyplot as plt\n",
    "from matplotlib import rcParams\n",
    "import sklearn \n",
    "import seaborn as sns\n",
    "\n",
    "\n",
    "sns.set_style(\"whitegrid\")\n",
    "sns.set_context(\"poster\")"
   ]
  },
  {
   "cell_type": "markdown",
   "metadata": {},
   "source": [
    "## training data set"
   ]
  },
  {
   "cell_type": "code",
   "execution_count": 5,
   "metadata": {},
   "outputs": [],
   "source": [
    "# distance\n",
    "D = [[1], [2], [5], [7], [8], [9]]\n",
    "# Charge\n",
    "C = [[7], [9], [13], [16], [18], [20]]"
   ]
  },
  {
   "cell_type": "markdown",
   "metadata": {},
   "source": [
    "```\n",
    "NOTE: every set of value(s) are stored in a different array, we will learn more about them in future.   \n",
    "```"
   ]
  },
  {
   "cell_type": "markdown",
   "metadata": {},
   "source": [
    "lets plot and view how it looks on graph"
   ]
  },
  {
   "cell_type": "code",
   "execution_count": 6,
   "metadata": {},
   "outputs": [
    {
     "data": {
      "image/png": "[encoded data removed]",
      "text/plain": [
       "<matplotlib.figure.Figure at 0x7fd5cb06d390>"
      ]
     },
     "metadata": {},
     "output_type": "display_data"
    }
   ],
   "source": [
    "plt.figure()\n",
    "plt.title('Delivery charge (C) plotted against distance (D)')\n",
    "plt.xlabel('Distance in Km')\n",
    "plt.ylabel(\"Pri\")\n",
    "           # distance\n",
    "D = [[1], [2], [5], [7], [8], [9]]\n",
    "# Charge\n",
    "C = [[7], [9], [13], [16], [18], [20]]\n",
    "plt.plot(D, C)\n",
    "plt.axis([0, 10, 0, 25])\n",
    "plt.grid(True)\n",
    "plt.show()"
   ]
  },
  {
   "cell_type": "markdown",
   "metadata": {},
   "source": [
    "we can also verify that as the distance is increasing the price is also increasing. "
   ]
  },
  {
   "cell_type": "code",
   "execution_count": 28,
   "metadata": {},
   "outputs": [
    {
     "data": {
      "text/plain": [
       "LinearRegression(copy_X=True, fit_intercept=True, n_jobs=1, normalize=False)"
      ]
     },
     "execution_count": 28,
     "metadata": {},
     "output_type": "execute_result"
    }
   ],
   "source": [
    "from sklearn.linear_model import LinearRegression\n",
    "model = LinearRegression()\n",
    "model.fit(D, C)"
   ]
  },
  {
   "cell_type": "markdown",
   "metadata": {},
   "source": [
    "lets predict the service charge "
   ]
  },
  {
   "cell_type": "code",
   "execution_count": 29,
   "metadata": {},
   "outputs": [
    {
     "name": "stdout",
     "output_type": "stream",
     "text": [
      "The service charge should be: Rs 22.69\n"
     ]
    }
   ],
   "source": [
    "dist = 11\n",
    "print ('The service charge should be: Rs %.2f' % model.predict([[dist]]))"
   ]
  },
  {
   "cell_type": "code",
   "execution_count": 31,
   "metadata": {},
   "outputs": [
    {
     "name": "stdout",
     "output_type": "stream",
     "text": [
      "The service charge should be: Rs 8.62\n",
      "The service charge should be: Rs 19.56\n"
     ]
    }
   ],
   "source": [
    "dist = 2\n",
    "print ('The service charge should be: Rs %.2f' % model.predict([[dist]]))\n",
    "dist = 9\n",
    "print ('The service charge should be: Rs %.2f' % model.predict([[dist]]))"
   ]
  },
  {
   "cell_type": "markdown",
   "metadata": {},
   "source": [
    "So, you see that their is a bit of error in our predicted values from the original values.  "
   ]
  },
  {
   "cell_type": "markdown",
   "metadata": {},
   "source": [
    "## Example 2: Daily Female Births in California"
   ]
  },
  {
   "cell_type": "markdown",
   "metadata": {},
   "source": [
    "This dataset describes the number of daily female births in California in 1959. The units are a count and there are 365 observations. The source of the dataset is credited to Newton (1988).\n",
    "URL: https://datamarket.com/data/set/235k/daily-total-female-births-in-california-1959#!ds=235k&display=line"
   ]
  },
  {
   "cell_type": "markdown",
   "metadata": {},
   "source": [
    "### Step 1 - Load the dataset"
   ]
  },
  {
   "cell_type": "code",
   "execution_count": 15,
   "metadata": {},
   "outputs": [
    {
     "name": "stdout",
     "output_type": "stream",
     "text": [
      "            Daily total female births\n",
      "Date                                 \n",
      "1959-12-27                         37\n",
      "1959-12-28                         52\n",
      "1959-12-29                         48\n",
      "1959-12-30                         55\n",
      "1959-12-31                         50\n"
     ]
    },
    {
     "data": {
      "image/png": "[encoded data removed]",
      "text/plain": [
       "<matplotlib.figure.Figure at 0x7fd1e0f11eb8>"
      ]
     },
     "metadata": {},
     "output_type": "display_data"
    }
   ],
   "source": [
    "from pandas import Series\n",
    "from matplotlib import pyplot\n",
    "series = pd.read_csv('../files/daily-total-female-births-in-cal.csv', header=0)\n",
    "series=series.set_index('Date')\n",
    "print(series.tail())\n",
    "series.plot()\n",
    "plt.show()"
   ]
  },
  {
   "cell_type": "markdown",
   "metadata": {},
   "source": [
    "### Model Selection"
   ]
  },
  {
   "cell_type": "markdown",
   "metadata": {},
   "source": [
    "You must select a model.\n",
    "\n",
    "This is where the bulk of the effort will be in preparing the data, performing analysis, and ultimately selecting a model and model hyperparameters that best capture the relationships in the data.\n",
    "\n",
    "In this case, we can arbitrarily select an autoregression model (AR) with a lag of 6 on the differenced dataset.\n",
    "\n",
    "We can demonstrate this model below.\n",
    "\n",
    "First, the data is transformed by differencing, with each observation transformed as:"
   ]
  },
  {
   "cell_type": "code",
   "execution_count": null,
   "metadata": {},
   "outputs": [],
   "source": [
    "value(t) = obs(t) - obs(t - 1)"
   ]
  },
  {
   "cell_type": "markdown",
   "metadata": {},
   "source": [
    "Next, the AR(6) model is trained on 66% of the historical data. The regression coefficients learned by the model are extracted and used to make predictions in a rolling manner across the test dataset.\n",
    "\n",
    "As each time step in the test dataset is executed, the prediction is made using the coefficients and stored. The actual observation for the time step is then made available and stored to be used as a lag variable for future predictions."
   ]
  },
  {
   "cell_type": "code",
   "execution_count": 5,
   "metadata": {},
   "outputs": [
    {
     "name": "stderr",
     "output_type": "stream",
     "text": [
      "/home/mayank/.local/lib64/python3.6/site-packages/statsmodels/compat/pandas.py:56: FutureWarning: The pandas.core.datetools module is deprecated and will be removed in a future version. Please use the pandas.tseries module instead.\n",
      "  from pandas.core import datetools\n"
     ]
    },
    {
     "name": "stdout",
     "output_type": "stream",
     "text": [
      "Test MSE: 52.696\n"
     ]
    },
    {
     "data": {
      "image/png": "[encoded data removed]",
      "text/plain": [
       "<matplotlib.figure.Figure at 0x7fd2148c5908>"
      ]
     },
     "metadata": {},
     "output_type": "display_data"
    }
   ],
   "source": [
    "from pandas import Series\n",
    "from matplotlib import pyplot\n",
    "from statsmodels.tsa.ar_model import AR\n",
    "from sklearn.metrics import mean_squared_error\n",
    "import numpy\n",
    "\n",
    "# create a difference transform of the dataset\n",
    "def difference(dataset):\n",
    "\tdiff = list()\n",
    "\tfor i in range(1, len(dataset)):\n",
    "\t\tvalue = dataset[i] - dataset[i - 1]\n",
    "\t\tdiff.append(value)\n",
    "\treturn numpy.array(diff)\n",
    "\n",
    "# Make a prediction give regression coefficients and lag obs\n",
    "def predict(coef, history):\n",
    "\tyhat = coef[0]\n",
    "\tfor i in range(1, len(coef)):\n",
    "\t\tyhat += coef[i] * history[-i]\n",
    "\treturn yhat\n",
    "\n",
    "series = pd.read_csv('../files/daily-total-female-births-in-cal.csv', header=0)\n",
    "series=series.set_index('Date')\n",
    "\n",
    "# split dataset\n",
    "X = difference(series.values)\n",
    "\n",
    "size = int(len(X) * 0.66)\n",
    "train, test = X[0:size], X[size:]\n",
    "# train autoregression\n",
    "model = AR(train)\n",
    "model_fit = model.fit(maxlag=6, disp=False)\n",
    "window = model_fit.k_ar\n",
    "coef = model_fit.params\n",
    "# walk forward over time steps in test\n",
    "history = [train[i] for i in range(len(train))]\n",
    "predictions = list()\n",
    "for t in range(len(test)):\n",
    "\tyhat = predict(coef, history)\n",
    "\tobs = test[t]\n",
    "\tpredictions.append(yhat)\n",
    "\thistory.append(obs)\n",
    "error = mean_squared_error(test, predictions)\n",
    "print('Test MSE: %.3f' % error)\n",
    "# plot\n",
    "pyplot.plot(test)\n",
    "pyplot.plot(predictions, color='red')\n",
    "pyplot.show()"
   ]
  },
  {
   "cell_type": "markdown",
   "metadata": {},
   "source": [
    "### Finalize and Save Time Series Forecast Model"
   ]
  },
  {
   "cell_type": "markdown",
   "metadata": {},
   "source": [
    "Once the model is selected, we must finalize it.\n",
    "\n",
    "This means save the salient information learned by the model so that we do not have to re-create it every time a prediction is needed.\n",
    "\n",
    "This involves first training the model on all available data and then saving the model to file.\n",
    "\n",
    "The statsmodels implementations of time series models do provide built-in capability to save and load models by calling save() and load() on the fit ARResults object.\n",
    "\n",
    "For example, the code below will train an AR(6) model on the entire Female Births dataset and save it using the built-in save() function, which will essentially pickle the ARResults object.\n",
    "\n",
    "The differenced training data must also be saved, both the for the lag variables needed to make a prediction, and for knowledge of the number of observations seen, required by the predict() function of the ARResults object.\n",
    "\n",
    "Finally, we need to be able to transform the differenced dataset back into the original form. To do this, we must keep track of the last actual observation. This is so that the predicted differenced value can be added to it."
   ]
  },
  {
   "cell_type": "code",
   "execution_count": 20,
   "metadata": {},
   "outputs": [],
   "source": [
    "# fit an AR model and save the whole model to file\n",
    "from pandas import Series\n",
    "from statsmodels.tsa.ar_model import AR\n",
    "from statsmodels.tsa.ar_model import ARResults\n",
    "import numpy\n",
    "\n",
    "# create a difference transform of the dataset\n",
    "def difference(dataset):\n",
    "\tdiff = list()\n",
    "\tfor i in range(1, len(dataset)):\n",
    "\t\tvalue = dataset[i] - dataset[i - 1]\n",
    "\t\tdiff.append(value)\n",
    "\treturn numpy.array(diff)\n",
    "\n",
    "# load dataset\n",
    "series = pd.read_csv('../files/daily-total-female-births-in-cal.csv', header=0)\n",
    "series=series.set_index('Date')\n",
    "\n",
    "X = difference(series.values)\n",
    "# fit model\n",
    "model = AR(X)\n",
    "model_fit = model.fit(maxlag=6, disp=False)\n",
    "# save model to file\n",
    "model_fit.save('ar_model.pkl')\n",
    "# save the differenced dataset\n",
    "numpy.save('ar_data.npy', X)\n",
    "# save the last ob\n",
    "numpy.save('ar_obs.npy', [series.values[-1]])"
   ]
  },
  {
   "cell_type": "markdown",
   "metadata": {},
   "source": [
    "This code will create a file ar_model.pkl that you can load later and use to make predictions.\n",
    "\n",
    "The entire training dataset is saved as ar_data.npy and the last observation is saved in the file ar_obs.npy as an array with one item.\n",
    "\n",
    "The NumPy save() function is used to save the differenced training data and the observation. The load() function can then be used to load these arrays later.\n",
    "\n",
    "The snippet below will load the model, differenced data, and last observation."
   ]
  },
  {
   "cell_type": "code",
   "execution_count": 21,
   "metadata": {},
   "outputs": [
    {
     "name": "stdout",
     "output_type": "stream",
     "text": [
      "[ 0.12129822 -0.75275857 -0.612367   -0.51097172 -0.4176669  -0.32116469\n",
      " -0.23412997]\n",
      "[[50]]\n"
     ]
    }
   ],
   "source": [
    "# load the AR model from file\n",
    "from statsmodels.tsa.ar_model import ARResults\n",
    "import numpy\n",
    "loaded = ARResults.load('ar_model.pkl')\n",
    "print(loaded.params)\n",
    "data = numpy.load('ar_data.npy')\n",
    "last_ob = numpy.load('ar_obs.npy')\n",
    "print(last_ob)"
   ]
  },
  {
   "cell_type": "markdown",
   "metadata": {},
   "source": [
    "I think this is good for most cases, but is also pretty heavy. You are subject to changes to the statsmodels API.\n",
    "\n",
    "My preference is to work with the coefficients of the model directly, as in the case above, evaluating the model using a rolling forecast.\n",
    "\n",
    "In this case, you could simply store the model coefficients and later load them and make predictions.\n",
    "\n",
    "The example below saves just the coefficients from the model, as well as the minimum differenced lag values required to make the next prediction and the last observation needed to transform the next prediction made."
   ]
  },
  {
   "cell_type": "code",
   "execution_count": 24,
   "metadata": {},
   "outputs": [],
   "source": [
    "# fit an AR model and manually save coefficients to file\n",
    "from pandas import Series\n",
    "from statsmodels.tsa.ar_model import AR\n",
    "import numpy\n",
    "\n",
    "# create a difference transform of the dataset\n",
    "def difference(dataset):\n",
    "\tdiff = list()\n",
    "\tfor i in range(1, len(dataset)):\n",
    "\t\tvalue = dataset[i] - dataset[i - 1]\n",
    "\t\tdiff.append(value)\n",
    "\treturn numpy.array(diff)\n",
    "\n",
    "# load dataset\n",
    "series = pd.read_csv('../files/daily-total-female-births-in-cal.csv', header=0)\n",
    "series=series.set_index('Date')\n",
    "\n",
    "X = difference(series.values)\n",
    "# fit model\n",
    "window_size = 6\n",
    "model = AR(X)\n",
    "model_fit = model.fit(maxlag=window_size, disp=False)\n",
    "# save coefficients\n",
    "coef = model_fit.params\n",
    "numpy.save('man_model.npy', coef)\n",
    "# save lag\n",
    "lag = X[-window_size:]\n",
    "numpy.save('man_data.npy', lag)\n",
    "# save the last ob\n",
    "numpy.save('man_obs.npy', [series.values[-1]])"
   ]
  },
  {
   "cell_type": "markdown",
   "metadata": {},
   "source": [
    "The coefficients are saved in the local file man_model.npy, the lag history is saved in the file man_data.npy, and the last observation is saved in the file man_obs.npy.\n",
    "\n",
    "These values can then be loaded again as follows:"
   ]
  },
  {
   "cell_type": "markdown",
   "metadata": {},
   "source": []
  },
  {
   "cell_type": "code",
   "execution_count": 25,
   "metadata": {},
   "outputs": [
    {
     "name": "stdout",
     "output_type": "stream",
     "text": [
      "[ 0.12129822 -0.75275857 -0.612367   -0.51097172 -0.4176669  -0.32116469\n",
      " -0.23412997]\n",
      "[[-10]\n",
      " [  3]\n",
      " [ 15]\n",
      " [ -4]\n",
      " [  7]\n",
      " [ -5]]\n",
      "[[50]]\n"
     ]
    }
   ],
   "source": [
    "# load the manually saved model from file\n",
    "import numpy\n",
    "coef = numpy.load('man_model.npy')\n",
    "print(coef)\n",
    "lag = numpy.load('man_data.npy')\n",
    "print(lag)\n",
    "last_ob = numpy.load('man_obs.npy')\n",
    "print(last_ob)"
   ]
  },
  {
   "cell_type": "markdown",
   "metadata": {},
   "source": [
    "### Make a Time Series Forecast"
   ]
  },
  {
   "cell_type": "markdown",
   "metadata": {},
   "source": [
    "Making a forecast involves loading the saved model and estimating the observation at the next time step.\n",
    "\n",
    "If the ARResults object was serialized, we can use the predict() function to predict the next time period.\n",
    "\n",
    "The example below shows how the next time period can be predicted.\n",
    "\n",
    "The model, training data, and last observation are loaded from file.\n",
    "\n",
    "The period is specified to the predict() function as the next time index after the end of the training data set. This index may be stored directly in a file instead of storing the entire training data, which may be an efficiency.\n",
    "\n",
    "The prediction is made, which is in the context of the differenced dataset. To turn the prediction back into the original units, it must be added to the last known observation."
   ]
  },
  {
   "cell_type": "code",
   "execution_count": 26,
   "metadata": {},
   "outputs": [
    {
     "name": "stdout",
     "output_type": "stream",
     "text": [
      "Prediction: 46.755211\n"
     ]
    }
   ],
   "source": [
    "# load AR model from file and make a one-step prediction\n",
    "from statsmodels.tsa.ar_model import ARResults\n",
    "import numpy\n",
    "# load model\n",
    "model = ARResults.load('ar_model.pkl')\n",
    "data = numpy.load('ar_data.npy')\n",
    "last_ob = numpy.load('ar_obs.npy')\n",
    "# make prediction\n",
    "predictions = model.predict(start=len(data), end=len(data))\n",
    "# transform prediction\n",
    "yhat = predictions[0] + last_ob[0]\n",
    "print('Prediction: %f' % yhat)"
   ]
  },
  {
   "cell_type": "markdown",
   "metadata": {},
   "source": [
    "We can also use a similar trick to load the raw coefficients and make a manual prediction.\n",
    "The complete example is listed below."
   ]
  },
  {
   "cell_type": "code",
   "execution_count": 27,
   "metadata": {},
   "outputs": [
    {
     "name": "stdout",
     "output_type": "stream",
     "text": [
      "Prediction: 46.755211\n"
     ]
    }
   ],
   "source": [
    "# load a coefficients and from file and make a manual prediction\n",
    "import numpy\n",
    "\n",
    "def predict(coef, history):\n",
    "\tyhat = coef[0]\n",
    "\tfor i in range(1, len(coef)):\n",
    "\t\tyhat += coef[i] * history[-i]\n",
    "\treturn yhat\n",
    "\n",
    "# load model\n",
    "coef = numpy.load('man_model.npy')\n",
    "lag = numpy.load('man_data.npy')\n",
    "last_ob = numpy.load('man_obs.npy')\n",
    "# make prediction\n",
    "prediction = predict(coef, lag)\n",
    "# transform prediction\n",
    "yhat = prediction + last_ob[0]\n",
    "print('Prediction: %f' % yhat)"
   ]
  },
  {
   "cell_type": "markdown",
   "metadata": {},
   "source": [
    "#### Update Forecast Model"
   ]
  },
  {
   "cell_type": "markdown",
   "metadata": {},
   "source": [
    "Our work is not done.\n",
    "\n",
    "Once the next real observation is made available, we must update the data associated with the model.\n",
    "\n",
    "Specifically, we must update:\n",
    "\n",
    "The differenced training dataset used as inputs to make the subsequent prediction.\n",
    "The last observation, providing a context for the predicted differenced value.\n",
    "Let’s assume the next actual observation in the series was 48.\n",
    "The new observation must first be differenced with the last observation. It can then be stored in the list of differenced observations. Finally, the value can be stored as the last observation.\n",
    "\n",
    "In the case of the stored AR model, we can update the ar_data.npy and ar_obs.npy files. The complete example is listed below:"
   ]
  },
  {
   "cell_type": "code",
   "execution_count": 28,
   "metadata": {},
   "outputs": [],
   "source": [
    "# update the data for the AR model with a new obs\n",
    "import numpy\n",
    "# get real observation\n",
    "observation = 48\n",
    "# load the saved data\n",
    "data = numpy.load('ar_data.npy')\n",
    "last_ob = numpy.load('ar_obs.npy')\n",
    "# update and save differenced observation\n",
    "diffed = observation - last_ob[0]\n",
    "data = numpy.append(data, [diffed], axis=0)\n",
    "numpy.save('ar_data.npy', data)\n",
    "# update and save real observation\n",
    "last_ob[0] = observation\n",
    "numpy.save('ar_obs.npy', last_ob)"
   ]
  },
  {
   "cell_type": "code",
   "execution_count": null,
   "metadata": {},
   "outputs": [],
   "source": []
  },
  {
   "cell_type": "code",
   "execution_count": 29,
   "metadata": {},
   "outputs": [],
   "source": [
    "# update the data for the manual model with a new obs\n",
    "import numpy\n",
    "# get real observation\n",
    "observation = 48\n",
    "# update and save differenced observation\n",
    "lag = numpy.load('man_data.npy')\n",
    "last_ob = numpy.load('man_obs.npy')\n",
    "diffed = observation - last_ob[0]\n",
    "lag = numpy.append(lag[1:], [diffed], axis=0)\n",
    "numpy.save('man_data.npy', lag)\n",
    "# update and save real observation\n",
    "last_ob[0] = observation\n",
    "numpy.save('man_obs.npy', last_ob)"
   ]
  },
  {
   "cell_type": "markdown",
   "metadata": {},
   "source": [
    "### Consider Storing All Observations\n",
    "Generally, it is a good idea to keep track of all the observations.\n",
    "\n",
    "This will allow you to:\n",
    "\n",
    "Provide a context for further time series analysis to understand new changes in the data.\n",
    "Train a new model in the future on the most recent data.\n",
    "Back-test new and different models to see if performance can be improved.\n",
    "For small applications, perhaps you could store the raw observations in a file alongside your model.\n",
    "\n",
    "It may also be desirable to store the model coefficients and required lag data and last observation in plain text for easy review.\n",
    "\n",
    "For larger applications, perhaps a database system could be used to store the observations."
   ]
  },
  {
   "cell_type": "code",
   "execution_count": null,
   "metadata": {},
   "outputs": [],
   "source": []
  },
  {
   "cell_type": "markdown",
   "metadata": {},
   "source": [
    "## Example 3: Old Faithful Geyser"
   ]
  },
  {
   "cell_type": "markdown",
   "metadata": {},
   "source": [
    "Old Faithful Geyser Data\n",
    "\n",
    "Description:\n",
    "\n",
    "     Waiting time between eruptions and the duration of the eruption\n",
    "     for the Old Faithful geyser in Yellowstone National Park, Wyoming,\n",
    "     USA.\n",
    "\n",
    "     A data frame with observations on 2 variables.\n",
    "\n",
    "eruptions  numeric  Eruption time in mins\n",
    "waiting    numeric  Waiting time to next eruption\n",
    "\n",
    "References:\n",
    "\n",
    "     Hardle, W. (1991) Smoothing Techniques with Implementation in S.\n",
    "     New York: Springer.\n",
    "\n",
    "     Azzalini, A. and Bowman, A. W. (1990). A look at some data on the\n",
    "     Old Faithful geyser. Applied Statistics 39, 357-365."
   ]
  },
  {
   "cell_type": "code",
   "execution_count": 1,
   "metadata": {},
   "outputs": [],
   "source": [
    "# Required Packages\n",
    "import csv\n",
    "import sys\n",
    "import matplotlib.pyplot as plt\n",
    "import numpy as np\n",
    "import pandas as pd\n",
    "from sklearn import datasets, linear_model"
   ]
  },
  {
   "cell_type": "code",
   "execution_count": 39,
   "metadata": {},
   "outputs": [],
   "source": [
    "def get_data(file_name):\n",
    "    \"\"\" Get Data from CSV file\n",
    "    \n",
    "    Reads the csv file and returns the lists of attributes. \n",
    "    \"\"\"\n",
    "    data = pd.read_csv(file_name).sort_values(\"eruptions\")\n",
    "    print(type(data))\n",
    "    print(data)\n",
    "    x_parameter = []\n",
    "    y_parameter = []\n",
    "    for x, y in zip(data['eruptions'],data['waiting']):\n",
    "        x_parameter.append([float(x)])\n",
    "        y_parameter.append(float(y))\n",
    "    return x_parameter, y_parameter"
   ]
  },
  {
   "cell_type": "code",
   "execution_count": 40,
   "metadata": {},
   "outputs": [
    {
     "name": "stdout",
     "output_type": "stream",
     "text": [
      "<class 'pandas.core.frame.DataFrame'>\n",
      "     S.No  eruptions  waiting\n",
      "18     19      1.600       52\n",
      "57     58      1.667       64\n",
      "114   115      1.700       59\n",
      "54     55      1.733       54\n",
      "43     44      1.750       58\n",
      "222   223      1.750       54\n",
      "62     63      1.750       48\n",
      "21     22      1.750       47\n",
      "16     17      1.750       62\n",
      "13     14      1.750       47\n",
      "205   206      1.783       46\n",
      "107   108      1.783       52\n",
      "149   150      1.800       53\n",
      "1       2      1.800       54\n",
      "158   159      1.800       53\n",
      "20     21      1.800       51\n",
      "118   119      1.817       59\n",
      "64     65      1.817       60\n",
      "270   271      1.817       46\n",
      "134   135      1.833       46\n",
      "10     11      1.833       54\n",
      "52     53      1.833       54\n",
      "38     39      1.833       59\n",
      "94     95      1.833       63\n",
      "187   188      1.833       46\n",
      "191   192      1.833       57\n",
      "262   263      1.850       58\n",
      "236   237      1.850       54\n",
      "92     93      1.867       50\n",
      "105   106      1.867       47\n",
      "..    ...        ...      ...\n",
      "14     15      4.700       83\n",
      "67     68      4.700       78\n",
      "69     70      4.700       73\n",
      "106   107      4.700       84\n",
      "51     52      4.716       90\n",
      "110   111      4.733       75\n",
      "266   267      4.750       75\n",
      "260   261      4.767       78\n",
      "39     40      4.783       90\n",
      "17     18      4.800       84\n",
      "190   191      4.800       81\n",
      "63     64      4.800       82\n",
      "217   218      4.800       94\n",
      "50     51      4.800       75\n",
      "192   193      4.800       76\n",
      "93     94      4.817       78\n",
      "143   144      4.817       77\n",
      "53     54      4.833       80\n",
      "37     38      4.833       80\n",
      "108   109      4.850       86\n",
      "55     56      4.883       83\n",
      "99    100      4.900       82\n",
      "112   113      4.900       89\n",
      "242   243      4.933       86\n",
      "137   138      4.933       86\n",
      "85     86      4.933       88\n",
      "167   168      5.000       88\n",
      "150   151      5.033       77\n",
      "75     76      5.067       76\n",
      "148   149      5.100       96\n",
      "\n",
      "[272 rows x 3 columns]\n"
     ]
    }
   ],
   "source": [
    "A = get_data(\"../files/OldFaithfulGeyserData.csv\")"
   ]
  },
  {
   "cell_type": "code",
   "execution_count": 46,
   "metadata": {},
   "outputs": [
    {
     "data": {
      "image/png": "[encoded data removed]",
      "text/plain": [
       "<matplotlib.figure.Figure at 0x7f705c0a9a90>"
      ]
     },
     "metadata": {},
     "output_type": "display_data"
    }
   ],
   "source": [
    "plt.figure()\n",
    "plt.plot(A[0], A[1])\n",
    "plt.grid(True)\n",
    "plt.show()"
   ]
  },
  {
   "cell_type": "code",
   "execution_count": null,
   "metadata": {},
   "outputs": [],
   "source": []
  },
  {
   "cell_type": "code",
   "execution_count": 24,
   "metadata": {},
   "outputs": [
    {
     "data": {
      "text/plain": [
       "LinearRegression(copy_X=True, fit_intercept=True, n_jobs=1, normalize=False)"
      ]
     },
     "execution_count": 24,
     "metadata": {},
     "output_type": "execute_result"
    }
   ],
   "source": [
    "from sklearn.linear_model import LinearRegression\n",
    "model = LinearRegression()\n",
    "model.fit(A[0], A[1])"
   ]
  },
  {
   "cell_type": "code",
   "execution_count": 48,
   "metadata": {},
   "outputs": [
    {
     "name": "stdout",
     "output_type": "stream",
     "text": [
      "waiting time will be 65.66 sec\n"
     ]
    }
   ],
   "source": [
    "dist = 3\n",
    "print ('waiting time will be %.2f sec' % model.predict([[dist]]))"
   ]
  },
  {
   "cell_type": "code",
   "execution_count": null,
   "metadata": {},
   "outputs": [],
   "source": []
  },
  {
   "cell_type": "code",
   "execution_count": 9,
   "metadata": {},
   "outputs": [],
   "source": []
  }
 ],
 "metadata": {
  "kernelspec": {
   "display_name": "Python 2",
   "language": "python",
   "name": "python2"
  },
  "language_info": {
   "codemirror_mode": {
    "name": "ipython",
    "version": 3
   },
   "file_extension": ".py",
   "mimetype": "text/x-python",
   "name": "python",
   "nbconvert_exporter": "python",
   "pygments_lexer": "ipython3",
   "version": "3.6.3"
  }
 },
 "nbformat": 4,
 "nbformat_minor": 2
}
