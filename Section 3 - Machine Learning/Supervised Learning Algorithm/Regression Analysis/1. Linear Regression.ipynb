{
 "cells": [
  {
   "cell_type": "markdown",
   "metadata": {},
   "source": [
    "# 1. Linear Regression "
   ]
  },
  {
   "cell_type": "markdown",
   "metadata": {
    "collapsed": true
   },
   "source": [
    "Linear regression is an modeling approach to describe the relationship between a **scalar dependent variable** Y and one or more **explanatory variables** (or **independent variables**) denoted X. \n",
    "\n",
    "In other words, it is used to predict the value of an outcome variable Y based on one or more input predictor variables X('s). \n",
    "\n",
    "Our aim in this regression is to establish a linear relationship (i.e. a mathematical formula) between the predictor variable(s) and the response variable (Y), in order to use that formula to predict the response Y, with respect to known values of predictors (X's) values.\n",
    "\n",
    "In **linear regression**, the relationships are modeled using linear predictor functions whose unknown model parameters are estimated from the data and are called **linear models**.\n",
    " "
   ]
  },
  {
   "cell_type": "markdown",
   "metadata": {
    "collapsed": true
   },
   "source": [
    "Their are two types of Linear Regressions based on the number of predictor variables are present. \n",
    "\n",
    "- **Simple Linear Regression**: In it only one explanatory variable is present. \n",
    "\n",
    "- **multiple linear regression**: In it more than one explanatory variable are present. \n"
   ]
  },
  {
   "cell_type": "markdown",
   "metadata": {
    "collapsed": true
   },
   "source": [
    "## samples of linear regression\n",
    "a. Simple Linear Regression\n",
    "![files/Linear_regression.svg.png](../files/Linear_regression.png)\n"
   ]
  },
  {
   "cell_type": "markdown",
   "metadata": {},
   "source": [
    "## Why use linear regression?\n",
    "- widely used\n",
    "- runs fast\n",
    "- easy to use (not a lot of tuning required)\n",
    "- highly interpretable\n",
    "- basis for many other methods"
   ]
  },
  {
   "cell_type": "code",
   "execution_count": null,
   "metadata": {},
   "outputs": [],
   "source": []
  },
  {
   "cell_type": "markdown",
   "metadata": {},
   "source": [
    "## Sample Dataset online\n",
    "https://vincentarelbundock.github.io/Rdatasets/datasets.html "
   ]
  }
 ],
 "metadata": {
  "kernelspec": {
   "display_name": "Python 3",
   "language": "python",
   "name": "python3"
  },
  "language_info": {
   "codemirror_mode": {
    "name": "ipython",
    "version": 3
   },
   "file_extension": ".py",
   "mimetype": "text/x-python",
   "name": "python",
   "nbconvert_exporter": "python",
   "pygments_lexer": "ipython3",
   "version": "3.6.3"
  }
 },
 "nbformat": 4,
 "nbformat_minor": 2
}
