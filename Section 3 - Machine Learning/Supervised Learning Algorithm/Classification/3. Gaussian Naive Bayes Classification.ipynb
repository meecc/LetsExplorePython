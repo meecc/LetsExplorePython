{
 "cells": [
  {
   "cell_type": "markdown",
   "metadata": {},
   "source": [
    "# Gaussian Naive Bayes Classification"
   ]
  },
  {
   "cell_type": "markdown",
   "metadata": {},
   "source": [
    "For most classification problems, it’s nice to have a simple, fast method to provide a quick baseline classification. If the simple and fast method is sufficient, then we don’t have to waste CPU cycles on more complex models. If not, we can use the results of the simple method to give us clues about our data."
   ]
  },
  {
   "cell_type": "markdown",
   "metadata": {},
   "source": [
    "One good method to keep in mind is Gaussian Naive Bayes (`sklearn.naive_bayes.GaussianNB`).\n",
    "\n",
    "Gaussian Naive Bayes fits a Gaussian distribution to each training label independantly on each feature, and uses this to quickly give a rough classification. It is generally not sufficiently accurate for real-world data, but can perform surprisingly well, for instance on text data."
   ]
  },
  {
   "cell_type": "code",
   "execution_count": 1,
   "metadata": {},
   "outputs": [],
   "source": [
    "from sklearn.datasets import load_digits\n",
    "digits = load_digits()"
   ]
  },
  {
   "cell_type": "code",
   "execution_count": 2,
   "metadata": {},
   "outputs": [],
   "source": [
    "from sklearn.naive_bayes import GaussianNB\n",
    "from sklearn.model_selection import train_test_split"
   ]
  },
  {
   "cell_type": "code",
   "execution_count": 3,
   "metadata": {},
   "outputs": [],
   "source": [
    "X_train, X_test, y_train, y_test = train_test_split(digits.data, digits.target)"
   ]
  },
  {
   "cell_type": "code",
   "execution_count": 6,
   "metadata": {},
   "outputs": [
    {
     "name": "stdout",
     "output_type": "stream",
     "text": [
      "1347 450 [8 9 9 ..., 5 6 8] [2 5 4 0 6 3 5 4 9 4 7 2 7 9 2 7 0 4 7 5 0 7 7 3 8 6 5 3 2 4 7 4 2 1 1 5 9\n",
      " 0 0 3 8 0 0 2 6 5 5 9 4 7 4 7 3 8 8 0 9 2 8 1 9 0 3 2 7 8 0 4 3 9 6 0 0 8\n",
      " 1 8 3 5 0 7 4 9 1 8 0 7 8 8 6 0 8 7 2 2 0 6 8 6 6 3 7 7 7 9 5 7 9 2 0 4 6\n",
      " 0 6 1 7 2 2 3 5 7 2 7 6 1 8 3 0 8 2 5 1 4 8 1 0 4 2 5 0 5 3 6 0 3 3 7 6 4\n",
      " 0 6 3 7 6 9 1 2 4 4 0 4 8 5 0 7 6 3 1 7 8 8 9 7 9 9 8 9 5 4 3 3 2 8 0 9 4\n",
      " 0 2 4 9 1 6 6 4 1 9 7 1 6 4 2 0 6 2 4 7 8 6 8 1 9 2 1 3 2 5 2 7 1 0 6 4 0\n",
      " 9 9 4 4 7 9 7 3 0 9 7 5 1 9 0 0 8 8 3 3 1 9 5 1 5 8 6 0 3 7 0 2 5 8 2 0 7\n",
      " 2 5 2 2 5 6 9 3 9 7 7 9 4 2 7 9 6 4 8 5 6 0 0 2 4 6 9 2 4 7 4 9 4 2 6 3 0\n",
      " 9 5 5 1 2 3 1 9 4 5 5 3 8 8 8 3 6 5 9 3 3 5 2 9 0 3 9 4 1 5 5 7 8 1 0 1 2\n",
      " 4 0 7 7 5 4 8 3 8 1 1 9 8 0 7 9 0 8 6 4 4 3 6 9 0 9 4 2 9 9 0 1 4 7 4 6 0\n",
      " 5 5 8 5 5 9 5 3 7 7 7 0 3 2 8 4 3 9 5 4 1 2 5 4 6 8 4 1 2 0 4 3 6 8 3 0 0\n",
      " 9 7 1 5 7 1 3 1 6 5 2 7 8 8 1 8 7 7 7 9 8 4 7 4 3 0 8 3 3 8 8 4 1 5 0 6 1\n",
      " 1 0 4 7 6 0]\n"
     ]
    }
   ],
   "source": [
    "print(len(X_train), len(X_test), y_train, y_test)"
   ]
  },
  {
   "cell_type": "code",
   "execution_count": 7,
   "metadata": {},
   "outputs": [
    {
     "data": {
      "text/plain": [
       "GaussianNB(priors=None)"
      ]
     },
     "execution_count": 7,
     "metadata": {},
     "output_type": "execute_result"
    }
   ],
   "source": [
    "clf = GaussianNB()\n",
    "clf.fit(X_train, y_train)"
   ]
  },
  {
   "cell_type": "code",
   "execution_count": 8,
   "metadata": {},
   "outputs": [
    {
     "name": "stdout",
     "output_type": "stream",
     "text": [
      "[2 5 4 0 6 3 5 4 9 4 7 2 7 8 2 7 0 4 7 5 0 7 7 3 8 6 5 3 2 4 7 4 2 8 8 5 9\n",
      " 0 0 3 8 0 0 2 6 5 5 9 7 7 4 7 3 8 8 0 9 2 8 8 7 0 3 2 7 8 0 4 3 9 6 0 0 8\n",
      " 1 8 8 5 0 7 4 9 1 8 0 7 8 8 6 0 8 7 2 2 0 6 8 6 6 8 7 7 7 9 5 7 9 2 0 7 6\n",
      " 0 6 9 7 8 2 3 5 7 2 7 6 1 5 8 0 8 2 5 8 4 8 1 0 4 2 5 0 7 3 6 0 3 8 7 6 4\n",
      " 0 6 3 7 6 9 8 2 4 4 0 6 8 5 0 7 6 3 8 7 8 1 9 7 9 9 8 9 5 4 7 3 2 8 0 9 4\n",
      " 0 2 4 8 1 6 6 4 1 9 7 1 6 4 1 0 6 2 7 7 8 6 8 1 8 8 1 8 2 6 4 7 1 0 6 4 0\n",
      " 3 8 4 4 7 3 7 8 0 9 7 5 1 7 0 0 8 8 3 8 1 9 8 8 5 8 6 0 3 7 0 2 5 8 2 0 7\n",
      " 8 5 8 8 5 6 7 7 9 7 7 9 4 8 7 1 6 4 8 5 6 0 0 2 4 6 5 1 4 7 7 9 4 2 6 3 0\n",
      " 9 4 5 2 2 3 8 8 4 5 5 3 8 1 8 3 6 5 9 7 3 5 8 9 0 3 9 4 1 5 5 7 8 1 0 1 2\n",
      " 4 0 7 7 5 4 8 3 8 8 1 8 8 0 7 9 0 8 6 4 4 3 6 9 0 9 4 2 0 9 0 1 4 7 4 6 0\n",
      " 5 5 8 5 5 9 5 3 7 7 7 0 1 2 8 4 3 9 5 4 6 2 5 4 6 8 4 8 2 0 4 2 6 8 3 0 0\n",
      " 9 7 7 5 7 1 8 1 6 5 2 7 8 8 9 8 7 7 7 9 8 4 7 4 3 0 8 3 8 8 8 4 1 5 0 6 1\n",
      " 1 0 4 7 6 0]\n",
      "[2 5 4 0 6 3 5 4 9 4 7 2 7 9 2 7 0 4 7 5 0 7 7 3 8 6 5 3 2 4 7 4 2 1 1 5 9\n",
      " 0 0 3 8 0 0 2 6 5 5 9 4 7 4 7 3 8 8 0 9 2 8 1 9 0 3 2 7 8 0 4 3 9 6 0 0 8\n",
      " 1 8 3 5 0 7 4 9 1 8 0 7 8 8 6 0 8 7 2 2 0 6 8 6 6 3 7 7 7 9 5 7 9 2 0 4 6\n",
      " 0 6 1 7 2 2 3 5 7 2 7 6 1 8 3 0 8 2 5 1 4 8 1 0 4 2 5 0 5 3 6 0 3 3 7 6 4\n",
      " 0 6 3 7 6 9 1 2 4 4 0 4 8 5 0 7 6 3 1 7 8 8 9 7 9 9 8 9 5 4 3 3 2 8 0 9 4\n",
      " 0 2 4 9 1 6 6 4 1 9 7 1 6 4 2 0 6 2 4 7 8 6 8 1 9 2 1 3 2 5 2 7 1 0 6 4 0\n",
      " 9 9 4 4 7 9 7 3 0 9 7 5 1 9 0 0 8 8 3 3 1 9 5 1 5 8 6 0 3 7 0 2 5 8 2 0 7\n",
      " 2 5 2 2 5 6 9 3 9 7 7 9 4 2 7 9 6 4 8 5 6 0 0 2 4 6 9 2 4 7 4 9 4 2 6 3 0\n",
      " 9 5 5 1 2 3 1 9 4 5 5 3 8 8 8 3 6 5 9 3 3 5 2 9 0 3 9 4 1 5 5 7 8 1 0 1 2\n",
      " 4 0 7 7 5 4 8 3 8 1 1 9 8 0 7 9 0 8 6 4 4 3 6 9 0 9 4 2 9 9 0 1 4 7 4 6 0\n",
      " 5 5 8 5 5 9 5 3 7 7 7 0 3 2 8 4 3 9 5 4 1 2 5 4 6 8 4 1 2 0 4 3 6 8 3 0 0\n",
      " 9 7 1 5 7 1 3 1 6 5 2 7 8 8 1 8 7 7 7 9 8 4 7 4 3 0 8 3 3 8 8 4 1 5 0 6 1\n",
      " 1 0 4 7 6 0]\n"
     ]
    }
   ],
   "source": [
    "predicted = clf.predict(X_test)\n",
    "expected = y_test\n",
    "print(predicted)\n",
    "print(expected)"
   ]
  },
  {
   "cell_type": "markdown",
   "metadata": {},
   "source": [
    "### Quantitative Measurement of Performance"
   ]
  },
  {
   "cell_type": "code",
   "execution_count": 9,
   "metadata": {},
   "outputs": [
    {
     "name": "stdout",
     "output_type": "stream",
     "text": [
      "[ True  True  True  True  True  True  True  True  True  True  True  True\n",
      "  True False  True  True  True  True  True  True  True  True  True  True\n",
      "  True  True  True  True  True  True  True  True  True False False  True\n",
      "  True  True  True  True  True  True  True  True  True  True  True  True\n",
      " False  True  True  True  True  True  True  True  True  True  True False\n",
      " False  True  True  True  True  True  True  True  True  True  True  True\n",
      "  True  True  True  True False  True  True  True  True  True  True  True\n",
      "  True  True  True  True  True  True  True  True  True  True  True  True\n",
      "  True  True  True False  True  True  True  True  True  True  True  True\n",
      "  True False  True  True  True False  True False  True  True  True  True\n",
      "  True  True  True  True False False  True  True  True  True False  True\n",
      "  True  True  True  True  True  True  True False  True  True  True  True\n",
      " False  True  True  True  True  True  True  True  True  True False  True\n",
      "  True  True  True False  True  True  True  True  True  True False  True\n",
      "  True False  True  True  True  True  True  True  True  True False  True\n",
      "  True  True  True  True  True  True  True  True False  True  True  True\n",
      "  True  True  True  True  True  True  True False  True  True  True False\n",
      "  True  True  True  True  True False False  True False  True False False\n",
      "  True  True  True  True  True  True False False  True  True  True False\n",
      "  True False  True  True  True  True  True False  True  True  True  True\n",
      "  True False  True  True False False  True  True  True  True  True  True\n",
      "  True  True  True  True  True  True  True False  True False False  True\n",
      "  True False False  True  True  True  True  True False  True False  True\n",
      "  True  True  True  True  True  True  True  True  True False False  True\n",
      "  True False  True  True  True  True  True  True  True False  True False\n",
      "  True  True False False  True  True  True  True  True False  True  True\n",
      "  True  True  True False  True  True False  True  True  True  True  True\n",
      "  True  True  True  True  True  True  True  True  True  True  True  True\n",
      "  True  True  True  True  True  True False  True False  True  True  True\n",
      "  True  True  True  True  True  True  True  True  True  True  True  True\n",
      "  True False  True  True  True  True  True  True  True  True  True  True\n",
      "  True  True  True  True  True  True  True  True  True  True False  True\n",
      "  True  True  True  True  True  True False  True  True  True  True  True\n",
      "  True False  True  True  True False  True  True  True  True  True  True\n",
      "  True False  True  True  True False  True  True  True  True  True  True\n",
      "  True False  True  True  True  True  True  True  True  True  True  True\n",
      "  True  True  True False  True  True  True  True  True  True  True  True\n",
      "  True  True  True  True  True  True]\n"
     ]
    }
   ],
   "source": [
    "matches = (predicted == expected)\n",
    "print(matches)"
   ]
  },
  {
   "cell_type": "code",
   "execution_count": 18,
   "metadata": {},
   "outputs": [
    {
     "name": "stdout",
     "output_type": "stream",
     "text": [
      "364\n",
      "450\n",
      "0.808888888889\n"
     ]
    }
   ],
   "source": [
    "print(matches.sum())\n",
    "print(len(matches))\n",
    "qmp = matches.sum() / float(len(matches))\n",
    "print(qmp)"
   ]
  },
  {
   "cell_type": "markdown",
   "metadata": {},
   "source": [
    "We see that more than 80% of the 450 predictions match the input. But there are other more sophisticated metrics that can be used to judge the performance of a classifier: several are available in the sklearn.metrics submodule."
   ]
  },
  {
   "cell_type": "markdown",
   "metadata": {},
   "source": [
    "One of the most useful metrics is the classification_report, which combines several measures and prints a table with the results:"
   ]
  },
  {
   "cell_type": "code",
   "execution_count": 20,
   "metadata": {},
   "outputs": [
    {
     "name": "stdout",
     "output_type": "stream",
     "text": [
      "             precision    recall  f1-score   support\n",
      "\n",
      "          0       0.95      1.00      0.98        41\n",
      "          1       0.80      0.73      0.77        45\n",
      "          2       0.93      0.58      0.71        43\n",
      "          3       0.85      0.76      0.80        45\n",
      "          4       0.94      0.75      0.84        44\n",
      "          5       0.83      0.91      0.87        47\n",
      "          6       0.81      0.96      0.88        48\n",
      "          7       0.82      0.98      0.89        55\n",
      "          8       0.52      0.85      0.65        40\n",
      "          9       0.88      0.50      0.64        42\n",
      "\n",
      "avg / total       0.83      0.81      0.81       450\n",
      "\n"
     ]
    }
   ],
   "source": [
    "from sklearn import metrics\n",
    "print(metrics.classification_report(expected, predicted))"
   ]
  },
  {
   "cell_type": "markdown",
   "metadata": {},
   "source": [
    "Another enlightening metric for this sort of multi-label classification is a confusion matrix: it helps us visualize which labels are being interchanged in the classification errors:"
   ]
  },
  {
   "cell_type": "code",
   "execution_count": 21,
   "metadata": {},
   "outputs": [
    {
     "name": "stdout",
     "output_type": "stream",
     "text": [
      "[[41  0  0  0  0  0  0  0  0  0]\n",
      " [ 0 33  0  0  0  0  4  0  7  1]\n",
      " [ 0  4 25  0  0  0  0  0 14  0]\n",
      " [ 0  0  1 34  0  4  0  2  2  2]\n",
      " [ 1  0  0  0 33  1  6  3  0  0]\n",
      " [ 0  0  0  2  0 43  1  0  1  0]\n",
      " [ 0  0  0  0  0  1 46  0  1  0]\n",
      " [ 0  0  0  0  1  0  0 54  0  0]\n",
      " [ 0  2  1  0  0  0  0  3 34  0]\n",
      " [ 1  2  0  4  1  3  0  4  6 21]]\n"
     ]
    }
   ],
   "source": [
    "print(metrics.confusion_matrix(expected, predicted))"
   ]
  },
  {
   "cell_type": "markdown",
   "metadata": {},
   "source": [
    "the above metrix is shown as 0 1 2 3 4 5 6 7 8 9 both X and Y axis.\n",
    "\n",
    "you can see that there is no confusion in 0 and there are 41 instances of it. \n",
    "you can see that there is some confusion in 1 and there are 31 instances it was correctly identified but it was confused with 6 ( 4 time), 8 (7 times) & 9 (1 time) and so on.  \n",
    "\n",
    "We see here that the numbers 1, 2, 3, and 9 are often being labeled 8. \n"
   ]
  }
 ],
 "metadata": {
  "kernelspec": {
   "display_name": "Python 3",
   "language": "python",
   "name": "python3"
  },
  "language_info": {
   "codemirror_mode": {
    "name": "ipython",
    "version": 3
   },
   "file_extension": ".py",
   "mimetype": "text/x-python",
   "name": "python",
   "nbconvert_exporter": "python",
   "pygments_lexer": "ipython3",
   "version": "3.6.3"
  }
 },
 "nbformat": 4,
 "nbformat_minor": 2
}
