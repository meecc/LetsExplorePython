{
 "cells": [
  {
   "cell_type": "markdown",
   "metadata": {},
   "source": [
    "# Clustering performance evaluation"
   ]
  },
  {
   "cell_type": "markdown",
   "metadata": {},
   "source": [
    "Evaluating the performance of a clustering algorithm is not as trivial as counting the number of errors or the precision and recall of a supervised classification algorithm. In particular any evaluation metric should not take the absolute values of the cluster labels into account but rather if this clustering define separations of the data similar to some ground truth set of classes or satisfying some assumption such that members belong to the same class are more similar that members of different classes according to some similarity metric."
   ]
  },
  {
   "cell_type": "markdown",
   "metadata": {},
   "source": [
    "- Adjusted Rand index\n",
    "    - Advantages\n",
    "    - Drawbacks\n",
    "- Mathematical formulatio-Mutual Information based scores\n",
    "    - Advantages\n",
    "    - Drawbacks\n",
    "    - Mathematical formulation\n",
    "- Homogeneity, completeness and V-measure\n",
    "    - Advantages\n",
    "    - Drawbacks\n",
    "    - Mathematical formulatio\n",
    "- Fowlkes-Mallows scores\n",
    "    - Advantages\n",
    "    - Drawback"
   ]
  },
  {
   "cell_type": "markdown",
   "metadata": {},
   "source": [
    "## Adjusted Rand index"
   ]
  },
  {
   "cell_type": "markdown",
   "metadata": {},
   "source": [
    "- which is the corrected-for-chance version of the Rand index"
   ]
  },
  {
   "cell_type": "markdown",
   "metadata": {},
   "source": [
    "Given the knowledge of the ground truth class assignments labels_true and our clustering algorithm assignments of the same samples labels_pred, **the adjusted Rand index is a function that measures the similarity of the two assignments, ignoring permutations and with chance normalization**:"
   ]
  },
  {
   "cell_type": "code",
   "execution_count": null,
   "metadata": {},
   "outputs": [],
   "source": [
    "actual = [1, 2, 3 , 5, 10, 11]\n",
    "\n",
    "predicted = [1, 10, 11, 3, 2, 5 ]"
   ]
  },
  {
   "cell_type": "markdown",
   "metadata": {},
   "source": [
    "It is defined as the number of pairs of objects that are either in the same group or in different groups in both partitions divided by the total number of pairs of objects. The Rand index lies between 0 and 1. When two partitions agree perfectly, the Rand index achieves the maximum value 1. A problem with Rand index is that the expected value of the Rand index between two random partitions is not a constant. This problem is corrected by the adjusted Rand index that assumes the generalized hyper-geometric distribution as the model of randomness. The adjusted Rand index has the maximum value 1, and its expected value is 0 in the case of random clusters. A larger adjusted Rand index means a higher agreement between two partitions. The adjusted Rand index is recommended for measuring agreement even when the partitions compared have different numbers of clusters.\n"
   ]
  },
  {
   "cell_type": "markdown",
   "metadata": {},
   "source": [
    "The *Rand index or Rand measure* (named after William M. Rand) in statistics, and in particular in data clustering, is a measure of the similarity between two data clusterings. A form of the Rand index may be defined that is adjusted for the chance grouping of elements, this is the **adjusted Rand index**. From a mathematical standpoint, Rand index is related to the accuracy, but is applicable even when class labels are not used."
   ]
  },
  {
   "cell_type": "markdown",
   "metadata": {},
   "source": [
    "- a, the number of pairs of elements in  S that are in the same subset in  X and in the same subset in  Y\n",
    "- b, the number of pairs of elements in  S that are in different subsets in  X and in different subsets in  Y\n",
    "- c, the number of pairs of elements in  S that are in the same subset in  X and in different subsets in  Y\n",
    "- d, the number of pairs of elements in  S that are in different subsets in  X and in the same subset in  Y"
   ]
  },
  {
   "cell_type": "markdown",
   "metadata": {},
   "source": [
    "$R = $$\\frac{a+b}{a+b+c+d} = \\frac{a+b}{{n \\choose 2 }}$"
   ]
  },
  {
   "cell_type": "markdown",
   "metadata": {},
   "source": [
    "$${\\displaystyle \\overbrace {ARI} ^{\\text{Adjusted Index}}={\\frac {\\overbrace {\\sum _{ij}{\\binom {n_{ij}}{2}}} ^{\\text{Index}}-\\overbrace {[\\sum _{i}{\\binom {a_{i}}{2}}\\sum _{j}{\\binom {b_{j}}{2}}]/{\\binom {n}{2}}} ^{\\text{Expected Index}}}{\\underbrace {{\\frac {1}{2}}[\\sum _{i}{\\binom {a_{i}}{2}}+\\sum _{j}{\\binom {b_{j}}{2}}]} _{\\text{Max Index}}-\\underbrace {[\\sum _{i}{\\binom {a_{i}}{2}}\\sum _{j}{\\binom {b_{j}}{2}}]/{\\binom {n}{2}}} _{\\text{Expected Index}}}}}$$"
   ]
  },
  {
   "cell_type": "markdown",
   "metadata": {},
   "source": [
    "where ${\\displaystyle n_{ij},a_{i},b_{j}} n_{ij}$, $a_i$, $b_j$ are values from the contingency table."
   ]
  },
  {
   "cell_type": "code",
   "execution_count": 13,
   "metadata": {},
   "outputs": [
    {
     "data": {
      "text/plain": [
       "0.11764705882352938"
      ]
     },
     "execution_count": 13,
     "metadata": {},
     "output_type": "execute_result"
    }
   ],
   "source": [
    "from sklearn import metrics\n",
    "\n",
    "labels_true = [0, 0, 0, 1, 1, 1]\n",
    "labels_pred = [0, 0, 1, 1, 1, 2]\n",
    "\n",
    "metrics.adjusted_rand_score(labels_true, labels_pred)  "
   ]
  },
  {
   "cell_type": "code",
   "execution_count": 2,
   "metadata": {},
   "outputs": [
    {
     "data": {
      "text/plain": [
       "0.24242424242424246"
      ]
     },
     "execution_count": 2,
     "metadata": {},
     "output_type": "execute_result"
    }
   ],
   "source": [
    "labels_pred = [1, 1, 0, 0, 3, 3]\n",
    "metrics.adjusted_rand_score(labels_true, labels_pred)  "
   ]
  },
  {
   "cell_type": "code",
   "execution_count": 5,
   "metadata": {},
   "outputs": [
    {
     "data": {
      "text/plain": [
       "0.24242424242424246"
      ]
     },
     "execution_count": 5,
     "metadata": {},
     "output_type": "execute_result"
    }
   ],
   "source": [
    "labels_pred = [1, 10, 1, 0, 10, 0]\n",
    "metrics.adjusted_rand_score(labels_true, labels_pred)  "
   ]
  },
  {
   "cell_type": "markdown",
   "metadata": {},
   "source": [
    "Furthermore, adjusted_rand_score is symmetric: swapping the argument does not change the score. It can thus be used as a consensus measure:"
   ]
  },
  {
   "cell_type": "code",
   "execution_count": 6,
   "metadata": {},
   "outputs": [
    {
     "data": {
      "text/plain": [
       "0.24242424242424246"
      ]
     },
     "execution_count": 6,
     "metadata": {},
     "output_type": "execute_result"
    }
   ],
   "source": [
    "labels_pred = [1, 1, 2, 0, 2, 0]\n",
    "metrics.adjusted_rand_score(labels_true, labels_pred)  "
   ]
  },
  {
   "cell_type": "markdown",
   "metadata": {},
   "source": [
    "Perfect labeling is scored 1.0:"
   ]
  },
  {
   "cell_type": "code",
   "execution_count": 9,
   "metadata": {},
   "outputs": [
    {
     "name": "stdout",
     "output_type": "stream",
     "text": [
      "140686911405512 140686911404424\n",
      "[0, 0, 0, 1, 1, 1] [0, 0, 0, 1, 1, 1]\n"
     ]
    }
   ],
   "source": [
    "labels_pred = labels_true[:]\n",
    "print(id(labels_pred), id(labels_true))\n",
    "\n",
    "metrics.adjusted_rand_score(labels_true, labels_pred)\n",
    "print(labels_true, labels_pred)"
   ]
  },
  {
   "cell_type": "markdown",
   "metadata": {},
   "source": [
    "Bad (e.g. independent labelings) have negative or close to 0.0 scores:"
   ]
  },
  {
   "cell_type": "code",
   "execution_count": 16,
   "metadata": {},
   "outputs": [
    {
     "data": {
      "text/plain": [
       "-0.11111111111111108"
      ]
     },
     "execution_count": 16,
     "metadata": {},
     "output_type": "execute_result"
    }
   ],
   "source": [
    "labels_true = [0, 0, 0, 1, 1, 1]\n",
    "labels_pred = [0, 0, 1, 0, 1, 1]\n",
    "metrics.adjusted_rand_score(labels_true, labels_pred)  "
   ]
  },
  {
   "cell_type": "code",
   "execution_count": 5,
   "metadata": {},
   "outputs": [
    {
     "data": {
      "text/plain": [
       "-0.12903225806451613"
      ]
     },
     "execution_count": 5,
     "metadata": {},
     "output_type": "execute_result"
    }
   ],
   "source": [
    "labels_true = [0, 1, 2, 0, 3, 4, 5, 1]\n",
    "labels_pred = [1, 1, 0, 0, 2, 2, 2, 2]\n",
    "metrics.adjusted_rand_score(labels_true, labels_pred)  "
   ]
  },
  {
   "cell_type": "code",
   "execution_count": null,
   "metadata": {},
   "outputs": [],
   "source": []
  },
  {
   "cell_type": "markdown",
   "metadata": {},
   "source": [
    "### Advantages\n",
    "\n",
    "- Random (uniform) label assignments have a ARI score close to 0.0 for any value of n_clusters and n_samples (which is not the case for raw Rand index or the V-measure for instance).\n",
    "- Bounded range [-1, 1]: negative values are bad (independent labelings), similar clusterings have a positive ARI, 1.0 is the perfect match score.\n",
    "- No assumption is made on the cluster structure: can be used to compare clustering algorithms such as k-means which assumes isotropic blob shapes with results of spectral clustering algorithms which can find cluster with “folded” shapes."
   ]
  },
  {
   "cell_type": "markdown",
   "metadata": {},
   "source": [
    "### Drawbacks\n",
    "\n",
    "- Contrary to inertia, ARI requires knowledge of the ground truth classes while is almost never available in practice or requires manual assignment by human annotators (as in the supervised learning setting).\n",
    "\n",
    "- However ARI can also be useful in a purely unsupervised setting as a building block for a Consensus Index that can be used for clustering model selection (TODO)."
   ]
  },
  {
   "cell_type": "markdown",
   "metadata": {},
   "source": [
    "### Example "
   ]
  },
  {
   "cell_type": "code",
   "execution_count": 7,
   "metadata": {},
   "outputs": [
    {
     "name": "stdout",
     "output_type": "stream",
     "text": [
      "Automatically created module for IPython interactive environment\n",
      "Computing adjusted_rand_score for 10 values of n_clusters and n_samples=100\n",
      "done in 0.046s\n",
      "Computing v_measure_score for 10 values of n_clusters and n_samples=100\n",
      "done in 0.063s\n",
      "Computing adjusted_mutual_info_score for 10 values of n_clusters and n_samples=100\n",
      "done in 0.596s\n",
      "Computing mutual_info_score for 10 values of n_clusters and n_samples=100\n",
      "done in 0.052s\n",
      "Computing adjusted_rand_score for 10 values of n_clusters and n_samples=1000\n",
      "done in 0.063s\n",
      "Computing v_measure_score for 10 values of n_clusters and n_samples=1000\n",
      "done in 0.092s\n",
      "Computing adjusted_mutual_info_score for 10 values of n_clusters and n_samples=1000\n",
      "done in 0.381s\n",
      "Computing mutual_info_score for 10 values of n_clusters and n_samples=1000\n",
      "done in 0.071s\n"
     ]
    },
    {
     "data": {
      "image/png": "[encoded data removed]",
      "text/plain": [
       "<matplotlib.figure.Figure at 0x7fd3c6f4b160>"
      ]
     },
     "metadata": {},
     "output_type": "display_data"
    },
    {
     "data": {
      "image/png": "[encoded data removed]",
      "text/plain": [
       "<matplotlib.figure.Figure at 0x7fd3c4b94e80>"
      ]
     },
     "metadata": {},
     "output_type": "display_data"
    }
   ],
   "source": [
    "print(__doc__)\n",
    "\n",
    "# Author: Olivier Grisel <olivier.grisel@ensta.org>\n",
    "# License: BSD 3 clause\n",
    "\n",
    "import numpy as np\n",
    "import matplotlib.pyplot as plt\n",
    "from time import time\n",
    "from sklearn import metrics\n",
    "\n",
    "\n",
    "def uniform_labelings_scores(score_func, n_samples, n_clusters_range,\n",
    "                             fixed_n_classes=None, n_runs=5, seed=42):\n",
    "    \"\"\"Compute score for 2 random uniform cluster labelings.\n",
    "\n",
    "    Both random labelings have the same number of clusters for each value\n",
    "    possible value in ``n_clusters_range``.\n",
    "\n",
    "    When fixed_n_classes is not None the first labeling is considered a ground\n",
    "    truth class assignment with fixed number of classes.\n",
    "    \"\"\"\n",
    "    random_labels = np.random.RandomState(seed).randint\n",
    "    scores = np.zeros((len(n_clusters_range), n_runs))\n",
    "\n",
    "    if fixed_n_classes is not None:\n",
    "        labels_a = random_labels(low=0, high=fixed_n_classes, size=n_samples)\n",
    "\n",
    "    for i, k in enumerate(n_clusters_range):\n",
    "        for j in range(n_runs):\n",
    "            if fixed_n_classes is None:\n",
    "                labels_a = random_labels(low=0, high=k, size=n_samples)\n",
    "            labels_b = random_labels(low=0, high=k, size=n_samples)\n",
    "            scores[i, j] = score_func(labels_a, labels_b)\n",
    "    return scores\n",
    "\n",
    "score_funcs = [\n",
    "    metrics.adjusted_rand_score,\n",
    "    metrics.v_measure_score,\n",
    "    metrics.adjusted_mutual_info_score,\n",
    "    metrics.mutual_info_score,\n",
    "]\n",
    "\n",
    "# 2 independent random clusterings with equal cluster number\n",
    "\n",
    "n_samples = 100\n",
    "n_clusters_range = np.linspace(2, n_samples, 10).astype(np.int)\n",
    "\n",
    "plt.figure(1)\n",
    "\n",
    "plots = []\n",
    "names = []\n",
    "for score_func in score_funcs:\n",
    "    print(\"Computing %s for %d values of n_clusters and n_samples=%d\"\n",
    "          % (score_func.__name__, len(n_clusters_range), n_samples))\n",
    "\n",
    "    t0 = time()\n",
    "    scores = uniform_labelings_scores(score_func, n_samples, n_clusters_range)\n",
    "    print(\"done in %0.3fs\" % (time() - t0))\n",
    "    plots.append(plt.errorbar(\n",
    "        n_clusters_range, np.median(scores, axis=1), scores.std(axis=1))[0])\n",
    "    names.append(score_func.__name__)\n",
    "\n",
    "plt.title(\"Clustering measures for 2 random uniform labelings\\n\"\n",
    "          \"with equal number of clusters\")\n",
    "plt.xlabel('Number of clusters (Number of samples is fixed to %d)' % n_samples)\n",
    "plt.ylabel('Score value')\n",
    "plt.legend(plots, names)\n",
    "plt.ylim(ymin=-0.05, ymax=1.05)\n",
    "\n",
    "\n",
    "# Random labeling with varying n_clusters against ground class labels\n",
    "# with fixed number of clusters\n",
    "\n",
    "n_samples = 1000\n",
    "n_clusters_range = np.linspace(2, 100, 10).astype(np.int)\n",
    "n_classes = 10\n",
    "\n",
    "plt.figure(2)\n",
    "\n",
    "plots = []\n",
    "names = []\n",
    "for score_func in score_funcs:\n",
    "    print(\"Computing %s for %d values of n_clusters and n_samples=%d\"\n",
    "          % (score_func.__name__, len(n_clusters_range), n_samples))\n",
    "\n",
    "    t0 = time()\n",
    "    scores = uniform_labelings_scores(score_func, n_samples, n_clusters_range,\n",
    "                                      fixed_n_classes=n_classes)\n",
    "    print(\"done in %0.3fs\" % (time() - t0))\n",
    "    plots.append(plt.errorbar(\n",
    "        n_clusters_range, scores.mean(axis=1), scores.std(axis=1))[0])\n",
    "    names.append(score_func.__name__)\n",
    "\n",
    "plt.title(\"Clustering measures for random uniform labeling\\n\"\n",
    "          \"against reference assignment with %d classes\" % n_classes)\n",
    "plt.xlabel('Number of clusters (Number of samples is fixed to %d)' % n_samples)\n",
    "plt.ylabel('Score value')\n",
    "plt.ylim(ymin=-0.05, ymax=1.05)\n",
    "plt.legend(plots, names)\n",
    "plt.show()"
   ]
  },
  {
   "cell_type": "markdown",
   "metadata": {},
   "source": [
    "## Mutual Information based scores"
   ]
  },
  {
   "cell_type": "markdown",
   "metadata": {},
   "source": [
    "Given the knowledge of the ground truth class assignments labels_true and our clustering algorithm assignments of the same samples labels_pred, the Mutual Information is a function that measures the agreement of the two assignments, ignoring permutations. Two different normalized versions of this measure are available, Normalized Mutual Information(NMI) and Adjusted Mutual Information(AMI). NMI is often used in the literature while AMI was proposed more recently and is normalized against chance:"
   ]
  },
  {
   "cell_type": "code",
   "execution_count": 18,
   "metadata": {},
   "outputs": [
    {
     "data": {
      "text/plain": [
       "0.2250422831983088"
      ]
     },
     "execution_count": 18,
     "metadata": {},
     "output_type": "execute_result"
    }
   ],
   "source": [
    "from sklearn import metrics\n",
    "labels_true = [0, 0, 0, 1, 1, 1]\n",
    "labels_pred = [0, 0, 1, 1, 2, 2]\n",
    "\n",
    "metrics.adjusted_mutual_info_score(labels_true, labels_pred) "
   ]
  },
  {
   "cell_type": "code",
   "execution_count": 22,
   "metadata": {},
   "outputs": [
    {
     "data": {
      "text/plain": [
       "1.0"
      ]
     },
     "execution_count": 22,
     "metadata": {},
     "output_type": "execute_result"
    }
   ],
   "source": [
    "from sklearn import metrics\n",
    "labels_true = [0, 0, 0, 1, 1, 1]\n",
    "labels_pred = [0, 0, 0, 1, 1, 1]\n",
    "\n",
    "metrics.adjusted_mutual_info_score(labels_true, labels_pred) "
   ]
  },
  {
   "cell_type": "code",
   "execution_count": 35,
   "metadata": {},
   "outputs": [
    {
     "name": "stdout",
     "output_type": "stream",
     "text": [
      "0.705882352941\n",
      "0.571842564449\n"
     ]
    }
   ],
   "source": [
    "from sklearn import metrics\n",
    "labels_true = [0, 0, 0, 1, 1, 1]\n",
    "labels_pred = [0, 0, 0, 1, 1, 2]\n",
    "print(metrics.adjusted_rand_score(labels_true, labels_pred))\n",
    "print(metrics.adjusted_mutual_info_score(labels_true, labels_pred) )"
   ]
  },
  {
   "cell_type": "code",
   "execution_count": 34,
   "metadata": {},
   "outputs": [
    {
     "name": "stdout",
     "output_type": "stream",
     "text": [
      "0.705882352941\n"
     ]
    },
    {
     "data": {
      "text/plain": [
       "0.57184256444862269"
      ]
     },
     "execution_count": 34,
     "metadata": {},
     "output_type": "execute_result"
    }
   ],
   "source": [
    "from sklearn import metrics\n",
    "labels_true = [0, 0, 0, 1, 1, 1]\n",
    "labels_pred = [0, 0, 0, 1, 5, 1]\n",
    "print(metrics.adjusted_rand_score(labels_true, labels_pred))\n",
    "metrics.adjusted_mutual_info_score(labels_true, labels_pred) "
   ]
  },
  {
   "cell_type": "markdown",
   "metadata": {},
   "source": [
    "One can permute 0 and 1 in the predicted labels, rename 2 to 3 and get the same score:"
   ]
  },
  {
   "cell_type": "code",
   "execution_count": 33,
   "metadata": {},
   "outputs": [
    {
     "data": {
      "text/plain": [
       "0.2250422831983088"
      ]
     },
     "execution_count": 33,
     "metadata": {},
     "output_type": "execute_result"
    }
   ],
   "source": [
    "labels_pred = [1, 1, 0, 0, 3, 3]\n",
    "metrics.adjusted_mutual_info_score(labels_true, labels_pred)  "
   ]
  },
  {
   "cell_type": "markdown",
   "metadata": {},
   "source": [
    "All, mutual_info_score, adjusted_mutual_info_score and normalized_mutual_info_score are symmetric: swapping the argument does not change the score. Thus they can be used as a consensus measure:"
   ]
  },
  {
   "cell_type": "code",
   "execution_count": 34,
   "metadata": {},
   "outputs": [
    {
     "data": {
      "text/plain": [
       "0.2250422831983088"
      ]
     },
     "execution_count": 34,
     "metadata": {},
     "output_type": "execute_result"
    }
   ],
   "source": [
    "metrics.adjusted_mutual_info_score(labels_pred, labels_true)  "
   ]
  },
  {
   "cell_type": "markdown",
   "metadata": {},
   "source": [
    "Perfect labeling is scored 1.0:"
   ]
  },
  {
   "cell_type": "code",
   "execution_count": 35,
   "metadata": {},
   "outputs": [
    {
     "data": {
      "text/plain": [
       "1.0"
      ]
     },
     "execution_count": 35,
     "metadata": {},
     "output_type": "execute_result"
    }
   ],
   "source": [
    "labels_pred = labels_true[:]\n",
    "metrics.adjusted_mutual_info_score(labels_true, labels_pred)\n",
    "metrics.normalized_mutual_info_score(labels_true, labels_pred)"
   ]
  },
  {
   "cell_type": "markdown",
   "metadata": {},
   "source": [
    "This is not true for mutual_info_score, which is therefore harder to judge:\n",
    "\n"
   ]
  },
  {
   "cell_type": "code",
   "execution_count": 36,
   "metadata": {},
   "outputs": [
    {
     "data": {
      "text/plain": [
       "0.69314718055994518"
      ]
     },
     "execution_count": 36,
     "metadata": {},
     "output_type": "execute_result"
    }
   ],
   "source": [
    "metrics.mutual_info_score(labels_true, labels_pred)  "
   ]
  },
  {
   "cell_type": "code",
   "execution_count": 37,
   "metadata": {},
   "outputs": [
    {
     "name": "stdout",
     "output_type": "stream",
     "text": [
      "0.309198582275\n",
      "0.69314718056\n"
     ]
    }
   ],
   "source": [
    "# Bad\n",
    "labels_true = [0, 0, 0, 1, 1, 5, 1, 1]\n",
    "labels_pred = [1, 1, 3, 5, 2, 2, 2, 2]\n",
    "print(metrics.adjusted_mutual_info_score(labels_true, labels_pred) )\n",
    "print(metrics.mutual_info_score(labels_true, labels_pred))"
   ]
  },
  {
   "cell_type": "markdown",
   "metadata": {},
   "source": [
    "### Advantages"
   ]
  },
  {
   "cell_type": "markdown",
   "metadata": {},
   "source": [
    "- Random (uniform) label assignments have a AMI score close to 0.0 for any value of n_clusters and n_samples (which is not the case for raw Mutual Information or the V-measure for instance).\n",
    "- Bounded range [0, 1]: Values close to zero indicate two label assignments that are largely independent, while values close to one indicate significant agreement. Further, values of exactly 0 indicate purely independent label assignments and a AMI of exactly 1 indicates that the two label assignments are equal (with or without permutation).\n",
    "- No assumption is made on the cluster structure: can be used to compare clustering algorithms such as k-means which assumes isotropic blob shapes with results of spectral clustering algorithms which can find cluster with “folded” shapes."
   ]
  },
  {
   "cell_type": "markdown",
   "metadata": {},
   "source": [
    "### Drawbacks"
   ]
  },
  {
   "cell_type": "markdown",
   "metadata": {},
   "source": [
    "- Contrary to inertia, MI-based measures require the knowledge of the ground truth classes while almost never available in practice or requires manual assignment by human annotators (as in the supervised learning setting).\n",
    "\n",
    "    However MI-based measures can also be useful in purely unsupervised setting as a building block for a Consensus Index that can be used for clustering model selection.\n",
    "\n",
    "- NMI and MI are not adjusted against chance."
   ]
  },
  {
   "cell_type": "markdown",
   "metadata": {},
   "source": [
    "> $H(U) = - $$\\sum_{i=1}^{|U|}P(i)\\log(P(i))$"
   ]
  },
  {
   "cell_type": "markdown",
   "metadata": {},
   "source": [
    "where P(i) = |U_i| / N is the probability that an object picked at random from U falls into class U_i. "
   ]
  },
  {
   "cell_type": "code",
   "execution_count": 3,
   "metadata": {},
   "outputs": [
    {
     "name": "stdout",
     "output_type": "stream",
     "text": [
      "Automatically created module for IPython interactive environment\n",
      "Computing adjusted_rand_score for 10 values of n_clusters and n_samples=100\n",
      "done in 0.078s\n",
      "Computing v_measure_score for 10 values of n_clusters and n_samples=100\n",
      "done in 0.062s\n",
      "Computing adjusted_mutual_info_score for 10 values of n_clusters and n_samples=100\n",
      "done in 0.570s\n",
      "Computing mutual_info_score for 10 values of n_clusters and n_samples=100\n",
      "done in 0.052s\n",
      "Computing adjusted_rand_score for 10 values of n_clusters and n_samples=1000\n",
      "done in 0.071s\n",
      "Computing v_measure_score for 10 values of n_clusters and n_samples=1000\n",
      "done in 0.096s\n",
      "Computing adjusted_mutual_info_score for 10 values of n_clusters and n_samples=1000\n",
      "done in 0.378s\n",
      "Computing mutual_info_score for 10 values of n_clusters and n_samples=1000\n",
      "done in 0.095s\n"
     ]
    },
    {
     "data": {
      "image/png": "[encoded data removed]",
      "text/plain": [
       "<matplotlib.figure.Figure at 0x7f022c4aca20>"
      ]
     },
     "metadata": {},
     "output_type": "display_data"
    },
    {
     "data": {
      "image/png": "[encoded data removed]",
      "text/plain": [
       "<matplotlib.figure.Figure at 0x7f01feb59e10>"
      ]
     },
     "metadata": {},
     "output_type": "display_data"
    }
   ],
   "source": [
    "print(__doc__)\n",
    "\n",
    "# Author: Olivier Grisel <olivier.grisel@ensta.org>\n",
    "# License: BSD 3 clause\n",
    "\n",
    "import numpy as np\n",
    "import matplotlib.pyplot as plt\n",
    "from time import time\n",
    "from sklearn import metrics\n",
    "\n",
    "\n",
    "def uniform_labelings_scores(score_func, n_samples, n_clusters_range,\n",
    "                             fixed_n_classes=None, n_runs=5, seed=42):\n",
    "    \"\"\"Compute score for 2 random uniform cluster labelings.\n",
    "\n",
    "    Both random labelings have the same number of clusters for each value\n",
    "    possible value in ``n_clusters_range``.\n",
    "\n",
    "    When fixed_n_classes is not None the first labeling is considered a ground\n",
    "    truth class assignment with fixed number of classes.\n",
    "    \"\"\"\n",
    "    random_labels = np.random.RandomState(seed).randint\n",
    "    scores = np.zeros((len(n_clusters_range), n_runs))\n",
    "\n",
    "    if fixed_n_classes is not None:\n",
    "        labels_a = random_labels(low=0, high=fixed_n_classes, size=n_samples)\n",
    "\n",
    "    for i, k in enumerate(n_clusters_range):\n",
    "        for j in range(n_runs):\n",
    "            if fixed_n_classes is None:\n",
    "                labels_a = random_labels(low=0, high=k, size=n_samples)\n",
    "            labels_b = random_labels(low=0, high=k, size=n_samples)\n",
    "            scores[i, j] = score_func(labels_a, labels_b)\n",
    "    return scores\n",
    "\n",
    "score_funcs = [\n",
    "    metrics.adjusted_rand_score,\n",
    "    metrics.v_measure_score,\n",
    "    metrics.adjusted_mutual_info_score,\n",
    "    metrics.mutual_info_score,\n",
    "]\n",
    "\n",
    "# 2 independent random clusterings with equal cluster number\n",
    "\n",
    "n_samples = 100\n",
    "n_clusters_range = np.linspace(2, n_samples, 10).astype(np.int)\n",
    "\n",
    "plt.figure(1)\n",
    "\n",
    "plots = []\n",
    "names = []\n",
    "for score_func in score_funcs:\n",
    "    print(\"Computing %s for %d values of n_clusters and n_samples=%d\"\n",
    "          % (score_func.__name__, len(n_clusters_range), n_samples))\n",
    "\n",
    "    t0 = time()\n",
    "    scores = uniform_labelings_scores(score_func, n_samples, n_clusters_range)\n",
    "    print(\"done in %0.3fs\" % (time() - t0))\n",
    "    plots.append(plt.errorbar(\n",
    "        n_clusters_range, np.median(scores, axis=1), scores.std(axis=1))[0])\n",
    "    names.append(score_func.__name__)\n",
    "\n",
    "plt.title(\"Clustering measures for 2 random uniform labelings\\n\"\n",
    "          \"with equal number of clusters\")\n",
    "plt.xlabel('Number of clusters (Number of samples is fixed to %d)' % n_samples)\n",
    "plt.ylabel('Score value')\n",
    "plt.legend(plots, names)\n",
    "plt.ylim(ymin=-0.05, ymax=1.05)\n",
    "\n",
    "\n",
    "# Random labeling with varying n_clusters against ground class labels\n",
    "# with fixed number of clusters\n",
    "\n",
    "n_samples = 1000\n",
    "n_clusters_range = np.linspace(2, 100, 10).astype(np.int)\n",
    "n_classes = 10\n",
    "\n",
    "plt.figure(2)\n",
    "\n",
    "plots = []\n",
    "names = []\n",
    "for score_func in score_funcs:\n",
    "    print(\"Computing %s for %d values of n_clusters and n_samples=%d\"\n",
    "          % (score_func.__name__, len(n_clusters_range), n_samples))\n",
    "\n",
    "    t0 = time()\n",
    "    scores = uniform_labelings_scores(score_func, n_samples, n_clusters_range,\n",
    "                                      fixed_n_classes=n_classes)\n",
    "    print(\"done in %0.3fs\" % (time() - t0))\n",
    "    plots.append(plt.errorbar(\n",
    "        n_clusters_range, scores.mean(axis=1), scores.std(axis=1))[0])\n",
    "    names.append(score_func.__name__)\n",
    "\n",
    "plt.title(\"Clustering measures for random uniform labeling\\n\"\n",
    "          \"against reference assignment with %d classes\" % n_classes)\n",
    "plt.xlabel('Number of clusters (Number of samples is fixed to %d)' % n_samples)\n",
    "plt.ylabel('Score value')\n",
    "plt.ylim(ymin=-0.05, ymax=1.05)\n",
    "plt.legend(plots, names)\n",
    "plt.show()"
   ]
  },
  {
   "cell_type": "markdown",
   "metadata": {},
   "source": [
    "### Homogeneity, completeness and V-measure"
   ]
  },
  {
   "cell_type": "markdown",
   "metadata": {},
   "source": [
    "Given the knowledge of the ground truth class assignments of the samples, it is possible to define some intuitive metric using conditional entropy analysis.\n",
    "\n",
    "In particular Rosenberg and Hirschberg (2007) define the following two desirable objectives for any cluster assignment:\n",
    "\n",
    "- homogeneity: each cluster contains only members of a single class.\n",
    "- completeness: all members of a given class are assigned to the same cluster.\n",
    "\n",
    "We can turn those concept as scores homogeneity_score and completeness_score. Both are bounded below by 0.0 and above by 1.0 (higher is better):"
   ]
  },
  {
   "cell_type": "code",
   "execution_count": 38,
   "metadata": {},
   "outputs": [
    {
     "name": "stdout",
     "output_type": "stream",
     "text": [
      "0.666666666667\n",
      "0.420619835714\n"
     ]
    }
   ],
   "source": [
    "from sklearn import metrics\n",
    "labels_true = [0, 0, 0, 1, 1, 1]\n",
    "labels_pred = [0, 0, 1, 1, 2, 2]\n",
    "\n",
    "print(metrics.homogeneity_score(labels_true, labels_pred) ) \n",
    "print(metrics.completeness_score(labels_true, labels_pred) )"
   ]
  },
  {
   "cell_type": "code",
   "execution_count": 44,
   "metadata": {},
   "outputs": [
    {
     "name": "stdout",
     "output_type": "stream",
     "text": [
      "0.0817041659455\n",
      "0.0817041659455\n"
     ]
    }
   ],
   "source": [
    "labels_true = [0, 0, 0, 1, 1, 1]\n",
    "labels_pred = [0, 2, 2, 0, 0, 2]\n",
    "\n",
    "print(metrics.homogeneity_score(labels_true, labels_pred)) \n",
    "print(metrics.completeness_score(labels_true, labels_pred))"
   ]
  },
  {
   "cell_type": "code",
   "execution_count": 47,
   "metadata": {},
   "outputs": [
    {
     "name": "stdout",
     "output_type": "stream",
     "text": [
      "0.0817041659455\n",
      "0.0817041659455\n"
     ]
    }
   ],
   "source": [
    "labels_true = [0, 0, 0, 1, 1, 1]\n",
    "labels_pred = [0, 1, 1, 0, 0, 1]\n",
    "\n",
    "print(metrics.homogeneity_score(labels_true, labels_pred)) \n",
    "print(metrics.completeness_score(labels_true, labels_pred))"
   ]
  },
  {
   "cell_type": "code",
   "execution_count": 49,
   "metadata": {},
   "outputs": [
    {
     "name": "stdout",
     "output_type": "stream",
     "text": [
      "1.0\n",
      "1.0\n"
     ]
    }
   ],
   "source": [
    "labels_true = [0, 0, 0, 1, 1, 1]\n",
    "labels_pred = [0, 0, 0, 2, 2, 2]\n",
    "\n",
    "print(metrics.homogeneity_score(labels_true, labels_pred)) \n",
    "print(metrics.completeness_score(labels_true, labels_pred))"
   ]
  },
  {
   "cell_type": "markdown",
   "metadata": {},
   "source": [
    "Their harmonic mean called V-measure is computed by v_measure_score:"
   ]
  },
  {
   "cell_type": "code",
   "execution_count": 5,
   "metadata": {},
   "outputs": [
    {
     "data": {
      "text/plain": [
       "0.51580374297938891"
      ]
     },
     "execution_count": 5,
     "metadata": {},
     "output_type": "execute_result"
    }
   ],
   "source": [
    "metrics.v_measure_score(labels_true, labels_pred)    "
   ]
  },
  {
   "cell_type": "markdown",
   "metadata": {},
   "source": [
    "The V-measure is actually equivalent to the mutual information (NMI) discussed above normalized by the sum of the label entropies. \n",
    "\n",
    "Homogeneity, completeness and V-measure can be computed at once using homogeneity_completeness_v_measure as follows:"
   ]
  },
  {
   "cell_type": "markdown",
   "metadata": {},
   "source": [
    "metrics.homogeneity_completeness_v_measure(labels_true, labels_pred)"
   ]
  },
  {
   "cell_type": "markdown",
   "metadata": {},
   "source": [
    "The following clustering assignment is slightly better, since it is homogeneous but not complete:"
   ]
  },
  {
   "cell_type": "code",
   "execution_count": 7,
   "metadata": {},
   "outputs": [
    {
     "data": {
      "text/plain": [
       "(1.0, 0.68533147896158653, 0.81328983350367623)"
      ]
     },
     "execution_count": 7,
     "metadata": {},
     "output_type": "execute_result"
    }
   ],
   "source": [
    "labels_pred = [0, 0, 0, 1, 2, 2]\n",
    "metrics.homogeneity_completeness_v_measure(labels_true, labels_pred)"
   ]
  },
  {
   "cell_type": "markdown",
   "metadata": {},
   "source": [
    "Note v_measure_score is symmetric: it can be used to evaluate the agreement of two independent assignments on the same dataset.\n",
    "This is not the case for completeness_score and homogeneity_score: both are bound by the relationship:\n"
   ]
  },
  {
   "cell_type": "code",
   "execution_count": 11,
   "metadata": {},
   "outputs": [
    {
     "data": {
      "text/plain": [
       "True"
      ]
     },
     "execution_count": 11,
     "metadata": {},
     "output_type": "execute_result"
    }
   ],
   "source": [
    "\n",
    "metrics.homogeneity_score(labels_true, labels_pred) == metrics.completeness_score(labels_pred, labels_true)"
   ]
  },
  {
   "cell_type": "markdown",
   "metadata": {},
   "source": [
    "#### Advantages"
   ]
  },
  {
   "cell_type": "markdown",
   "metadata": {},
   "source": [
    "- Bounded scores: 0.0 is as bad as it can be, 1.0 is a perfect score.\n",
    "- Intuitive interpretation: clustering with bad V-measure can be qualitatively analyzed in terms of homogeneity and completeness to better feel what ‘kind’ of mistakes is done by the assignment.\n",
    "- No assumption is made on the cluster structure: can be used to compare clustering algorithms such as k-means which assumes isotropic blob shapes with results of spectral clustering algorithms which can find cluster with “folded” shapes."
   ]
  },
  {
   "cell_type": "markdown",
   "metadata": {},
   "source": [
    "#### Drawbacks"
   ]
  },
  {
   "cell_type": "markdown",
   "metadata": {},
   "source": [
    "- The previously introduced metrics are not normalized with regards to random labeling: this means that depending on the number of samples, clusters and ground truth classes, a completely random labeling will not always yield the same values for homogeneity, completeness and hence v-measure. In particular random labeling won’t yield zero scores especially when the number of clusters is large.\n",
    "\n",
    "- This problem can safely be ignored when the number of samples is more than a thousand and the number of clusters is less than 10. For smaller sample sizes or larger number of clusters it is safer to use an adjusted index such as the Adjusted Rand Index (ARI).\n",
    "\n",
    "- These metrics require the knowledge of the ground truth classes while almost never available in practice or requires manual assignment by human annotators (as in the supervised learning setting)."
   ]
  },
  {
   "cell_type": "code",
   "execution_count": 50,
   "metadata": {},
   "outputs": [
    {
     "name": "stdout",
     "output_type": "stream",
     "text": [
      "Automatically created module for IPython interactive environment\n",
      "Computing adjusted_rand_score for 10 values of n_clusters and n_samples=100\n",
      "done in 0.048s\n",
      "Computing v_measure_score for 10 values of n_clusters and n_samples=100\n",
      "done in 0.092s\n",
      "Computing adjusted_mutual_info_score for 10 values of n_clusters and n_samples=100\n",
      "done in 0.806s\n",
      "Computing mutual_info_score for 10 values of n_clusters and n_samples=100\n",
      "done in 0.082s\n",
      "Computing adjusted_rand_score for 10 values of n_clusters and n_samples=1000\n",
      "done in 0.099s\n",
      "Computing v_measure_score for 10 values of n_clusters and n_samples=1000\n",
      "done in 0.114s\n",
      "Computing adjusted_mutual_info_score for 10 values of n_clusters and n_samples=1000\n",
      "done in 0.504s\n",
      "Computing mutual_info_score for 10 values of n_clusters and n_samples=1000\n",
      "done in 0.097s\n"
     ]
    },
    {
     "data": {
      "image/png": "[encoded data removed]",
      "text/plain": [
       "<matplotlib.figure.Figure at 0x7ff439613cc0>"
      ]
     },
     "metadata": {},
     "output_type": "display_data"
    },
    {
     "data": {
      "image/png": "[encoded data removed]",
      "text/plain": [
       "<matplotlib.figure.Figure at 0x7ff40e73af98>"
      ]
     },
     "metadata": {},
     "output_type": "display_data"
    }
   ],
   "source": [
    "print(__doc__)\n",
    "\n",
    "# Author: Olivier Grisel <olivier.grisel@ensta.org>\n",
    "# License: BSD 3 clause\n",
    "\n",
    "import numpy as np\n",
    "import matplotlib.pyplot as plt\n",
    "from time import time\n",
    "from sklearn import metrics\n",
    "\n",
    "\n",
    "def uniform_labelings_scores(score_func, n_samples, n_clusters_range,\n",
    "                             fixed_n_classes=None, n_runs=5, seed=42):\n",
    "    \"\"\"Compute score for 2 random uniform cluster labelings.\n",
    "\n",
    "    Both random labelings have the same number of clusters for each value\n",
    "    possible value in ``n_clusters_range``.\n",
    "\n",
    "    When fixed_n_classes is not None the first labeling is considered a ground\n",
    "    truth class assignment with fixed number of classes.\n",
    "    \"\"\"\n",
    "    random_labels = np.random.RandomState(seed).randint\n",
    "    scores = np.zeros((len(n_clusters_range), n_runs))\n",
    "\n",
    "    if fixed_n_classes is not None:\n",
    "        labels_a = random_labels(low=0, high=fixed_n_classes, size=n_samples)\n",
    "\n",
    "    for i, k in enumerate(n_clusters_range):\n",
    "        for j in range(n_runs):\n",
    "            if fixed_n_classes is None:\n",
    "                labels_a = random_labels(low=0, high=k, size=n_samples)\n",
    "            labels_b = random_labels(low=0, high=k, size=n_samples)\n",
    "            scores[i, j] = score_func(labels_a, labels_b)\n",
    "    return scores\n",
    "\n",
    "score_funcs = [\n",
    "    metrics.adjusted_rand_score,\n",
    "    metrics.v_measure_score,\n",
    "    metrics.adjusted_mutual_info_score,\n",
    "    metrics.mutual_info_score,\n",
    "]\n",
    "\n",
    "# 2 independent random clusterings with equal cluster number\n",
    "\n",
    "n_samples = 100\n",
    "n_clusters_range = np.linspace(2, n_samples, 10).astype(np.int)\n",
    "\n",
    "plt.figure(1)\n",
    "\n",
    "plots = []\n",
    "names = []\n",
    "for score_func in score_funcs:\n",
    "    print(\"Computing %s for %d values of n_clusters and n_samples=%d\"\n",
    "          % (score_func.__name__, len(n_clusters_range), n_samples))\n",
    "\n",
    "    t0 = time()\n",
    "    scores = uniform_labelings_scores(score_func, n_samples, n_clusters_range)\n",
    "    print(\"done in %0.3fs\" % (time() - t0))\n",
    "    plots.append(plt.errorbar(\n",
    "        n_clusters_range, np.median(scores, axis=1), scores.std(axis=1))[0])\n",
    "    names.append(score_func.__name__)\n",
    "\n",
    "plt.title(\"Clustering measures for 2 random uniform labelings\\n\"\n",
    "          \"with equal number of clusters\")\n",
    "plt.xlabel('Number of clusters (Number of samples is fixed to %d)' % n_samples)\n",
    "plt.ylabel('Score value')\n",
    "plt.legend(plots, names)\n",
    "plt.ylim(ymin=-0.05, ymax=1.05)\n",
    "\n",
    "\n",
    "# Random labeling with varying n_clusters against ground class labels\n",
    "# with fixed number of clusters\n",
    "\n",
    "n_samples = 1000\n",
    "n_clusters_range = np.linspace(2, 100, 10).astype(np.int)\n",
    "n_classes = 10\n",
    "\n",
    "plt.figure(2)\n",
    "\n",
    "plots = []\n",
    "names = []\n",
    "for score_func in score_funcs:\n",
    "    print(\"Computing %s for %d values of n_clusters and n_samples=%d\"\n",
    "          % (score_func.__name__, len(n_clusters_range), n_samples))\n",
    "\n",
    "    t0 = time()\n",
    "    scores = uniform_labelings_scores(score_func, n_samples, n_clusters_range,\n",
    "                                      fixed_n_classes=n_classes)\n",
    "    print(\"done in %0.3fs\" % (time() - t0))\n",
    "    plots.append(plt.errorbar(\n",
    "        n_clusters_range, scores.mean(axis=1), scores.std(axis=1))[0])\n",
    "    names.append(score_func.__name__)\n",
    "\n",
    "plt.title(\"Clustering measures for random uniform labeling\\n\"\n",
    "          \"against reference assignment with %d classes\" % n_classes)\n",
    "plt.xlabel('Number of clusters (Number of samples is fixed to %d)' % n_samples)\n",
    "plt.ylabel('Score value')\n",
    "plt.ylim(ymin=-0.05, ymax=1.05)\n",
    "plt.legend(plots, names)\n",
    "plt.show()"
   ]
  },
  {
   "cell_type": "markdown",
   "metadata": {},
   "source": [
    "### Fowlkes-Mallows scores"
   ]
  },
  {
   "cell_type": "markdown",
   "metadata": {},
   "source": [
    "The Fowlkes-Mallows index (sklearn.metrics.fowlkes_mallows_score) can be used when the ground truth class assignments of the samples is known. The Fowlkes-Mallows score FMI is defined as the geometric mean of the pairwise precision and recall:"
   ]
  },
  {
   "cell_type": "markdown",
   "metadata": {},
   "source": [
    "$\\text{FMI} = $$\\frac{\\text{TP}}{\\sqrt{(\\text{TP} + \\text{FP}) (\\text{TP} + \\text{FN})}}$"
   ]
  },
  {
   "cell_type": "markdown",
   "metadata": {},
   "source": [
    "Where TP is the number of True Positive (i.e. the number of pair of points that belong to the same clusters in both the true labels and the predicted labels), FP is the number of False Positive (i.e. the number of pair of points that belong to the same clusters in the true labels and not in the predicted labels) and FN is the number of False Negative (i.e the number of pair of points that belongs in the same clusters in the predicted labels and not in the true labels)."
   ]
  },
  {
   "cell_type": "markdown",
   "metadata": {},
   "source": [
    "The score ranges from 0 to 1. A high value indicates a good similarity between two clusters."
   ]
  },
  {
   "cell_type": "code",
   "execution_count": 13,
   "metadata": {},
   "outputs": [],
   "source": [
    "from sklearn import metrics\n",
    "labels_true = [0, 0, 0, 1, 1, 1]\n",
    "labels_pred = [0, 0, 1, 1, 2, 2]"
   ]
  },
  {
   "cell_type": "code",
   "execution_count": 14,
   "metadata": {},
   "outputs": [
    {
     "data": {
      "text/plain": [
       "0.47140452079103173"
      ]
     },
     "execution_count": 14,
     "metadata": {},
     "output_type": "execute_result"
    }
   ],
   "source": [
    "metrics.fowlkes_mallows_score(labels_true, labels_pred) "
   ]
  },
  {
   "cell_type": "markdown",
   "metadata": {},
   "source": [
    "One can permute 0 and 1 in the predicted labels, rename 2 to 3 and get the same score"
   ]
  },
  {
   "cell_type": "code",
   "execution_count": 15,
   "metadata": {},
   "outputs": [
    {
     "data": {
      "text/plain": [
       "0.47140452079103173"
      ]
     },
     "execution_count": 15,
     "metadata": {},
     "output_type": "execute_result"
    }
   ],
   "source": [
    "labels_pred = [1, 1, 0, 0, 3, 3]\n",
    "metrics.fowlkes_mallows_score(labels_true, labels_pred)  "
   ]
  },
  {
   "cell_type": "markdown",
   "metadata": {},
   "source": [
    "Perfect labeling is scored 1.0:"
   ]
  },
  {
   "cell_type": "code",
   "execution_count": 16,
   "metadata": {},
   "outputs": [
    {
     "data": {
      "text/plain": [
       "1.0"
      ]
     },
     "execution_count": 16,
     "metadata": {},
     "output_type": "execute_result"
    }
   ],
   "source": [
    "labels_pred = labels_true[:]\n",
    "metrics.fowlkes_mallows_score(labels_true, labels_pred) "
   ]
  },
  {
   "cell_type": "markdown",
   "metadata": {},
   "source": [
    "Bad (e.g. independent labelings) have zero scores:"
   ]
  },
  {
   "cell_type": "code",
   "execution_count": 17,
   "metadata": {},
   "outputs": [
    {
     "data": {
      "text/plain": [
       "0.0"
      ]
     },
     "execution_count": 17,
     "metadata": {},
     "output_type": "execute_result"
    }
   ],
   "source": [
    "labels_true = [0, 1, 2, 0, 3, 4, 5, 1]\n",
    "labels_pred = [1, 1, 0, 0, 2, 2, 2, 2]\n",
    "metrics.fowlkes_mallows_score(labels_true, labels_pred)  "
   ]
  },
  {
   "cell_type": "markdown",
   "metadata": {},
   "source": [
    "#### Advantages"
   ]
  },
  {
   "cell_type": "markdown",
   "metadata": {},
   "source": [
    "- Random (uniform) label assignments have a FMI score close to 0.0 for any value of n_clusters and n_samples (which is not the case for raw Mutual Information or the V-measure for instance).\n",
    "- Bounded range [0, 1]: Values close to zero indicate two label assignments that are largely independent, while values close to one indicate significant agreement. Further, values of exactly 0 indicate purely independent label assignments and a AMI of exactly 1 indicates that the two label assignments are equal (with or without permutation).\n",
    "- No assumption is made on the cluster structure: can be used to compare clustering algorithms such as k-means which assumes isotropic blob shapes with results of spectral clustering algorithms which can find cluster with “folded” shapes."
   ]
  },
  {
   "cell_type": "markdown",
   "metadata": {},
   "source": [
    "#### Drawbacks"
   ]
  },
  {
   "cell_type": "markdown",
   "metadata": {},
   "source": [
    "Contrary to inertia, FMI-based measures require the knowledge of the ground truth classes while almost never available in practice or requires manual assignment by human annotators (as in the supervised learning setting)."
   ]
  },
  {
   "cell_type": "markdown",
   "metadata": {},
   "source": [
    "## Reference"
   ]
  },
  {
   "cell_type": "markdown",
   "metadata": {},
   "source": [
    "- http://scikit-learn.org/stable/modules/clustering.html#clustering-performance-evaluation\n",
    "- https://en.wikipedia.org/wiki/Rand_index\n",
    "- http://www.jmlr.org/papers/volume7/decampos06a/decampos06a.pdf\n",
    "- https://en.wikipedia.org/wiki/Mutual_information\n",
    "- http://faculty.washington.edu/kayee/pca/supp.pdf\n",
    "- http://www.jmlr.org/papers/volume11/vinh10a/vinh10a.pdf"
   ]
  }
 ],
 "metadata": {
  "kernelspec": {
   "display_name": "Python 3",
   "language": "python",
   "name": "python3"
  },
  "language_info": {
   "codemirror_mode": {
    "name": "ipython",
    "version": 3
   },
   "file_extension": ".py",
   "mimetype": "text/x-python",
   "name": "python",
   "nbconvert_exporter": "python",
   "pygments_lexer": "ipython3",
   "version": "3.6.3"
  }
 },
 "nbformat": 4,
 "nbformat_minor": 2
}
