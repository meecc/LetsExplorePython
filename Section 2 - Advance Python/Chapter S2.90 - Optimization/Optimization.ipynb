{
 "cells": [
  {
   "cell_type": "markdown",
   "metadata": {},
   "source": [
    "# Optimization\n",
    "---"
   ]
  },
  {
   "cell_type": "markdown",
   "metadata": {},
   "source": [
    "In this chapter we are going to discuss few ideas which can be used to optimize & enhance the performance of the python code.\n",
    "\n",
    "Most of the ideas present below are nothing but good common sense.  "
   ]
  },
  {
   "cell_type": "code",
   "execution_count": null,
   "metadata": {},
   "outputs": [],
   "source": []
  },
  {
   "cell_type": "code",
   "execution_count": 5,
   "metadata": {},
   "outputs": [
    {
     "name": "stdout",
     "output_type": "stream",
     "text": [
      "20\n",
      "<function B.<locals>.C at 0x0000000005DE2B70>\n"
     ]
    }
   ],
   "source": [
    "d = 10\n",
    "\n",
    "def B():\n",
    "    d = 20\n",
    "    def C():\n",
    "        d = 30\n",
    "        return d\n",
    "    print(d)\n",
    "    return C\n",
    "\n",
    "x = B()\n",
    "print(x)"
   ]
  },
  {
   "cell_type": "code",
   "execution_count": 3,
   "metadata": {},
   "outputs": [
    {
     "name": "stdout",
     "output_type": "stream",
     "text": [
      "30\n",
      "30\n"
     ]
    }
   ],
   "source": [
    "d = 10\n",
    "\n",
    "def B():\n",
    "    d = 20\n",
    "    def C():\n",
    "        global d\n",
    "        d = 30\n",
    "        return d\n",
    "    return C\n",
    "a = B()\n",
    "print(a())\n",
    "print(d)"
   ]
  },
  {
   "cell_type": "code",
   "execution_count": 1,
   "metadata": {},
   "outputs": [
    {
     "name": "stdout",
     "output_type": "stream",
     "text": [
      "20\n",
      "30\n",
      "10\n"
     ]
    }
   ],
   "source": [
    "d = 10\n",
    "\n",
    "def B():\n",
    "    d = 20\n",
    "    def C():\n",
    "        nonlocal d\n",
    "        print(d)\n",
    "        d = 30\n",
    "        return d\n",
    "    return C\n",
    "a = B()\n",
    "print(a())\n",
    "print(d)"
   ]
  },
  {
   "cell_type": "code",
   "execution_count": null,
   "metadata": {},
   "outputs": [],
   "source": []
  },
  {
   "cell_type": "code",
   "execution_count": null,
   "metadata": {},
   "outputs": [],
   "source": []
  },
  {
   "cell_type": "markdown",
   "metadata": {},
   "source": [
    "## References\n",
    "- https://wiki.python.org/moin/PythonSpeed/PerformanceTips\n",
    "- http://blog.hackerearth.com/4-Performance-Optimization-Tips-Faster-Python-Code\n",
    "- https://www.geeksforgeeks.org/optimization-tips-python-code/\n",
    "- https://www.airpair.com/python/posts/optimizing-python-code\n",
    "- https://stackoverflow.com/questions/7165465/optimizing-python-code"
   ]
  },
  {
   "cell_type": "code",
   "execution_count": null,
   "metadata": {},
   "outputs": [],
   "source": []
  }
 ],
 "metadata": {
  "kernelspec": {
   "display_name": "Python 3",
   "language": "python",
   "name": "python3"
  },
  "language_info": {
   "codemirror_mode": {
    "name": "ipython",
    "version": 3
   },
   "file_extension": ".py",
   "mimetype": "text/x-python",
   "name": "python",
   "nbconvert_exporter": "python",
   "pygments_lexer": "ipython3",
   "version": "3.6.1"
  }
 },
 "nbformat": 4,
 "nbformat_minor": 2
}
