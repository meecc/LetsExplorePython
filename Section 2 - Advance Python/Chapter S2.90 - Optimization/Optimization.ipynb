{
 "cells": [
  {
   "cell_type": "markdown",
   "metadata": {},
   "source": [
    "# Optimization\n",
    "---"
   ]
  },
  {
   "cell_type": "markdown",
   "metadata": {},
   "source": [
    "In this chapter we are going to discuss few ideas which can be used to optimize & enhance the performance of the python code.\n",
    "\n",
    "Most of the ideas present below are nothing but good common sense.  "
   ]
  },
  {
   "cell_type": "markdown",
   "metadata": {},
   "source": [
    "## References\n",
    "- https://wiki.python.org/moin/PythonSpeed/PerformanceTips\n",
    "- http://blog.hackerearth.com/4-Performance-Optimization-Tips-Faster-Python-Code\n",
    "- https://www.geeksforgeeks.org/optimization-tips-python-code/\n",
    "- https://www.airpair.com/python/posts/optimizing-python-code\n",
    "- https://stackoverflow.com/questions/7165465/optimizing-python-code"
   ]
  }
 ],
 "metadata": {
  "kernelspec": {
   "display_name": "Python 3",
   "language": "python",
   "name": "python3"
  },
  "language_info": {
   "codemirror_mode": {
    "name": "ipython",
    "version": 3
   },
   "file_extension": ".py",
   "mimetype": "text/x-python",
   "name": "python",
   "nbconvert_exporter": "python",
   "pygments_lexer": "ipython3",
   "version": "3.4.6"
  }
 },
 "nbformat": 4,
 "nbformat_minor": 2
}
