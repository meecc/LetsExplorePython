{
 "cells": [
  {
   "cell_type": "markdown",
   "metadata": {},
   "source": [
    "## Introduction"
   ]
  },
  {
   "cell_type": "markdown",
   "metadata": {},
   "source": [
    "3. Brute Force Dictionary Attack\n",
    "3.1 Preventing brute force attacks\n",
    "4. Session Prediction Attack\n",
    "4.1 Preventing Session prediction\n",
    "5. Directory Transversal attack\n",
    "5.1 Preventing directory transversal\n",
    "6. Cross Site Scripting\n",
    "6.1 Stealing the user cookie\n",
    "6.2 Preventing XSS attacks\n",
    "7. SQL Code Injection\n",
    "8. Principles of Secure Coding\n",
    "8.1 Never trust user input\n",
    "8.2 Don’t roll your own solution\n",
    "8.3 Don’t do security by obscurity\n",
    "8.4 Follow good software engineering practices\n",
    "8.5 Keep the design simple\n",
    "8.6 Each component must have its own security\n",
    "8.7 Default deny\n",
    "8.8 Update all your software regularly\n",
    "8.9 Finally, if you can afford it, have an external security audit\n",
    "9. Storing Passwords safely\n",
    "9.1 Rainbow attacks, or the problem with just encrypting\n",
    "9.2 Salting\n",
    "10. From C to assembly to machine code\n",
    "10.1 A 5 minute guide to C\n",
    "10.2 The compilation process\n",
    "11. Stack Overflow\n",
    "12. A simulation of the Heartbleed bug\n",
    "13. Heap Overflow\n",
    "14. Preventing Overflow attacks\n",
    "14.1 Practical ways to stop stack/heap based attacks\n",
    "15. Conclusion"
   ]
  }
 ],
 "metadata": {
  "kernelspec": {
   "display_name": "Python 3",
   "language": "python",
   "name": "python3"
  },
  "language_info": {
   "codemirror_mode": {
    "name": "ipython",
    "version": 3
   },
   "file_extension": ".py",
   "mimetype": "text/x-python",
   "name": "python",
   "nbconvert_exporter": "python",
   "pygments_lexer": "ipython3",
   "version": "3.6.1"
  }
 },
 "nbformat": 4,
 "nbformat_minor": 2
}
