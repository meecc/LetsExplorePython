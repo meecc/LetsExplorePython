{
 "cells": [
  {
   "cell_type": "markdown",
   "metadata": {},
   "source": [
    "# XML"
   ]
  },
  {
   "cell_type": "markdown",
   "metadata": {},
   "source": [
    "In Core Python, we discussed about text files. In this chapter, we will discuss about XML. "
   ]
  },
  {
   "cell_type": "markdown",
   "metadata": {},
   "source": [
    "## What is XML"
   ]
  },
  {
   "cell_type": "markdown",
   "metadata": {},
   "source": [
    "Extensible Markup Language (XML) is a markup language that defines a set of rules for encoding documents in a format that is both human-readable and machine-readable. The W3C's XML 1.0 Specification and several other related specifications —all of them free open standards—define XML. Also XML is a text formatted data which can be viewed and edited on any text editor."
   ]
  },
  {
   "cell_type": "markdown",
   "metadata": {},
   "source": [
    "### Design Goal"
   ]
  },
  {
   "cell_type": "markdown",
   "metadata": {},
   "source": [
    "XML design emphasize \n",
    "    - simplicity,\n",
    "    - generality, and \n",
    "    - usability. \n",
    "    \n",
    "Although the design of XML focused on documents, it is widely used for the representation of data structures used in web services and configurations of desktop applications.\n",
    "\n",
    "Two most common document file formats, **\"Office Open XML\"** and **\"OpenDocument\"**, are based on XML."
   ]
  },
  {
   "cell_type": "markdown",
   "metadata": {},
   "source": [
    "### XML Examples"
   ]
  },
  {
   "cell_type": "markdown",
   "metadata": {},
   "source": [
    "```xml\n",
    "<?xml version=\"1.0\"?>\n",
    "<books>\n",
    "    <book title=\"Ṛg-Veda Khilāni\">\n",
    "        <editor>Jost Gippert</editor>\n",
    "        <publication>Frankfurt: TITUS</publication>\n",
    "        <year>2008</year>\n",
    "        <web_page>http://titus.uni-frankfurt.de/texte/etcs/ind/aind/ved/rv/rvkh/rvkh.htm</web_page>\n",
    "    </book>    \n",
    "    <book title=\"Ṛgveda-Saṃhitā\">\n",
    "        <editor>Jost Gippert</editor>\n",
    "        <publication>Frankfurt: TITUS</publication>\n",
    "        <year>2000</year>\n",
    "        <web_page>http://titus.uni-frankfurt.de/texte/etcs/ind/aind/ved/rv/mt/rv.htm</web_page>\n",
    "    </book>\n",
    "</books>\n",
    "```"
   ]
  },
  {
   "cell_type": "markdown",
   "metadata": {},
   "source": [
    "#### Detailed explanation of XML components "
   ]
  },
  {
   "cell_type": "markdown",
   "metadata": {},
   "source": [
    "XML documents can be visualized as a tree, where you have one parent and children's. Nodes can have zero or more child nodes. But children nodes will always have **only one** parent node. As `book` node has a parent node in books. You will observe that both the `book` node has the same parent node. Also, both `book` nodes have multiple different child nodes describing the book.\n",
    "\n",
    "`editor`, `publication`, `year` and `web_page` nodes have same parent `book`. Similarly `book` nodes have single parent node as `books`.\n",
    "\n",
    "Also node that at the top of the document only one node `books` is present. "
   ]
  },
  {
   "cell_type": "markdown",
   "metadata": {},
   "source": [
    "Each Node can have attributes as `title` is the attribute of node `book`. "
   ]
  },
  {
   "cell_type": "markdown",
   "metadata": {},
   "source": [
    "```<xml>\n",
    "<book title=\"Ṛg-Veda Khilāni\">\n",
    "```"
   ]
  },
  {
   "cell_type": "markdown",
   "metadata": {},
   "source": [
    "## XML support in Python"
   ]
  },
  {
   "cell_type": "markdown",
   "metadata": {},
   "source": [
    "Python has rich support for XML by having multiple libs to parse XML documents. Lets dicuss them in details. Following are the sub-modules supported nativly by Python"
   ]
  },
  {
   "cell_type": "markdown",
   "metadata": {},
   "source": [
    "- xml.etree.ElementTree: the ElementTree API, a simple and lightweight XML processor\n",
    "- xml.dom: the DOM API definition\n",
    "- xml.dom.minidom: a minimal DOM implementation\n",
    "- xml.dom.pulldom: support for building partial DOM trees\n",
    "- xml.sax: SAX2 base classes and convenience functions\n",
    "- xml.parsers.expat: the Expat parser binding"
   ]
  },
  {
   "cell_type": "markdown",
   "metadata": {},
   "source": [
    "### xml.etree.ElementTree"
   ]
  },
  {
   "cell_type": "markdown",
   "metadata": {},
   "source": [
    "we can import `ET` using the following command"
   ]
  },
  {
   "cell_type": "code",
   "execution_count": 14,
   "metadata": {},
   "outputs": [],
   "source": [
    "import xml.etree.ElementTree as ET"
   ]
  },
  {
   "cell_type": "markdown",
   "metadata": {},
   "source": [
    "XML can parse either the xml file using the following code, "
   ]
  },
  {
   "cell_type": "code",
   "execution_count": 53,
   "metadata": {},
   "outputs": [],
   "source": [
    "old_books = 'code/data/old_books.xml'\n",
    "nasa_data = 'code/data/nasa.xml'"
   ]
  },
  {
   "cell_type": "markdown",
   "metadata": {},
   "source": [
    "#### Opening xml file"
   ]
  },
  {
   "cell_type": "code",
   "execution_count": null,
   "metadata": {},
   "outputs": [],
   "source": [
    "Opening an xml file is actually quite simple : you open it and you parse it. Who would have guessed ?"
   ]
  },
  {
   "cell_type": "code",
   "execution_count": 108,
   "metadata": {},
   "outputs": [
    {
     "name": "stdout",
     "output_type": "stream",
     "text": [
      "<xml.etree.ElementTree.ElementTree object at 0x7f94ab7c4ba8>\n"
     ]
    }
   ],
   "source": [
    "tree = ET.parse(old_books)\n",
    "root = tree.getroot()\n",
    "print(tree)"
   ]
  },
  {
   "cell_type": "markdown",
   "metadata": {},
   "source": [
    "or read string using the following code"
   ]
  },
  {
   "cell_type": "code",
   "execution_count": 18,
   "metadata": {},
   "outputs": [],
   "source": [
    "xml_book = \"\"\"<?xml version=\"1.0\"?>\n",
    "<books>\n",
    "    <book title=\"Ṛg-Veda Khilāni\">\n",
    "        <editor>Jost Gippert</editor>\n",
    "        <publication>Frankfurt: TITUS</publication>\n",
    "        <year>2008</year>\n",
    "        <web_page>http://titus.uni-frankfurt.de/texte/etcs/ind/aind/ved/rv/rvkh/rvkh.htm</web_page>\n",
    "    </book>    \n",
    "    <book title=\"Ṛgveda-Saṃhitā\">\n",
    "        <editor>Jost Gippert</editor>\n",
    "        <publication>Frankfurt: TITUS</publication>\n",
    "        <year>2000</year>\n",
    "        <web_page>http://titus.uni-frankfurt.de/texte/etcs/ind/aind/ved/rv/mt/rv.htm</web_page>\n",
    "    </book>\n",
    "</books>\n",
    "\"\"\"\n",
    "root = ET.fromstring(xml_book)"
   ]
  },
  {
   "cell_type": "markdown",
   "metadata": {},
   "source": [
    "As an Element, `root` also has tag and to following code can be used to find the tag"
   ]
  },
  {
   "cell_type": "code",
   "execution_count": 23,
   "metadata": {},
   "outputs": [
    {
     "name": "stdout",
     "output_type": "stream",
     "text": [
      "books\n"
     ]
    }
   ],
   "source": [
    "print(root.tag)"
   ]
  },
  {
   "cell_type": "markdown",
   "metadata": {},
   "source": [
    "We can use `len` to find the number of direct child nodes. As in our example we have two `book` nodes,  "
   ]
  },
  {
   "cell_type": "code",
   "execution_count": 60,
   "metadata": {},
   "outputs": [
    {
     "name": "stdout",
     "output_type": "stream",
     "text": [
      "2\n"
     ]
    }
   ],
   "source": [
    "print(len(root))"
   ]
  },
  {
   "cell_type": "markdown",
   "metadata": {},
   "source": [
    "#### Reading root as binary text"
   ]
  },
  {
   "cell_type": "code",
   "execution_count": 68,
   "metadata": {},
   "outputs": [
    {
     "name": "stdout",
     "output_type": "stream",
     "text": [
      "b'<books>\\n    <book title=\"&#7770;g-Veda Khil&#257;ni\">\\n        <editor>Jost Gippert</editor>\\n        <publication>Frankfurt: TITUS</publication>\\n        <year>2008</year>\\n        <web_page>http://titus.uni-frankfurt.de/texte/etcs/ind/aind/ved/rv/rvkh/rvkh.htm</web_page>\\n    </book>    \\n    <book title=\"&#7770;gveda-Sa&#7747;hit&#257;\">\\n        <editor>Jost Gippert</editor>\\n        <publication>Frankfurt: TITUS</publication>\\n        <year>2000</year>\\n        <web_page>http://titus.uni-frankfurt.de/texte/etcs/ind/aind/ved/rv/mt/rv.htm</web_page>\\n    </book>\\t\\n</books>'\n"
     ]
    }
   ],
   "source": [
    "print(ET.tostring(root))"
   ]
  },
  {
   "cell_type": "markdown",
   "metadata": {},
   "source": [
    "#### Reading element as formatted text"
   ]
  },
  {
   "cell_type": "code",
   "execution_count": 71,
   "metadata": {},
   "outputs": [
    {
     "name": "stdout",
     "output_type": "stream",
     "text": [
      "<books>\n",
      "    <book title=\"&#7770;g-Veda Khil&#257;ni\">\n",
      "        <editor>Jost Gippert</editor>\n",
      "        <publication>Frankfurt: TITUS</publication>\n",
      "        <year>2008</year>\n",
      "        <web_page>http://titus.uni-frankfurt.de/texte/etcs/ind/aind/ved/rv/rvkh/rvkh.htm</web_page>\n",
      "    </book>    \n",
      "    <book title=\"&#7770;gveda-Sa&#7747;hit&#257;\">\n",
      "        <editor>Jost Gippert</editor>\n",
      "        <publication>Frankfurt: TITUS</publication>\n",
      "        <year>2000</year>\n",
      "        <web_page>http://titus.uni-frankfurt.de/texte/etcs/ind/aind/ved/rv/mt/rv.htm</web_page>\n",
      "    </book>\t\n",
      "</books>\n",
      "<class 'str'>\n"
     ]
    }
   ],
   "source": [
    "dec_root = ET.tostring(root).decode()\n",
    "print(dec_root)\n",
    "print(type(dec_root))"
   ]
  },
  {
   "cell_type": "markdown",
   "metadata": {},
   "source": [
    "#### All attributes available to an element"
   ]
  },
  {
   "cell_type": "code",
   "execution_count": 66,
   "metadata": {},
   "outputs": [
    {
     "name": "stdout",
     "output_type": "stream",
     "text": [
      "['__class__', '__copy__', '__deepcopy__', '__delattr__', '__delitem__', '__dir__', '__doc__', '__eq__', '__format__', '__ge__', '__getattribute__', '__getitem__', '__getstate__', '__gt__', '__hash__', '__init__', '__le__', '__len__', '__lt__', '__ne__', '__new__', '__reduce__', '__reduce_ex__', '__repr__', '__setattr__', '__setitem__', '__setstate__', '__sizeof__', '__str__', '__subclasshook__', 'append', 'clear', 'extend', 'find', 'findall', 'findtext', 'get', 'getchildren', 'getiterator', 'insert', 'items', 'iter', 'iterfind', 'itertext', 'keys', 'makeelement', 'remove', 'set']\n"
     ]
    }
   ],
   "source": [
    "print(dir(root))"
   ]
  },
  {
   "cell_type": "code",
   "execution_count": null,
   "metadata": {},
   "outputs": [],
   "source": [
    "we can use `for` loop to traverse the direct descendents nodes."
   ]
  },
  {
   "cell_type": "code",
   "execution_count": 39,
   "metadata": {},
   "outputs": [
    {
     "name": "stdout",
     "output_type": "stream",
     "text": [
      "<Element 'book' at 0x7f94c0349db8>\n",
      "<Element 'book' at 0x7f94c00ba638>\n"
     ]
    }
   ],
   "source": [
    "for ele in root:\n",
    "    print(ele)"
   ]
  },
  {
   "cell_type": "markdown",
   "metadata": {},
   "source": [
    "as shown above we get element nodes using for loop, lets get more information from them by enhancing the existing code"
   ]
  },
  {
   "cell_type": "code",
   "execution_count": 38,
   "metadata": {},
   "outputs": [
    {
     "name": "stdout",
     "output_type": "stream",
     "text": [
      "book {'title': 'Ṛg-Veda Khilāni'}\n",
      "book {'title': 'Ṛgveda-Saṃhitā'}\n"
     ]
    }
   ],
   "source": [
    "for ele in root:\n",
    "    print(ele.tag, ele.attrib)"
   ]
  },
  {
   "cell_type": "markdown",
   "metadata": {},
   "source": [
    "we can also find the nodes using indexes. "
   ]
  },
  {
   "cell_type": "code",
   "execution_count": 34,
   "metadata": {},
   "outputs": [
    {
     "name": "stdout",
     "output_type": "stream",
     "text": [
      "<Element 'book' at 0x7f94c00ba638>\n"
     ]
    }
   ],
   "source": [
    "print(root[1])"
   ]
  },
  {
   "cell_type": "markdown",
   "metadata": {},
   "source": [
    "If more than one attibutes are present then individual attributes can be accessas similar to dictionary"
   ]
  },
  {
   "cell_type": "code",
   "execution_count": 35,
   "metadata": {},
   "outputs": [
    {
     "name": "stdout",
     "output_type": "stream",
     "text": [
      "Ṛgveda-Saṃhitā\n"
     ]
    }
   ],
   "source": [
    "print(root[1].attrib['title'])"
   ]
  },
  {
   "cell_type": "code",
   "execution_count": 37,
   "metadata": {},
   "outputs": [
    {
     "name": "stdout",
     "output_type": "stream",
     "text": [
      "Frankfurt: TITUS\n"
     ]
    }
   ],
   "source": [
    "print(root[0][1].text)"
   ]
  },
  {
   "cell_type": "markdown",
   "metadata": {},
   "source": [
    "#### Reading Large XML file using `iterparse`"
   ]
  },
  {
   "cell_type": "code",
   "execution_count": 78,
   "metadata": {},
   "outputs": [
    {
     "name": "stdout",
     "output_type": "stream",
     "text": [
      "end <Element 'editor' at 0x7f9493b41db8>\n",
      "end <Element 'publication' at 0x7f9493b41d68>\n",
      "end <Element 'year' at 0x7f9493b41d18>\n",
      "end <Element 'web_page' at 0x7f9493b41cc8>\n",
      "end <Element 'book' at 0x7f9493b41e08>\n",
      "end <Element 'editor' at 0x7f9493b41c28>\n",
      "end <Element 'publication' at 0x7f9493b41bd8>\n",
      "end <Element 'year' at 0x7f9493b41b88>\n",
      "end <Element 'web_page' at 0x7f9493b41b38>\n",
      "end <Element 'book' at 0x7f9493b41a48>\n",
      "end <Element 'books' at 0x7f9493b41e58>\n"
     ]
    }
   ],
   "source": [
    "for event, elem in ET.iterparse(old_books):\n",
    "    print(event, elem)"
   ]
  },
  {
   "cell_type": "code",
   "execution_count": 79,
   "metadata": {},
   "outputs": [],
   "source": [
    "# ########################## NOTE ##########################\n",
    "# Please run the commented code on command prompt to appreciate\n",
    "# its power, the working code has been saved as `read_nasa.py`  \n",
    "# in code folder\n",
    "\n",
    "# file_name = 'data/nasa.xml'\n",
    "# for event, elem in ET.iterparse(file_name):\n",
    "#     print(event, elem)"
   ]
  },
  {
   "cell_type": "markdown",
   "metadata": {},
   "source": [
    "### !!!TODO!!! : Reading Large XML file using `XMLPullParser`"
   ]
  },
  {
   "cell_type": "code",
   "execution_count": 50,
   "metadata": {},
   "outputs": [
    {
     "name": "stdout",
     "output_type": "stream",
     "text": [
      "<xml.etree.ElementTree.XMLPullParser object at 0x7f9493a908d0>\n"
     ]
    }
   ],
   "source": [
    "tree = ET.parse(old_books)\n",
    "root = tree.getroot()\n",
    "parser = ET.XMLPullParser(['start', 'end'])\n",
    "print(parser)"
   ]
  },
  {
   "cell_type": "markdown",
   "metadata": {},
   "source": [
    "------------------ END"
   ]
  },
  {
   "cell_type": "markdown",
   "metadata": {},
   "source": [
    "### Finding interesting elements"
   ]
  },
  {
   "cell_type": "markdown",
   "metadata": {},
   "source": [
    "Say, we are only interested in part of the whole xml document, in this section we will discuss technologies which will help us in solving this situation"
   ]
  },
  {
   "cell_type": "markdown",
   "metadata": {},
   "source": [
    "#### Using iter"
   ]
  },
  {
   "cell_type": "code",
   "execution_count": 82,
   "metadata": {},
   "outputs": [
    {
     "name": "stdout",
     "output_type": "stream",
     "text": [
      "<Element 'editor' at 0x7f9493a91728>\n",
      "Jost Gippert\n",
      "<Element 'editor' at 0x7f9493a91ef8>\n",
      "Jost Gippert\n"
     ]
    }
   ],
   "source": [
    "for editor in root.iter('editor'):\n",
    "    print(editor)\n",
    "    print(editor.text)"
   ]
  },
  {
   "cell_type": "markdown",
   "metadata": {},
   "source": [
    "as, you can see we were able to directly select editor tags"
   ]
  },
  {
   "cell_type": "markdown",
   "metadata": {},
   "source": [
    "#### using findall"
   ]
  },
  {
   "cell_type": "markdown",
   "metadata": {},
   "source": [
    "It finds only elements with a tag which are direct children of the current element."
   ]
  },
  {
   "cell_type": "code",
   "execution_count": 92,
   "metadata": {},
   "outputs": [
    {
     "name": "stdout",
     "output_type": "stream",
     "text": [
      "<Element 'book' at 0x7f9493a91688>\n",
      "book\n",
      "<Element 'book' at 0x7f9493a91ea8>\n",
      "book\n"
     ]
    }
   ],
   "source": [
    "for editor in root.findall('book'):\n",
    "    print(editor)\n",
    "    print(editor.tag)"
   ]
  },
  {
   "cell_type": "code",
   "execution_count": 95,
   "metadata": {},
   "outputs": [
    {
     "name": "stdout",
     "output_type": "stream",
     "text": [
      "[]\n"
     ]
    }
   ],
   "source": [
    "print(root.findall('editor'))\n",
    "for editor in root.findall('editor'):\n",
    "    print(editor)\n",
    "    print(editor.tag)"
   ]
  },
  {
   "cell_type": "markdown",
   "metadata": {},
   "source": [
    "As you can see that `editor` is not direct children for the current element `root`, thus we got empty value "
   ]
  },
  {
   "cell_type": "markdown",
   "metadata": {},
   "source": [
    "#### Using find"
   ]
  },
  {
   "cell_type": "markdown",
   "metadata": {},
   "source": [
    "It find the first child with a particular tag"
   ]
  },
  {
   "cell_type": "code",
   "execution_count": 97,
   "metadata": {},
   "outputs": [
    {
     "name": "stdout",
     "output_type": "stream",
     "text": [
      "<Element 'book' at 0x7f9493a91688>\n"
     ]
    }
   ],
   "source": [
    "print(root.find('book'))"
   ]
  },
  {
   "cell_type": "code",
   "execution_count": 98,
   "metadata": {},
   "outputs": [
    {
     "name": "stdout",
     "output_type": "stream",
     "text": [
      "None\n"
     ]
    }
   ],
   "source": [
    "print(root.find('editor'))"
   ]
  },
  {
   "cell_type": "markdown",
   "metadata": {},
   "source": [
    "### Accessing Element Attributes"
   ]
  },
  {
   "cell_type": "code",
   "execution_count": 117,
   "metadata": {},
   "outputs": [
    {
     "data": {
      "text/plain": [
       "'Rig-Veda Khilāni'"
      ]
     },
     "execution_count": 117,
     "metadata": {},
     "output_type": "execute_result"
    }
   ],
   "source": [
    "ele = root.find('book')\n",
    "ele.get('title')"
   ]
  },
  {
   "cell_type": "markdown",
   "metadata": {},
   "source": [
    "### Building XML documents"
   ]
  },
  {
   "cell_type": "markdown",
   "metadata": {},
   "source": [
    "We can build a XML document using `Element` & `SubElement` functions of `ElementTree`"
   ]
  },
  {
   "cell_type": "code",
   "execution_count": 135,
   "metadata": {},
   "outputs": [
    {
     "name": "stdout",
     "output_type": "stream",
     "text": [
      "<a><b B=\"TEST\" /><c /><d><e><f /></e></d></a>\n",
      "<a><b B=\"TEST\" /><c /><d><e><f /></e></d></a>\n"
     ]
    }
   ],
   "source": [
    "a = ET.Element('a')\n",
    "b = ET.SubElement(a, 'b')\n",
    "b.attrib[\"B\"] = \"TEST\"\n",
    "c = ET.SubElement(a, 'c')\n",
    "d = ET.SubElement(a, 'd')\n",
    "e = ET.SubElement(d, 'e')\n",
    "f = ET.SubElement(e, 'f')\n",
    "\n",
    "ET.dump(a)\n",
    "print(ET.tostring(a).decode())"
   ]
  },
  {
   "cell_type": "markdown",
   "metadata": {},
   "source": [
    "### Parsing XML with Namespaces"
   ]
  },
  {
   "cell_type": "markdown",
   "metadata": {},
   "source": [
    "```xml\n",
    "<?xml version=\"1.0\"?>\n",
    "<actors xmlns:fictional=\"http://characters.example.com\"\n",
    "        xmlns=\"http://people.example.com\">\n",
    "    <actor>\n",
    "        <name>John Cleese</name>\n",
    "        <fictional:character>Lancelot</fictional:character>\n",
    "        <fictional:character>Archie Leach</fictional:character>\n",
    "    </actor>\n",
    "    <actor>\n",
    "        <name>Eric Idle</name>\n",
    "        <fictional:character>Sir Robin</fictional:character>\n",
    "        <fictional:character>Gunther</fictional:character>\n",
    "        <fictional:character>Commander Clement</fictional:character>\n",
    "    </actor>\n",
    "</actors>\n",
    "```"
   ]
  },
  {
   "cell_type": "code",
   "execution_count": 118,
   "metadata": {},
   "outputs": [],
   "source": [
    "xml_text = \"\"\"<?xml version=\"1.0\"?>\n",
    "<actors xmlns:fictional=\"http://characters.example.com\"\n",
    "        xmlns=\"http://people.example.com\">\n",
    "    <actor>\n",
    "        <name>John Cleese</name>\n",
    "        <fictional:character>Lancelot</fictional:character>\n",
    "        <fictional:character>Archie Leach</fictional:character>\n",
    "    </actor>\n",
    "    <actor>\n",
    "        <name>Eric Idle</name>\n",
    "        <fictional:character>Sir Robin</fictional:character>\n",
    "        <fictional:character>Gunther</fictional:character>\n",
    "        <fictional:character>Commander Clement</fictional:character>\n",
    "    </actor>\n",
    "</actors>\"\"\""
   ]
  },
  {
   "cell_type": "code",
   "execution_count": 125,
   "metadata": {},
   "outputs": [
    {
     "name": "stdout",
     "output_type": "stream",
     "text": [
      "John Cleese\n",
      "   |-> Lancelot\n",
      "   |-> Archie Leach\n",
      "Eric Idle\n",
      "   |-> Sir Robin\n",
      "   |-> Gunther\n",
      "   |-> Commander Clement\n"
     ]
    }
   ],
   "source": [
    "root = ET.fromstring(xml_text)\n",
    "for actor in root.findall('{http://people.example.com}actor'):\n",
    "    name = actor.find('{http://people.example.com}name')\n",
    "    print(name.text)\n",
    "    for char in actor.findall('{http://characters.example.com}character'):\n",
    "        print('   |->', char.text)"
   ]
  },
  {
   "cell_type": "markdown",
   "metadata": {},
   "source": [
    "### XPath support"
   ]
  },
  {
   "cell_type": "code",
   "execution_count": null,
   "metadata": {},
   "outputs": [],
   "source": []
  },
  {
   "cell_type": "markdown",
   "metadata": {},
   "source": [
    "| Syntax            | Meaning                                                                                                                                                                                                                                   |\n",
    "|-------------------|-------------------------------------------------------------------------------------------------------------------------------------------------------------------------------------------------------------------------------------------|\n",
    "| tag               | Selects all child elements with the given tag. For example, spam selects all child elements named spam, and spam/egg selects all grandchildren named egg in all children named spam.                                                      |\n",
    "| *                 | Selects all child elements. For example, */egg selects all grandchildren named egg.                                                                                                                                                       |\n",
    "| .                 | Selects the current node. This is mostly useful at the beginning of the path, to indicate that it’s a relative path.                                                                                                                      |\n",
    "| //                | Selects all subelements, on all levels beneath the current element. For example, .//egg selects all eggelements in the entire tree.                                                                                                       |\n",
    "| ..                | Selects the parent element. Returns None if the path attempts to reach the ancestors of the start element (the element find was called on).                                                                                               |\n",
    "| [@attrib]         | Selects all elements that have the given attribute.                                                                                                                                                                                       |\n",
    "| [@attrib='value'] | Selects all elements for which the given attribute has the given value. The value cannot contain quotes.                                                                                                                                  |\n",
    "| [tag]             | Selects all elements that have a child named tag. Only immediate children are supported.                                                                                                                                                  |\n",
    "| [tag='text']      | Selects all elements that have a child named tag whose complete text content, including descendants, equals the given text.                                                                                                               |\n",
    "| [position]        | Selects all elements that are located at the given position. The position can be either an integer (1 is the first position), the expression last() (for the last position), or a position relative to the last position (e.g. last()-1). |"
   ]
  },
  {
   "cell_type": "code",
   "execution_count": null,
   "metadata": {},
   "outputs": [],
   "source": []
  },
  {
   "cell_type": "markdown",
   "metadata": {},
   "source": [
    "### Modifying an XML File"
   ]
  },
  {
   "cell_type": "markdown",
   "metadata": {},
   "source": [
    "The ElementTree.write() method can be used to save the updated document to specified file. "
   ]
  },
  {
   "cell_type": "code",
   "execution_count": 115,
   "metadata": {},
   "outputs": [],
   "source": [
    "ele = root.find('book')\n",
    "ele.attrib['title'] = \"Rig-Veda Khilāni\"\n",
    "updated_xml = 'code/data/updated_old_book.xml'\n",
    "tree.write(updated_xml)"
   ]
  },
  {
   "cell_type": "code",
   "execution_count": 116,
   "metadata": {},
   "outputs": [
    {
     "name": "stdout",
     "output_type": "stream",
     "text": [
      "<books>\n",
      "    <book title=\"Rig-Veda Khil&#257;ni\">\n",
      "        <editor>Jost Gippert</editor>\n",
      "        <publication>Frankfurt: TITUS</publication>\n",
      "        <year>2008</year>\n",
      "        <web_page>http://titus.uni-frankfurt.de/texte/etcs/ind/aind/ved/rv/rvkh/rvkh.htm</web_page>\n",
      "    </book>    \n",
      "    <book title=\"&#7770;gveda-Sa&#7747;hit&#257;\">\n",
      "        <editor>Jost Gippert</editor>\n",
      "        <publication>Frankfurt: TITUS</publication>\n",
      "        <year>2000</year>\n",
      "        <web_page>http://titus.uni-frankfurt.de/texte/etcs/ind/aind/ved/rv/mt/rv.htm</web_page>\n",
      "    </book>\t\n",
      "</books>\n"
     ]
    }
   ],
   "source": [
    "with open(updated_xml) as f:\n",
    "    print(f.read())"
   ]
  },
  {
   "cell_type": "markdown",
   "metadata": {},
   "source": [
    "### XML vulnerabilities"
   ]
  },
  {
   "cell_type": "markdown",
   "metadata": {},
   "source": [
    "he XML processing modules are not secure against maliciously constructed data. An attacker can abuse XML features to carry out denial of service attacks, access local files, generate network connections to other machines, or circumvent firewalls.\n",
    "\n",
    "The following table gives an overview of the known attacks and whether the various modules are vulnerable to them.\n",
    "\n",
    "| kind | sax | etree | minidom | pulldom | xmlrpc |\n",
    "|---------------------------|------------|------------|------------|------------|------------|\n",
    "| billion laughs | Vulnerable | Vulnerable | Vulnerable | Vulnerable | Vulnerable |\n",
    "| quadratic blowup | Vulnerable | Vulnerable | Vulnerable | Vulnerable | Vulnerable |\n",
    "| external entity expansion | Vulnerable | Safe (1) | Safe (2) | Vulnerable | Safe (3) |\n",
    "| DTD retrieval | Vulnerable | Safe | Safe | Vulnerable | Safe |\n",
    "| decompression bomb | Safe | Safe | Safe | Safe | Vulnerable |"
   ]
  },
  {
   "cell_type": "code",
   "execution_count": null,
   "metadata": {},
   "outputs": [],
   "source": []
  },
  {
   "cell_type": "markdown",
   "metadata": {},
   "source": [
    "## Common Errors and causes"
   ]
  },
  {
   "cell_type": "code",
   "execution_count": 16,
   "metadata": {},
   "outputs": [
    {
     "ename": "ParseError",
     "evalue": "XML or text declaration not at start of entity: line 2, column 0 (<string>)",
     "output_type": "error",
     "traceback": [
      "Traceback \u001b[0;36m(most recent call last)\u001b[0m:\n",
      "  File \u001b[1;32m\"/home/mayank/.local/lib64/python3.4/site-packages/IPython/core/interactiveshell.py\"\u001b[0m, line \u001b[1;32m2910\u001b[0m, in \u001b[1;35mrun_code\u001b[0m\n    exec(code_obj, self.user_global_ns, self.user_ns)\n",
      "  File \u001b[1;32m\"<ipython-input-16-dc6bb8d739a9>\"\u001b[0m, line \u001b[1;32m18\u001b[0m, in \u001b[1;35m<module>\u001b[0m\n    root = ET.fromstring(xml_book)\n",
      "\u001b[0;36m  File \u001b[0;32m\"/usr/lib64/python3.4/xml/etree/ElementTree.py\"\u001b[0;36m, line \u001b[0;32m1335\u001b[0;36m, in \u001b[0;35mXML\u001b[0;36m\u001b[0m\n\u001b[0;31m    parser.feed(text)\u001b[0m\n",
      "\u001b[0;36m  File \u001b[0;32m\"<string>\"\u001b[0;36m, line \u001b[0;32munknown\u001b[0m\n\u001b[0;31mParseError\u001b[0m\u001b[0;31m:\u001b[0m XML or text declaration not at start of entity: line 2, column 0\n"
     ]
    }
   ],
   "source": [
    "xml_book = \"\"\"\n",
    "<?xml version=\"1.0\"?>\n",
    "<books>\n",
    "    <book title=\"Ṛg-Veda Khilāni\">\n",
    "        <editor>Jost Gippert</editor>\n",
    "        <publication>Frankfurt: TITUS</publication>\n",
    "        <year>2008</year>\n",
    "        <web_page>http://titus.uni-frankfurt.de/texte/etcs/ind/aind/ved/rv/rvkh/rvkh.htm</web_page>\n",
    "    </book>    \n",
    "    <book title=\"Ṛgveda-Saṃhitā\">\n",
    "        <editor>Jost Gippert</editor>\n",
    "        <publication>Frankfurt: TITUS</publication>\n",
    "        <year>2000</year>\n",
    "        <web_page>http://titus.uni-frankfurt.de/texte/etcs/ind/aind/ved/rv/mt/rv.htm</web_page>\n",
    "    </book>\n",
    "</books>\n",
    "\"\"\"\n",
    "root = ET.fromstring(xml_book)"
   ]
  },
  {
   "cell_type": "markdown",
   "metadata": {},
   "source": [
    "due to blank first line this error happens, to avoid this error remove the blank spaces from the start of string, as shown below"
   ]
  },
  {
   "cell_type": "code",
   "execution_count": 17,
   "metadata": {},
   "outputs": [],
   "source": [
    "xml_book = \"\"\"<?xml version=\"1.0\"?>\n",
    "<books>\n",
    "    <book title=\"Ṛg-Veda Khilāni\">\n",
    "        <editor>Jost Gippert</editor>\n",
    "        <publication>Frankfurt: TITUS</publication>\n",
    "        <year>2008</year>\n",
    "        <web_page>http://titus.uni-frankfurt.de/texte/etcs/ind/aind/ved/rv/rvkh/rvkh.htm</web_page>\n",
    "    </book>    \n",
    "    <book title=\"Ṛgveda-Saṃhitā\">\n",
    "        <editor>Jost Gippert</editor>\n",
    "        <publication>Frankfurt: TITUS</publication>\n",
    "        <year>2000</year>\n",
    "        <web_page>http://titus.uni-frankfurt.de/texte/etcs/ind/aind/ved/rv/mt/rv.htm</web_page>\n",
    "    </book>\n",
    "</books>\n",
    "\"\"\"\n",
    "root = ET.fromstring(xml_book)"
   ]
  },
  {
   "cell_type": "markdown",
   "metadata": {},
   "source": [
    "## Reference & Inspirations"
   ]
  },
  {
   "cell_type": "markdown",
   "metadata": {},
   "source": [
    "- https://en.wikipedia.org/wiki/XML\n",
    "- https://docs.python.org/3.6/library/xml.html\n",
    "- https://github.com/mikekestemont/ghent1516/blob/master/Chapter%208%20-%20Parsing%20XML.ipynb \n",
    "\n",
    "- https://en.wikipedia.org/wiki/Billion_laughs\n",
    "- "
   ]
  }
 ],
 "metadata": {
  "kernelspec": {
   "display_name": "Python 3",
   "language": "python",
   "name": "python3"
  },
  "language_info": {
   "codemirror_mode": {
    "name": "ipython",
    "version": 3
   },
   "file_extension": ".py",
   "mimetype": "text/x-python",
   "name": "python",
   "nbconvert_exporter": "python",
   "pygments_lexer": "ipython3",
   "version": "3.4.6"
  }
 },
 "nbformat": 4,
 "nbformat_minor": 1
}
