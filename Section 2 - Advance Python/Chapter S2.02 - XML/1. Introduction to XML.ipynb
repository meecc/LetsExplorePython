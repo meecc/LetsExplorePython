{
 "cells": [
  {
   "cell_type": "markdown",
   "metadata": {},
   "source": [
    "# Introduction to XML"
   ]
  },
  {
   "cell_type": "markdown",
   "metadata": {},
   "source": [
    "## Introduction"
   ]
  },
  {
   "cell_type": "markdown",
   "metadata": {},
   "source": [
    "Extensible Markup Language (XML) is a markup language that defines a set of rules for encoding documents in a format that is both human-readable and machine-readable. It was designed originally to handle  large-scale electronic publishing, but today it is also playing an increasingly important role in the exchange of a wide variety of data on the Web and elsewhere.\n",
    "\n",
    "The W3C's XML Specification (https://www.w3.org/XML/) and several other related specifications —all of them free open standards—define XML. Also XML is a text formatted data which can be viewed and edited on any text editor."
   ]
  },
  {
   "cell_type": "markdown",
   "metadata": {},
   "source": [
    "### Design Goal"
   ]
  },
  {
   "cell_type": "markdown",
   "metadata": {},
   "source": [
    "XML design emphasize \n",
    "    - simplicity,\n",
    "    - generality, and \n",
    "    - usability. \n",
    "    \n",
    "Although the design of XML focused on documents, it is widely used for the representation of data structures used in web services and configurations of desktop applications.\n",
    "\n",
    "Two most common document file formats, **\"Office Open XML\"** and **\"OpenDocument\"**, are both based on XML."
   ]
  },
  {
   "cell_type": "markdown",
   "metadata": {},
   "source": [
    "### XML Example"
   ]
  },
  {
   "cell_type": "markdown",
   "metadata": {},
   "source": [
    "```xml\n",
    "<?xml version=\"1.0\"?>\n",
    "<books>\n",
    "    <book title=\"Ṛg-Veda Khilāni\">\n",
    "        <editor>Jost Gippert</editor>\n",
    "        <publication>Frankfurt: TITUS</publication>\n",
    "        <year>2008</year>\n",
    "        <web_page>http://titus.uni-frankfurt.de/texte/etcs/ind/aind/ved/rv/rvkh/rvkh.htm</web_page>\n",
    "    </book>    \n",
    "    <book title=\"Ṛgveda-Saṃhitā\">\n",
    "        <editor>Jost Gippert</editor>\n",
    "        <publication>Frankfurt: TITUS</publication>\n",
    "        <year>2000</year>\n",
    "        <web_page>http://titus.uni-frankfurt.de/texte/etcs/ind/aind/ved/rv/mt/rv.htm</web_page>\n",
    "    </book>\n",
    "</books>\n",
    "```"
   ]
  },
  {
   "cell_type": "markdown",
   "metadata": {},
   "source": [
    "#### Detailed explanation of XML components "
   ]
  },
  {
   "cell_type": "markdown",
   "metadata": {},
   "source": [
    "XML documents can be visualized as a tree, where you have one parent and children's. Nodes can have zero or more child nodes. But children nodes will always have **only one** parent node. As `book` node has a parent node in books. You will observe that both the `book` node has the same parent node. Also, both `book` nodes have multiple different child nodes describing the book.\n",
    "\n",
    "`editor`, `publication`, `year` and `web_page` nodes have same parent `book`. Similarly `book` nodes have single parent node as `books`.\n",
    "\n",
    "Also node that at the top of the document only one node `books` is present. "
   ]
  },
  {
   "cell_type": "markdown",
   "metadata": {},
   "source": [
    "Each Node can have attributes as `title` is the attribute of node `book`. "
   ]
  },
  {
   "cell_type": "markdown",
   "metadata": {},
   "source": [
    "```xml\n",
    "<book title=\"Ṛg-Veda Khilāni\">\n",
    "```"
   ]
  },
  {
   "cell_type": "markdown",
   "metadata": {},
   "source": [
    "![XML, source of our everyday](images/XML.svg)"
   ]
  }
 ],
 "metadata": {
  "anaconda-cloud": {},
  "kernelspec": {
   "display_name": "Python 3",
   "language": "python",
   "name": "python3"
  },
  "language_info": {
   "codemirror_mode": {
    "name": "ipython",
    "version": 3
   },
   "file_extension": ".py",
   "mimetype": "text/x-python",
   "name": "python",
   "nbconvert_exporter": "python",
   "pygments_lexer": "ipython3",
   "version": "3.6.1"
  }
 },
 "nbformat": 4,
 "nbformat_minor": 1
}
