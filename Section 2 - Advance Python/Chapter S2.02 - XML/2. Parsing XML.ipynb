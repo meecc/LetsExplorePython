{
 "cells": [
  {
   "cell_type": "markdown",
   "metadata": {},
   "source": [
    "# Parsing XML with Python"
   ]
  },
  {
   "cell_type": "markdown",
   "metadata": {},
   "source": [
    "Python provides many libraries for working with xml files such as \n",
    "\n",
    "- **`lxml`**: It is a clean, fast and strict library for dealing with xml fils. It's also the most accepted library. It also supports `xpath` and `xslt`.\n",
    "\n",
    "- **`BeautifulSoup`**: It is flexible but a bit slower than `lxml`. The good thing is if your xml markup is messed up, it will try to correct it. It's perfect for dealing with web scrapped data in HTML formats. For clean xml, it might be too slow. It has been discussed in details in chapter `Chapter S2.05 - REST API - Server & Clients`\n",
    "\n",
    "- **`xml`** : It has native integration in Python and is fast & clean but do not support xpath and xslt. We will discuss about it more in details in this chapter\n",
    "\n",
    "Read about others on the Python [official wiki](https://wiki.python.org/moin/PythonXml)"
   ]
  },
  {
   "cell_type": "markdown",
   "metadata": {},
   "source": [
    "## `lxml`"
   ]
  },
  {
   "cell_type": "markdown",
   "metadata": {},
   "source": [
    "Based on my experience, `lxml` will meet most of our needs in handling clean data. Here **\"`Clean`\"** is the keyword. It will not be able to properly handle invalid `html` or `xml`. It will just throw error message."
   ]
  },
  {
   "cell_type": "markdown",
   "metadata": {},
   "source": [
    "> This is a third party library and thus needs to be installed using `pip`"
   ]
  },
  {
   "cell_type": "markdown",
   "metadata": {},
   "source": [
    "### From file to XML object"
   ]
  },
  {
   "cell_type": "markdown",
   "metadata": {},
   "source": [
    "Opening an xml file is actually quite simple : you open it and you parse it. Who would have guessed ?"
   ]
  },
  {
   "cell_type": "code",
   "execution_count": 1,
   "metadata": {},
   "outputs": [
    {
     "name": "stdout",
     "output_type": "stream",
     "text": [
      "<lxml.etree._ElementTree object at 0x7f82285bc4c8>\n"
     ]
    }
   ],
   "source": [
    "from lxml import etree\n",
    "\n",
    "with open(\"code/data/books.xml\") as file:    \n",
    "    parsed = etree.parse(file)\n",
    "\n",
    "print(parsed)"
   ]
  },
  {
   "cell_type": "markdown",
   "metadata": {},
   "source": [
    "As you can see, we obtained an instance of type `lxml.etree._ElementTree`"
   ]
  },
  {
   "cell_type": "code",
   "execution_count": 2,
   "metadata": {},
   "outputs": [
    {
     "name": "stdout",
     "output_type": "stream",
     "text": [
      "<lxml.etree._ElementTree object at 0x7f82285d19c8>\n"
     ]
    }
   ],
   "source": [
    "# New etree parser, with empty text nodes removed\n",
    "\n",
    "parser = etree.XMLParser(remove_blank_text=True)\n",
    "\n",
    "with open(\"code/data/books.xml\") as file:\n",
    "    parsed = etree.parse(file, parser)\n",
    "\n",
    "print(parsed)\n"
   ]
  },
  {
   "cell_type": "markdown",
   "metadata": {},
   "source": [
    "Few useful arguments of `XMLParser` are as follows:\n",
    "\n",
    "- *attribute_defaults* : Use DTD (if available) to add the default attributes\n",
    "- *dtd_validation* : Validate against DTD while parsing\n",
    "- *load_dtd* : Load and parse the DTD while parsing\n",
    "- *ns_clean* : Clean up redundant namespace declarations\n",
    "- *recover* : Try to fix ill-formed xml\n",
    "- *remove_blank_text* : Removes blank text nodes\n",
    "- *resolve_entities* : Replace entities by their value (Default : on)\n",
    "\n",
    "You can then create a new parser according to its standards or clean namespace attribute. In this context, *ns_clean* would transform\n",
    "\n",
    "\n",
    "`<root xmlns:a=\"xmlns1\" xmlns:b=\"xmlns2\"><tag xmlns:c=\"xmlns3\" /><tag xmlns:a=\"xmlns1\" /><tag /></root>`\n",
    "\n",
    "into\n",
    "\n",
    "`<root xmlns:a=\"xmlns1\" xmlns:b=\"xmlns2\"><tag xmlns:c=\"xmlns3\" /><tag /><tag /></root>`"
   ]
  },
  {
   "cell_type": "markdown",
   "metadata": {},
   "source": [
    "### String to XML object"
   ]
  },
  {
   "cell_type": "markdown",
   "metadata": {},
   "source": [
    "`lxml` parses `strings` using `fromstring` function which is similar to `parse` which is used to parses files as shown in the below example. "
   ]
  },
  {
   "cell_type": "code",
   "execution_count": 3,
   "metadata": {},
   "outputs": [
    {
     "name": "stdout",
     "output_type": "stream",
     "text": [
      "<Element root at 0x7f82285d1888>\n"
     ]
    }
   ],
   "source": [
    "xml = '<root xmlns:a=\"xmlns1\" xmlns:b=\"xmlns2\"><tag xmlns:c=\"xmlns3\" /><tag xmlns:a=\"xmlns1\" /><tag /></root>'\n",
    "parsed = etree.fromstring(xml)\n",
    "print(parsed)"
   ]
  },
  {
   "cell_type": "markdown",
   "metadata": {},
   "source": [
    "**Questions:**\n",
    "\n",
    "Can you parse a xml document made of one tag \"humanities\" with two children \"field\" named \"classics\" and \"history\"? "
   ]
  },
  {
   "cell_type": "code",
   "execution_count": 4,
   "metadata": {},
   "outputs": [],
   "source": [
    "# Put your code here\n",
    "\n",
    "\n",
    "\n"
   ]
  },
  {
   "cell_type": "markdown",
   "metadata": {},
   "source": [
    "### Errors handling"
   ]
  },
  {
   "cell_type": "markdown",
   "metadata": {},
   "source": [
    "As previously stated `lxml` is quite strict about `xml` validity. Let's try following example to understand it in details.\n",
    "Below we have three invalid xml strings, lets see how they are handled by `lxml`"
   ]
  },
  {
   "cell_type": "code",
   "execution_count": 5,
   "metadata": {},
   "outputs": [
    {
     "name": "stdout",
     "output_type": "stream",
     "text": [
      "*** XML: \n",
      "\n",
      "Start tag expected, '<' not found, line 2, column 1 (<string>, line 2)\n",
      "*** XML: \n",
      "<start>this is a text</start1>\n",
      "\n",
      "expected '>', line 2, column 29 (<string>, line 2)\n",
      "*** XML: \n",
      "<start attr=\"test\">\n",
      "\n",
      "Premature end of data in tag start line 2, line 3, column 1 (<string>, line 3)\n"
     ]
    }
   ],
   "source": [
    "from lxml.etree import XMLSyntaxError\n",
    "xml = \"\"\"\n",
    "\"\"\"\n",
    "# \n",
    "xml2 = \"\"\"\n",
    "<start>this is a text</start1>\n",
    "\"\"\"\n",
    "#\n",
    "xml3 = \"\"\"\n",
    "<start attr=\"test\">\n",
    "\"\"\"\n",
    "for x in [xml, xml2, xml3]:\n",
    "    try:\n",
    "        print(\"*** XML:\", x)\n",
    "        etree.fromstring(x)\n",
    "    except XMLSyntaxError as e:\n",
    "        print(e)"
   ]
  },
  {
   "cell_type": "markdown",
   "metadata": {},
   "source": [
    "As we can see, most of the errors are detailed enough so we can correct the XML file manually."
   ]
  },
  {
   "cell_type": "markdown",
   "metadata": {},
   "source": [
    "### Node properties and methods"
   ]
  },
  {
   "cell_type": "markdown",
   "metadata": {},
   "source": [
    "> **!! Warning : namespaces !!** : \n",
    "> ----\n",
    "> In lxml, namespaces are expressed using the Clark notation. This mean that, if a namespace defines a node, this node will be named using the following syntax \"`{namespace}tagname`. Here is an example :"
   ]
  },
  {
   "cell_type": "code",
   "execution_count": 6,
   "metadata": {},
   "outputs": [
    {
     "name": "stdout",
     "output_type": "stream",
     "text": [
      "<Element root at 0x7f82285d1ac8>\n",
      "<Element {http://localhost}root at 0x7f82285d1ac8>\n"
     ]
    }
   ],
   "source": [
    "# With no namespace\n",
    "print(etree.fromstring(\"<root />\"))\n",
    "# With namespace\n",
    "print(etree.fromstring(\"<root xmlns='http://localhost' />\"))"
   ]
  },
  {
   "cell_type": "markdown",
   "metadata": {},
   "source": [
    "Below is the chart detailing the functionalities offered by `lxml`"
   ]
  },
  {
   "cell_type": "markdown",
   "metadata": {},
   "source": [
    "![Cheatsheet](images/CheatsheetElement.svg)"
   ]
  },
  {
   "cell_type": "markdown",
   "metadata": {},
   "source": [
    "Let's see what that means in real life :"
   ]
  },
  {
   "cell_type": "code",
   "execution_count": 7,
   "metadata": {},
   "outputs": [
    {
     "name": "stdout",
     "output_type": "stream",
     "text": [
      "<Element div at 0x7f8228334288>\n"
     ]
    }
   ],
   "source": [
    "# First, we will need some xml\n",
    "xml = \"\"\"\n",
    "<div type=\"Book\" n=\"1\">\n",
    "    <l n=\"1\">The Rigveda is undoubtedly the oldest literary monument of the Indo-European languages.</l>\n",
    "    <mj:l n=\"2\" xmlns:mj=\"http://www.mayankjohri.org/ns/1.0\">But the exact period when the hymns were composed is a matter of conjecture.</mj:l>\n",
    "    <l n=\"3\">All that we can say with any approach to certainty is that the oldest of them cannot </l>\n",
    "    <l n=\"4\">date from later than the thirteenth century bc.</l>\n",
    "    <l n=\"5\">This assertion is based on the following grounds. B</l>\n",
    "    <l n=\"6\">uddhism, which began to spread in India about 500 bc, </l>\n",
    "    <l n=\"7\">presupposes the existence not only of the Vedas, </l>\n",
    "</div>\n",
    "\"\"\"\n",
    "book = etree.fromstring(xml)\n",
    "print(book)\n"
   ]
  },
  {
   "cell_type": "markdown",
   "metadata": {},
   "source": [
    "If we want to retrieve the attributes of our div, we can do as follow :"
   ]
  },
  {
   "cell_type": "code",
   "execution_count": 8,
   "metadata": {},
   "outputs": [
    {
     "name": "stdout",
     "output_type": "stream",
     "text": [
      "Book\n",
      "1\n",
      "{'type': 'Book', 'n': '1'}\n",
      "{'type': 'Book', 'n': '1'}\n",
      "[('type', 'Book'), ('n', '1')]\n"
     ]
    }
   ],
   "source": [
    "type_div = book.get(\"type\")\n",
    "print(type_div)\n",
    "print(book.get(\"n\"))\n",
    "\n",
    "print(book.attrib)\n",
    "attributes_div = dict(book.attrib)\n",
    "print(attributes_div)\n",
    "\n",
    "list_attributes_div = book.items()\n",
    "print(list_attributes_div)"
   ]
  },
  {
   "cell_type": "markdown",
   "metadata": {},
   "source": [
    "Lets get more details from the xml file, we can use the following to get them :\n",
    "\n",
    "- `getchildren()` will returns a list of children tags, such as div.\n",
    "- list(`book`) will transform `book` in a list of sentences.\n",
    "\n",
    "Both syntaxes return the same results, so it's up to you to decide which one you prefer. "
   ]
  },
  {
   "cell_type": "code",
   "execution_count": 9,
   "metadata": {},
   "outputs": [
    {
     "name": "stdout",
     "output_type": "stream",
     "text": [
      "[<Element l at 0x7f82285bc408>,\n",
      " <Element {http://www.mayankjohri.org/ns/1.0}l at 0x7f8228334108>,\n",
      " <Element l at 0x7f8228334348>,\n",
      " <Element l at 0x7f82283343c8>,\n",
      " <Element l at 0x7f8228334408>,\n",
      " <Element l at 0x7f82283344c8>,\n",
      " <Element l at 0x7f8228334508>]\n"
     ]
    }
   ],
   "source": [
    "from pprint import pprint\n",
    "\n",
    "children = book.getchildren()\n",
    "pprint(children)"
   ]
  },
  {
   "cell_type": "markdown",
   "metadata": {},
   "source": [
    "To get one element from the list of elements,"
   ]
  },
  {
   "cell_type": "code",
   "execution_count": 10,
   "metadata": {},
   "outputs": [
    {
     "name": "stdout",
     "output_type": "stream",
     "text": [
      "<Element l at 0x7f82285bc408>\n"
     ]
    }
   ],
   "source": [
    "line_1 = children[0] \n",
    "pprint(line_1)"
   ]
  },
  {
   "cell_type": "markdown",
   "metadata": {},
   "source": [
    "Now that we have access to our children, we can have access to their text :"
   ]
  },
  {
   "cell_type": "code",
   "execution_count": 11,
   "metadata": {},
   "outputs": [
    {
     "name": "stdout",
     "output_type": "stream",
     "text": [
      "The Rigveda is undoubtedly the oldest literary monument of the Indo-European languages.\n"
     ]
    }
   ],
   "source": [
    "print(line_1.text)"
   ]
  },
  {
   "cell_type": "markdown",
   "metadata": {},
   "source": [
    "Ok, we are now able to get some stuff done. Remember the namespace naming ? Sometimes it's useful to retrieve namespaces and their prefix :"
   ]
  },
  {
   "cell_type": "code",
   "execution_count": 12,
   "metadata": {},
   "outputs": [
    {
     "name": "stdout",
     "output_type": "stream",
     "text": [
      "{'mj': 'http://www.mayankjohri.org/ns/1.0'}\n",
      "mj\n",
      "{http://www.mayankjohri.org/ns/1.0}l\n"
     ]
    }
   ],
   "source": [
    "line_2 = children[1]\n",
    "print(line_2.nsmap)\n",
    "print(line_2.prefix)\n",
    "print(line_2.tag)"
   ]
  },
  {
   "cell_type": "markdown",
   "metadata": {},
   "source": [
    "**What you've learned** :\n",
    "\n",
    "- How to parse a xml file or a string representing xml through `etree.parse()` and `etree.fromstring()`\n",
    "- How to configure the way xml is parsed with `etree.XMLParser()`\n",
    "- What is an attribute and a method\n",
    "- Properties and methods of a node\n",
    "- XMLParseError handling\n",
    "- Clark's notation for namespaces and tags."
   ]
  },
  {
   "cell_type": "markdown",
   "metadata": {},
   "source": [
    "### XPath and XSLT with lxml"
   ]
  },
  {
   "cell_type": "markdown",
   "metadata": {},
   "source": [
    "#### XPath"
   ]
  },
  {
   "cell_type": "markdown",
   "metadata": {},
   "source": [
    "XPath is a powerful tool for traversing an xml tree. XML is made of nodes such as tags, comments, texts. These nodes have attributes that can be used to identify them. For example, with the following xml :\n",
    "\n",
    "> `<div><l n=\"1\"><p>Text</p> followed</l><l n=\"2\">by line two</div>`\n",
    "\n",
    "the node p will be accessible by `/div/l[@n=\"1\"]/p`. LXML has great support for complex XPath, which makes it the best friend of Humanists dealing with xml :"
   ]
  },
  {
   "cell_type": "code",
   "execution_count": 13,
   "metadata": {},
   "outputs": [
    {
     "name": "stdout",
     "output_type": "stream",
     "text": [
      "<Element div at 0x7f8228334a88>\n",
      "--------------------\n",
      "<Element l at 0x7f8228334b48>\n",
      "<Element l at 0x7f8228334c48>\n",
      "--------------------\n",
      "['1', '2']\n",
      "False\n"
     ]
    }
   ],
   "source": [
    "# We generate some xml and parse it\n",
    "\n",
    "## TODO \n",
    "xml = \"\"\"<div>\n",
    "            <l n=\"1\">\n",
    "                <p>Text</p> \n",
    "                <p>new p</p>\n",
    "                followed\n",
    "                <test>\n",
    "                    <p>p3</p>\n",
    "                </test>\n",
    "            </l>\n",
    "            <l n=\"2\">\n",
    "                by line two\n",
    "            </l>\n",
    "            <p>test</p>\n",
    "            <p><l n=\"3\"> line 3</l></p>\n",
    "        </div>\"\"\"\n",
    "div = etree.fromstring(xml)\n",
    "print(div)\n",
    "# When doing an xpath, the results will be a list\n",
    "print(\"-\"*20)\n",
    "ps = div.xpath(\"/div/l\")\n",
    "for p in ps:\n",
    "    print(p)\n",
    "print(\"-\"*20)\n",
    "# print(ps)\n",
    "print([value.values()[0] for value in ps])\n",
    "print(ps[0].text == \"Text\")"
   ]
  },
  {
   "cell_type": "markdown",
   "metadata": {},
   "source": [
    "As you can see, the xpath returns a list. This behaviour is intended, since an xpath can retrieve more than one item :"
   ]
  },
  {
   "cell_type": "code",
   "execution_count": 14,
   "metadata": {},
   "outputs": [
    {
     "name": "stdout",
     "output_type": "stream",
     "text": [
      "[<Element l at 0x7f8228334b48>, <Element l at 0x7f8228334c48>, <Element l at 0x7f8228334708>]\n"
     ]
    }
   ],
   "source": [
    "print(div.xpath(\"//l\"))"
   ]
  },
  {
   "cell_type": "markdown",
   "metadata": {},
   "source": [
    "You see ? The xpath `//l` returns two elements, just like python does in a list. Now, let's apply some xpath to the children and see what happens :"
   ]
  },
  {
   "cell_type": "code",
   "execution_count": 15,
   "metadata": {},
   "outputs": [
    {
     "name": "stdout",
     "output_type": "stream",
     "text": [
      "1\n",
      "[<Element p at 0x7f8228334dc8>, <Element p at 0x7f8228334e08>]\n",
      "[<Element p at 0x7f8228334dc8>, <Element p at 0x7f8228334e08>]\n",
      "[<Element p at 0x7f8228334e08>, <Element p at 0x7f8228334748>, <Element p at 0x7f8228334d88>]\n",
      "[<Element p at 0x7f8228334e08>, <Element p at 0x7f8228334748>, <Element p at 0x7f8228334d88>, <Element p at 0x7f8228334e88>, <Element p at 0x7f8228334f48>]\n"
     ]
    }
   ],
   "source": [
    "# We assign our first line to a variable\n",
    "line_1 = div.xpath(\"//l\")[0]\n",
    "#print(dir(line_1))\n",
    "print(line_1.attrib['n'])\n",
    "\n",
    "# We look for p\n",
    "print(line_1.xpath(\"p\")) # This works\n",
    "print(line_1.xpath(\"./p\")) # This works too\n",
    "\n",
    "print(line_1.xpath(\".//p\")) # This still works \n",
    "\n",
    "print(line_1.xpath(\"//p\")) # entire doc\n"
   ]
  },
  {
   "cell_type": "markdown",
   "metadata": {},
   "source": [
    "As you can see, you can do xpath from any node in lxml. One important thing though : xpath `//tagname` *will return to the root* if you do not add a dot in front of it such as **`.`**`//tagname`. This is really important to remember, because most xpath resolvers do not behave this way."
   ]
  },
  {
   "cell_type": "markdown",
   "metadata": {},
   "source": [
    "Another point to kepe in mind : if you write your xpath incorrectly, Python will raise an *XPathEvalError * error"
   ]
  },
  {
   "cell_type": "code",
   "execution_count": 16,
   "metadata": {},
   "outputs": [
    {
     "name": "stdout",
     "output_type": "stream",
     "text": [
      "Invalid expression\n"
     ]
    }
   ],
   "source": [
    "from lxml.etree import XPathEvalError\n",
    "try:\n",
    "    line_1.xpath(\"wrong:xpath:never:works\")\n",
    "except XPathEvalError as e:\n",
    "    print(e.__str__())"
   ]
  },
  {
   "cell_type": "markdown",
   "metadata": {},
   "source": [
    "### Xpath with namespaces and prefix"
   ]
  },
  {
   "cell_type": "markdown",
   "metadata": {},
   "source": [
    "As you've seen, lxml use Clark's naming convention for expressing namespaces. This is extremely important regarding xpath, because you will be able to retrieve a node using it under certain conditions :"
   ]
  },
  {
   "cell_type": "code",
   "execution_count": 17,
   "metadata": {},
   "outputs": [
    {
     "name": "stdout",
     "output_type": "stream",
     "text": [
      "['Text', 'Other text', 'Other text']\n"
     ]
    }
   ],
   "source": [
    "# We create a valid xml object\n",
    "xml = \"\"\"<root>\n",
    "<tag xmlns=\"http://localhost\">Text</tag>\n",
    "<tei:tag xmlns:tei=\"http://www.tei-c.org/ns/1.0\">Other text</tei:tag>\n",
    "<teiTwo:tag xmlns:teiTwo=\"http://www.tei-c.org/ns/2.0\">Other text</teiTwo:tag>\n",
    "</root>\"\"\"\n",
    "root = etree.fromstring(xml)\n",
    "# We register every namespaces in a dictionary using prefix as keys :\n",
    "ns = {\n",
    "    \"local\" : \"http://localhost\", # Even if this namespace had no prefix, we can register one for it\n",
    "    \"tei\" : \"http://www.tei-c.org/ns/1.0\",\n",
    "    \"two\": \"http://www.tei-c.org/ns/2.0\"\n",
    "}\n",
    "\n",
    "print([d.text for namespace in ns \n",
    "       for d in root.xpath(\"//{namespace}:tag\".format(namespace=namespace), \n",
    "                           namespaces=ns) ])"
   ]
  },
  {
   "cell_type": "markdown",
   "metadata": {},
   "source": [
    "**What you have learned** :\n",
    "\n",
    "- Each node and xml document has an `.xpath()` method which takes as its first parameter xpath\n",
    "- Method `xpath()` always returns a list, even for a single result\n",
    "- Method `xpath()` will return to the root when you don't prefix your `//` with a dot.\n",
    "- An incorrect XPath will issue a `XPathEvalError`\n",
    "- Method `xpath()` accepts a `namespaces` argument : you should enter a dictionary where keys are prefixes and values namespaces\n",
    "- Unlike `findall()`, `xpath()` does not accept Clark's notation"
   ]
  },
  {
   "cell_type": "markdown",
   "metadata": {},
   "source": [
    "### XSLT"
   ]
  },
  {
   "cell_type": "markdown",
   "metadata": {},
   "source": [
    "XSLT stands for *Extensible Stylesheet Language Transformations*. It's an xml-based language made for transforming xml documents to xml or other formats such as LaTeX and HTML. XSLT is really powerful when dealing with similarly formated data. It's far easier to transform 100 documents with the exact same structure via XSLT than in Python or any other language.\n",
    "\n",
    "While Python is great at dealing with weird transformations of xml, the presence of XSLT in Python allows you to create production chains without leaving your favorite IDE.\n",
    "\n",
    "To do some XSL, lxml needs two things : first, an xml document representing the xsl that will be parsed and entered into the function `etree.XSLT()`, and second, a document to transform."
   ]
  },
  {
   "cell_type": "code",
   "execution_count": 18,
   "metadata": {},
   "outputs": [
    {
     "name": "stdout",
     "output_type": "stream",
     "text": [
      "<?xml version=\"1.0\"?>\n",
      "<fields>\n",
      "    <name>History</name>\n",
      "    <name>Classics</name>\n",
      "    <name>French</name>\n",
      "    <name>German</name>\n",
      "</fields>\n",
      "\n"
     ]
    }
   ],
   "source": [
    "# Here is an xml containing an xsl: for each text node of an xml file in the xpath /humanities/field,\n",
    "#     this will return a node <name> with the text inside\n",
    "xslt_root = etree.fromstring(\"\"\"\n",
    "<xsl:stylesheet version=\"1.0\" xmlns:xsl=\"http://www.w3.org/1999/XSL/Transform\">\n",
    "    <xsl:template match=\"/\">\n",
    "        <fields><xsl:apply-templates /></fields>\n",
    "    </xsl:template>\n",
    "    <xsl:template match=\"/humanities/field\">\n",
    "        <name><xsl:value-of select=\"./text()\" /></name>\n",
    "    </xsl:template>\n",
    "</xsl:stylesheet>\"\"\")\n",
    "# We transform our document to an xsl \n",
    "xslt = etree.XSLT(xslt_root)\n",
    "\n",
    "# We create some xml we need to change \n",
    "xml = \"\"\"<humanities>\n",
    "    <field>History</field>\n",
    "    <field>Classics</field>\n",
    "    <field>French</field>\n",
    "    <field>German</field>\n",
    "</humanities>\"\"\"\n",
    "parsed_xml = etree.fromstring(xml)\n",
    "# And now we process our xml :\n",
    "transformed = xslt(parsed_xml)\n",
    "print(transformed)"
   ]
  },
  {
   "cell_type": "markdown",
   "metadata": {},
   "source": [
    "Did you see what happened ? We used `xslt(xml)`. `etree.XSLT()` transforms a xsl document into a function, which then takes one parameter (in this case an xml document). But can you figure out what this returns ? Let's ask Python :"
   ]
  },
  {
   "cell_type": "code",
   "execution_count": 19,
   "metadata": {},
   "outputs": [
    {
     "name": "stdout",
     "output_type": "stream",
     "text": [
      "<class 'lxml.etree._XSLTResultTree'>\n",
      "<class 'lxml.etree._Element'>\n"
     ]
    }
   ],
   "source": [
    "print(type(transformed))\n",
    "print(type(parsed_xml))"
   ]
  },
  {
   "cell_type": "markdown",
   "metadata": {},
   "source": [
    "The result is not of the same type of element we usually have, even though it does share most of its methods and attributes :"
   ]
  },
  {
   "cell_type": "code",
   "execution_count": 20,
   "metadata": {},
   "outputs": [
    {
     "name": "stdout",
     "output_type": "stream",
     "text": [
      "[<Element name at 0x7f822833e248>, <Element name at 0x7f822833e388>, <Element name at 0x7f822833e288>, <Element name at 0x7f822833e3c8>]\n"
     ]
    }
   ],
   "source": [
    "print(transformed.xpath(\"//name\"))"
   ]
  },
  {
   "cell_type": "markdown",
   "metadata": {},
   "source": [
    "And has something more : you can change its type to string !"
   ]
  },
  {
   "cell_type": "code",
   "execution_count": 21,
   "metadata": {},
   "outputs": [
    {
     "name": "stdout",
     "output_type": "stream",
     "text": [
      "<?xml version=\"1.0\"?>\n",
      "<fields>\n",
      "    <name>History</name>\n",
      "    <name>Classics</name>\n",
      "    <name>French</name>\n",
      "    <name>German</name>\n",
      "</fields>\n",
      "\n"
     ]
    }
   ],
   "source": [
    "string_result = str(transformed)\n",
    "print(string_result)"
   ]
  },
  {
   "cell_type": "markdown",
   "metadata": {},
   "source": [
    "XSLT is more complex than just inputing xml. You can do XSLT using parameters as well. In this case, your parameters will be accessibles as a named argument to the generated function. If your XSL has a `name` xsl-param, the function given back by `etree.XSLT` will have a `name` argument :"
   ]
  },
  {
   "cell_type": "code",
   "execution_count": 22,
   "metadata": {},
   "outputs": [
    {
     "name": "stdout",
     "output_type": "stream",
     "text": [
      "<?xml version=\"1.0\"?>\n",
      "<fields n=\"Humanities\"><name>History</name><name>Classics</name><name>French</name><name>German</name></fields>\n",
      "\n",
      "<?xml version=\"1.0\"?>\n",
      "<fields n=\"Humanities\"><name>History</name><name>Classics</name><name>French</name><name>German</name></fields>\n",
      "\n"
     ]
    }
   ],
   "source": [
    "# Here is an xml containing an xsl: for each text node of an xml file in the xpath /humanities/field,\n",
    "#     this will return a node <name> with the text inside\n",
    "xslt_root = etree.fromstring(\"\"\"\n",
    "<xsl:stylesheet version=\"1.0\" xmlns:xsl=\"http://www.w3.org/1999/XSL/Transform\">\n",
    "    <xsl:param name=\"n\" />\n",
    "    <xsl:template match=\"/humanities\">\n",
    "        <fields>\n",
    "            <xsl:attribute name=\"n\">\n",
    "                <xsl:value-of select=\"$n\"/>\n",
    "            </xsl:attribute>\n",
    "            <xsl:apply-templates select=\"field\"/>\n",
    "        </fields>\n",
    "    </xsl:template>\n",
    "    <xsl:template match=\"/humanities/field\">\n",
    "        <name><xsl:value-of select=\"./text()\" /></name>\n",
    "    </xsl:template>\n",
    "</xsl:stylesheet>\"\"\")\n",
    "# We transform our document to an xsl \n",
    "xslt = etree.XSLT(xslt_root)\n",
    "\n",
    "# We create some xml we need to change \n",
    "xml = \"\"\"<humanities>\n",
    "    <category>Humanities</category>\n",
    "    <field>History</field>\n",
    "    <field>Classics</field>\n",
    "    <field>French</field>\n",
    "    <field>German</field>\n",
    "</humanities>\"\"\"\n",
    "parsed_xml = etree.fromstring(xml)\n",
    "# And now we process our xml :\n",
    "transformed = xslt(parsed_xml, n=\"'Humanities'\") # Note that for a string, we encapsulate it within single quotes\n",
    "print(transformed)\n",
    "\n",
    "# Be aware that you can use xpath as a value for the argument, though it can be rather complex sometimes\n",
    "transformed = xslt(parsed_xml, n=etree.XPath(\"//category/text()\"))\n",
    "print(transformed)"
   ]
  },
  {
   "cell_type": "markdown",
   "metadata": {},
   "source": [
    "### Using ElementTree"
   ]
  },
  {
   "cell_type": "code",
   "execution_count": 23,
   "metadata": {},
   "outputs": [
    {
     "name": "stdout",
     "output_type": "stream",
     "text": [
      "<xml.etree.ElementTree.ElementTree object at 0x7f8228340710>\n"
     ]
    }
   ],
   "source": [
    "from xml.etree import ElementTree\n",
    "\n",
    "with open('code/data/books.xml', 'rt') as f:\n",
    "    tree = ElementTree.parse(f)\n",
    "\n",
    "print(tree)"
   ]
  },
  {
   "cell_type": "markdown",
   "metadata": {},
   "source": [
    "### Traversing the Parsed Tree"
   ]
  },
  {
   "cell_type": "markdown",
   "metadata": {},
   "source": [
    "To visit all of the children in order, use iter() to create a generator that iterates over the ElementTree instance."
   ]
  },
  {
   "cell_type": "code",
   "execution_count": 24,
   "metadata": {},
   "outputs": [
    {
     "name": "stdout",
     "output_type": "stream",
     "text": [
      "catalog {}\n",
      "-----\n",
      "book {'id': 'bk101'}\n",
      "-----\n",
      "author {}\n",
      "-----\n",
      "title {}\n",
      "-----\n",
      "genre {}\n",
      "-----\n"
     ]
    }
   ],
   "source": [
    "from xml.etree import ElementTree\n",
    "from itertools import islice\n",
    "    \n",
    "with open('code/data/books.xml', 'r') as f:\n",
    "    tree = ElementTree.parse(f)\n",
    "\n",
    "# only getting 5 elements from the generator\n",
    "for node in islice(tree.iter(), 5):\n",
    "    print (node.tag, node.attrib)\n",
    "    print(\"-----\")"
   ]
  },
  {
   "cell_type": "code",
   "execution_count": 25,
   "metadata": {},
   "outputs": [
    {
     "name": "stdout",
     "output_type": "stream",
     "text": [
      "18\n",
      "Science and Tech\n",
      "\tAPM: Future Tense :: http://www.publicradio.org/columns/futuretense/podcast.xml\n",
      "\tEngines Of Our Ingenuity Podcast :: http://www.npr.org/rss/podcast.php?id=510030\n",
      "\tScience & the City :: http://www.nyas.org/Podcasts/Atom.axd\n",
      "Books and Fiction\n",
      "\tPodiobooker :: http://feeds.feedburner.com/podiobooks\n",
      "\tThe Drabblecast :: http://web.me.com/normsherman/Site/Podcast/rss.xml\n",
      "\ttor.com / category / tordotstories :: http://www.tor.com/rss/category/TorDotStories\n",
      "Computers and Programming\n",
      "\tMacBreak Weekly :: http://leo.am/podcasts/mbw\n",
      "\tFLOSS Weekly :: http://leo.am/podcasts/floss\n",
      "\tCore Intuition :: http://www.coreint.org/podcast.xml\n",
      "Python\n",
      "\tPyCon Podcast :: http://advocacy.python.org/podcasts/pycon.rss\n",
      "\tA Little Bit of Python :: http://advocacy.python.org/podcasts/littlebit.rss\n",
      "\tDjango Dose Everything Feed :: http://djangodose.com/everything/feed/\n",
      "Miscelaneous\n",
      "\tdhellmann's CastSampler Feed :: http://www.castsampler.com/cast/feed/rss/dhellmann/\n"
     ]
    }
   ],
   "source": [
    "### To print only the groups of names and feed URLs for the podcasts, \n",
    "# leaving out of all of the data in the header section by iterating \n",
    "# over only the outline nodes and print the text and xmlUrl attributes.\n",
    "\n",
    "from xml.etree import ElementTree\n",
    "\n",
    "with open('code/data/podcasts.opml', 'rt') as f:\n",
    "    tree = ElementTree.parse(f)\n",
    "\n",
    "print(len( list(tree.iter('outline'))))\n",
    "for node in tree.iter('outline'):\n",
    "    name = node.attrib.get('text')\n",
    "    url = node.attrib.get('xmlUrl')\n",
    "    if name and url:\n",
    "        print ('\\t%s :: %s' % (name, url))\n",
    "    else:\n",
    "        print (name)"
   ]
  },
  {
   "cell_type": "markdown",
   "metadata": {},
   "source": [
    "### Finding Nodes in a Document"
   ]
  },
  {
   "cell_type": "markdown",
   "metadata": {},
   "source": [
    "Walking the entire tree like this searching for relevant nodes can be error prone. The example above had to look at each outline node to determine if it was a group (nodes with only a text attribute) or podcast (with both text and xmlUrl). To produce a simple list of the podcast feed URLs, without names or groups, for a podcast downloader application, the logic could be simplified using findall() to look for nodes with more descriptive search characteristics.\n",
    "\n",
    "As a first pass at converting the above example, we can construct an XPath argument to look for all outline nodes."
   ]
  },
  {
   "cell_type": "code",
   "execution_count": 26,
   "metadata": {},
   "outputs": [
    {
     "name": "stdout",
     "output_type": "stream",
     "text": [
      "Science and Tech\n",
      "http://www.publicradio.org/columns/futuretense/podcast.xml\n",
      "http://www.npr.org/rss/podcast.php?id=510030\n",
      "http://www.nyas.org/Podcasts/Atom.axd\n",
      "Books and Fiction\n",
      "http://feeds.feedburner.com/podiobooks\n",
      "http://web.me.com/normsherman/Site/Podcast/rss.xml\n",
      "http://www.tor.com/rss/category/TorDotStories\n",
      "Computers and Programming\n",
      "http://leo.am/podcasts/mbw\n",
      "http://leo.am/podcasts/floss\n",
      "http://www.coreint.org/podcast.xml\n",
      "Python\n",
      "http://advocacy.python.org/podcasts/pycon.rss\n",
      "http://advocacy.python.org/podcasts/littlebit.rss\n",
      "http://djangodose.com/everything/feed/\n",
      "Miscelaneous\n",
      "http://www.castsampler.com/cast/feed/rss/dhellmann/\n"
     ]
    }
   ],
   "source": [
    "for node in tree.findall('.//outline'):\n",
    "    url = node.attrib.get('xmlUrl')\n",
    "    if url:\n",
    "        print( url)\n",
    "    else:\n",
    "        print(node.attrib.get(\"text\"))"
   ]
  },
  {
   "cell_type": "code",
   "execution_count": 27,
   "metadata": {},
   "outputs": [
    {
     "name": "stdout",
     "output_type": "stream",
     "text": [
      "['__class__', '__delattr__', '__dict__', '__dir__', '__doc__', '__eq__', '__format__', '__ge__', '__getattribute__', '__gt__', '__hash__', '__init__', '__init_subclass__', '__le__', '__lt__', '__module__', '__ne__', '__new__', '__reduce__', '__reduce_ex__', '__repr__', '__setattr__', '__sizeof__', '__str__', '__subclasshook__', '__weakref__', '_root', '_setroot', 'find', 'findall', 'findtext', 'getiterator', 'getroot', 'iter', 'iterfind', 'parse', 'write', 'write_c14n']\n",
      "<bound method ElementTree.getroot of <xml.etree.ElementTree.ElementTree object at 0x7f82280e3cc0>>\n"
     ]
    }
   ],
   "source": [
    "print(dir(tree))\n",
    "print(tree.getroot)"
   ]
  },
  {
   "cell_type": "markdown",
   "metadata": {},
   "source": [
    "Another version can take advantage of the fact that the outline nodes are only nested two levels deep. Changing the search path to .//outline/outline mean the loop will process only the second level of outline nodes."
   ]
  },
  {
   "cell_type": "code",
   "execution_count": 28,
   "metadata": {},
   "outputs": [
    {
     "name": "stdout",
     "output_type": "stream",
     "text": [
      "http://www.publicradio.org/columns/futuretense/podcast.xml\n",
      "http://www.npr.org/rss/podcast.php?id=510030\n",
      "http://www.nyas.org/Podcasts/Atom.axd\n",
      "http://feeds.feedburner.com/podiobooks\n",
      "http://web.me.com/normsherman/Site/Podcast/rss.xml\n",
      "http://www.tor.com/rss/category/TorDotStories\n",
      "http://leo.am/podcasts/mbw\n",
      "http://leo.am/podcasts/floss\n",
      "http://www.coreint.org/podcast.xml\n",
      "http://advocacy.python.org/podcasts/pycon.rss\n",
      "http://advocacy.python.org/podcasts/littlebit.rss\n",
      "http://djangodose.com/everything/feed/\n",
      "http://www.castsampler.com/cast/feed/rss/dhellmann/\n"
     ]
    }
   ],
   "source": [
    "for node in tree.findall('.//outline/outline'):\n",
    "    url = node.attrib.get('xmlUrl')\n",
    "    print (url)"
   ]
  },
  {
   "cell_type": "markdown",
   "metadata": {},
   "source": [
    "### Parsed Node Attributes"
   ]
  },
  {
   "cell_type": "markdown",
   "metadata": {},
   "source": [
    "The items returned by findall() and iter() are Element objects, each representing a node in the XML parse tree. Each Element has attributes for accessing data pulled out of the XML. This can be illustrated with a somewhat more contrived example input file, data.xml:"
   ]
  },
  {
   "cell_type": "code",
   "execution_count": 29,
   "metadata": {},
   "outputs": [
    {
     "name": "stdout",
     "output_type": "stream",
     "text": [
      "with_attributes\n",
      "  foo  = \"bar\"\n",
      "  name = \"value\"\n",
      "  testtest = \"thisis atest\"\n"
     ]
    }
   ],
   "source": [
    "from xml.etree import ElementTree\n",
    "\n",
    "with open('code/data/data.xml', 'rt') as f:\n",
    "    tree = ElementTree.parse(f)\n",
    "\n",
    "node = tree.find('./with_attributes')\n",
    "print (node.tag)\n",
    "\n",
    "for name, value in sorted(node.attrib.items()):\n",
    "    print ('  %-4s = \"%s\"' % (name, value))"
   ]
  },
  {
   "cell_type": "code",
   "execution_count": 30,
   "metadata": {},
   "outputs": [
    {
     "name": "stdout",
     "output_type": "stream",
     "text": [
      "child\n",
      "  child node text: This child contains text.\n",
      "  and tail text  : \n",
      "  \n",
      "child_with_tail\n",
      "  child node text: This child has regular text.\n",
      "  and tail text  : And \"tail\" text.\n",
      "  \n"
     ]
    }
   ],
   "source": [
    "for path in [ './child', './child_with_tail' ]:\n",
    "    node = tree.find(path)\n",
    "    print(node.tag)\n",
    "    print ('  child node text:', node.text)\n",
    "    print ('  and tail text  :', node.tail)"
   ]
  },
  {
   "cell_type": "markdown",
   "metadata": {},
   "source": [
    "### Parsing Strings"
   ]
  },
  {
   "cell_type": "markdown",
   "metadata": {},
   "source": [
    "To work with smaller bits of XML text, especially string literals as might be embedded in the source of a program, use XML() and the string containing the XML to be parsed as the only argument."
   ]
  },
  {
   "cell_type": "code",
   "execution_count": 31,
   "metadata": {},
   "outputs": [
    {
     "name": "stdout",
     "output_type": "stream",
     "text": [
      "parsed = <Element 'root' at 0x7f8228369e08>\n",
      "group\n",
      "group\n"
     ]
    }
   ],
   "source": [
    "from xml.etree.ElementTree import XML\n",
    "\n",
    "parsed = XML('''\n",
    "<root>\n",
    "  <group>\n",
    "    <child id=\"a\">This is child \"a\".</child>\n",
    "    <child id=\"b\">This is child \"b\".</child>\n",
    "  </group>\n",
    "  <group>\n",
    "    <child id=\"c\">This is child \"c\".</child>\n",
    "  </group>\n",
    "</root>\n",
    "''')\n",
    "\n",
    "print ('parsed =', parsed)\n",
    "\n",
    "for elem in parsed:\n",
    "    print (elem.tag)\n",
    "    if elem.text is not None and elem.text.strip():\n",
    "        print ('  text: \"%s\"' % elem.text)\n",
    "    if elem.tail is not None and elem.tail.strip():\n",
    "        print ('  tail: \"%s\"' % elem.tail)\n",
    "    for name, value in sorted(elem.attrib.items()):\n",
    "        print('  %-4s = \"%s\"' % (name, value))\n",
    "    print"
   ]
  },
  {
   "cell_type": "code",
   "execution_count": 32,
   "metadata": {
    "scrolled": true
   },
   "outputs": [
    {
     "name": "stdout",
     "output_type": "stream",
     "text": [
      "<Element 'top' at 0x7f82280e4318>\n"
     ]
    }
   ],
   "source": [
    "from xml.etree.ElementTree import Element, tostring\n",
    "\n",
    "top = Element('top')\n",
    "\n",
    "children = [\n",
    "    Element('child', num=str(i))\n",
    "    for i in range(3)\n",
    "]\n",
    "\n",
    "top.extend(children)\n",
    "\n",
    "print(top)"
   ]
  },
  {
   "cell_type": "code",
   "execution_count": null,
   "metadata": {},
   "outputs": [],
   "source": []
  },
  {
   "cell_type": "code",
   "execution_count": null,
   "metadata": {},
   "outputs": [],
   "source": []
  },
  {
   "cell_type": "code",
   "execution_count": null,
   "metadata": {},
   "outputs": [],
   "source": []
  },
  {
   "cell_type": "code",
   "execution_count": null,
   "metadata": {},
   "outputs": [],
   "source": []
  },
  {
   "cell_type": "code",
   "execution_count": null,
   "metadata": {},
   "outputs": [],
   "source": []
  },
  {
   "cell_type": "code",
   "execution_count": null,
   "metadata": {},
   "outputs": [],
   "source": []
  },
  {
   "cell_type": "code",
   "execution_count": null,
   "metadata": {},
   "outputs": [],
   "source": []
  },
  {
   "cell_type": "code",
   "execution_count": null,
   "metadata": {},
   "outputs": [],
   "source": []
  },
  {
   "cell_type": "code",
   "execution_count": null,
   "metadata": {},
   "outputs": [],
   "source": []
  },
  {
   "cell_type": "markdown",
   "metadata": {},
   "source": [
    "## XML support in Python"
   ]
  },
  {
   "cell_type": "markdown",
   "metadata": {},
   "source": [
    "Python has rich support for XML by having multiple libs to parse XML documents. Lets dicuss them in details. Following are the sub-modules supported nativly by Python"
   ]
  },
  {
   "cell_type": "markdown",
   "metadata": {},
   "source": [
    "- xml.etree.ElementTree: the ElementTree API, a simple and lightweight XML processor\n",
    "- xml.dom: the DOM API definition\n",
    "- xml.dom.minidom: a minimal DOM implementation\n",
    "- xml.dom.pulldom: support for building partial DOM trees\n",
    "- xml.sax: SAX2 base classes and convenience functions\n",
    "- xml.parsers.expat: the Expat parser binding"
   ]
  },
  {
   "cell_type": "markdown",
   "metadata": {},
   "source": [
    "### xml.etree.ElementTree"
   ]
  },
  {
   "cell_type": "markdown",
   "metadata": {},
   "source": [
    "we can import `ET` using the following command"
   ]
  },
  {
   "cell_type": "code",
   "execution_count": 33,
   "metadata": {},
   "outputs": [],
   "source": [
    "import xml.etree.ElementTree as ET"
   ]
  },
  {
   "cell_type": "markdown",
   "metadata": {},
   "source": [
    "XML can parse either the xml file using the following code, "
   ]
  },
  {
   "cell_type": "code",
   "execution_count": 34,
   "metadata": {},
   "outputs": [],
   "source": [
    "old_books = 'code/data/old_books.xml'\n",
    "nasa_data = 'code/data/nasa.xml'"
   ]
  },
  {
   "cell_type": "markdown",
   "metadata": {},
   "source": [
    "#### Opening xml file"
   ]
  },
  {
   "cell_type": "markdown",
   "metadata": {},
   "source": [
    "Opening an xml file is actually quite simple : you open it and you parse it. Who would have guessed ?"
   ]
  },
  {
   "cell_type": "code",
   "execution_count": 35,
   "metadata": {},
   "outputs": [
    {
     "name": "stdout",
     "output_type": "stream",
     "text": [
      "<xml.etree.ElementTree.ElementTree object at 0x7f8228350cc0>\n"
     ]
    }
   ],
   "source": [
    "tree = ET.parse(old_books)\n",
    "root = tree.getroot()\n",
    "print(tree)"
   ]
  },
  {
   "cell_type": "markdown",
   "metadata": {},
   "source": [
    "or read string using the following code"
   ]
  },
  {
   "cell_type": "code",
   "execution_count": 36,
   "metadata": {},
   "outputs": [],
   "source": [
    "xml_book = \"\"\"<?xml version=\"1.0\"?>\n",
    "<books>\n",
    "    <book title=\"Ṛg-Veda Khilāni\">\n",
    "        <editor>Jost Gippert</editor>\n",
    "        <publication>Frankfurt: TITUS</publication>\n",
    "        <year>2008</year>\n",
    "        <web_page>http://titus.uni-frankfurt.de/texte/etcs/ind/aind/ved/rv/rvkh/rvkh.htm</web_page>\n",
    "    </book>    \n",
    "    <book title=\"Ṛgveda-Saṃhitā\">\n",
    "        <editor>Jost Gippert</editor>\n",
    "        <publication>Frankfurt: TITUS</publication>\n",
    "        <year>2000</year>\n",
    "        <web_page>http://titus.uni-frankfurt.de/texte/etcs/ind/aind/ved/rv/mt/rv.htm</web_page>\n",
    "    </book>\n",
    "</books>\n",
    "\"\"\"\n",
    "root = ET.fromstring(xml_book)"
   ]
  },
  {
   "cell_type": "markdown",
   "metadata": {},
   "source": [
    "As an Element, `root` also has tag and to following code can be used to find the tag"
   ]
  },
  {
   "cell_type": "code",
   "execution_count": 37,
   "metadata": {},
   "outputs": [
    {
     "name": "stdout",
     "output_type": "stream",
     "text": [
      "books\n"
     ]
    }
   ],
   "source": [
    "print(root.tag)"
   ]
  },
  {
   "cell_type": "markdown",
   "metadata": {},
   "source": [
    "We can use `len` to find the number of direct child nodes. As in our example we have two `book` nodes,  "
   ]
  },
  {
   "cell_type": "code",
   "execution_count": 38,
   "metadata": {},
   "outputs": [
    {
     "name": "stdout",
     "output_type": "stream",
     "text": [
      "2\n"
     ]
    }
   ],
   "source": [
    "print(len(root))"
   ]
  },
  {
   "cell_type": "markdown",
   "metadata": {},
   "source": [
    "#### Reading root as binary text"
   ]
  },
  {
   "cell_type": "code",
   "execution_count": 39,
   "metadata": {},
   "outputs": [
    {
     "name": "stdout",
     "output_type": "stream",
     "text": [
      "(b'<books>\\n    <book title=\"&#7770;g-Veda Khil&#257;ni\">\\n        <editor>Jo'\n",
      " b'st Gippert</editor>\\n        <publication>Frankfurt: TITUS</publication>\\n'\n",
      " b'        <year>2008</year>\\n        <web_page>http://titus.uni-frankfurt.d'\n",
      " b'e/texte/etcs/ind/aind/ved/rv/rvkh/rvkh.htm</web_page>\\n    </book>    \\n  '\n",
      " b'  <book title=\"&#7770;gveda-Sa&#7747;hit&#257;\">\\n        <editor>Jost Gi'\n",
      " b'ppert</editor>\\n        <publication>Frankfurt: TITUS</publication>\\n     '\n",
      " b'   <year>2000</year>\\n        <web_page>http://titus.uni-frankfurt.de/tex'\n",
      " b'te/etcs/ind/aind/ved/rv/mt/rv.htm</web_page>\\n    </book>\\n</books>')\n"
     ]
    }
   ],
   "source": [
    "from pprint import pprint\n",
    "pprint(ET.tostring(root))"
   ]
  },
  {
   "cell_type": "markdown",
   "metadata": {},
   "source": [
    "#### Reading element as formatted text"
   ]
  },
  {
   "cell_type": "code",
   "execution_count": 40,
   "metadata": {},
   "outputs": [
    {
     "name": "stdout",
     "output_type": "stream",
     "text": [
      "<books>\n",
      "    <book title=\"&#7770;g-Veda Khil&#257;ni\">\n",
      "        <editor>Jost Gippert</editor>\n",
      "        <publication>Frankfurt: TITUS</publication>\n",
      "        <year>2008</year>\n",
      "        <web_page>http://titus.uni-frankfurt.de/texte/etcs/ind/aind/ved/rv/rvkh/rvkh.htm</web_page>\n",
      "    </book>    \n",
      "    <book title=\"&#7770;gveda-Sa&#7747;hit&#257;\">\n",
      "        <editor>Jost Gippert</editor>\n",
      "        <publication>Frankfurt: TITUS</publication>\n",
      "        <year>2000</year>\n",
      "        <web_page>http://titus.uni-frankfurt.de/texte/etcs/ind/aind/ved/rv/mt/rv.htm</web_page>\n",
      "    </book>\n",
      "</books>\n",
      "<class 'str'>\n"
     ]
    }
   ],
   "source": [
    "dec_root = ET.tostring(root).decode()\n",
    "print(dec_root)\n",
    "print(type(dec_root))"
   ]
  },
  {
   "cell_type": "markdown",
   "metadata": {},
   "source": [
    "#### All attributes available to an element"
   ]
  },
  {
   "cell_type": "markdown",
   "metadata": {},
   "source": [
    "we can use our time tested and trusted  `dir` to get the list of all the attributes of an `element`"
   ]
  },
  {
   "cell_type": "code",
   "execution_count": 41,
   "metadata": {},
   "outputs": [
    {
     "name": "stdout",
     "output_type": "stream",
     "text": [
      "['__class__', '__copy__', '__deepcopy__', '__delattr__', '__delitem__', '__dir__', '__doc__', '__eq__', '__format__', '__ge__', '__getattribute__', '__getitem__', '__getstate__', '__gt__', '__hash__', '__init__', '__init_subclass__', '__le__', '__len__', '__lt__', '__ne__', '__new__', '__reduce__', '__reduce_ex__', '__repr__', '__setattr__', '__setitem__', '__setstate__', '__sizeof__', '__str__', '__subclasshook__', 'append', 'attrib', 'clear', 'extend', 'find', 'findall', 'findtext', 'get', 'getchildren', 'getiterator', 'insert', 'items', 'iter', 'iterfind', 'itertext', 'keys', 'makeelement', 'remove', 'set', 'tag', 'tail', 'text']\n"
     ]
    }
   ],
   "source": [
    "print(dir(root))"
   ]
  },
  {
   "cell_type": "markdown",
   "metadata": {},
   "source": [
    "we can use `for` loop to traverse the direct descendents nodes."
   ]
  },
  {
   "cell_type": "code",
   "execution_count": 42,
   "metadata": {},
   "outputs": [
    {
     "name": "stdout",
     "output_type": "stream",
     "text": [
      "<Element 'book' at 0x7f82280e4ea8>\n",
      "<Element 'book' at 0x7f822835d5e8>\n"
     ]
    }
   ],
   "source": [
    "for ele in root:\n",
    "    print(ele)"
   ]
  },
  {
   "cell_type": "markdown",
   "metadata": {},
   "source": [
    "as shown above we get element nodes using for loop, lets get more information from them by enhancing the existing code"
   ]
  },
  {
   "cell_type": "code",
   "execution_count": 43,
   "metadata": {},
   "outputs": [
    {
     "name": "stdout",
     "output_type": "stream",
     "text": [
      "book {'title': 'Ṛg-Veda Khilāni'}\n",
      "book {'title': 'Ṛgveda-Saṃhitā'}\n"
     ]
    }
   ],
   "source": [
    "for ele in root:\n",
    "    print(ele.tag, ele.attrib)"
   ]
  },
  {
   "cell_type": "markdown",
   "metadata": {},
   "source": [
    "we can also find the nodes using indexes. "
   ]
  },
  {
   "cell_type": "code",
   "execution_count": 44,
   "metadata": {},
   "outputs": [
    {
     "name": "stdout",
     "output_type": "stream",
     "text": [
      "<Element 'book' at 0x7f822835d5e8>\n"
     ]
    }
   ],
   "source": [
    "print(root[1])"
   ]
  },
  {
   "cell_type": "markdown",
   "metadata": {},
   "source": [
    "If more than one attibutes are present then individual attributes can be accessas similar to dictionary"
   ]
  },
  {
   "cell_type": "code",
   "execution_count": 45,
   "metadata": {},
   "outputs": [
    {
     "name": "stdout",
     "output_type": "stream",
     "text": [
      "Ṛgveda-Saṃhitā\n"
     ]
    }
   ],
   "source": [
    "print(root[1].attrib['title'])"
   ]
  },
  {
   "cell_type": "code",
   "execution_count": 46,
   "metadata": {},
   "outputs": [
    {
     "name": "stdout",
     "output_type": "stream",
     "text": [
      "Frankfurt: TITUS\n"
     ]
    }
   ],
   "source": [
    "print(root[0][1].text)"
   ]
  },
  {
   "cell_type": "markdown",
   "metadata": {},
   "source": [
    "#### Reading Large XML file using `iterparse`"
   ]
  },
  {
   "cell_type": "code",
   "execution_count": 47,
   "metadata": {},
   "outputs": [
    {
     "name": "stdout",
     "output_type": "stream",
     "text": [
      "end <Element 'editor' at 0x7f82280f26d8>\n",
      "end <Element 'publication' at 0x7f82280f2728>\n",
      "end <Element 'year' at 0x7f82280f2778>\n",
      "end <Element 'web_page' at 0x7f82280f27c8>\n",
      "end <Element 'book' at 0x7f82280f2688>\n",
      "end <Element 'editor' at 0x7f82280f2868>\n",
      "end <Element 'publication' at 0x7f82280f28b8>\n",
      "end <Element 'year' at 0x7f82280f2908>\n",
      "end <Element 'web_page' at 0x7f82280f2958>\n",
      "end <Element 'book' at 0x7f82280f2818>\n",
      "end <Element 'books' at 0x7f82280f2638>\n"
     ]
    }
   ],
   "source": [
    "for event, elem in ET.iterparse(old_books):\n",
    "    print(event, elem)"
   ]
  },
  {
   "cell_type": "code",
   "execution_count": 48,
   "metadata": {},
   "outputs": [
    {
     "name": "stdout",
     "output_type": "stream",
     "text": [
      "Event: end Elem: <Element 'title' at 0x7f82280f2cc8>\n",
      "Event: end Elem: <Element 'altname' at 0x7f82280f2d18>\n",
      "Event: end Elem: <Element 'altname' at 0x7f82280f2d68>\n",
      "Event: end Elem: <Element 'altname' at 0x7f82280f2db8>\n",
      "Event: end Elem: <Element 'title' at 0x7f82280f2ef8>\n",
      "Event: end Elem: <Element 'initial' at 0x7f82280f2f98>\n",
      "Event: end Elem: <Element 'initial' at 0x7f82280f7048>\n",
      "Event: end Elem: <Element 'lastName' at 0x7f82280f7098>\n",
      "Event: end Elem: <Element 'author' at 0x7f82280f2f48>\n",
      "Event: end Elem: <Element 'initial' at 0x7f82280f7138>\n",
      "Event: end Elem: <Element 'lastName' at 0x7f82280f7188>\n",
      "Event: end Elem: <Element 'author' at 0x7f82280f70e8>\n"
     ]
    }
   ],
   "source": [
    "file_name = 'code/data/nasa.xml'\n",
    "x = 0\n",
    "for event, elem in ET.iterparse(file_name):\n",
    "    print(\"Event:\", event, \"Elem:\", elem)\n",
    "    if x > 10:\n",
    "        pass\n",
    "        break\n",
    "    else:\n",
    "        x += 1"
   ]
  },
  {
   "cell_type": "markdown",
   "metadata": {},
   "source": [
    "### Finding interesting elements"
   ]
  },
  {
   "cell_type": "markdown",
   "metadata": {},
   "source": [
    "Most of the time, we are only interested in part of the whole xml document or only one attribues of all elements.\n",
    "In this section, we will discuss technologies which will help us in solving the above situations."
   ]
  },
  {
   "cell_type": "markdown",
   "metadata": {},
   "source": [
    "Lets assume, our manager (say **Mr. Pauly**) has asked us to read `old_book.xml` file and find the name of editors of all the books. We can solve the request using any of the below methods. "
   ]
  },
  {
   "cell_type": "markdown",
   "metadata": {},
   "source": [
    "#### Using iter"
   ]
  },
  {
   "cell_type": "markdown",
   "metadata": {},
   "source": [
    "This is the recommemded method as its an iterator, thus will consume less memory"
   ]
  },
  {
   "cell_type": "code",
   "execution_count": 49,
   "metadata": {},
   "outputs": [
    {
     "name": "stdout",
     "output_type": "stream",
     "text": [
      "<Element 'editor' at 0x7f82280e4868>\n",
      "Jost Gippert\n",
      "<Element 'editor' at 0x7f822835d598>\n",
      "Jost Gippert\n"
     ]
    }
   ],
   "source": [
    "for editor in root.iter('editor'):\n",
    "    print(editor)\n",
    "    print(editor.text)"
   ]
  },
  {
   "cell_type": "markdown",
   "metadata": {},
   "source": [
    "as, you can see we were able to directly select editor tags"
   ]
  },
  {
   "cell_type": "markdown",
   "metadata": {},
   "source": [
    "#### using findall"
   ]
  },
  {
   "cell_type": "markdown",
   "metadata": {},
   "source": [
    "It finds only elements with a tag which are direct children of the current element."
   ]
  },
  {
   "cell_type": "code",
   "execution_count": 50,
   "metadata": {},
   "outputs": [
    {
     "name": "stdout",
     "output_type": "stream",
     "text": [
      "<Element 'book' at 0x7f82280e4ea8>\n",
      "book\n",
      "<Element 'book' at 0x7f822835d5e8>\n",
      "book\n"
     ]
    }
   ],
   "source": [
    "for editor in root.findall('book'):\n",
    "    print(editor)\n",
    "    print(editor.tag)"
   ]
  },
  {
   "cell_type": "code",
   "execution_count": 51,
   "metadata": {},
   "outputs": [
    {
     "name": "stdout",
     "output_type": "stream",
     "text": [
      "[]\n"
     ]
    }
   ],
   "source": [
    "print(root.findall('editor'))"
   ]
  },
  {
   "cell_type": "markdown",
   "metadata": {},
   "source": [
    "As you can see that `editor` is not direct children for the current element `root`, thus we got empty value. But we can use relative xpath to get the editors"
   ]
  },
  {
   "cell_type": "code",
   "execution_count": 52,
   "metadata": {},
   "outputs": [
    {
     "name": "stdout",
     "output_type": "stream",
     "text": [
      "[<Element 'editor' at 0x7f82280e4868>, <Element 'editor' at 0x7f822835d598>]\n",
      "editor  :  Jost Gippert\n",
      "editor  :  Jost Gippert\n"
     ]
    }
   ],
   "source": [
    "print(root.findall('.//editor'))\n",
    "for editor in root.findall('.//editor'):\n",
    "    print(editor.tag, \" : \", editor.text)"
   ]
  },
  {
   "cell_type": "markdown",
   "metadata": {},
   "source": [
    "#### Using find"
   ]
  },
  {
   "cell_type": "markdown",
   "metadata": {},
   "source": [
    "It find the first child with a particular tag"
   ]
  },
  {
   "cell_type": "code",
   "execution_count": 53,
   "metadata": {},
   "outputs": [
    {
     "name": "stdout",
     "output_type": "stream",
     "text": [
      "<Element 'book' at 0x7f82280e4ea8>\n"
     ]
    }
   ],
   "source": [
    "print(root.find('book'))"
   ]
  },
  {
   "cell_type": "code",
   "execution_count": 54,
   "metadata": {
    "scrolled": true
   },
   "outputs": [
    {
     "name": "stdout",
     "output_type": "stream",
     "text": [
      "None\n"
     ]
    }
   ],
   "source": [
    "print(root.find('editor'))"
   ]
  },
  {
   "cell_type": "markdown",
   "metadata": {},
   "source": [
    "As you can see that `editor` is not direct children for the current element `root`, thus we got empty value. But we can use relative xpath to get the editors as shown in the previous example."
   ]
  },
  {
   "cell_type": "markdown",
   "metadata": {},
   "source": [
    "> <center>! ! **NOTE** ! !</center>\n",
    "> ---\n",
    "> Do try to avoid `find` and `findall` as they are not iterators and can & will consume more memory :)"
   ]
  },
  {
   "cell_type": "markdown",
   "metadata": {},
   "source": [
    "### Accessing Element Attributes"
   ]
  },
  {
   "cell_type": "code",
   "execution_count": 55,
   "metadata": {},
   "outputs": [
    {
     "data": {
      "text/plain": [
       "'Ṛg-Veda Khilāni'"
      ]
     },
     "execution_count": 55,
     "metadata": {},
     "output_type": "execute_result"
    }
   ],
   "source": [
    "ele = root.find('book')\n",
    "ele.get('title')"
   ]
  },
  {
   "cell_type": "markdown",
   "metadata": {},
   "source": [
    "### Building XML documents"
   ]
  },
  {
   "cell_type": "markdown",
   "metadata": {},
   "source": [
    "We can build a XML document using `Element` & `SubElement` functions of `ElementTree`"
   ]
  },
  {
   "cell_type": "code",
   "execution_count": 56,
   "metadata": {},
   "outputs": [
    {
     "name": "stdout",
     "output_type": "stream",
     "text": [
      "<a><b B=\"TEST\" /><c /><d><e><f /></e></d></a>\n",
      "<a><b B=\"TEST\" /><c /><d><e><f /></e></d></a>\n"
     ]
    }
   ],
   "source": [
    "a = ET.Element('a')\n",
    "b = ET.SubElement(a, 'b')\n",
    "b.attrib[\"B\"] = \"TEST\"\n",
    "c = ET.SubElement(a, 'c')\n",
    "d = ET.SubElement(a, 'd')\n",
    "e = ET.SubElement(d, 'e')\n",
    "f = ET.SubElement(e, 'f')\n",
    "\n",
    "ET.dump(a)\n",
    "print(ET.tostring(a).decode())"
   ]
  },
  {
   "cell_type": "markdown",
   "metadata": {},
   "source": [
    "### Parsing XML with Namespaces"
   ]
  },
  {
   "cell_type": "markdown",
   "metadata": {},
   "source": [
    "```xml\n",
    "<?xml version=\"1.0\"?>\n",
    "<actors xmlns:fictional=\"http://characters.example.com\"\n",
    "        xmlns=\"http://people.example.com\">\n",
    "    <actor>\n",
    "        <name>John Cleese</name>\n",
    "        <fictional:character>Lancelot</fictional:character>\n",
    "        <fictional:character>Archie Leach</fictional:character>\n",
    "    </actor>\n",
    "    <actor>\n",
    "        <name>Eric Idle</name>\n",
    "        <fictional:character>Sir Robin</fictional:character>\n",
    "        <fictional:character>Gunther</fictional:character>\n",
    "        <fictional:character>Commander Clement</fictional:character>\n",
    "    </actor>\n",
    "</actors>\n",
    "```"
   ]
  },
  {
   "cell_type": "code",
   "execution_count": 57,
   "metadata": {},
   "outputs": [],
   "source": [
    "xml_text = \"\"\"<?xml version=\"1.0\"?>\n",
    "<actors xmlns:fictional=\"http://characters.example.com\"\n",
    "        xmlns=\"http://people.example.com\">\n",
    "    <actor>\n",
    "        <name>John Cleese</name>\n",
    "        <fictional:character>Lancelot</fictional:character>\n",
    "        <fictional:character>Archie Leach</fictional:character>\n",
    "    </actor>\n",
    "    <actor>\n",
    "        <name>Eric Idle</name>\n",
    "        <fictional:character>Sir Robin</fictional:character>\n",
    "        <fictional:character>Gunther</fictional:character>\n",
    "        <fictional:character>Commander Clement</fictional:character>\n",
    "    </actor>\n",
    "</actors>\"\"\""
   ]
  },
  {
   "cell_type": "code",
   "execution_count": 58,
   "metadata": {},
   "outputs": [
    {
     "name": "stdout",
     "output_type": "stream",
     "text": [
      "John Cleese\n",
      "   |-> Lancelot\n",
      "   |-> Archie Leach\n",
      "Eric Idle\n",
      "   |-> Sir Robin\n",
      "   |-> Gunther\n",
      "   |-> Commander Clement\n"
     ]
    }
   ],
   "source": [
    "root = ET.fromstring(xml_text)\n",
    "for actor in root.findall('{http://people.example.com}actor'):\n",
    "    name = actor.find('{http://people.example.com}name')\n",
    "    print(name.text)\n",
    "    for char in actor.findall('{http://characters.example.com}character'):\n",
    "        print('   |->', char.text)"
   ]
  },
  {
   "cell_type": "markdown",
   "metadata": {},
   "source": [
    "### XPath support"
   ]
  },
  {
   "cell_type": "markdown",
   "metadata": {},
   "source": [
    "| Syntax            | Meaning                                                                                                                                                                                                                                   |\n",
    "|-------------------|-------------------------------------------------------------------------------------------------------------------------------------------------------------------------------------------------------------------------------------------|\n",
    "| tag               | Selects all child elements with the given tag. For example, spam selects all child elements named spam, and spam/egg selects all grandchildren named egg in all children named spam.                                                      |\n",
    "| *                 | Selects all child elements. For example, */egg selects all grandchildren named egg.                                                                                                                                                       |\n",
    "| .                 | Selects the current node. This is mostly useful at the beginning of the path, to indicate that it’s a relative path.                                                                                                                      |\n",
    "| //                | Selects all subelements, on all levels beneath the current element. For example, .//egg selects all eggelements in the entire tree.                                                                                                       |\n",
    "| ..                | Selects the parent element. Returns None if the path attempts to reach the ancestors of the start element (the element find was called on).                                                                                               |\n",
    "| [@attrib]         | Selects all elements that have the given attribute.                                                                                                                                                                                       |\n",
    "| [@attrib='value'] | Selects all elements for which the given attribute has the given value. The value cannot contain quotes.                                                                                                                                  |\n",
    "| [tag]             | Selects all elements that have a child named tag. Only immediate children are supported.                                                                                                                                                  |\n",
    "| [tag='text']      | Selects all elements that have a child named tag whose complete text content, including descendants, equals the given text.                                                                                                               |\n",
    "| [position]        | Selects all elements that are located at the given position. The position can be either an integer (1 is the first position), the expression last() (for the last position), or a position relative to the last position (e.g. last()-1). |"
   ]
  },
  {
   "cell_type": "code",
   "execution_count": null,
   "metadata": {},
   "outputs": [],
   "source": []
  },
  {
   "cell_type": "markdown",
   "metadata": {},
   "source": [
    "### Modifying an XML File"
   ]
  },
  {
   "cell_type": "markdown",
   "metadata": {},
   "source": [
    "The ElementTree.write() method can be used to save the updated document to specified file. "
   ]
  },
  {
   "cell_type": "code",
   "execution_count": 59,
   "metadata": {},
   "outputs": [],
   "source": [
    "root = ET.fromstring(xml_book)\n",
    "ele = root.find('book')\n",
    "\n",
    "ele.attrib['name'] = \"John Cleese\"\n",
    "updated_xml = 'code/data/updated_old_book.xml'\n",
    "tree.write(updated_xml)"
   ]
  },
  {
   "cell_type": "code",
   "execution_count": 60,
   "metadata": {},
   "outputs": [
    {
     "name": "stdout",
     "output_type": "stream",
     "text": [
      "<books>\n",
      "    <book title=\"&#7770;g-Veda Khil&#257;ni\">\n",
      "        <editor>Jost Gippert</editor>\n",
      "        <publication>Frankfurt: TITUS</publication>\n",
      "        <year>2008</year>\n",
      "        <web_page>http://titus.uni-frankfurt.de/texte/etcs/ind/aind/ved/rv/rvkh/rvkh.htm</web_page>\n",
      "    </book>    \n",
      "    <book title=\"&#7770;gveda-Sa&#7747;hit&#257;\">\n",
      "        <editor>Jost Gippert</editor>\n",
      "        <publication>Frankfurt: TITUS</publication>\n",
      "        <year>2000</year>\n",
      "        <web_page>http://titus.uni-frankfurt.de/texte/etcs/ind/aind/ved/rv/mt/rv.htm</web_page>\n",
      "    </book>\t\n",
      "</books>\n"
     ]
    }
   ],
   "source": [
    "with open(updated_xml) as f:\n",
    "    print(f.read())"
   ]
  },
  {
   "cell_type": "markdown",
   "metadata": {},
   "source": [
    "### XML vulnerabilities"
   ]
  },
  {
   "cell_type": "markdown",
   "metadata": {},
   "source": [
    "he XML processing modules are not secure against maliciously constructed data. An attacker can abuse XML features to carry out denial of service attacks, access local files, generate network connections to other machines, or circumvent firewalls.\n",
    "\n",
    "The following table gives an overview of the known attacks and whether the various modules are vulnerable to them.\n",
    "\n",
    "| kind | sax | etree | minidom | pulldom | xmlrpc |\n",
    "|---------------------------|------------|------------|------------|------------|------------|\n",
    "| billion laughs | Vulnerable | Vulnerable | Vulnerable | Vulnerable | Vulnerable |\n",
    "| quadratic blowup | Vulnerable | Vulnerable | Vulnerable | Vulnerable | Vulnerable |\n",
    "| external entity expansion | Vulnerable | Safe (1) | Safe (2) | Vulnerable | Safe (3) |\n",
    "| DTD retrieval | Vulnerable | Safe | Safe | Vulnerable | Safe |\n",
    "| decompression bomb | Safe | Safe | Safe | Safe | Vulnerable |"
   ]
  },
  {
   "cell_type": "code",
   "execution_count": null,
   "metadata": {},
   "outputs": [],
   "source": []
  },
  {
   "cell_type": "markdown",
   "metadata": {},
   "source": [
    "## Common Errors and causes"
   ]
  },
  {
   "cell_type": "code",
   "execution_count": 63,
   "metadata": {},
   "outputs": [
    {
     "name": "stdout",
     "output_type": "stream",
     "text": [
      "XML or text declaration not at start of entity: line 2, column 0\n"
     ]
    }
   ],
   "source": [
    "xml_book = \"\"\"\n",
    "<?xml version=\"1.0\"?>\n",
    "<books>\n",
    "    <book title=\"Ṛg-Veda Khilāni\">\n",
    "        <editor>Jost Gippert</editor>\n",
    "        <publication>Frankfurt: TITUS</publication>\n",
    "        <year>2008</year>\n",
    "        <web_page>http://titus.uni-frankfurt.de/texte/etcs/ind/aind/ved/rv/rvkh/rvkh.htm</web_page>\n",
    "    </book>    \n",
    "    <book title=\"Ṛgveda-Saṃhitā\">\n",
    "        <editor>Jost Gippert</editor>\n",
    "        <publication>Frankfurt: TITUS</publication>\n",
    "        <year>2000</year>\n",
    "        <web_page>http://titus.uni-frankfurt.de/texte/etcs/ind/aind/ved/rv/mt/rv.htm</web_page>\n",
    "    </book>\n",
    "</books>\n",
    "\"\"\"\n",
    "try:\n",
    "    root = ET.fromstring(xml_book)\n",
    "except Exception as e:\n",
    "    print(e)"
   ]
  },
  {
   "cell_type": "markdown",
   "metadata": {},
   "source": [
    "due to blank first line this error happens, to avoid this error remove the blank spaces from the start of string, as shown below"
   ]
  },
  {
   "cell_type": "code",
   "execution_count": 64,
   "metadata": {},
   "outputs": [],
   "source": [
    "xml_book = \"\"\"<?xml version=\"1.0\"?>\n",
    "<books>\n",
    "    <book title=\"Ṛg-Veda Khilāni\">\n",
    "        <editor>Jost Gippert</editor>\n",
    "        <publication>Frankfurt: TITUS</publication>\n",
    "        <year>2008</year>\n",
    "        <web_page>http://titus.uni-frankfurt.de/texte/etcs/ind/aind/ved/rv/rvkh/rvkh.htm</web_page>\n",
    "    </book>    \n",
    "    <book title=\"Ṛgveda-Saṃhitā\">\n",
    "        <editor>Jost Gippert</editor>\n",
    "        <publication>Frankfurt: TITUS</publication>\n",
    "        <year>2000</year>\n",
    "        <web_page>http://titus.uni-frankfurt.de/texte/etcs/ind/aind/ved/rv/mt/rv.htm</web_page>\n",
    "    </book>\n",
    "</books>\n",
    "\"\"\"\n",
    "root = ET.fromstring(xml_book)"
   ]
  },
  {
   "cell_type": "markdown",
   "metadata": {},
   "source": [
    "## Reference & Inspirations"
   ]
  },
  {
   "cell_type": "markdown",
   "metadata": {},
   "source": [
    "- https://en.wikipedia.org/wiki/XML\n",
    "- https://docs.python.org/3.6/library/xml.html\n",
    "- https://en.wikipedia.org/wiki/Billion_laughs\n",
    "- https://www.ibm.com/developerworks/library/x-hiperfparse/index.html\n",
    "- https://github.com/mikekestemont/ghent1516/blob/master/Chapter%208%20-%20Parsing%20XML.ipynb "
   ]
  }
 ],
 "metadata": {
  "kernelspec": {
   "display_name": "Python 3",
   "language": "python",
   "name": "python3"
  },
  "language_info": {
   "codemirror_mode": {
    "name": "ipython",
    "version": 3
   },
   "file_extension": ".py",
   "mimetype": "text/x-python",
   "name": "python",
   "nbconvert_exporter": "python",
   "pygments_lexer": "ipython3",
   "version": "3.6.1"
  }
 },
 "nbformat": 4,
 "nbformat_minor": 1
}
