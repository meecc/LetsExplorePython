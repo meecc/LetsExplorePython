{
 "cells": [
  {
   "cell_type": "markdown",
   "metadata": {},
   "source": [
    "# NTP Client"
   ]
  },
  {
   "cell_type": "code",
   "execution_count": 1,
   "metadata": {},
   "outputs": [
    {
     "name": "stdout",
     "output_type": "stream",
     "text": [
      "('pool.ntp.org', 123)\n",
      "Wed Sep 27 19:24:50 2017\n"
     ]
    }
   ],
   "source": [
    "#!/usr/bin/env python\n",
    "from socket import AF_INET, SOCK_DGRAM\n",
    "import sys\n",
    "import socket\n",
    "import struct, time\n",
    "\n",
    "def getNTPTime(host = \"pool.ntp.org\"):\n",
    "        port = 123\n",
    "        buf = 1024\n",
    "        address = (host, port)\n",
    "        print(address)\n",
    "        msg = '\\x1b' + 47 * '\\0'\n",
    "\n",
    "        # reference time (in seconds since 1900-01-01 00:00:00)\n",
    "        TIME1970 = 2208988800 # 1970-01-01 00:00:00\n",
    "\n",
    "        # connect to server\n",
    "        client = socket.socket( AF_INET, SOCK_DGRAM)\n",
    "        client.sendto(msg, address)\n",
    "        msg, address = client.recvfrom( buf )\n",
    "\n",
    "        t = struct.unpack( \"!12I\", msg )[10]\n",
    "        t -= TIME1970\n",
    "        return time.ctime(t).replace(\"  \",\" \")\n",
    "\n",
    "if __name__ == \"__main__\":\n",
    "        print (getNTPTime())"
   ]
  },
  {
   "cell_type": "code",
   "execution_count": null,
   "metadata": {
    "collapsed": true
   },
   "outputs": [],
   "source": []
  },
  {
   "cell_type": "code",
   "execution_count": null,
   "metadata": {
    "collapsed": true
   },
   "outputs": [],
   "source": []
  }
 ],
 "metadata": {
  "kernelspec": {
   "display_name": "Python 3",
   "language": "python",
   "name": "python3"
  },
  "language_info": {
   "codemirror_mode": {
    "name": "ipython",
    "version": 2
   },
   "file_extension": ".py",
   "mimetype": "text/x-python",
   "name": "python",
   "nbconvert_exporter": "python",
   "pygments_lexer": "ipython2",
   "version": "2.7.12"
  }
 },
 "nbformat": 4,
 "nbformat_minor": 1
}
