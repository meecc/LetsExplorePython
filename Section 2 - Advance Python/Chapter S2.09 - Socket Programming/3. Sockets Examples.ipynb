{
 "cells": [
  {
   "cell_type": "markdown",
   "metadata": {},
   "source": [
    "# Sockets Examples"
   ]
  },
  {
   "cell_type": "markdown",
   "metadata": {},
   "source": [
    "## Sample to get the host and ipaddress of the machine"
   ]
  },
  {
   "cell_type": "code",
   "execution_count": 2,
   "metadata": {},
   "outputs": [
    {
     "name": "stdout",
     "output_type": "stream",
     "text": [
      "Host name: localhost\n",
      "IP address: 127.0.0.1\n"
     ]
    }
   ],
   "source": [
    "import socket\n",
    "\n",
    "\n",
    "def print_machine_info():\n",
    "    host_name = socket.gethostname()\n",
    "    ip_address = socket.gethostbyname(host_name)\n",
    "    print (\"Host name: %s\" % host_name)\n",
    "    print (\"IP address: %s\" % ip_address)\n",
    "    \n",
    "    \n",
    "if __name__ == '__main__':\n",
    "    print_machine_info()"
   ]
  },
  {
   "cell_type": "markdown",
   "metadata": {
    "collapsed": true
   },
   "source": [
    "## UDP Sending "
   ]
  },
  {
   "cell_type": "code",
   "execution_count": null,
   "metadata": {},
   "outputs": [],
   "source": [
    "import socket\n",
    "\n",
    "UDP_IP = \"127.0.0.1\"\n",
    "UDP_PORT = 5005\n",
    "MESSAGE = \"Hello, World!\"\n",
    "\n",
    "print (\"UDP target IP:\", UDP_IP)\n",
    "print (\"UDP target port:\", UDP_PORT)\n",
    "print( \"message:\", MESSAGE)\n",
    "\n",
    "sock = socket.socket(socket.AF_INET, # Internet\n",
    "                     socket.SOCK_DGRAM) # UDP\n",
    "sock.sendto(MESSAGE.encode(), (UDP_IP, UDP_PORT))"
   ]
  },
  {
   "cell_type": "code",
   "execution_count": 5,
   "metadata": {},
   "outputs": [
    {
     "name": "stdout",
     "output_type": "stream",
     "text": [
      "received message: b'Hello, World!'\n",
      "received message: b'Hello, World!'\n",
      "received message: b'Hello, World!'\n",
      "received message: b'Hello, World!'\n",
      "received message: b'Hello, World!'\n"
     ]
    },
    {
     "ename": "KeyboardInterrupt",
     "evalue": "",
     "output_type": "error",
     "traceback": [
      "\u001b[0;31m---------------------------------------------------------------------------\u001b[0m",
      "\u001b[0;31mKeyboardInterrupt\u001b[0m                         Traceback (most recent call last)",
      "\u001b[0;32m<ipython-input-5-3ed71bb6e1a1>\u001b[0m in \u001b[0;36m<module>\u001b[0;34m()\u001b[0m\n\u001b[1;32m      9\u001b[0m \u001b[0;34m\u001b[0m\u001b[0m\n\u001b[1;32m     10\u001b[0m \u001b[0;32mwhile\u001b[0m \u001b[0;32mTrue\u001b[0m\u001b[0;34m:\u001b[0m\u001b[0;34m\u001b[0m\u001b[0m\n\u001b[0;32m---> 11\u001b[0;31m     \u001b[0mdata\u001b[0m\u001b[0;34m,\u001b[0m \u001b[0maddr\u001b[0m \u001b[0;34m=\u001b[0m \u001b[0msock\u001b[0m\u001b[0;34m.\u001b[0m\u001b[0mrecvfrom\u001b[0m\u001b[0;34m(\u001b[0m\u001b[0;36m1024\u001b[0m\u001b[0;34m)\u001b[0m \u001b[0;31m# buffer size is 1024 bytes\u001b[0m\u001b[0;34m\u001b[0m\u001b[0m\n\u001b[0m\u001b[1;32m     12\u001b[0m     \u001b[0mprint\u001b[0m \u001b[0;34m(\u001b[0m\u001b[0;34m\"received message:\"\u001b[0m\u001b[0;34m,\u001b[0m \u001b[0mdata\u001b[0m\u001b[0;34m)\u001b[0m\u001b[0;34m\u001b[0m\u001b[0m\n",
      "\u001b[0;31mKeyboardInterrupt\u001b[0m: "
     ]
    }
   ],
   "source": [
    "import socket\n",
    "\n",
    "UDP_IP = \"127.0.0.1\"\n",
    "UDP_PORT = 5005\n",
    "\n",
    "sock = socket.socket(socket.AF_INET, # Internet\n",
    "                     socket.SOCK_DGRAM) # UDP\n",
    "sock.bind((UDP_IP, UDP_PORT))\n",
    "\n",
    "while True:\n",
    "    data, addr = sock.recvfrom(1024) # buffer size is 1024 bytes\n",
    "    print (\"received message:\", data)"
   ]
  },
  {
   "cell_type": "markdown",
   "metadata": {
    "collapsed": true
   },
   "source": [
    "## TCP"
   ]
  },
  {
   "cell_type": "markdown",
   "metadata": {},
   "source": [
    "I am assuming you already know about TCP, if not, please read about them and come back. \n",
    "\n",
    "But if you do'nt have the time then, here is the gist of TCP communication:\n",
    "\n",
    "- Server program starts wait for any client request at a particular address and port\n",
    "- Client program starts and connects to the server on the designated address and port to initiate the conversation.\n",
    "- Client program sends a request.\n",
    "- Server program responds according to client requests.\n",
    "- Previous two steps goes in a loop till one of them disconnects."
   ]
  },
  {
   "cell_type": "markdown",
   "metadata": {},
   "source": [
    "### TCP Server"
   ]
  },
  {
   "cell_type": "markdown",
   "metadata": {},
   "source": [
    "Below is a sample TCP Server code."
   ]
  },
  {
   "cell_type": "markdown",
   "metadata": {},
   "source": [
    "```python\n",
    "# server_1.py\n",
    "import socket\n",
    "import time\n",
    "\n",
    "\n",
    "# create a socket object\n",
    "serversocket = socket.socket(socket.AF_INET, socket.SOCK_STREAM)\n",
    "# get local machine name\n",
    "host = socket.gethostname()\n",
    "port = 9999\n",
    "# bind to the port\n",
    "serversocket.bind((host, port))\n",
    "# queue up to 5 requests\n",
    "serversocket.listen(5)\n",
    "\n",
    "while True:\n",
    "    # establish a connection\n",
    "    clientsocket, addr = serversocket.accept()\n",
    "    print(\"Got a connection from %s\" % str(addr))\n",
    "    currentTime = time.ctime(time.time()) + \"\\r\\n\"\n",
    "    clientsocket.send(currentTime.encode('ascii'))\n",
    "    clientsocket.close()\n",
    "```"
   ]
  },
  {
   "cell_type": "markdown",
   "metadata": {},
   "source": [
    "**Output:**\n",
    "```\n",
    "Got a connection from ('127.0.0.1', 42586)\n",
    "```"
   ]
  },
  {
   "cell_type": "markdown",
   "metadata": {},
   "source": [
    "### TCP Client"
   ]
  },
  {
   "cell_type": "code",
   "execution_count": 1,
   "metadata": {},
   "outputs": [
    {
     "name": "stdout",
     "output_type": "stream",
     "text": [
      "The time got from the server is Sun Jun 17 09:13:54 2018\r\n",
      "\n"
     ]
    }
   ],
   "source": [
    "# client_1.py\n",
    "import socket\n",
    "\n",
    "\n",
    "# create a socket object\n",
    "s = socket.socket(socket.AF_INET, socket.SOCK_STREAM)\n",
    "# get local machine name\n",
    "host = socket.gethostname()\n",
    "port = 9999\n",
    "# connection to hostname on the port.\n",
    "s.connect((host, port))\n",
    "# Receive no more than 1024 bytes\n",
    "tm = s.recv(1024)\n",
    "s.close()\n",
    "print(\"The time got from the server is %s\" % tm.decode('ascii'))"
   ]
  }
 ],
 "metadata": {
  "anaconda-cloud": {},
  "kernelspec": {
   "display_name": "Python 3",
   "language": "python",
   "name": "python3"
  },
  "language_info": {
   "codemirror_mode": {
    "name": "ipython",
    "version": 3
   },
   "file_extension": ".py",
   "mimetype": "text/x-python",
   "name": "python",
   "nbconvert_exporter": "python",
   "pygments_lexer": "ipython3",
   "version": "3.6.1"
  }
 },
 "nbformat": 4,
 "nbformat_minor": 1
}
