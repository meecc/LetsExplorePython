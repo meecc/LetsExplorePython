{
 "cells": [
  {
   "cell_type": "markdown",
   "metadata": {},
   "source": [
    "# 2. Socket Programming in Python \n",
    "---"
   ]
  },
  {
   "cell_type": "markdown",
   "metadata": {},
   "source": [
    "Python provides support for both connection-oriented (TCP) and connectionless (UDP) protocols using low level sockets. Python also provides multiple libraries which provide higher-level access to specific application-level network protocols, such as FTP, HTTP, EMAIL & REST API etc."
   ]
  },
  {
   "cell_type": "markdown",
   "metadata": {},
   "source": [
    "## What is Sockets?"
   ]
  },
  {
   "cell_type": "markdown",
   "metadata": {},
   "source": [
    "Sockets can be understood as endpoints of a bidirectional communications channel. They can be used to communicate within a process, between processes on the same machine or on different continents.\n",
    "\n",
    "Sockets can be implemented for channel types such as `Unix domain sockets`, `TCP`, `UDP`, etc. \n",
    "\n",
    "Python socket library provides specific classes for handling the common transports as well as a generic interface for handling the remaining."
   ]
  },
  {
   "cell_type": "markdown",
   "metadata": {},
   "source": [
    "### The socket Module"
   ]
  },
  {
   "cell_type": "markdown",
   "metadata": {},
   "source": [
    "We can create a `socket` using `socket.socket()` function provided by `socket` module. Its generic syntax is as follows\n",
    "\n",
    "```python\n",
    "s = socket.socket (socket_family, socket_type, protocol=0)\n",
    "```"
   ]
  },
  {
   "cell_type": "markdown",
   "metadata": {},
   "source": [
    "- `socket_family`: This is either `AF_UNIX` or `AF_INET`\n",
    "- `socket_type`: This is either `SOCK_STREAM` or `SOCK_DGRAM`."
   ]
  },
  {
   "cell_type": "markdown",
   "metadata": {},
   "source": [
    "In order for two sockets to communicate, we need to have pair of `server` and `client` sockets. Server socket listen's for client request and repond to it. "
   ]
  },
  {
   "cell_type": "markdown",
   "metadata": {},
   "source": [
    "#### Server Socket Methods"
   ]
  },
  {
   "cell_type": "markdown",
   "metadata": {},
   "source": [
    "Common method's used by the server are as follows"
   ]
  },
  {
   "cell_type": "markdown",
   "metadata": {},
   "source": [
    "| Method | Description |\n",
    "|--------|-------------|\n",
    "| s.bind() |\tThis method binds address (hostname, port number pair) to socket.| \n",
    "| s.listen()\t| This method sets up and start TCP listener.| \n",
    "| s.accept()| \tThis passively accept TCP client connection, waiting until connection arrives (blocking).| "
   ]
  },
  {
   "cell_type": "markdown",
   "metadata": {},
   "source": [
    "#### Client Socket Methods"
   ]
  },
  {
   "cell_type": "markdown",
   "metadata": {},
   "source": [
    "Common method's used by the client are as follows"
   ]
  },
  {
   "cell_type": "markdown",
   "metadata": {},
   "source": [
    "|Method\t    | Description |\n",
    "|-----------|-------------|\n",
    "|s.connect() |\tThis method actively initiates TCP server connection. |"
   ]
  },
  {
   "cell_type": "markdown",
   "metadata": {},
   "source": [
    "#### General Socket Methods"
   ]
  },
  {
   "cell_type": "markdown",
   "metadata": {},
   "source": [
    "Common methods, which are used by both `client` and `server` sockets are as follows"
   ]
  },
  {
   "cell_type": "markdown",
   "metadata": {},
   "source": [
    "| Method\t| Description| \n",
    "|-----------|------------|\n",
    "| s.recv()\t| This method receives TCP message| \n",
    "| s.send()\t| This method transmits TCP message| \n",
    "| s.recvfrom()\t| This method receives UDP message| \n",
    "| s.sendto()\t| This method transmits UDP message| \n",
    "| s.close()\t| This method closes socket| \n",
    "| socket.gethostname()\t| Returns the hostname.| "
   ]
  },
  {
   "cell_type": "markdown",
   "metadata": {},
   "source": [
    "In the next chapter we are going to use these and make a sample code for client and server to showcase how they communicate with each other"
   ]
  },
  {
   "cell_type": "markdown",
   "metadata": {},
   "source": [
    "## Reference "
   ]
  },
  {
   "cell_type": "markdown",
   "metadata": {},
   "source": [
    "- https://docs.python.org/3.6/howto/sockets.html"
   ]
  }
 ],
 "metadata": {
  "kernelspec": {
   "display_name": "Python 3",
   "language": "python",
   "name": "python3"
  },
  "language_info": {
   "codemirror_mode": {
    "name": "ipython",
    "version": 3
   },
   "file_extension": ".py",
   "mimetype": "text/x-python",
   "name": "python",
   "nbconvert_exporter": "python",
   "pygments_lexer": "ipython3",
   "version": "3.6.1"
  }
 },
 "nbformat": 4,
 "nbformat_minor": 2
}
