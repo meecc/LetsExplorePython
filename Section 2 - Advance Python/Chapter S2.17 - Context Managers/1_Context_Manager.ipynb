{
 "cells": [
  {
   "cell_type": "markdown",
   "metadata": {},
   "source": [
    "# Context Manager"
   ]
  },
  {
   "cell_type": "markdown",
   "metadata": {},
   "source": [
    "`Context Managers` in `Python` allows us to manage the resources (file handlers, sockets, locks etc) without having to explicitly manage them. Say we opened/accessed a resources to perform some operation on it. without context managers, our biggest worry is what will happen, if for some reason, that resource is not closed/released. \n",
    "\n",
    "With context managers we don't have to worry about them. It will take care of it for you transparently. Most common method, in this regards is `open` command, which allows us to open a file so that various operations can be performed don it. "
   ]
  },
  {
   "cell_type": "code",
   "execution_count": 8,
   "metadata": {},
   "outputs": [
    {
     "name": "stdout",
     "output_type": "stream",
     "text": [
      "Context Managers are great, Context Managers are our Friend.\n",
      "So why not use them\n"
     ]
    }
   ],
   "source": [
    "# very bad code and that to without context manager\n",
    "\n",
    "fp = open(\"my_text.txt\", \"w+\")\n",
    "fp.write(\"Context Managers are great, Context Managers are our Friend.\\nSo why not use them\")\n",
    "fp.close()\n",
    "\n",
    "fp = open(\"my_text.txt\")\n",
    "print(\"\".join(fp.readlines()))\n",
    "fp.close()"
   ]
  },
  {
   "cell_type": "markdown",
   "metadata": {},
   "source": [
    "Ok, so why I said its a bad piece of code. First it looks ugly to my eye, as no error handling at all. Lets add the error handling to it. "
   ]
  },
  {
   "cell_type": "code",
   "execution_count": 10,
   "metadata": {},
   "outputs": [
    {
     "name": "stdout",
     "output_type": "stream",
     "text": [
      "Context Managers are great, Context Managers are our Friend.\n",
      "So why not use them\n"
     ]
    }
   ],
   "source": [
    "try:\n",
    "    fp = open(\"my_text.txt\", \"w+\")\n",
    "    fp.write(\"Context Managers are great, Context Managers are our Friend.\\nSo why not use them\")\n",
    "except Exception as e:\n",
    "    print(e)\n",
    "finally:\n",
    "    fp.close()\n",
    "\n",
    "try:\n",
    "    fp = open(\"my_text.txt\")\n",
    "    print(\"\".join(fp.readlines()))\n",
    "except Exception as e:\n",
    "    print(e)\n",
    "finally:\n",
    "    fp.close()"
   ]
  },
  {
   "cell_type": "markdown",
   "metadata": {},
   "source": [
    "so, this should have been better,but now, if possible it looks more ugly, and with nearly duble the code, out of which most of the code is being repeated and if we are doing multiple read/write, than its even bad as most of the code could have been is error hanlding which is being repeated multiple times.\n",
    "\n",
    "So, how can we rectify this situation?\n",
    "\n",
    "Ofcource, by using context managers we can resolve the issue."
   ]
  },
  {
   "cell_type": "markdown",
   "metadata": {},
   "source": [
    "**Syntax:**\n",
    "\n",
    "```python\n",
    "with <open the resource> as <res_handler_name>:\n",
    "    <use the resource_handler>\n",
    "```"
   ]
  },
  {
   "cell_type": "markdown",
   "metadata": {},
   "source": [
    "**Example:**"
   ]
  },
  {
   "cell_type": "code",
   "execution_count": 13,
   "metadata": {},
   "outputs": [
    {
     "name": "stdout",
     "output_type": "stream",
     "text": [
      "Context Managers are great, Context Managers are our Friend.\n",
      "So why not use them\n"
     ]
    }
   ],
   "source": [
    "with open(\"my_text.txt\", \"w+\") as fp:\n",
    "    fp.write(\"Context Managers are great, Context Managers are our Friend.\\nSo why not use them\")\n",
    "\n",
    "with open(\"my_text.txt\") as fp:\n",
    "    print(\"\".join(fp.readlines()))"
   ]
  },
  {
   "cell_type": "markdown",
   "metadata": {},
   "source": [
    "`fp` file handler is valid only inside the `with` context block and has no value outside it. We can find this by following code"
   ]
  },
  {
   "cell_type": "code",
   "execution_count": 26,
   "metadata": {},
   "outputs": [
    {
     "name": "stdout",
     "output_type": "stream",
     "text": [
      "\"Context Managers are great,\n",
      "Context Managers are our Friend.\n",
      "So why not use them\n",
      "my_text.txt\n",
      "* error: I/O operation on closed file.\n"
     ]
    }
   ],
   "source": [
    "try:\n",
    "    with open(\"my_text.txt\", \"w+\") as fp:\n",
    "        fp.write(\"\"\"\"Context Managers are great,\n",
    "Context Managers are our Friend.\n",
    "So why not use them\"\"\")\n",
    "\n",
    "    with open(\"my_text.txt\") as file_handler:\n",
    "        print(\"\".join(file_handler.readlines()))\n",
    "    print(file_handler.name)\n",
    "    print(file_handler.readlines())\n",
    "except Exception as e:\n",
    "    print(\"* error:\", e)"
   ]
  },
  {
   "cell_type": "markdown",
   "metadata": {},
   "source": [
    "As we can see from the above example that `context` is not scope, and `scope` is not `context`. We are still able to access few attribues of `fp` such as `name` even after the context block, but not able to access the resource as they are closed outside the context block."
   ]
  },
  {
   "cell_type": "markdown",
   "metadata": {},
   "source": [
    "## Gotcha's"
   ]
  },
  {
   "cell_type": "markdown",
   "metadata": {},
   "source": [
    "- Creating generator within `with` and accessing them later"
   ]
  },
  {
   "cell_type": "code",
   "execution_count": 52,
   "metadata": {},
   "outputs": [
    {
     "name": "stdout",
     "output_type": "stream",
     "text": [
      "<class 'generator'>\n"
     ]
    },
    {
     "ename": "ValueError",
     "evalue": "I/O operation on closed file.",
     "output_type": "error",
     "traceback": [
      "\u001b[0;31m---------------------------------------------------------------------------\u001b[0m",
      "\u001b[0;31mValueError\u001b[0m                                Traceback (most recent call last)",
      "\u001b[0;32m<ipython-input-52-2ce5ffd32d0d>\u001b[0m in \u001b[0;36m<module>\u001b[0;34m()\u001b[0m\n\u001b[1;32m      4\u001b[0m \u001b[0;34m\u001b[0m\u001b[0m\n\u001b[1;32m      5\u001b[0m \u001b[0mprint\u001b[0m\u001b[0;34m(\u001b[0m\u001b[0mtype\u001b[0m\u001b[0;34m(\u001b[0m\u001b[0mlines\u001b[0m\u001b[0;34m)\u001b[0m\u001b[0;34m)\u001b[0m\u001b[0;34m\u001b[0m\u001b[0m\n\u001b[0;32m----> 6\u001b[0;31m \u001b[0;32mfor\u001b[0m \u001b[0ml\u001b[0m \u001b[0;32min\u001b[0m \u001b[0mlines\u001b[0m\u001b[0;34m:\u001b[0m\u001b[0;34m\u001b[0m\u001b[0m\n\u001b[0m\u001b[1;32m      7\u001b[0m     \u001b[0mprint\u001b[0m\u001b[0;34m(\u001b[0m\u001b[0ml\u001b[0m\u001b[0;34m)\u001b[0m\u001b[0;34m\u001b[0m\u001b[0m\n",
      "\u001b[0;32m<ipython-input-52-2ce5ffd32d0d>\u001b[0m in \u001b[0;36m<genexpr>\u001b[0;34m(.0)\u001b[0m\n\u001b[1;32m      1\u001b[0m \u001b[0mfilename\u001b[0m \u001b[0;34m=\u001b[0m \u001b[0;34m\"my_text.txt\"\u001b[0m\u001b[0;34m\u001b[0m\u001b[0m\n\u001b[1;32m      2\u001b[0m \u001b[0;32mwith\u001b[0m \u001b[0mopen\u001b[0m\u001b[0;34m(\u001b[0m\u001b[0mfilename\u001b[0m\u001b[0;34m)\u001b[0m \u001b[0;32mas\u001b[0m \u001b[0mf\u001b[0m\u001b[0;34m:\u001b[0m\u001b[0;34m\u001b[0m\u001b[0m\n\u001b[0;32m----> 3\u001b[0;31m     \u001b[0mlines\u001b[0m \u001b[0;34m=\u001b[0m \u001b[0;34m(\u001b[0m\u001b[0mline\u001b[0m\u001b[0;34m.\u001b[0m\u001b[0mrstrip\u001b[0m\u001b[0;34m(\u001b[0m\u001b[0;34m'\\n'\u001b[0m\u001b[0;34m)\u001b[0m \u001b[0;32mfor\u001b[0m \u001b[0mline\u001b[0m \u001b[0;32min\u001b[0m \u001b[0mf\u001b[0m\u001b[0;34m)\u001b[0m\u001b[0;34m\u001b[0m\u001b[0m\n\u001b[0m\u001b[1;32m      4\u001b[0m \u001b[0;34m\u001b[0m\u001b[0m\n\u001b[1;32m      5\u001b[0m \u001b[0mprint\u001b[0m\u001b[0;34m(\u001b[0m\u001b[0mtype\u001b[0m\u001b[0;34m(\u001b[0m\u001b[0mlines\u001b[0m\u001b[0;34m)\u001b[0m\u001b[0;34m)\u001b[0m\u001b[0;34m\u001b[0m\u001b[0m\n",
      "\u001b[0;31mValueError\u001b[0m: I/O operation on closed file."
     ]
    }
   ],
   "source": [
    "filename = \"my_text.txt\"\n",
    "with open(filename) as f:\n",
    "    lines = (line.rstrip('\\n') for line in f)\n",
    "\n",
    "print(type(lines))\n",
    "for l in lines:\n",
    "    print(l)"
   ]
  },
  {
   "cell_type": "markdown",
   "metadata": {},
   "source": [
    "So, what went wrong, we created a generator `lines` and tried to access it after the context. As the resource was already closed at the time of accessing it, thus resulted in error. \n",
    "\n",
    "We can do one of the following to fix the situation"
   ]
  },
  {
   "cell_type": "code",
   "execution_count": 31,
   "metadata": {},
   "outputs": [
    {
     "name": "stdout",
     "output_type": "stream",
     "text": [
      "\"Context Managers are great,\n",
      "Context Managers are our Friend.\n",
      "So why not use them\n",
      "~^~^~^~^~^~^~^~^~^~^~^~^~^~^~^~^\n",
      "\"Context Managers are great,\n",
      "Context Managers are our Friend.\n",
      "So why not use them\n",
      "~^~^~^~^~^~^~^~^~^~^~^~^~^~^~^~^\n",
      "\"Context Managers are great,\n",
      "Context Managers are our Friend.\n",
      "So why not use them\n"
     ]
    }
   ],
   "source": [
    "file_name = \"my_text.txt\"\n",
    "\n",
    "# Fix 1: Using list instead of generator\n",
    "with open(file_name) as f:\n",
    "    lines = [line.strip('\\n') for line in f]\n",
    "\n",
    "for l in lines:\n",
    "    print(l)\n",
    "\n",
    "print(\"~^\" * 16)\n",
    "# Fix 2: moving access within the context\n",
    "with open(file_name) as f:\n",
    "    lines = (line.strip('\\n') for line in f)\n",
    "\n",
    "    for l in lines:\n",
    "        print(l)\n",
    "\n",
    "print(\"~^\" * 16)\n",
    "\n",
    "\n",
    "# Fix 3: Encapsulating it within a generator\n",
    "def send_lines(file_name):\n",
    "    with open(file_name) as f:\n",
    "        for line in f:\n",
    "            yield line.strip('\\n')\n",
    "\n",
    "\n",
    "for l in send_lines(file_name):\n",
    "    print(l)"
   ]
  },
  {
   "cell_type": "markdown",
   "metadata": {},
   "source": [
    "Now, lets learn about how to create our own context manager's. This will also helps us in understanding them in details. "
   ]
  },
  {
   "cell_type": "markdown",
   "metadata": {},
   "source": [
    "## Creating a Context Manager class"
   ]
  },
  {
   "cell_type": "markdown",
   "metadata": {},
   "source": [
    "To create a context manager class, two functions are required, `__enter__` and `__exit__`, where initialization instructions are written in `__enter__` and cleanup instructions are written in `__exit__`.\n",
    "Lets look at sample example below"
   ]
  },
  {
   "cell_type": "code",
   "execution_count": 79,
   "metadata": {},
   "outputs": [],
   "source": [
    "import sqlite3 as sqlite\n",
    "\n",
    "class Questy(object):\n",
    "    def __init__(self, filename):\n",
    "        self.filename = filename\n",
    "    \n",
    "    def __enter__(self):\n",
    "        self.conn = sqlite.connect(self.filename)\n",
    "        self.c = self.conn.cursor()\n",
    "        return self.c\n",
    "        \n",
    "    def __exit__(self, exit_type, exit_value, exit_traceback):\n",
    "        try:\n",
    "            print(\"exit_type:\", exit_type, \"\\nexit_value:\", exit_value, \"\\nexit_traceback:\", exit_traceback)\n",
    "            print(\"Trying to close the cursor and connections.\")\n",
    "            self.c.close()\n",
    "            self.conn.close()\n",
    "        except Exception as e:\n",
    "            print(\"Exception\", e)"
   ]
  },
  {
   "cell_type": "code",
   "execution_count": 73,
   "metadata": {},
   "outputs": [
    {
     "name": "stdout",
     "output_type": "stream",
     "text": [
      "What all types of exceptions thrown in internet driver?\n",
      "Which type of `wait` remains active till the `webdriver` is not released\n",
      "what are the unique navigation strategies used in webdriver\n",
      "Which one is not the WebDriver’s anticipated situation? observe: WebDriver’s ExpectedConditions elegance is used to test expected conditions.\n",
      "What are the WebDriver methods to manipulate browser based alerts?\n",
      "what's are the similarities between WebDriver’s `close()` and `give up()` techniques?\n",
      "which type of exception is dealt with for the duration of compile time?\n",
      "None None None\n"
     ]
    }
   ],
   "source": [
    "filename = \"code/questions.sqlite\"\n",
    "\n",
    "with Questy(filename) as questy:\n",
    "    topic_id = 1\n",
    "    quests = questy.execute(\"SELECT * FROM questions WHERE topics_id = '%s' LIMIT 7\" % topic_id)\n",
    "    for q in quests:\n",
    "        print(q[1])"
   ]
  },
  {
   "cell_type": "markdown",
   "metadata": {},
   "source": [
    "We can see the above code is so easy now. Lets talk about the steps taken by the "
   ]
  },
  {
   "cell_type": "code",
   "execution_count": 80,
   "metadata": {},
   "outputs": [
    {
     "name": "stdout",
     "output_type": "stream",
     "text": [
      "exit_type: <class 'sqlite3.OperationalError'> \n",
      "exit_value: no such table: questions \n",
      "exit_traceback: <traceback object at 0x7efce80c74c8>\n",
      "Trying to close the cursor and connections.\n"
     ]
    },
    {
     "ename": "OperationalError",
     "evalue": "no such table: questions",
     "output_type": "error",
     "traceback": [
      "\u001b[0;31m---------------------------------------------------------------------------\u001b[0m",
      "\u001b[0;31mOperationalError\u001b[0m                          Traceback (most recent call last)",
      "\u001b[0;32m<ipython-input-80-07c79580c899>\u001b[0m in \u001b[0;36m<module>\u001b[0;34m()\u001b[0m\n\u001b[1;32m      3\u001b[0m \u001b[0;32mwith\u001b[0m \u001b[0mQuesty\u001b[0m\u001b[0;34m(\u001b[0m\u001b[0mfilename\u001b[0m\u001b[0;34m)\u001b[0m \u001b[0;32mas\u001b[0m \u001b[0mquesty\u001b[0m\u001b[0;34m:\u001b[0m\u001b[0;34m\u001b[0m\u001b[0m\n\u001b[1;32m      4\u001b[0m     \u001b[0mtopic_id\u001b[0m \u001b[0;34m=\u001b[0m \u001b[0;36m1\u001b[0m\u001b[0;34m\u001b[0m\u001b[0m\n\u001b[0;32m----> 5\u001b[0;31m     \u001b[0mquests\u001b[0m \u001b[0;34m=\u001b[0m \u001b[0mquesty\u001b[0m\u001b[0;34m.\u001b[0m\u001b[0mexecute\u001b[0m\u001b[0;34m(\u001b[0m\u001b[0;34m\"SELECT * FROM questions WHERE topics_id = '%s' LIMIT 7\"\u001b[0m \u001b[0;34m%\u001b[0m \u001b[0mtopic_id\u001b[0m\u001b[0;34m)\u001b[0m\u001b[0;34m\u001b[0m\u001b[0m\n\u001b[0m\u001b[1;32m      6\u001b[0m     \u001b[0;32mfor\u001b[0m \u001b[0mq\u001b[0m \u001b[0;32min\u001b[0m \u001b[0mquests\u001b[0m\u001b[0;34m:\u001b[0m\u001b[0;34m\u001b[0m\u001b[0m\n\u001b[1;32m      7\u001b[0m         \u001b[0mprint\u001b[0m\u001b[0;34m(\u001b[0m\u001b[0mq\u001b[0m\u001b[0;34m[\u001b[0m\u001b[0;36m1\u001b[0m\u001b[0;34m]\u001b[0m\u001b[0;34m)\u001b[0m\u001b[0;34m\u001b[0m\u001b[0m\n",
      "\u001b[0;31mOperationalError\u001b[0m: no such table: questions"
     ]
    }
   ],
   "source": [
    "filename = \"code/questions1.sqlite\"\n",
    "\n",
    "with Questy(filename) as questy:\n",
    "    topic_id = 1\n",
    "    quests = questy.execute(\"SELECT * FROM questions WHERE topics_id = '%s' LIMIT 7\" % topic_id)\n",
    "    for q in quests:\n",
    "        print(q[1])"
   ]
  },
  {
   "cell_type": "markdown",
   "metadata": {},
   "source": [
    "### Exceptions Handling"
   ]
  },
  {
   "cell_type": "markdown",
   "metadata": {},
   "source": [
    "In the last example, we encounter an exception. In this section, we will try to learn ways to handle such exceptions.\n",
    "\n",
    "As we have seen in the previous example, "
   ]
  },
  {
   "cell_type": "code",
   "execution_count": null,
   "metadata": {},
   "outputs": [],
   "source": []
  },
  {
   "cell_type": "markdown",
   "metadata": {},
   "source": [
    "## Creating a Context Manager using contextlib"
   ]
  },
  {
   "cell_type": "markdown",
   "metadata": {},
   "source": [
    "Python also allows us to convert `generators` to context managers using `contextlib` module "
   ]
  },
  {
   "cell_type": "code",
   "execution_count": null,
   "metadata": {},
   "outputs": [],
   "source": []
  },
  {
   "cell_type": "code",
   "execution_count": null,
   "metadata": {},
   "outputs": [],
   "source": []
  },
  {
   "cell_type": "markdown",
   "metadata": {},
   "source": [
    "## contextlib.closing(thing)"
   ]
  },
  {
   "cell_type": "code",
   "execution_count": null,
   "metadata": {},
   "outputs": [],
   "source": []
  },
  {
   "cell_type": "markdown",
   "metadata": {},
   "source": [
    "## contextlib.suppress(*exceptions)"
   ]
  },
  {
   "cell_type": "code",
   "execution_count": null,
   "metadata": {},
   "outputs": [],
   "source": []
  },
  {
   "cell_type": "markdown",
   "metadata": {},
   "source": [
    "## contextlib.redirect_stdout / redirect_stderr"
   ]
  },
  {
   "cell_type": "code",
   "execution_count": null,
   "metadata": {},
   "outputs": [],
   "source": []
  },
  {
   "cell_type": "markdown",
   "metadata": {},
   "source": [
    "## ExitStack"
   ]
  },
  {
   "cell_type": "code",
   "execution_count": null,
   "metadata": {},
   "outputs": [],
   "source": []
  },
  {
   "cell_type": "markdown",
   "metadata": {},
   "source": [
    "## Reentrant Context Managers"
   ]
  },
  {
   "cell_type": "code",
   "execution_count": null,
   "metadata": {},
   "outputs": [],
   "source": []
  },
  {
   "cell_type": "markdown",
   "metadata": {},
   "source": [
    "## Reference"
   ]
  },
  {
   "cell_type": "markdown",
   "metadata": {},
   "source": [
    "- https://www.python.org/dev/peps/pep-0343\n",
    "- https://docs.python.org/3/library/contextlib.html\n",
    "- https://en.wikibooks.org/wiki/Python_Programming/Context_Managers\n",
    "- http://preshing.com/20110920/the-python-with-statement-by-example\n",
    "- https://stackoverflow.com/questions/6884991/how-to-delete-dir-created-by-python-tempfile-mkdtemp"
   ]
  }
 ],
 "metadata": {
  "kernelspec": {
   "display_name": "Python 3",
   "language": "python",
   "name": "python3"
  },
  "language_info": {
   "codemirror_mode": {
    "name": "ipython",
    "version": 3
   },
   "file_extension": ".py",
   "mimetype": "text/x-python",
   "name": "python",
   "nbconvert_exporter": "python",
   "pygments_lexer": "ipython3",
   "version": "3.6.1"
  }
 },
 "nbformat": 4,
 "nbformat_minor": 2
}
