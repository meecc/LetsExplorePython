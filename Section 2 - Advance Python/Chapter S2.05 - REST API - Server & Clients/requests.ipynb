{
 "cells": [
  {
   "cell_type": "code",
   "execution_count": 2,
   "metadata": {
    "collapsed": true
   },
   "outputs": [],
   "source": [
    "import requests"
   ]
  },
  {
   "cell_type": "code",
   "execution_count": 3,
   "metadata": {},
   "outputs": [],
   "source": [
    "endpoint = 'https://raw.githubusercontent.com/rickiepark/python-tutorial/master/tutorial-4/sample.json'\n",
    "r = requests.get(endpoint)"
   ]
  },
  {
   "cell_type": "code",
   "execution_count": 4,
   "metadata": {},
   "outputs": [
    {
     "data": {
      "text/plain": [
       "200"
      ]
     },
     "execution_count": 4,
     "metadata": {},
     "output_type": "execute_result"
    }
   ],
   "source": [
    "r.status_code"
   ]
  },
  {
   "cell_type": "code",
   "execution_count": 5,
   "metadata": {},
   "outputs": [
    {
     "data": {
      "text/plain": [
       "{'Content-Length': '285', 'X-XSS-Protection': '1; mode=block', 'Content-Security-Policy': \"default-src 'none'; style-src 'unsafe-inline'; sandbox\", 'X-Cache-Hits': '0', 'X-Frame-Options': 'deny', 'Access-Control-Allow-Origin': '*', 'X-Served-By': 'cache-ams4140-AMS', 'X-GitHub-Request-Id': '7D8A:2331:98B583:A5FBE6:59F3328C', 'Expires': 'Fri, 27 Oct 2017 13:25:13 GMT', 'X-Fastly-Request-ID': '6feb490ce8d25b7c4b31f43ffd3c17f6439fd3e8', 'Date': 'Fri, 27 Oct 2017 13:20:13 GMT', 'Source-Age': '0', 'X-Cache': 'MISS', 'Accept-Ranges': 'bytes', 'Strict-Transport-Security': 'max-age=31536000', 'Connection': 'keep-alive', 'X-Geo-Block-List': '', 'Via': '1.1 varnish', 'X-Content-Type-Options': 'nosniff', 'Content-Encoding': 'gzip', 'X-Timer': 'S1509110413.026402,VS0,VE125', 'Vary': 'Authorization,Accept-Encoding', 'ETag': '\"d2ca30f0a367151e8325dce8f425b35cb93be8d9\"', 'Cache-Control': 'max-age=300', 'Content-Type': 'text/plain; charset=utf-8'}"
      ]
     },
     "execution_count": 5,
     "metadata": {},
     "output_type": "execute_result"
    }
   ],
   "source": [
    "r.headers"
   ]
  },
  {
   "cell_type": "code",
   "execution_count": 6,
   "metadata": {},
   "outputs": [
    {
     "data": {
      "text/plain": [
       "u'{\\n  \"data\": [{\\n    \"type\": \"articles\",\\n    \"id\": \"1\",\\n    \"attributes\": {\\n      \"title\": \"JSON API paints my bikeshed!\",\\n      \"body\": \"The shortest article. Ever.\",\\n      \"created\": \"2015-05-22T14:56:29.000Z\",\\n      \"updated\": \"2015-05-22T14:56:28.000Z\"\\n    },\\n    \"relationships\": {\\n      \"author\": {\\n        \"data\": {\"id\": \"42\", \"type\": \"people\"}\\n      }\\n    }\\n  }],\\n  \"included\": [\\n    {\\n      \"type\": \"people\",\\n      \"id\": \"42\",\\n      \"attributes\": {\\n        \"name\": \"John\",\\n        \"age\": 80,\\n        \"gender\": \"male\"\\n      }\\n    }\\n  ]\\n}'"
      ]
     },
     "execution_count": 6,
     "metadata": {},
     "output_type": "execute_result"
    }
   ],
   "source": [
    "r.text"
   ]
  },
  {
   "cell_type": "code",
   "execution_count": 9,
   "metadata": {},
   "outputs": [
    {
     "name": "stdout",
     "output_type": "stream",
     "text": [
      "{u'included': [{u'attributes': {u'gender': u'male', u'age': 80, u'name': u'John'}, u'type': u'people', u'id': u'42'}], u'data': [{u'relationships': {u'author': {u'data': {u'type': u'people', u'id': u'42'}}}, u'attributes': {u'body': u'The shortest article. Ever.', u'updated': u'2015-05-22T14:56:28.000Z', u'created': u'2015-05-22T14:56:29.000Z', u'title': u'JSON API paints my bikeshed!'}, u'type': u'articles', u'id': u'1'}]}\n"
     ]
    }
   ],
   "source": [
    "obj = r.json()\n",
    "print(obj)"
   ]
  },
  {
   "cell_type": "code",
   "execution_count": 10,
   "metadata": {},
   "outputs": [
    {
     "name": "stdout",
     "output_type": "stream",
     "text": [
      "<type 'dict'>\n"
     ]
    },
    {
     "data": {
      "text/plain": [
       "{u'data': [{u'attributes': {u'body': u'The shortest article. Ever.',\n",
       "    u'created': u'2015-05-22T14:56:29.000Z',\n",
       "    u'title': u'JSON API paints my bikeshed!',\n",
       "    u'updated': u'2015-05-22T14:56:28.000Z'},\n",
       "   u'id': u'1',\n",
       "   u'relationships': {u'author': {u'data': {u'id': u'42',\n",
       "      u'type': u'people'}}},\n",
       "   u'type': u'articles'}],\n",
       " u'included': [{u'attributes': {u'age': 80,\n",
       "    u'gender': u'male',\n",
       "    u'name': u'John'},\n",
       "   u'id': u'42',\n",
       "   u'type': u'people'}]}"
      ]
     },
     "execution_count": 10,
     "metadata": {},
     "output_type": "execute_result"
    }
   ],
   "source": [
    "print(obj.__class__)\n",
    "obj\n"
   ]
  },
  {
   "cell_type": "code",
   "execution_count": 11,
   "metadata": {
    "collapsed": true
   },
   "outputs": [],
   "source": [
    "r = requests.post(endpoint, data={'key':'value'})"
   ]
  },
  {
   "cell_type": "code",
   "execution_count": 8,
   "metadata": {
    "collapsed": true
   },
   "outputs": [],
   "source": [
    "r = requests.get(endpoint, params={'key1': 'value1', 'key2': 'value2'})"
   ]
  },
  {
   "cell_type": "code",
   "execution_count": 9,
   "metadata": {},
   "outputs": [
    {
     "data": {
      "text/plain": [
       "'https://raw.githubusercontent.com/rickiepark/python-tutorial/master/tutorial-4/sample.json?key2=value2&key1=value1'"
      ]
     },
     "execution_count": 9,
     "metadata": {},
     "output_type": "execute_result"
    }
   ],
   "source": [
    "r.url"
   ]
  },
  {
   "cell_type": "code",
   "execution_count": 10,
   "metadata": {
    "collapsed": true
   },
   "outputs": [],
   "source": [
    "r = requests.get(endpoint, headers={'user-agent': 'my-app/0.0.1'})"
   ]
  },
  {
   "cell_type": "code",
   "execution_count": 13,
   "metadata": {
    "collapsed": true
   },
   "outputs": [],
   "source": [
    "r = requests.get('https://github.com', timeout=5)"
   ]
  },
  {
   "cell_type": "code",
   "execution_count": 14,
   "metadata": {},
   "outputs": [
    {
     "data": {
      "text/plain": [
       "<RequestsCookieJar[Cookie(version=0, name='logged_in', value='no', port=None, port_specified=False, domain='.github.com', domain_specified=True, domain_initial_dot=True, path='/', path_specified=True, secure=True, expires=2140262600, discard=False, comment=None, comment_url=None, rest={'HttpOnly': None}, rfc2109=False), Cookie(version=0, name='_gh_sess', value='eyJzZXNzaW9uX2lkIjoiZjg3MjgxNDllNDZmNzJkODg2OGZiOGZkMWE1MmJmMzYiLCJsYXN0X3JlYWRfZnJvbV9yZXBsaWNhcyI6MTUwOTExMDYwMDcxOCwiX2NzcmZfdG9rZW4iOiJYYlJCdEhmMXdJbVZRU0d4ZjEyRXltQWpPVGxoR0Fydnc4UDlSbktyaGtzPSJ9--4162b236fee11ffc769c3cc7b42ff4e50d92871c', port=None, port_specified=False, domain='github.com', domain_specified=False, domain_initial_dot=False, path='/', path_specified=True, secure=True, expires=None, discard=True, comment=None, comment_url=None, rest={'HttpOnly': None}, rfc2109=False)]>"
      ]
     },
     "execution_count": 14,
     "metadata": {},
     "output_type": "execute_result"
    }
   ],
   "source": [
    "r.cookies"
   ]
  },
  {
   "cell_type": "code",
   "execution_count": 23,
   "metadata": {},
   "outputs": [
    {
     "data": {
      "text/plain": [
       "requests.cookies.RequestsCookieJar"
      ]
     },
     "execution_count": 23,
     "metadata": {},
     "output_type": "execute_result"
    }
   ],
   "source": [
    "r.cookies.__class__"
   ]
  },
  {
   "cell_type": "code",
   "execution_count": 24,
   "metadata": {},
   "outputs": [
    {
     "data": {
      "text/plain": [
       "2"
      ]
     },
     "execution_count": 24,
     "metadata": {},
     "output_type": "execute_result"
    }
   ],
   "source": [
    "len(r.cookies)"
   ]
  },
  {
   "cell_type": "code",
   "execution_count": 17,
   "metadata": {},
   "outputs": [
    {
     "data": {
      "text/plain": [
       "'eyJzZXNzaW9uX2lkIjoiZjg3MjgxNDllNDZmNzJkODg2OGZiOGZkMWE1MmJmMzYiLCJsYXN0X3JlYWRfZnJvbV9yZXBsaWNhcyI6MTUwOTExMDYwMDcxOCwiX2NzcmZfdG9rZW4iOiJYYlJCdEhmMXdJbVZRU0d4ZjEyRXltQWpPVGxoR0Fydnc4UDlSbktyaGtzPSJ9--4162b236fee11ffc769c3cc7b42ff4e50d92871c'"
      ]
     },
     "execution_count": 17,
     "metadata": {},
     "output_type": "execute_result"
    }
   ],
   "source": [
    "r.cookies['_gh_sess']"
   ]
  },
  {
   "cell_type": "code",
   "execution_count": 27,
   "metadata": {},
   "outputs": [
    {
     "data": {
      "text/plain": [
       "'no'"
      ]
     },
     "execution_count": 27,
     "metadata": {},
     "output_type": "execute_result"
    }
   ],
   "source": [
    "r.cookies['logged_in']"
   ]
  },
  {
   "cell_type": "code",
   "execution_count": 28,
   "metadata": {},
   "outputs": [
    {
     "data": {
      "text/plain": [
       "{'_gh_sess': 'eyJzZXNzaW9uX2lkIjoiZjg3MjgxNDllNDZmNzJkODg2OGZiOGZkMWE1MmJmMzYiLCJsYXN0X3JlYWRfZnJvbV9yZXBsaWNhcyI6MTUwOTExMDYwMDcxOCwiX2NzcmZfdG9rZW4iOiJYYlJCdEhmMXdJbVZRU0d4ZjEyRXltQWpPVGxoR0Fydnc4UDlSbktyaGtzPSJ9--4162b236fee11ffc769c3cc7b42ff4e50d92871c',\n",
       " 'logged_in': 'no'}"
      ]
     },
     "execution_count": 28,
     "metadata": {},
     "output_type": "execute_result"
    }
   ],
   "source": [
    "r.cookies.get_dict()"
   ]
  },
  {
   "cell_type": "code",
   "execution_count": null,
   "metadata": {
    "collapsed": true
   },
   "outputs": [],
   "source": []
  },
  {
   "cell_type": "code",
   "execution_count": null,
   "metadata": {
    "collapsed": true
   },
   "outputs": [],
   "source": []
  }
 ],
 "metadata": {
  "kernelspec": {
   "display_name": "Python 3",
   "language": "python",
   "name": "python3"
  },
  "language_info": {
   "codemirror_mode": {
    "name": "ipython",
    "version": 2
   },
   "file_extension": ".py",
   "mimetype": "text/x-python",
   "name": "python",
   "nbconvert_exporter": "python",
   "pygments_lexer": "ipython2",
   "version": "2.7.12"
  }
 },
 "nbformat": 4,
 "nbformat_minor": 1
}
