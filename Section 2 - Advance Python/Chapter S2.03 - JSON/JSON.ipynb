{
 "cells": [
  {
   "cell_type": "markdown",
   "metadata": {},
   "source": [
    "# JSON"
   ]
  },
  {
   "cell_type": "markdown",
   "metadata": {},
   "source": [
    "The json library can parse JSON from either strings or files. The library parses JSON into a Python dictionary or list. It can also convert Python dictionaries or lists into JSON strings."
   ]
  },
  {
   "cell_type": "markdown",
   "metadata": {},
   "source": [
    "## Parsing JSON"
   ]
  },
  {
   "cell_type": "markdown",
   "metadata": {},
   "source": [
    "Take the following string containing JSON data:"
   ]
  },
  {
   "cell_type": "code",
   "execution_count": 1,
   "metadata": {},
   "outputs": [
    {
     "name": "stdout",
     "output_type": "stream",
     "text": [
      "<class 'str'>\n",
      "{'first_name': 'Guido', 'last_name': 'Rossum'}\n",
      "<class 'dict'>\n"
     ]
    }
   ],
   "source": [
    "import json\n",
    "\n",
    "json_string = '{\"first_name\": \"Guido\", \"last_name\":\"Rossum\"}'\n",
    "\n",
    "print(type(json_string))\n",
    "parsed_json = json.loads(json_string)\n",
    "print(parsed_json)\n",
    "print(type(parsed_json))"
   ]
  },
  {
   "cell_type": "code",
   "execution_count": 3,
   "metadata": {},
   "outputs": [
    {
     "name": "stdout",
     "output_type": "stream",
     "text": [
      "Guido Rossum\n"
     ]
    }
   ],
   "source": [
    "print(parsed_json['first_name'], parsed_json['last_name'])"
   ]
  },
  {
   "cell_type": "code",
   "execution_count": 5,
   "metadata": {},
   "outputs": [
    {
     "name": "stdout",
     "output_type": "stream",
     "text": [
      "{'results': [{'user': {'gender': 'male', 'name': {'title': 'mr', 'first': 'ernest', 'last': 'coleman'}, 'location': {'street': '6735 greenhaven ln', 'city': 'sunnyvale', 'state': 'connecticut', 'zip': '33332'}, 'email': 'ernest.coleman20@example.com', 'username': 'yellowdog409', 'password': 'ledzep', 'salt': '7iDblTIm', 'md5': '3c9871f954d86c58d3f49b98a7fb60c3', 'sha1': 'd6cb9b8abb27f9718ee9185b2cde298665a177b5', 'sha256': '4fdb19e71c66c91f27f5208cc2a59ca8833ed9b72c549f11ea6a881ffde23c65', 'registered': '1315463131', 'dob': '468664323', 'phone': '(348)-196-2669', 'cell': '(757)-671-8341', 'SSN': '641-99-7751', 'picture': {'large': 'http://api.randomuser.me/portraits/men/72.jpg', 'medium': 'http://api.randomuser.me/portraits/med/men/44.jpg', 'thumbnail': 'http://api.randomuser.me/portraits/thumb/men/47.jpg'}, 'version': '0.6', 'nationality': 'US'}, 'seed': '369a24e79c2f8676'}]}\n",
      "<class 'dict'>\n"
     ]
    }
   ],
   "source": [
    "with open(\"random.json\") as f:\n",
    "    parsed_json = json.loads(f.read())\n",
    "    print(parsed_json)\n",
    "    print(type(parsed_json))"
   ]
  },
  {
   "cell_type": "markdown",
   "metadata": {},
   "source": [
    "### Updated example"
   ]
  },
  {
   "cell_type": "code",
   "execution_count": 23,
   "metadata": {},
   "outputs": [
    {
     "name": "stdout",
     "output_type": "stream",
     "text": [
      "[\"mayank\", \"Venky\", \"Prashant Bhandarkar\"]\n",
      "<class 'str'>\n"
     ]
    }
   ],
   "source": [
    "py = {\n",
    "    'first_name': 'Guido',\n",
    "    'second_name': 'Rossum',\n",
    "    'titles': ['BDFL', 'Developer'],\n",
    "}\n",
    "\n",
    "data = json.dumps(d)\n",
    "print(data)\n",
    "print(type(data))"
   ]
  },
  {
   "cell_type": "code",
   "execution_count": 20,
   "metadata": {},
   "outputs": [
    {
     "name": "stdout",
     "output_type": "stream",
     "text": [
      "[\"mayank\", \"Venky\", \"Prashant Bhandarkar\"]\n",
      "<class 'str'>\n"
     ]
    }
   ],
   "source": [
    "d = [\"mayank\", \"Venky\", \"Prashant Bhandarkar\"]\n",
    "\n",
    "data = json.dumps(d)\n",
    "print(data)\n",
    "print(type(data))"
   ]
  },
  {
   "cell_type": "markdown",
   "metadata": {},
   "source": [
    "### JSON to load into an OrderedDict"
   ]
  },
  {
   "cell_type": "code",
   "execution_count": 26,
   "metadata": {},
   "outputs": [
    {
     "data": {
      "text/plain": [
       "OrderedDict([('first_name', 'Guido'),\n",
       "             ('second_name', 'Rossum'),\n",
       "             ('titles', ['BDFL', 'Developer'])])"
      ]
     },
     "execution_count": 26,
     "metadata": {},
     "output_type": "execute_result"
    }
   ],
   "source": [
    "import collections\n",
    "py = str(py).replace(\"'\", '\"')\n",
    "json.JSONDecoder(object_pairs_hook=collections.OrderedDict).decode(str(py))"
   ]
  },
  {
   "cell_type": "code",
   "execution_count": 44,
   "metadata": {},
   "outputs": [
    {
     "name": "stdout",
     "output_type": "stream",
     "text": [
      "{\n",
      "    \"es\": [\n",
      "        \"Mukesh Bansal\",\n",
      "        \"Kirti Khanna\",\n",
      "        \"Jyoti Pancholi\",\n",
      "        \"Nishant Shrivastava\",\n",
      "        \"Gajendra Bandi\"\n",
      "    ],\n",
      "    \"cs\": [\n",
      "        \"Amit Shrivastava\"\n",
      "    ]\n",
      "}\n"
     ]
    }
   ],
   "source": [
    "from collections import OrderedDict\n",
    "# OrderedDict as ordereddict\n",
    "\n",
    "lnct_batch = \"\"\"{\n",
    "    \"es\": [\"Mukesh Bansal\", \"Kirti Khanna\", \"Jyoti Pancholi\", \"Nishant Shrivastava\", \"Gajendra Bandi\"],\n",
    "    \"cs\": [\"Amit Shrivastava\"]\n",
    "}\"\"\"\n",
    "\n",
    "data = json.loads(lnct_batch,  object_pairs_hook=OrderedDict)\n",
    "print(json.dumps(data, indent=4))"
   ]
  },
  {
   "cell_type": "code",
   "execution_count": 40,
   "metadata": {},
   "outputs": [
    {
     "name": "stdout",
     "output_type": "stream",
     "text": [
      "{\n",
      "    \"foo\": 1,\n",
      "    \"bar\": 2\n",
      "}\n"
     ]
    }
   ],
   "source": [
    "data = json.loads('{\"foo\":1, \"bar\": 2}', object_pairs_hook=OrderedDict)\n",
    "print(json.dumps(data, indent=4))"
   ]
  },
  {
   "cell_type": "markdown",
   "metadata": {},
   "source": [
    "### Examples"
   ]
  },
  {
   "cell_type": "code",
   "execution_count": 9,
   "metadata": {},
   "outputs": [
    {
     "name": "stdout",
     "output_type": "stream",
     "text": [
      "{\"101\": {\"class\": \"V\", \"Name\": \"Rohit\", \"Roll_no\": 7}, \"102\": {\"class\": \"V\", \"Name\": \"David\", \"Roll_no\": 8}, \"103\": {\"class\": \"V\", \"Name\": \"Samiya\", \"Roll_no\": 12}}\n"
     ]
    }
   ],
   "source": [
    "import json  \n",
    "student = {\"101\":{\"class\":'V', \"Name\":'Rohit',  \"Roll_no\":7},  \n",
    "           \"102\":{\"class\":'V', \"Name\":'David',  \"Roll_no\":8},  \n",
    "           \"103\":{\"class\":'V', \"Name\":'Samiya', \"Roll_no\":12}}  \n",
    "print(json.dumps(student)) "
   ]
  },
  {
   "cell_type": "code",
   "execution_count": 14,
   "metadata": {},
   "outputs": [
    {
     "name": "stdout",
     "output_type": "stream",
     "text": [
      "{\"101\": {\"Class\": \"V\", \"Name\": \"Rohit\", \"Roll_no\": 7}, \"102\": {\"Class\": \"V\", \"Name\": \"David\", \"Roll_no\": 8}, \"103\": {\"Class\": \"V\", \"Name\": \"Samiya\", \"Roll_no\": 12}}\n"
     ]
    }
   ],
   "source": [
    "import json  \n",
    "student = {\"101\":{\"Name\":'Rohit',\"Class\":'V', \"Roll_no\":7},  \n",
    "           \"102\":{\"Name\":'David',\"Class\":'V', \"Roll_no\":8},  \n",
    "           \"103\":{\"Name\":'Samiya',\"Class\":'V', \"Roll_no\":12}}  \n",
    "print(json.dumps(student, sort_keys=True)); "
   ]
  },
  {
   "cell_type": "code",
   "execution_count": 15,
   "metadata": {},
   "outputs": [
    {
     "name": "stdout",
     "output_type": "stream",
     "text": [
      "[\"Red\", \"Black\", \"White\"]\n"
     ]
    }
   ],
   "source": [
    "import json  \n",
    "tup1 = 'Red', 'Black', 'White';  \n",
    "print(json.dumps(tup1));"
   ]
  },
  {
   "cell_type": "code",
   "execution_count": 16,
   "metadata": {},
   "outputs": [
    {
     "name": "stdout",
     "output_type": "stream",
     "text": [
      "[5, 12, 13, 14]\n"
     ]
    }
   ],
   "source": [
    "import json  \n",
    "list1 = [5, 12, 13, 14];  \n",
    "print(json.dumps(list1));"
   ]
  },
  {
   "cell_type": "code",
   "execution_count": 17,
   "metadata": {},
   "outputs": [
    {
     "name": "stdout",
     "output_type": "stream",
     "text": [
      "\"Python and JSON\"\n"
     ]
    }
   ],
   "source": [
    "import json  \n",
    "string1 = 'Python and JSON';  \n",
    "print(json.dumps(string1));"
   ]
  },
  {
   "cell_type": "code",
   "execution_count": 18,
   "metadata": {},
   "outputs": [
    {
     "name": "stdout",
     "output_type": "stream",
     "text": [
      "true\n"
     ]
    }
   ],
   "source": [
    "import json  \n",
    "x = True;  \n",
    "print(json.dumps(x));  "
   ]
  },
  {
   "cell_type": "code",
   "execution_count": 19,
   "metadata": {},
   "outputs": [
    {
     "name": "stdout",
     "output_type": "stream",
     "text": [
      "{'103': {'class': 'V', 'Name': 'Samiya', 'Roll_n': 12}, '102': {'class': 'V', 'Name': 'David', 'Roll_no': 8}, '101': {'class': 'V', 'Name': 'Rohit', 'Roll_no': 7}}\n"
     ]
    }
   ],
   "source": [
    "import json  \n",
    "json_data = '{\"103\": {\"class\": \"V\", \"Name\": \"Samiya\", \"Roll_n\": 12}, \"102\": {\"class\": \"V\", \"Name\": \"David\", \"Roll_no\": 8}, \"101\": {\"class\": \"V\", \"Name\": \"Rohit\", \"Roll_no\": 7}}';  \n",
    "print(json.loads(json_data));\n"
   ]
  },
  {
   "cell_type": "code",
   "execution_count": null,
   "metadata": {},
   "outputs": [],
   "source": []
  }
 ],
 "metadata": {
  "kernelspec": {
   "display_name": "Python 3",
   "language": "python",
   "name": "python3"
  },
  "language_info": {
   "codemirror_mode": {
    "name": "ipython",
    "version": 3
   },
   "file_extension": ".py",
   "mimetype": "text/x-python",
   "name": "python",
   "nbconvert_exporter": "python",
   "pygments_lexer": "ipython3",
   "version": "3.6.1"
  }
 },
 "nbformat": 4,
 "nbformat_minor": 2
}
