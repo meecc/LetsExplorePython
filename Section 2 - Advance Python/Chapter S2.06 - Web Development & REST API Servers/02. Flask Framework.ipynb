{
 "cells": [
  {
   "cell_type": "markdown",
   "metadata": {},
   "source": [
    "## Flask Framework"
   ]
  },
  {
   "cell_type": "markdown",
   "metadata": {},
   "source": [
    "Flask is a web application framework written in Python. It is developed by `Armin Ronacher`, who leads an international group of Python enthusiasts named Pocco. Flask is based on \n",
    "the `Werkzeug`, `WSGI` toolkit and `Jinja2` template engine. Both are `Pocco` projects."
   ]
  },
  {
   "cell_type": "markdown",
   "metadata": {},
   "source": [
    "### Installation"
   ]
  },
  {
   "cell_type": "markdown",
   "metadata": {},
   "source": [
    "Installing flask inside virtualenv"
   ]
  },
  {
   "cell_type": "markdown",
   "metadata": {},
   "source": [
    "```\n",
    "$ pip install virtualenv\n",
    "$ cd <project_folder>\n",
    "$ virtualenv venv\n",
    "$ venv/bin/activate\n",
    "$ pip install Flask\n",
    "```"
   ]
  },
  {
   "cell_type": "markdown",
   "metadata": {},
   "source": [
    "### Application"
   ]
  },
  {
   "cell_type": "markdown",
   "metadata": {},
   "source": [
    "Lets create a basic application in flask. Showcasing function name in `telugu` language."
   ]
  },
  {
   "cell_type": "markdown",
   "metadata": {},
   "source": [
    "```python\n",
    "\"\"\".\"\"\"\n",
    "from flask import Flask\n",
    "\n",
    "\n",
    "app = Flask(__name__)\n",
    "\n",
    "\n",
    "@app.route('/', methods=['GET'])\n",
    "def రేమకు_స్వాగతం():\n",
    "    \"\"\"swagatham in telugu language.\"\"\"\n",
    "    return \"<h1>రేమకు స్వాగతం</h1>\"\n",
    "\n",
    "\n",
    "if __name__ == '__main__':\n",
    "    app.run()\n",
    "```"
   ]
  },
  {
   "cell_type": "markdown",
   "metadata": {},
   "source": [
    "Lets discuss its various sections, \n",
    "\n",
    "First we import `Flask` from `flask` application, then we create an `app` from `Flask`, next we create some `routes`, and finally we execute the created flask `app`."
   ]
  },
  {
   "cell_type": "markdown",
   "metadata": {},
   "source": [
    "#### Application in `debug` mode"
   ]
  },
  {
   "cell_type": "markdown",
   "metadata": {},
   "source": [
    "```python\n",
    "\"\"\".\"\"\"\n",
    "from flask import Flask\n",
    "\n",
    "\n",
    "app = Flask(__name__)\n",
    "\n",
    "\n",
    "@app.route('/', methods=['GET'])\n",
    "def రేమకు_స్వాగతం():\n",
    "    \"\"\"swagatham in telugu language.\"\"\"\n",
    "    return \"<h1>రేమకు స్వాగతం</h1>\"\n",
    "\n",
    "\n",
    "if __name__ == '__main__':\n",
    "    app.run(debug=True)\n",
    "```"
   ]
  },
  {
   "cell_type": "markdown",
   "metadata": {},
   "source": [
    "#### Running the applicataion"
   ]
  },
  {
   "cell_type": "markdown",
   "metadata": {},
   "source": [
    "```\n",
    "python <flask_app.py>\n",
    "```"
   ]
  },
  {
   "cell_type": "markdown",
   "metadata": {},
   "source": [
    "##### Externally Visible Server"
   ]
  },
  {
   "cell_type": "markdown",
   "metadata": {},
   "source": [
    "The following command will run the flask application run on all the available ipaddresses "
   ]
  },
  {
   "cell_type": "markdown",
   "metadata": {},
   "source": [
    "```\n",
    "flask run --host=0.0.0.0\n",
    "```"
   ]
  },
  {
   "cell_type": "markdown",
   "metadata": {},
   "source": [
    "or, we can provide the same in the code as shown below "
   ]
  },
  {
   "cell_type": "markdown",
   "metadata": {},
   "source": [
    "```python\n",
    "\"\"\".\"\"\"\n",
    "from flask import Flask\n",
    "\n",
    "\n",
    "app = Flask(__name__)\n",
    "\n",
    "\n",
    "@app.route('/', methods=['GET'])\n",
    "def రేమకు_స్వాగతం():\n",
    "    \"\"\"swagatham in telugu language.\"\"\"\n",
    "    return \"రేమకు స్వాగతం\"\n",
    "\n",
    "\n",
    "if __name__ == '__main__':\n",
    "    app.run(debug=True, port=20202, host=\"0.0.0.0\")\n",
    "```"
   ]
  },
  {
   "cell_type": "markdown",
   "metadata": {},
   "source": [
    "```\n",
    "python <flask_app.py>\n",
    "```"
   ]
  },
  {
   "cell_type": "markdown",
   "metadata": {},
   "source": [
    "### Routing"
   ]
  },
  {
   "cell_type": "markdown",
   "metadata": {},
   "source": [
    "`route()` decorator of the `Flask` class tells the application which URL/request type should be mapped to the below function. Its syntax is as follows"
   ]
  },
  {
   "cell_type": "markdown",
   "metadata": {},
   "source": [
    "> `app.route(rule, options)`"
   ]
  },
  {
   "cell_type": "markdown",
   "metadata": {},
   "source": [
    "- `rule`: It represents the URL binding with the function, such as `/login`, `/register` etc.\n",
    "- `options`: The `options` are forwarded to the underlying `class:~werkzeug.routing.Rule` object. It contains a parameter `methods` which is a list of methods this `rule` should be limited to (`GET`, `POST` etc.).  By default a rule just listens for `GET` (and implicitly `HEAD`)"
   ]
  },
  {
   "cell_type": "markdown",
   "metadata": {},
   "source": [
    "Most `modern web frameworks` employ `routing` technique in mapping application `URLs` to `functions`."
   ]
  },
  {
   "cell_type": "markdown",
   "metadata": {},
   "source": [
    "```python\n",
    "\"\"\".\"\"\"\n",
    "from flask import Flask\n",
    "\n",
    "\n",
    "app = Flask(__name__)\n",
    "\n",
    "\n",
    "@app.route('/telugu')\n",
    "def రేమకు_స్వాగతం():\n",
    "    \"\"\"swagatham in telugu language.\"\"\"\n",
    "    return \"రేమకు స్వాగతం\"\n",
    "\n",
    "\n",
    "@app.route('/tamil')\n",
    "def நல்வரவு():\n",
    "    \"\"\"swagatham in tamil language.\"\"\"\n",
    "    return \"நல்வரவு\"\n",
    "\n",
    "\n",
    "@app.route('/kannada')\n",
    "def ಸುಸ್ವಾಗತ():\n",
    "    \"\"\"swagatham in kannada language.\"\"\"\n",
    "    return \"ಸುಸ್ವಾಗತ\"\n",
    "\n",
    "\n",
    "@app.route('/german')\n",
    "def Willkommen():\n",
    "    \"\"\"swagatham in german language.\"\"\"\n",
    "    return \"Willkommen\"\n",
    "\n",
    "\n",
    "@app.route('/Hebrew')\n",
    "def Shalom():\n",
    "    \"\"\"swagatham in Hebrew language.\"\"\"\n",
    "    return \"Shalom\"\n",
    "\n",
    "\n",
    "if __name__ == '__main__':\n",
    "    app.run()\n",
    "```"
   ]
  },
  {
   "cell_type": "markdown",
   "metadata": {},
   "source": [
    "We can also bind the urls with functions using `add_url_rule()` as shown below"
   ]
  },
  {
   "cell_type": "markdown",
   "metadata": {},
   "source": [
    "```python\n",
    "\"\"\"Example using add_url_rule.\"\"\"\n",
    "from flask import Flask\n",
    "\n",
    "\n",
    "def రేమకు_స్వాగతం():\n",
    "    \"\"\"swagatham in telugu language.\"\"\"\n",
    "    return \"రేమకు స్వాగతం\"\n",
    "\n",
    "\n",
    "def நல்வரவு():\n",
    "    \"\"\"swagatham in tamil language.\"\"\"\n",
    "    return \"நல்வரவு\"\n",
    "\n",
    "\n",
    "def ಸುಸ್ವಾಗತ():\n",
    "    \"\"\"swagatham in kannada language.\"\"\"\n",
    "    return \"ಸುಸ್ವಾಗತ\"\n",
    "\n",
    "\n",
    "if __name__ == '__main__':\n",
    "    rules = {\n",
    "        'telugu': రేమకు_స్వాగతం,\n",
    "        'tamil': நல்வரவு,\n",
    "        'kannada': ಸುಸ್ವಾಗತ\n",
    "    }\n",
    "\n",
    "    app = Flask(__name__)\n",
    "    for rule, func in rules.items():\n",
    "        print(rule, func)\n",
    "        app.add_url_rule('/' + rule, None, func)\n",
    "    app.run()\n",
    "```"
   ]
  },
  {
   "cell_type": "markdown",
   "metadata": {},
   "source": [
    "### Variable Rules"
   ]
  },
  {
   "cell_type": "markdown",
   "metadata": {},
   "source": [
    "Flask can process the variable parts to a URL by marking these special sections as <variable_name> which are then passed as a keyword argument to the function. Also a converter can be used by specifying a rule with <converter:variable_name> as shown in the examples below"
   ]
  },
  {
   "cell_type": "markdown",
   "metadata": {},
   "source": [
    "```python\n",
    "\"\"\"Example using add_url_rule.\"\"\"\n",
    "from flask import Flask\n",
    "\n",
    "\n",
    "app = Flask(__name__)\n",
    "\n",
    "\n",
    "@app.route('/welcome:<language>')\n",
    "def select_welcome(language):\n",
    "    rules = {\n",
    "        'telugu': రేమకు_స్వాగతం,\n",
    "        'tamil': நல்வரவு,\n",
    "        'kannada': ಸುಸ್ವಾಗತ\n",
    "    }\n",
    "    print(language)\n",
    "    return rules[language]()\n",
    "\n",
    "\n",
    "def రేమకు_స్వాగతం():\n",
    "    \"\"\"swagatham in telugu language.\"\"\"\n",
    "    return \"రేమకు స్వాగతం\"\n",
    "\n",
    "\n",
    "def நல்வரவு():\n",
    "    \"\"\"swagatham in tamil language.\"\"\"\n",
    "    return \"நல்வரவு\"\n",
    "\n",
    "\n",
    "def ಸುಸ್ವಾಗತ():\n",
    "    \"\"\"swagatham in kannada language.\"\"\"\n",
    "    return \"ಸುಸ್ವಾಗತ\"\n",
    "\n",
    "\n",
    "if __name__ == '__main__':\n",
    "    app.run()\n",
    "```"
   ]
  },
  {
   "cell_type": "markdown",
   "metadata": {},
   "source": [
    "We can also define the datatype of the parameter using the following table"
   ]
  },
  {
   "cell_type": "markdown",
   "metadata": {},
   "source": [
    "| string | accepts any text without a slash (the default) |\n",
    "|--------|------------------------------------------------|\n",
    "| int    | integers                                       |\n",
    "| float  | floating point values                          |\n",
    "| path   | similar to default but also accepts slashes    |\n",
    "| any    | matches one of the items provided              |\n",
    "| uuid   | accepts UUID strings                           |"
   ]
  },
  {
   "cell_type": "markdown",
   "metadata": {},
   "source": [
    "```python\n",
    "\"\"\"Example for variable rules.\"\"\"\n",
    "# variable_rules_2.py\n",
    "\n",
    "from flask import Flask\n",
    "from random import randint, uniform\n",
    "\n",
    "app = Flask(__name__)\n",
    "\n",
    "\n",
    "@app.route('/get_rand:<int:num>')\n",
    "def get_random_int(num):\n",
    "    print(\"get_random_int\", num)\n",
    "    return str(randint(1, int(num)))\n",
    "\n",
    "\n",
    "@app.route('/get_rand:<float:num>')\n",
    "def get_random_float(num):\n",
    "    print(num)\n",
    "    return str(uniform(0, float(num)))\n",
    "\n",
    "\n",
    "@app.route(\"/get_rand:<num>\")\n",
    "def get_any_rand(num):\n",
    "    return \"not found\"\n",
    "\n",
    "\n",
    "if __name__ == '__main__':\n",
    "    app.run()\n",
    "\n",
    "```"
   ]
  },
  {
   "cell_type": "markdown",
   "metadata": {},
   "source": [
    "### URL Building"
   ]
  },
  {
   "cell_type": "markdown",
   "metadata": {},
   "source": [
    "To build a URL to a specific function you can use the `url_for()` function. It accepts the `name` of the `function` as `first argument` and a number of keyword arguments, each corresponding to the variable part of the URL rule. Unknown variable parts are appended to the URL as query parameters."
   ]
  },
  {
   "cell_type": "markdown",
   "metadata": {},
   "source": [
    "```python\n",
    "\"\"\".\"\"\"\n",
    "from flask import Flask\n",
    "from flask import abort, redirect, url_for\n",
    "\n",
    "app = Flask(__name__)\n",
    "\n",
    "\n",
    "@app.route('/telugu')\n",
    "def telugu():\n",
    "    \"\"\"swagatham in telugu language.\"\"\"\n",
    "    return \"రేమకు స్వాగతం\"\n",
    "\n",
    "\n",
    "@app.route('/tamil')\n",
    "def tamil():\n",
    "    \"\"\"swagatham in tamil language.\"\"\"\n",
    "    return \"நல்வரவு\"\n",
    "\n",
    "\n",
    "@app.route('/kannada')\n",
    "def kannada():\n",
    "    \"\"\"swagatham in kannada language.\"\"\"\n",
    "    return \"ಸುಸ್ವಾಗತ\"\n",
    "\n",
    "\n",
    "@app.route('/welcome:<language>')\n",
    "def welcome(language):\n",
    "    return redirect(url_for(language.lower()))\n",
    "\n",
    "\n",
    "if __name__ == '__main__':\n",
    "    app.run()\n",
    "```"
   ]
  },
  {
   "cell_type": "markdown",
   "metadata": {},
   "source": [
    "### HTTP methods"
   ]
  },
  {
   "cell_type": "markdown",
   "metadata": {},
   "source": [
    "`HTTP` protocol supports multiple methods for accessing URLs. By default, `GET` requests are handled for any requests, using `methods` argument to the route() decorator other methods can also be served as shown in the examples below"
   ]
  },
  {
   "cell_type": "markdown",
   "metadata": {},
   "source": [
    "```python\n",
    "from flask import request\n",
    "\n",
    "@app.route('/logmein', methods=['GET', 'POST'])\n",
    "def logmein():\n",
    "    if request.method == 'POST':\n",
    "        validate_login(request.data)\n",
    "    else:\n",
    "        show_login()\n",
    "```         "
   ]
  },
  {
   "cell_type": "markdown",
   "metadata": {},
   "source": [
    "#### Methods"
   ]
  },
  {
   "cell_type": "markdown",
   "metadata": {},
   "source": [
    "- **GET**: The browser tells the server to just get the information stored on that page and send it. This is probably the most common method.\n",
    "\n",
    "\n",
    "- **HEAD**: The browser tells the server to get the information, but it is only interested in the headers, not the content of the page. An application is supposed to handle that as if a GET request was received but to not deliver the actual content. In Flask you don’t have to deal with that at all, the underlying Werkzeug library handles that for you.\n",
    "\n",
    "\n",
    "- **POST**: The browser tells the server that it wants to post some new information to that URL and that the server must ensure the data is stored and only stored once. This is how HTML forms usually transmit data to the server.\n",
    "\n",
    "\n",
    "- **PUT**: Similar to POST but the server might trigger the store procedure multiple times by overwriting the old values more than once. Now you might be asking why this is useful, but there are some good reasons to do it this way. Consider that the connection is lost during transmission: in this situation a system between the browser and the server might receive the request safely a second time without breaking things. With POST that would not be possible because it must only be triggered once.\n",
    "\n",
    "\n",
    "- **DELETE**: Remove the information at the given location."
   ]
  },
  {
   "cell_type": "markdown",
   "metadata": {},
   "source": [
    "```python\n",
    "\"\"\"Echo Implementation in flask.\"\"\"\n",
    "from flask import Flask, request\n",
    "\n",
    "\n",
    "app = Flask(__name__)\n",
    "\n",
    "\n",
    "@app.route('/echo', methods=['GET', 'POST'])\n",
    "def echo():\n",
    "    if request.method == 'POST':\n",
    "        print(request.form)\n",
    "        return request.form['echo']\n",
    "    else:\n",
    "        return \"\"\"<html>\n",
    "        <body>\n",
    "           <form action=\"/echo\" method=\"post\">\n",
    "              Text to echo: <input type=\"text\" name=\"echo\"><br>\n",
    "              <input type=\"submit\" value=\"Submit\">\n",
    "            </form>\n",
    "        </body></html>\n",
    "        \"\"\"\n",
    "\n",
    "\n",
    "if __name__ == '__main__':\n",
    "    app.run(debug=True)\n",
    "```"
   ]
  },
  {
   "cell_type": "markdown",
   "metadata": {},
   "source": [
    "### Rendering Templates"
   ]
  },
  {
   "cell_type": "markdown",
   "metadata": {},
   "source": [
    "goto `jinja2` chapter"
   ]
  },
  {
   "cell_type": "markdown",
   "metadata": {},
   "source": [
    "### Static Files"
   ]
  },
  {
   "cell_type": "markdown",
   "metadata": {},
   "source": [
    "Web server also host many static files like `css`, `js`, `png`, `jpg`, `mov`, `avi`, `swf` etc. Flask provide a way to handle these types of files. A folder named `static` can be created under project structure where all these types of files can be stored. \n",
    "\n",
    "These files can be accessed using the following code. "
   ]
  },
  {
   "cell_type": "markdown",
   "metadata": {},
   "source": [
    "```python\n",
    "url_for('static', filename='style.css')\n",
    "```"
   ]
  },
  {
   "cell_type": "markdown",
   "metadata": {},
   "source": [
    "### Request Object"
   ]
  },
  {
   "cell_type": "markdown",
   "metadata": {},
   "source": [
    "Flask provide \"request object\" to access the incoming data for any request. It holds all incoming data from the request, which includes the mimetype, referrer, IP address, raw data, HTTP method, and headers, among other things. Although all the information the request object holds can be useful, in this article, we'll only focus on the data that is normally directly supplied by the caller of our endpoint."
   ]
  },
  {
   "cell_type": "code",
   "execution_count": null,
   "metadata": {},
   "outputs": [],
   "source": []
  },
  {
   "cell_type": "code",
   "execution_count": null,
   "metadata": {},
   "outputs": [],
   "source": []
  },
  {
   "cell_type": "code",
   "execution_count": null,
   "metadata": {},
   "outputs": [],
   "source": []
  },
  {
   "cell_type": "markdown",
   "metadata": {},
   "source": [
    "### Query Arguments"
   ]
  },
  {
   "cell_type": "markdown",
   "metadata": {},
   "source": [
    "They are URL argument which are added to a query string, is the simpliest way to pass small non secure data to a web app. \n",
    "They look something like this"
   ]
  },
  {
   "cell_type": "markdown",
   "metadata": {},
   "source": [
    "`search?q=arya%20samaj&sourceid=chrome&ie=UTF-8`\n",
    "\n",
    "where it is passing three values:\n",
    "\n",
    "- q = \"arya samaj\",\n",
    "- sourceid = \"chrome\"\n",
    "- ie = \"UTF8"
   ]
  },
  {
   "cell_type": "markdown",
   "metadata": {},
   "source": [
    "The query string begins after the question mark (?) in URL and is a list of key-value pairs separated by an ampersand (&). Key and values are seperated by an equals sign (=) like in the above example.\n",
    "\n",
    "| Key      | value       |\n",
    "|----------|-------------|\n",
    "| q        | arya samaj  |\n",
    "| sourceid | chrome      |\n",
    "| ie       | UTF8        |"
   ]
  },
  {
   "cell_type": "markdown",
   "metadata": {},
   "source": [
    "#### How to read them in Flask"
   ]
  },
  {
   "cell_type": "markdown",
   "metadata": {},
   "source": [
    "Lets take a simple example, we have an assessment application on various topics. Candidates are provided one question at a time and on clicking on \"next\" button they are taken to next question. All the questions are stored in a SQLite DB and by providing the question id we extract the question. So the request url will be something like this:\n",
    "\n",
    "> \"assessment?question=10&topic=2\"\n",
    "\n",
    "We can use request object object to read it as we read a dictionary. \n",
    "\n",
    "```python\n",
    "request.args.get('question') \n",
    "# or \n",
    "request.args['question']\n",
    "```\n"
   ]
  },
  {
   "cell_type": "code",
   "execution_count": null,
   "metadata": {},
   "outputs": [],
   "source": []
  },
  {
   "cell_type": "code",
   "execution_count": null,
   "metadata": {},
   "outputs": [],
   "source": []
  },
  {
   "cell_type": "code",
   "execution_count": null,
   "metadata": {},
   "outputs": [],
   "source": []
  },
  {
   "cell_type": "code",
   "execution_count": null,
   "metadata": {},
   "outputs": [],
   "source": []
  },
  {
   "cell_type": "markdown",
   "metadata": {},
   "source": [
    "### Sending Form Data to Template"
   ]
  },
  {
   "cell_type": "code",
   "execution_count": null,
   "metadata": {},
   "outputs": [],
   "source": []
  },
  {
   "cell_type": "markdown",
   "metadata": {},
   "source": [
    "### Cookies"
   ]
  },
  {
   "cell_type": "code",
   "execution_count": null,
   "metadata": {},
   "outputs": [],
   "source": []
  },
  {
   "cell_type": "markdown",
   "metadata": {},
   "source": [
    "### Sessions"
   ]
  },
  {
   "cell_type": "code",
   "execution_count": null,
   "metadata": {},
   "outputs": [],
   "source": []
  },
  {
   "cell_type": "markdown",
   "metadata": {},
   "source": [
    "### Redirect and Errors"
   ]
  },
  {
   "cell_type": "code",
   "execution_count": null,
   "metadata": {},
   "outputs": [],
   "source": []
  },
  {
   "cell_type": "markdown",
   "metadata": {},
   "source": [
    "### Message Flashing"
   ]
  },
  {
   "cell_type": "code",
   "execution_count": null,
   "metadata": {},
   "outputs": [],
   "source": []
  },
  {
   "cell_type": "markdown",
   "metadata": {},
   "source": [
    "### File Uploading"
   ]
  },
  {
   "cell_type": "code",
   "execution_count": null,
   "metadata": {},
   "outputs": [],
   "source": []
  },
  {
   "cell_type": "markdown",
   "metadata": {},
   "source": [
    "### Extensions"
   ]
  },
  {
   "cell_type": "code",
   "execution_count": null,
   "metadata": {},
   "outputs": [],
   "source": []
  },
  {
   "cell_type": "markdown",
   "metadata": {},
   "source": [
    "### Mail"
   ]
  },
  {
   "cell_type": "code",
   "execution_count": null,
   "metadata": {},
   "outputs": [],
   "source": []
  },
  {
   "cell_type": "markdown",
   "metadata": {},
   "source": [
    "### WTF"
   ]
  },
  {
   "cell_type": "code",
   "execution_count": null,
   "metadata": {},
   "outputs": [],
   "source": []
  },
  {
   "cell_type": "markdown",
   "metadata": {},
   "source": [
    "### SQLite"
   ]
  },
  {
   "cell_type": "code",
   "execution_count": null,
   "metadata": {},
   "outputs": [],
   "source": []
  },
  {
   "cell_type": "markdown",
   "metadata": {},
   "source": [
    "### SQLAlchemy"
   ]
  },
  {
   "cell_type": "code",
   "execution_count": null,
   "metadata": {},
   "outputs": [],
   "source": []
  },
  {
   "cell_type": "markdown",
   "metadata": {},
   "source": [
    "### Sijax"
   ]
  },
  {
   "cell_type": "code",
   "execution_count": null,
   "metadata": {},
   "outputs": [],
   "source": []
  },
  {
   "cell_type": "markdown",
   "metadata": {},
   "source": [
    "### Deployment"
   ]
  },
  {
   "cell_type": "code",
   "execution_count": null,
   "metadata": {},
   "outputs": [],
   "source": []
  },
  {
   "cell_type": "code",
   "execution_count": null,
   "metadata": {},
   "outputs": [],
   "source": []
  },
  {
   "cell_type": "markdown",
   "metadata": {},
   "source": [
    "### Authentication"
   ]
  },
  {
   "cell_type": "markdown",
   "metadata": {},
   "source": [
    "#### Inhouse authentication"
   ]
  },
  {
   "cell_type": "markdown",
   "metadata": {},
   "source": [
    "#### Login authentication with OpenId"
   ]
  },
  {
   "cell_type": "code",
   "execution_count": null,
   "metadata": {},
   "outputs": [],
   "source": []
  },
  {
   "cell_type": "markdown",
   "metadata": {},
   "source": [
    "### Reference"
   ]
  },
  {
   "cell_type": "markdown",
   "metadata": {},
   "source": [
    "- http://flask.pocoo.org/docs/"
   ]
  }
 ],
 "metadata": {
  "kernelspec": {
   "display_name": "Python 3",
   "language": "python",
   "name": "python3"
  },
  "language_info": {
   "codemirror_mode": {
    "name": "ipython",
    "version": 3
   },
   "file_extension": ".py",
   "mimetype": "text/x-python",
   "name": "python",
   "nbconvert_exporter": "python",
   "pygments_lexer": "ipython3",
   "version": "3.6.1"
  }
 },
 "nbformat": 4,
 "nbformat_minor": 1
}
