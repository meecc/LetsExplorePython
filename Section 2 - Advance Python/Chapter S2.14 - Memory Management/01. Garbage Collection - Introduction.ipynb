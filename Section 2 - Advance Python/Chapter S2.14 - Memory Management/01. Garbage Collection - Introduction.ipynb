{
 "cells": [
  {
   "cell_type": "markdown",
   "metadata": {},
   "source": [
    "# Garbage Collection\n",
    "---"
   ]
  },
  {
   "cell_type": "markdown",
   "metadata": {},
   "source": [
    "### What is Garbage Collection"
   ]
  },
  {
   "cell_type": "code",
   "execution_count": null,
   "metadata": {},
   "outputs": [],
   "source": []
  },
  {
   "cell_type": "markdown",
   "metadata": {},
   "source": [
    "### GC in Python"
   ]
  },
  {
   "cell_type": "markdown",
   "metadata": {},
   "source": [
    "`Python` takes care of `GC` automatically for you, and as developer you normally do not have to **\"worry\"** about it. But, its still good idea to learn about it, so that you can create your program in such a way that it takes benefit of python's `GC`. \n",
    "\n",
    "Previously `Python` used to solely rely on `reference count` algorithm to allocate and de-allocate memory. Since, `Python 1.5.2` it has changed. Now, it has two strategies for memory allocation\n",
    "\n",
    "- Reference Counting\n",
    "- Garbage Collection"
   ]
  },
  {
   "cell_type": "markdown",
   "metadata": {},
   "source": [
    "#### Reference Counting"
   ]
  },
  {
   "cell_type": "markdown",
   "metadata": {},
   "source": [
    "`Reference counting` works by counting the times an object is referenced by other objects. When any reference to an object is removed, its corresponding `reference count` for an `object` is `decremented` and when it becomes `zero` the `object` is `deallocated`."
   ]
  },
  {
   "cell_type": "markdown",
   "metadata": {},
   "source": [
    "RC is extremely efficient in memory management but it has few issues. Few  of the issues are listed below.\n",
    "- **reference cycles**: \n",
    "    It is when there is no way to reach an object but its reference count is still greater than zero. The easiest way to create a reference cycle is to create an object which refers to itself as in the example below:"
   ]
  },
  {
   "cell_type": "code",
   "execution_count": 2,
   "metadata": {},
   "outputs": [],
   "source": [
    "def cyclic_reference():\n",
    "    if \"arry\" not in locals():\n",
    "        print(\"create new\")\n",
    "        arry = [ ]\n",
    "    arry.append(arry)\n",
    "    print(arry)"
   ]
  },
  {
   "cell_type": "code",
   "execution_count": 3,
   "metadata": {},
   "outputs": [
    {
     "name": "stdout",
     "output_type": "stream",
     "text": [
      "create new\n",
      "[[...]]\n",
      "create new\n",
      "[[...]]\n",
      "create new\n",
      "[[...]]\n"
     ]
    }
   ],
   "source": [
    "cyclic_reference()\n",
    "cyclic_reference()\n",
    "cyclic_reference()"
   ]
  },
  {
   "cell_type": "code",
   "execution_count": 13,
   "metadata": {},
   "outputs": [
    {
     "name": "stdout",
     "output_type": "stream",
     "text": [
      "[['good', [...]]]\n",
      "[['good', [...]]]\n"
     ]
    }
   ],
   "source": [
    "good = [\"good\"]\n",
    "b = []\n",
    "b.append(good)\n",
    "good.append(b)\n",
    "print( b)\n",
    "del(good)\n",
    "print(b)"
   ]
  },
  {
   "cell_type": "markdown",
   "metadata": {},
   "source": [
    "> The data of good lives even after we deleted it ... "
   ]
  },
  {
   "cell_type": "markdown",
   "metadata": {},
   "source": [
    "lets take another example, to validate it further"
   ]
  },
  {
   "cell_type": "markdown",
   "metadata": {},
   "source": [
    "### The living proof"
   ]
  },
  {
   "cell_type": "code",
   "execution_count": 26,
   "metadata": {},
   "outputs": [
    {
     "name": "stdout",
     "output_type": "stream",
     "text": [
      "100528392\n",
      "100528392\n",
      "[['test']]\n",
      "100528392\n",
      "[['test']]\n"
     ]
    }
   ],
   "source": [
    "a = [\"test\"]\n",
    "b = []\n",
    "b.append(a)\n",
    "print(id(a))\n",
    "print(id(b[0]))\n",
    "print(b)\n",
    "del(a)\n",
    "print(id(b[0]))\n",
    "print(b)"
   ]
  },
  {
   "cell_type": "code",
   "execution_count": 27,
   "metadata": {},
   "outputs": [
    {
     "name": "stdout",
     "output_type": "stream",
     "text": [
      "[]\n",
      "[]\n"
     ]
    }
   ],
   "source": [
    "import gc\n",
    "print(gc.garbage)\n",
    "del(b)\n",
    "gc.collect()\n",
    "print(gc.garbage)"
   ]
  },
  {
   "cell_type": "code",
   "execution_count": null,
   "metadata": {},
   "outputs": [],
   "source": []
  },
  {
   "cell_type": "code",
   "execution_count": null,
   "metadata": {},
   "outputs": [],
   "source": []
  },
  {
   "cell_type": "code",
   "execution_count": null,
   "metadata": {},
   "outputs": [],
   "source": []
  },
  {
   "cell_type": "code",
   "execution_count": 28,
   "metadata": {},
   "outputs": [
    {
     "name": "stdout",
     "output_type": "stream",
     "text": [
      "Garbage collection thresholds:  (700, 10, 10)\n"
     ]
    }
   ],
   "source": [
    "import gc\n",
    "print (\"Garbage collection thresholds: \", gc.get_threshold())"
   ]
  },
  {
   "cell_type": "markdown",
   "metadata": {},
   "source": [
    "What the above information means, is that your application can have about **700 objects** before any automatic garbage collector will execute."
   ]
  },
  {
   "cell_type": "markdown",
   "metadata": {},
   "source": [
    "* Space overhead (reference count)"
   ]
  },
  {
   "cell_type": "code",
   "execution_count": null,
   "metadata": {},
   "outputs": [],
   "source": []
  },
  {
   "cell_type": "markdown",
   "metadata": {},
   "source": [
    "* Speed overhead (increment/decrement)"
   ]
  },
  {
   "cell_type": "code",
   "execution_count": null,
   "metadata": {},
   "outputs": [],
   "source": []
  },
  {
   "cell_type": "markdown",
   "metadata": {},
   "source": [
    "* Requires atomicity"
   ]
  },
  {
   "cell_type": "code",
   "execution_count": null,
   "metadata": {},
   "outputs": [],
   "source": []
  },
  {
   "cell_type": "markdown",
   "metadata": {},
   "source": [
    "* Not real-time"
   ]
  },
  {
   "cell_type": "code",
   "execution_count": null,
   "metadata": {},
   "outputs": [],
   "source": []
  },
  {
   "cell_type": "markdown",
   "metadata": {},
   "source": [
    "#### Garbage Collection"
   ]
  },
  {
   "cell_type": "code",
   "execution_count": null,
   "metadata": {},
   "outputs": [],
   "source": []
  },
  {
   "cell_type": "code",
   "execution_count": null,
   "metadata": {},
   "outputs": [],
   "source": []
  },
  {
   "cell_type": "code",
   "execution_count": null,
   "metadata": {},
   "outputs": [],
   "source": []
  },
  {
   "cell_type": "markdown",
   "metadata": {},
   "source": [
    "## References"
   ]
  },
  {
   "cell_type": "markdown",
   "metadata": {},
   "source": [
    "- http://arctrix.com/nas/python/gc/\n",
    "- https://docs.python.org/3.6/library/gc.html#module-gc\n",
    "- https://www.quora.com/How-does-garbage-collection-in-Python-work-What-are-the-pros-and-cons\n",
    "- https://www.quora.com/With-reference-to-garbage-collection-in-Python-what-is-the-difference-between-using-a-delete-object-and-setting-the-object-None"
   ]
  }
 ],
 "metadata": {
  "kernelspec": {
   "display_name": "Python 3",
   "language": "python",
   "name": "python3"
  },
  "language_info": {
   "codemirror_mode": {
    "name": "ipython",
    "version": 3
   },
   "file_extension": ".py",
   "mimetype": "text/x-python",
   "name": "python",
   "nbconvert_exporter": "python",
   "pygments_lexer": "ipython3",
   "version": "3.6.4"
  }
 },
 "nbformat": 4,
 "nbformat_minor": 2
}
