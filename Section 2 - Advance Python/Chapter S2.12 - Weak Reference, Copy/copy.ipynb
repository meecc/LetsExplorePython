{
 "cells": [
  {
   "cell_type": "markdown",
   "metadata": {},
   "source": [
    "# Misc Advance Topics\n",
    "----"
   ]
  },
  {
   "cell_type": "markdown",
   "metadata": {},
   "source": [
    "## copy — Duplicate Objects"
   ]
  },
  {
   "cell_type": "markdown",
   "metadata": {},
   "source": [
    "### Shallow Copies"
   ]
  },
  {
   "cell_type": "markdown",
   "metadata": {},
   "source": [
    "The shallow copy created by copy() is a new container populated with references to the contents of the original object. When making a shallow copy of a list object, a new list is constructed and the elements of the original object are appended to it."
   ]
  },
  {
   "cell_type": "code",
   "execution_count": 7,
   "metadata": {},
   "outputs": [
    {
     "name": "stdout",
     "output_type": "stream",
     "text": [
      "([1, 2, 3, 4, 5, 6], [1, 2, 3, 4, 5, 6])\n",
      "(139639932453520, 139639932453448)\n"
     ]
    }
   ],
   "source": [
    "import copy\n",
    "\n",
    "class MyTry:\n",
    "    def __init__(self):\n",
    "        self.lst = [1,2,3,4,5]\n",
    "\n",
    "a = MyTry()\n",
    "dup = copy.copy(a) \n",
    "a.lst.append(6)\n",
    "print(a.lst, dup.lst)\n",
    "print(id(a), id(dup))"
   ]
  },
  {
   "cell_type": "code",
   "execution_count": 8,
   "metadata": {},
   "outputs": [
    {
     "name": "stdout",
     "output_type": "stream",
     "text": [
      "([1, 2, 3, 4, 5, 6], [1, 2, 3, 4, 5, 6])\n",
      "(139639932453880, 139639932453736)\n",
      "(139639933132096, 139639933132096)\n"
     ]
    }
   ],
   "source": [
    "import copy\n",
    "\n",
    "class MyTry:\n",
    "    def __init__(self):\n",
    "        self.lst = [1,2,3,4,5]\n",
    "\n",
    "a = MyTry()\n",
    "dup = copy.copy(a) \n",
    "a.lst.append(6)\n",
    "print(a.lst, dup.lst)\n",
    "print(id(a), id(dup))\n",
    "print(id(a.lst), id(dup.lst))\n"
   ]
  },
  {
   "cell_type": "markdown",
   "metadata": {},
   "source": [
    "### Deep Copies"
   ]
  },
  {
   "cell_type": "markdown",
   "metadata": {},
   "source": [
    "The deep copy created by deepcopy() is a new container populated with copies of the contents of the original object. To make a deep copy of a list, a new list is constructed, the elements of the original list are copied, and then those copies are appended to the new list.\n",
    "\n",
    "Replacing the call to copy() with deepcopy() makes the difference in the output apparent."
   ]
  },
  {
   "cell_type": "code",
   "execution_count": 1,
   "metadata": {},
   "outputs": [
    {
     "name": "stdout",
     "output_type": "stream",
     "text": [
      "[1, 2, 3, 4, 5, 6] [1, 2, 3, 4, 5]\n",
      "96044648 96044480\n",
      "91671752 91659080\n"
     ]
    }
   ],
   "source": [
    "import copy\n",
    "\n",
    "class MyTry:\n",
    "    def __init__(self):\n",
    "        self.lst = [1,2,3,4,5]\n",
    "\n",
    "a = MyTry()\n",
    "dup = copy.deepcopy(a) \n",
    "a.lst.append(6)\n",
    "print(a.lst, dup.lst)\n",
    "print(id(a), id(dup))\n",
    "print(id(a.lst), id(dup.lst))"
   ]
  },
  {
   "cell_type": "code",
   "execution_count": 2,
   "metadata": {},
   "outputs": [
    {
     "name": "stdout",
     "output_type": "stream",
     "text": [
      "91687432 91687112\n"
     ]
    }
   ],
   "source": [
    "lst = [1,2,3,4,5]\n",
    "dup_lst = copy.deepcopy(lst)\n",
    "print(id(lst), id(dup_lst))"
   ]
  },
  {
   "cell_type": "code",
   "execution_count": 3,
   "metadata": {},
   "outputs": [
    {
     "name": "stdout",
     "output_type": "stream",
     "text": [
      "[1, 2, 3, 4, [5], 6] [1, 2, 3, 4, [5]]\n",
      "96045264 96045208\n",
      "91686536 91683336\n"
     ]
    }
   ],
   "source": [
    "import copy\n",
    "\n",
    "class MyTry:\n",
    "    def __init__(self):\n",
    "        self.lst = [1,2,3,4,[5]]\n",
    "\n",
    "a = MyTry()\n",
    "dup = copy.deepcopy(a) \n",
    "a.lst.append(6)\n",
    "print(a.lst, dup.lst)\n",
    "print(id(a), id(dup))\n",
    "print(id(a.lst), id(dup.lst))"
   ]
  },
  {
   "cell_type": "markdown",
   "metadata": {},
   "source": [
    "## Customizing Copy Behavior"
   ]
  },
  {
   "cell_type": "markdown",
   "metadata": {},
   "source": [
    "It is possible to control how copies are made using the __copy__() and __deepcopy__() special methods.\n",
    "\n",
    "- __copy__() is called without any arguments and should return a shallow copy of the object.\n",
    "- __deepcopy__() is called with a memo dictionary and should return a deep copy of the object. Any member attributes that need to be deep-copied should be passed to copy.deepcopy(), along with the memo dictionary, to control for recursion. (The memo dictionary is explained in more detail later.)"
   ]
  }
 ],
 "metadata": {
  "kernelspec": {
   "display_name": "Python 3",
   "language": "python",
   "name": "python3"
  },
  "language_info": {
   "codemirror_mode": {
    "name": "ipython",
    "version": 3
   },
   "file_extension": ".py",
   "mimetype": "text/x-python",
   "name": "python",
   "nbconvert_exporter": "python",
   "pygments_lexer": "ipython3",
   "version": "3.6.4"
  }
 },
 "nbformat": 4,
 "nbformat_minor": 2
}
