{
 "cells": [
  {
   "cell_type": "markdown",
   "metadata": {},
   "source": [
    "# Misc Advance Topics\n",
    "----"
   ]
  },
  {
   "cell_type": "code",
   "execution_count": 11,
   "metadata": {},
   "outputs": [
    {
     "name": "stdout",
     "output_type": "stream",
     "text": [
      "([1, 32, 3, 43], [1, 32, 3, 43])\n"
     ]
    }
   ],
   "source": [
    "lst1 = [1, 32, 3, 43]\n",
    "lst2 = lst1\n",
    "print(lst1, lst2)"
   ]
  },
  {
   "cell_type": "code",
   "execution_count": 12,
   "metadata": {},
   "outputs": [
    {
     "name": "stdout",
     "output_type": "stream",
     "text": [
      "([1, 32, 3, 'TEST'], [1, 32, 3, 'TEST'])\n",
      "(140234224279208, 140234224279208)\n"
     ]
    }
   ],
   "source": [
    "lst2[3] = \"TEST\"\n",
    "print(lst1, lst2)\n",
    "print(id(lst1), id(lst2))"
   ]
  },
  {
   "cell_type": "code",
   "execution_count": 13,
   "metadata": {
    "collapsed": true
   },
   "outputs": [],
   "source": [
    "del(lst1)"
   ]
  },
  {
   "cell_type": "code",
   "execution_count": 14,
   "metadata": {},
   "outputs": [
    {
     "name": "stdout",
     "output_type": "stream",
     "text": [
      "140234224279208\n"
     ]
    }
   ],
   "source": [
    "print(id(lst2))"
   ]
  },
  {
   "cell_type": "code",
   "execution_count": 15,
   "metadata": {
    "collapsed": true
   },
   "outputs": [],
   "source": [
    "del(lst2)"
   ]
  },
  {
   "cell_type": "code",
   "execution_count": 16,
   "metadata": {},
   "outputs": [
    {
     "ename": "NameError",
     "evalue": "name 'lst2' is not defined",
     "output_type": "error",
     "traceback": [
      "\u001b[0;31m---------------------------------------------------------------------------\u001b[0m",
      "\u001b[0;31mNameError\u001b[0m                                 Traceback (most recent call last)",
      "\u001b[0;32m<ipython-input-16-59e423e2a79d>\u001b[0m in \u001b[0;36m<module>\u001b[0;34m()\u001b[0m\n\u001b[0;32m----> 1\u001b[0;31m \u001b[0;32mprint\u001b[0m\u001b[0;34m(\u001b[0m\u001b[0mid\u001b[0m\u001b[0;34m(\u001b[0m\u001b[0mlst2\u001b[0m\u001b[0;34m)\u001b[0m\u001b[0;34m)\u001b[0m\u001b[0;34m\u001b[0m\u001b[0m\n\u001b[0m",
      "\u001b[0;31mNameError\u001b[0m: name 'lst2' is not defined"
     ]
    }
   ],
   "source": [
    "print(id(lst2))"
   ]
  },
  {
   "cell_type": "markdown",
   "metadata": {},
   "source": [
    "## Weak Reference: \n",
    "Non-permanent References to Objects"
   ]
  },
  {
   "cell_type": "markdown",
   "metadata": {},
   "source": [
    "### What is Strong reference"
   ]
  },
  {
   "cell_type": "markdown",
   "metadata": {},
   "source": [
    "When memory is referenced by a variable, its called strong reference. What that means is that untill all the strong references are removed from the memory location, it is not removed."
   ]
  },
  {
   "cell_type": "code",
   "execution_count": 5,
   "metadata": {},
   "outputs": [
    {
     "name": "stdout",
     "output_type": "stream",
     "text": [
      "(101, 6399912)\n",
      "(101, 6399912)\n"
     ]
    }
   ],
   "source": [
    "a = 101\n",
    "b = a\n",
    "print(a, id(a))\n",
    "print(b, id(b))"
   ]
  },
  {
   "cell_type": "code",
   "execution_count": 6,
   "metadata": {},
   "outputs": [
    {
     "name": "stdout",
     "output_type": "stream",
     "text": [
      "(101, 6399912)\n"
     ]
    }
   ],
   "source": [
    "del(a)\n",
    "# print(a, id(a))\n",
    "print(b, id(b))"
   ]
  },
  {
   "cell_type": "code",
   "execution_count": 9,
   "metadata": {},
   "outputs": [
    {
     "ename": "NameError",
     "evalue": "name 'b' is not defined",
     "output_type": "error",
     "traceback": [
      "\u001b[0;31m---------------------------------------------------------------------------\u001b[0m",
      "\u001b[0;31mNameError\u001b[0m                                 Traceback (most recent call last)",
      "\u001b[0;32m<ipython-input-9-62186b0eeb0a>\u001b[0m in \u001b[0;36m<module>\u001b[0;34m()\u001b[0m\n\u001b[0;32m----> 1\u001b[0;31m \u001b[0;32mdel\u001b[0m\u001b[0;34m(\u001b[0m\u001b[0mb\u001b[0m\u001b[0;34m)\u001b[0m\u001b[0;34m\u001b[0m\u001b[0m\n\u001b[0m\u001b[1;32m      2\u001b[0m \u001b[0;31m# print(a, id(a))\u001b[0m\u001b[0;34m\u001b[0m\u001b[0;34m\u001b[0m\u001b[0m\n\u001b[1;32m      3\u001b[0m \u001b[0;31m# print(b, id(b))\u001b[0m\u001b[0;34m\u001b[0m\u001b[0;34m\u001b[0m\u001b[0m\n",
      "\u001b[0;31mNameError\u001b[0m: name 'b' is not defined"
     ]
    }
   ],
   "source": [
    "del(b)\n",
    "# print(a, id(a))\n",
    "# print(b, id(b))"
   ]
  },
  {
   "cell_type": "code",
   "execution_count": 30,
   "metadata": {},
   "outputs": [
    {
     "name": "stdout",
     "output_type": "stream",
     "text": [
      "self destruct initiated\n",
      "नमस्ते\n",
      "self destruct initiated\n",
      "नमस्ते\n"
     ]
    }
   ],
   "source": [
    "import sys\n",
    "\n",
    "class MayaHello:\n",
    "    def __init__(self, lang):\n",
    "        self.lang = lang\n",
    "    \n",
    "    def hello(self):\n",
    "        if(self.lang == 'hi'):\n",
    "            return \"नमस्ते\"\n",
    "        elif(self.lang == 'de'):\n",
    "            return \"Hallo\"\n",
    "        else:\n",
    "            return (\"Hello\")\n",
    "    \n",
    "    def __del__(self):\n",
    "        print(\"self destruct initiated\")\n",
    "        del self.lang\n",
    "\n",
    "a = MayaHello('hi')\n",
    "print(a.hello())\n",
    "sys.stdout.flush()\n",
    "b = a \n",
    "print(b.hello()) \n",
    "sys.stdout.flush()"
   ]
  },
  {
   "cell_type": "code",
   "execution_count": 16,
   "metadata": {},
   "outputs": [
    {
     "name": "stdout",
     "output_type": "stream",
     "text": [
      "नमस्ते\n"
     ]
    }
   ],
   "source": [
    "print(a.hello())"
   ]
  },
  {
   "cell_type": "markdown",
   "metadata": {},
   "source": [
    "### What are they"
   ]
  },
  {
   "cell_type": "markdown",
   "metadata": {},
   "source": [
    "Weak references are used to refer to objects which are expensive in nature, but "
   ]
  },
  {
   "cell_type": "markdown",
   "metadata": {},
   "source": [
    "### When to Use \n",
    "As they are refered to an \"expensive\" object, but allow its memory to be reclaimed by the garbage collector if there are no other non-weak references."
   ]
  },
  {
   "cell_type": "markdown",
   "metadata": {},
   "source": [
    "Weak references to objects are managed through the ref class. To retrieve the original object, call the reference object."
   ]
  },
  {
   "cell_type": "markdown",
   "metadata": {},
   "source": [
    "** Reference URL's **\n",
    "- https://stackoverflow.com/questions/2436302/when-to-use-weak-references-in-python\n",
    "- https://stackoverflow.com/questions/1507566/how-and-when-to-appropriately-use-weakref-in-python\n",
    "\n",
    "\n",
    "The typical use for weak references is if A has a reference to B and B has a reference to A. Without a proper cycle-detecting garbage collector, those two objects would never get GC'd even if there are no references to either from the \"outside\". However if one of the references is \"weak\", the objects will get properly GC'd.\n",
    "\n",
    "However, Python does have a cycle-detecting garbage collector (since 2.0!), so that doesn't count :)\n",
    "\n",
    "Another use for weak references is for caches. It's mentioned in the weakref documentation:\n",
    "\n",
    "A primary use for weak references is to implement caches or mappings holding large objects, where it’s desired that a large object not be kept alive solely because it appears in a cache or mapping.\n",
    "If the GC decides to destroy one of those objects, and you need it, you can just recalculate / refetch the data."
   ]
  },
  {
   "cell_type": "markdown",
   "metadata": {},
   "source": [
    "As a more transparent alternative to weakref.ref, we can use weakref.proxy. This call requires a strong reference to an object as its first argument and returns a weak reference proxy. The proxy behaves just like a strong reference, but throws an exception when used after the target is dead:"
   ]
  },
  {
   "cell_type": "code",
   "execution_count": 53,
   "metadata": {},
   "outputs": [
    {
     "name": "stdout",
     "output_type": "stream",
     "text": [
      "(Deleting <__main__.ExpensiveObject instance at 0x7f40e6ffa1b8>)\n",
      "('ref proxy:', <weakproxy at 0x7f40e6f79310 to NoneType at 0x7f41010c3e40>)\n"
     ]
    }
   ],
   "source": [
    "obj = ExpensiveObject()\n",
    "b = weakref.proxy(obj)\n",
    "del(obj)\n",
    "# print('obj:', obj)\n",
    "print('ref proxy:', b) # Pointing to None Type"
   ]
  },
  {
   "cell_type": "markdown",
   "metadata": {},
   "source": [
    "### Reference Callbacks\n",
    "\n",
    "The ref constructor accepts an optional callback function that is invoked when the referenced object is deleted.\n",
    "\n"
   ]
  },
  {
   "cell_type": "code",
   "execution_count": 17,
   "metadata": {},
   "outputs": [
    {
     "name": "stdout",
     "output_type": "stream",
     "text": [
      "('obj:', <__main__.ExpensiveObject instance at 0x7f8ac835a488>)\n",
      "('ref:', <weakref at 0x7f8ac83567e0; to 'instance' at 0x7f8ac835a488>)\n",
      "('r():', <__main__.ExpensiveObject instance at 0x7f8ac835a488>)\n",
      "deleting obj\n",
      "callback(<weakref at 0x7f8ac83567e0; dead>)\n",
      "(Deleting <__main__.ExpensiveObject instance at 0x7f8ac835a488>)\n",
      "('r():', None)\n"
     ]
    }
   ],
   "source": [
    "import weakref\n",
    "\n",
    "\n",
    "class ExpensiveObject:\n",
    "\n",
    "    def __del__(self):\n",
    "        print('(Deleting {})'.format(self))\n",
    "\n",
    "\n",
    "def callback(reference):\n",
    "    \"\"\"Invoked when referenced object is deleted\"\"\"\n",
    "    print('callback({!r})'.format(reference))\n",
    "\n",
    "\n",
    "obj = ExpensiveObject()\n",
    "r = weakref.ref(obj, callback)\n",
    "\n",
    "print('obj:', obj)\n",
    "print('ref:', r)\n",
    "print('r():', r())\n",
    "\n",
    "print('deleting obj')\n",
    "del obj\n",
    "print('r():', r())"
   ]
  },
  {
   "cell_type": "markdown",
   "metadata": {},
   "source": [
    "References:\n",
    "    - https://mindtrove.info/python-weak-references/"
   ]
  }
 ],
 "metadata": {
  "kernelspec": {
   "display_name": "Python 3",
   "language": "python",
   "name": "python3"
  },
  "language_info": {
   "codemirror_mode": {
    "name": "ipython",
    "version": 2
   },
   "file_extension": ".py",
   "mimetype": "text/x-python",
   "name": "python",
   "nbconvert_exporter": "python",
   "pygments_lexer": "ipython2",
   "version": "2.7.12"
  }
 },
 "nbformat": 4,
 "nbformat_minor": 2
}
