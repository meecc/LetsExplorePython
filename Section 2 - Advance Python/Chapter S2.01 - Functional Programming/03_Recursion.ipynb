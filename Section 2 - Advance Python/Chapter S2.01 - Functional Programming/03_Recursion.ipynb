{
 "cells": [
  {
   "cell_type": "markdown",
   "metadata": {},
   "source": [
    "## Recursion"
   ]
  },
  {
   "cell_type": "markdown",
   "metadata": {},
   "source": [
    "In Functional programming iteration such as `while` or `for` statements are avoided. Also it does not have the provision of state-updates. \n",
    "In FP recursion is used to overcome iterations, since any iterative code can be converted to recursive code as shown in the below examples."
   ]
  },
  {
   "cell_type": "code",
   "execution_count": 1,
   "metadata": {},
   "outputs": [
    {
     "name": "stdout",
     "output_type": "stream",
     "text": [
      "1 => 1\n",
      "2 => 2\n",
      "3 => 3\n",
      "4 => 5\n",
      "5 => 8\n"
     ]
    }
   ],
   "source": [
    "# Original code\n",
    "def fib(n):\n",
    "    \n",
    "    # the first two values\n",
    "    l = [1, 1]\n",
    "    \n",
    "    # Calculating the others\n",
    "    for i in range(2, n + 1):\n",
    "        l.append(l[i -1] + l[i - 2])\n",
    "        \n",
    "    return l[n]\n",
    "\n",
    "# Show Fibonacci from 1 to 5\n",
    "for i in [1, 2, 3, 4, 5]:\n",
    "    print (i, '=>', fib(i))"
   ]
  },
  {
   "cell_type": "code",
   "execution_count": 5,
   "metadata": {},
   "outputs": [
    {
     "name": "stdout",
     "output_type": "stream",
     "text": [
      "1 => 1\n",
      "2 => 2\n",
      "3 => 3\n",
      "4 => 5\n",
      "5 => 8\n"
     ]
    }
   ],
   "source": [
    "# Updated code: Fist irreration\n",
    "def fib(n):\n",
    "    if n > 1:\n",
    "        return fib(n - 1) + fib(n - 2)\n",
    "    else:\n",
    "        return 1\n",
    "\n",
    "# Show Fibonacci from 1 to 5\n",
    "for i in range(1,6):\n",
    "    print (i, '=>', fib(i))"
   ]
  },
  {
   "cell_type": "code",
   "execution_count": null,
   "metadata": {},
   "outputs": [],
   "source": [
    "# Updated code: Fist irreration\n",
    "def fib(n):\n",
    "    if n > 1:\n",
    "        return fib(n - 1) + fib(n - 2)\n",
    "    else:\n",
    "        return 1\n",
    "\n",
    "# Show Fibonacci from 1 to 5\n",
    "for i in range(1,6):\n",
    "    print (i, '=>', fib(i))"
   ]
  },
  {
   "cell_type": "markdown",
   "metadata": {},
   "source": [
    "or, using `lambda`"
   ]
  },
  {
   "cell_type": "code",
   "execution_count": 4,
   "metadata": {
    "scrolled": true
   },
   "outputs": [
    {
     "name": "stdout",
     "output_type": "stream",
     "text": [
      "55\n"
     ]
    }
   ],
   "source": [
    "fibonacci = (lambda x, x_1=1, x_2=0:\n",
    "         x_2 if x == 0\n",
    "         else fibonacci(x - 1, x_1 + x_2, x_1))\n",
    "\n",
    "print(fibonacci(10))"
   ]
  }
 ],
 "metadata": {
  "kernelspec": {
   "display_name": "Python 3",
   "language": "python",
   "name": "python3"
  },
  "language_info": {
   "codemirror_mode": {
    "name": "ipython",
    "version": 3
   },
   "file_extension": ".py",
   "mimetype": "text/x-python",
   "name": "python",
   "nbconvert_exporter": "python",
   "pygments_lexer": "ipython3",
   "version": "3.6.1"
  }
 },
 "nbformat": 4,
 "nbformat_minor": 2
}
