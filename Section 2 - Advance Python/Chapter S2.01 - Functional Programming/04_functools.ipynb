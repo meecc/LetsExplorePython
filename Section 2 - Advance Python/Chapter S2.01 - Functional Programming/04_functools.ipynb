{
 "cells": [
  {
   "cell_type": "markdown",
   "metadata": {},
   "source": [
    "# `functools`"
   ]
  },
  {
   "cell_type": "markdown",
   "metadata": {},
   "source": [
    "The `functools` module is for higher-order functions: functions that act on or return other functions. In general, any callable object can be treated as a function for the purposes of this module.\n",
    "\n",
    "Common functions in functools are as follows\n",
    "\n",
    "* lru_cache\n",
    "* partial\n",
    "* reduce"
   ]
  },
  {
   "cell_type": "markdown",
   "metadata": {},
   "source": [
    "## `lru_cache`"
   ]
  },
  {
   "cell_type": "markdown",
   "metadata": {},
   "source": [
    "It is a decorator which provides caching of the functions as shown below."
   ]
  },
  {
   "cell_type": "markdown",
   "metadata": {},
   "source": [
    "**Syntax**\n",
    "```python\n",
    "functools.lru_cache(maxsize=64, typed=False)\n",
    "```"
   ]
  },
  {
   "cell_type": "markdown",
   "metadata": {},
   "source": [
    "**Example:**"
   ]
  },
  {
   "cell_type": "code",
   "execution_count": 12,
   "metadata": {},
   "outputs": [],
   "source": [
    "from functools import lru_cache\n",
    "\n",
    "@lru_cache(maxsize=128)\n",
    "def fibonacci(n):\n",
    "    if n < 2:\n",
    "        return n\n",
    "    else:\n",
    "        return fibonacci(n - 1) + fibonacci(n - 2)"
   ]
  },
  {
   "cell_type": "code",
   "execution_count": 13,
   "metadata": {},
   "outputs": [
    {
     "name": "stdout",
     "output_type": "stream",
     "text": [
      "89\n"
     ]
    }
   ],
   "source": [
    "print(fibonacci(11))"
   ]
  },
  {
   "cell_type": "code",
   "execution_count": 14,
   "metadata": {},
   "outputs": [
    {
     "name": "stdout",
     "output_type": "stream",
     "text": [
      "1.97 µs ± 24 ns per loop (mean ± std. dev. of 7 runs, 100000 loops each)\n"
     ]
    }
   ],
   "source": [
    "%%timeit\n",
    "\n",
    "for i in range(10):\n",
    "    fibonacci(i)"
   ]
  },
  {
   "cell_type": "markdown",
   "metadata": {},
   "source": [
    "Same function call without caching "
   ]
  },
  {
   "cell_type": "code",
   "execution_count": 15,
   "metadata": {},
   "outputs": [],
   "source": [
    "def fibonacci_x(n):\n",
    "    if n < 2:\n",
    "        return n\n",
    "    else:\n",
    "        return fibonacci_x(n - 1) + fibonacci_x(n - 2)"
   ]
  },
  {
   "cell_type": "code",
   "execution_count": 16,
   "metadata": {},
   "outputs": [
    {
     "name": "stdout",
     "output_type": "stream",
     "text": [
      "51.6 µs ± 1.5 µs per loop (mean ± std. dev. of 7 runs, 10000 loops each)\n"
     ]
    }
   ],
   "source": [
    "%%timeit\n",
    "\n",
    "for i in range(10):\n",
    "    fibonacci_x(i)"
   ]
  },
  {
   "cell_type": "markdown",
   "metadata": {},
   "source": [
    "As a dictionary is used to cache results thus the function arguments must be hashable. Thus below code will always fail.\n",
    "- **What is hashable**: All of Python’s immutable built-in objects are hashable, while no mutable containers (such as lists or dictionaries) are. Objects which are instances of user-defined classes are hashable by default; they all compare unequal, and their hash value is their id()"
   ]
  },
  {
   "cell_type": "markdown",
   "metadata": {},
   "source": [
    "```python\n",
    "@lru_cache(maxsize=128)\n",
    "def set_list(lst, no):\n",
    "    lst.append(no)\n",
    "    return lst\n",
    "\n",
    "lst = [1]\n",
    "lst = set_list(lst, 1)\n",
    "lst = set_list(lst, 1)\n",
    "print(lst)\n",
    "```"
   ]
  },
  {
   "cell_type": "markdown",
   "metadata": {},
   "source": [
    "**Output:**\n",
    "\n",
    "```python\n",
    "---------------------------------------------------------------------------\n",
    "TypeError                                 Traceback (most recent call last)\n",
    "<ipython-input-10-bfa4246327b8> in <module>()\n",
    "      5 \n",
    "      6 lst = [1]\n",
    "----> 7 lst = set_list(lst, 1)\n",
    "      8 lst = set_list(lst, 1)\n",
    "      9 print(lst)\n",
    "\n",
    "TypeError: unhashable type: 'list'\n",
    "\n",
    "```\n"
   ]
  },
  {
   "cell_type": "markdown",
   "metadata": {},
   "source": [
    "> <center>**!! NOTE !!**</center> \n",
    "> - If maxsize is set to None, the LRU feature is disabled and the cache can grow without bound. The LRU feature performs best when maxsize is a power-of-two.\n",
    "> - If typed is set to true, function arguments of different types will be cached separately. For example, f(3) and f(3.0) will be treated as distinct calls with distinct results."
   ]
  },
  {
   "cell_type": "markdown",
   "metadata": {},
   "source": [
    "### When NOT to use"
   ]
  },
  {
   "cell_type": "markdown",
   "metadata": {},
   "source": [
    "- When function is not pure function\n",
    "- Your function will only run once and its not recursive in nature "
   ]
  },
  {
   "cell_type": "markdown",
   "metadata": {},
   "source": [
    "### `cache_clear()` & `cache_info()`"
   ]
  },
  {
   "cell_type": "markdown",
   "metadata": {},
   "source": [
    "It can be used to clear the cache of your function and `cache_info` provides the info of the cache"
   ]
  },
  {
   "cell_type": "code",
   "execution_count": 23,
   "metadata": {},
   "outputs": [
    {
     "data": {
      "text/plain": [
       "CacheInfo(hits=0, misses=0, maxsize=128, currsize=0)"
      ]
     },
     "execution_count": 23,
     "metadata": {},
     "output_type": "execute_result"
    }
   ],
   "source": [
    "fibonacci.cache_info()"
   ]
  },
  {
   "cell_type": "code",
   "execution_count": 24,
   "metadata": {},
   "outputs": [],
   "source": [
    "from functools import lru_cache\n",
    "fibonacci.cache_clear()"
   ]
  },
  {
   "cell_type": "code",
   "execution_count": 26,
   "metadata": {},
   "outputs": [
    {
     "data": {
      "text/plain": [
       "CacheInfo(hits=0, misses=0, maxsize=128, currsize=0)"
      ]
     },
     "execution_count": 26,
     "metadata": {},
     "output_type": "execute_result"
    }
   ],
   "source": [
    "fibonacci.cache_info()"
   ]
  },
  {
   "cell_type": "markdown",
   "metadata": {},
   "source": [
    "## `total_ordering`"
   ]
  },
  {
   "cell_type": "markdown",
   "metadata": {},
   "source": [
    "In python 3.x, class function `__cmp__` is no longer entertained, thus developers have to create all the \"rich comparison” methods, such as, `__eq__()`, `__lt__()`, `__le__()`, `__gt__()`, or `__ge__()`, where \n",
    "- `__eq__()`: Function to evaluate the object is equal to other instance\n",
    "- `__lt__()`: Function to evaluate the object is less than other instance \n",
    "- `__le__()`: Function to evaluate the object is less or equal to other instance\n",
    "- `__gt__()`: Function to evaluate the object is greater than other instance\n",
    "- `__ge__()`: Function to evaluate the object is greater than or equal to other instance\n",
    "- `__ne__()`: Function to evaluate the object is not equal to other instance"
   ]
  },
  {
   "cell_type": "markdown",
   "metadata": {},
   "source": [
    "`total_ordering` class decorator helps in supplying other \"rich comparision\" methods, if one of the `__lt__()`, `__le__()`, `__gt__()`, or `__ge__()` method in addition of `__eq__()` is defined, then python compiler will provide the others as shown in the below example."
   ]
  },
  {
   "cell_type": "code",
   "execution_count": 18,
   "metadata": {},
   "outputs": [],
   "source": []
  },
  {
   "cell_type": "code",
   "execution_count": 30,
   "metadata": {},
   "outputs": [],
   "source": [
    "from functools import total_ordering\n",
    "\n",
    "@total_ordering\n",
    "class Mangos(object):\n",
    "    def __init__(self, code_num):\n",
    "        self.code_num = code_num\n",
    "    \n",
    "    def __eq__(self, other):\n",
    "        return self.code_num == other.code_num\n",
    "    \n",
    "    def __lt__(self, other):\n",
    "        return other.code_num > self.code_num\n",
    "    \n",
    "a = Mangos(3)\n",
    "b = Mangos(3)\n",
    "c = Mangos(2)\n",
    "d = Mangos(5)"
   ]
  },
  {
   "cell_type": "code",
   "execution_count": 10,
   "metadata": {},
   "outputs": [
    {
     "name": "stdout",
     "output_type": "stream",
     "text": [
      "True\n",
      "True\n",
      "True\n"
     ]
    }
   ],
   "source": [
    "print(\"~^\"*3, \"equal to\")\n",
    "print(a == b)\n",
    "print(a == c)\n",
    "print(a == d)"
   ]
  },
  {
   "cell_type": "code",
   "execution_count": 46,
   "metadata": {},
   "outputs": [
    {
     "name": "stdout",
     "output_type": "stream",
     "text": [
      "~^~^~^ not equal to\n",
      "False\n",
      "True\n",
      "True\n"
     ]
    }
   ],
   "source": [
    "print(\"~^\"*3, \"not equal to\")\n",
    "print(a != b)\n",
    "print(a != c)\n",
    "print(a != d)"
   ]
  },
  {
   "cell_type": "code",
   "execution_count": 44,
   "metadata": {},
   "outputs": [
    {
     "name": "stdout",
     "output_type": "stream",
     "text": [
      "~^~^~^ greater than\n",
      "False\n",
      "True\n",
      "False\n",
      "~^~^~^ greater than or equal to\n",
      "True\n",
      "True\n",
      "False\n"
     ]
    }
   ],
   "source": [
    "print(\"~^\"*3, \"greater than\")\n",
    "print(a > b)\n",
    "print(a > c)\n",
    "print(a > d)\n",
    "print(\"~^\"*3, \"greater than or equal to\")\n",
    "print(a >= b)\n",
    "print(a >= c)\n",
    "print(a >= d)"
   ]
  },
  {
   "cell_type": "code",
   "execution_count": 43,
   "metadata": {},
   "outputs": [
    {
     "name": "stdout",
     "output_type": "stream",
     "text": [
      "~^~^~^ Less than\n",
      "False\n",
      "False\n",
      "True\n",
      "~^~^~^ Less than or equal to\n",
      "True\n",
      "False\n",
      "True\n"
     ]
    }
   ],
   "source": [
    "print(\"~^\"*3, \"Less than\")\n",
    "print(a < b)\n",
    "print(a < c)\n",
    "print(a < d)\n",
    "print(\"~^\"*3, \"Less than or equal to\")\n",
    "print(a <= b)\n",
    "print(a <= c)\n",
    "print(a <= d)"
   ]
  },
  {
   "cell_type": "code",
   "execution_count": null,
   "metadata": {},
   "outputs": [],
   "source": []
  },
  {
   "cell_type": "markdown",
   "metadata": {},
   "source": [
    "## partial"
   ]
  },
  {
   "cell_type": "markdown",
   "metadata": {},
   "source": [
    "`functools.partial` does the follows:\n",
    "\n",
    "* Makes a new version of a function with one or more arguments already filled in.\n",
    "* New version of a function documents itself."
   ]
  },
  {
   "cell_type": "code",
   "execution_count": 47,
   "metadata": {
    "collapsed": true
   },
   "outputs": [],
   "source": [
    "def power(base, exponent):\n",
    "    return base ** exponent"
   ]
  },
  {
   "cell_type": "code",
   "execution_count": 48,
   "metadata": {
    "collapsed": true
   },
   "outputs": [],
   "source": [
    "def square(base):\n",
    "    return power(base, 2)\n",
    "\n",
    "def cube(base):\n",
    "    return power(base, 3)"
   ]
  },
  {
   "cell_type": "markdown",
   "metadata": {},
   "source": [
    "Now lets see the magic of partial"
   ]
  },
  {
   "cell_type": "code",
   "execution_count": 68,
   "metadata": {},
   "outputs": [
    {
     "name": "stdout",
     "output_type": "stream",
     "text": [
      "4\n",
      "8\n",
      "16\n",
      "512\n"
     ]
    }
   ],
   "source": [
    "from functools import partial\n",
    "\n",
    "square = partial(power, exponent=2)\n",
    "cube = partial(power, exponent=3)\n",
    "\n",
    "print(square(2))\n",
    "print(cube(2))\n",
    "\n",
    "print(square(2, exponent=4))\n",
    "print(cube(2, exponent=9))"
   ]
  },
  {
   "cell_type": "code",
   "execution_count": 73,
   "metadata": {},
   "outputs": [
    {
     "name": "stdout",
     "output_type": "stream",
     "text": [
      "8\n",
      "12\n"
     ]
    }
   ],
   "source": [
    "from functools import partial\n",
    "\n",
    "def multiply(x,y):\n",
    "        return x * y\n",
    "\n",
    "# create a new function that multiplies by 2\n",
    "db2 = partial(multiply,2)\n",
    "print(db2(4))\n",
    "db4 = partial(multiply, 4)\n",
    "print(db4(3))"
   ]
  },
  {
   "cell_type": "code",
   "execution_count": 47,
   "metadata": {},
   "outputs": [
    {
     "name": "stdout",
     "output_type": "stream",
     "text": [
      "3\n",
      "40\n"
     ]
    }
   ],
   "source": [
    "from functools import partial\n",
    " \n",
    "#----------------------------------------------------------------------\n",
    "def add(x, y):\n",
    "    \"\"\"\"\"\"\n",
    "    return x + y\n",
    " \n",
    "#----------------------------------------------------------------------\n",
    "def multiply(x, y):\n",
    "    \"\"\"\"\"\"\n",
    "    return x * y\n",
    " \n",
    "#----------------------------------------------------------------------\n",
    "def run(func):\n",
    "    \"\"\"\"\"\"\n",
    "    print (func())\n",
    " \n",
    "#----------------------------------------------------------------------\n",
    "def main():\n",
    "    \"\"\"\"\"\"\n",
    "    a1 = partial(add, 1, 2)\n",
    "    m1 = partial(multiply, 5, 8)\n",
    "    run(a1)\n",
    "    run(m1)\n",
    " \n",
    "if __name__ == \"__main__\":\n",
    "    main()"
   ]
  },
  {
   "cell_type": "markdown",
   "metadata": {},
   "source": [
    "```python\n",
    "# Reading a very large text file.\n",
    "CHUNK_SIZE = 2048\n",
    "with open('files/a_vedic_reader_for_students.txt') as f:\n",
    "    for chunk in iter(partial(f.read, CHUNK_SIZE), ''):\n",
    "        print(chunk)\n",
    "```"
   ]
  },
  {
   "cell_type": "markdown",
   "metadata": {},
   "source": [
    "## `wraps`"
   ]
  },
  {
   "cell_type": "markdown",
   "metadata": {},
   "source": [
    "## TODO ##"
   ]
  },
  {
   "cell_type": "code",
   "execution_count": null,
   "metadata": {},
   "outputs": [],
   "source": []
  },
  {
   "cell_type": "code",
   "execution_count": null,
   "metadata": {},
   "outputs": [],
   "source": []
  },
  {
   "cell_type": "code",
   "execution_count": 101,
   "metadata": {},
   "outputs": [
    {
     "name": "stdout",
     "output_type": "stream",
     "text": [
      "wrapper\n",
      "\n",
      "        A wrapping function\n",
      "        \n",
      "The result of 1+1 is 2\n"
     ]
    }
   ],
   "source": [
    "def another_function(func):\n",
    "    \"\"\"\n",
    "    A function that accepts another function\n",
    "    \"\"\"\n",
    " \n",
    "    def wrapper():\n",
    "        \"\"\"\n",
    "        A wrapping function\n",
    "        \"\"\"\n",
    "        val = \"The result of %s is %s\" % (func(),\n",
    "                                          eval(func())\n",
    "                                          )\n",
    "        return val\n",
    "    return wrapper\n",
    " \n",
    "#----------------------------------------------------------------------\n",
    "@another_function\n",
    "def a_function():\n",
    "    \"\"\"A pretty useless function\"\"\"\n",
    "    return \"1+1\"\n",
    " \n",
    "#----------------------------------------------------------------------\n",
    "if __name__ == \"__main__\":\n",
    "    print (a_function.__name__)\n",
    "    print (a_function.__doc__)\n",
    "    print(a_function())"
   ]
  },
  {
   "cell_type": "code",
   "execution_count": 81,
   "metadata": {},
   "outputs": [
    {
     "name": "stdout",
     "output_type": "stream",
     "text": [
      "a_function\n",
      "A pretty useless function\n",
      "The result of 1+1 is 2\n"
     ]
    }
   ],
   "source": [
    "from functools import wraps\n",
    " \n",
    "#----------------------------------------------------------------------\n",
    "def another_function(func):\n",
    "    \"\"\"\n",
    "    A function that accepts another function\n",
    "    \"\"\"\n",
    " \n",
    "    @wraps(func)\n",
    "    def wrapper():\n",
    "        \"\"\"\n",
    "        A wrapping function\n",
    "        \"\"\"\n",
    "        val = \"The result of %s is %s\" % (func(),\n",
    "                                          eval(func())\n",
    "                                          )\n",
    "        return val\n",
    "    return wrapper\n",
    " \n",
    "#----------------------------------------------------------------------\n",
    "@another_function\n",
    "def a_function():\n",
    "    \"\"\"A pretty useless function\"\"\"\n",
    "    return \"1+1\"\n",
    " \n",
    "#----------------------------------------------------------------------\n",
    "if __name__ == \"__main__\":\n",
    "    #a_function()\n",
    "    print (a_function.__name__)\n",
    "    print (a_function.__doc__)\n",
    "    print(a_function())"
   ]
  },
  {
   "cell_type": "markdown",
   "metadata": {},
   "source": [
    "Here we import wraps from the functools module and use it as a decorator for the nested wrapper function inside of another_function to map the __name__ and __doc__ to the wrapper function"
   ]
  },
  {
   "cell_type": "markdown",
   "metadata": {},
   "source": [
    "### update_wrapper\n",
    "\n",
    "The partial object does not have __name__ or __doc__ attributes by default, and without those attributes decorated functions are more difficult to debug. Using update_wrapper(), copies or adds attributes from the original function to the partial object."
   ]
  },
  {
   "cell_type": "code",
   "execution_count": 1,
   "metadata": {},
   "outputs": [
    {
     "name": "stdout",
     "output_type": "stream",
     "text": [
      "myfunc1:\n",
      "\tobject: <function myfunc1 at 0x7f4dc83b4ea0>\n",
      "\t__name__:\n",
      "myfunc1\n",
      "\t__doc__ None\n",
      "~~~~~~~~~~~~~~~~~~~~\n",
      "myfunc:\n",
      "\tobject: <function myfunc at 0x7f4dcffedbf8>\n",
      "\t__name__:\n",
      "myfunc\n",
      "\t__doc__ 'Docstring for myfunc().'\n",
      "++++++++++++++++++++\n",
      "raw wrapper:\n",
      "\tobject: functools.partial(<function myfunc at 0x7f4dcffedbf8>, b=4)\n",
      "\t__name__:\n",
      "(no __name__)\n",
      "\t__doc__ 'partial(func, *args, **keywords) - new function with partial application\\n    of the given arguments and keywords.\\n'\n",
      "^^^^^^^^^^^^^^^^^^^^\n",
      "Updating wrapper:\n",
      "\tassign: ('__module__', '__name__', '__qualname__', '__doc__', '__annotations__')\n",
      "\tupdate: ('__dict__',)\n",
      "********************\n",
      "updated wrapper:\n",
      "\tobject: functools.partial(<function myfunc at 0x7f4dcffedbf8>, b=4)\n",
      "\t__name__:\n",
      "myfunc\n",
      "\t__doc__ 'Docstring for myfunc().'\n"
     ]
    }
   ],
   "source": [
    "import functools\n",
    "\n",
    "\n",
    "def myfunc1(a, b=2):\n",
    "    print ('\\tcalled myfunc1 with:', (a, b))\n",
    "    return\n",
    "\n",
    "def myfunc(a, b=2):\n",
    "    \"\"\"Docstring for myfunc().\"\"\"\n",
    "    print ('\\tcalled myfunc with:', (a, b))\n",
    "    return\n",
    "\n",
    "def show_details(name, f):\n",
    "    \"\"\"Show details of a callable object.\"\"\"\n",
    "    print ('%s:' % name)\n",
    "    print ('\\tobject:', f)\n",
    "    print ('\\t__name__:',) \n",
    "    try:\n",
    "        print (f.__name__)\n",
    "    except AttributeError:\n",
    "        print ('(no __name__)')\n",
    "    print ('\\t__doc__', repr(f.__doc__))\n",
    "    print\n",
    "    return\n",
    "\n",
    "\n",
    "show_details('myfunc1', myfunc1)\n",
    "print(\"~\"*20)\n",
    "show_details('myfunc', myfunc)\n",
    "\n",
    "p1 = functools.partial(myfunc, b=4)\n",
    "print(\"+\"*20)\n",
    "show_details('raw wrapper', p1)\n",
    "print(\"^\"*20)\n",
    "print ('Updating wrapper:')\n",
    "print ('\\tassign:', functools.WRAPPER_ASSIGNMENTS)\n",
    "print ('\\tupdate:', functools.WRAPPER_UPDATES)\n",
    "print(\"*\"*20)\n",
    "\n",
    "functools.update_wrapper(p1, myfunc)\n",
    "show_details('updated wrapper', p1)"
   ]
  }
 ],
 "metadata": {
  "kernelspec": {
   "display_name": "Python 3",
   "language": "python",
   "name": "python3"
  },
  "language_info": {
   "codemirror_mode": {
    "name": "ipython",
    "version": 3
   },
   "file_extension": ".py",
   "mimetype": "text/x-python",
   "name": "python",
   "nbconvert_exporter": "python",
   "pygments_lexer": "ipython3",
   "version": "3.6.1"
  }
 },
 "nbformat": 4,
 "nbformat_minor": 2
}
