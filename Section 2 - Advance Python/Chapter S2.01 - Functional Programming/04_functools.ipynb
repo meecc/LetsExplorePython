{
 "cells": [
  {
   "cell_type": "markdown",
   "metadata": {},
   "source": [
    "# functools"
   ]
  },
  {
   "cell_type": "markdown",
   "metadata": {},
   "source": [
    "The functools module is for higher-order functions: functions that act on or return other functions. In general, any callable object can be treated as a function for the purposes of this module.\n",
    "\n",
    "Common functions in functools are as follows\n",
    "\n",
    "* partial\n",
    "* reduce"
   ]
  },
  {
   "cell_type": "markdown",
   "metadata": {},
   "source": [
    "## partial\n",
    "\n",
    "functools.partial does the follows:\n",
    "\n",
    "* Makes a new version of a function with one or more arguments already filled in.\n",
    "* New version of a function documents itself."
   ]
  },
  {
   "cell_type": "code",
   "execution_count": 47,
   "metadata": {
    "collapsed": true
   },
   "outputs": [],
   "source": [
    "def power(base, exponent):\n",
    "    return base ** exponent"
   ]
  },
  {
   "cell_type": "code",
   "execution_count": 48,
   "metadata": {
    "collapsed": true
   },
   "outputs": [],
   "source": [
    "def square(base):\n",
    "    return power(base, 2)\n",
    "\n",
    "def cube(base):\n",
    "    return power(base, 3)"
   ]
  },
  {
   "cell_type": "markdown",
   "metadata": {},
   "source": [
    "Now lets see the magic of partial"
   ]
  },
  {
   "cell_type": "code",
   "execution_count": 68,
   "metadata": {},
   "outputs": [
    {
     "name": "stdout",
     "output_type": "stream",
     "text": [
      "4\n",
      "8\n",
      "16\n",
      "512\n"
     ]
    }
   ],
   "source": [
    "from functools import partial\n",
    "\n",
    "square = partial(power, exponent=2)\n",
    "cube = partial(power, exponent=3)\n",
    "\n",
    "print(square(2))\n",
    "print(cube(2))\n",
    "\n",
    "print(square(2, exponent=4))\n",
    "print(cube(2, exponent=9))"
   ]
  },
  {
   "cell_type": "code",
   "execution_count": 73,
   "metadata": {},
   "outputs": [
    {
     "name": "stdout",
     "output_type": "stream",
     "text": [
      "8\n",
      "12\n"
     ]
    }
   ],
   "source": [
    "from functools import partial\n",
    "\n",
    "def multiply(x,y):\n",
    "        return x * y\n",
    "\n",
    "# create a new function that multiplies by 2\n",
    "db2 = partial(multiply,2)\n",
    "print(db2(4))\n",
    "db4 = partial(multiply, 4)\n",
    "print(db4(3))"
   ]
  },
  {
   "cell_type": "code",
   "execution_count": 83,
   "metadata": {},
   "outputs": [
    {
     "name": "stdout",
     "output_type": "stream",
     "text": [
      "3\n",
      "40\n"
     ]
    }
   ],
   "source": [
    "from functools import partial\n",
    " \n",
    "#----------------------------------------------------------------------\n",
    "def add(x, y):\n",
    "    \"\"\"\"\"\"\n",
    "    return x + y\n",
    " \n",
    "#----------------------------------------------------------------------\n",
    "def multiply(x, y):\n",
    "    \"\"\"\"\"\"\n",
    "    return x * y\n",
    " \n",
    "#----------------------------------------------------------------------\n",
    "def run(func):\n",
    "    \"\"\"\"\"\"\n",
    "    print (func())\n",
    " \n",
    "#----------------------------------------------------------------------\n",
    "def main():\n",
    "    \"\"\"\"\"\"\n",
    "    a1 = partial(add, 1, 2)\n",
    "    m1 = partial(multiply, 5, 8)\n",
    "    run(a1)\n",
    "    run(m1)\n",
    " \n",
    "if __name__ == \"__main__\":\n",
    "    main()"
   ]
  },
  {
   "cell_type": "code",
   "execution_count": 101,
   "metadata": {},
   "outputs": [
    {
     "name": "stdout",
     "output_type": "stream",
     "text": [
      "wrapper\n",
      "\n",
      "        A wrapping function\n",
      "        \n",
      "The result of 1+1 is 2\n"
     ]
    }
   ],
   "source": [
    "def another_function(func):\n",
    "    \"\"\"\n",
    "    A function that accepts another function\n",
    "    \"\"\"\n",
    " \n",
    "    def wrapper():\n",
    "        \"\"\"\n",
    "        A wrapping function\n",
    "        \"\"\"\n",
    "        val = \"The result of %s is %s\" % (func(),\n",
    "                                          eval(func())\n",
    "                                          )\n",
    "        return val\n",
    "    return wrapper\n",
    " \n",
    "#----------------------------------------------------------------------\n",
    "@another_function\n",
    "def a_function():\n",
    "    \"\"\"A pretty useless function\"\"\"\n",
    "    return \"1+1\"\n",
    " \n",
    "#----------------------------------------------------------------------\n",
    "if __name__ == \"__main__\":\n",
    "    print (a_function.__name__)\n",
    "    print (a_function.__doc__)\n",
    "    print(a_function())"
   ]
  },
  {
   "cell_type": "code",
   "execution_count": 81,
   "metadata": {},
   "outputs": [
    {
     "name": "stdout",
     "output_type": "stream",
     "text": [
      "a_function\n",
      "A pretty useless function\n",
      "The result of 1+1 is 2\n"
     ]
    }
   ],
   "source": [
    "from functools import wraps\n",
    " \n",
    "#----------------------------------------------------------------------\n",
    "def another_function(func):\n",
    "    \"\"\"\n",
    "    A function that accepts another function\n",
    "    \"\"\"\n",
    " \n",
    "    @wraps(func)\n",
    "    def wrapper():\n",
    "        \"\"\"\n",
    "        A wrapping function\n",
    "        \"\"\"\n",
    "        val = \"The result of %s is %s\" % (func(),\n",
    "                                          eval(func())\n",
    "                                          )\n",
    "        return val\n",
    "    return wrapper\n",
    " \n",
    "#----------------------------------------------------------------------\n",
    "@another_function\n",
    "def a_function():\n",
    "    \"\"\"A pretty useless function\"\"\"\n",
    "    return \"1+1\"\n",
    " \n",
    "#----------------------------------------------------------------------\n",
    "if __name__ == \"__main__\":\n",
    "    #a_function()\n",
    "    print (a_function.__name__)\n",
    "    print (a_function.__doc__)\n",
    "    print(a_function())"
   ]
  },
  {
   "cell_type": "markdown",
   "metadata": {},
   "source": [
    "Here we import wraps from the functools module and use it as a decorator for the nested wrapper function inside of another_function to map the __name__ and __doc__ to the wrapper function"
   ]
  },
  {
   "cell_type": "markdown",
   "metadata": {},
   "source": [
    "### update_wrapper\n",
    "\n",
    "The partial object does not have __name__ or __doc__ attributes by default, and without those attributes decorated functions are more difficult to debug. Using update_wrapper(), copies or adds attributes from the original function to the partial object."
   ]
  },
  {
   "cell_type": "code",
   "execution_count": 1,
   "metadata": {},
   "outputs": [
    {
     "name": "stdout",
     "output_type": "stream",
     "text": [
      "myfunc1:\n",
      "\tobject: <function myfunc1 at 0x7f4dc83b4ea0>\n",
      "\t__name__:\n",
      "myfunc1\n",
      "\t__doc__ None\n",
      "~~~~~~~~~~~~~~~~~~~~\n",
      "myfunc:\n",
      "\tobject: <function myfunc at 0x7f4dcffedbf8>\n",
      "\t__name__:\n",
      "myfunc\n",
      "\t__doc__ 'Docstring for myfunc().'\n",
      "++++++++++++++++++++\n",
      "raw wrapper:\n",
      "\tobject: functools.partial(<function myfunc at 0x7f4dcffedbf8>, b=4)\n",
      "\t__name__:\n",
      "(no __name__)\n",
      "\t__doc__ 'partial(func, *args, **keywords) - new function with partial application\\n    of the given arguments and keywords.\\n'\n",
      "^^^^^^^^^^^^^^^^^^^^\n",
      "Updating wrapper:\n",
      "\tassign: ('__module__', '__name__', '__qualname__', '__doc__', '__annotations__')\n",
      "\tupdate: ('__dict__',)\n",
      "********************\n",
      "updated wrapper:\n",
      "\tobject: functools.partial(<function myfunc at 0x7f4dcffedbf8>, b=4)\n",
      "\t__name__:\n",
      "myfunc\n",
      "\t__doc__ 'Docstring for myfunc().'\n"
     ]
    }
   ],
   "source": [
    "import functools\n",
    "\n",
    "\n",
    "def myfunc1(a, b=2):\n",
    "    print ('\\tcalled myfunc1 with:', (a, b))\n",
    "    return\n",
    "\n",
    "def myfunc(a, b=2):\n",
    "    \"\"\"Docstring for myfunc().\"\"\"\n",
    "    print ('\\tcalled myfunc with:', (a, b))\n",
    "    return\n",
    "\n",
    "def show_details(name, f):\n",
    "    \"\"\"Show details of a callable object.\"\"\"\n",
    "    print ('%s:' % name)\n",
    "    print ('\\tobject:', f)\n",
    "    print ('\\t__name__:',) \n",
    "    try:\n",
    "        print (f.__name__)\n",
    "    except AttributeError:\n",
    "        print ('(no __name__)')\n",
    "    print ('\\t__doc__', repr(f.__doc__))\n",
    "    print\n",
    "    return\n",
    "\n",
    "\n",
    "show_details('myfunc1', myfunc1)\n",
    "print(\"~\"*20)\n",
    "show_details('myfunc', myfunc)\n",
    "\n",
    "p1 = functools.partial(myfunc, b=4)\n",
    "print(\"+\"*20)\n",
    "show_details('raw wrapper', p1)\n",
    "print(\"^\"*20)\n",
    "print ('Updating wrapper:')\n",
    "print ('\\tassign:', functools.WRAPPER_ASSIGNMENTS)\n",
    "print ('\\tupdate:', functools.WRAPPER_UPDATES)\n",
    "print(\"*\"*20)\n",
    "\n",
    "functools.update_wrapper(p1, myfunc)\n",
    "show_details('updated wrapper', p1)"
   ]
  }
 ],
 "metadata": {
  "kernelspec": {
   "display_name": "Python 3",
   "language": "python",
   "name": "python3"
  },
  "language_info": {
   "codemirror_mode": {
    "name": "ipython",
    "version": 3
   },
   "file_extension": ".py",
   "mimetype": "text/x-python",
   "name": "python",
   "nbconvert_exporter": "python",
   "pygments_lexer": "ipython3",
   "version": "3.6.1"
  }
 },
 "nbformat": 4,
 "nbformat_minor": 2
}
