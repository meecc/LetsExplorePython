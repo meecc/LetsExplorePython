{
 "cells": [
  {
   "cell_type": "markdown",
   "metadata": {},
   "source": [
    "# Introduction to Programming Paradigms\n",
    "---"
   ]
  },
  {
   "cell_type": "markdown",
   "metadata": {},
   "source": [
    "* **Imperative**: It uses statements that change a program's state. It focuses on describing how a program operates. It is useful in manipulating data structures and produces elegant & simple code.\n",
    "\n",
    "    In computer science, imperative programming is a programming paradigm that uses statements that change a program's state. In much the same way that the imperative mood in natural languages expresses commands, an imperative program consists of commands for the computer to perform. Imperative programming focuses on describing how a program operates.\n",
    "\n",
    "    The term is often used in contrast to **declarative programming**, which focuses on what the program should accomplish without specifying how the program should achieve the result.\n",
    "\n",
    "\n",
    "* **Declarative**: \n",
    "\n",
    "\n",
    "* **Functional**: Every statement in functional programming is treated as mathematical equation. Also `state` or `mutable data` are avoided. Its main advantage are\n",
    "    - that any side effects due to data are avoided,\n",
    "    - good at parallel processing because there is no state, recursion and lambda calculus.\n",
    "\n",
    "\n",
    "* **Object-oriented**: Relies on data fields that are treated as objects and manipulated only through prescribed methods. Python doesn’t fully support this coding form because it can’t implement features such as data hiding. However, this remains a useful coding style for complex applications because it supports encapsulation and polymorphism. This coding style also favors code reuse.\n",
    "\n",
    "\n",
    "* **Procedural**: Tasks are treated as step-by-step iterations where common tasks are placed in functions that are called as needed. This coding style favors iteration, sequencing, selection, and modularization."
   ]
  },
  {
   "cell_type": "markdown",
   "metadata": {},
   "source": [
    "## Examples"
   ]
  },
  {
   "cell_type": "code",
   "execution_count": 7,
   "metadata": {},
   "outputs": [],
   "source": [
    "L = [1, 2, 4 , 6, 5, 7, 3]"
   ]
  },
  {
   "cell_type": "markdown",
   "metadata": {},
   "source": [
    "### Functional"
   ]
  },
  {
   "cell_type": "code",
   "execution_count": 13,
   "metadata": {},
   "outputs": [
    {
     "name": "stdout",
     "output_type": "stream",
     "text": [
      "28\n"
     ]
    }
   ],
   "source": [
    "from functools import reduce \n",
    "\n",
    "\n",
    "def add(x, y):\n",
    "    return x + y\n",
    "\n",
    "sum = reduce(add, L)\n",
    "print(sum)"
   ]
  },
  {
   "cell_type": "markdown",
   "metadata": {},
   "source": [
    "the above example is below implemented using `lambda`"
   ]
  },
  {
   "cell_type": "code",
   "execution_count": 12,
   "metadata": {},
   "outputs": [
    {
     "name": "stdout",
     "output_type": "stream",
     "text": [
      "28\n"
     ]
    }
   ],
   "source": [
    "import functools\n",
    "\n",
    "\n",
    "Sum = functools.reduce(lambda x, y: x + y, L)\n",
    "print(Sum)"
   ]
  },
  {
   "cell_type": "markdown",
   "metadata": {},
   "source": [
    "### Imperative "
   ]
  },
  {
   "cell_type": "code",
   "execution_count": 14,
   "metadata": {},
   "outputs": [
    {
     "name": "stdout",
     "output_type": "stream",
     "text": [
      "28\n"
     ]
    }
   ],
   "source": [
    "sum = 0\n",
    "\n",
    "for x in L:\n",
    "    sum += x\n",
    "\n",
    "print(sum)"
   ]
  },
  {
   "cell_type": "markdown",
   "metadata": {},
   "source": [
    "### Procedural"
   ]
  },
  {
   "cell_type": "code",
   "execution_count": null,
   "metadata": {},
   "outputs": [],
   "source": []
  },
  {
   "cell_type": "markdown",
   "metadata": {},
   "source": [
    "### Object-oriented"
   ]
  },
  {
   "cell_type": "code",
   "execution_count": null,
   "metadata": {},
   "outputs": [],
   "source": []
  },
  {
   "cell_type": "markdown",
   "metadata": {},
   "source": [
    "## Design Patterns"
   ]
  },
  {
   "cell_type": "markdown",
   "metadata": {},
   "source": [
    "### Flyweight pattern"
   ]
  },
  {
   "cell_type": "markdown",
   "metadata": {},
   "source": [
    "In computer programming, flyweight is a software design pattern. A flyweight is an object that minimizes memory usage by sharing as much data as possible with other similar objects; it is a way to use objects in large numbers when a simple repeated representation would use an unacceptable amount of memory. Often some parts of the object state can be shared, and it is common practice to hold them in external data structures and pass them to the objects temporarily when they are used.\n",
    "\n",
    "A classic example usage of the flyweight pattern is the data structures for graphical representation of characters in a word processor. It might be desirable to have, for each character in a document, a glyph object containing its font outline, font metrics, and other formatting data, but this would amount to hundreds or thousands of bytes for each character. Instead, for every character there might be a reference to a flyweight glyph object shared by every instance of the same character in the document; only the position of each character (in the document and/or the page) would need to be stored internally."
   ]
  },
  {
   "cell_type": "markdown",
   "metadata": {},
   "source": [
    "**REFERENCE**: https://en.wikipedia.org/wiki/Flyweight_pattern"
   ]
  },
  {
   "cell_type": "code",
   "execution_count": 2,
   "metadata": {},
   "outputs": [],
   "source": [
    "# Instances of CheeseBrand will be the Flyweights\n",
    "class CheeseBrand(object):\n",
    "    def __init__(self, brand, cost):\n",
    "        self.brand = brand\n",
    "        self.cost = cost\n",
    "        self._immutable = True   # Disables future attributions\n",
    "\n",
    "    def __setattr__(self, name, value):\n",
    "        if getattr(self, '_immutable', False):  # Allow initial attribution\n",
    "            raise RuntimeError('This object is immutable')\n",
    "        else:\n",
    "            super(CheeseBrand, self).__setattr__(name, value)\n",
    "    \n",
    "\n",
    "class CheeseShop(object):\n",
    "    menu = {}  # Shared container to access the Flyweights\n",
    "    \n",
    "    def __init__(self):\n",
    "        self.orders = {}  # per-instance container with private attributes\n",
    "\n",
    "    def stock_cheese(self, brand, cost):\n",
    "        cheese = CheeseBrand(brand, cost)\n",
    "        self.menu[brand] = cheese   # Shared Flyweight\n",
    "\n",
    "    def sell_cheese(self, brand, units):\n",
    "        self.orders.setdefault(brand, 0)\n",
    "        self.orders[brand] += units   # Instance attribute\n",
    "\n",
    "    def total_units_sold(self):\n",
    "        return sum(self.orders.values())\n",
    "    \n",
    "    def total_income(self):\n",
    "        income = 0\n",
    "        for brand, units in self.orders.items():\n",
    "            income += self.menu[brand].cost * units\n",
    "        return income\n",
    "\n",
    "\n",
    "shop1 = CheeseShop()\n",
    "shop2 = CheeseShop()\n",
    "\n",
    "shop1.stock_cheese('white', 1.25)\n",
    "shop1.stock_cheese('blue', 3.75)\n",
    "# Now every CheeseShop have 'white' and 'blue' on the inventory\n",
    "# The SAME 'white' and 'blue' CheeseBrand\n",
    "\n",
    "shop1.sell_cheese('blue', 3)    # Both can sell\n",
    "shop2.sell_cheese('blue', 8)    # But the units sold are stored per-instance\n",
    "\n",
    "assert shop1.total_units_sold() == 3\n",
    "assert shop1.total_income() == 3.75 * 3\n",
    "\n",
    "assert shop2.total_units_sold() == 8\n",
    "assert shop2.total_income() == 3.75 * 8"
   ]
  },
  {
   "cell_type": "markdown",
   "metadata": {},
   "source": [
    "## References"
   ]
  },
  {
   "cell_type": "markdown",
   "metadata": {},
   "source": [
    "- https://en.wikipedia.org/wiki/Imperative_programming\n",
    "- https://en.wikipedia.org/wiki/Programming_paradigm\n",
    "- https://docs.python.org/3/howto/functional.html"
   ]
  }
 ],
 "metadata": {
  "kernelspec": {
   "display_name": "Python 3",
   "language": "python",
   "name": "python3"
  },
  "language_info": {
   "codemirror_mode": {
    "name": "ipython",
    "version": 3
   },
   "file_extension": ".py",
   "mimetype": "text/x-python",
   "name": "python",
   "nbconvert_exporter": "python",
   "pygments_lexer": "ipython3",
   "version": "3.6.4"
  }
 },
 "nbformat": 4,
 "nbformat_minor": 2
}
