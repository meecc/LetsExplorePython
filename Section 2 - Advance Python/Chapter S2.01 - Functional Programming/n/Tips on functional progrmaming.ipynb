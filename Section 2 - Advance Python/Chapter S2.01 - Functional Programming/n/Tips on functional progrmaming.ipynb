{
 "cells": [
  {
   "cell_type": "markdown",
   "metadata": {},
   "source": [
    "# Tips on functional progrmaming\n",
    "---"
   ]
  },
  {
   "cell_type": "markdown",
   "metadata": {},
   "source": [
    "This section contains tips on functional programming and **ZERO theory**. :). \n",
    "\n",
    "**!!! So enjoy !!!**"
   ]
  },
  {
   "cell_type": "code",
   "execution_count": 2,
   "metadata": {},
   "outputs": [
    {
     "name": "stdout",
     "output_type": "stream",
     "text": [
      "True: 20\n",
      "True: 20\n"
     ]
    }
   ],
   "source": [
    "# Original \n",
    "x = 20\n",
    "if(x > 1):\n",
    "    print(\"True:\", x)\n",
    "\n",
    "# eleminating if\n",
    "x  = 20\n",
    "a = (x > 1 and (\"True: \" + str(x)))\n",
    "print(a)"
   ]
  },
  {
   "cell_type": "code",
   "execution_count": 4,
   "metadata": {},
   "outputs": [
    {
     "name": "stdout",
     "output_type": "stream",
     "text": [
      "True: 10\n"
     ]
    }
   ],
   "source": [
    "# Eleminating if else\n",
    "x = 10\n",
    "if (x > 1):\n",
    "    print(\"True:\", x)\n",
    "else:\n",
    "    print(\"False:\", x)"
   ]
  },
  {
   "cell_type": "code",
   "execution_count": 8,
   "metadata": {},
   "outputs": [
    {
     "name": "stdout",
     "output_type": "stream",
     "text": [
      "('False:', '-20')\n",
      "False: -20\n"
     ]
    }
   ],
   "source": [
    "x  = -20\n",
    "a = (x > 1 and (\"True:\", str(x))) or (\"False:\", str(x))\n",
    "print(a)\n",
    "print(\" \".join(a))"
   ]
  },
  {
   "cell_type": "code",
   "execution_count": 9,
   "metadata": {},
   "outputs": [
    {
     "name": "stdout",
     "output_type": "stream",
     "text": [
      "true 20\n"
     ]
    }
   ],
   "source": [
    "x  = 20\n",
    "a = (x > 1 and (\"true \" + str(x))) or (\"false \" + str(x))\n",
    "print(a)"
   ]
  },
  {
   "cell_type": "code",
   "execution_count": 10,
   "metadata": {},
   "outputs": [
    {
     "name": "stdout",
     "output_type": "stream",
     "text": [
      "false -20\n"
     ]
    }
   ],
   "source": [
    "x  = -20\n",
    "a = (x > 1 and (\"true \" + str(x))) or (\"false \" + str(x))\n",
    "print(a)"
   ]
  },
  {
   "cell_type": "code",
   "execution_count": 14,
   "metadata": {},
   "outputs": [
    {
     "name": "stdout",
     "output_type": "stream",
     "text": [
      "400\n"
     ]
    }
   ],
   "source": [
    "x  = -20\n",
    "a = x > 1 and x or x*x\n",
    "print(a)"
   ]
  },
  {
   "cell_type": "code",
   "execution_count": null,
   "metadata": {
    "collapsed": true
   },
   "outputs": [],
   "source": [
    "AND\n",
    "0 0 0 \n",
    "0 1 0\n",
    "1 0 0\n",
    "1 1 1 \n",
    "\n",
    "or\n",
    "0 0 0 \n",
    "0 1 1 \n",
    "1 0 1\n",
    "1 1 1"
   ]
  },
  {
   "cell_type": "code",
   "execution_count": 20,
   "metadata": {},
   "outputs": [
    {
     "name": "stdout",
     "output_type": "stream",
     "text": [
      "False\n",
      "***********\n",
      "False\n"
     ]
    }
   ],
   "source": [
    "x = 0\n",
    "if (x == 0):\n",
    "    print(\"False\")\n",
    "elif (x == 1):\n",
    "    print(\"True\")\n",
    "else:\n",
    "    print(\"Not boolean\")\n",
    "    \n",
    "print(\"*\"*11)\n",
    "\n",
    "a = (x == 0 and \"False\") or ((x == 1 and \"True\") or \"Not Boolean\") \n",
    "print(a)"
   ]
  },
  {
   "cell_type": "code",
   "execution_count": 18,
   "metadata": {},
   "outputs": [
    {
     "name": "stdout",
     "output_type": "stream",
     "text": [
      "True\n",
      "***********\n",
      "True\n"
     ]
    }
   ],
   "source": [
    "# Eleminating if elif else\n",
    "x = 1\n",
    "if (x == 0):\n",
    "    print(\"False\")\n",
    "elif (x == 1):\n",
    "    print(\"True\")\n",
    "else:\n",
    "    print(\"Not boolean\")\n",
    "    \n",
    "print(\"*\"*11)\n",
    "\n",
    "a = (x == 0 and \"False\") or ((x == 1 and \"True\") or \"Not Boolean\") \n",
    "print(a)"
   ]
  },
  {
   "cell_type": "code",
   "execution_count": 21,
   "metadata": {},
   "outputs": [
    {
     "name": "stdout",
     "output_type": "stream",
     "text": [
      "Not boolean\n",
      "***********\n",
      "Not Boolean\n"
     ]
    }
   ],
   "source": [
    "x = 12\n",
    "if (x == 0):\n",
    "    print(\"False\")\n",
    "elif (x == 1):\n",
    "    print(\"True\")\n",
    "else:\n",
    "    print(\"Not boolean\")\n",
    "    \n",
    "print(\"*\"*11)\n",
    "\n",
    "a = (x == 0 and \"False\") or ((x == 1 and \"True\") or \"Not Boolean\") \n",
    "print(a)"
   ]
  },
  {
   "cell_type": "code",
   "execution_count": 12,
   "metadata": {},
   "outputs": [
    {
     "name": "stdout",
     "output_type": "stream",
     "text": [
      "[0, 2, 4, 6, 8, 10, 12, 14, 16, 18, 20, 22, 24, 26, 28, 30, 32, 34, 36, 38]\n",
      "***************************************************************************\n",
      "[0, 2, 4, 6, 8, 10, 12, 14, 16, 18, 20, 22, 24, 26, 28, 30, 32, 34, 36, 38]\n"
     ]
    }
   ],
   "source": [
    "# Eliminating Sequential Statement\n",
    "def double(x):\n",
    "    return(x+x)\n",
    "\n",
    "d = []\n",
    "for x in range(20):\n",
    "    d.append(double(x))\n",
    "print(d)\n",
    "    \n",
    "# Using import map\n",
    "print(\"*\"*75)\n",
    "d = list(map(double, range(20)))\n",
    "print(d)"
   ]
  },
  {
   "cell_type": "code",
   "execution_count": 22,
   "metadata": {},
   "outputs": [
    {
     "name": "stdout",
     "output_type": "stream",
     "text": [
      "[2, 4, 6, 8, 10, 12, 14, 16, 18, 20, 22, 24, 26, 28, 30, 32, 34, 36, 38]\n"
     ]
    }
   ],
   "source": [
    "# Eliminating While Statement\n",
    "def double(x):\n",
    "    return(x+x)\n",
    "x = 1\n",
    "d = []\n",
    "\n",
    "while x < 20:\n",
    "    d.append(double(x))\n",
    "    x = x + 1\n",
    "    \n",
    "print(d)\n",
    "\n",
    "### !!! TODO !!!\n",
    "##  while_FP = lambda: (<cond> and while_block()) or while_FP()"
   ]
  }
 ],
 "metadata": {
  "kernelspec": {
   "display_name": "Python 3",
   "language": "python",
   "name": "python3"
  },
  "language_info": {
   "codemirror_mode": {
    "name": "ipython",
    "version": 3
   },
   "file_extension": ".py",
   "mimetype": "text/x-python",
   "name": "python",
   "nbconvert_exporter": "python",
   "pygments_lexer": "ipython3",
   "version": "3.6.1"
  }
 },
 "nbformat": 4,
 "nbformat_minor": 2
}
