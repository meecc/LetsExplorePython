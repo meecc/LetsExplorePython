{
 "cells": [
  {
   "cell_type": "markdown",
   "metadata": {},
   "source": [
    "## Comprehensions"
   ]
  },
  {
   "cell_type": "markdown",
   "metadata": {},
   "source": [
    "Using comprehensions is often a way both to make code more compact and to shift our focus from the \"how\" to the \"what\". It is an expression that uses the same keywords as loop and conditional blocks, but inverts their order to focus on the data rather than on the procedure. \n",
    "\n",
    "Simply changing the form of expression can often make a surprisingly large difference in how we reason about code and how easy it is to understand. The ternary operator also performs a similar restructuring of our focus, using the same keywords in a different order."
   ]
  },
  {
   "cell_type": "markdown",
   "metadata": {},
   "source": [
    "###  List Comprehensions\n",
    "\n",
    "A way to create a new list from existing list based on defined logic"
   ]
  },
  {
   "cell_type": "markdown",
   "metadata": {},
   "source": [
    "#### Unconditional Compreshensions "
   ]
  },
  {
   "cell_type": "code",
   "execution_count": 2,
   "metadata": {},
   "outputs": [
    {
     "name": "stdout",
     "output_type": "stream",
     "text": [
      "[2, 6, 10, 14, 18, 22]\n"
     ]
    }
   ],
   "source": [
    "# Original\n",
    "doubled_numbers = []\n",
    "for n in range(1,12,2):\n",
    "    doubled_numbers.append(n*2)\n",
    "\n",
    "print(doubled_numbers)"
   ]
  },
  {
   "cell_type": "code",
   "execution_count": 3,
   "metadata": {},
   "outputs": [
    {
     "name": "stdout",
     "output_type": "stream",
     "text": [
      "[2, 6, 10, 14, 18, 22]\n"
     ]
    }
   ],
   "source": [
    "#list compreshensions\n",
    "doubled_numbers = [n * 2 for n in range(1,12,2)] # 1 ,3, 5, 7, 9, 11\n",
    "print(doubled_numbers)"
   ]
  },
  {
   "cell_type": "markdown",
   "metadata": {},
   "source": [
    "#### Conditional Compreshensions "
   ]
  },
  {
   "cell_type": "code",
   "execution_count": null,
   "metadata": {},
   "outputs": [],
   "source": [
    "doubled_odds = []\n",
    "\n",
    "for n in range(1,12):\n",
    "    if n % 2 == 1:\n",
    "        doubled_odds.append(n * 2)\n",
    "print(doubled_odds)"
   ]
  },
  {
   "cell_type": "code",
   "execution_count": null,
   "metadata": {
    "scrolled": true
   },
   "outputs": [],
   "source": [
    "doubled_odds = [n * 2 for n in range(1,12) if n% 2 == 1]\n",
    "\n",
    "print(doubled_odds)"
   ]
  },
  {
   "cell_type": "markdown",
   "metadata": {},
   "source": [
    "** !!!! Tip !!!! ** \n",
    "\n",
    "* Copy the variable assignment for our new empty list (line 3)\n",
    "* Copy the expression that we’ve been append-ing into this new list (line 6)\n",
    "* Copy the for loop line, excluding the final `:` (line 4)\n",
    "* Copy the if statement line, also without the `:` (line 5)\n"
   ]
  },
  {
   "cell_type": "code",
   "execution_count": null,
   "metadata": {},
   "outputs": [],
   "source": [
    "# FROM\n",
    "numbers = range(2,10)\n",
    "\n",
    "doubled_odds = []\n",
    "for n in numbers:\n",
    "    if n % 2 == 1:\n",
    "        doubled_odds.append(n * 2)\n",
    "print(doubled_odds)"
   ]
  },
  {
   "cell_type": "code",
   "execution_count": null,
   "metadata": {},
   "outputs": [],
   "source": [
    "# TO\n",
    "numbers = range(2,10)\n",
    "\n",
    "doubled_odds = [n * 2 for n in numbers if n % 2 == 1]\n"
   ]
  },
  {
   "cell_type": "markdown",
   "metadata": {},
   "source": [
    "#### Nested `if` statements in `for` loop"
   ]
  },
  {
   "cell_type": "code",
   "execution_count": 8,
   "metadata": {},
   "outputs": [
    {
     "name": "stdout",
     "output_type": "stream",
     "text": [
      "['odd', 'even', 'odd', 'even', 'odd', 'even', 'odd', 'even', 'odd', 'even', 'Zero']\n"
     ]
    }
   ],
   "source": [
    "l = [1, 2, 3, 4, 5, 6, 7, 8, 9, 10, 0]\n",
    "\n",
    "lst = []\n",
    "for v in l:\n",
    "    if v == 0 :\n",
    "        lst.append('Zero')\n",
    "    else:\n",
    "        if v % 2 == 0:\n",
    "            lst.append('even')\n",
    "        else:\n",
    "            lst.append('odd')\n",
    "            \n",
    "print(lst)"
   ]
  },
  {
   "cell_type": "code",
   "execution_count": 6,
   "metadata": {},
   "outputs": [
    {
     "name": "stdout",
     "output_type": "stream",
     "text": [
      "['odd', 'even', 'odd', 'even', 'odd', 'even', 'odd', 'even', 'odd', 'even', 'zero']\n"
     ]
    }
   ],
   "source": [
    "lst = [\"zero\" if v == 0 else \"even\" if v%2 == 0 else \"odd\" for v in l]\n",
    "print(lst)"
   ]
  },
  {
   "cell_type": "code",
   "execution_count": 7,
   "metadata": {},
   "outputs": [
    {
     "name": "stdout",
     "output_type": "stream",
     "text": [
      "['yes', 'no', 'idle', 'idle', 'idle', 'idle', 'idle', 'idle', 'idle', 'idle', 'idle']\n"
     ]
    }
   ],
   "source": [
    "print(['yes' if v == 1 else 'no' if v == 2 else 'idle' for v in l])"
   ]
  },
  {
   "cell_type": "code",
   "execution_count": 3,
   "metadata": {},
   "outputs": [
    {
     "name": "stdout",
     "output_type": "stream",
     "text": [
      "[1, 2, 3, 4, 5, 6, 7]\n"
     ]
    }
   ],
   "source": [
    "def flatten_list_new(lst, result=None):\n",
    "    \"\"\"Flattens a nested list\n",
    "        >>> flatten_list([ [1, 2, [3, 4] ], [5, 6], 7])\n",
    "        [1, 2, 3, 4, 5, 6, 7]\n",
    "    \"\"\"\n",
    "    if result is None:\n",
    "        result = []\n",
    "#     else:\n",
    "#     result = [x if not isinstance(x, list) else flatten_list_new(x, list) for x in lst]\n",
    "#     result = [ x  if not isinstance(x, list) else isinstance(x, list) for x in lst ]\n",
    "#     result = [flatten_list_new(x, result) if isinstance(x, list) else x for x in lst ]\n",
    "    for x in lst:\n",
    "        if isinstance(x, list):\n",
    "            flatten_list_new(x, result)\n",
    "        else:\n",
    "            result.append(x)\n",
    "\n",
    "    return result\n",
    "lst = [[1, 2, [3, [4]] ], [5, 6], 7]\n",
    "  \n",
    "print(flatten_list_new(lst))"
   ]
  },
  {
   "cell_type": "code",
   "execution_count": 18,
   "metadata": {},
   "outputs": [
    {
     "name": "stdout",
     "output_type": "stream",
     "text": [
      "[1, 2, 2, 3, 3, 3, 4, 5]\n"
     ]
    }
   ],
   "source": [
    "newlist = []\n",
    "input_list = [1,2, [2,[3]],3,[3,[[4],5]]]\n",
    "\n",
    "def convertHetrogenousList(hetroList):\n",
    "    newlist = []\n",
    "    if type(hetroList) is int:\n",
    "        newlist.append(hetroList)\n",
    "    elif type(hetroList) is list:\n",
    "        for items in hetroList:\n",
    "            newlist.extend(convertHetrogenousList(items))\n",
    "    return newlist\n",
    "\n",
    "newlist = convertHetrogenousList(input_list)\n",
    "print(newlist)"
   ]
  },
  {
   "cell_type": "code",
   "execution_count": 20,
   "metadata": {},
   "outputs": [],
   "source": [
    "### TODO Can we redirect the stdio.out to a list"
   ]
  },
  {
   "cell_type": "code",
   "execution_count": 21,
   "metadata": {},
   "outputs": [
    {
     "name": "stdout",
     "output_type": "stream",
     "text": [
      "[0, 1, 2, 3, 4, 5, 6, 7, 8, 9, 2, 3, 4, 5, 6, 7, 8, 9, 4, 5, 6, 7, 8, 9, 6, 7, 8, 9, 8, 9]\n"
     ]
    }
   ],
   "source": [
    "lst = []\n",
    "for a in range(10):\n",
    "    if a % 2==0:\n",
    "        for x in range(a, 10):\n",
    "            lst.append(x)\n",
    "\n",
    "print(lst)"
   ]
  },
  {
   "cell_type": "code",
   "execution_count": 1,
   "metadata": {},
   "outputs": [
    {
     "name": "stdout",
     "output_type": "stream",
     "text": [
      "[0, 1, 2, 3, 4, 5, 6, 7, 8, 9, 2, 3, 4, 5, 6, 7, 8, 9, 4, 5, 6, 7, 8, 9, 6, 7, 8, 9, 8, 9]\n"
     ]
    }
   ],
   "source": [
    "n = 10\n",
    "lsts = [x for a in range(n) if a % 2 == 0 for x in range(a, 10)]\n",
    "\n",
    "print(lsts)"
   ]
  },
  {
   "cell_type": "code",
   "execution_count": 3,
   "metadata": {},
   "outputs": [
    {
     "name": "stdout",
     "output_type": "stream",
     "text": [
      "Help on function walk in module os:\n",
      "\n",
      "walk(top, topdown=True, onerror=None, followlinks=False)\n",
      "    Directory tree generator.\n",
      "    \n",
      "    For each directory in the directory tree rooted at top (including top\n",
      "    itself, but excluding '.' and '..'), yields a 3-tuple\n",
      "    \n",
      "        dirpath, dirnames, filenames\n",
      "    \n",
      "    dirpath is a string, the path to the directory.  dirnames is a list of\n",
      "    the names of the subdirectories in dirpath (excluding '.' and '..').\n",
      "    filenames is a list of the names of the non-directory files in dirpath.\n",
      "    Note that the names in the lists are just names, with no path components.\n",
      "    To get a full path (which begins with top) to a file or directory in\n",
      "    dirpath, do os.path.join(dirpath, name).\n",
      "    \n",
      "    If optional arg 'topdown' is true or not specified, the triple for a\n",
      "    directory is generated before the triples for any of its subdirectories\n",
      "    (directories are generated top down).  If topdown is false, the triple\n",
      "    for a directory is generated after the triples for all of its\n",
      "    subdirectories (directories are generated bottom up).\n",
      "    \n",
      "    When topdown is true, the caller can modify the dirnames list in-place\n",
      "    (e.g., via del or slice assignment), and walk will only recurse into the\n",
      "    subdirectories whose names remain in dirnames; this can be used to prune the\n",
      "    search, or to impose a specific order of visiting.  Modifying dirnames when\n",
      "    topdown is false is ineffective, since the directories in dirnames have\n",
      "    already been generated by the time dirnames itself is generated. No matter\n",
      "    the value of topdown, the list of subdirectories is retrieved before the\n",
      "    tuples for the directory and its subdirectories are generated.\n",
      "    \n",
      "    By default errors from the os.scandir() call are ignored.  If\n",
      "    optional arg 'onerror' is specified, it should be a function; it\n",
      "    will be called with one argument, an OSError instance.  It can\n",
      "    report the error to continue with the walk, or raise the exception\n",
      "    to abort the walk.  Note that the filename is available as the\n",
      "    filename attribute of the exception object.\n",
      "    \n",
      "    By default, os.walk does not follow symbolic links to subdirectories on\n",
      "    systems that support them.  In order to get this functionality, set the\n",
      "    optional argument 'followlinks' to true.\n",
      "    \n",
      "    Caution:  if you pass a relative pathname for top, don't change the\n",
      "    current working directory between resumptions of walk.  walk never\n",
      "    changes the current directory, and assumes that the client doesn't\n",
      "    either.\n",
      "    \n",
      "    Example:\n",
      "    \n",
      "    import os\n",
      "    from os.path import join, getsize\n",
      "    for root, dirs, files in os.walk('python/Lib/email'):\n",
      "        print(root, \"consumes\", end=\"\")\n",
      "        print(sum([getsize(join(root, name)) for name in files]), end=\"\")\n",
      "        print(\"bytes in\", len(files), \"non-directory files\")\n",
      "        if 'CVS' in dirs:\n",
      "            dirs.remove('CVS')  # don't visit CVS directories\n",
      "\n"
     ]
    }
   ],
   "source": [
    "import os\n",
    "\n",
    "help(os.walk)"
   ]
  },
  {
   "cell_type": "code",
   "execution_count": 12,
   "metadata": {},
   "outputs": [
    {
     "name": "stdout",
     "output_type": "stream",
     "text": [
      "514\n"
     ]
    }
   ],
   "source": [
    "# %%time\n",
    "import os\n",
    "\n",
    "file_list = []\n",
    "\n",
    "for path, _, files in os.walk(\"/home/mayank/lep\"):\n",
    "    for f in files:\n",
    "        if f.endswith(\".py\"):\n",
    "            file_list.append(os.path.join(path, f))\n",
    "\n",
    "print(len(file_list))\n",
    "# print(file_list)"
   ]
  },
  {
   "cell_type": "code",
   "execution_count": 17,
   "metadata": {},
   "outputs": [
    {
     "name": "stdout",
     "output_type": "stream",
     "text": [
      "514\n"
     ]
    }
   ],
   "source": [
    "file_list = [os.path.join(path, f) for path, _, files in os.walk(\"/home/mayank/lep\") for f in files if f.endswith(\".py\") ]\n",
    "print(len(file_list))"
   ]
  },
  {
   "cell_type": "code",
   "execution_count": 19,
   "metadata": {},
   "outputs": [
    {
     "name": "stdout",
     "output_type": "stream",
     "text": [
      "514\n",
      "CPU times: user 33.8 ms, sys: 0 ns, total: 33.8 ms\n",
      "Wall time: 33.2 ms\n"
     ]
    }
   ],
   "source": [
    "%%time\n",
    "\n",
    "import os\n",
    "\n",
    "folder = \"/home/mayank/lep\"\n",
    "file_list = [os.path.join(path, f) \n",
    "             for path, _, files in os.walk(folder) \n",
    "                 for f in files if f.endswith(\".py\") ]\n",
    "print(len(file_list))"
   ]
  },
  {
   "cell_type": "code",
   "execution_count": null,
   "metadata": {},
   "outputs": [],
   "source": []
  },
  {
   "cell_type": "code",
   "execution_count": 9,
   "metadata": {},
   "outputs": [
    {
     "name": "stdout",
     "output_type": "stream",
     "text": [
      "0\n",
      "Wall time: 977 µs\n"
     ]
    }
   ],
   "source": [
    "%%time\n",
    "restFiles = []\n",
    "\n",
    "for d in os.walk(r\"C:\\apps\"):\n",
    "    if \"etc\" in d[0]:\n",
    "        for f in d[2]:\n",
    "            if f.endswith(\".txt\"):\n",
    "                restFiles.append(os.path.join(d[0], f))\n",
    "print(len(restFiles))"
   ]
  },
  {
   "cell_type": "code",
   "execution_count": 20,
   "metadata": {},
   "outputs": [
    {
     "name": "stdout",
     "output_type": "stream",
     "text": [
      "0\n",
      "CPU times: user 320 µs, sys: 0 ns, total: 320 µs\n",
      "Wall time: 177 µs\n"
     ]
    }
   ],
   "source": [
    "%%time\n",
    "restFiles = [os.path.join(d[0], f) \n",
    "                 for d in os.walk(r\"C:\\apps\") \n",
    "                     if \"etc\" in d[0]\n",
    "                         for f in d[2] \n",
    "                             if f.endswith(\".txt\")]\n",
    "print(len(restFiles))"
   ]
  },
  {
   "cell_type": "code",
   "execution_count": 21,
   "metadata": {},
   "outputs": [],
   "source": [
    "lst = [1, 2, [2, 3], 3, [3, [[4], 5]]]\n",
    "\n",
    "lst = [1, 2, 2, 3, 3, 3, 4, 5]"
   ]
  },
  {
   "cell_type": "code",
   "execution_count": 22,
   "metadata": {},
   "outputs": [
    {
     "name": "stdout",
     "output_type": "stream",
     "text": [
      "[[1, 0, 0], [0, 1, 0], [0, 0, 1]]\n",
      "CPU times: user 116 µs, sys: 13 µs, total: 129 µs\n",
      "Wall time: 101 µs\n"
     ]
    }
   ],
   "source": [
    "%%time\n",
    "\n",
    "matrix = []\n",
    "for row_idx in range(0, 3):\n",
    "    itmList = []\n",
    "    for item_idx in range(0, 3):\n",
    "        if item_idx == row_idx:\n",
    "            itmList.append(1)\n",
    "        else:\n",
    "            itmList.append(0)\n",
    "    matrix.append(itmList)\n",
    "print(matrix)"
   ]
  },
  {
   "cell_type": "code",
   "execution_count": 24,
   "metadata": {},
   "outputs": [
    {
     "name": "stdout",
     "output_type": "stream",
     "text": [
      "[[1, 0, 0], [0, 1, 0], [0, 0, 1]]\n"
     ]
    }
   ],
   "source": [
    "matrix = [[1 if item_idx == row_idx \n",
    "               else 0 for item_idx in range(0, 3)] \n",
    "                  for row_idx in range(0, 3) ]\n",
    "print(matrix)"
   ]
  },
  {
   "cell_type": "code",
   "execution_count": null,
   "metadata": {},
   "outputs": [],
   "source": [
    "lst = [1,2,34,4,5]\n",
    "print(lst)\n",
    "lst.append(2)\n",
    "print(lst)"
   ]
  },
  {
   "cell_type": "code",
   "execution_count": null,
   "metadata": {},
   "outputs": [],
   "source": [
    "\n",
    "lst.append(2)\n",
    "print(lst)\n",
    "l = set(lst)\n",
    "print(l)"
   ]
  },
  {
   "cell_type": "markdown",
   "metadata": {},
   "source": [
    "### Set Comprehensions\n",
    "\n",
    "Set comprehensions allow sets to be constructed using the same principles as list comprehensions, the only difference is that resulting sequence is a set and **\"{}\"** are used instead of **\"[]\"**."
   ]
  },
  {
   "cell_type": "code",
   "execution_count": null,
   "metadata": {},
   "outputs": [],
   "source": [
    "names = [ 'aaLok', 'Manish', 'AalOK', 'Manish', 'Gupta', 'Johri', 'Mayank' ]\n",
    "\n",
    "new_names1 = [name[0].upper() + name[1:].lower() for name in names if len(name) > 1 ]\n",
    "new_names = sorted({name[0].upper() + name[1:].lower() for name in names if len(name) > 1 })\n",
    "print(new_names1)\n",
    "print(new_names)"
   ]
  },
  {
   "cell_type": "markdown",
   "metadata": {},
   "source": [
    "### Dictionary Comprehensions"
   ]
  },
  {
   "cell_type": "code",
   "execution_count": 30,
   "metadata": {},
   "outputs": [],
   "source": [
    "original = {'a':10, 'b': 34, 'A': 7, 'Z':3, \"z\": 199}"
   ]
  },
  {
   "cell_type": "markdown",
   "metadata": {},
   "source": [
    "Now, lets consolidate the above dictionary in such a way that resultant dictionary will have only lower case keys and if both lower and upper case keys are found in the original dictionary than values of both the keys should be added.  "
   ]
  },
  {
   "cell_type": "code",
   "execution_count": 33,
   "metadata": {},
   "outputs": [
    {
     "name": "stdout",
     "output_type": "stream",
     "text": [
      "{'a': 10, 'b': 34, 'z': 199}\n"
     ]
    }
   ],
   "source": [
    "mcase_freq = {}\n",
    "for k in original.keys():\n",
    "    mcase_freq[k.lower()] = original.get(k.lower(),0) + original.get(k.upper, 0)\n",
    "print(mcase_freq)"
   ]
  },
  {
   "cell_type": "code",
   "execution_count": null,
   "metadata": {},
   "outputs": [],
   "source": []
  },
  {
   "cell_type": "code",
   "execution_count": 31,
   "metadata": {},
   "outputs": [
    {
     "name": "stdout",
     "output_type": "stream",
     "text": [
      "{'a': 17, 'b': 34, 'z': 202}\n"
     ]
    }
   ],
   "source": [
    "mcase_frequency = { k.lower() : original.get(k.lower(), 0) + original.get(k.upper(), 0) for k in original.keys() }\n",
    "print(mcase_frequency)"
   ]
  },
  {
   "cell_type": "code",
   "execution_count": null,
   "metadata": {},
   "outputs": [],
   "source": [
    "original = {'a':10, 'b': 34, 'A': 7, 'Z':3, \"z\": 199, 'c': 10}\n",
    "flipped = {value: key for key, value in original.items()}\n",
    "print(flipped)"
   ]
  },
  {
   "cell_type": "code",
   "execution_count": null,
   "metadata": {},
   "outputs": [],
   "source": [
    "original = {'a':10, 'b': 34, 'A': 7, 'Z':3, \"z\": 199, 'c': 10}\n",
    "newdict = {}\n",
    "for key, value in original.items():\n",
    "#     print(ori)\n",
    "    if (value not in newdict):\n",
    "        newdict[value] = key\n",
    "print(newdict)"
   ]
  },
  {
   "cell_type": "code",
   "execution_count": null,
   "metadata": {},
   "outputs": [],
   "source": [
    "newdict = {value: key for key, value in original.items() if (value not in newdict)}\n",
    "print(newdict)"
   ]
  },
  {
   "cell_type": "code",
   "execution_count": null,
   "metadata": {},
   "outputs": [],
   "source": [
    "x = {\"a\": 10, \"b\": 20, \"c\": 20}\n",
    "\n",
    "print(x)\n",
    "x[\"a\"] = 100\n",
    "\n",
    "print(x)"
   ]
  },
  {
   "cell_type": "markdown",
   "metadata": {},
   "source": [
    "This map doesn’t take a named function. It takes an anonymous, inlined function defined with lambda. The parameters of the lambda are defined to the left of the colon. The function body is defined to the right of the colon. The result of running the function body is (implicitly) returned.\n",
    "\n",
    "The unfunctional code below takes a list of real names and appends them with randomly assigned code names."
   ]
  },
  {
   "cell_type": "code",
   "execution_count": 31,
   "metadata": {},
   "outputs": [
    {
     "name": "stdout",
     "output_type": "stream",
     "text": [
      "{'Mayank': 'The Big Boss', 'Manish': 'Mr. God', 'Aalok': 'Mr. Normal', 'Roshan Musheer': 'Mr. Cool'}\n"
     ]
    }
   ],
   "source": [
    "import random\n",
    "\n",
    "names_dict = {}\n",
    "names = [\"Mayank\", \"Manish\", \"Aalok\", \"Roshan Musheer\"]\n",
    "code_names = ['Mr. Normal', 'Mr. God', 'Mr. Cool', 'The Big Boss']\n",
    "\n",
    "random.shuffle(code_names)\n",
    "\n",
    "for i in range(len(names)):\n",
    "    names_dict[names[i]] = code_names[i] \n",
    "        \n",
    "print(names_dict)"
   ]
  },
  {
   "cell_type": "code",
   "execution_count": 40,
   "metadata": {},
   "outputs": [
    {
     "name": "stdout",
     "output_type": "stream",
     "text": [
      "{'Mayank': 'Mr. Cool', 'Manish': 'The Big Boss', 'Aalok': 'Mr. Normal', 'Roshan Musheer': 'Mr. God'}\n"
     ]
    }
   ],
   "source": [
    "# Better implementation\n",
    "import random\n",
    "\n",
    "names_dict = {}\n",
    "names = [\"Mayank\", \"Manish\", \"Aalok\", \"Roshan Musheer\"]\n",
    "code_names = ['Mr. Normal', 'Mr. God', 'Mr. Cool', 'The Big Boss']\n",
    "\n",
    "random.shuffle(code_names)\n",
    "\n",
    "for i, _ in enumerate(names):\n",
    "    names_dict[names[i]] = code_names[i] \n",
    "        \n",
    "print(names_dict)"
   ]
  },
  {
   "cell_type": "code",
   "execution_count": 41,
   "metadata": {},
   "outputs": [
    {
     "name": "stdout",
     "output_type": "stream",
     "text": [
      "{'Mayank': 'The Big Boss', 'Manish': 'Mr. God', 'Aalok': 'Mr. Normal', 'Roshan Musheer': 'Mr. Cool'}\n"
     ]
    }
   ],
   "source": [
    "# best implementation\n",
    "import random\n",
    "\n",
    "names_dict = {}\n",
    "names = [\"Mayank\", \"Manish\", \"Aalok\", \"Roshan Musheer\"]\n",
    "code_names = ['Mr. Normal', 'Mr. God', 'Mr. Cool', 'The Big Boss']\n",
    "\n",
    "random.shuffle(code_names)\n",
    "\n",
    "names_dict = dict(zip(names, code_names))\n",
    "\n",
    "print(names_dict)"
   ]
  },
  {
   "cell_type": "code",
   "execution_count": null,
   "metadata": {},
   "outputs": [],
   "source": [
    "ld = [{'a': 10, 'b': 20}, {'p': 10, 'u': 100}]\n",
    "dict([kv for d in ld for kv in d.items()])"
   ]
  },
  {
   "cell_type": "markdown",
   "metadata": {},
   "source": [
    "### Generator Comprehension\n",
    "\n",
    "They are simply a generator expression with a parenthesis \"()\" around it. Otherwise, the syntax and the way of working is like list comprehension, but a generator comprehension returns a generator instead of a list. "
   ]
  },
  {
   "cell_type": "code",
   "execution_count": 53,
   "metadata": {},
   "outputs": [
    {
     "name": "stdout",
     "output_type": "stream",
     "text": [
      "928 ns ± 12.4 ns per loop (mean ± std. dev. of 7 runs, 1000000 loops each)\n"
     ]
    }
   ],
   "source": [
    "%%timeit\n",
    "x = (x**2 for x in range(20000))\n",
    "# for a in x:\n",
    "#     pass"
   ]
  },
  {
   "cell_type": "code",
   "execution_count": 52,
   "metadata": {},
   "outputs": [
    {
     "name": "stdout",
     "output_type": "stream",
     "text": [
      "8.15 ms ± 199 µs per loop (mean ± std. dev. of 7 runs, 100 loops each)\n"
     ]
    }
   ],
   "source": [
    "%%timeit\n",
    "x = [x**2 for x in range(20000)]\n",
    "# for a in x:\n",
    "#     pass"
   ]
  },
  {
   "cell_type": "code",
   "execution_count": null,
   "metadata": {},
   "outputs": [],
   "source": [
    "itm = 10\n",
    "print(itm / 2)"
   ]
  },
  {
   "cell_type": "markdown",
   "metadata": {},
   "source": [
    "#### Summary\n",
    "\n",
    "When struggling to write a comprehension, `don’t panic`. Start with a for loop first and copy-paste your way into a comprehension.\n",
    "\n",
    "Any for loop that looks like this:"
   ]
  },
  {
   "cell_type": "code",
   "execution_count": null,
   "metadata": {},
   "outputs": [],
   "source": [
    "def condition_based_on(itm):\n",
    "    return itm % 2 == 0\n",
    "\n",
    "old_things = range(2,20, 3)\n",
    "new_things = []\n",
    "for ITEM in old_things:\n",
    "    if condition_based_on(ITEM):\n",
    "        new_things.append(ITEM)\n",
    "print(new_things)"
   ]
  },
  {
   "cell_type": "markdown",
   "metadata": {},
   "source": [
    "Can be rewritten into a list comprehension like this:"
   ]
  },
  {
   "cell_type": "code",
   "execution_count": null,
   "metadata": {},
   "outputs": [],
   "source": [
    "new_things = [ITEM for ITEM in old_things if condition_based_on(ITEM)]\n",
    "print(new_things)"
   ]
  },
  {
   "cell_type": "markdown",
   "metadata": {},
   "source": [
    "**NOTE**\n",
    "\n",
    "If you can nudge a for loop until it looks like the ones above, you can rewrite it as a list comprehension."
   ]
  }
 ],
 "metadata": {
  "kernelspec": {
   "display_name": "Python 3",
   "language": "python",
   "name": "python3"
  },
  "language_info": {
   "codemirror_mode": {
    "name": "ipython",
    "version": 3
   },
   "file_extension": ".py",
   "mimetype": "text/x-python",
   "name": "python",
   "nbconvert_exporter": "python",
   "pygments_lexer": "ipython3",
   "version": "3.6.1"
  }
 },
 "nbformat": 4,
 "nbformat_minor": 2
}
