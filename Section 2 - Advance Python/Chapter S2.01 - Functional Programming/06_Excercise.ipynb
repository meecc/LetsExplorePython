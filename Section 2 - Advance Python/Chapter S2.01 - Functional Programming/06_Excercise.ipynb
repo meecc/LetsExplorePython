{
 "cells": [
  {
   "cell_type": "markdown",
   "metadata": {},
   "source": [
    "# Excercise - Functional Programming"
   ]
  },
  {
   "cell_type": "markdown",
   "metadata": {},
   "source": [
    "**Q: ** Try rewriting the code below as a map. It takes a list of real names and replaces them with code names produced using a more robust strategy."
   ]
  },
  {
   "cell_type": "code",
   "execution_count": 6,
   "metadata": {},
   "outputs": [
    {
     "name": "stdout",
     "output_type": "stream",
     "text": [
      "[325562298102183658, 4656825154473833237, 2960754142854623811, 7009005651111438855, 5563618558131281728]\n"
     ]
    }
   ],
   "source": [
    "names = [\"Aalok\", \"Chandu\", \"Roshan\", \"Prashant\", \"Saurabh\"]\n",
    "\n",
    "for i in range(len(names)):\n",
    "    names[i] = hash(names[i])\n",
    "print(names)"
   ]
  },
  {
   "cell_type": "markdown",
   "metadata": {},
   "source": [
    "** Ans**: "
   ]
  },
  {
   "cell_type": "code",
   "execution_count": 7,
   "metadata": {},
   "outputs": [
    {
     "name": "stdout",
     "output_type": "stream",
     "text": [
      "<map object at 0x7fafd5760ba8>\n"
     ]
    }
   ],
   "source": [
    "secret_names = map(hash, names)\n",
    "print(secret_names)"
   ]
  },
  {
   "cell_type": "markdown",
   "metadata": {},
   "source": [
    "#### Write functions to do the follows\n",
    "\n",
    "- `generate_matrix` which takes two arguments `m` and `n` and a `keyword` argument `default` which specifies the value for each position. It should use a nested list comprehension to generate a list of lists with the given dimensions. If default is provided, each position should have the given value, otherwise the matrix should be populated with zeroes.\n",
    "\n",
    "- `initcap` that replicates the functionality of the string.title method, except better. Given a string, it should split the string on whitespace, capitalize each element of the resulting list and join them back into a string. Your implementation should use a list comprehension.\n",
    "\n",
    "- `make_mapping` that takes two lists of equal length and returns a dictionary that maps the values in the first list to the values in the second. The function should also take an optional keyword argument called exclude, which expects a list. Values in the list passed as exclude should be omitted as keys in the resulting dictionary.\n",
    "\n",
    "- `compress_keys` that takes a dictionary with string keys and returns a new dictionary with the vowels removed from the keys. For instance, the dictionary {\"foo\": 1, \"bar\": 2} should be transformed into {\"f\": 1, \"br\": 2}. The function should use a list comprehension nested inside a dict comprehension.\n",
    "\n",
    "- `toUpper` that takes a list of names and returns a set of  with the case normalized to uppercase. For instance, the list [\"mayank\", \"JohrI\", \"Tagore\", \"Arjun\"] should be transformed into the set {\"MAYANK\", \"JOHRI\", \"TAGORE\", \"ARJUN\"}."
   ]
  }
 ],
 "metadata": {
  "kernelspec": {
   "display_name": "Python 3",
   "language": "python",
   "name": "python3"
  },
  "language_info": {
   "codemirror_mode": {
    "name": "ipython",
    "version": 3
   },
   "file_extension": ".py",
   "mimetype": "text/x-python",
   "name": "python",
   "nbconvert_exporter": "python",
   "pygments_lexer": "ipython3",
   "version": "3.6.1"
  }
 },
 "nbformat": 4,
 "nbformat_minor": 2
}
