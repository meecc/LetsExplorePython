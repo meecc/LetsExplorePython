{
 "cells": [
  {
   "cell_type": "markdown",
   "metadata": {},
   "source": [
    "# Functions as First-Class citizens"
   ]
  },
  {
   "cell_type": "markdown",
   "metadata": {},
   "source": [
    "In functional programming, functions can be treated as objects. That is, they can be\n",
    "- Assigned to a variable\n",
    "- Passed as arguments to a function\n",
    "- Returned from a functions\n",
    "\n",
    "Lets look at few example to understand what that means."
   ]
  },
  {
   "cell_type": "markdown",
   "metadata": {},
   "source": [
    "Before we can play with functions, lets check how python handles the variables and data. For that we have taken a variable `a` and assigned it value 10. "
   ]
  },
  {
   "cell_type": "code",
   "execution_count": 1,
   "metadata": {},
   "outputs": [],
   "source": [
    "a = 10"
   ]
  },
  {
   "cell_type": "markdown",
   "metadata": {},
   "source": [
    "Now, lets check what happens if we pass it to functions `id` and `dir` in order to know more about them"
   ]
  },
  {
   "cell_type": "code",
   "execution_count": 2,
   "metadata": {},
   "outputs": [
    {
     "name": "stdout",
     "output_type": "stream",
     "text": [
      "140400728229376\n",
      "['__abs__', '__add__', '__and__', '__bool__', '__ceil__', '__class__', '__delattr__', '__dir__', '__divmod__', '__doc__', '__eq__', '__float__', '__floor__', '__floordiv__', '__format__', '__ge__', '__getattribute__', '__getnewargs__', '__gt__', '__hash__', '__index__', '__init__', '__init_subclass__', '__int__', '__invert__', '__le__', '__lshift__', '__lt__', '__mod__', '__mul__', '__ne__', '__neg__', '__new__', '__or__', '__pos__', '__pow__', '__radd__', '__rand__', '__rdivmod__', '__reduce__', '__reduce_ex__', '__repr__', '__rfloordiv__', '__rlshift__', '__rmod__', '__rmul__', '__ror__', '__round__', '__rpow__', '__rrshift__', '__rshift__', '__rsub__', '__rtruediv__', '__rxor__', '__setattr__', '__sizeof__', '__str__', '__sub__', '__subclasshook__', '__truediv__', '__trunc__', '__xor__', 'bit_length', 'conjugate', 'denominator', 'from_bytes', 'imag', 'numerator', 'real', 'to_bytes']\n"
     ]
    }
   ],
   "source": [
    "print(id(a))\n",
    "print(dir(a))"
   ]
  },
  {
   "cell_type": "markdown",
   "metadata": {},
   "source": [
    "In the above example, value `10` is behaving like an object, with multiple attributes exposed to the world."
   ]
  },
  {
   "cell_type": "markdown",
   "metadata": {},
   "source": [
    "Now lets do the same to a function and validate if that also behaves the same.\n",
    "\n",
    "In the below example, we are creating a function `test_function` and then passed it to functions `id` and `dir` similar to what we did with the variable `a`."
   ]
  },
  {
   "cell_type": "code",
   "execution_count": 3,
   "metadata": {},
   "outputs": [
    {
     "name": "stdout",
     "output_type": "stream",
     "text": [
      "140400547816856\n",
      "['__annotations__', '__call__', '__class__', '__closure__', '__code__', '__defaults__', '__delattr__', '__dict__', '__dir__', '__doc__', '__eq__', '__format__', '__ge__', '__get__', '__getattribute__', '__globals__', '__gt__', '__hash__', '__init__', '__init_subclass__', '__kwdefaults__', '__le__', '__lt__', '__module__', '__name__', '__ne__', '__new__', '__qualname__', '__reduce__', '__reduce_ex__', '__repr__', '__setattr__', '__sizeof__', '__str__', '__subclasshook__']\n"
     ]
    }
   ],
   "source": [
    "def test_function():\n",
    "    \"\"\"Test Function.\n",
    "    \n",
    "    This is just a test function.\n",
    "    \"\"\"\n",
    "    pass\n",
    "\n",
    "\n",
    "print(id(test_function))\n",
    "print(dir(test_function))"
   ]
  },
  {
   "cell_type": "markdown",
   "metadata": {},
   "source": [
    "We saw, that function also behaved the same way as an data, It also had a memory location identified for it and exposes various attributes to the world. Lets check few of them "
   ]
  },
  {
   "cell_type": "code",
   "execution_count": 4,
   "metadata": {},
   "outputs": [
    {
     "name": "stdout",
     "output_type": "stream",
     "text": [
      "['__repr__', '__call__', '__get__', '__new__', '__closure__', '__doc__', '__globals__', '__module__', '__code__', '__defaults__', '__kwdefaults__', '__annotations__', '__dict__', '__name__', '__qualname__', '__hash__', '__str__', '__getattribute__', '__setattr__', '__delattr__', '__lt__', '__le__', '__eq__', '__ne__', '__gt__', '__ge__', '__init__', '__reduce_ex__', '__reduce__', '__subclasshook__', '__init_subclass__', '__format__', '__sizeof__', '__dir__', '__class__']\n",
      "Test Function.\n",
      "    \n",
      "    This is just a test function.\n",
      "    \n",
      "<code object test_function at 0x7fb188722db0, file \"<ipython-input-3-9c7783901235>\", line 1>\n",
      "<class 'function'>\n"
     ]
    }
   ],
   "source": [
    "print(test_function.__dir__())\n",
    "print(test_function.__doc__)\n",
    "print(test_function.__code__)\n",
    "print(test_function.__class__)"
   ]
  },
  {
   "cell_type": "markdown",
   "metadata": {},
   "source": [
    "## Pure function"
   ]
  },
  {
   "cell_type": "markdown",
   "metadata": {},
   "source": [
    "One of the main feature of functional programming is `pure functions`. Lets find out what is `pure function`.\n",
    "\n",
    "As per definition, pure function is a function which has no side effects and for the same input returns same output every time and is not dependent on any other information. As we have already discussed about them in previous chapter, we are going to skip it."
   ]
  },
  {
   "cell_type": "markdown",
   "metadata": {},
   "source": [
    "## higher-order function"
   ]
  },
  {
   "cell_type": "markdown",
   "metadata": {},
   "source": [
    "Python also supports higher-order functions, meaning that functions can \n",
    "- accept other functions as arguments and \n",
    "- return functions to the caller"
   ]
  },
  {
   "cell_type": "markdown",
   "metadata": {},
   "source": [
    "What that means is we can construct complex functions from existing functions and customize existing functions as per our needs. "
   ]
  },
  {
   "cell_type": "markdown",
   "metadata": {},
   "source": [
    "### Functions accept other functions as argument"
   ]
  },
  {
   "cell_type": "markdown",
   "metadata": {},
   "source": [
    "Lets take example of simple example, "
   ]
  },
  {
   "cell_type": "code",
   "execution_count": 5,
   "metadata": {
    "scrolled": true
   },
   "outputs": [],
   "source": [
    "def done(val, func):\n",
    "    val = val * 2\n",
    "    return func(val)\n",
    "    \n",
    "def square(val):\n",
    "    return val**2\n",
    "\n",
    "def increment(val):\n",
    "    return val + 1"
   ]
  },
  {
   "cell_type": "markdown",
   "metadata": {},
   "source": [
    "In the above example, we have three functions, `done`, `square` and `increment`. \n",
    "- `done` takes two argument, `val` and `func`\n",
    "- `square` & `increment` takes one val argument each\n",
    "\n",
    "Since, both `square` & `increment` take one argument, they both can be passed to `done` and in both the cases the behaviour of `done` will change depending upon the `behaviour` of passed function.\n",
    "\n",
    "Lets try it out."
   ]
  },
  {
   "cell_type": "code",
   "execution_count": 6,
   "metadata": {},
   "outputs": [
    {
     "name": "stdout",
     "output_type": "stream",
     "text": [
      "400\n"
     ]
    }
   ],
   "source": [
    "print(done(10, square))"
   ]
  },
  {
   "cell_type": "markdown",
   "metadata": {},
   "source": [
    "the reason we got `400` is due to the fact that square returns `square` of the number passed to it. In our case we passed `10` to done, which increased it to `20` before passing it to `square` function and inturn received square of `20` which equals to `400`."
   ]
  },
  {
   "cell_type": "code",
   "execution_count": 7,
   "metadata": {},
   "outputs": [
    {
     "name": "stdout",
     "output_type": "stream",
     "text": [
      "21\n"
     ]
    }
   ],
   "source": [
    "print(done(10, increment))"
   ]
  },
  {
   "cell_type": "markdown",
   "metadata": {},
   "source": [
    "the reason we got `21` is due to the fact that `increment` returns one move value than the number passed to it. In our case we passed `10` to `done`, which increased it to `20` before passing it to `increment` function and inturn received `21` from `increment`."
   ]
  },
  {
   "cell_type": "markdown",
   "metadata": {},
   "source": [
    "### Nested Functions"
   ]
  },
  {
   "cell_type": "markdown",
   "metadata": {},
   "source": [
    "Python allows function(s) to be defined within the scope of another function. In this type of setting the inner function is only in scope inside the outer function, thus inner functions are returned (without executing) or passed into another function for more processing.\n",
    "\n",
    "In the below example, a new instance of the function `inner()` is created on each call to `outer()`. That is because it is defined during the execution of `outer()`. The creation of the second instance has no impact on the first."
   ]
  },
  {
   "cell_type": "markdown",
   "metadata": {},
   "source": [
    "So, we have two functions, `outer` and `inner`. `outer` function returns the instance of `inner` function and inner function performs some operations on the values provided and returns them."
   ]
  },
  {
   "cell_type": "code",
   "execution_count": 8,
   "metadata": {},
   "outputs": [
    {
     "name": "stdout",
     "output_type": "stream",
     "text": [
      "10\n"
     ]
    }
   ],
   "source": [
    "def outer(a):\n",
    "    \"\"\"\n",
    "    Outer function \n",
    "    \"\"\"\n",
    "    y = 0\n",
    "    \n",
    "    def inner(x):\n",
    "        \"\"\"\n",
    "        inner function\n",
    "        \"\"\"\n",
    "        y = x*x*a\n",
    "        return(y)\n",
    "    print(a)\n",
    "    \n",
    "    return inner\n",
    "\n",
    "my_out = outer(10)"
   ]
  },
  {
   "cell_type": "markdown",
   "metadata": {},
   "source": [
    "In the above example, `my_out` contains the address of the instance of `inner` function when value of `a` is `102`. Lets check that out by just printing `my_out`"
   ]
  },
  {
   "cell_type": "code",
   "execution_count": 9,
   "metadata": {},
   "outputs": [
    {
     "name": "stdout",
     "output_type": "stream",
     "text": [
      "<function outer.<locals>.inner at 0x7fb18866abf8>\n"
     ]
    }
   ],
   "source": [
    "print(my_out)"
   ]
  },
  {
   "cell_type": "markdown",
   "metadata": {},
   "source": [
    "Now, lets perform some operations on it by passing values to `my_out`."
   ]
  },
  {
   "cell_type": "code",
   "execution_count": 10,
   "metadata": {},
   "outputs": [
    {
     "name": "stdout",
     "output_type": "stream",
     "text": [
      "0\n",
      "10\n",
      "40\n",
      "90\n",
      "160\n"
     ]
    }
   ],
   "source": [
    "for i in range(5):\n",
    "    print(my_out(i))"
   ]
  },
  {
   "cell_type": "markdown",
   "metadata": {},
   "source": [
    "In above for `loop` execution, value of `a` has remained constant and value of `x` has changed as shown in the below calculations. "
   ]
  },
  {
   "cell_type": "code",
   "execution_count": 11,
   "metadata": {},
   "outputs": [
    {
     "data": {
      "text/plain": [
       "True"
      ]
     },
     "execution_count": 11,
     "metadata": {},
     "output_type": "execute_result"
    }
   ],
   "source": [
    "0 * 0 * 10 == 0"
   ]
  },
  {
   "cell_type": "code",
   "execution_count": 12,
   "metadata": {},
   "outputs": [
    {
     "data": {
      "text/plain": [
       "True"
      ]
     },
     "execution_count": 12,
     "metadata": {},
     "output_type": "execute_result"
    }
   ],
   "source": [
    "1 * 1 * 10 == 10"
   ]
  },
  {
   "cell_type": "code",
   "execution_count": 13,
   "metadata": {},
   "outputs": [
    {
     "data": {
      "text/plain": [
       "True"
      ]
     },
     "execution_count": 13,
     "metadata": {},
     "output_type": "execute_result"
    }
   ],
   "source": [
    "2 * 2 * 10 == 40"
   ]
  },
  {
   "cell_type": "code",
   "execution_count": 14,
   "metadata": {},
   "outputs": [
    {
     "data": {
      "text/plain": [
       "True"
      ]
     },
     "execution_count": 14,
     "metadata": {},
     "output_type": "execute_result"
    }
   ],
   "source": [
    "3  * 3 * 10 == 90"
   ]
  },
  {
   "cell_type": "code",
   "execution_count": 15,
   "metadata": {},
   "outputs": [
    {
     "data": {
      "text/plain": [
       "True"
      ]
     },
     "execution_count": 15,
     "metadata": {},
     "output_type": "execute_result"
    }
   ],
   "source": [
    "4 * 4 * 10 == 160"
   ]
  },
  {
   "cell_type": "markdown",
   "metadata": {},
   "source": [
    "**Note** in all the above exeuction, we have used the same instance of outer. Now lets create another instance of outer and try the above code. \n",
    "\n",
    "Also note, that we have returned the address of inner functions instance and not executed the inner function while returning. The returned inner function gets executed later in the code."
   ]
  },
  {
   "cell_type": "code",
   "execution_count": 16,
   "metadata": {},
   "outputs": [
    {
     "name": "stdout",
     "output_type": "stream",
     "text": [
      "2\n"
     ]
    }
   ],
   "source": [
    "my_out_2 = outer(2)"
   ]
  },
  {
   "cell_type": "code",
   "execution_count": 17,
   "metadata": {},
   "outputs": [
    {
     "name": "stdout",
     "output_type": "stream",
     "text": [
      "0\n",
      "2\n",
      "8\n",
      "18\n",
      "32\n"
     ]
    }
   ],
   "source": [
    "for i in range(5):\n",
    "    print(my_out_2(i))"
   ]
  },
  {
   "cell_type": "markdown",
   "metadata": {},
   "source": [
    "Now, we have two instances of `outer` with different values of `a` thus returns they both return different values for same set of code (except where we updated the value of `a`)."
   ]
  },
  {
   "cell_type": "markdown",
   "metadata": {},
   "source": [
    "Lets take another example, and see what happens when we have identifiers with same name in differnet scopes"
   ]
  },
  {
   "cell_type": "code",
   "execution_count": 18,
   "metadata": {},
   "outputs": [
    {
     "name": "stdout",
     "output_type": "stream",
     "text": [
      "inner: 2\n",
      "outer: 1\n",
      "global: 0\n"
     ]
    }
   ],
   "source": [
    "x = 0\n",
    "\n",
    "def outer():\n",
    "    x = 1\n",
    "    def inner():\n",
    "        x = 2\n",
    "        print(\"inner:\", x)\n",
    "\n",
    "    inner()\n",
    "    print(\"outer:\", x)\n",
    "\n",
    "outer()\n",
    "print(\"global:\", x)\n"
   ]
  },
  {
   "cell_type": "markdown",
   "metadata": {},
   "source": [
    "#### Problem with `local` and `global`"
   ]
  },
  {
   "cell_type": "markdown",
   "metadata": {},
   "source": [
    "Lets take the above example, we have two functions, `outer` & `inner`. We also have `x` variable which is present as `global` and also present in both the functions.\n",
    "\n",
    "If we want to access `x` of `outer` function from `inner` function than `global` keyword not help. Fortunately, Python provides a keyword `nonlocal` which allows `inner` functions to access variables to `outer` functions as shown in below example. \n",
    "\n",
    "The details of nonlocal are details in https://www.python.org/dev/peps/pep-3104/"
   ]
  },
  {
   "cell_type": "code",
   "execution_count": 19,
   "metadata": {},
   "outputs": [
    {
     "name": "stdout",
     "output_type": "stream",
     "text": [
      "inner: 2 id: 140400728229120\n",
      "outer: 2 id: 140400728229120\n",
      "global: 0 id: 140400728229056\n"
     ]
    }
   ],
   "source": [
    "x = 0\n",
    "def outer():\n",
    "    x = 1\n",
    "    def inner():\n",
    "        nonlocal x\n",
    "        x = 2\n",
    "        print(\"inner:\",x, \"id:\", id(x))\n",
    "\n",
    "    inner()\n",
    "    print(\"outer:\",x, \"id:\", id(x))\n",
    "\n",
    "outer()\n",
    "print(\"global:\",x, \"id:\", id(x))"
   ]
  },
  {
   "cell_type": "code",
   "execution_count": 20,
   "metadata": {
    "scrolled": true
   },
   "outputs": [],
   "source": [
    "def outer(a):\n",
    "    \"\"\"\n",
    "    Outer function \n",
    "    \"\"\"\n",
    "    PI = 3.1415\n",
    "    \n",
    "    def inner(x):\n",
    "        \"\"\"\n",
    "        inner function\n",
    "        \"\"\"\n",
    "        nonlocal PI\n",
    "        print(PI)\n",
    "        y = x*PI*a \n",
    "        return(\"y =\" + str(y))\n",
    "    \n",
    "    print(a)\n",
    "    return inner"
   ]
  },
  {
   "cell_type": "code",
   "execution_count": 21,
   "metadata": {
    "scrolled": true
   },
   "outputs": [
    {
     "name": "stdout",
     "output_type": "stream",
     "text": [
      "10\n",
      "20\n",
      "********************\n",
      "<function outer.<locals>.inner at 0x7fb18867a598>\n",
      "3.1415\n",
      "y =314.15000000000003\n",
      "********************\n",
      "<function outer.<locals>.inner at 0x7fb188621d90>\n",
      "3.1415\n",
      "y =628.3000000000001\n"
     ]
    }
   ],
   "source": [
    "ten = outer(10)\n",
    "second = outer(20)\n",
    "print(\"*\"*20)\n",
    "print(ten)\n",
    "print(ten(10))\n",
    "print(\"*\"*20)\n",
    "print(second)\n",
    "print(second(10))"
   ]
  },
  {
   "cell_type": "markdown",
   "metadata": {},
   "source": [
    "## Inner / Nested Functions - When to use "
   ]
  },
  {
   "cell_type": "markdown",
   "metadata": {},
   "source": [
    "### Encapsulation"
   ]
  },
  {
   "cell_type": "markdown",
   "metadata": {},
   "source": [
    "You use inner functions to protect them from anything happening outside of the function, meaning that they are hidden from the global scope."
   ]
  },
  {
   "cell_type": "code",
   "execution_count": 22,
   "metadata": {},
   "outputs": [
    {
     "name": "stdout",
     "output_type": "stream",
     "text": [
      "[10, 11]\n"
     ]
    }
   ],
   "source": [
    "# Encapsulation\n",
    "\n",
    "def increment(current):\n",
    "    def inner_increment(x):  # hidden from outer code\n",
    "        return x + 1\n",
    "    next_number = inner_increment(current)\n",
    "    return [current, next_number]\n",
    "\n",
    "print(increment(10))"
   ]
  },
  {
   "cell_type": "markdown",
   "metadata": {},
   "source": [
    "> NOTE: We can not access directly the inner function as shown below"
   ]
  },
  {
   "cell_type": "code",
   "execution_count": 23,
   "metadata": {},
   "outputs": [
    {
     "name": "stdout",
     "output_type": "stream",
     "text": [
      "'function' object has no attribute 'inner_increment'\n"
     ]
    }
   ],
   "source": [
    "try:\n",
    "    increment.inner_increment(109)\n",
    "except Exception  as e:\n",
    "    print(e)"
   ]
  },
  {
   "cell_type": "markdown",
   "metadata": {},
   "source": [
    "### Following DRY (Don't Repeat Yourself)\n",
    "\n",
    "This type can be used if you have a section of code base in function is repeated in numerous places. For example, you might write a function which processes a file, and you want to accept either an open file object or a file name:"
   ]
  },
  {
   "cell_type": "code",
   "execution_count": 24,
   "metadata": {},
   "outputs": [
    {
     "name": "stdout",
     "output_type": "stream",
     "text": [
      "test\n",
      "test3\n",
      "t33\n",
      "Hello\n",
      "\n",
      "Guten Tag\n",
      "\n",
      "Junge\n",
      "\n",
      "\n",
      "\n"
     ]
    }
   ],
   "source": [
    "# Keepin’ it DRY\n",
    "import os\n",
    "\n",
    "def process(file_name):\n",
    "\n",
    "    if isinstance(file_name, str):\n",
    "        with open(file_name, 'r') as f:\n",
    "            for line in f.readlines():\n",
    "                print(line)\n",
    "    else:\n",
    "        for line in file_name:\n",
    "            print(line)\n",
    "        \n",
    "process([\"test\", \"test3\", \"t33\"])\n",
    "process(os.path.join(\"files\", \"process_me.txt\"))"
   ]
  },
  {
   "cell_type": "code",
   "execution_count": 25,
   "metadata": {},
   "outputs": [
    {
     "name": "stdout",
     "output_type": "stream",
     "text": [
      "test\n",
      "test3\n",
      "t33\n",
      "Hello\n",
      "\n",
      "Guten Tag\n",
      "\n",
      "Junge\n",
      "\n",
      "\n",
      "\n"
     ]
    }
   ],
   "source": [
    "# Keepin’ it DRY\n",
    "import os\n",
    "\n",
    "def process(data):\n",
    "    def do_stuff(file_process):\n",
    "        for line in file_process:\n",
    "            print(line)\n",
    "\n",
    "    if isinstance(data, str):\n",
    "        with open(data, 'r') as f:\n",
    "            do_stuff(f)\n",
    "    else:\n",
    "        do_stuff(data)\n",
    "        \n",
    "process([\"test\", \"test3\", \"t33\"])\n",
    "process(os.path.join(\"files\", \"process_me.txt\"))"
   ]
  },
  {
   "cell_type": "markdown",
   "metadata": {
    "collapsed": true
   },
   "source": [
    "or have similar logic which can be replaced by a function, such as mathematical functions, or code base which can be clubed by using some parameters.  "
   ]
  },
  {
   "cell_type": "code",
   "execution_count": 26,
   "metadata": {},
   "outputs": [
    {
     "name": "stdout",
     "output_type": "stream",
     "text": [
      "4\n"
     ]
    }
   ],
   "source": [
    "def square(n):\n",
    "    return n**2\n",
    "\n",
    "def cube(n):\n",
    "    return n**3\n",
    "\n",
    "print(square(2))"
   ]
  },
  {
   "cell_type": "code",
   "execution_count": 27,
   "metadata": {},
   "outputs": [],
   "source": [
    "def sqr(a, b):\n",
    "    return a**b"
   ]
  },
  {
   "cell_type": "markdown",
   "metadata": {},
   "source": [
    "> ??? why code"
   ]
  },
  {
   "cell_type": "code",
   "execution_count": 28,
   "metadata": {},
   "outputs": [
    {
     "name": "stdout",
     "output_type": "stream",
     "text": [
      "TEST TEST TEST\n",
      "**************\n",
      "Ja,  Murthy\n",
      "**************\n",
      "True\n"
     ]
    }
   ],
   "source": [
    "def test():\n",
    "    print(\"TEST TEST TEST\")\n",
    "    \n",
    "    def yes(name):\n",
    "        print(\"Ja, \", name)\n",
    "        return True\n",
    "    return yes\n",
    "\n",
    "d = test()\n",
    "print(\"*\" * 14)\n",
    "a = d(\"Murthy\")\n",
    "print(\"*\" * 14)\n",
    "print(a)"
   ]
  },
  {
   "cell_type": "code",
   "execution_count": 29,
   "metadata": {},
   "outputs": [
    {
     "name": "stdout",
     "output_type": "stream",
     "text": [
      "<function power.<locals>.subfunc at 0x7fb18867a268>\n",
      "<function power.<locals>.subfunc at 0x7fb188621400>\n",
      "25\n",
      "\n",
      "729\n",
      "729\n"
     ]
    }
   ],
   "source": [
    "def power(exp):\n",
    "    def subfunc(a):\n",
    "        return a**exp\n",
    "    return subfunc\n",
    "\n",
    "square = power(2)\n",
    "hexa = power(6)\n",
    "\n",
    "print(square)\n",
    "print(hexa)\n",
    "print(square(5))  # 5**2\n",
    "print()\n",
    "print(hexa(3))  # 3**6\n",
    "print(power(6)(3))\n",
    "# subfunc(3) where exp = 6\n",
    "# SQuare \n",
    "\n",
    "# exp -> 2 \n",
    "# Square(5) \n",
    "# a -> 5 \n",
    "# 5**2\n",
    "# 25"
   ]
  },
  {
   "cell_type": "code",
   "execution_count": 30,
   "metadata": {},
   "outputs": [
    {
     "name": "stdout",
     "output_type": "stream",
     "text": [
      "4 2 3\n",
      "7\n",
      "4 2 10\n",
      "13\n"
     ]
    }
   ],
   "source": [
    "def a1(m):\n",
    "    x = m * 2\n",
    "\n",
    "    def b(v, t=None):\n",
    "        if t:\n",
    "            print(x, m, t)\n",
    "            return v + t\n",
    "        else:\n",
    "            print(x, m, v)\n",
    "            return v + x\n",
    "    return b\n",
    "n = a1(2)\n",
    "print(n(3))\n",
    "print(n(3, 10))"
   ]
  },
  {
   "cell_type": "markdown",
   "metadata": {},
   "source": [
    "Below code will not work as `f1` is not returning anything :). This is to show what can happen with one silly tab. Also it is one of the most common mistake. "
   ]
  },
  {
   "cell_type": "code",
   "execution_count": 31,
   "metadata": {},
   "outputs": [
    {
     "name": "stdout",
     "output_type": "stream",
     "text": [
      "'NoneType' object is not callable\n"
     ]
    }
   ],
   "source": [
    "def f1(a):\n",
    "    def f2(b):\n",
    "        return f2\n",
    "        def f3(c):\n",
    "            return f3\n",
    "            def f4(d):\n",
    "                return f4\n",
    "                def f5(e):\n",
    "                    return f5\n",
    "try:\n",
    "    print (f1(1)(2)(3)(4)(5)) \n",
    "except Exception as e:\n",
    "    print(e)"
   ]
  },
  {
   "cell_type": "markdown",
   "metadata": {},
   "source": [
    "The correct code is below"
   ]
  },
  {
   "cell_type": "code",
   "execution_count": 32,
   "metadata": {},
   "outputs": [
    {
     "name": "stdout",
     "output_type": "stream",
     "text": [
      "5\n"
     ]
    }
   ],
   "source": [
    "def f1(a):\n",
    "    def f2(b):\n",
    "        def f3(c):\n",
    "            def f4(d):\n",
    "                def f5(e):\n",
    "                    print(e)\n",
    "                return f5\n",
    "            return f4\n",
    "        return f3\n",
    "    return f2\n",
    "        \n",
    "f1(1)(2)(3)(4)(5)"
   ]
  },
  {
   "cell_type": "markdown",
   "metadata": {},
   "source": [
    "#### Closures & Factory Functions <sup>1</sup>\n",
    "\n",
    "They are techniques for implementing lexically scoped name binding with first-class functions. It is a record, storing a function together with an environment. a mapping associating each free variable of the function (variables that are used locally, but defined in an enclosing scope) with the value or reference to which the name was bound when the closure was created.\n",
    "\n",
    "A closure—unlike a plain function—allows the function to access those captured variables through the closure's copies of their values or references, even when the function is invoked outside their scope."
   ]
  },
  {
   "cell_type": "code",
   "execution_count": 33,
   "metadata": {},
   "outputs": [
    {
     "name": "stdout",
     "output_type": "stream",
     "text": [
      "<function f.<locals>.g at 0x7fb18868bea0> <function h.<locals>.<lambda> at 0x7fb18868b378>\n",
      "6 6\n",
      "6 6\n"
     ]
    }
   ],
   "source": [
    "def f(x):\n",
    "    def g(y):\n",
    "        return x + y\n",
    "    return g\n",
    "\n",
    "def h(x):\n",
    "    return lambda y: x + y\n",
    "\n",
    "a = f(1)\n",
    "b = h(1)\n",
    "print(a, b)\n",
    "print(a(5), b(5))\n",
    "print(f(1)(5), h(1)(5))"
   ]
  },
  {
   "cell_type": "markdown",
   "metadata": {},
   "source": [
    "both a and b are closures—or rather, variables with a closure as value—in both cases produced by returning a nested function with a free variable from an enclosing function, so that the free variable binds to the parameter x of the enclosing function. However, in the first case the nested function has a name, g, while in the second case the nested function is anonymous. The closures need not be assigned to a variable, and can be used directly, as in the last lines—the original name (if any) used in defining them is irrelevant. This usage may be deemed an \"anonymous closure\".\n",
    "\n",
    "**1: Copied from** : \"https://en.wikipedia.org/wiki/Closure_(computer_programming)\""
   ]
  },
  {
   "cell_type": "code",
   "execution_count": 34,
   "metadata": {},
   "outputs": [
    {
     "name": "stdout",
     "output_type": "stream",
     "text": [
      "22\n",
      "22\n"
     ]
    }
   ],
   "source": [
    "def make_adder(x):\n",
    "    def add(y):\n",
    "        return x + y\n",
    "    return add\n",
    "\n",
    "plus10 = make_adder(10)\n",
    "print(plus10(12))  # make_adder(10).add(12)\n",
    "print(make_adder(10)(12))"
   ]
  },
  {
   "cell_type": "markdown",
   "metadata": {},
   "source": [
    "Closures can avoid the use of global values and provides some form of data hiding. It can also provide an object oriented solution to the problem.\n",
    "\n",
    "When there are few methods (one method in most cases) to be implemented in a class, closures can provide an alternate and more elegant solutions. But when the number of attributes and methods get larger, better implement a class."
   ]
  },
  {
   "cell_type": "markdown",
   "metadata": {},
   "source": [
    "\n",
    "In functional programming, functions can be treated as objects. That is, they can assigned to a variable, can be passed as arguments or even returned from other functions."
   ]
  },
  {
   "cell_type": "code",
   "execution_count": 35,
   "metadata": {
    "scrolled": true
   },
   "outputs": [
    {
     "name": "stdout",
     "output_type": "stream",
     "text": [
      "140400728229376 ['__abs__', '__add__', '__and__', '__bool__', '__ceil__', '__class__', '__delattr__', '__dir__', '__divmod__', '__doc__', '__eq__', '__float__', '__floor__', '__floordiv__', '__format__', '__ge__', '__getattribute__', '__getnewargs__', '__gt__', '__hash__', '__index__', '__init__', '__init_subclass__', '__int__', '__invert__', '__le__', '__lshift__', '__lt__', '__mod__', '__mul__', '__ne__', '__neg__', '__new__', '__or__', '__pos__', '__pow__', '__radd__', '__rand__', '__rdivmod__', '__reduce__', '__reduce_ex__', '__repr__', '__rfloordiv__', '__rlshift__', '__rmod__', '__rmul__', '__ror__', '__round__', '__rpow__', '__rrshift__', '__rshift__', '__rsub__', '__rtruediv__', '__rxor__', '__setattr__', '__sizeof__', '__str__', '__sub__', '__subclasshook__', '__truediv__', '__trunc__', '__xor__', 'bit_length', 'conjugate', 'denominator', 'from_bytes', 'imag', 'numerator', 'real', 'to_bytes']\n",
      "140400474504864 ['__annotations__', '__call__', '__class__', '__closure__', '__code__', '__defaults__', '__delattr__', '__dict__', '__dir__', '__doc__', '__eq__', '__format__', '__ge__', '__get__', '__getattribute__', '__globals__', '__gt__', '__hash__', '__init__', '__init_subclass__', '__kwdefaults__', '__le__', '__lt__', '__module__', '__name__', '__ne__', '__new__', '__qualname__', '__reduce__', '__reduce_ex__', '__repr__', '__setattr__', '__sizeof__', '__str__', '__subclasshook__']\n"
     ]
    }
   ],
   "source": [
    "a = 10\n",
    "def test_function():\n",
    "    pass\n",
    "print(id(a), dir(a))\n",
    "print(id(test_function), dir(test_function))"
   ]
  },
  {
   "cell_type": "markdown",
   "metadata": {},
   "source": [
    "### The lambda"
   ]
  },
  {
   "cell_type": "markdown",
   "metadata": {},
   "source": [
    "The lambda operator or lambda function is a way to create small anonymous functions, i.e. functions without a name. These functions are throw-away functions, i.e. they are just needed where they have been created. Lambda functions are mainly used in combination with the functions filter(), map() and reduce(). The lambda feature was added to Python due to the demand from Lisp programmers.\n",
    "\n",
    "The general syntax of a lambda function is quite simple:\n",
    "\n",
    "`lambda argument_list: expression`\n",
    "\n",
    "The argument list consists of a comma separated list of arguments and the expression is an arithmetic expression using these arguments. You can assign the function to a variable to give it a name.\n",
    "The following example of a lambda function returns the sum of its two arguments: "
   ]
  },
  {
   "cell_type": "markdown",
   "metadata": {},
   "source": [
    "The simplest way to initialize a pure function in python is by using `lambda` keyword. It helps in defining an one-line function. \n",
    "\n",
    "Functions initialized with lambda are also called **anonymous functions**."
   ]
  },
  {
   "cell_type": "code",
   "execution_count": 36,
   "metadata": {},
   "outputs": [
    {
     "name": "stdout",
     "output_type": "stream",
     "text": [
      "200\n",
      "240\n"
     ]
    }
   ],
   "source": [
    "# Example lambda keyword\n",
    "product_func = lambda x, y: x * y\n",
    "\n",
    "print(product_func(10, 20))\n",
    "print(product_func(120, 2))"
   ]
  },
  {
   "cell_type": "markdown",
   "metadata": {},
   "source": [
    "In the above example higher-order function that takes two inputs- A function `F(x)` and a multiplier `m`."
   ]
  },
  {
   "cell_type": "code",
   "execution_count": 37,
   "metadata": {
    "scrolled": true
   },
   "outputs": [
    {
     "name": "stdout",
     "output_type": "stream",
     "text": [
      "[[1, 2, 3], 4]\n"
     ]
    }
   ],
   "source": [
    "concat = lambda x, y: [x, y]\n",
    "\n",
    "print(concat([1, 2, 3], 4))"
   ]
  },
  {
   "cell_type": "code",
   "execution_count": 38,
   "metadata": {},
   "outputs": [
    {
     "name": "stdout",
     "output_type": "stream",
     "text": [
      "[{}, (2, 4)]\n"
     ]
    }
   ],
   "source": [
    "print(concat({}, (2, 4)))"
   ]
  },
  {
   "cell_type": "code",
   "execution_count": 39,
   "metadata": {},
   "outputs": [],
   "source": [
    "product_func = lambda x, y: x * y\n",
    "\n",
    "sum_func = lambda F, m: lambda x, y: F(x, y) + m"
   ]
  },
  {
   "cell_type": "code",
   "execution_count": 40,
   "metadata": {},
   "outputs": [],
   "source": [
    "### TODO: some expl."
   ]
  },
  {
   "cell_type": "code",
   "execution_count": 41,
   "metadata": {},
   "outputs": [
    {
     "name": "stdout",
     "output_type": "stream",
     "text": [
      "14\n"
     ]
    }
   ],
   "source": [
    "print(sum_func(product_func, 6)(2, 4)) "
   ]
  },
  {
   "cell_type": "markdown",
   "metadata": {},
   "source": [
    "```python\n",
    "14 = 2 * 4 + 6\n",
    "F -> product_func\n",
    "m => 6\n",
    "x -> 2\n",
    "y -> 4\n",
    "2 * 4 + 6 = 8 + 6 = 14\n",
    "```"
   ]
  },
  {
   "cell_type": "code",
   "execution_count": 42,
   "metadata": {},
   "outputs": [
    {
     "name": "stdout",
     "output_type": "stream",
     "text": [
      "<function <lambda> at 0x7fb18868be18>\n"
     ]
    }
   ],
   "source": [
    "print(sum_func)"
   ]
  },
  {
   "cell_type": "code",
   "execution_count": 43,
   "metadata": {},
   "outputs": [
    {
     "name": "stdout",
     "output_type": "stream",
     "text": [
      "<function <lambda>.<locals>.<lambda> at 0x7fb188621840>\n"
     ]
    }
   ],
   "source": [
    "print(sum_func(product_func, 5))"
   ]
  },
  {
   "cell_type": "code",
   "execution_count": 44,
   "metadata": {
    "scrolled": true
   },
   "outputs": [
    {
     "name": "stdout",
     "output_type": "stream",
     "text": [
      "20\n"
     ]
    }
   ],
   "source": [
    "print(sum_func(product_func, 5)(3, 5))"
   ]
  },
  {
   "cell_type": "markdown",
   "metadata": {},
   "source": [
    "#### Use of Lambda Function"
   ]
  },
  {
   "cell_type": "markdown",
   "metadata": {},
   "source": [
    "We use lambda functions when we require a nameless function for a short period of time.\n",
    "\n",
    "In Python, we generally use it as an argument to a higher-order function (a function that takes in other functions as arguments). Lambda functions are used along with built-in functions like filter(), map() etc."
   ]
  },
  {
   "cell_type": "markdown",
   "metadata": {},
   "source": [
    "### Functions as Objects"
   ]
  },
  {
   "cell_type": "markdown",
   "metadata": {},
   "source": [
    "Functions are first-class objects in Python, meaning they have attributes and can be referenced and assigned to variables."
   ]
  },
  {
   "cell_type": "code",
   "execution_count": 45,
   "metadata": {},
   "outputs": [
    {
     "name": "stdout",
     "output_type": "stream",
     "text": [
      "100\n",
      "10000\n"
     ]
    }
   ],
   "source": [
    "def square(x):\n",
    "    \"\"\"\n",
    "    This returns the square of the requested number `x`\n",
    "    \"\"\"\n",
    "    return x**2\n",
    "\n",
    "print(square(10))\n",
    "print(square(100))"
   ]
  },
  {
   "cell_type": "markdown",
   "metadata": {},
   "source": [
    "In the above example, we created a function `square` and tested it against two values `10` and `100`. Now lets assign a variable to the above function and play with it."
   ]
  },
  {
   "cell_type": "code",
   "execution_count": 46,
   "metadata": {},
   "outputs": [
    {
     "name": "stdout",
     "output_type": "stream",
     "text": [
      "10000\n",
      "<function square at 0x7fb1886218c8>\n",
      "<function square at 0x7fb1886218c8>\n",
      "140400474069192\n",
      "140400474069192\n"
     ]
    }
   ],
   "source": [
    "# Assignation to another variable\n",
    "power = square\n",
    "print(power(100))\n",
    "print(square)\n",
    "print(power)\n",
    "print(id(square))\n",
    "print(id(power))"
   ]
  },
  {
   "cell_type": "markdown",
   "metadata": {},
   "source": [
    "In the above execution, we can see that both `power` and `square` are pointing to same function `square`.  "
   ]
  },
  {
   "cell_type": "code",
   "execution_count": 47,
   "metadata": {},
   "outputs": [
    {
     "name": "stdout",
     "output_type": "stream",
     "text": [
      "******************************\n",
      "square\n",
      "******************************\n",
      "<code object square at 0x7fb188669d20, file \"<ipython-input-45-52e68a4a6d18>\", line 1>\n",
      "******************************\n",
      "\n",
      "    This returns the square of the requested number `x`\n",
      "    \n"
     ]
    }
   ],
   "source": [
    "# attributes present\n",
    "print(\"*\"*30)\n",
    "print(power.__name__)\n",
    "print(\"*\"*30)\n",
    "print(square.__code__)\n",
    "print(\"*\"*30)\n",
    "print(square.__doc__)"
   ]
  },
  {
   "cell_type": "markdown",
   "metadata": {},
   "source": [
    "we can see that functions also have attributes, we can see the list of attributes exposed by using the code with syntax `dir(<func_name>)`."
   ]
  },
  {
   "cell_type": "code",
   "execution_count": 48,
   "metadata": {},
   "outputs": [
    {
     "name": "stdout",
     "output_type": "stream",
     "text": [
      "['__annotations__', '__call__', '__class__', '__closure__', '__code__', '__defaults__', '__delattr__', '__dict__', '__dir__', '__doc__', '__eq__', '__format__', '__ge__', '__get__', '__getattribute__', '__globals__', '__gt__', '__hash__', '__init__', '__init_subclass__', '__kwdefaults__', '__le__', '__lt__', '__module__', '__name__', '__ne__', '__new__', '__qualname__', '__reduce__', '__reduce_ex__', '__repr__', '__setattr__', '__sizeof__', '__str__', '__subclasshook__']\n"
     ]
    }
   ],
   "source": [
    "print(dir(square))"
   ]
  },
  {
   "cell_type": "markdown",
   "metadata": {},
   "source": [
    "### Adding attributes to a function"
   ]
  },
  {
   "cell_type": "markdown",
   "metadata": {},
   "source": [
    "We can also add attributes to a function. In the below example we are addting attribute `d` to the function"
   ]
  },
  {
   "cell_type": "code",
   "execution_count": 49,
   "metadata": {},
   "outputs": [
    {
     "name": "stdout",
     "output_type": "stream",
     "text": [
      "['__annotations__', '__call__', '__class__', '__closure__', '__code__', '__defaults__', '__delattr__', '__dict__', '__dir__', '__doc__', '__eq__', '__format__', '__ge__', '__get__', '__getattribute__', '__globals__', '__gt__', '__hash__', '__init__', '__init_subclass__', '__kwdefaults__', '__le__', '__lt__', '__module__', '__name__', '__ne__', '__new__', '__qualname__', '__reduce__', '__reduce_ex__', '__repr__', '__setattr__', '__sizeof__', '__str__', '__subclasshook__', 'd']\n"
     ]
    }
   ],
   "source": [
    "square.d = 10\n",
    "print(dir(square))"
   ]
  },
  {
   "cell_type": "markdown",
   "metadata": {},
   "source": [
    "In the above example higher-order function that takes two inputs- A function `F(x)` and a multiplier `m`."
   ]
  },
  {
   "cell_type": "markdown",
   "metadata": {},
   "source": [
    "### In-built Higher Order Functions"
   ]
  },
  {
   "cell_type": "markdown",
   "metadata": {},
   "source": [
    "Python provides many functions which can also act as higher order functions. We are going to cover few of them in this section."
   ]
  },
  {
   "cell_type": "markdown",
   "metadata": {},
   "source": [
    "#### `max()`"
   ]
  },
  {
   "cell_type": "markdown",
   "metadata": {},
   "source": [
    "Max returns the largest item in an iterable or the largest of two or more arguments.\n",
    "\n",
    "If one positional argument is provided, iterable must be a non-empty iterable (such as a non-empty string, tuple or list). The largest item in the iterable is returned. If two or more positional arguments are provided, the largest of the positional arguments is returned.\n",
    "\n",
    "The optional key argument specifies a one-argument ordering function like that used for list.sort(). The key argument, if supplied, must be in keyword form (for example, max(a,b,c,key=func))."
   ]
  },
  {
   "cell_type": "markdown",
   "metadata": {},
   "source": [
    "**Example**: Basic Example"
   ]
  },
  {
   "cell_type": "code",
   "execution_count": 50,
   "metadata": {},
   "outputs": [
    {
     "data": {
      "text/plain": [
       "[3, 4]"
      ]
     },
     "execution_count": 50,
     "metadata": {},
     "output_type": "execute_result"
    }
   ],
   "source": [
    "marks = [[1, 2], [2, 1], [2, 4], [3, 0], [3, 4], [3, 2]]\n",
    "max(marks)"
   ]
  },
  {
   "cell_type": "code",
   "execution_count": 51,
   "metadata": {},
   "outputs": [
    {
     "data": {
      "text/plain": [
       "5"
      ]
     },
     "execution_count": 51,
     "metadata": {},
     "output_type": "execute_result"
    }
   ],
   "source": [
    "marks = [1, 2, 4, 2, (5)]\n",
    "max(marks)"
   ]
  },
  {
   "cell_type": "code",
   "execution_count": 52,
   "metadata": {},
   "outputs": [
    {
     "name": "stdout",
     "output_type": "stream",
     "text": [
      "'>' not supported between instances of 'tuple' and 'int'\n"
     ]
    }
   ],
   "source": [
    "try:\n",
    "    marks = [1, 2, 4, 2, (5, 1)]\n",
    "    max(marks)\n",
    "except Exception as e:\n",
    "    print(e)"
   ]
  },
  {
   "cell_type": "code",
   "execution_count": 53,
   "metadata": {},
   "outputs": [
    {
     "name": "stdout",
     "output_type": "stream",
     "text": [
      "'>' not supported between instances of 'list' and 'int'\n"
     ]
    }
   ],
   "source": [
    "try:\n",
    "    marks = [1, 2, 4, 2, [5]]\n",
    "    max(marks)\n",
    "except Exception as e:\n",
    "    print(e)"
   ]
  },
  {
   "cell_type": "markdown",
   "metadata": {},
   "source": [
    "Now lets take an excercise, below are the marks for students for 8 semesters, and we need to find what is the highest marks in 3rd semester."
   ]
  },
  {
   "cell_type": "code",
   "execution_count": 54,
   "metadata": {},
   "outputs": [],
   "source": [
    "import random\n",
    "student_count = 10000\n",
    "max_marks = 100\n",
    "min_marks = 0\n",
    "semester = 8\n",
    "marks = [[random.randint(min_marks, max_marks) for _ in range(semester)] for _ in range(student_count)]"
   ]
  },
  {
   "cell_type": "code",
   "execution_count": 55,
   "metadata": {},
   "outputs": [
    {
     "name": "stdout",
     "output_type": "stream",
     "text": [
      "[[93, 26, 9, 84, 13, 52, 15, 9], [19, 99, 18, 0, 3, 86, 25, 89], [37, 79, 22, 9, 24, 14, 99, 48]]\n"
     ]
    }
   ],
   "source": [
    "print(marks[:3])"
   ]
  },
  {
   "cell_type": "markdown",
   "metadata": {},
   "source": [
    "we can achive it by using `itemgetter` from `operator` modules, which we have used in the past."
   ]
  },
  {
   "cell_type": "code",
   "execution_count": 56,
   "metadata": {},
   "outputs": [
    {
     "name": "stdout",
     "output_type": "stream",
     "text": [
      "Max number is each semester are as follows:\n",
      "\t 100\n",
      "\t 100\n",
      "\t 100\n",
      "\t 100\n",
      "\t 100\n",
      "\t 100\n",
      "\t 100\n",
      "\t 100\n"
     ]
    }
   ],
   "source": [
    "import operator\n",
    "\n",
    "print(\"Max number is each semester are as follows:\")\n",
    "for a in range(semester):\n",
    "    print('\\t', max(marks, key = operator.itemgetter(a))[a])"
   ]
  },
  {
   "cell_type": "markdown",
   "metadata": {},
   "source": [
    "As we have passed `operator.itemgetter` function as key, we can pass some custom function as well.\n",
    "\n",
    "Now lets assume a situation, were we have to calculate total marks, which are calculated as sum of 10% of first 6 semesters and 100% of 7th & 8th semester and we wants to find the highest mark obtained for the year 1994 batch."
   ]
  },
  {
   "cell_type": "code",
   "execution_count": 57,
   "metadata": {},
   "outputs": [
    {
     "data": {
      "text/plain": [
       "239.4"
      ]
     },
     "execution_count": 57,
     "metadata": {},
     "output_type": "execute_result"
    }
   ],
   "source": [
    "# %%timeit\n",
    "def marks_sum_v1(marks_list):\n",
    "    total = 0\n",
    "    for a in range(5):\n",
    "        total += marks_list[a] \n",
    "    total *= 0.1\n",
    "    for a in range(6, 8):\n",
    "        total += marks_list[a]\n",
    "    return total\n",
    "\n",
    "marks_sum_v1(max(marks, key = marks_sum_v1))"
   ]
  },
  {
   "cell_type": "code",
   "execution_count": 58,
   "metadata": {},
   "outputs": [
    {
     "name": "stdout",
     "output_type": "stream",
     "text": [
      "Maximum marks:\t 239.4\n"
     ]
    }
   ],
   "source": [
    "print('Maximum marks:\\t', marks_sum_v1(max(marks, key = marks_sum_v1)))"
   ]
  },
  {
   "cell_type": "code",
   "execution_count": 59,
   "metadata": {},
   "outputs": [
    {
     "data": {
      "text/plain": [
       "239.4"
      ]
     },
     "execution_count": 59,
     "metadata": {},
     "output_type": "execute_result"
    }
   ],
   "source": [
    "# %%timeit\n",
    "\n",
    "def marks_sum_v2(marks_list):\n",
    "    total = 0\n",
    "    \n",
    "    total = sum(marks_list[a] * 0.1 for a in range(5))\n",
    "    total += sum([marks_list[a] for a in range(6, 8)])\n",
    "    return total\n",
    "\n",
    "\n",
    "marks_sum_v2(max(marks, key=marks_sum_v2))"
   ]
  },
  {
   "cell_type": "code",
   "execution_count": 60,
   "metadata": {},
   "outputs": [
    {
     "data": {
      "text/plain": [
       "239.4"
      ]
     },
     "execution_count": 60,
     "metadata": {},
     "output_type": "execute_result"
    }
   ],
   "source": [
    "# %%timeit\n",
    "\n",
    "def marks_sum_v2(marks_list):\n",
    "    total = sum((sum(marks_list[a] for a in range(6, 8)), \n",
    "                 sum(marks_list[a] * 0.1 for a in range(5))))\n",
    "    return total\n",
    "\n",
    "marks_sum_v2(max(marks, key=marks_sum_v2))"
   ]
  },
  {
   "cell_type": "markdown",
   "metadata": {},
   "source": [
    "Similarly we can also use lambda in key variable."
   ]
  },
  {
   "cell_type": "markdown",
   "metadata": {},
   "source": [
    "Lets, take another example, we are conducting games, where teams have to perform few tasks and after each task they are provided some points. The team with highest score wins. \n",
    "\n",
    "Its our job to write an script which will take the scores (which are stored as list of lists) and provided what is the maximum score. "
   ]
  },
  {
   "cell_type": "markdown",
   "metadata": {},
   "source": [
    "In our solution, we will use `lambda` function to get the total of scores"
   ]
  },
  {
   "cell_type": "code",
   "execution_count": 61,
   "metadata": {},
   "outputs": [
    {
     "name": "stdout",
     "output_type": "stream",
     "text": [
      "[431, 439, 379, 273, 583, 365, 418, 366, 307]\n",
      "583\n"
     ]
    }
   ],
   "source": [
    "scores = [[14, 19, 96, 91, 32, 65, 87, 27], [11, 37, 22, 93, 75, 11, 95, 95], \n",
    "         [14, 54, 92, 72, 13, 17, 44, 73], [17, 31, 82, 80, 40, 4, 11, 8], \n",
    "         [86, 83, 85, 93, 85, 42, 22, 87], [44, 61, 17, 87, 21, 35, 90, 10],\n",
    "         [75, 27, 67, 88, 22, 84, 4, 51], [28, 25, 66, 22, 46, 56, 76, 47], \n",
    "         [24, 98, 16, 20, 92, 5, 40, 12]]\n",
    "\n",
    "results = []\n",
    "for a in scores:\n",
    "    results.append(sum(a))\n",
    "\n",
    "print(results)\n",
    "print(max(results))"
   ]
  },
  {
   "cell_type": "code",
   "execution_count": 62,
   "metadata": {},
   "outputs": [
    {
     "data": {
      "text/plain": [
       "583"
      ]
     },
     "execution_count": 62,
     "metadata": {},
     "output_type": "execute_result"
    }
   ],
   "source": [
    "sum(max(scores, key=lambda x: sum(x)))"
   ]
  },
  {
   "cell_type": "markdown",
   "metadata": {},
   "source": []
  },
  {
   "cell_type": "markdown",
   "metadata": {},
   "source": [
    "#### min()"
   ]
  },
  {
   "cell_type": "markdown",
   "metadata": {},
   "source": [
    "Similer to `max`, `min` also provide the same functionality. thus is not covering in it in details except one example"
   ]
  },
  {
   "cell_type": "code",
   "execution_count": 63,
   "metadata": {},
   "outputs": [],
   "source": [
    "import random\n",
    "student_count = 10000\n",
    "max_marks = 100\n",
    "min_marks = 0\n",
    "semester = 8\n",
    "marks = [[random.randint(min_marks, max_marks) for _ in range(semester)] for _ in range(student_count)]"
   ]
  },
  {
   "cell_type": "code",
   "execution_count": 64,
   "metadata": {},
   "outputs": [
    {
     "name": "stdout",
     "output_type": "stream",
     "text": [
      "16.4\n"
     ]
    }
   ],
   "source": [
    "def marks_sum_v1(marks_list):\n",
    "    total = 0\n",
    "    for a in range(5):\n",
    "        total += marks_list[a] \n",
    "    total *= 0.1\n",
    "    for a in range(6, 8):\n",
    "        total += marks_list[a] * 1\n",
    "    return total\n",
    "\n",
    "d = round(marks_sum_v1(min(marks, key = marks_sum_v1)),2)\n",
    "print(d)"
   ]
  }
 ],
 "metadata": {
  "kernelspec": {
   "display_name": "Python 3",
   "language": "python",
   "name": "python3"
  },
  "language_info": {
   "codemirror_mode": {
    "name": "ipython",
    "version": 3
   },
   "file_extension": ".py",
   "mimetype": "text/x-python",
   "name": "python",
   "nbconvert_exporter": "python",
   "pygments_lexer": "ipython3",
   "version": "3.6.1"
  }
 },
 "nbformat": 4,
 "nbformat_minor": 2
}
