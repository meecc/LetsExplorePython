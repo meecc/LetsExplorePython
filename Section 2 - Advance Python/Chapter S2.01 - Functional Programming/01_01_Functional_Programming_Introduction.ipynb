{
 "cells": [
  {
   "cell_type": "markdown",
   "metadata": {},
   "source": [
    "# Introduction to Functional Programming"
   ]
  },
  {
   "cell_type": "markdown",
   "metadata": {},
   "source": [
    "## What is Functional Programming"
   ]
  },
  {
   "cell_type": "markdown",
   "metadata": {},
   "source": [
    "Functional programming is a programming paradigm that revolves around **pure functions**. "
   ]
  },
  {
   "cell_type": "markdown",
   "metadata": {},
   "source": [
    "## Pure function"
   ]
  },
  {
   "cell_type": "markdown",
   "metadata": {},
   "source": [
    "A **pure function** is a function which can be represented as a mathematical expression. That means, no **side-effects** should be present, i.e. no I/O operations, no global state changes, no database interactions. \n",
    "\n",
    "<img src=\"files/PureFunction.png\" width=\"500\" alt=\"Pure Function Representation\">\n",
    "\n",
    "The output from a pure function is depended **ONLY** on its inputs. Thus, if a pure function is called with the same inputs a million times, you would get the same result every single time."
   ]
  },
  {
   "cell_type": "code",
   "execution_count": 1,
   "metadata": {},
   "outputs": [
    {
     "name": "stdout",
     "output_type": "stream",
     "text": [
      "1\n",
      "0\n",
      "12\n",
      "11\n"
     ]
    }
   ],
   "source": [
    "# not so functional function\n",
    "a = 0\n",
    "\n",
    "def global_sum(x):\n",
    "    global a\n",
    "    x += a\n",
    "    return x\n",
    "\n",
    "print(global_sum(1))\n",
    "print(a)\n",
    "a = 11\n",
    "print(global_sum(1))\n",
    "print(a)"
   ]
  },
  {
   "cell_type": "code",
   "execution_count": 4,
   "metadata": {},
   "outputs": [
    {
     "name": "stdout",
     "output_type": "stream",
     "text": [
      "1\n",
      "0\n",
      "12\n",
      "11\n"
     ]
    }
   ],
   "source": [
    "# not so functional function\n",
    "a = 0\n",
    "\n",
    "def global_sum(x):\n",
    "    global a\n",
    "    return x + a\n",
    "\n",
    "print(global_sum(x=1))\n",
    "print(a)\n",
    "a = 11\n",
    "print(global_sum(x=1))\n",
    "print(a)"
   ]
  },
  {
   "cell_type": "markdown",
   "metadata": {},
   "source": [
    "In the above example, the output of the function `global_sum` changed due to the value of `a`, thus it is unfunctional function."
   ]
  },
  {
   "cell_type": "code",
   "execution_count": 5,
   "metadata": {},
   "outputs": [
    {
     "name": "stdout",
     "output_type": "stream",
     "text": [
      "2\n",
      "4\n",
      "2\n"
     ]
    }
   ],
   "source": [
    "# a better functional function\n",
    "def better_sum(a, x):\n",
    "    return a+x\n",
    "\n",
    "num = better_sum(1, 1)\n",
    "print(num)\n",
    "num = better_sum(1, 3)\n",
    "print(num)\n",
    "num = better_sum(1, 1)\n",
    "print(num)"
   ]
  },
  {
   "cell_type": "markdown",
   "metadata": {},
   "source": [
    "and in the above example `better_sum`, the function returns always the same value for the set of input and only provided input can have any impact on the output of the function."
   ]
  },
  {
   "cell_type": "markdown",
   "metadata": {},
   "source": [
    "### Characteristics of functional programming"
   ]
  },
  {
   "cell_type": "markdown",
   "metadata": {},
   "source": [
    "- Functions are first class (objects). So, data and functions are treated as same and have access to same operations(such as passing a function to another function).\n",
    "- Recursion as primary control structure.\n",
    "- There is a focus on LISt Processing and are often used with recursion on sub-lists as a substitute for loops.\n",
    "- Avoid \"side-effects\". It excludes the almost ubiquitous pattern in imperative languages of assigning first one, then another value to the same variable to track the program state.\n",
    "- Either discourages or outright disallows statements, and instead works with the evaluation of expressions (in other words, functions plus arguments). In the pure case, one program is one expression (plus supporting definitions).\n",
    "- FP worries about what is to be computed rather than how it is to be computed.\n",
    "- Much FP utilizes \"higher order\" functions (in other words, functions that operate on functions that operate on functions)."
   ]
  }
 ],
 "metadata": {
  "kernelspec": {
   "display_name": "Python 3",
   "language": "python",
   "name": "python3"
  },
  "language_info": {
   "codemirror_mode": {
    "name": "ipython",
    "version": 3
   },
   "file_extension": ".py",
   "mimetype": "text/x-python",
   "name": "python",
   "nbconvert_exporter": "python",
   "pygments_lexer": "ipython3",
   "version": "3.6.1"
  }
 },
 "nbformat": 4,
 "nbformat_minor": 2
}
