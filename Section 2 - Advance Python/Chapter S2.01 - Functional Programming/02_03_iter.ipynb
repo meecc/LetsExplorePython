{
 "cells": [
  {
   "cell_type": "markdown",
   "metadata": {},
   "source": [
    "## Python Iterators"
   ]
  },
  {
   "cell_type": "markdown",
   "metadata": {},
   "source": [
    "As common sense suggest, `Iterators` are `object` which can be iterated upon such as list, dictionary, string etc. In `Python` they are literally everywhere. \n",
    "\n",
    "They are `objects` which when iterated retuns one element at a time. We have already seen most of the inbuilt iterators, such as list, tuple, dictionary, string, etc. In this chapter we are going to create our own custom iterators."
   ]
  },
  {
   "cell_type": "markdown",
   "metadata": {},
   "source": [
    "There are few ways in which we can create a custom iterators."
   ]
  },
  {
   "cell_type": "markdown",
   "metadata": {},
   "source": [
    "### Class Methods"
   ]
  },
  {
   "cell_type": "markdown",
   "metadata": {},
   "source": [
    "In order to create a python iterator, our custom class must implement two special methods, `__iter__()` and `__next__()`, which collectively are called the `iterator protocol`."
   ]
  },
  {
   "cell_type": "code",
   "execution_count": 8,
   "metadata": {},
   "outputs": [
    {
     "name": "stdout",
     "output_type": "stream",
     "text": [
      "1\n",
      "2\n",
      "3\n",
      "4\n",
      "5\n",
      "6\n"
     ]
    }
   ],
   "source": [
    "class MyIter(object):\n",
    "    def __init__(self, lst):\n",
    "        self.lst = lst\n",
    "        self.i = 0\n",
    "    \n",
    "    def __iter__(self):\n",
    "        self.i = 0\n",
    "        return self\n",
    "    \n",
    "    def __next__(self):\n",
    "        if self.i < len(self.lst):\n",
    "            nxt = self.lst[self.i]\n",
    "            self.i +=1\n",
    "            return nxt\n",
    "        else:\n",
    "            raise StopIteration\n",
    "\n",
    "m = MyIter([1, 2, 3, 4, 5, 6])\n",
    "\n",
    "for a in m:\n",
    "    print(a)"
   ]
  },
  {
   "cell_type": "markdown",
   "metadata": {},
   "source": [
    "### `iter()`"
   ]
  },
  {
   "cell_type": "markdown",
   "metadata": {},
   "source": [
    "The `iter()` method returns an iterator for the given object."
   ]
  },
  {
   "cell_type": "markdown",
   "metadata": {},
   "source": [
    "**Syntax**:\n",
    "\n",
    "```python\n",
    "iter(object[, sentinel])\n",
    "```\n",
    "\n",
    "Where `object` is an object based on which the iterator needs to be constructed. The behavior of iterator is dependent on the value of `sentinel`, if `sentinel` is not provided then `object` should be an interator and the construct will behave as such, where as if `sentinel` is provided then `object` should be callable, and value returned will be treated as `next` call. Iteration ends when the value retuned equals to value in `sentinel`"
   ]
  },
  {
   "cell_type": "code",
   "execution_count": 11,
   "metadata": {},
   "outputs": [
    {
     "name": "stdout",
     "output_type": "stream",
     "text": [
      "1\n",
      "2\n"
     ]
    }
   ],
   "source": [
    "class MyDummy(object):\n",
    "    def __init__(self):\n",
    "        self.lst = [1, 2, 3, 4, 5, 6]\n",
    "        self.i = 0\n",
    "        \n",
    "    def __call__(self):\n",
    "        ret = self.lst[self.i]\n",
    "        self.i += 1\n",
    "        return ret\n",
    "\n",
    "d = MyDummy()\n",
    "\n",
    "\n",
    "for a in iter(d, 3):\n",
    "    print(a, end=\" \")"
   ]
  },
  {
   "cell_type": "code",
   "execution_count": 17,
   "metadata": {},
   "outputs": [
    {
     "name": "stdout",
     "output_type": "stream",
     "text": [
      "1 2 3 4 5 6 "
     ]
    }
   ],
   "source": [
    "m = MyIter([1, 2, 3, 4, 5, 6])\n",
    "for a in iter(m):\n",
    "    print(a, end=\" \")"
   ]
  },
  {
   "cell_type": "markdown",
   "metadata": {},
   "source": [
    "lets try another example, this time lets take a string"
   ]
  },
  {
   "cell_type": "code",
   "execution_count": 16,
   "metadata": {},
   "outputs": [
    {
     "name": "stdout",
     "output_type": "stream",
     "text": [
      "W e l c o m e   t o   t h e   c i t y   o f   l a k e s "
     ]
    }
   ],
   "source": [
    "st = \"Welcome to the city of lakes\"\n",
    "\n",
    "for a in iter(st):\n",
    "    print(a, end=\" \")"
   ]
  }
 ],
 "metadata": {
  "kernelspec": {
   "display_name": "Python 3",
   "language": "python",
   "name": "python3"
  },
  "language_info": {
   "codemirror_mode": {
    "name": "ipython",
    "version": 3
   },
   "file_extension": ".py",
   "mimetype": "text/x-python",
   "name": "python",
   "nbconvert_exporter": "python",
   "pygments_lexer": "ipython3",
   "version": "3.6.1"
  }
 },
 "nbformat": 4,
 "nbformat_minor": 2
}
