{
 "cells": [
  {
   "cell_type": "markdown",
   "metadata": {},
   "source": [
    "## Introducing Some Functional Features"
   ]
  },
  {
   "cell_type": "markdown",
   "metadata": {},
   "source": [
    "Below are the list of features present in python and which we are going to cover in `functional programming` module.\n",
    "\n",
    "- Functions as first-class\n",
    "    - Pure function\n",
    "    - Higher order functions\n",
    "        - max() & min()\n",
    "        - lambda\n",
    "        - map()\n",
    "        - filter() \n",
    "            - to pass or reject data\n",
    "            -  to identify outliers\n",
    "        - iter()\n",
    "        - sorted()\n",
    "- Immutable data \n",
    "- Evaluation\n",
    "    - Strict \n",
    "    - non-strict\n",
    "- Recursion & Reductions\n",
    "    - Simple recursion\n",
    "        - tail-call optimization\n",
    "        - tail-call optimization for collections\n",
    "        - many to one\n",
    "    - groupby() recursion - many to few\n",
    "        - mapping by Counter\n",
    "        - mapping by sorting\n",
    "        - grouping by key\n",
    "        - writing file parsers\n",
    "            - csv file\n",
    "- Functional type system\n",
    "- Functions, Iterators & Generators\n",
    "- Collections  & Functional Programming\n",
    "    - iterables\n",
    "    - zip & flatten sequences\n",
    "    - reversed()\n",
    "    - enumerate()"
   ]
  },
  {
   "cell_type": "markdown",
   "metadata": {},
   "source": [
    "> <center>**NOTE**</center>\n",
    "> \n",
    "> If I missed any topic in the below sections, Please let me know at mayankjohri@gmail.com"
   ]
  }
 ],
 "metadata": {
  "kernelspec": {
   "display_name": "Python 3",
   "language": "python",
   "name": "python3"
  },
  "language_info": {
   "codemirror_mode": {
    "name": "ipython",
    "version": 3
   },
   "file_extension": ".py",
   "mimetype": "text/x-python",
   "name": "python",
   "nbconvert_exporter": "python",
   "pygments_lexer": "ipython3",
   "version": "3.6.1"
  }
 },
 "nbformat": 4,
 "nbformat_minor": 2
}
