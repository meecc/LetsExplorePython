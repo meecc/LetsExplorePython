{
 "cells": [
  {
   "cell_type": "markdown",
   "metadata": {},
   "source": [
    "# Introduction"
   ]
  },
  {
   "cell_type": "markdown",
   "metadata": {},
   "source": [
    "This is my attempt to consolidate my training materials on Functional Programming in Python. Once consolidated, it will become part of my upcoming book \"_Lets Explore: Advance Python_\" which will contains all the remaining topics left from Core Python.\n",
    "\n",
    "Future Plans: Plan is to an e.book on Advance topics on Python and this book will be a stepping stone for that in mind.\n",
    "\n",
    "As always, for any changes, correction, suggestions etc, I can be reached at mayankjohri@gmail.com."
   ]
  }
 ],
 "metadata": {
  "kernelspec": {
   "display_name": "Python 3",
   "language": "python",
   "name": "python3"
  },
  "language_info": {
   "codemirror_mode": {
    "name": "ipython",
    "version": 3
   },
   "file_extension": ".py",
   "mimetype": "text/x-python",
   "name": "python",
   "nbconvert_exporter": "python",
   "pygments_lexer": "ipython3",
   "version": "3.6.1"
  }
 },
 "nbformat": 4,
 "nbformat_minor": 2
}
