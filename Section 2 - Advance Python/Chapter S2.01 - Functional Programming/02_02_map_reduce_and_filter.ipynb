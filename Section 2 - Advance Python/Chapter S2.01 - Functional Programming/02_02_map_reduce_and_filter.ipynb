{
 "cells": [
  {
   "cell_type": "markdown",
   "metadata": {},
   "source": [
    "## map, reduce and filter"
   ]
  },
  {
   "cell_type": "markdown",
   "metadata": {},
   "source": [
    "These are three functions which facilitate a functional approach to programming. `map`, `reduce` and `filter` are three higher-order functions that appear in all pure functional languages including Python. They are often are used in functional code to make it more elegant."
   ]
  },
  {
   "cell_type": "markdown",
   "metadata": {},
   "source": [
    "### Map"
   ]
  },
  {
   "cell_type": "markdown",
   "metadata": {},
   "source": [
    "It basically provides kind of parallelism by calling the requested function over all elements in a list/array or in other words, \n",
    "Map applies a function to all the items in the given list and returns a new list.\n",
    "\n",
    "It takes a function and a collection of items as parameters and makes a new, empty collection, runs the function on each item in the original collection and inserts each return value into the new collection. It then returns the updated collection.\n",
    "\n",
    "This is a simple map that takes a list of names and returns a list of the lengths of those names:"
   ]
  },
  {
   "cell_type": "code",
   "execution_count": 56,
   "metadata": {},
   "outputs": [
    {
     "name": "stdout",
     "output_type": "stream",
     "text": [
      "[6, 5, 6, 5]\n"
     ]
    }
   ],
   "source": [
    "names = [ \"Manish\", \"Aalok\", \"Mayank\",\"Durga\"]\n",
    "lst = []\n",
    "\n",
    "for name in names:\n",
    "    lst.append(len(name))\n",
    "    \n",
    "print(lst)"
   ]
  },
  {
   "cell_type": "code",
   "execution_count": 6,
   "metadata": {},
   "outputs": [
    {
     "name": "stdout",
     "output_type": "stream",
     "text": [
      "<map object at 0x7f4ef8130390>\n",
      "(6, 5, 6, 5)\n",
      "<map object at 0x7f4ef8130358>\n"
     ]
    }
   ],
   "source": [
    "names =  (\"Manish\", \"Aalok\", \"Mayank\",\"Durga\")\n",
    "\n",
    "tmp = map(len, names)\n",
    "print(tmp)\n",
    "lst = tuple(tmp)\n",
    "\n",
    "print(lst)\n",
    "\n",
    "# This is a map that squares every number in the passed collection:\n",
    "power = map(lambda x: x * x, lst)\n",
    "print(power)\n",
    "# print(list(power))"
   ]
  },
  {
   "cell_type": "code",
   "execution_count": 7,
   "metadata": {},
   "outputs": [
    {
     "data": {
      "text/plain": [
       "[1024, 177147, 16777216]"
      ]
     },
     "execution_count": 7,
     "metadata": {},
     "output_type": "execute_result"
    }
   ],
   "source": [
    "list(map(pow,[2, 3, 4], [10, 11, 12]))"
   ]
  },
  {
   "cell_type": "code",
   "execution_count": 15,
   "metadata": {},
   "outputs": [
    {
     "name": "stdout",
     "output_type": "stream",
     "text": [
      "{'Manish': 'The Big Boss', 'Aalok': 'Mr. Cool', 'Roshan Musheer': 'Mr. God', 'Mayank': 'Mr. Normal'}\n"
     ]
    }
   ],
   "source": [
    "import random\n",
    "\n",
    "names_dict = {}\n",
    "names = [\"Mayank\", \"Manish\", \"Aalok\", \"Roshan Musheer\"]\n",
    "code_names = ['Mr. Normal', 'Mr. God', 'Mr. Cool', 'The Big Boss']\n",
    "\n",
    "for i in range(len(names)):\n",
    "#     name = random.choice(code_names)\n",
    "    while name in names_dict.values():\n",
    "        name = random.choice(code_names)\n",
    "    names_dict[names[i]] = name \n",
    "        \n",
    "print(names_dict)"
   ]
  },
  {
   "cell_type": "markdown",
   "metadata": {},
   "source": [
    "This can be rewritten as a lamba:"
   ]
  },
  {
   "cell_type": "code",
   "execution_count": 8,
   "metadata": {},
   "outputs": [
    {
     "name": "stdout",
     "output_type": "stream",
     "text": [
      "{'Mayank': 'Mr. Cool', 'Roshan Musheer': 'Mr. Normal', 'Aalok': 'The Big Boss', 'Manish': 'Mr. God'}\n"
     ]
    }
   ],
   "source": [
    "import random\n",
    "\n",
    "names = [\"Mayank\", \"Manish\", \"Aalok\", \"Roshan Musheer\"]\n",
    "code_names = ['Mr. Normal', 'Mr. God', 'Mr. Cool', 'The Big Boss']\n",
    "random.shuffle(code_names)\n",
    "\n",
    "a_dict = lambda: {k: v for k, v in zip(names, code_names)}\n",
    "print(a_dict())"
   ]
  },
  {
   "cell_type": "code",
   "execution_count": 100,
   "metadata": {
    "collapsed": true
   },
   "outputs": [],
   "source": [
    "# Excercise -> Try the above one using map, if possible"
   ]
  },
  {
   "cell_type": "code",
   "execution_count": 9,
   "metadata": {},
   "outputs": [
    {
     "name": "stdout",
     "output_type": "stream",
     "text": [
      "[1, 32, 16384, 10077696]\n"
     ]
    }
   ],
   "source": [
    "def dictMap(f, xs) :\n",
    "    return dict((f(i), i) for i in xs)\n",
    "lst = [1,2,4,6]\n",
    "lst2 = [3,5, 7,9]\n",
    "print(list(map(pow, lst, lst2)))"
   ]
  },
  {
   "cell_type": "code",
   "execution_count": 1,
   "metadata": {},
   "outputs": [
    {
     "name": "stdout",
     "output_type": "stream",
     "text": [
      "[97.7, 98.60000000000001, 99.5, 102.2]\n"
     ]
    }
   ],
   "source": [
    "def fahrenheit(T):\n",
    "    return ((float(9)/5)*T + 32)\n",
    "\n",
    "temp = (36.5, 37, 37.5, 39)\n",
    "\n",
    "F = map(fahrenheit, temp)\n",
    "print(list(F))"
   ]
  },
  {
   "cell_type": "markdown",
   "metadata": {},
   "source": [
    "### Reduce"
   ]
  },
  {
   "cell_type": "markdown",
   "metadata": {},
   "source": [
    "Reduce takes a function and a collection of items. It returns a value that is created by combining the items. This is a simple reduce. It returns the sum of all the items in the collection."
   ]
  },
  {
   "cell_type": "code",
   "execution_count": 20,
   "metadata": {
    "scrolled": true
   },
   "outputs": [
    {
     "name": "stdout",
     "output_type": "stream",
     "text": [
      "120\n",
      "25\n"
     ]
    }
   ],
   "source": [
    "from functools import reduce\n",
    "\n",
    "product = reduce(lambda a, x: a * x, range(1, 6))\n",
    "\n",
    "print(product) # (((1 * 2 )* 3 )* 4) * 5\n",
    "print(reduce(lambda a, x: a + x, range(1, 6), 10)) #-> 10 + 1 + 2+ "
   ]
  },
  {
   "cell_type": "code",
   "execution_count": 19,
   "metadata": {},
   "outputs": [
    {
     "name": "stdout",
     "output_type": "stream",
     "text": [
      "Help on built-in function reduce in module _functools:\n",
      "\n",
      "reduce(...)\n",
      "    reduce(function, sequence[, initial]) -> value\n",
      "    \n",
      "    Apply a function of two arguments cumulatively to the items of a sequence,\n",
      "    from left to right, so as to reduce the sequence to a single value.\n",
      "    For example, reduce(lambda x, y: x+y, [1, 2, 3, 4, 5]) calculates\n",
      "    ((((1+2)+3)+4)+5).  If initial is present, it is placed before the items\n",
      "    of the sequence in the calculation, and serves as a default when the\n",
      "    sequence is empty.\n",
      "\n"
     ]
    }
   ],
   "source": [
    "help(reduce)"
   ]
  },
  {
   "cell_type": "markdown",
   "metadata": {},
   "source": [
    "In the above example, `x` is the current iterated item and `a` is the accumulator. \n",
    "It is the value returned by the execution of the lambda on the previous item. reduce() walks through the items. For each one, it runs the lambda on the current a and x and returns the result as the a of the next iteration.\n",
    "\n",
    "What is a in the first iteration? There is no previous iteration result for it to pass along. reduce() uses the first item in the collection for a in the first iteration and starts iterating at the second item. That is, the first x is the second item.\n",
    "\n",
    "This code counts how often the word 'the' appears in a list of strings:"
   ]
  },
  {
   "cell_type": "code",
   "execution_count": 23,
   "metadata": {},
   "outputs": [
    {
     "name": "stdout",
     "output_type": "stream",
     "text": [
      "6\n"
     ]
    }
   ],
   "source": [
    "sentences = ['Copy the variable assignment for our new empty list'\n",
    "             'Copy the expression that we’ve been append-ing into this new list'\n",
    "             'Copy the for loop line, excluding the final'\n",
    "             'Copy the if statement line, also without the']\n",
    "\n",
    "count = 0\n",
    "for sentence in sentences:\n",
    "    count += sentence.count('the')\n",
    "\n",
    "print(count)"
   ]
  },
  {
   "cell_type": "code",
   "execution_count": 3,
   "metadata": {},
   "outputs": [
    {
     "name": "stdout",
     "output_type": "stream",
     "text": [
      "Help on built-in function reduce in module _functools:\n",
      "\n",
      "reduce(...)\n",
      "    reduce(function, sequence[, initial]) -> value\n",
      "    \n",
      "    Apply a function of two arguments cumulatively to the items of a sequence,\n",
      "    from left to right, so as to reduce the sequence to a single value.\n",
      "    For example, reduce(lambda x, y: x+y, [1, 2, 3, 4, 5]) calculates\n",
      "    ((((1+2)+3)+4)+5).  If initial is present, it is placed before the items\n",
      "    of the sequence in the calculation, and serves as a default when the\n",
      "    sequence is empty.\n",
      "\n"
     ]
    }
   ],
   "source": [
    "help(reduce)"
   ]
  },
  {
   "cell_type": "code",
   "execution_count": 21,
   "metadata": {},
   "outputs": [
    {
     "name": "stdout",
     "output_type": "stream",
     "text": [
      "{'white': 9, 'purple': 13, 'pink': 3, 'yellow': 3, 'black': 4, 'peach': 9, 'indego': 8}\n"
     ]
    }
   ],
   "source": [
    "import random\n",
    "\n",
    "colours = [\"pink\", \"purple\", \"black\", \"yellow\", \"purple\", \"indego\", \"white\", \"peach\"]\n",
    "\n",
    "def foo(counter, i):\n",
    "  colour = random.choice(colours)\n",
    "  try:\n",
    "    counter[colour] += 1\n",
    "  except KeyError:\n",
    "    counter[colour] = 1\n",
    "  return counter\n",
    "\n",
    "counts = reduce(foo, range(1, 50), {})\n",
    "print(counts)"
   ]
  },
  {
   "cell_type": "markdown",
   "metadata": {},
   "source": [
    "**NOTE:**\n",
    "\n",
    "How does this code come up with its initial a? The starting point for the number of incidences of 'Sam' cannot be 'Mary read a story to Sam and Isla.' The initial accumulator is specified with the third argument to reduce(). This allows the use of a value of a different type from the items in the collection."
   ]
  },
  {
   "cell_type": "markdown",
   "metadata": {},
   "source": [
    "#### Benefits map and reduce \n",
    "\n",
    "* they are often one-liners.\n",
    "* the important parts of the iteration - the collection, the operation and the return value - are always in the same places in every map and reduce.\n",
    "* the code in a loop may affect variables defined before it or code that runs after it. By convention, maps and reduces are functional.\n",
    "* map and reduce are elemental operations. Every time a person reads a for loop, they have to work through the logic line by line. There are few structural regularities they can use to create a scaffolding on which to hang their understanding of the code. In contrast, map and reduce are at once building blocks that can be combined into complex algorithms, and elements that the code reader can instantly understand and abstract in their mind. “Ah, this code is transforming each item in this collection. It’s throwing some of the transformations away. It’s combining the remainder into a single output.”\n",
    "* map and reduce have many friends that provide useful, tweaked versions of their basic behaviour. For example: filter, all, any and find."
   ]
  },
  {
   "cell_type": "markdown",
   "metadata": {},
   "source": [
    "### Filtering\n",
    "\n",
    "The function `filter(function, list)` offers an elegant way to filter out all the elements of a list, for which the function function returns True.\n",
    "\n",
    "The function `filter(f,l`) needs a function `f` as its first argument. `f` returns a Boolean value, i.e. either True or False. This function will be applied to every element of the list `l`. Only if f returns True will the element of the list be included in the result list. "
   ]
  },
  {
   "cell_type": "code",
   "execution_count": 30,
   "metadata": {},
   "outputs": [
    {
     "name": "stdout",
     "output_type": "stream",
     "text": [
      "[1, 1, 3, 5, 13, 21, 55]\n"
     ]
    }
   ],
   "source": [
    "fib = [0,1,1,2,3,5,8,13,21,34,55]\n",
    "\n",
    "result = filter(lambda x: x % 2 != 0, fib)\n",
    "print(result)"
   ]
  },
  {
   "cell_type": "code",
   "execution_count": 31,
   "metadata": {},
   "outputs": [
    {
     "name": "stdout",
     "output_type": "stream",
     "text": [
      "[0, 2, 8, 34]\n"
     ]
    }
   ],
   "source": [
    "result = filter(lambda x: x % 2 == 0, fib)\n",
    "print(list(result))"
   ]
  },
  {
   "cell_type": "code",
   "execution_count": 18,
   "metadata": {},
   "outputs": [],
   "source": [
    "apis = [{'name': 'UpdateUser', 'type': 'POST', \"body\": \"{'name': '$name'}\"},\n",
    "    {'name': 'addUser', 'type': 'POST', \"body\": \"{name : '$name'}\"},\n",
    "    {'name': 'listUsers', 'type': 'GET'}]"
   ]
  },
  {
   "cell_type": "code",
   "execution_count": null,
   "metadata": {
    "collapsed": true
   },
   "outputs": [],
   "source": [
    "posts = 0\n",
    "for api in apis:\n",
    "    if 'type' in api and api['type'] == 'POST':\n",
    "        posts += 1\n",
    "\n",
    "print(posts)"
   ]
  },
  {
   "cell_type": "code",
   "execution_count": 34,
   "metadata": {},
   "outputs": [
    {
     "name": "stdout",
     "output_type": "stream",
     "text": [
      "[{'body': \"{'name': '$name'}\", 'type': 'POST', 'name': 'UpdateUser'}, {'body': \"{name : '$name'}\", 'type': 'POST', 'name': 'addUser'}]\n",
      "2\n"
     ]
    }
   ],
   "source": [
    "posts = 0\n",
    "c = []\n",
    "\n",
    "c = filter(lambda x:'type' in x and x['type'] == 'POST', apis)\n",
    "print(c)\n",
    "print(len(list(c)))"
   ]
  },
  {
   "cell_type": "code",
   "execution_count": 39,
   "metadata": {
    "scrolled": true
   },
   "outputs": [
    {
     "name": "stdout",
     "output_type": "stream",
     "text": [
      "[160, 80]\n",
      "120\n"
     ]
    }
   ],
   "source": [
    "people = [{'name': 'Mary', 'height': 160},\n",
    "          {'name': 'Isla', 'height': 80},\n",
    "          {'name': 'Sam'}]\n",
    "\n",
    "heights = map(lambda x: x['height'],\n",
    "              filter(lambda x: 'height' in x, people))\n",
    "print(heights)\n",
    "\n",
    "if len(heights) > 0:\n",
    "    from operator import add\n",
    "    average_height = reduce(add, heights) / len(heights)\n",
    "    print(average_height)"
   ]
  }
 ],
 "metadata": {
  "kernelspec": {
   "display_name": "Python 3",
   "language": "python",
   "name": "python3"
  },
  "language_info": {
   "codemirror_mode": {
    "name": "ipython",
    "version": 3
   },
   "file_extension": ".py",
   "mimetype": "text/x-python",
   "name": "python",
   "nbconvert_exporter": "python",
   "pygments_lexer": "ipython3",
   "version": "3.6.1"
  }
 },
 "nbformat": 4,
 "nbformat_minor": 2
}
