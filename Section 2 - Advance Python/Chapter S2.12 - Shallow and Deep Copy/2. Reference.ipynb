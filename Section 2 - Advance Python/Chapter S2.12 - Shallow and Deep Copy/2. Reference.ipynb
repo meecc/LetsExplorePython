{
 "cells": [
  {
   "cell_type": "markdown",
   "metadata": {},
   "source": [
    "# Reference"
   ]
  },
  {
   "cell_type": "markdown",
   "metadata": {},
   "source": [
    "Before we discuss what `reference` means, lets start with a small exercise. We have a list `lst1`"
   ]
  },
  {
   "cell_type": "code",
   "execution_count": 22,
   "metadata": {},
   "outputs": [],
   "source": [
    "lst1 = [1, 32, 3, 43]"
   ]
  },
  {
   "cell_type": "markdown",
   "metadata": {},
   "source": [
    "Now, lets create `lst2` using assination to `lst1`"
   ]
  },
  {
   "cell_type": "code",
   "execution_count": 23,
   "metadata": {},
   "outputs": [
    {
     "name": "stdout",
     "output_type": "stream",
     "text": [
      "[1, 32, 3, 43] [1, 32, 3, 43]\n"
     ]
    }
   ],
   "source": [
    "lst2 = lst1\n",
    "print(lst1, lst2)"
   ]
  },
  {
   "cell_type": "markdown",
   "metadata": {},
   "source": [
    "What we have now is that `lst1` and `lst2` pointing to same memory location, its not a copy but two identifiers pointing to a single memory location. We can prove it by using `id` function "
   ]
  },
  {
   "cell_type": "code",
   "execution_count": 13,
   "metadata": {},
   "outputs": [
    {
     "name": "stdout",
     "output_type": "stream",
     "text": [
      "140557574935944 140557574935944\n"
     ]
    }
   ],
   "source": [
    "print(id(lst1), id(lst2))"
   ]
  },
  {
   "cell_type": "markdown",
   "metadata": {},
   "source": [
    "Now, lets try to change the value of one element of `lst1` and see its effect of `lst2`"
   ]
  },
  {
   "cell_type": "code",
   "execution_count": 14,
   "metadata": {},
   "outputs": [
    {
     "name": "stdout",
     "output_type": "stream",
     "text": [
      "[1, 32, 3, 'TEST'] [1, 32, 3, 'TEST']\n",
      "140557574935944 140557574935944\n"
     ]
    }
   ],
   "source": [
    "lst2[3] = \"TEST\"\n",
    "print(lst1, lst2)\n",
    "print(id(lst1), id(lst2))"
   ]
  },
  {
   "cell_type": "markdown",
   "metadata": {},
   "source": [
    "What we observed is that, since both the identifier's were pointing to same memory location, change in one gets refected in another. \n",
    "\n",
    "Now what happens if we delete one of the identifier. Lets try"
   ]
  },
  {
   "cell_type": "code",
   "execution_count": 15,
   "metadata": {},
   "outputs": [],
   "source": [
    "del(lst1)"
   ]
  },
  {
   "cell_type": "markdown",
   "metadata": {},
   "source": [
    "So we deleted identifier `lst1` and now lets check if `lst2` still exists"
   ]
  },
  {
   "cell_type": "code",
   "execution_count": 16,
   "metadata": {},
   "outputs": [
    {
     "name": "stdout",
     "output_type": "stream",
     "text": [
      "[1, 32, 3, 'TEST'] 140557574935944\n"
     ]
    }
   ],
   "source": [
    "print(lst2, id(lst2))"
   ]
  },
  {
   "cell_type": "markdown",
   "metadata": {},
   "source": [
    "so, `lst2` and its value still lives "
   ]
  },
  {
   "cell_type": "code",
   "execution_count": 24,
   "metadata": {},
   "outputs": [],
   "source": [
    "del(lst2)"
   ]
  },
  {
   "cell_type": "markdown",
   "metadata": {},
   "source": [
    "So, now we have deleted `lst2` also, trying to access it will result in error as shown below"
   ]
  },
  {
   "cell_type": "markdown",
   "metadata": {},
   "source": [
    "```python\n",
    "print(id(lst2))\n",
    "```"
   ]
  },
  {
   "cell_type": "markdown",
   "metadata": {},
   "source": [
    "```python\n",
    "---------------------------------------------------------------------------\n",
    "NameError                                 Traceback (most recent call last)\n",
    "<ipython-input-7-b9dd8f0bc209> in <module>()\n",
    "----> 1 print(id(lst2))\n",
    "\n",
    "NameError: name 'lst2' is not defined\n",
    "\n",
    "```"
   ]
  },
  {
   "cell_type": "markdown",
   "metadata": {},
   "source": [
    "Lets try to find the reasons behind the above beharior. "
   ]
  },
  {
   "cell_type": "markdown",
   "metadata": {},
   "source": [
    "### What is Strong reference"
   ]
  },
  {
   "cell_type": "markdown",
   "metadata": {},
   "source": [
    "When memory is referenced by a variable, its called **strong reference**. What that means is that untill all the strong references are removed from the memory location, it is not removed."
   ]
  },
  {
   "cell_type": "code",
   "execution_count": 26,
   "metadata": {},
   "outputs": [
    {
     "name": "stdout",
     "output_type": "stream",
     "text": [
      "101 140557821047136\n",
      "101 140557821047136\n"
     ]
    }
   ],
   "source": [
    "a = 101\n",
    "b = a\n",
    "print(a, id(a))\n",
    "print(b, id(b))"
   ]
  },
  {
   "cell_type": "code",
   "execution_count": 27,
   "metadata": {},
   "outputs": [
    {
     "name": "stdout",
     "output_type": "stream",
     "text": [
      "101 140557821047136\n"
     ]
    }
   ],
   "source": [
    "del(a)\n",
    "# print(a, id(a))\n",
    "print(b, id(b))"
   ]
  },
  {
   "cell_type": "code",
   "execution_count": 29,
   "metadata": {},
   "outputs": [
    {
     "ename": "NameError",
     "evalue": "name 'b' is not defined",
     "output_type": "error",
     "traceback": [
      "\u001b[0;31m---------------------------------------------------------------------------\u001b[0m",
      "\u001b[0;31mNameError\u001b[0m                                 Traceback (most recent call last)",
      "\u001b[0;32m<ipython-input-29-e493df616d2a>\u001b[0m in \u001b[0;36m<module>\u001b[0;34m()\u001b[0m\n\u001b[0;32m----> 1\u001b[0;31m \u001b[0;32mdel\u001b[0m\u001b[0;34m(\u001b[0m\u001b[0mb\u001b[0m\u001b[0;34m)\u001b[0m\u001b[0;34m\u001b[0m\u001b[0m\n\u001b[0m",
      "\u001b[0;31mNameError\u001b[0m: name 'b' is not defined"
     ]
    }
   ],
   "source": [
    "del(b)"
   ]
  },
  {
   "cell_type": "code",
   "execution_count": 34,
   "metadata": {},
   "outputs": [
    {
     "name": "stdout",
     "output_type": "stream",
     "text": [
      "नमस्ते\n",
      "self destruct initiated\n",
      "नमस्ते\n"
     ]
    }
   ],
   "source": [
    "import sys\n",
    "\n",
    "class MayaHello:\n",
    "    def __init__(self, lang='hi'):\n",
    "        self.lang = lang\n",
    "    \n",
    "    def hello(self):\n",
    "        if(self.lang == 'hi'):\n",
    "            return \"नमस्ते\"\n",
    "        elif(self.lang == 'de'):\n",
    "            return \"Hallo\"\n",
    "        else:\n",
    "            return (\"Hello\")\n",
    "    \n",
    "    def __del__(self):\n",
    "        print(\"self destruct initiated\")\n",
    "        del self.lang\n",
    "\n",
    "a = MayaHello('hi')\n",
    "print(a.hello())\n",
    "sys.stdout.flush()\n",
    "b = a \n",
    "print(b.hello()) \n",
    "sys.stdout.flush()"
   ]
  },
  {
   "cell_type": "code",
   "execution_count": 35,
   "metadata": {},
   "outputs": [
    {
     "name": "stdout",
     "output_type": "stream",
     "text": [
      "नमस्ते\n"
     ]
    }
   ],
   "source": [
    "print(a.hello())"
   ]
  },
  {
   "cell_type": "markdown",
   "metadata": {},
   "source": [
    "## Weak Reference"
   ]
  },
  {
   "cell_type": "markdown",
   "metadata": {},
   "source": [
    "We have seen that strong reference, increases the reference count, where as Weak references have no effect on the reference count for an object. \n",
    "\n",
    "Weak reference is Non-permanent References to Objects and is accomplised with the help of `weakref` module in the Python standard library."
   ]
  },
  {
   "cell_type": "markdown",
   "metadata": {},
   "source": [
    "Python garbage collector can free the memory if it's only referenced by weak references, However, till that happens weak reference may return the object, but its not guaranteed."
   ]
  },
  {
   "cell_type": "markdown",
   "metadata": {},
   "source": [
    "Lets try the examples, which we created in strong reference and see that happens to them when we use `weakref` instead."
   ]
  },
  {
   "cell_type": "code",
   "execution_count": 53,
   "metadata": {},
   "outputs": [
    {
     "name": "stdout",
     "output_type": "stream",
     "text": [
      "self destruct initiated\n",
      "<__main__.MayaHello object at 0x7fd61c556550> 140557575087440\n",
      "<weakref at 0x7fd61c4d1048; to 'MayaHello' at 0x7fd61c556550> 140557574541384\n"
     ]
    }
   ],
   "source": [
    "import weakref\n",
    "\n",
    "a = MayaHello()\n",
    "\n",
    "b = weakref.ref(a)\n",
    "print(a, id(a))\n",
    "print(b, id(b))"
   ]
  },
  {
   "cell_type": "code",
   "execution_count": 54,
   "metadata": {},
   "outputs": [
    {
     "name": "stdout",
     "output_type": "stream",
     "text": [
      "नमस्ते\n"
     ]
    }
   ],
   "source": [
    "print(a.hello())"
   ]
  },
  {
   "cell_type": "markdown",
   "metadata": {},
   "source": [
    "Now, lets delete the `b` identifier"
   ]
  },
  {
   "cell_type": "code",
   "execution_count": 55,
   "metadata": {},
   "outputs": [],
   "source": [
    "del(b)"
   ]
  },
  {
   "cell_type": "markdown",
   "metadata": {},
   "source": [
    "and, check its effect if any on `a`"
   ]
  },
  {
   "cell_type": "code",
   "execution_count": 57,
   "metadata": {},
   "outputs": [
    {
     "name": "stdout",
     "output_type": "stream",
     "text": [
      "नमस्ते\n"
     ]
    }
   ],
   "source": [
    "print(a.hello())"
   ]
  },
  {
   "cell_type": "markdown",
   "metadata": {},
   "source": [
    "Lets create another weakref of a and when try to delete `a` and check its effect in weakref created."
   ]
  },
  {
   "cell_type": "code",
   "execution_count": 58,
   "metadata": {},
   "outputs": [
    {
     "name": "stdout",
     "output_type": "stream",
     "text": [
      "<__main__.MayaHello object at 0x7fd61c556550> 140557575087440\n",
      "<weakref at 0x7fd61c4d1638; to 'MayaHello' at 0x7fd61c556550> 140557574542904\n"
     ]
    }
   ],
   "source": [
    "b = weakref.ref(a)\n",
    "print(a, id(a))\n",
    "print(b, id(b))"
   ]
  },
  {
   "cell_type": "code",
   "execution_count": 59,
   "metadata": {},
   "outputs": [
    {
     "name": "stdout",
     "output_type": "stream",
     "text": [
      "self destruct initiated\n"
     ]
    }
   ],
   "source": [
    "del(a)"
   ]
  },
  {
   "cell_type": "markdown",
   "metadata": {},
   "source": [
    "```python\n",
    "print(b.hello())\n",
    "```"
   ]
  },
  {
   "cell_type": "markdown",
   "metadata": {},
   "source": [
    "```\n",
    "---------------------------------------------------------------------------\n",
    "AttributeError                            Traceback (most recent call last)\n",
    "<ipython-input-60-38ed82fe8e5b> in <module>()\n",
    "----> 1 print(b.hello())\n",
    "\n",
    "AttributeError: 'weakref' object has no attribute 'hello'\n",
    "\n",
    "```"
   ]
  },
  {
   "cell_type": "markdown",
   "metadata": {},
   "source": [
    "### When to Use "
   ]
  },
  {
   "cell_type": "markdown",
   "metadata": {},
   "source": [
    "Weak references are used \n",
    "- to refer to objects which are expensive in nature and thus copying is not advised\n",
    "- to implement caches"
   ]
  },
  {
   "cell_type": "markdown",
   "metadata": {},
   "source": [
    "Weak references to objects are managed through the ref class. To retrieve the original object, call the reference object."
   ]
  },
  {
   "cell_type": "markdown",
   "metadata": {},
   "source": [
    "** Reference URL's **\n",
    "- https://stackoverflow.com/questions/2436302/when-to-use-weak-references-in-python\n",
    "- https://stackoverflow.com/questions/1507566/how-and-when-to-appropriately-use-weakref-in-python\n",
    "\n",
    "\n",
    "The typical use for weak references is if A has a reference to B and B has a reference to A. Without a proper cycle-detecting garbage collector, those two objects would never get GC'd even if there are no references to either from the \"outside\". However if one of the references is \"weak\", the objects will get properly GC'd.\n",
    "\n",
    "However, Python does have a cycle-detecting garbage collector (since 2.0!), so that doesn't count :)\n",
    "\n",
    "Another use for weak references is for caches. It's mentioned in the weakref documentation:\n",
    "\n",
    "A primary use for weak references is to implement caches or mappings holding large objects, where it’s desired that a large object not be kept alive solely because it appears in a cache or mapping.\n",
    "If the GC decides to destroy one of those objects, and you need it, you can just recalculate / refetch the data."
   ]
  },
  {
   "cell_type": "markdown",
   "metadata": {},
   "source": [
    "As a more transparent alternative to weakref.ref, we can use weakref.proxy. This call requires a strong reference to an object as its first argument and returns a weak reference proxy. The proxy behaves just like a strong reference, but throws an exception when used after the target is dead:"
   ]
  },
  {
   "cell_type": "code",
   "execution_count": 53,
   "metadata": {},
   "outputs": [
    {
     "name": "stdout",
     "output_type": "stream",
     "text": [
      "(Deleting <__main__.ExpensiveObject instance at 0x7f40e6ffa1b8>)\n",
      "('ref proxy:', <weakproxy at 0x7f40e6f79310 to NoneType at 0x7f41010c3e40>)\n"
     ]
    }
   ],
   "source": [
    "obj = ExpensiveObject()\n",
    "b = weakref.proxy(obj)\n",
    "del(obj)\n",
    "# print('obj:', obj)\n",
    "print('ref proxy:', b) # Pointing to None Type"
   ]
  },
  {
   "cell_type": "markdown",
   "metadata": {},
   "source": [
    "### Reference Callbacks\n",
    "\n",
    "The ref constructor accepts an optional callback function that is invoked when the referenced object is deleted.\n",
    "\n"
   ]
  },
  {
   "cell_type": "code",
   "execution_count": 63,
   "metadata": {},
   "outputs": [
    {
     "name": "stdout",
     "output_type": "stream",
     "text": [
      "obj: <__main__.ExpensiveObject object at 0x7fd61c4dd198>\n",
      "ref: <weakref at 0x7fd61c4de228; to 'ExpensiveObject' at 0x7fd61c4dd198>\n",
      "r(): <__main__.ExpensiveObject object at 0x7fd61c4dd198>\n",
      "deleting obj\n",
      "(Deleting <__main__.ExpensiveObject object at 0x7fd61c4dd198>)\n",
      "callback(<weakref at 0x7fd61c4de228; dead>)\n",
      "r(): None\n"
     ]
    }
   ],
   "source": [
    "import weakref\n",
    "\n",
    "\n",
    "class ExpensiveObject:\n",
    "\n",
    "    def __del__(self):\n",
    "        print('(Deleting {})'.format(self))\n",
    "\n",
    "\n",
    "def callback(reference):\n",
    "    \"\"\"Invoked when referenced object is deleted\"\"\"\n",
    "    print('callback({!r})'.format(reference))\n",
    "\n",
    "\n",
    "obj = ExpensiveObject()\n",
    "r = weakref.ref(obj, callback)\n",
    "\n",
    "print('obj:', obj)\n",
    "print('ref:', r)\n",
    "print('r():', r())\n",
    "\n",
    "print('deleting obj')\n",
    "del obj\n",
    "print('r():', r())"
   ]
  },
  {
   "cell_type": "markdown",
   "metadata": {},
   "source": [
    "## References"
   ]
  },
  {
   "cell_type": "markdown",
   "metadata": {},
   "source": [
    "- https://mindtrove.info/python-weak-references/"
   ]
  }
 ],
 "metadata": {
  "kernelspec": {
   "display_name": "Python 3",
   "language": "python",
   "name": "python3"
  },
  "language_info": {
   "codemirror_mode": {
    "name": "ipython",
    "version": 3
   },
   "file_extension": ".py",
   "mimetype": "text/x-python",
   "name": "python",
   "nbconvert_exporter": "python",
   "pygments_lexer": "ipython3",
   "version": "3.6.1"
  }
 },
 "nbformat": 4,
 "nbformat_minor": 2
}
